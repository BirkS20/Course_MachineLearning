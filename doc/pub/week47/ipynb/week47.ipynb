{
 "cells": [
  {
   "cell_type": "markdown",
   "id": "14292f55",
   "metadata": {
    "editable": true
   },
   "source": [
    "<!-- HTML file automatically generated from DocOnce source (https://github.com/doconce/doconce/)\n",
    "doconce format html week47.do.txt --no_mako -->\n",
    "<!-- dom:TITLE: Week 47: Support Vector Machines  and Summary of Course -->"
   ]
  },
  {
   "cell_type": "markdown",
   "id": "6b80e5f6",
   "metadata": {
    "editable": true
   },
   "source": [
    "# Week 47: Support Vector Machines  and Summary of Course\n",
    "**Morten Hjorth-Jensen**, Department of Physics, University of Oslo and Department of Physics and Astronomy and National Superconducting Cyclotron Laboratory, Michigan State University\n",
    "\n",
    "Date: **Nov 20, 2021**\n",
    "\n",
    "Copyright 1999-2021, Morten Hjorth-Jensen. Released under CC Attribution-NonCommercial 4.0 license"
   ]
  },
  {
   "cell_type": "markdown",
   "id": "1bc032ad",
   "metadata": {
    "editable": true
   },
   "source": [
    "## Overview of week 47\n",
    "\n",
    "* **Thursday**: Support Vector Machines, classification and regression. \n",
    "\n",
    "* **Friday**: Support Vector Machines and Summary of Course\n",
    "\n",
    "Geron's chapter 5. Chapter 12 (sections 12.1-12.3 are the most relevant ones)  of Hastie et al contains also a good discussion.\n",
    "\n",
    "[See overview video on Support Vector Machines](https://www.youtube.com/watch?v=efR1C6CvhmE&ab_channel=StatQuestwithJoshStarmer). See also [this video](https://www.youtube.com/watch?v=N1vOgolbjSc&ab_channel=AliceZhao)."
   ]
  },
  {
   "cell_type": "markdown",
   "id": "847c9d3a",
   "metadata": {
    "editable": true
   },
   "source": [
    "## Support Vector Machines, overarching aims\n",
    "\n",
    "A Support Vector Machine (SVM) is a very powerful and versatile\n",
    "Machine Learning method, capable of performing linear or nonlinear\n",
    "classification, regression, and even outlier detection. It is one of\n",
    "the most popular models in Machine Learning, and anyone interested in\n",
    "Machine Learning should have it in their toolbox. SVMs are\n",
    "particularly well suited for classification of complex but small-sized or\n",
    "medium-sized datasets.  \n",
    "\n",
    "The case with two well-separated classes only can be understood in an\n",
    "intuitive way in terms of lines in a two-dimensional space separating\n",
    "the two classes (see figure below).\n",
    "\n",
    "The basic mathematics behind the SVM is however less familiar to most of us. \n",
    "It relies on the definition of hyperplanes and the\n",
    "definition of a **margin** which separates classes (in case of\n",
    "classification problems) of variables. It is also used for regression\n",
    "problems.\n",
    "\n",
    "With SVMs we distinguish between hard margin and soft margins. The\n",
    "latter introduces a so-called softening parameter to be discussed\n",
    "below.  We distinguish also between linear and non-linear\n",
    "approaches. The latter are the most frequent ones since it is rather\n",
    "unlikely that we can separate classes easily by say straight lines."
   ]
  },
  {
   "cell_type": "markdown",
   "id": "3b791677",
   "metadata": {
    "editable": true
   },
   "source": [
    "## Hyperplanes and all that\n",
    "\n",
    "The theory behind support vector machines (SVM hereafter) is based on\n",
    "the mathematical description of so-called hyperplanes. Let us start\n",
    "with a two-dimensional case. This will also allow us to introduce our\n",
    "first SVM examples. These will be tailored to the case of two specific\n",
    "classes, as displayed in the figure here based on the usage of the petal data.\n",
    "\n",
    "We assume here that our data set can be well separated into two\n",
    "domains, where a straight line does the job in the separating the two\n",
    "classes. Here the two classes are represented by either squares or\n",
    "circles."
   ]
  },
  {
   "cell_type": "code",
   "execution_count": 1,
   "id": "ad80a795",
   "metadata": {
    "collapsed": false,
    "editable": true
   },
   "outputs": [],
   "source": [
    "%matplotlib inline\n",
    "\n",
    "from sklearn import datasets\n",
    "from sklearn.svm import SVC, LinearSVC\n",
    "from sklearn.linear_model import SGDClassifier\n",
    "from sklearn.preprocessing import StandardScaler\n",
    "import matplotlib\n",
    "import matplotlib.pyplot as plt\n",
    "plt.rcParams['axes.labelsize'] = 14\n",
    "plt.rcParams['xtick.labelsize'] = 12\n",
    "plt.rcParams['ytick.labelsize'] = 12\n",
    "\n",
    "\n",
    "iris = datasets.load_iris()\n",
    "X = iris[\"data\"][:, (2, 3)]  # petal length, petal width\n",
    "y = iris[\"target\"]\n",
    "\n",
    "setosa_or_versicolor = (y == 0) | (y == 1)\n",
    "X = X[setosa_or_versicolor]\n",
    "y = y[setosa_or_versicolor]\n",
    "\n",
    "\n",
    "\n",
    "C = 5\n",
    "alpha = 1 / (C * len(X))\n",
    "\n",
    "lin_clf = LinearSVC(loss=\"hinge\", C=C, random_state=42)\n",
    "svm_clf = SVC(kernel=\"linear\", C=C)\n",
    "sgd_clf = SGDClassifier(loss=\"hinge\", learning_rate=\"constant\", eta0=0.001, alpha=alpha,\n",
    "                        max_iter=100000, random_state=42)\n",
    "\n",
    "scaler = StandardScaler()\n",
    "X_scaled = scaler.fit_transform(X)\n",
    "\n",
    "lin_clf.fit(X_scaled, y)\n",
    "svm_clf.fit(X_scaled, y)\n",
    "sgd_clf.fit(X_scaled, y)\n",
    "\n",
    "print(\"LinearSVC:                   \", lin_clf.intercept_, lin_clf.coef_)\n",
    "print(\"SVC:                         \", svm_clf.intercept_, svm_clf.coef_)\n",
    "print(\"SGDClassifier(alpha={:.5f}):\".format(sgd_clf.alpha), sgd_clf.intercept_, sgd_clf.coef_)\n",
    "\n",
    "# Compute the slope and bias of each decision boundary\n",
    "w1 = -lin_clf.coef_[0, 0]/lin_clf.coef_[0, 1]\n",
    "b1 = -lin_clf.intercept_[0]/lin_clf.coef_[0, 1]\n",
    "w2 = -svm_clf.coef_[0, 0]/svm_clf.coef_[0, 1]\n",
    "b2 = -svm_clf.intercept_[0]/svm_clf.coef_[0, 1]\n",
    "w3 = -sgd_clf.coef_[0, 0]/sgd_clf.coef_[0, 1]\n",
    "b3 = -sgd_clf.intercept_[0]/sgd_clf.coef_[0, 1]\n",
    "\n",
    "# Transform the decision boundary lines back to the original scale\n",
    "line1 = scaler.inverse_transform([[-10, -10 * w1 + b1], [10, 10 * w1 + b1]])\n",
    "line2 = scaler.inverse_transform([[-10, -10 * w2 + b2], [10, 10 * w2 + b2]])\n",
    "line3 = scaler.inverse_transform([[-10, -10 * w3 + b3], [10, 10 * w3 + b3]])\n",
    "\n",
    "# Plot all three decision boundaries\n",
    "plt.figure(figsize=(11, 4))\n",
    "plt.plot(line1[:, 0], line1[:, 1], \"k:\", label=\"LinearSVC\")\n",
    "plt.plot(line2[:, 0], line2[:, 1], \"b--\", linewidth=2, label=\"SVC\")\n",
    "plt.plot(line3[:, 0], line3[:, 1], \"r-\", label=\"SGDClassifier\")\n",
    "plt.plot(X[:, 0][y==1], X[:, 1][y==1], \"bs\") # label=\"Iris-Versicolor\"\n",
    "plt.plot(X[:, 0][y==0], X[:, 1][y==0], \"yo\") # label=\"Iris-Setosa\"\n",
    "plt.xlabel(\"Petal length\", fontsize=14)\n",
    "plt.ylabel(\"Petal width\", fontsize=14)\n",
    "plt.legend(loc=\"upper center\", fontsize=14)\n",
    "plt.axis([0, 5.5, 0, 2])\n",
    "\n",
    "plt.show()"
   ]
  },
  {
   "cell_type": "markdown",
   "id": "2d93325e",
   "metadata": {
    "editable": true
   },
   "source": [
    "## What is a hyperplane?\n",
    "\n",
    "The aim of the SVM algorithm is to find a hyperplane in a\n",
    "$p$-dimensional space, where $p$ is the number of features that\n",
    "distinctly classifies the data points.\n",
    "\n",
    "In a $p$-dimensional space, a hyperplane is what we call an affine subspace of dimension of $p-1$.\n",
    "As an example, in two dimension, a hyperplane is simply as straight line while in three dimensions it is \n",
    "a two-dimensional subspace, or stated simply, a plane. \n",
    "\n",
    "In two dimensions, with the variables $x_1$ and $x_2$, the hyperplane is defined as"
   ]
  },
  {
   "cell_type": "markdown",
   "id": "217d510d",
   "metadata": {
    "editable": true
   },
   "source": [
    "$$\n",
    "b+w_1x_1+w_2x_2=0,\n",
    "$$"
   ]
  },
  {
   "cell_type": "markdown",
   "id": "f0887e40",
   "metadata": {
    "editable": true
   },
   "source": [
    "where $b$ is the intercept and $w_1$ and $w_2$ define the elements of a vector orthogonal to the line \n",
    "$b+w_1x_1+w_2x_2=0$. \n",
    "In two dimensions we define the vectors $\\boldsymbol{x} =[x1,x2]$ and $\\boldsymbol{w}=[w1,w2]$. \n",
    "We can then rewrite the above equation as"
   ]
  },
  {
   "cell_type": "markdown",
   "id": "e1e43dfe",
   "metadata": {
    "editable": true
   },
   "source": [
    "$$\n",
    "\\boldsymbol{x}^T\\boldsymbol{w}+b=0.\n",
    "$$"
   ]
  },
  {
   "cell_type": "markdown",
   "id": "e1cf4d6f",
   "metadata": {
    "editable": true
   },
   "source": [
    "## A $p$-dimensional space of features\n",
    "\n",
    "We limit ourselves to two classes of outputs $y_i$ and assign these classes the values $y_i = \\pm 1$. \n",
    "In a $p$-dimensional space of say $p$ features we have a hyperplane defines as"
   ]
  },
  {
   "cell_type": "markdown",
   "id": "92f49457",
   "metadata": {
    "editable": true
   },
   "source": [
    "$$\n",
    "b+wx_1+w_2x_2+\\dots +w_px_p=0.\n",
    "$$"
   ]
  },
  {
   "cell_type": "markdown",
   "id": "ea725e8b",
   "metadata": {
    "editable": true
   },
   "source": [
    "If we define a \n",
    "matrix $\\boldsymbol{X}=\\left[\\boldsymbol{x}_1,\\boldsymbol{x}_2,\\dots, \\boldsymbol{x}_p\\right]$\n",
    "of dimension $n\\times p$, where $n$ represents the observations for each feature and each vector $x_i$ is a column vector of the matrix $\\boldsymbol{X}$,"
   ]
  },
  {
   "cell_type": "markdown",
   "id": "a8319348",
   "metadata": {
    "editable": true
   },
   "source": [
    "$$\n",
    "\\boldsymbol{x}_i = \\begin{bmatrix} x_{i1} \\\\ x_{i2} \\\\ \\dots \\\\ \\dots \\\\ x_{ip} \\end{bmatrix}.\n",
    "$$"
   ]
  },
  {
   "cell_type": "markdown",
   "id": "86169d95",
   "metadata": {
    "editable": true
   },
   "source": [
    "If the above condition is not met for a given vector $\\boldsymbol{x}_i$ we have"
   ]
  },
  {
   "cell_type": "markdown",
   "id": "f8a6e5de",
   "metadata": {
    "editable": true
   },
   "source": [
    "$$\n",
    "b+w_1x_{i1}+w_2x_{i2}+\\dots +w_px_{ip} >0,\n",
    "$$"
   ]
  },
  {
   "cell_type": "markdown",
   "id": "dca365c8",
   "metadata": {
    "editable": true
   },
   "source": [
    "if our output $y_i=1$.\n",
    "In this case we say that $\\boldsymbol{x}_i$ lies on one of the sides of the hyperplane and if"
   ]
  },
  {
   "cell_type": "markdown",
   "id": "1a9d1fc9",
   "metadata": {
    "editable": true
   },
   "source": [
    "$$\n",
    "b+w_1x_{i1}+w_2x_{i2}+\\dots +w_px_{ip} < 0,\n",
    "$$"
   ]
  },
  {
   "cell_type": "markdown",
   "id": "2c6da3c8",
   "metadata": {
    "editable": true
   },
   "source": [
    "for the class of observations $y_i=-1$, \n",
    "then $\\boldsymbol{x}_i$ lies on the other side. \n",
    "\n",
    "Equivalently, for the two classes of observations we have"
   ]
  },
  {
   "cell_type": "markdown",
   "id": "f75d02dd",
   "metadata": {
    "editable": true
   },
   "source": [
    "$$\n",
    "y_i\\left(b+w_1x_{i1}+w_2x_{i2}+\\dots +w_px_{ip}\\right) > 0.\n",
    "$$"
   ]
  },
  {
   "cell_type": "markdown",
   "id": "ca647eb8",
   "metadata": {
    "editable": true
   },
   "source": [
    "When we try to separate hyperplanes, if it exists, we can use it to construct a natural classifier: a test observation is assigned a given class depending on which side of the hyperplane it is located."
   ]
  },
  {
   "cell_type": "markdown",
   "id": "d1a0cf9d",
   "metadata": {
    "editable": true
   },
   "source": [
    "## The two-dimensional case\n",
    "\n",
    "Let us try to develop our intuition about SVMs by limiting ourselves to a two-dimensional\n",
    "plane.  To separate the two classes of data points, there are many\n",
    "possible lines (hyperplanes if you prefer a more strict naming)  \n",
    "that could be chosen. Our objective is to find a\n",
    "plane that has the maximum margin, i.e the maximum distance between\n",
    "data points of both classes. Maximizing the margin distance provides\n",
    "some reinforcement so that future data points can be classified with\n",
    "more confidence.\n",
    "\n",
    "What a linear classifier attempts to accomplish is to split the\n",
    "feature space into two half spaces by placing a hyperplane between the\n",
    "data points.  This hyperplane will be our decision boundary.  All\n",
    "points on one side of the plane will belong to class one and all points\n",
    "on the other side of the plane will belong to the second class two.\n",
    "\n",
    "Unfortunately there are many ways in which we can place a hyperplane\n",
    "to divide the data.  Below is an example of two candidate hyperplanes\n",
    "for our data sample."
   ]
  },
  {
   "cell_type": "markdown",
   "id": "5dc7f973",
   "metadata": {
    "editable": true
   },
   "source": [
    "## Getting into the details\n",
    "\n",
    "Let us define the function"
   ]
  },
  {
   "cell_type": "markdown",
   "id": "52aeefde",
   "metadata": {
    "editable": true
   },
   "source": [
    "$$\n",
    "f(x) = \\boldsymbol{w}^T\\boldsymbol{x}+b = 0,\n",
    "$$"
   ]
  },
  {
   "cell_type": "markdown",
   "id": "a7415eca",
   "metadata": {
    "editable": true
   },
   "source": [
    "as the function that determines the line $L$ that separates two classes (our two features), see the figure here. \n",
    "\n",
    "Any point defined by $\\boldsymbol{x}_i$ and $\\boldsymbol{x}_2$ on the line $L$ will satisfy $\\boldsymbol{w}^T(\\boldsymbol{x}_1-\\boldsymbol{x}_2)=0$. \n",
    "\n",
    "The signed distance $\\delta$ from any point defined by a vector $\\boldsymbol{x}$ and a point $\\boldsymbol{x}_0$ on the line $L$ is then"
   ]
  },
  {
   "cell_type": "markdown",
   "id": "7d38c251",
   "metadata": {
    "editable": true
   },
   "source": [
    "$$\n",
    "\\delta = \\frac{1}{\\vert\\vert \\boldsymbol{w}\\vert\\vert}(\\boldsymbol{w}^T\\boldsymbol{x}+b).\n",
    "$$"
   ]
  },
  {
   "cell_type": "markdown",
   "id": "495c531b",
   "metadata": {
    "editable": true
   },
   "source": [
    "## First attempt at a minimization approach\n",
    "\n",
    "How do we find the parameter $b$ and the vector $\\boldsymbol{w}$? What we could\n",
    "do is to define a cost function which now contains the set of all\n",
    "misclassified points $M$ and attempt to minimize this function"
   ]
  },
  {
   "cell_type": "markdown",
   "id": "bc38eb64",
   "metadata": {
    "editable": true
   },
   "source": [
    "$$\n",
    "C(\\boldsymbol{w},b) = -\\sum_{i\\in M} y_i(\\boldsymbol{w}^T\\boldsymbol{x}_i+b).\n",
    "$$"
   ]
  },
  {
   "cell_type": "markdown",
   "id": "dcfc773e",
   "metadata": {
    "editable": true
   },
   "source": [
    "We could now for example define all values $y_i =1$ as misclassified in case we have $\\boldsymbol{w}^T\\boldsymbol{x}_i+b < 0$ and the opposite if we have $y_i=-1$. Taking the derivatives gives us"
   ]
  },
  {
   "cell_type": "markdown",
   "id": "eb09ba6c",
   "metadata": {
    "editable": true
   },
   "source": [
    "$$\n",
    "\\frac{\\partial C}{\\partial b} = -\\sum_{i\\in M} y_i,\n",
    "$$"
   ]
  },
  {
   "cell_type": "markdown",
   "id": "df2c2a65",
   "metadata": {
    "editable": true
   },
   "source": [
    "and"
   ]
  },
  {
   "cell_type": "markdown",
   "id": "76d329d2",
   "metadata": {
    "editable": true
   },
   "source": [
    "$$\n",
    "\\frac{\\partial C}{\\partial \\boldsymbol{w}} = -\\sum_{i\\in M} y_ix_i.\n",
    "$$"
   ]
  },
  {
   "cell_type": "markdown",
   "id": "ff04dcd7",
   "metadata": {
    "editable": true
   },
   "source": [
    "## Solving the equations\n",
    "\n",
    "We can now use the Newton-Raphson method or different variants of the gradient descent family (from plain gradient descent to various stochastic gradient descent approaches) to solve the equations"
   ]
  },
  {
   "cell_type": "markdown",
   "id": "1b1507e4",
   "metadata": {
    "editable": true
   },
   "source": [
    "$$\n",
    "b \\leftarrow b +\\eta \\frac{\\partial C}{\\partial b},\n",
    "$$"
   ]
  },
  {
   "cell_type": "markdown",
   "id": "070a2947",
   "metadata": {
    "editable": true
   },
   "source": [
    "and"
   ]
  },
  {
   "cell_type": "markdown",
   "id": "4ec9d1a9",
   "metadata": {
    "editable": true
   },
   "source": [
    "$$\n",
    "\\boldsymbol{w} \\leftarrow \\boldsymbol{w} +\\eta \\frac{\\partial C}{\\partial \\boldsymbol{w}},\n",
    "$$"
   ]
  },
  {
   "cell_type": "markdown",
   "id": "f3dd50d5",
   "metadata": {
    "editable": true
   },
   "source": [
    "where $\\eta$ is our by now well-known learning rate."
   ]
  },
  {
   "cell_type": "markdown",
   "id": "fb099fc3",
   "metadata": {
    "editable": true
   },
   "source": [
    "## Code Example\n",
    "\n",
    "The equations we discussed above can be coded rather easily (the\n",
    "framework is similar to what we developed for logistic\n",
    "regression). We are going to set up a simple case with two classes only and we want to find a line which separates them the best possible way."
   ]
  },
  {
   "cell_type": "markdown",
   "id": "8a729395",
   "metadata": {
    "editable": true
   },
   "source": [
    "## Problems with the Simpler Approach\n",
    "\n",
    "There are however problems with this approach, although it looks\n",
    "pretty straightforward to implement. When running the above code, we see that we can easily end up with many diffeent lines which separate the two classes.\n",
    "\n",
    "For small\n",
    "gaps between the entries, we may also end up needing many iterations\n",
    "before the solutions converge and if the data cannot be separated\n",
    "properly into two distinct classes, we may not experience a converge\n",
    "at all."
   ]
  },
  {
   "cell_type": "markdown",
   "id": "405322b0",
   "metadata": {
    "editable": true
   },
   "source": [
    "## A better approach\n",
    "\n",
    "A better approach is rather to try to define a large margin between\n",
    "the two classes (if they are well separated from the beginning).\n",
    "\n",
    "Thus, we wish to find a margin $M$ with $\\boldsymbol{w}$ normalized to\n",
    "$\\vert\\vert \\boldsymbol{w}\\vert\\vert =1$ subject to the condition"
   ]
  },
  {
   "cell_type": "markdown",
   "id": "8c7d68fe",
   "metadata": {
    "editable": true
   },
   "source": [
    "$$\n",
    "y_i(\\boldsymbol{w}^T\\boldsymbol{x}_i+b) \\geq M \\hspace{0.1cm}\\forall i=1,2,\\dots, p.\n",
    "$$"
   ]
  },
  {
   "cell_type": "markdown",
   "id": "b75a185a",
   "metadata": {
    "editable": true
   },
   "source": [
    "All points are thus at a signed distance from the decision boundary defined by the line $L$. The parameters $b$ and $w_1$ and $w_2$ define this line. \n",
    "\n",
    "We seek thus the largest value $M$ defined by"
   ]
  },
  {
   "cell_type": "markdown",
   "id": "45e6204f",
   "metadata": {
    "editable": true
   },
   "source": [
    "$$\n",
    "\\frac{1}{\\vert \\vert \\boldsymbol{w}\\vert\\vert}y_i(\\boldsymbol{w}^T\\boldsymbol{x}_i+b) \\geq M \\hspace{0.1cm}\\forall i=1,2,\\dots, n,\n",
    "$$"
   ]
  },
  {
   "cell_type": "markdown",
   "id": "20514a04",
   "metadata": {
    "editable": true
   },
   "source": [
    "or just"
   ]
  },
  {
   "cell_type": "markdown",
   "id": "b60eeebc",
   "metadata": {
    "editable": true
   },
   "source": [
    "$$\n",
    "y_i(\\boldsymbol{w}^T\\boldsymbol{x}_i+b) \\geq M\\vert \\vert \\boldsymbol{w}\\vert\\vert \\hspace{0.1cm}\\forall i.\n",
    "$$"
   ]
  },
  {
   "cell_type": "markdown",
   "id": "20ccb807",
   "metadata": {
    "editable": true
   },
   "source": [
    "If we scale the equation so that $\\vert \\vert \\boldsymbol{w}\\vert\\vert = 1/M$, we have to find the minimum of \n",
    "$\\boldsymbol{w}^T\\boldsymbol{w}=\\vert \\vert \\boldsymbol{w}\\vert\\vert$ (the norm) subject to the condition"
   ]
  },
  {
   "cell_type": "markdown",
   "id": "d8110b1c",
   "metadata": {
    "editable": true
   },
   "source": [
    "$$\n",
    "y_i(\\boldsymbol{w}^T\\boldsymbol{x}_i+b) \\geq 1 \\hspace{0.1cm}\\forall i.\n",
    "$$"
   ]
  },
  {
   "cell_type": "markdown",
   "id": "c839f0aa",
   "metadata": {
    "editable": true
   },
   "source": [
    "We have thus defined our margin as the invers of the norm of\n",
    "$\\boldsymbol{w}$. We want to minimize the norm in order to have a as large as\n",
    "possible margin $M$. Before we proceed, we need to remind ourselves\n",
    "about Lagrangian multipliers."
   ]
  },
  {
   "cell_type": "markdown",
   "id": "1208bf5a",
   "metadata": {
    "editable": true
   },
   "source": [
    "## A quick Reminder on Lagrangian Multipliers\n",
    "\n",
    "Consider a function of three independent variables $f(x,y,z)$ . For the function $f$ to be an\n",
    "extreme we have"
   ]
  },
  {
   "cell_type": "markdown",
   "id": "a61cd44c",
   "metadata": {
    "editable": true
   },
   "source": [
    "$$\n",
    "df=0.\n",
    "$$"
   ]
  },
  {
   "cell_type": "markdown",
   "id": "8f721aa8",
   "metadata": {
    "editable": true
   },
   "source": [
    "A necessary and sufficient condition is"
   ]
  },
  {
   "cell_type": "markdown",
   "id": "f0e46bbc",
   "metadata": {
    "editable": true
   },
   "source": [
    "$$\n",
    "\\frac{\\partial f}{\\partial x} =\\frac{\\partial f}{\\partial y}=\\frac{\\partial f}{\\partial z}=0,\n",
    "$$"
   ]
  },
  {
   "cell_type": "markdown",
   "id": "474e989f",
   "metadata": {
    "editable": true
   },
   "source": [
    "due to"
   ]
  },
  {
   "cell_type": "markdown",
   "id": "05307bfe",
   "metadata": {
    "editable": true
   },
   "source": [
    "$$\n",
    "df = \\frac{\\partial f}{\\partial x}dx+\\frac{\\partial f}{\\partial y}dy+\\frac{\\partial f}{\\partial z}dz.\n",
    "$$"
   ]
  },
  {
   "cell_type": "markdown",
   "id": "d3809acd",
   "metadata": {
    "editable": true
   },
   "source": [
    "In many problems the variables $x,y,z$ are often subject to constraints (such as those above for the margin)\n",
    "so that they are no longer all independent. It is possible at least in principle to use each \n",
    "constraint to eliminate one variable\n",
    "and to proceed with a new and smaller set of independent varables.\n",
    "\n",
    "The use of so-called Lagrangian  multipliers is an alternative technique  when the elimination\n",
    "of variables is incovenient or undesirable.  Assume that we have an equation of constraint on \n",
    "the variables $x,y,z$"
   ]
  },
  {
   "cell_type": "markdown",
   "id": "349f6a53",
   "metadata": {
    "editable": true
   },
   "source": [
    "$$\n",
    "\\phi(x,y,z) = 0,\n",
    "$$"
   ]
  },
  {
   "cell_type": "markdown",
   "id": "52c50006",
   "metadata": {
    "editable": true
   },
   "source": [
    "resulting in"
   ]
  },
  {
   "cell_type": "markdown",
   "id": "2e24de43",
   "metadata": {
    "editable": true
   },
   "source": [
    "$$\n",
    "d\\phi = \\frac{\\partial \\phi}{\\partial x}dx+\\frac{\\partial \\phi}{\\partial y}dy+\\frac{\\partial \\phi}{\\partial z}dz =0.\n",
    "$$"
   ]
  },
  {
   "cell_type": "markdown",
   "id": "9d41d3eb",
   "metadata": {
    "editable": true
   },
   "source": [
    "Now we cannot set anymore"
   ]
  },
  {
   "cell_type": "markdown",
   "id": "e12b5bf5",
   "metadata": {
    "editable": true
   },
   "source": [
    "$$\n",
    "\\frac{\\partial f}{\\partial x} =\\frac{\\partial f}{\\partial y}=\\frac{\\partial f}{\\partial z}=0,\n",
    "$$"
   ]
  },
  {
   "cell_type": "markdown",
   "id": "004c70bc",
   "metadata": {
    "editable": true
   },
   "source": [
    "if $df=0$ is wanted\n",
    "because there are now only two independent variables!  Assume $x$ and $y$ are the independent \n",
    "variables.\n",
    "Then $dz$ is no longer arbitrary."
   ]
  },
  {
   "cell_type": "markdown",
   "id": "ba0b9524",
   "metadata": {
    "editable": true
   },
   "source": [
    "## Adding the Multiplier\n",
    "\n",
    "However, we can add to"
   ]
  },
  {
   "cell_type": "markdown",
   "id": "1aca26a8",
   "metadata": {
    "editable": true
   },
   "source": [
    "$$\n",
    "df = \\frac{\\partial f}{\\partial x}dx+\\frac{\\partial f}{\\partial y}dy+\\frac{\\partial f}{\\partial z}dz,\n",
    "$$"
   ]
  },
  {
   "cell_type": "markdown",
   "id": "3eee29ae",
   "metadata": {
    "editable": true
   },
   "source": [
    "a multiplum of $d\\phi$, viz. $\\lambda d\\phi$, resulting  in"
   ]
  },
  {
   "cell_type": "markdown",
   "id": "138716a6",
   "metadata": {
    "editable": true
   },
   "source": [
    "$$\n",
    "df+\\lambda d\\phi = (\\frac{\\partial f}{\\partial z}+\\lambda\n",
    "\\frac{\\partial \\phi}{\\partial x})dx+(\\frac{\\partial f}{\\partial y}+\\lambda\\frac{\\partial \\phi}{\\partial y})dy+\n",
    "(\\frac{\\partial f}{\\partial z}+\\lambda\\frac{\\partial \\phi}{\\partial z})dz =0.\n",
    "$$"
   ]
  },
  {
   "cell_type": "markdown",
   "id": "c0b94d06",
   "metadata": {
    "editable": true
   },
   "source": [
    "Our multiplier is chosen so that"
   ]
  },
  {
   "cell_type": "markdown",
   "id": "42eee105",
   "metadata": {
    "editable": true
   },
   "source": [
    "$$\n",
    "\\frac{\\partial f}{\\partial z}+\\lambda\\frac{\\partial \\phi}{\\partial z} =0.\n",
    "$$"
   ]
  },
  {
   "cell_type": "markdown",
   "id": "6d3fa055",
   "metadata": {
    "editable": true
   },
   "source": [
    "We need to remember that we took $dx$ and $dy$ to be arbitrary and thus we must have"
   ]
  },
  {
   "cell_type": "markdown",
   "id": "1a7c9969",
   "metadata": {
    "editable": true
   },
   "source": [
    "$$\n",
    "\\frac{\\partial f}{\\partial x}+\\lambda\\frac{\\partial \\phi}{\\partial x} =0,\n",
    "$$"
   ]
  },
  {
   "cell_type": "markdown",
   "id": "4c58c3a9",
   "metadata": {
    "editable": true
   },
   "source": [
    "and"
   ]
  },
  {
   "cell_type": "markdown",
   "id": "5053ea84",
   "metadata": {
    "editable": true
   },
   "source": [
    "$$\n",
    "\\frac{\\partial f}{\\partial y}+\\lambda\\frac{\\partial \\phi}{\\partial y} =0.\n",
    "$$"
   ]
  },
  {
   "cell_type": "markdown",
   "id": "3503e4c8",
   "metadata": {
    "editable": true
   },
   "source": [
    "When all these equations are satisfied, $df=0$.  We have four unknowns, $x,y,z$ and\n",
    "$\\lambda$. Actually we want only $x,y,z$, $\\lambda$ needs not to be determined, \n",
    "it is therefore often called\n",
    "Lagrange's undetermined multiplier.\n",
    "If we have a set of constraints $\\phi_k$ we have the equations"
   ]
  },
  {
   "cell_type": "markdown",
   "id": "2e922854",
   "metadata": {
    "editable": true
   },
   "source": [
    "$$\n",
    "\\frac{\\partial f}{\\partial x_i}+\\sum_k\\lambda_k\\frac{\\partial \\phi_k}{\\partial x_i} =0.\n",
    "$$"
   ]
  },
  {
   "cell_type": "markdown",
   "id": "f7a79c79",
   "metadata": {
    "editable": true
   },
   "source": [
    "## Setting up the Problem\n",
    "In order to solve the above problem, we define the following Lagrangian function to be minimized"
   ]
  },
  {
   "cell_type": "markdown",
   "id": "deb1367f",
   "metadata": {
    "editable": true
   },
   "source": [
    "$$\n",
    "{\\cal L}(\\lambda,b,\\boldsymbol{w})=\\frac{1}{2}\\boldsymbol{w}^T\\boldsymbol{w}-\\sum_{i=1}^n\\lambda_i\\left[y_i(\\boldsymbol{w}^T\\boldsymbol{x}_i+b)-1\\right],\n",
    "$$"
   ]
  },
  {
   "cell_type": "markdown",
   "id": "b8eb196d",
   "metadata": {
    "editable": true
   },
   "source": [
    "where $\\lambda_i$ is a so-called Lagrange multiplier subject to the condition $\\lambda_i \\geq 0$.\n",
    "\n",
    "Taking the derivatives  with respect to $b$ and $\\boldsymbol{w}$ we obtain"
   ]
  },
  {
   "cell_type": "markdown",
   "id": "664560f2",
   "metadata": {
    "editable": true
   },
   "source": [
    "$$\n",
    "\\frac{\\partial {\\cal L}}{\\partial b} = -\\sum_{i} \\lambda_iy_i=0,\n",
    "$$"
   ]
  },
  {
   "cell_type": "markdown",
   "id": "a96c3b22",
   "metadata": {
    "editable": true
   },
   "source": [
    "and"
   ]
  },
  {
   "cell_type": "markdown",
   "id": "a209b96e",
   "metadata": {
    "editable": true
   },
   "source": [
    "$$\n",
    "\\frac{\\partial {\\cal L}}{\\partial \\boldsymbol{w}} = 0 = \\boldsymbol{w}-\\sum_{i} \\lambda_iy_i\\boldsymbol{x}_i.\n",
    "$$"
   ]
  },
  {
   "cell_type": "markdown",
   "id": "e2dadc8e",
   "metadata": {
    "editable": true
   },
   "source": [
    "Inserting these constraints into the equation for ${\\cal L}$ we obtain"
   ]
  },
  {
   "cell_type": "markdown",
   "id": "f1da3fb6",
   "metadata": {
    "editable": true
   },
   "source": [
    "$$\n",
    "{\\cal L}=\\sum_i\\lambda_i-\\frac{1}{2}\\sum_{ij}^n\\lambda_i\\lambda_jy_iy_j\\boldsymbol{x}_i^T\\boldsymbol{x}_j,\n",
    "$$"
   ]
  },
  {
   "cell_type": "markdown",
   "id": "a16adda0",
   "metadata": {
    "editable": true
   },
   "source": [
    "subject to the constraints $\\lambda_i\\geq 0$ and $\\sum_i\\lambda_iy_i=0$. \n",
    "We must in addition satisfy the [Karush-Kuhn-Tucker](https://en.wikipedia.org/wiki/Karush%E2%80%93Kuhn%E2%80%93Tucker_conditions) (KKT) condition"
   ]
  },
  {
   "cell_type": "markdown",
   "id": "10c4420c",
   "metadata": {
    "editable": true
   },
   "source": [
    "$$\n",
    "\\lambda_i\\left[y_i(\\boldsymbol{w}^T\\boldsymbol{x}_i+b) -1\\right] \\hspace{0.1cm}\\forall i.\n",
    "$$"
   ]
  },
  {
   "cell_type": "markdown",
   "id": "72f7eaa5",
   "metadata": {
    "editable": true
   },
   "source": [
    "1. If $\\lambda_i > 0$, then $y_i(\\boldsymbol{w}^T\\boldsymbol{x}_i+b)=1$ and we say that $x_i$ is on the boundary.\n",
    "\n",
    "2. If $y_i(\\boldsymbol{w}^T\\boldsymbol{x}_i+b)> 1$, we say $x_i$ is not on the boundary and we set $\\lambda_i=0$. \n",
    "\n",
    "When $\\lambda_i > 0$, the vectors $\\boldsymbol{x}_i$ are called support vectors. They are the vectors closest to the line (or hyperplane) and define the margin $M$."
   ]
  },
  {
   "cell_type": "markdown",
   "id": "cf7449bd",
   "metadata": {
    "editable": true
   },
   "source": [
    "## The problem to solve\n",
    "\n",
    "We can rewrite"
   ]
  },
  {
   "cell_type": "markdown",
   "id": "97f21dda",
   "metadata": {
    "editable": true
   },
   "source": [
    "$$\n",
    "{\\cal L}=\\sum_i\\lambda_i-\\frac{1}{2}\\sum_{ij}^n\\lambda_i\\lambda_jy_iy_j\\boldsymbol{x}_i^T\\boldsymbol{x}_j,\n",
    "$$"
   ]
  },
  {
   "cell_type": "markdown",
   "id": "a62e22f8",
   "metadata": {
    "editable": true
   },
   "source": [
    "and its constraints in terms of a matrix-vector problem where we minimize w.r.t. $\\lambda$ the following problem"
   ]
  },
  {
   "cell_type": "markdown",
   "id": "bcea5e1b",
   "metadata": {
    "editable": true
   },
   "source": [
    "$$\n",
    "\\frac{1}{2} \\boldsymbol{\\lambda}^T\\begin{bmatrix} y_1y_1\\boldsymbol{x}_1^T\\boldsymbol{x}_1 & y_1y_2\\boldsymbol{x}_1^T\\boldsymbol{x}_2 & \\dots & \\dots & y_1y_n\\boldsymbol{x}_1^T\\boldsymbol{x}_n \\\\\n",
    "y_2y_1\\boldsymbol{x}_2^T\\boldsymbol{x}_1 & y_2y_2\\boldsymbol{x}_2^T\\boldsymbol{x}_2 & \\dots & \\dots & y_1y_n\\boldsymbol{x}_2^T\\boldsymbol{x}_n \\\\\n",
    "\\dots & \\dots & \\dots & \\dots & \\dots \\\\\n",
    "\\dots & \\dots & \\dots & \\dots & \\dots \\\\\n",
    "y_ny_1\\boldsymbol{x}_n^T\\boldsymbol{x}_1 & y_ny_2\\boldsymbol{x}_n^T\\boldsymbol{x}_2 & \\dots & \\dots & y_ny_n\\boldsymbol{x}_n^T\\boldsymbol{x}_n \\\\\n",
    "\\end{bmatrix}\\boldsymbol{\\lambda}-\\mathbb{1}\\boldsymbol{\\lambda},\n",
    "$$"
   ]
  },
  {
   "cell_type": "markdown",
   "id": "f8fe188e",
   "metadata": {
    "editable": true
   },
   "source": [
    "subject to $\\boldsymbol{y}^T\\boldsymbol{\\lambda}=0$. Here we defined the vectors $\\boldsymbol{\\lambda} =[\\lambda_1,\\lambda_2,\\dots,\\lambda_n]$ and \n",
    "$\\boldsymbol{y}=[y_1,y_2,\\dots,y_n]$."
   ]
  },
  {
   "cell_type": "markdown",
   "id": "413e240a",
   "metadata": {
    "editable": true
   },
   "source": [
    "## The last steps\n",
    "\n",
    "Solving the above problem, yields the values of $\\lambda_i$.\n",
    "To find the coefficients of your hyperplane we need simply to compute"
   ]
  },
  {
   "cell_type": "markdown",
   "id": "027fbb8f",
   "metadata": {
    "editable": true
   },
   "source": [
    "$$\n",
    "\\boldsymbol{w}=\\sum_{i} \\lambda_iy_i\\boldsymbol{x}_i.\n",
    "$$"
   ]
  },
  {
   "cell_type": "markdown",
   "id": "7a5c313c",
   "metadata": {
    "editable": true
   },
   "source": [
    "With our vector $\\boldsymbol{w}$ we can in turn find the value of the intercept $b$ (here in two dimensions) via"
   ]
  },
  {
   "cell_type": "markdown",
   "id": "43f98f65",
   "metadata": {
    "editable": true
   },
   "source": [
    "$$\n",
    "y_i(\\boldsymbol{w}^T\\boldsymbol{x}_i+b)=1,\n",
    "$$"
   ]
  },
  {
   "cell_type": "markdown",
   "id": "3d0d0732",
   "metadata": {
    "editable": true
   },
   "source": [
    "resulting in"
   ]
  },
  {
   "cell_type": "markdown",
   "id": "7e7af264",
   "metadata": {
    "editable": true
   },
   "source": [
    "$$\n",
    "b = \\frac{1}{y_i}-\\boldsymbol{w}^T\\boldsymbol{x}_i,\n",
    "$$"
   ]
  },
  {
   "cell_type": "markdown",
   "id": "0f0966e4",
   "metadata": {
    "editable": true
   },
   "source": [
    "or if we write it out in terms of the support vectors only, with $N_s$ being their number,  we have"
   ]
  },
  {
   "cell_type": "markdown",
   "id": "8c4d65a2",
   "metadata": {
    "editable": true
   },
   "source": [
    "$$\n",
    "b = \\frac{1}{N_s}\\sum_{j\\in N_s}\\left(y_j-\\sum_{i=1}^n\\lambda_iy_i\\boldsymbol{x}_i^T\\boldsymbol{x}_j\\right).\n",
    "$$"
   ]
  },
  {
   "cell_type": "markdown",
   "id": "36956b4c",
   "metadata": {
    "editable": true
   },
   "source": [
    "With our hyperplane coefficients we can use our classifier to assign any observation by simply using"
   ]
  },
  {
   "cell_type": "markdown",
   "id": "34f2ad9e",
   "metadata": {
    "editable": true
   },
   "source": [
    "$$\n",
    "y_i = \\mathrm{sign}(\\boldsymbol{w}^T\\boldsymbol{x}_i+b).\n",
    "$$"
   ]
  },
  {
   "cell_type": "markdown",
   "id": "f3b5969e",
   "metadata": {
    "editable": true
   },
   "source": [
    "Below we discuss how to find the optimal values of $\\lambda_i$. Before we proceed however, we discuss now the so-called soft classifier."
   ]
  },
  {
   "cell_type": "markdown",
   "id": "2b535b11",
   "metadata": {
    "editable": true
   },
   "source": [
    "## A soft classifier\n",
    "\n",
    "Till now, the margin is strictly defined by the support vectors. This defines what is called a hard classifier, that is the margins are well defined.\n",
    "\n",
    "Suppose now that classes overlap in feature space, as shown in the\n",
    "figure here. One way to deal with this problem before we define the\n",
    "so-called **kernel approach**, is to allow a kind of slack in the sense\n",
    "that we allow some points to be on the wrong side of the margin.\n",
    "\n",
    "We introduce thus the so-called **slack** variables $\\boldsymbol{\\xi} =[\\xi_1,x_2,\\dots,x_n]$ and \n",
    "modify our previous equation"
   ]
  },
  {
   "cell_type": "markdown",
   "id": "82086b67",
   "metadata": {
    "editable": true
   },
   "source": [
    "$$\n",
    "y_i(\\boldsymbol{w}^T\\boldsymbol{x}_i+b)=1,\n",
    "$$"
   ]
  },
  {
   "cell_type": "markdown",
   "id": "43c2849b",
   "metadata": {
    "editable": true
   },
   "source": [
    "to"
   ]
  },
  {
   "cell_type": "markdown",
   "id": "79fa1055",
   "metadata": {
    "editable": true
   },
   "source": [
    "$$\n",
    "y_i(\\boldsymbol{w}^T\\boldsymbol{x}_i+b)=1-\\xi_i,\n",
    "$$"
   ]
  },
  {
   "cell_type": "markdown",
   "id": "5a877772",
   "metadata": {
    "editable": true
   },
   "source": [
    "with the requirement $\\xi_i\\geq 0$. The total violation is now $\\sum_i\\xi$. \n",
    "The value $\\xi_i$ in the constraint the last constraint corresponds to the  amount by which the prediction\n",
    "$y_i(\\boldsymbol{w}^T\\boldsymbol{x}_i+b)=1$ is on the wrong side of its margin. Hence by bounding the sum $\\sum_i \\xi_i$,\n",
    "we bound the total amount by which predictions fall on the wrong side of their margins.\n",
    "\n",
    "Misclassifications occur when $\\xi_i > 1$. Thus bounding the total sum by some value $C$ bounds in turn the total number of\n",
    "misclassifications."
   ]
  },
  {
   "cell_type": "markdown",
   "id": "068ef297",
   "metadata": {
    "editable": true
   },
   "source": [
    "## Soft optmization problem\n",
    "\n",
    "This has in turn the consequences that we change our optmization problem to finding the minimum of"
   ]
  },
  {
   "cell_type": "markdown",
   "id": "0997965a",
   "metadata": {
    "editable": true
   },
   "source": [
    "$$\n",
    "{\\cal L}=\\frac{1}{2}\\boldsymbol{w}^T\\boldsymbol{w}-\\sum_{i=1}^n\\lambda_i\\left[y_i(\\boldsymbol{w}^T\\boldsymbol{x}_i+b)-(1-\\xi_)\\right]+C\\sum_{i=1}^n\\xi_i-\\sum_{i=1}^n\\gamma_i\\xi_i,\n",
    "$$"
   ]
  },
  {
   "cell_type": "markdown",
   "id": "ae19263c",
   "metadata": {
    "editable": true
   },
   "source": [
    "subject to"
   ]
  },
  {
   "cell_type": "markdown",
   "id": "2730e8d2",
   "metadata": {
    "editable": true
   },
   "source": [
    "$$\n",
    "y_i(\\boldsymbol{w}^T\\boldsymbol{x}_i+b)=1-\\xi_i \\hspace{0.1cm}\\forall i,\n",
    "$$"
   ]
  },
  {
   "cell_type": "markdown",
   "id": "47573da0",
   "metadata": {
    "editable": true
   },
   "source": [
    "with the requirement $\\xi_i\\geq 0$.\n",
    "\n",
    "Taking the derivatives  with respect to $b$ and $\\boldsymbol{w}$ we obtain"
   ]
  },
  {
   "cell_type": "markdown",
   "id": "03eb71f2",
   "metadata": {
    "editable": true
   },
   "source": [
    "$$\n",
    "\\frac{\\partial {\\cal L}}{\\partial b} = -\\sum_{i} \\lambda_iy_i=0,\n",
    "$$"
   ]
  },
  {
   "cell_type": "markdown",
   "id": "0b617712",
   "metadata": {
    "editable": true
   },
   "source": [
    "and"
   ]
  },
  {
   "cell_type": "markdown",
   "id": "c403b04e",
   "metadata": {
    "editable": true
   },
   "source": [
    "$$\n",
    "\\frac{\\partial {\\cal L}}{\\partial \\boldsymbol{w}} = 0 = \\boldsymbol{w}-\\sum_{i} \\lambda_iy_i\\boldsymbol{x}_i,\n",
    "$$"
   ]
  },
  {
   "cell_type": "markdown",
   "id": "b5480b2f",
   "metadata": {
    "editable": true
   },
   "source": [
    "and"
   ]
  },
  {
   "cell_type": "markdown",
   "id": "413d1c9e",
   "metadata": {
    "editable": true
   },
   "source": [
    "$$\n",
    "\\lambda_i = C-\\gamma_i \\hspace{0.1cm}\\forall i.\n",
    "$$"
   ]
  },
  {
   "cell_type": "markdown",
   "id": "c27914e9",
   "metadata": {
    "editable": true
   },
   "source": [
    "Inserting these constraints into the equation for ${\\cal L}$ we obtain the same equation as before"
   ]
  },
  {
   "cell_type": "markdown",
   "id": "ef7189f9",
   "metadata": {
    "editable": true
   },
   "source": [
    "$$\n",
    "{\\cal L}=\\sum_i\\lambda_i-\\frac{1}{2}\\sum_{ij}^n\\lambda_i\\lambda_jy_iy_j\\boldsymbol{x}_i^T\\boldsymbol{x}_j,\n",
    "$$"
   ]
  },
  {
   "cell_type": "markdown",
   "id": "765b9571",
   "metadata": {
    "editable": true
   },
   "source": [
    "but now subject to the constraints $\\lambda_i\\geq 0$, $\\sum_i\\lambda_iy_i=0$ and $0\\leq\\lambda_i \\leq C$. \n",
    "We must in addition satisfy the Karush-Kuhn-Tucker condition which now reads"
   ]
  },
  {
   "cell_type": "markdown",
   "id": "43cdb6a6",
   "metadata": {
    "editable": true
   },
   "source": [
    "$$\n",
    "\\lambda_i\\left[y_i(\\boldsymbol{w}^T\\boldsymbol{x}_i+b) -(1-\\xi_)\\right]=0 \\hspace{0.1cm}\\forall i,\n",
    "$$"
   ]
  },
  {
   "cell_type": "markdown",
   "id": "eccc3467",
   "metadata": {
    "editable": true
   },
   "source": [
    "$$\n",
    "\\gamma_i\\xi_i = 0,\n",
    "$$"
   ]
  },
  {
   "cell_type": "markdown",
   "id": "2d5cec95",
   "metadata": {
    "editable": true
   },
   "source": [
    "and"
   ]
  },
  {
   "cell_type": "markdown",
   "id": "d0b092ba",
   "metadata": {
    "editable": true
   },
   "source": [
    "$$\n",
    "y_i(\\boldsymbol{w}^T\\boldsymbol{x}_i+b) -(1-\\xi_) \\geq 0 \\hspace{0.1cm}\\forall i.\n",
    "$$"
   ]
  },
  {
   "cell_type": "markdown",
   "id": "8f23fbe6",
   "metadata": {
    "editable": true
   },
   "source": [
    "## Kernels and non-linearity\n",
    "\n",
    "The cases we have studied till now, were all characterized by two classes\n",
    "with a close to linear separability. The classifiers we have described\n",
    "so far find linear boundaries in our input feature space. It is\n",
    "possible to make our procedure more flexible by exploring the feature\n",
    "space using other basis expansions such as higher-order polynomials,\n",
    "wavelets, splines etc.\n",
    "\n",
    "If our feature space is not easy to separate, as shown in the figure\n",
    "here, we can achieve a better separation by introducing more complex\n",
    "basis functions. The ideal would be, as shown in the next figure, to, via a specific transformation to \n",
    "obtain a separation between the classes which is almost linear. \n",
    "\n",
    "The change of basis, from $x\\rightarrow z=\\phi(x)$ leads to the same type of equations to be solved, except that\n",
    "we need to introduce for example a polynomial transformation to a two-dimensional training set."
   ]
  },
  {
   "cell_type": "code",
   "execution_count": 2,
   "id": "7837b7a7",
   "metadata": {
    "collapsed": false,
    "editable": true
   },
   "outputs": [],
   "source": [
    "import numpy as np\n",
    "import os\n",
    "\n",
    "np.random.seed(42)\n",
    "\n",
    "# To plot pretty figures\n",
    "import matplotlib\n",
    "import matplotlib.pyplot as plt\n",
    "plt.rcParams['axes.labelsize'] = 14\n",
    "plt.rcParams['xtick.labelsize'] = 12\n",
    "plt.rcParams['ytick.labelsize'] = 12\n",
    "\n",
    "\n",
    "from sklearn.svm import SVC\n",
    "from sklearn import datasets\n",
    "\n",
    "\n",
    "\n",
    "X1D = np.linspace(-4, 4, 9).reshape(-1, 1)\n",
    "X2D = np.c_[X1D, X1D**2]\n",
    "y = np.array([0, 0, 1, 1, 1, 1, 1, 0, 0])\n",
    "\n",
    "plt.figure(figsize=(11, 4))\n",
    "\n",
    "plt.subplot(121)\n",
    "plt.grid(True, which='both')\n",
    "plt.axhline(y=0, color='k')\n",
    "plt.plot(X1D[:, 0][y==0], np.zeros(4), \"bs\")\n",
    "plt.plot(X1D[:, 0][y==1], np.zeros(5), \"g^\")\n",
    "plt.gca().get_yaxis().set_ticks([])\n",
    "plt.xlabel(r\"$x_1$\", fontsize=20)\n",
    "plt.axis([-4.5, 4.5, -0.2, 0.2])\n",
    "\n",
    "plt.subplot(122)\n",
    "plt.grid(True, which='both')\n",
    "plt.axhline(y=0, color='k')\n",
    "plt.axvline(x=0, color='k')\n",
    "plt.plot(X2D[:, 0][y==0], X2D[:, 1][y==0], \"bs\")\n",
    "plt.plot(X2D[:, 0][y==1], X2D[:, 1][y==1], \"g^\")\n",
    "plt.xlabel(r\"$x_1$\", fontsize=20)\n",
    "plt.ylabel(r\"$x_2$\", fontsize=20, rotation=0)\n",
    "plt.gca().get_yaxis().set_ticks([0, 4, 8, 12, 16])\n",
    "plt.plot([-4.5, 4.5], [6.5, 6.5], \"r--\", linewidth=3)\n",
    "plt.axis([-4.5, 4.5, -1, 17])\n",
    "plt.subplots_adjust(right=1)\n",
    "plt.show()"
   ]
  },
  {
   "cell_type": "markdown",
   "id": "6a67b779",
   "metadata": {
    "editable": true
   },
   "source": [
    "## The equations\n",
    "\n",
    "Suppose we define a polynomial transformation of degree two only (we continue to live in a plane with $x_i$ and $y_i$ as variables)"
   ]
  },
  {
   "cell_type": "markdown",
   "id": "606baee1",
   "metadata": {
    "editable": true
   },
   "source": [
    "$$\n",
    "z = \\phi(x_i) =\\left(x_i^2, y_i^2, \\sqrt{2}x_iy_i\\right).\n",
    "$$"
   ]
  },
  {
   "cell_type": "markdown",
   "id": "17baaf79",
   "metadata": {
    "editable": true
   },
   "source": [
    "With our new basis, the equations we solved earlier are basically the same, that is we have now (without the slack option for simplicity)"
   ]
  },
  {
   "cell_type": "markdown",
   "id": "9bd93358",
   "metadata": {
    "editable": true
   },
   "source": [
    "$$\n",
    "{\\cal L}=\\sum_i\\lambda_i-\\frac{1}{2}\\sum_{ij}^n\\lambda_i\\lambda_jy_iy_j\\boldsymbol{z}_i^T\\boldsymbol{z}_j,\n",
    "$$"
   ]
  },
  {
   "cell_type": "markdown",
   "id": "c7abd31e",
   "metadata": {
    "editable": true
   },
   "source": [
    "subject to the constraints $\\lambda_i\\geq 0$, $\\sum_i\\lambda_iy_i=0$, and for the support vectors"
   ]
  },
  {
   "cell_type": "markdown",
   "id": "91603b28",
   "metadata": {
    "editable": true
   },
   "source": [
    "$$\n",
    "y_i(\\boldsymbol{w}^T\\boldsymbol{z}_i+b)= 1 \\hspace{0.1cm}\\forall i,\n",
    "$$"
   ]
  },
  {
   "cell_type": "markdown",
   "id": "1ace16e1",
   "metadata": {
    "editable": true
   },
   "source": [
    "from which we also find $b$.\n",
    "To compute $\\boldsymbol{z}_i^T\\boldsymbol{z}_j$ we define the kernel $K(\\boldsymbol{x}_i,\\boldsymbol{x}_j)$ as"
   ]
  },
  {
   "cell_type": "markdown",
   "id": "2cec32a6",
   "metadata": {
    "editable": true
   },
   "source": [
    "$$\n",
    "K(\\boldsymbol{x}_i,\\boldsymbol{x}_j)=\\boldsymbol{z}_i^T\\boldsymbol{z}_j= \\phi(\\boldsymbol{x}_i)^T\\phi(\\boldsymbol{x}_j).\n",
    "$$"
   ]
  },
  {
   "cell_type": "markdown",
   "id": "f7763bbe",
   "metadata": {
    "editable": true
   },
   "source": [
    "For the above example, the kernel reads"
   ]
  },
  {
   "cell_type": "markdown",
   "id": "2daa66b9",
   "metadata": {
    "editable": true
   },
   "source": [
    "$$\n",
    "K(\\boldsymbol{x}_i,\\boldsymbol{x}_j)=[x_i^2, y_i^2, \\sqrt{2}x_iy_i]^T\\begin{bmatrix} x_j^2 \\\\ y_j^2 \\\\ \\sqrt{2}x_jy_j \\end{bmatrix}=x_i^2x_j^2+2x_ix_jy_iy_j+y_i^2y_j^2.\n",
    "$$"
   ]
  },
  {
   "cell_type": "markdown",
   "id": "e5237877",
   "metadata": {
    "editable": true
   },
   "source": [
    "We note that this is nothing but the dot product of the two original\n",
    "vectors $(\\boldsymbol{x}_i^T\\boldsymbol{x}_j)^2$. Instead of thus computing the\n",
    "product in the Lagrangian of $\\boldsymbol{z}_i^T\\boldsymbol{z}_j$ we simply compute\n",
    "the dot product $(\\boldsymbol{x}_i^T\\boldsymbol{x}_j)^2$.\n",
    "\n",
    "This leads to the so-called\n",
    "kernel trick and the result leads to the same as if we went through\n",
    "the trouble of performing the transformation\n",
    "$\\phi(\\boldsymbol{x}_i)^T\\phi(\\boldsymbol{x}_j)$ during the SVM calculations."
   ]
  },
  {
   "cell_type": "markdown",
   "id": "15354451",
   "metadata": {
    "editable": true
   },
   "source": [
    "## The problem to solve\n",
    "Using our definition of the kernel We can rewrite again the Lagrangian"
   ]
  },
  {
   "cell_type": "markdown",
   "id": "93851a18",
   "metadata": {
    "editable": true
   },
   "source": [
    "$$\n",
    "{\\cal L}=\\sum_i\\lambda_i-\\frac{1}{2}\\sum_{ij}^n\\lambda_i\\lambda_jy_iy_j\\boldsymbol{x}_i^T\\boldsymbol{z}_j,\n",
    "$$"
   ]
  },
  {
   "cell_type": "markdown",
   "id": "1ec72034",
   "metadata": {
    "editable": true
   },
   "source": [
    "subject to the constraints $\\lambda_i\\geq 0$, $\\sum_i\\lambda_iy_i=0$ in terms of a convex optimization problem"
   ]
  },
  {
   "cell_type": "markdown",
   "id": "ca61eb83",
   "metadata": {
    "editable": true
   },
   "source": [
    "$$\n",
    "\\frac{1}{2} \\boldsymbol{\\lambda}^T\\begin{bmatrix} y_1y_1K(\\boldsymbol{x}_1,\\boldsymbol{x}_1) & y_1y_2K(\\boldsymbol{x}_1,\\boldsymbol{x}_2) & \\dots & \\dots & y_1y_nK(\\boldsymbol{x}_1,\\boldsymbol{x}_n) \\\\\n",
    "y_2y_1K(\\boldsymbol{x}_2,\\boldsymbol{x}_1) & y_2y_2(\\boldsymbol{x}_2,\\boldsymbol{x}_2) & \\dots & \\dots & y_1y_nK(\\boldsymbol{x}_2,\\boldsymbol{x}_n) \\\\\n",
    "\\dots & \\dots & \\dots & \\dots & \\dots \\\\\n",
    "\\dots & \\dots & \\dots & \\dots & \\dots \\\\\n",
    "y_ny_1K(\\boldsymbol{x}_n,\\boldsymbol{x}_1) & y_ny_2K(\\boldsymbol{x}_n\\boldsymbol{x}_2) & \\dots & \\dots & y_ny_nK(\\boldsymbol{x}_n,\\boldsymbol{x}_n) \\\\\n",
    "\\end{bmatrix}\\boldsymbol{\\lambda}-\\mathbb{1}\\boldsymbol{\\lambda},\n",
    "$$"
   ]
  },
  {
   "cell_type": "markdown",
   "id": "ccfe3f37",
   "metadata": {
    "editable": true
   },
   "source": [
    "subject to $\\boldsymbol{y}^T\\boldsymbol{\\lambda}=0$. Here we defined the vectors $\\boldsymbol{\\lambda} =[\\lambda_1,\\lambda_2,\\dots,\\lambda_n]$ and \n",
    "$\\boldsymbol{y}=[y_1,y_2,\\dots,y_n]$. \n",
    "If we add the slack constants this leads to the additional constraint $0\\leq \\lambda_i \\leq C$.\n",
    "\n",
    "We can rewrite this (see the solutions below) in terms of a convex optimization problem of the type"
   ]
  },
  {
   "cell_type": "markdown",
   "id": "002e0aea",
   "metadata": {
    "editable": true
   },
   "source": [
    "$$\n",
    "\\begin{align*}\n",
    "    &\\mathrm{min}_{\\lambda}\\hspace{0.2cm} \\frac{1}{2}\\boldsymbol{\\lambda}^T\\boldsymbol{P}\\boldsymbol{\\lambda}+\\boldsymbol{q}^T\\boldsymbol{\\lambda},\\\\ \\nonumber\n",
    "    &\\mathrm{subject\\hspace{0.1cm}to} \\hspace{0.2cm} \\boldsymbol{G}\\boldsymbol{\\lambda} \\preceq \\boldsymbol{h} \\hspace{0.2cm} \\wedge \\boldsymbol{A}\\boldsymbol{\\lambda}=f.\n",
    "\\end{align*}\n",
    "$$"
   ]
  },
  {
   "cell_type": "markdown",
   "id": "31d3979b",
   "metadata": {
    "editable": true
   },
   "source": [
    "Below we discuss how to solve these equations. Here we note that the matrix $\\boldsymbol{P}$ has matrix elements $p_{ij}=y_iy_jK(\\boldsymbol{x}_i,\\boldsymbol{x}_j)$.\n",
    "Given a kernel $K$ and the targets $y_i$ this matrix is easy to set up. The constraint $\\boldsymbol{y}^T\\boldsymbol{\\lambda}=0$ leads to $f=0$ and $\\boldsymbol{A}=\\boldsymbol{y}$. How to set up the matrix $\\boldsymbol{G}$ is discussed later. Here note that the inequalities $0\\leq \\lambda_i \\leq C$ can be split up into\n",
    "$0\\leq \\lambda_i$ and $\\lambda_i \\leq C$. These two inequalities define then the matrix $\\boldsymbol{G}$ and the vector $\\boldsymbol{h}$."
   ]
  },
  {
   "cell_type": "markdown",
   "id": "9cfedef9",
   "metadata": {
    "editable": true
   },
   "source": [
    "## Different kernels and Mercer's theorem\n",
    "\n",
    "There are several popular kernels being used. These are\n",
    "1. Linear: $K(\\boldsymbol{x},\\boldsymbol{y})=\\boldsymbol{x}^T\\boldsymbol{y}$,\n",
    "\n",
    "2. Polynomial: $K(\\boldsymbol{x},\\boldsymbol{y})=(\\boldsymbol{x}^T\\boldsymbol{y}+\\gamma)^d$,\n",
    "\n",
    "3. Gaussian Radial Basis Function: $K(\\boldsymbol{x},\\boldsymbol{y})=\\exp{\\left(-\\gamma\\vert\\vert\\boldsymbol{x}-\\boldsymbol{y}\\vert\\vert^2\\right)}$,\n",
    "\n",
    "4. Tanh: $K(\\boldsymbol{x},\\boldsymbol{y})=\\tanh{(\\boldsymbol{x}^T\\boldsymbol{y}+\\gamma)}$,\n",
    "\n",
    "and many other ones.\n",
    "\n",
    "An important theorem for us is [Mercer's\n",
    "theorem](https://en.wikipedia.org/wiki/Mercer%27s_theorem).  The\n",
    "theorem states that if a kernel function $K$ is symmetric, continuous\n",
    "and leads to a positive semi-definite matrix $\\boldsymbol{P}$ then there\n",
    "exists a function $\\phi$ that maps $\\boldsymbol{x}_i$ and $\\boldsymbol{x}_j$ into\n",
    "another space (possibly with much higher dimensions) such that"
   ]
  },
  {
   "cell_type": "markdown",
   "id": "9dc1f9b2",
   "metadata": {
    "editable": true
   },
   "source": [
    "$$\n",
    "K(\\boldsymbol{x}_i,\\boldsymbol{x}_j)=\\phi(\\boldsymbol{x}_i)^T\\phi(\\boldsymbol{x}_j).\n",
    "$$"
   ]
  },
  {
   "cell_type": "markdown",
   "id": "bdbdf563",
   "metadata": {
    "editable": true
   },
   "source": [
    "So you can use $K$ as a kernel since you know $\\phi$ exists, even if\n",
    "you don’t know what $\\phi$ is. \n",
    "\n",
    "Note that some frequently used kernels (such as the Sigmoid kernel)\n",
    "don’t respect all of Mercer’s conditions, yet they generally work well\n",
    "in practice."
   ]
  },
  {
   "cell_type": "markdown",
   "id": "650dc998",
   "metadata": {
    "editable": true
   },
   "source": [
    "## The moons example"
   ]
  },
  {
   "cell_type": "code",
   "execution_count": 3,
   "id": "2d562b0d",
   "metadata": {
    "collapsed": false,
    "editable": true
   },
   "outputs": [],
   "source": [
    "from __future__ import division, print_function, unicode_literals\n",
    "\n",
    "import numpy as np\n",
    "np.random.seed(42)\n",
    "\n",
    "import matplotlib\n",
    "import matplotlib.pyplot as plt\n",
    "plt.rcParams['axes.labelsize'] = 14\n",
    "plt.rcParams['xtick.labelsize'] = 12\n",
    "plt.rcParams['ytick.labelsize'] = 12\n",
    "\n",
    "\n",
    "from sklearn.svm import SVC\n",
    "from sklearn import datasets\n",
    "\n",
    "\n",
    "\n",
    "from sklearn.pipeline import Pipeline\n",
    "from sklearn.preprocessing import StandardScaler\n",
    "from sklearn.svm import LinearSVC\n",
    "\n",
    "\n",
    "from sklearn.datasets import make_moons\n",
    "X, y = make_moons(n_samples=100, noise=0.15, random_state=42)\n",
    "\n",
    "def plot_dataset(X, y, axes):\n",
    "    plt.plot(X[:, 0][y==0], X[:, 1][y==0], \"bs\")\n",
    "    plt.plot(X[:, 0][y==1], X[:, 1][y==1], \"g^\")\n",
    "    plt.axis(axes)\n",
    "    plt.grid(True, which='both')\n",
    "    plt.xlabel(r\"$x_1$\", fontsize=20)\n",
    "    plt.ylabel(r\"$x_2$\", fontsize=20, rotation=0)\n",
    "\n",
    "plot_dataset(X, y, [-1.5, 2.5, -1, 1.5])\n",
    "plt.show()\n",
    "\n",
    "from sklearn.datasets import make_moons\n",
    "from sklearn.pipeline import Pipeline\n",
    "from sklearn.preprocessing import PolynomialFeatures\n",
    "\n",
    "polynomial_svm_clf = Pipeline([\n",
    "        (\"poly_features\", PolynomialFeatures(degree=3)),\n",
    "        (\"scaler\", StandardScaler()),\n",
    "        (\"svm_clf\", LinearSVC(C=10, loss=\"hinge\", random_state=42))\n",
    "    ])\n",
    "\n",
    "polynomial_svm_clf.fit(X, y)\n",
    "\n",
    "def plot_predictions(clf, axes):\n",
    "    x0s = np.linspace(axes[0], axes[1], 100)\n",
    "    x1s = np.linspace(axes[2], axes[3], 100)\n",
    "    x0, x1 = np.meshgrid(x0s, x1s)\n",
    "    X = np.c_[x0.ravel(), x1.ravel()]\n",
    "    y_pred = clf.predict(X).reshape(x0.shape)\n",
    "    y_decision = clf.decision_function(X).reshape(x0.shape)\n",
    "    plt.contourf(x0, x1, y_pred, cmap=plt.cm.brg, alpha=0.2)\n",
    "    plt.contourf(x0, x1, y_decision, cmap=plt.cm.brg, alpha=0.1)\n",
    "\n",
    "plot_predictions(polynomial_svm_clf, [-1.5, 2.5, -1, 1.5])\n",
    "plot_dataset(X, y, [-1.5, 2.5, -1, 1.5])\n",
    "\n",
    "plt.show()\n",
    "\n",
    "\n",
    "from sklearn.svm import SVC\n",
    "\n",
    "poly_kernel_svm_clf = Pipeline([\n",
    "        (\"scaler\", StandardScaler()),\n",
    "        (\"svm_clf\", SVC(kernel=\"poly\", degree=3, coef0=1, C=5))\n",
    "    ])\n",
    "poly_kernel_svm_clf.fit(X, y)\n",
    "\n",
    "poly100_kernel_svm_clf = Pipeline([\n",
    "        (\"scaler\", StandardScaler()),\n",
    "        (\"svm_clf\", SVC(kernel=\"poly\", degree=10, coef0=100, C=5))\n",
    "    ])\n",
    "poly100_kernel_svm_clf.fit(X, y)\n",
    "\n",
    "plt.figure(figsize=(11, 4))\n",
    "\n",
    "plt.subplot(121)\n",
    "plot_predictions(poly_kernel_svm_clf, [-1.5, 2.5, -1, 1.5])\n",
    "plot_dataset(X, y, [-1.5, 2.5, -1, 1.5])\n",
    "plt.title(r\"$d=3, r=1, C=5$\", fontsize=18)\n",
    "\n",
    "plt.subplot(122)\n",
    "plot_predictions(poly100_kernel_svm_clf, [-1.5, 2.5, -1, 1.5])\n",
    "plot_dataset(X, y, [-1.5, 2.5, -1, 1.5])\n",
    "plt.title(r\"$d=10, r=100, C=5$\", fontsize=18)\n",
    "\n",
    "plt.show()\n",
    "\n",
    "def gaussian_rbf(x, landmark, gamma):\n",
    "    return np.exp(-gamma * np.linalg.norm(x - landmark, axis=1)**2)\n",
    "\n",
    "gamma = 0.3\n",
    "\n",
    "x1s = np.linspace(-4.5, 4.5, 200).reshape(-1, 1)\n",
    "x2s = gaussian_rbf(x1s, -2, gamma)\n",
    "x3s = gaussian_rbf(x1s, 1, gamma)\n",
    "\n",
    "XK = np.c_[gaussian_rbf(X1D, -2, gamma), gaussian_rbf(X1D, 1, gamma)]\n",
    "yk = np.array([0, 0, 1, 1, 1, 1, 1, 0, 0])\n",
    "\n",
    "plt.figure(figsize=(11, 4))\n",
    "\n",
    "plt.subplot(121)\n",
    "plt.grid(True, which='both')\n",
    "plt.axhline(y=0, color='k')\n",
    "plt.scatter(x=[-2, 1], y=[0, 0], s=150, alpha=0.5, c=\"red\")\n",
    "plt.plot(X1D[:, 0][yk==0], np.zeros(4), \"bs\")\n",
    "plt.plot(X1D[:, 0][yk==1], np.zeros(5), \"g^\")\n",
    "plt.plot(x1s, x2s, \"g--\")\n",
    "plt.plot(x1s, x3s, \"b:\")\n",
    "plt.gca().get_yaxis().set_ticks([0, 0.25, 0.5, 0.75, 1])\n",
    "plt.xlabel(r\"$x_1$\", fontsize=20)\n",
    "plt.ylabel(r\"Similarity\", fontsize=14)\n",
    "plt.annotate(r'$\\mathbf{x}$',\n",
    "             xy=(X1D[3, 0], 0),\n",
    "             xytext=(-0.5, 0.20),\n",
    "             ha=\"center\",\n",
    "             arrowprops=dict(facecolor='black', shrink=0.1),\n",
    "             fontsize=18,\n",
    "            )\n",
    "plt.text(-2, 0.9, \"$x_2$\", ha=\"center\", fontsize=20)\n",
    "plt.text(1, 0.9, \"$x_3$\", ha=\"center\", fontsize=20)\n",
    "plt.axis([-4.5, 4.5, -0.1, 1.1])\n",
    "\n",
    "plt.subplot(122)\n",
    "plt.grid(True, which='both')\n",
    "plt.axhline(y=0, color='k')\n",
    "plt.axvline(x=0, color='k')\n",
    "plt.plot(XK[:, 0][yk==0], XK[:, 1][yk==0], \"bs\")\n",
    "plt.plot(XK[:, 0][yk==1], XK[:, 1][yk==1], \"g^\")\n",
    "plt.xlabel(r\"$x_2$\", fontsize=20)\n",
    "plt.ylabel(r\"$x_3$  \", fontsize=20, rotation=0)\n",
    "plt.annotate(r'$\\phi\\left(\\mathbf{x}\\right)$',\n",
    "             xy=(XK[3, 0], XK[3, 1]),\n",
    "             xytext=(0.65, 0.50),\n",
    "             ha=\"center\",\n",
    "             arrowprops=dict(facecolor='black', shrink=0.1),\n",
    "             fontsize=18,\n",
    "            )\n",
    "plt.plot([-0.1, 1.1], [0.57, -0.1], \"r--\", linewidth=3)\n",
    "plt.axis([-0.1, 1.1, -0.1, 1.1])\n",
    "    \n",
    "plt.subplots_adjust(right=1)\n",
    "\n",
    "plt.show()\n",
    "\n",
    "\n",
    "x1_example = X1D[3, 0]\n",
    "for landmark in (-2, 1):\n",
    "    k = gaussian_rbf(np.array([[x1_example]]), np.array([[landmark]]), gamma)\n",
    "    print(\"Phi({}, {}) = {}\".format(x1_example, landmark, k))\n",
    "\n",
    "rbf_kernel_svm_clf = Pipeline([\n",
    "        (\"scaler\", StandardScaler()),\n",
    "        (\"svm_clf\", SVC(kernel=\"rbf\", gamma=5, C=0.001))\n",
    "    ])\n",
    "rbf_kernel_svm_clf.fit(X, y)\n",
    "\n",
    "\n",
    "from sklearn.svm import SVC\n",
    "\n",
    "gamma1, gamma2 = 0.1, 5\n",
    "C1, C2 = 0.001, 1000\n",
    "hyperparams = (gamma1, C1), (gamma1, C2), (gamma2, C1), (gamma2, C2)\n",
    "\n",
    "svm_clfs = []\n",
    "for gamma, C in hyperparams:\n",
    "    rbf_kernel_svm_clf = Pipeline([\n",
    "            (\"scaler\", StandardScaler()),\n",
    "            (\"svm_clf\", SVC(kernel=\"rbf\", gamma=gamma, C=C))\n",
    "        ])\n",
    "    rbf_kernel_svm_clf.fit(X, y)\n",
    "    svm_clfs.append(rbf_kernel_svm_clf)\n",
    "\n",
    "plt.figure(figsize=(11, 7))\n",
    "\n",
    "for i, svm_clf in enumerate(svm_clfs):\n",
    "    plt.subplot(221 + i)\n",
    "    plot_predictions(svm_clf, [-1.5, 2.5, -1, 1.5])\n",
    "    plot_dataset(X, y, [-1.5, 2.5, -1, 1.5])\n",
    "    gamma, C = hyperparams[i]\n",
    "    plt.title(r\"$\\gamma = {}, C = {}$\".format(gamma, C), fontsize=16)\n",
    "\n",
    "plt.show()"
   ]
  },
  {
   "cell_type": "markdown",
   "id": "3106d683",
   "metadata": {
    "editable": true
   },
   "source": [
    "## Mathematical optimization of convex functions\n",
    "\n",
    "A mathematical (quadratic) optimization problem, or just optimization problem, has the form"
   ]
  },
  {
   "cell_type": "markdown",
   "id": "a714dce8",
   "metadata": {
    "editable": true
   },
   "source": [
    "$$\n",
    "\\begin{align*}\n",
    "    &\\mathrm{min}_{\\lambda}\\hspace{0.2cm} \\frac{1}{2}\\boldsymbol{\\lambda}^T\\boldsymbol{P}\\boldsymbol{\\lambda}+\\boldsymbol{q}^T\\boldsymbol{\\lambda},\\\\ \\nonumber\n",
    "    &\\mathrm{subject\\hspace{0.1cm}to} \\hspace{0.2cm} \\boldsymbol{G}\\boldsymbol{\\lambda} \\preceq \\boldsymbol{h} \\wedge  \\boldsymbol{A}\\boldsymbol{\\lambda}=f.\n",
    "\\end{align*}\n",
    "$$"
   ]
  },
  {
   "cell_type": "markdown",
   "id": "01cb9a05",
   "metadata": {
    "editable": true
   },
   "source": [
    "subject to some constraints for say a selected set $i=1,2,\\dots, n$.\n",
    "In our case we are optimizing with respect to the Lagrangian multipliers $\\lambda_i$, and the\n",
    "vector $\\boldsymbol{\\lambda}=[\\lambda_1, \\lambda_2,\\dots, \\lambda_n]$ is the optimization variable we are dealing with.\n",
    "\n",
    "In our case we are particularly interested in a class of optimization problems called convex optmization problems. \n",
    "In our discussion on gradient descent methods we discussed at length the definition of a convex function. \n",
    "\n",
    "Convex optimization problems play a central role in applied mathematics and we recommend strongly [Boyd and Vandenberghe's text on the topics](http://web.stanford.edu/~boyd/cvxbook/)."
   ]
  },
  {
   "cell_type": "markdown",
   "id": "a4526963",
   "metadata": {
    "editable": true
   },
   "source": [
    "## How do we solve these problems?\n",
    "\n",
    "If we use Python as programming language and wish to venture beyond\n",
    "**scikit-learn**, **tensorflow** and similar software which makes our\n",
    "lives so much easier, we need to dive into the wonderful world of\n",
    "quadratic programming. We can, if we wish, solve the minimization\n",
    "problem using say standard gradient methods or conjugate gradient\n",
    "methods. However, these methods tend to exhibit a rather slow\n",
    "converge. So, welcome to the promised land of quadratic programming.\n",
    "\n",
    "The functions we need are contained in the quadratic programming package **CVXOPT** and we need to import it together with **numpy** as"
   ]
  },
  {
   "cell_type": "code",
   "execution_count": 4,
   "id": "681ebb1e",
   "metadata": {
    "collapsed": false,
    "editable": true
   },
   "outputs": [],
   "source": [
    "import numpy\n",
    "import cvxopt"
   ]
  },
  {
   "cell_type": "markdown",
   "id": "261d23c2",
   "metadata": {
    "editable": true
   },
   "source": [
    "This will make our life much easier. You don't need t write your own optimizer."
   ]
  },
  {
   "cell_type": "markdown",
   "id": "c8baeba1",
   "metadata": {
    "editable": true
   },
   "source": [
    "## A simple example\n",
    "\n",
    "We remind ourselves about the general problem we want to solve"
   ]
  },
  {
   "cell_type": "markdown",
   "id": "0b803837",
   "metadata": {
    "editable": true
   },
   "source": [
    "$$\n",
    "\\begin{align*}\n",
    "    &\\mathrm{min}_{x}\\hspace{0.2cm} \\frac{1}{2}\\boldsymbol{x}^T\\boldsymbol{P}\\boldsymbol{x}+\\boldsymbol{q}^T\\boldsymbol{x},\\\\ \\nonumber\n",
    "    &\\mathrm{subject\\hspace{0.1cm} to} \\hspace{0.2cm} \\boldsymbol{G}\\boldsymbol{x} \\preceq \\boldsymbol{h} \\wedge  \\boldsymbol{A}\\boldsymbol{x}=f.\n",
    "\\end{align*}\n",
    "$$"
   ]
  },
  {
   "cell_type": "markdown",
   "id": "9246d7f2",
   "metadata": {
    "editable": true
   },
   "source": [
    "Let us show how to perform the optmization using a simple case. Assume we want to optimize the following problem"
   ]
  },
  {
   "cell_type": "markdown",
   "id": "290a112b",
   "metadata": {
    "editable": true
   },
   "source": [
    "$$\n",
    "\\begin{align*}\n",
    "    &\\mathrm{min}_{x}\\hspace{0.2cm} \\frac{1}{2}x^2+5x+3y \\\\ \\nonumber\n",
    "    &\\mathrm{subject to} \\\\ \\nonumber\n",
    "    &x, y \\geq 0 \\\\ \\nonumber\n",
    "    &x+3y  \\geq 15 \\\\ \\nonumber\n",
    "    &2x+5y  \\leq  100 \\\\ \\nonumber\n",
    "    &3x+4y  \\leq  80.  \\\\ \\nonumber\n",
    "\\end{align*}\n",
    "$$"
   ]
  },
  {
   "cell_type": "markdown",
   "id": "9d9a7d1a",
   "metadata": {
    "editable": true
   },
   "source": [
    "The minimization problem can be rewritten in terms of vectors and matrices as (with $x$ and $y$ being the unknowns)"
   ]
  },
  {
   "cell_type": "markdown",
   "id": "a860c2bc",
   "metadata": {
    "editable": true
   },
   "source": [
    "$$\n",
    "\\frac{1}{2}\\begin{bmatrix} x\\\\ y \\end{bmatrix}^T   \\begin{bmatrix} 1 & 0\\\\ 0 & 0  \\end{bmatrix}  \\begin{bmatrix} x \\\\ y \\end{bmatrix}  + \\begin{bmatrix}3\\\\ 4  \\end{bmatrix}^T \\begin{bmatrix}x \\\\ y  \\end{bmatrix}.\n",
    "$$"
   ]
  },
  {
   "cell_type": "markdown",
   "id": "7c4ecc73",
   "metadata": {
    "editable": true
   },
   "source": [
    "Similarly, we can now set up the inequalities (we need to change $\\geq$ to $\\leq$ by multiplying with $-1$ on bot sides) as the following matrix-vector equation"
   ]
  },
  {
   "cell_type": "markdown",
   "id": "d502bbef",
   "metadata": {
    "editable": true
   },
   "source": [
    "$$\n",
    "\\begin{bmatrix} -1 & 0 \\\\ 0 & -1 \\\\ -1 & -3 \\\\ 2 & 5 \\\\ 3 & 4\\end{bmatrix}\\begin{bmatrix} x \\\\ y\\end{bmatrix} \\preceq \\begin{bmatrix}0 \\\\ 0\\\\ -15 \\\\ 100 \\\\ 80\\end{bmatrix}.\n",
    "$$"
   ]
  },
  {
   "cell_type": "markdown",
   "id": "357f011c",
   "metadata": {
    "editable": true
   },
   "source": [
    "We have collapsed all the inequalities into a single matrix $\\boldsymbol{G}$. We see also that our matrix"
   ]
  },
  {
   "cell_type": "markdown",
   "id": "427b5285",
   "metadata": {
    "editable": true
   },
   "source": [
    "$$\n",
    "\\boldsymbol{P} =\\begin{bmatrix} 1 & 0\\\\ 0 & 0  \\end{bmatrix}\n",
    "$$"
   ]
  },
  {
   "cell_type": "markdown",
   "id": "798b0a8e",
   "metadata": {
    "editable": true
   },
   "source": [
    "is clearly positive semi-definite (all eigenvalues larger or equal zero). \n",
    "Finally, the vector $\\boldsymbol{h}$ is defined as"
   ]
  },
  {
   "cell_type": "markdown",
   "id": "4dc10f2a",
   "metadata": {
    "editable": true
   },
   "source": [
    "$$\n",
    "\\boldsymbol{h} = \\begin{bmatrix}0 \\\\ 0\\\\ -15 \\\\ 100 \\\\ 80\\end{bmatrix}.\n",
    "$$"
   ]
  },
  {
   "cell_type": "markdown",
   "id": "47872a2d",
   "metadata": {
    "editable": true
   },
   "source": [
    "Since we don't have any equalities the matrix $\\boldsymbol{A}$ is set to zero\n",
    "The following code solves the equations for us"
   ]
  },
  {
   "cell_type": "code",
   "execution_count": 5,
   "id": "544472ca",
   "metadata": {
    "collapsed": false,
    "editable": true
   },
   "outputs": [],
   "source": [
    "# Import the necessary packages\n",
    "import numpy\n",
    "from cvxopt import matrix\n",
    "from cvxopt import solvers\n",
    "P = matrix(numpy.diag([1,0]), tc=’d’)\n",
    "q = matrix(numpy.array([3,4]), tc=’d’)\n",
    "G = matrix(numpy.array([[-1,0],[0,-1],[-1,-3],[2,5],[3,4]]), tc=’d’)\n",
    "h = matrix(numpy.array([0,0,-15,100,80]), tc=’d’)\n",
    "# Construct the QP, invoke solver\n",
    "sol = solvers.qp(P,q,G,h)\n",
    "# Extract optimal value and solution\n",
    "sol[’x’] \n",
    "sol[’primal objective’]"
   ]
  },
  {
   "cell_type": "markdown",
   "id": "27bcddcf",
   "metadata": {
    "editable": true
   },
   "source": [
    "## Back to the more realistic cases\n",
    "\n",
    "We are now ready to return to our setup of the optmization problem for a more realistic case. Introducing the **slack** parameter $C$ we have"
   ]
  },
  {
   "cell_type": "markdown",
   "id": "3df03759",
   "metadata": {
    "editable": true
   },
   "source": [
    "$$\n",
    "\\frac{1}{2} \\boldsymbol{\\lambda}^T\\begin{bmatrix} y_1y_1K(\\boldsymbol{x}_1,\\boldsymbol{x}_1) & y_1y_2K(\\boldsymbol{x}_1,\\boldsymbol{x}_2) & \\dots & \\dots & y_1y_nK(\\boldsymbol{x}_1,\\boldsymbol{x}_n) \\\\\n",
    "y_2y_1K(\\boldsymbol{x}_2,\\boldsymbol{x}_1) & y_2y_2K(\\boldsymbol{x}_2,\\boldsymbol{x}_2) & \\dots & \\dots & y_1y_nK(\\boldsymbol{x}_2,\\boldsymbol{x}_n) \\\\\n",
    "\\dots & \\dots & \\dots & \\dots & \\dots \\\\\n",
    "\\dots & \\dots & \\dots & \\dots & \\dots \\\\\n",
    "y_ny_1K(\\boldsymbol{x}_n,\\boldsymbol{x}_1) & y_ny_2K(\\boldsymbol{x}_n\\boldsymbol{x}_2) & \\dots & \\dots & y_ny_nK(\\boldsymbol{x}_n,\\boldsymbol{x}_n) \\\\\n",
    "\\end{bmatrix}\\boldsymbol{\\lambda}-\\mathbb{I}\\boldsymbol{\\lambda},\n",
    "$$"
   ]
  },
  {
   "cell_type": "markdown",
   "id": "8bc769b8",
   "metadata": {
    "editable": true
   },
   "source": [
    "subject to $\\boldsymbol{y}^T\\boldsymbol{\\lambda}=0$. Here we defined the vectors $\\boldsymbol{\\lambda} =[\\lambda_1,\\lambda_2,\\dots,\\lambda_n]$ and \n",
    "$\\boldsymbol{y}=[y_1,y_2,\\dots,y_n]$. \n",
    "With  the slack constants this leads to the additional constraint $0\\leq \\lambda_i \\leq C$.\n",
    "\n",
    "**code will be added**"
   ]
  },
  {
   "cell_type": "markdown",
   "id": "b08e57ec",
   "metadata": {
    "editable": true
   },
   "source": [
    "## Summary of course"
   ]
  },
  {
   "cell_type": "markdown",
   "id": "1fbe6a9f",
   "metadata": {
    "editable": true
   },
   "source": [
    "## What? Me worry? No final exam in this course!\n",
    "<!-- dom:FIGURE: [figures/exam1.jpeg, width=500 frac=0.6] -->\n",
    "<!-- begin figure -->\n",
    "\n",
    "<img src=\"figures/exam1.jpeg\" width=\"500\"><p style=\"font-size: 0.9em\"><i>Figure 1: </i></p>\n",
    "<!-- end figure -->"
   ]
  },
  {
   "cell_type": "markdown",
   "id": "357b665a",
   "metadata": {
    "editable": true
   },
   "source": [
    "## Topics we have covered this year\n",
    "\n",
    "The course has two central parts\n",
    "\n",
    "1. Statistical analysis and optimization of data\n",
    "\n",
    "2. Machine learning"
   ]
  },
  {
   "cell_type": "markdown",
   "id": "036ae39a",
   "metadata": {
    "editable": true
   },
   "source": [
    "## Statistical analysis and optimization of data\n",
    "\n",
    "The following topics have been discussed:\n",
    "1. Basic concepts, expectation values, variance, covariance, correlation functions and errors;\n",
    "\n",
    "2. Simpler models, binomial distribution, the Poisson distribution, simple and multivariate normal distributions;\n",
    "\n",
    "3. Central elements from linear algebra, matrix inversion and SVD\n",
    "\n",
    "4. Gradient methods for data optimization\n",
    "\n",
    "5. Estimation of errors using cross-validation, bootstrapping and jackknife methods;\n",
    "\n",
    "6. Practical optimization using Singular-value decomposition and least squares for parameterizing data.\n",
    "\n",
    "7. Principal Component Analysis to reduce the number of features."
   ]
  },
  {
   "cell_type": "markdown",
   "id": "df774b11",
   "metadata": {
    "editable": true
   },
   "source": [
    "## Machine learning\n",
    "\n",
    "The following topics will be covered\n",
    "1. Linear methods for regression and classification:\n",
    "\n",
    "a. Ordinary Least Squares\n",
    "\n",
    "b. Ridge regression\n",
    "\n",
    "c. Lasso regression\n",
    "\n",
    "d. Logistic regression\n",
    "\n",
    "5. Neural networks and deep learning:\n",
    "\n",
    "a. Feed Forward Neural Networks\n",
    "\n",
    "b. Convolutional Neural Networks\n",
    "\n",
    "c. Recurrent Neural Networks\n",
    "\n",
    "4. Decisions trees and ensemble methods:\n",
    "\n",
    "a. Decision trees\n",
    "\n",
    "b. Bagging and voting\n",
    "\n",
    "c. Random forests\n",
    "\n",
    "d. Boosting and gradient boosting\n",
    "\n",
    "5. Support vector machines\n",
    "\n",
    "a. Binary classification and multiclass classification\n",
    "\n",
    "b. Kernel methods\n",
    "\n",
    "c. Regression"
   ]
  },
  {
   "cell_type": "markdown",
   "id": "46e8bc30",
   "metadata": {
    "editable": true
   },
   "source": [
    "## Learning outcomes and overarching aims of this course\n",
    "\n",
    "The course introduces a variety of central algorithms and methods\n",
    "essential for studies of data analysis and machine learning. The\n",
    "course is project based and through the various projects, normally\n",
    "three, you will be exposed to fundamental research problems\n",
    "in these fields, with the aim to reproduce state of the art scientific\n",
    "results. The students will learn to develop and structure large codes\n",
    "for studying these systems, get acquainted with computing facilities\n",
    "and learn to handle large scientific projects. A good scientific and\n",
    "ethical conduct is emphasized throughout the course. \n",
    "\n",
    "* Understand linear methods for regression and classification;\n",
    "\n",
    "* Learn about neural network;\n",
    "\n",
    "* Learn about bagging, boosting and trees\n",
    "\n",
    "* Support vector machines\n",
    "\n",
    "* Learn about basic data analysis;\n",
    "\n",
    "* Be capable of extending the acquired knowledge to other systems and cases;\n",
    "\n",
    "* Have an understanding of central algorithms used in data analysis and machine learning;\n",
    "\n",
    "* Work on numerical projects to illustrate the theory. The projects play a central role and you are expected to know modern programming languages like Python or C++."
   ]
  },
  {
   "cell_type": "markdown",
   "id": "5c906b4a",
   "metadata": {
    "editable": true
   },
   "source": [
    "## Perspective on Machine Learning\n",
    "\n",
    "1. Rapidly emerging application area\n",
    "\n",
    "2. Experiment AND theory are evolving in many many fields. Still many low-hanging fruits.\n",
    "\n",
    "3. Requires education/retraining for more widespread adoption\n",
    "\n",
    "4. A lot of “word-of-mouth” development methods\n",
    "\n",
    "Huge amounts of data sets require automation, classical analysis tools often inadequate. \n",
    "High energy physics hit this wall in the 90’s.\n",
    "In 2009 single top quark production was determined via [Boosted decision trees, Bayesian\n",
    "Neural Networks, etc.](https://arxiv.org/pdf/0903.0850.pdf)"
   ]
  },
  {
   "cell_type": "markdown",
   "id": "90eb24f6",
   "metadata": {
    "editable": true
   },
   "source": [
    "## Machine Learning Research\n",
    "\n",
    "Where to find recent results:\n",
    "1. Conference proceedings, arXiv and blog posts!\n",
    "\n",
    "2. **NIPS**: [Neural Information Processing Systems](https://papers.nips.cc)\n",
    "\n",
    "3. **ICLR**: [International Conference on Learning Representations](https://openreview.net/group?id=ICLR.cc/2018/Conference#accepted-oral-papers)\n",
    "\n",
    "4. **ICML**: International Conference on Machine Learning\n",
    "\n",
    "5. [Journal of Machine Learning Research](http://www.jmlr.org/papers/v19/) \n",
    "\n",
    "6. [Follow ML on ArXiv](https://arxiv.org/list/cs.LG/recent)"
   ]
  },
  {
   "cell_type": "markdown",
   "id": "2d06d0ec",
   "metadata": {
    "editable": true
   },
   "source": [
    "## Starting your Machine Learning Project\n",
    "\n",
    "1. Identify problem type: classification, regression\n",
    "\n",
    "2. Consider your data carefully\n",
    "\n",
    "3. Choose a simple model that fits 1. and 2.\n",
    "\n",
    "4. Consider your data carefully again! Think of data representation more carefully.\n",
    "\n",
    "5. Based on your results, feedback loop to earliest possible point"
   ]
  },
  {
   "cell_type": "markdown",
   "id": "3328ed06",
   "metadata": {
    "editable": true
   },
   "source": [
    "## Choose a Model and Algorithm\n",
    "\n",
    "1. Supervised?\n",
    "\n",
    "2. Start with the simplest model that fits your problem\n",
    "\n",
    "3. Start with minimal processing of data"
   ]
  },
  {
   "cell_type": "markdown",
   "id": "063cba9c",
   "metadata": {
    "editable": true
   },
   "source": [
    "## Preparing Your Data\n",
    "\n",
    "1. Shuffle your data\n",
    "\n",
    "2. Mean center your data\n",
    "\n",
    "  * Why?\n",
    "\n",
    "3. Normalize the variance\n",
    "\n",
    "  * Why?\n",
    "\n",
    "4. **Whitening**\n",
    "\n",
    "  * Decorrelates data\n",
    "\n",
    "  * Can be hit or miss\n",
    "\n",
    "5. When to do train/test split?"
   ]
  },
  {
   "cell_type": "markdown",
   "id": "654a24c6",
   "metadata": {
    "editable": true
   },
   "source": [
    "## Which Activation and Weights to Choose in Neural Networks\n",
    "\n",
    "1. RELU? ELU?\n",
    "\n",
    "2. Sigmoid or Tanh?\n",
    "\n",
    "3. Set all weights to 0?\n",
    "\n",
    "  * Terrible idea\n",
    "\n",
    "4. Set all weights to random values?\n",
    "\n",
    "  * Small random values"
   ]
  },
  {
   "cell_type": "markdown",
   "id": "0b522f71",
   "metadata": {
    "editable": true
   },
   "source": [
    "## Optimization Methods and Hyperparameters\n",
    "1. Stochastic gradient descent\n",
    "\n",
    "a. Stochastic gradient descent + momentum\n",
    "\n",
    "2. State-of-the-art approaches:\n",
    "\n",
    "  * RMSProp\n",
    "\n",
    "  * Adam\n",
    "\n",
    "  * and more\n",
    "\n",
    "Which regularization and hyperparameters? $L_1$ or $L_2$, soft\n",
    "classifiers, depths of trees and many other. Need to explore a large\n",
    "set of hyperparameters and regularization methods."
   ]
  },
  {
   "cell_type": "markdown",
   "id": "a0696241",
   "metadata": {
    "editable": true
   },
   "source": [
    "## Resampling\n",
    "\n",
    "When do we resample?\n",
    "\n",
    "1. [Bootstrap](https://www.cambridge.org/core/books/bootstrap-methods-and-their-application/ED2FD043579F27952363566DC09CBD6A)\n",
    "\n",
    "2. [Cross-validation](https://www.youtube.com/watch?v=fSytzGwwBVw&ab_channel=StatQuestwithJoshStarmer)\n",
    "\n",
    "3. Jackknife and many other"
   ]
  },
  {
   "cell_type": "markdown",
   "id": "f0de0167",
   "metadata": {
    "editable": true
   },
   "source": [
    "## Other courses on Data science and Machine Learning  at UiO\n",
    "\n",
    "The link here <https://www.mn.uio.no/english/research/about/centre-focus/innovation/data-science/studies/>  gives an excellent overview of courses on Machine learning at UiO.\n",
    "\n",
    "1. [STK2100 Machine learning and statistical methods for prediction and classification](http://www.uio.no/studier/emner/matnat/math/STK2100/index-eng.html). \n",
    "\n",
    "2. [IN3050/IN4050 Introduction to Artificial Intelligence and Machine Learning](https://www.uio.no/studier/emner/matnat/ifi/IN3050/index-eng.html). Introductory course in machine learning and AI with an algorithmic approach. \n",
    "\n",
    "3. [STK-INF3000/4000 Selected Topics in Data Science](http://www.uio.no/studier/emner/matnat/math/STK-INF3000/index-eng.html). The course provides insight into selected contemporary relevant topics within Data Science. \n",
    "\n",
    "4. [IN4080 Natural Language Processing](https://www.uio.no/studier/emner/matnat/ifi/IN4080/index.html). Probabilistic and machine learning techniques applied to natural language processing. \n",
    "\n",
    "5. [STK-IN4300 – Statistical learning methods in Data Science](https://www.uio.no/studier/emner/matnat/math/STK-IN4300/index-eng.html). An advanced introduction to statistical and machine learning. For students with a good mathematics and statistics background.\n",
    "\n",
    "6. [IN-STK5000  Adaptive Methods for Data-Based Decision Making](https://www.uio.no/studier/emner/matnat/ifi/IN-STK5000/index-eng.html). Methods for adaptive collection and processing of data based on machine learning techniques. \n",
    "\n",
    "7. [IN5400/INF5860 – Machine Learning for Image Analysis](https://www.uio.no/studier/emner/matnat/ifi/IN5400/). An introduction to deep learning with particular emphasis on applications within Image analysis, but useful for other application areas too.\n",
    "\n",
    "8. [TEK5040 – Dyp læring for autonome systemer](https://www.uio.no/studier/emner/matnat/its/TEK5040/). The course addresses advanced algorithms and architectures for deep learning with neural networks. The course provides an introduction to how deep-learning techniques can be used in the construction of key parts of advanced autonomous systems that exist in physical environments and cyber environments."
   ]
  },
  {
   "cell_type": "markdown",
   "id": "b0896b77",
   "metadata": {
    "editable": true
   },
   "source": [
    "## Additional courses of interest\n",
    "\n",
    "1. [STK4051 Computational Statistics](https://www.uio.no/studier/emner/matnat/math/STK4051/index-eng.html)\n",
    "\n",
    "2. [STK4021 Applied Bayesian Analysis and Numerical Methods](https://www.uio.no/studier/emner/matnat/math/STK4021/index-eng.html)"
   ]
  },
  {
   "cell_type": "markdown",
   "id": "95af654b",
   "metadata": {
    "editable": true
   },
   "source": [
    "## What's the future like?\n",
    "\n",
    "Based on multi-layer nonlinear neural networks, deep learning can\n",
    "learn directly from raw data, automatically extract and abstract\n",
    "features from layer to layer, and then achieve the goal of regression,\n",
    "classification, or ranking. Deep learning has made breakthroughs in\n",
    "computer vision, speech processing and natural language, and reached\n",
    "or even surpassed human level. The success of deep learning is mainly\n",
    "due to the three factors: big data, big model, and big computing.\n",
    "\n",
    "In the past few decades, many different architectures of deep neural\n",
    "networks have been proposed, such as\n",
    "1. Convolutional neural networks, which are mostly used in image and video data processing, and have also been applied to sequential data such as text processing;\n",
    "\n",
    "2. Recurrent neural networks, which can process sequential data of variable length and have been widely used in natural language understanding and speech processing;\n",
    "\n",
    "3. Encoder-decoder framework, which is mostly used for image or sequence generation, such as machine translation, text summarization, and image captioning."
   ]
  },
  {
   "cell_type": "markdown",
   "id": "509ed8ed",
   "metadata": {
    "editable": true
   },
   "source": [
    "## Types of Machine Learning, a repetition\n",
    "\n",
    "The approaches to machine learning are many, but are often split into two main categories. \n",
    "In *supervised learning* we know the answer to a problem,\n",
    "and let the computer deduce the logic behind it. On the other hand, *unsupervised learning*\n",
    "is a method for finding patterns and relationship in data sets without any prior knowledge of the system.\n",
    "Some authours also operate with a third category, namely *reinforcement learning*. This is a paradigm \n",
    "of learning inspired by behavioural psychology, where learning is achieved by trial-and-error, \n",
    "solely from rewards and punishment.\n",
    "\n",
    "Another way to categorize machine learning tasks is to consider the desired output of a system.\n",
    "Some of the most common tasks are:\n",
    "\n",
    "  * Classification: Outputs are divided into two or more classes. The goal is to   produce a model that assigns inputs into one of these classes. An example is to identify  digits based on pictures of hand-written ones. Classification is typically supervised learning.\n",
    "\n",
    "  * Regression: Finding a functional relationship between an input data set and a reference data set.   The goal is to construct a function that maps input data to continuous output values.\n",
    "\n",
    "  * Clustering: Data are divided into groups with certain common traits, without knowing the different groups beforehand.  It is thus a form of unsupervised learning.\n",
    "\n",
    "  * Other unsupervised learning algortihms like **Boltzmann machines**"
   ]
  },
  {
   "cell_type": "markdown",
   "id": "2abc1c1f",
   "metadata": {
    "editable": true
   },
   "source": [
    "## Why Boltzmann machines?\n",
    "\n",
    "What is known as restricted Boltzmann Machines (RMB) have received a lot of attention lately. \n",
    "One of the major reasons is that they can be stacked layer-wise to build deep neural networks that capture complicated statistics.\n",
    "\n",
    "The original RBMs had just one visible layer and a hidden layer, but recently so-called Gaussian-binary RBMs have gained quite some popularity in imaging since they are capable of modeling continuous data that are common to natural images. \n",
    "\n",
    "Furthermore, they have been used to solve complicated [quantum mechanical many-particle problems or classical statistical physics problems like the Ising and Potts classes of models](https://journals.aps.org/rmp/abstract/10.1103/RevModPhys.91.045002)."
   ]
  },
  {
   "cell_type": "markdown",
   "id": "dd46cd6a",
   "metadata": {
    "editable": true
   },
   "source": [
    "## Boltzmann Machines\n",
    "\n",
    "Why use a generative model rather than the more well known discriminative deep neural networks (DNN)? \n",
    "\n",
    "* Discriminitave methods have several limitations: They are mainly supervised learning methods, thus requiring labeled data. And there are tasks they cannot accomplish, like drawing new examples from an unknown probability distribution.\n",
    "\n",
    "* A generative model can learn to represent and sample from a probability distribution. The core idea is to learn a parametric model of the probability distribution from which the training data was drawn. As an example\n",
    "\n",
    "a. A model for images could learn to draw new examples of cats and dogs, given a training dataset of images of cats and dogs.\n",
    "\n",
    "b. Generate a sample of an ordered or disordered phase, having been given samples of such phases.\n",
    "\n",
    "c. Model the trial function for [Monte Carlo calculations](https://journals.aps.org/rmp/abstract/10.1103/RevModPhys.91.045002)."
   ]
  },
  {
   "cell_type": "markdown",
   "id": "aa90be3c",
   "metadata": {
    "editable": true
   },
   "source": [
    "## Some similarities and differences from DNNs\n",
    "\n",
    "1. Both use gradient-descent based learning procedures for minimizing cost functions\n",
    "\n",
    "2. Energy based models don't use backpropagation and automatic differentiation for computing gradients, instead turning to Markov Chain Monte Carlo methods.\n",
    "\n",
    "3. DNNs often have several hidden layers. A restricted Boltzmann machine has only one hidden layer, however several RBMs can be stacked to make up Deep Belief Networks, of which they constitute the building blocks.\n",
    "\n",
    "History: The RBM was developed by amongst others [Geoffrey Hinton](https://en.wikipedia.org/wiki/Geoffrey_Hinton), called by some the \"Godfather of Deep Learning\", working with the University of Toronto and Google."
   ]
  },
  {
   "cell_type": "markdown",
   "id": "9baeb6fc",
   "metadata": {
    "editable": true
   },
   "source": [
    "## Boltzmann machines (BM)\n",
    "\n",
    "A BM is what we would call an undirected probabilistic graphical model\n",
    "with stochastic continuous or discrete units.\n",
    "\n",
    "It is interpreted as a stochastic recurrent neural network where the\n",
    "state of each unit(neurons/nodes) depends on the units it is connected\n",
    "to. The weights in the network represent thus the strength of the\n",
    "interaction between various units/nodes.\n",
    "\n",
    "It turns into a Hopfield network if we choose deterministic rather\n",
    "than stochastic units. In contrast to a Hopfield network, a BM is a\n",
    "so-called generative model. It allows us to generate new samples from\n",
    "the learned distribution."
   ]
  },
  {
   "cell_type": "markdown",
   "id": "6e922377",
   "metadata": {
    "editable": true
   },
   "source": [
    "## A standard BM setup\n",
    "\n",
    "A standard BM network is divided into a set of observable and visible units $\\hat{x}$ and a set of unknown hidden units/nodes $\\hat{h}$.\n",
    "\n",
    "Additionally there can be bias nodes for the hidden and visible layers. These biases are normally set to $1$.\n",
    "\n",
    "BMs are stackable, meaning they cwe can train a BM which serves as input to another BM. We can construct deep networks for learning complex PDFs. The layers can be trained one after another, a feature which makes them popular in deep learning\n",
    "\n",
    "However, they are often hard to train. This leads to the introduction of so-called restricted BMs, or RBMS.\n",
    "Here we take away all lateral connections between nodes in the visible layer as well as connections between nodes in the hidden layer. The network is illustrated in the figure below."
   ]
  },
  {
   "cell_type": "markdown",
   "id": "9467df93",
   "metadata": {
    "editable": true
   },
   "source": [
    "## The structure of the RBM network\n",
    "\n",
    "<!-- dom:FIGURE: [figures/RBM.png, width=800 frac=1.0] -->\n",
    "<!-- begin figure -->\n",
    "\n",
    "<img src=\"figures/RBM.png\" width=\"800\"><p style=\"font-size: 0.9em\"><i>Figure 1: </i></p>\n",
    "<!-- end figure -->"
   ]
  },
  {
   "cell_type": "markdown",
   "id": "08d89ce1",
   "metadata": {
    "editable": true
   },
   "source": [
    "## The network\n",
    "\n",
    "**The network layers**:\n",
    "1. A function $\\mathbf{x}$ that represents the visible layer, a vector of $M$ elements (nodes). This layer represents both what the RBM might be given as training input, and what we want it to be able to reconstruct. This might for example be given by the pixels of an image or coefficients representing speech, or the coordinates of a quantum mechanical state function.\n",
    "\n",
    "2. The function $\\mathbf{h}$ represents the hidden, or latent, layer. A vector of $N$ elements (nodes). Also called \"feature detectors\"."
   ]
  },
  {
   "cell_type": "markdown",
   "id": "7d7d4fed",
   "metadata": {
    "editable": true
   },
   "source": [
    "## Goals\n",
    "\n",
    "The goal of the hidden layer is to increase the model's expressive\n",
    "power. We encode complex interactions between visible variables by\n",
    "introducing additional, hidden variables that interact with visible\n",
    "degrees of freedom in a simple manner, yet still reproduce the complex\n",
    "correlations between visible degrees in the data once marginalized\n",
    "over (integrated out).\n",
    "\n",
    "**The network parameters, to be optimized/learned**:\n",
    "1. $\\mathbf{a}$ represents the visible bias, a vector of same length as $\\mathbf{x}$.\n",
    "\n",
    "2. $\\mathbf{b}$ represents the hidden bias, a vector of same lenght as $\\mathbf{h}$.\n",
    "\n",
    "3. $W$ represents the interaction weights, a matrix of size $M\\times N$."
   ]
  },
  {
   "cell_type": "markdown",
   "id": "7429c840",
   "metadata": {
    "editable": true
   },
   "source": [
    "## Joint distribution\n",
    "\n",
    "The restricted Boltzmann machine is described by a Boltzmann distribution"
   ]
  },
  {
   "cell_type": "markdown",
   "id": "f5debabb",
   "metadata": {
    "editable": true
   },
   "source": [
    "<!-- Equation labels as ordinary links -->\n",
    "<div id=\"_auto1\"></div>\n",
    "\n",
    "$$\n",
    "\\begin{equation}\n",
    "\tP_{rbm}(\\mathbf{x},\\mathbf{h}) = \\frac{1}{Z} e^{-\\frac{1}{T_0}E(\\mathbf{x},\\mathbf{h})},\n",
    "\\label{_auto1} \\tag{1}\n",
    "\\end{equation}\n",
    "$$"
   ]
  },
  {
   "cell_type": "markdown",
   "id": "6e43b075",
   "metadata": {
    "editable": true
   },
   "source": [
    "where $Z$ is the normalization constant or partition function, defined as"
   ]
  },
  {
   "cell_type": "markdown",
   "id": "a9d075f0",
   "metadata": {
    "editable": true
   },
   "source": [
    "<!-- Equation labels as ordinary links -->\n",
    "<div id=\"_auto2\"></div>\n",
    "\n",
    "$$\n",
    "\\begin{equation}\n",
    "\tZ = \\int \\int e^{-\\frac{1}{T_0}E(\\mathbf{x},\\mathbf{h})} d\\mathbf{x} d\\mathbf{h}.\n",
    "\\label{_auto2} \\tag{2}\n",
    "\\end{equation}\n",
    "$$"
   ]
  },
  {
   "cell_type": "markdown",
   "id": "bd793fc2",
   "metadata": {
    "editable": true
   },
   "source": [
    "It is common to ignore $T_0$ by setting it to one."
   ]
  },
  {
   "cell_type": "markdown",
   "id": "a8976f06",
   "metadata": {
    "editable": true
   },
   "source": [
    "## Network Elements, the energy function\n",
    "\n",
    "The function $E(\\mathbf{x},\\mathbf{h})$ gives the **energy** of a\n",
    "configuration (pair of vectors) $(\\mathbf{x}, \\mathbf{h})$. The lower\n",
    "the energy of a configuration, the higher the probability of it. This\n",
    "function also depends on the parameters $\\mathbf{a}$, $\\mathbf{b}$ and\n",
    "$W$. Thus, when we adjust them during the learning procedure, we are\n",
    "adjusting the energy function to best fit our problem.\n",
    "\n",
    "An expression for the energy function is"
   ]
  },
  {
   "cell_type": "markdown",
   "id": "1c83ae78",
   "metadata": {
    "editable": true
   },
   "source": [
    "$$\n",
    "E(\\hat{x},\\hat{h}) = -\\sum_{ia}^{NA}b_i^a \\alpha_i^a(x_i)-\\sum_{jd}^{MD}c_j^d \\beta_j^d(h_j)-\\sum_{ijad}^{NAMD}b_i^a \\alpha_i^a(x_i)c_j^d \\beta_j^d(h_j)w_{ij}^{ad}.\n",
    "$$"
   ]
  },
  {
   "cell_type": "markdown",
   "id": "12dff191",
   "metadata": {
    "editable": true
   },
   "source": [
    "Here $\\beta_j^d(h_j)$ and $\\alpha_i^a(x_j)$ are so-called transfer functions that map a given input value to a desired feature value. The labels $a$ and $d$ denote that there can be multiple transfer functions per variable. The first sum depends only on the visible units. The second on the hidden ones. **Note** that there is no connection between nodes in a layer.\n",
    "\n",
    "The quantities $b$ and $c$ can be interpreted as the visible and hidden biases, respectively.\n",
    "\n",
    "The connection between the nodes in the two layers is given by the weights $w_{ij}$."
   ]
  },
  {
   "cell_type": "markdown",
   "id": "78bac9f8",
   "metadata": {
    "editable": true
   },
   "source": [
    "## Defining different types of RBMs\n",
    "There are different variants of RBMs, and the differences lie in the types of visible and hidden units we choose as well as in the implementation of the energy function $E(\\mathbf{x},\\mathbf{h})$. \n",
    "\n",
    "**Binary-Binary RBM:**\n",
    "\n",
    "RBMs were first developed using binary units in both the visible and hidden layer. The corresponding energy function is defined as follows:"
   ]
  },
  {
   "cell_type": "markdown",
   "id": "dffac8d3",
   "metadata": {
    "editable": true
   },
   "source": [
    "<!-- Equation labels as ordinary links -->\n",
    "<div id=\"_auto3\"></div>\n",
    "\n",
    "$$\n",
    "\\begin{equation}\n",
    "\tE(\\mathbf{x}, \\mathbf{h}) = - \\sum_i^M x_i a_i- \\sum_j^N b_j h_j - \\sum_{i,j}^{M,N} x_i w_{ij} h_j,\n",
    "\\label{_auto3} \\tag{3}\n",
    "\\end{equation}\n",
    "$$"
   ]
  },
  {
   "cell_type": "markdown",
   "id": "e170b4b2",
   "metadata": {
    "editable": true
   },
   "source": [
    "where the binary values taken on by the nodes are most commonly 0 and 1.\n",
    "\n",
    "**Gaussian-Binary RBM:**\n",
    "\n",
    "Another varient is the RBM where the visible units are Gaussian while the hidden units remain binary:"
   ]
  },
  {
   "cell_type": "markdown",
   "id": "fdc03484",
   "metadata": {
    "editable": true
   },
   "source": [
    "<!-- Equation labels as ordinary links -->\n",
    "<div id=\"_auto4\"></div>\n",
    "\n",
    "$$\n",
    "\\begin{equation}\n",
    "\tE(\\mathbf{x}, \\mathbf{h}) = \\sum_i^M \\frac{(x_i - a_i)^2}{2\\sigma_i^2} - \\sum_j^N b_j h_j - \\sum_{i,j}^{M,N} \\frac{x_i w_{ij} h_j}{\\sigma_i^2}. \n",
    "\\label{_auto4} \\tag{4}\n",
    "\\end{equation}\n",
    "$$"
   ]
  },
  {
   "cell_type": "markdown",
   "id": "6079489b",
   "metadata": {
    "editable": true
   },
   "source": [
    "## More about RBMs\n",
    "1. Useful when we model continuous data (i.e., we wish $\\mathbf{x}$ to be continuous)\n",
    "\n",
    "2. Requires a smaller learning rate, since there's no upper bound to the value a component might take in the reconstruction\n",
    "\n",
    "Other types of units include:\n",
    "1. Softmax and multinomial units\n",
    "\n",
    "2. Gaussian visible and hidden units\n",
    "\n",
    "3. Binomial units\n",
    "\n",
    "4. Rectified linear units\n",
    "\n",
    "To read more, see [Lectures on Boltzmann machines in Physics](https://github.com/CompPhysics/ComputationalPhysics2/blob/gh-pages/doc/pub/notebook2/ipynb/notebook2.ipynb)."
   ]
  },
  {
   "cell_type": "markdown",
   "id": "f167d850",
   "metadata": {
    "editable": true
   },
   "source": [
    "## Autoencoders: Overarching view\n",
    "\n",
    "Autoencoders are artificial neural networks capable of learning\n",
    "efficient representations of the input data (these representations are called codings)  without\n",
    "any supervision (i.e., the training set is unlabeled). These codings\n",
    "typically have a much lower dimensionality than the input data, making\n",
    "autoencoders useful for dimensionality reduction. \n",
    "\n",
    "More importantly, autoencoders act as powerful feature detectors, and\n",
    "they can be used for unsupervised pretraining of deep neural networks.\n",
    "\n",
    "Lastly, they are capable of randomly generating new data that looks\n",
    "very similar to the training data; this is called a generative\n",
    "model. For example, you could train an autoencoder on pictures of\n",
    "faces, and it would then be able to generate new faces.  Surprisingly,\n",
    "autoencoders work by simply learning to copy their inputs to their\n",
    "outputs. This may sound like a trivial task, but we will see that\n",
    "constraining the network in various ways can make it rather\n",
    "difficult. For example, you can limit the size of the internal\n",
    "representation, or you can add noise to the inputs and train the\n",
    "network to recover the original inputs. These constraints prevent the\n",
    "autoencoder from trivially copying the inputs directly to the outputs,\n",
    "which forces it to learn efficient ways of representing the data. In\n",
    "short, the codings are byproducts of the autoencoder’s attempt to\n",
    "learn the identity function under some constraints.\n",
    "\n",
    "[Video on autoencoders](https://www.coursera.org/lecture/building-deep-learning-models-with-tensorflow/autoencoders-1U4L3)\n",
    "\n",
    "See also A. Geron's textbook, chapter 15."
   ]
  },
  {
   "cell_type": "markdown",
   "id": "92f837ab",
   "metadata": {
    "editable": true
   },
   "source": [
    "## Bayesian Machine Learning\n",
    "\n",
    "This is an important topic if we aim at extracting a probability\n",
    "distribution. This gives us also a confidence interval and error\n",
    "estimates.\n",
    "\n",
    "Bayesian machine learning allows us to encode our prior beliefs about\n",
    "what those models should look like, independent of what the data tells\n",
    "us. This is especially useful when we don’t have a ton of data to\n",
    "confidently learn our model.\n",
    "\n",
    "[Video on Bayesian deep learning](https://www.youtube.com/watch?v=E1qhGw8QxqY&ab_channel=AndrewGordonWilson)\n",
    "\n",
    "See also the [slides here](https://github.com/CompPhysics/MachineLearning/blob/master/doc/Articles/lec03.pdf)."
   ]
  },
  {
   "cell_type": "markdown",
   "id": "35de7d79",
   "metadata": {
    "editable": true
   },
   "source": [
    "## Reinforcement Learning\n",
    "\n",
    "Reinforcement Learning (RL) is one of the most exciting fields of\n",
    "Machine Learning today, and also one of the oldest. It has been around\n",
    "since the 1950s, producing many interesting applications over the\n",
    "years.\n",
    "\n",
    "It studies\n",
    "how agents take actions based on trial and error, so as to maximize\n",
    "some notion of cumulative reward in a dynamic system or\n",
    "environment. Due to its generality, the problem has also been studied\n",
    "in many other disciplines, such as game theory, control theory,\n",
    "operations research, information theory, multi-agent systems, swarm\n",
    "intelligence, statistics, and genetic algorithms.\n",
    "\n",
    "In March 2016, AlphaGo, a computer program that plays the board game\n",
    "Go, beat Lee Sedol in a five-game match. This was the first time a\n",
    "computer Go program had beaten a 9-dan (highest rank) professional\n",
    "without handicaps. AlphaGo is based on deep convolutional neural\n",
    "networks and reinforcement learning. AlphaGo’s victory was a major\n",
    "milestone in artificial intelligence and it has also made\n",
    "reinforcement learning a hot research area in the field of machine\n",
    "learning.\n",
    "\n",
    "[Lecture on Reinforcement Learning](https://www.youtube.com/watch?v=FgzM3zpZ55o&ab_channel=stanfordonline).\n",
    "\n",
    "See also A. Geron's textbook, chapter 16."
   ]
  },
  {
   "cell_type": "markdown",
   "id": "2341b6e9",
   "metadata": {
    "editable": true
   },
   "source": [
    "## Transfer learning\n",
    "\n",
    "The goal of transfer learning is to transfer the model or knowledge\n",
    "obtained from a source task to the target task, in order to resolve\n",
    "the issues of insufficient training data in the target task. The\n",
    "rationality of doing so lies in that usually the source and target\n",
    "tasks have inter-correlations, and therefore either the features,\n",
    "samples, or models in the source task might provide useful information\n",
    "for us to better solve the target task. Transfer learning is a hot\n",
    "research topic in recent years, with many problems still waiting to be studied.\n",
    "\n",
    "[Lecture on transfer learning](https://www.ias.edu/video/machinelearning/2020/0331-SamoryKpotufe)."
   ]
  },
  {
   "cell_type": "markdown",
   "id": "074e8484",
   "metadata": {
    "editable": true
   },
   "source": [
    "## Adversarial learning\n",
    "\n",
    "The conventional deep generative model has a potential problem: the\n",
    "model tends to generate extreme instances to maximize the\n",
    "probabilistic likelihood, which will hurt its performance. Adversarial\n",
    "learning utilizes the adversarial behaviors (e.g., generating\n",
    "adversarial instances or training an adversarial model) to enhance the\n",
    "robustness of the model and improve the quality of the generated\n",
    "data. In recent years, one of the most promising unsupervised learning\n",
    "technologies, generative adversarial networks (GAN), has already been\n",
    "successfully applied to image, speech, and text.\n",
    "\n",
    "[Lecture on adversial learning](https://www.youtube.com/watch?v=CIfsB_EYsVI&ab_channel=StanfordUniversitySchoolofEngineering)."
   ]
  },
  {
   "cell_type": "markdown",
   "id": "c17c3b86",
   "metadata": {
    "editable": true
   },
   "source": [
    "## Dual learning\n",
    "\n",
    "Dual learning is a new learning paradigm, the basic idea of which is\n",
    "to use the primal-dual structure between machine learning tasks to\n",
    "obtain effective feedback/regularization, and guide and strengthen the\n",
    "learning process, thus reducing the requirement of large-scale labeled\n",
    "data for deep learning. The idea of dual learning has been applied to\n",
    "many problems in machine learning, including machine translation,\n",
    "image style conversion, question answering and generation, image\n",
    "classification and generation, text classification and generation,\n",
    "image-to-text, and text-to-image."
   ]
  },
  {
   "cell_type": "markdown",
   "id": "49a1a37d",
   "metadata": {
    "editable": true
   },
   "source": [
    "## Distributed machine learning\n",
    "\n",
    "Distributed computation will speed up machine learning algorithms,\n",
    "significantly improve their efficiency, and thus enlarge their\n",
    "application. When distributed meets machine learning, more than just\n",
    "implementing the machine learning algorithms in parallel is required."
   ]
  },
  {
   "cell_type": "markdown",
   "id": "a185bd43",
   "metadata": {
    "editable": true
   },
   "source": [
    "## Meta learning\n",
    "\n",
    "Meta learning is an emerging research direction in machine\n",
    "learning. Roughly speaking, meta learning concerns learning how to\n",
    "learn, and focuses on the understanding and adaptation of the learning\n",
    "itself, instead of just completing a specific learning task. That is,\n",
    "a meta learner needs to be able to evaluate its own learning methods\n",
    "and adjust its own learning methods according to specific learning\n",
    "tasks."
   ]
  },
  {
   "cell_type": "markdown",
   "id": "53273d78",
   "metadata": {
    "editable": true
   },
   "source": [
    "## The Challenges Facing Machine Learning\n",
    "\n",
    "While there has been much progress in machine learning, there are also challenges.\n",
    "\n",
    "For example, the mainstream machine learning technologies are\n",
    "black-box approaches, making us concerned about their potential\n",
    "risks. To tackle this challenge, we may want to make machine learning\n",
    "more explainable and controllable. As another example, the\n",
    "computational complexity of machine learning algorithms is usually\n",
    "very high and we may want to invent lightweight algorithms or\n",
    "implementations. Furthermore, in many domains such as physics,\n",
    "chemistry, biology, and social sciences, people usually seek elegantly\n",
    "simple equations (e.g., the Schrödinger equation) to uncover the\n",
    "underlying laws behind various phenomena. In the field of machine\n",
    "learning, can we reveal simple laws instead of designing more complex\n",
    "models for data fitting? Although there are many challenges, we are\n",
    "still very optimistic about the future of machine learning. As we look\n",
    "forward to the future, here are what we think the research hotspots in\n",
    "the next ten years will be.\n",
    "\n",
    "See the article on [Discovery of Physics From Data: Universal Laws and Discrepancies](https://www.frontiersin.org/articles/10.3389/frai.2020.00025/full)"
   ]
  },
  {
   "cell_type": "markdown",
   "id": "db13f810",
   "metadata": {
    "editable": true
   },
   "source": [
    "## Explainable machine learning\n",
    "\n",
    "Machine learning, especially deep learning, evolves rapidly. The\n",
    "ability gap between machine and human on many complex cognitive tasks\n",
    "becomes narrower and narrower. However, we are still in the very early\n",
    "stage in terms of explaining why those effective models work and how\n",
    "they work.\n",
    "\n",
    "**What is missing: the gap between correlation and causation**. Standard Machine Learning is based on what e have called a frequentist approach. \n",
    "\n",
    "Most\n",
    "machine learning techniques, especially the statistical ones, depend\n",
    "highly on correlations in data sets to make predictions and analyses. In\n",
    "contrast, rational humans tend to reply on clear and trustworthy\n",
    "causality relations obtained via logical reasoning on real and clear\n",
    "facts. It is one of the core goals of explainable machine learning to\n",
    "transition from solving problems by data correlation to solving\n",
    "problems by logical reasoning.\n",
    "\n",
    "**Bayesian Machine Learning is one of the exciting research directions in this field**."
   ]
  },
  {
   "cell_type": "markdown",
   "id": "753fa5bb",
   "metadata": {
    "editable": true
   },
   "source": [
    "## Quantum machine learning\n",
    "\n",
    "Quantum machine learning is an emerging interdisciplinary research\n",
    "area at the intersection of quantum computing and machine learning.\n",
    "\n",
    "Quantum computers use effects such as quantum coherence and quantum\n",
    "entanglement to process information, which is fundamentally different\n",
    "from classical computers. Quantum algorithms have surpassed the best\n",
    "classical algorithms in several problems (e.g., searching for an\n",
    "unsorted database, inverting a sparse matrix), which we call quantum\n",
    "acceleration.\n",
    "\n",
    "When quantum computing meets machine learning, it can be a mutually\n",
    "beneficial and reinforcing process, as it allows us to take advantage\n",
    "of quantum computing to improve the performance of classical machine\n",
    "learning algorithms. In addition, we can also use the machine learning\n",
    "algorithms (on classic computers) to analyze and improve quantum\n",
    "computing systems.\n",
    "\n",
    "[Lecture on Quantum ML](https://www.youtube.com/watch?v=Xh9pUu3-WxM&ab_channel=InstituteforPure%26AppliedMathematics%28IPAM%29).\n",
    "\n",
    "[Read interview with Maria Schuld on her work on Quantum Machine Learning](https://physics.aps.org/articles/v13/179?utm_campaign=weekly&utm_medium=email&utm_source=emailalert). See also [her recent textbook](https://www.springer.com/gp/book/9783319964232)."
   ]
  },
  {
   "cell_type": "markdown",
   "id": "bebca9bb",
   "metadata": {
    "editable": true
   },
   "source": [
    "## Quantum machine learning algorithms based on linear algebra\n",
    "\n",
    "Many quantum machine learning algorithms are based on variants of\n",
    "quantum algorithms for solving linear equations, which can efficiently\n",
    "solve N-variable linear equations with complexity of O(log2 N) under\n",
    "certain conditions. The quantum matrix inversion algorithm can\n",
    "accelerate many machine learning methods, such as least square linear\n",
    "regression, least square version of support vector machine, Gaussian\n",
    "process, and more. The training of these algorithms can be simplified\n",
    "to solve linear equations. The key bottleneck of this type of quantum\n",
    "machine learning algorithms is data input—that is, how to initialize\n",
    "the quantum system with the entire data set. Although efficient\n",
    "data-input algorithms exist for certain situations, how to efficiently\n",
    "input data into a quantum system is as yet unknown for most cases."
   ]
  },
  {
   "cell_type": "markdown",
   "id": "2e40473f",
   "metadata": {
    "editable": true
   },
   "source": [
    "## Quantum reinforcement learning\n",
    "\n",
    "In quantum reinforcement learning, a quantum agent interacts with the\n",
    "classical environment to obtain rewards from the environment, so as to\n",
    "adjust and improve its behavioral strategies. In some cases, it\n",
    "achieves quantum acceleration by the quantum processing capabilities\n",
    "of the agent or the possibility of exploring the environment through\n",
    "quantum superposition. Such algorithms have been proposed in\n",
    "superconducting circuits and systems of trapped ions."
   ]
  },
  {
   "cell_type": "markdown",
   "id": "5b9ab189",
   "metadata": {
    "editable": true
   },
   "source": [
    "## Quantum deep learning\n",
    "\n",
    "Dedicated quantum information processors, such as quantum annealers\n",
    "and programmable photonic circuits, are well suited for building deep\n",
    "quantum networks. The simplest deep quantum network is the Boltzmann\n",
    "machine. The classical Boltzmann machine consists of bits with tunable\n",
    "interactions and is trained by adjusting the interaction of these bits\n",
    "so that the distribution of its expression conforms to the statistics\n",
    "of the data. To quantize the Boltzmann machine, the neural network can\n",
    "simply be represented as a set of interacting quantum spins that\n",
    "correspond to an adjustable Ising model. Then, by initializing the\n",
    "input neurons in the Boltzmann machine to a fixed state and allowing\n",
    "the system to heat up, we can read out the output qubits to get the\n",
    "result."
   ]
  },
  {
   "cell_type": "markdown",
   "id": "c152d5d8",
   "metadata": {
    "editable": true
   },
   "source": [
    "## Social machine learning\n",
    "\n",
    "Machine learning aims to imitate how humans\n",
    "learn. While we have developed successful machine learning algorithms,\n",
    "until now we have ignored one important fact: humans are social. Each\n",
    "of us is one part of the total society and it is difficult for us to\n",
    "live, learn, and improve ourselves, alone and isolated. Therefore, we\n",
    "should design machines with social properties. Can we let machines\n",
    "evolve by imitating human society so as to achieve more effective,\n",
    "intelligent, interpretable “social machine learning”?\n",
    "\n",
    "And much more."
   ]
  },
  {
   "cell_type": "markdown",
   "id": "e00bb23f",
   "metadata": {
    "editable": true
   },
   "source": [
    "## The last words?\n",
    "\n",
    "Early computer scientist Alan Kay said, **The best way to predict the\n",
    "future is to create it**. Therefore, all machine learning\n",
    "practitioners, whether scholars or engineers, professors or students,\n",
    "need to work together to advance these important research\n",
    "topics. Together, we will not just predict the future, but create it."
   ]
  },
  {
   "cell_type": "markdown",
   "id": "c6bb101b",
   "metadata": {
    "editable": true
   },
   "source": [
    "## Best wishes to you all and thanks so much for your heroic efforts this semester\n",
    "\n",
    "<!-- dom:FIGURE: [figures/Nebbdyr2.png, width=500 frac=0.6] -->\n",
    "<!-- begin figure -->\n",
    "\n",
    "<img src=\"figures/Nebbdyr2.png\" width=\"500\"><p style=\"font-size: 0.9em\"><i>Figure 1: </i></p>\n",
    "<!-- end figure -->"
   ]
  }
 ],
 "metadata": {},
 "nbformat": 4,
 "nbformat_minor": 5
}
