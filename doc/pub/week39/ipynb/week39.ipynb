{
 "cells": [
  {
   "cell_type": "markdown",
   "metadata": {},
   "source": [
    "<!-- dom:TITLE: Week 39: Optimization and  Gradient Methods -->\n",
    "# Week 39: Optimization and  Gradient Methods\n",
    "<!-- dom:AUTHOR: Morten Hjorth-Jensen at Department of Physics, University of Oslo & Department of Physics and Astronomy and National Superconducting Cyclotron Laboratory, Michigan State University -->\n",
    "<!-- Author: -->  \n",
    "**Morten Hjorth-Jensen**, Department of Physics, University of Oslo and Department of Physics and Astronomy and National Superconducting Cyclotron Laboratory, Michigan State University\n",
    "\n",
    "Date: **Sep 24, 2020**\n",
    "\n",
    "Copyright 1999-2020, Morten Hjorth-Jensen. Released under CC Attribution-NonCommercial 4.0 license\n",
    "\n",
    "\n",
    "\n",
    "## Plan for week 39\n",
    "\n",
    "* Thursday: Repetition of Logistic regression equations and discussion of Gradient methods\n",
    "\n",
    "* Friday: Stochastic Gradient descent with examples and automatic differeantion\n",
    "\n",
    "Reading suggestions for both days: [Aurelien Geron's chapter 4](https://github.com/CompPhysics/MachineLearning/blob/master/doc/Textbooks/TensorflowML.pdf) and [Murphy sections 8.3 and 8.5](https://github.com/CompPhysics/MachineLearning/blob/master/doc/Textbooks/MachineLearningMurphy.pdf) \n",
    "\n",
    "## Thursday September 24\n",
    "\n",
    "[Overview Video, why do we care about gradient methods?](https://www.uio.no/studier/emner/matnat/fys/FYS-STK3155/h20/forelesningsvideoer/OverarchingAimsWeek39.mp4?vrtx=view-as-webpage)\n",
    "\n",
    "## Optimization, the central part of any Machine Learning algortithm\n",
    "\n",
    "Almost every problem in machine learning and data science starts with\n",
    "a dataset $X$, a model $g(\\beta)$, which is a function of the\n",
    "parameters $\\beta$ and a cost function $C(X, g(\\beta))$ that allows\n",
    "us to judge how well the model $g(\\beta)$ explains the observations\n",
    "$X$. The model is fit by finding the values of $\\beta$ that minimize\n",
    "the cost function. Ideally we would be able to solve for $\\beta$\n",
    "analytically, however this is not possible in general and we must use\n",
    "some approximative/numerical method to compute the minimum.\n",
    "\n",
    "\n",
    "## Revisiting our Logistic Regression case\n",
    "\n",
    "In our discussion on Logistic Regression we studied the \n",
    "case of\n",
    "two classes, with $y_i$ either\n",
    "$0$ or $1$. Furthermore we assumed also that we have only two\n",
    "parameters $\\beta$ in our fitting, that is we\n",
    "defined probabilities"
   ]
  },
  {
   "cell_type": "markdown",
   "metadata": {},
   "source": [
    "$$\n",
    "\\begin{align*}\n",
    "p(y_i=1|x_i,\\hat{\\beta}) &= \\frac{\\exp{(\\beta_0+\\beta_1x_i)}}{1+\\exp{(\\beta_0+\\beta_1x_i)}},\\nonumber\\\\\n",
    "p(y_i=0|x_i,\\hat{\\beta}) &= 1 - p(y_i=1|x_i,\\hat{\\beta}),\n",
    "\\end{align*}\n",
    "$$"
   ]
  },
  {
   "cell_type": "markdown",
   "metadata": {},
   "source": [
    "where $\\hat{\\beta}$ are the weights we wish to extract from data, in our case $\\beta_0$ and $\\beta_1$. \n",
    "\n",
    "## The equations to solve\n",
    "\n",
    "Our compact equations used a definition of a vector $\\hat{y}$ with $n$\n",
    "elements $y_i$, an $n\\times p$ matrix $\\hat{X}$ which contains the\n",
    "$x_i$ values and a vector $\\hat{p}$ of fitted probabilities\n",
    "$p(y_i\\vert x_i,\\hat{\\beta})$. We rewrote in a more compact form\n",
    "the first derivative of the cost function as"
   ]
  },
  {
   "cell_type": "markdown",
   "metadata": {},
   "source": [
    "$$\n",
    "\\frac{\\partial \\mathcal{C}(\\hat{\\beta})}{\\partial \\hat{\\beta}} = -\\hat{X}^T\\left(\\hat{y}-\\hat{p}\\right).\n",
    "$$"
   ]
  },
  {
   "cell_type": "markdown",
   "metadata": {},
   "source": [
    "If we in addition define a diagonal matrix $\\hat{W}$ with elements \n",
    "$p(y_i\\vert x_i,\\hat{\\beta})(1-p(y_i\\vert x_i,\\hat{\\beta})$, we can obtain a compact expression of the second derivative as"
   ]
  },
  {
   "cell_type": "markdown",
   "metadata": {},
   "source": [
    "$$\n",
    "\\frac{\\partial^2 \\mathcal{C}(\\hat{\\beta})}{\\partial \\hat{\\beta}\\partial \\hat{\\beta}^T} = \\hat{X}^T\\hat{W}\\hat{X}.\n",
    "$$"
   ]
  },
  {
   "cell_type": "markdown",
   "metadata": {},
   "source": [
    "This defines what is called  the Hessian matrix.\n",
    "\n",
    "## Solving using Newton-Raphson's method\n",
    "\n",
    "If we can set up these equations, Newton-Raphson's iterative method is normally the method of choice. It requires however that we can compute in an efficient way the  matrices that define the first and second derivatives. \n",
    "\n",
    "Our iterative scheme is then given by"
   ]
  },
  {
   "cell_type": "markdown",
   "metadata": {},
   "source": [
    "$$\n",
    "\\hat{\\beta}^{\\mathrm{new}} = \\hat{\\beta}^{\\mathrm{old}}-\\left(\\frac{\\partial^2 \\mathcal{C}(\\hat{\\beta})}{\\partial \\hat{\\beta}\\partial \\hat{\\beta}^T}\\right)^{-1}_{\\hat{\\beta}^{\\mathrm{old}}}\\times \\left(\\frac{\\partial \\mathcal{C}(\\hat{\\beta})}{\\partial \\hat{\\beta}}\\right)_{\\hat{\\beta}^{\\mathrm{old}}},\n",
    "$$"
   ]
  },
  {
   "cell_type": "markdown",
   "metadata": {},
   "source": [
    "or in matrix form as"
   ]
  },
  {
   "cell_type": "markdown",
   "metadata": {},
   "source": [
    "$$\n",
    "\\hat{\\beta}^{\\mathrm{new}} = \\hat{\\beta}^{\\mathrm{old}}-\\left(\\hat{X}^T\\hat{W}\\hat{X} \\right)^{-1}\\times \\left(-\\hat{X}^T(\\hat{y}-\\hat{p}) \\right)_{\\hat{\\beta}^{\\mathrm{old}}}.\n",
    "$$"
   ]
  },
  {
   "cell_type": "markdown",
   "metadata": {},
   "source": [
    "The right-hand side is computed with the old values of $\\beta$. \n",
    "\n",
    "If we can compute these matrices, in particular the Hessian, the above is often the easiest method to implement. \n",
    "\n",
    "\n",
    "## Brief reminder on Newton-Raphson's method\n",
    "\n",
    "Let us quickly remind ourselves how we derive the above method.\n",
    "\n",
    "Perhaps the most celebrated of all one-dimensional root-finding\n",
    "routines is Newton's method, also called the Newton-Raphson\n",
    "method. This method  requires the evaluation of both the\n",
    "function $f$ and its derivative $f'$ at arbitrary points. \n",
    "If you can only calculate the derivative\n",
    "numerically and/or your function is not of the smooth type, we\n",
    "normally discourage the use of this method.\n",
    "\n",
    "## The equations\n",
    "\n",
    "The Newton-Raphson formula consists geometrically of extending the\n",
    "tangent line at a current point until it crosses zero, then setting\n",
    "the next guess to the abscissa of that zero-crossing.  The mathematics\n",
    "behind this method is rather simple. Employing a Taylor expansion for\n",
    "$x$ sufficiently close to the solution $s$, we have"
   ]
  },
  {
   "cell_type": "markdown",
   "metadata": {},
   "source": [
    "<!-- Equation labels as ordinary links -->\n",
    "<div id=\"eq:taylornr\"></div>\n",
    "\n",
    "$$\n",
    "f(s)=0=f(x)+(s-x)f'(x)+\\frac{(s-x)^2}{2}f''(x) +\\dots.\n",
    "    \\label{eq:taylornr} \\tag{1}\n",
    "$$"
   ]
  },
  {
   "cell_type": "markdown",
   "metadata": {},
   "source": [
    "For small enough values of the function and for well-behaved\n",
    "functions, the terms beyond linear are unimportant, hence we obtain"
   ]
  },
  {
   "cell_type": "markdown",
   "metadata": {},
   "source": [
    "$$\n",
    "f(x)+(s-x)f'(x)\\approx 0,\n",
    "$$"
   ]
  },
  {
   "cell_type": "markdown",
   "metadata": {},
   "source": [
    "yielding"
   ]
  },
  {
   "cell_type": "markdown",
   "metadata": {},
   "source": [
    "$$\n",
    "s\\approx x-\\frac{f(x)}{f'(x)}.\n",
    "$$"
   ]
  },
  {
   "cell_type": "markdown",
   "metadata": {},
   "source": [
    "Having in mind an iterative procedure, it is natural to start iterating with"
   ]
  },
  {
   "cell_type": "markdown",
   "metadata": {},
   "source": [
    "$$\n",
    "x_{n+1}=x_n-\\frac{f(x_n)}{f'(x_n)}.\n",
    "$$"
   ]
  },
  {
   "cell_type": "markdown",
   "metadata": {},
   "source": [
    "## Simple geometric interpretation\n",
    "\n",
    "The above is Newton-Raphson's method. It has a simple geometric\n",
    "interpretation, namely $x_{n+1}$ is the point where the tangent from\n",
    "$(x_n,f(x_n))$ crosses the $x$-axis.  Close to the solution,\n",
    "Newton-Raphson converges fast to the desired result. However, if we\n",
    "are far from a root, where the higher-order terms in the series are\n",
    "important, the Newton-Raphson formula can give grossly inaccurate\n",
    "results. For instance, the initial guess for the root might be so far\n",
    "from the true root as to let the search interval include a local\n",
    "maximum or minimum of the function.  If an iteration places a trial\n",
    "guess near such a local extremum, so that the first derivative nearly\n",
    "vanishes, then Newton-Raphson may fail totally\n",
    "\n",
    "\n",
    "## Extending to more than one variable\n",
    "\n",
    "Newton's method can be generalized to systems of several non-linear equations\n",
    "and variables. Consider the case with two equations"
   ]
  },
  {
   "cell_type": "markdown",
   "metadata": {},
   "source": [
    "$$\n",
    "\\begin{array}{cc} f_1(x_1,x_2) &=0\\\\\n",
    "                     f_2(x_1,x_2) &=0,\\end{array}\n",
    "$$"
   ]
  },
  {
   "cell_type": "markdown",
   "metadata": {},
   "source": [
    "which we Taylor expand to obtain"
   ]
  },
  {
   "cell_type": "markdown",
   "metadata": {},
   "source": [
    "$$\n",
    "\\begin{array}{cc} 0=f_1(x_1+h_1,x_2+h_2)=&f_1(x_1,x_2)+h_1\n",
    "                     \\partial f_1/\\partial x_1+h_2\n",
    "                     \\partial f_1/\\partial x_2+\\dots\\\\\n",
    "                     0=f_2(x_1+h_1,x_2+h_2)=&f_2(x_1,x_2)+h_1\n",
    "                     \\partial f_2/\\partial x_1+h_2\n",
    "                     \\partial f_2/\\partial x_2+\\dots\n",
    "                       \\end{array}.\n",
    "$$"
   ]
  },
  {
   "cell_type": "markdown",
   "metadata": {},
   "source": [
    "Defining the Jacobian matrix ${\\bf \\hat{J}}$ we have"
   ]
  },
  {
   "cell_type": "markdown",
   "metadata": {},
   "source": [
    "$$\n",
    "{\\bf \\hat{J}}=\\left( \\begin{array}{cc}\n",
    "                         \\partial f_1/\\partial x_1  & \\partial f_1/\\partial x_2 \\\\\n",
    "                          \\partial f_2/\\partial x_1     &\\partial f_2/\\partial x_2\n",
    "             \\end{array} \\right),\n",
    "$$"
   ]
  },
  {
   "cell_type": "markdown",
   "metadata": {},
   "source": [
    "we can rephrase Newton's method as"
   ]
  },
  {
   "cell_type": "markdown",
   "metadata": {},
   "source": [
    "$$\n",
    "\\left(\\begin{array}{c} x_1^{n+1} \\\\ x_2^{n+1} \\end{array} \\right)=\n",
    "\\left(\\begin{array}{c} x_1^{n} \\\\ x_2^{n} \\end{array} \\right)+\n",
    "\\left(\\begin{array}{c} h_1^{n} \\\\ h_2^{n} \\end{array} \\right),\n",
    "$$"
   ]
  },
  {
   "cell_type": "markdown",
   "metadata": {},
   "source": [
    "where we have defined"
   ]
  },
  {
   "cell_type": "markdown",
   "metadata": {},
   "source": [
    "$$\n",
    "\\left(\\begin{array}{c} h_1^{n} \\\\ h_2^{n} \\end{array} \\right)=\n",
    "   -{\\bf \\hat{J}}^{-1}\n",
    "   \\left(\\begin{array}{c} f_1(x_1^{n},x_2^{n}) \\\\ f_2(x_1^{n},x_2^{n}) \\end{array} \\right).\n",
    "$$"
   ]
  },
  {
   "cell_type": "markdown",
   "metadata": {},
   "source": [
    "We need thus to compute the inverse of the Jacobian matrix and it\n",
    "is to understand that difficulties  may\n",
    "arise in case ${\\bf \\hat{J}}$ is nearly singular.\n",
    "\n",
    "It is rather straightforward to extend the above scheme to systems of\n",
    "more than two non-linear equations. In our case, the Jacobian matrix is given by the Hessian that represents the second derivative of cost function. \n",
    "\n",
    "\n",
    "\n",
    "## Steepest descent\n",
    "\n",
    "The basic idea of gradient descent is\n",
    "that a function $F(\\mathbf{x})$, \n",
    "$\\mathbf{x} \\equiv (x_1,\\cdots,x_n)$, decreases fastest if one goes from $\\bf {x}$ in the\n",
    "direction of the negative gradient $-\\nabla F(\\mathbf{x})$.\n",
    "\n",
    "It can be shown that if"
   ]
  },
  {
   "cell_type": "markdown",
   "metadata": {},
   "source": [
    "$$\n",
    "\\mathbf{x}_{k+1} = \\mathbf{x}_k - \\gamma_k \\nabla F(\\mathbf{x}_k),\n",
    "$$"
   ]
  },
  {
   "cell_type": "markdown",
   "metadata": {},
   "source": [
    "with $\\gamma_k > 0$.\n",
    "\n",
    "For $\\gamma_k$ small enough, then $F(\\mathbf{x}_{k+1}) \\leq\n",
    "F(\\mathbf{x}_k)$. This means that for a sufficiently small $\\gamma_k$\n",
    "we are always moving towards smaller function values, i.e a minimum.\n",
    "\n",
    "<!-- !split  -->\n",
    "## More on Steepest descent\n",
    "\n",
    "The previous observation is the basis of the method of steepest\n",
    "descent, which is also referred to as just gradient descent (GD). One\n",
    "starts with an initial guess $\\mathbf{x}_0$ for a minimum of $F$ and\n",
    "computes new approximations according to"
   ]
  },
  {
   "cell_type": "markdown",
   "metadata": {},
   "source": [
    "$$\n",
    "\\mathbf{x}_{k+1} = \\mathbf{x}_k - \\gamma_k \\nabla F(\\mathbf{x}_k), \\ \\ k \\geq 0.\n",
    "$$"
   ]
  },
  {
   "cell_type": "markdown",
   "metadata": {},
   "source": [
    "The parameter $\\gamma_k$ is often referred to as the step length or\n",
    "the learning rate within the context of Machine Learning.\n",
    "\n",
    "<!-- !split  -->\n",
    "## The ideal\n",
    "\n",
    "Ideally the sequence $\\{\\mathbf{x}_k \\}_{k=0}$ converges to a global\n",
    "minimum of the function $F$. In general we do not know if we are in a\n",
    "global or local minimum. In the special case when $F$ is a convex\n",
    "function, all local minima are also global minima, so in this case\n",
    "gradient descent can converge to the global solution. The advantage of\n",
    "this scheme is that it is conceptually simple and straightforward to\n",
    "implement. However the method in this form has some severe\n",
    "limitations:\n",
    "\n",
    "In machine learing we are often faced with non-convex high dimensional\n",
    "cost functions with many local minima. Since GD is deterministic we\n",
    "will get stuck in a local minimum, if the method converges, unless we\n",
    "have a very good intial guess. This also implies that the scheme is\n",
    "sensitive to the chosen initial condition.\n",
    "\n",
    "Note that the gradient is a function of $\\mathbf{x} =\n",
    "(x_1,\\cdots,x_n)$ which makes it expensive to compute numerically.\n",
    "\n",
    "\n",
    "<!-- !split  -->\n",
    "## The sensitiveness of the gradient descent\n",
    "\n",
    "The gradient descent method \n",
    "is sensitive to the choice of learning rate $\\gamma_k$. This is due\n",
    "to the fact that we are only guaranteed that $F(\\mathbf{x}_{k+1}) \\leq\n",
    "F(\\mathbf{x}_k)$ for sufficiently small $\\gamma_k$. The problem is to\n",
    "determine an optimal learning rate. If the learning rate is chosen too\n",
    "small the method will take a long time to converge and if it is too\n",
    "large we can experience erratic behavior.\n",
    "\n",
    "Many of these shortcomings can be alleviated by introducing\n",
    "randomness. One such method is that of Stochastic Gradient Descent\n",
    "(SGD), see below.\n",
    "\n",
    "\n",
    "<!-- !split  -->\n",
    "## Convex functions\n",
    "\n",
    "Ideally we want our cost/loss function to be convex(concave).\n",
    "\n",
    "First we give the definition of a convex set: A set $C$ in\n",
    "$\\mathbb{R}^n$ is said to be convex if, for all $x$ and $y$ in $C$ and\n",
    "all $t \\in (0,1)$ , the point $(1 − t)x + ty$ also belongs to\n",
    "C. Geometrically this means that every point on the line segment\n",
    "connecting $x$ and $y$ is in $C$ as discussed below.\n",
    "\n",
    "The convex subsets of $\\mathbb{R}$ are the intervals of\n",
    "$\\mathbb{R}$. Examples of convex sets of $\\mathbb{R}^2$ are the\n",
    "regular polygons (triangles, rectangles, pentagons, etc...).\n",
    "\n",
    "## Convex function\n",
    "\n",
    "**Convex function**: Let $X \\subset \\mathbb{R}^n$ be a convex set. Assume that the function $f: X \\rightarrow \\mathbb{R}$ is continuous, then $f$ is said to be convex if $$f(tx_1 + (1-t)x_2) \\leq tf(x_1) + (1-t)f(x_2) $$ for all $x_1, x_2 \\in X$ and for all $t \\in [0,1]$. If $\\leq$ is replaced with a strict inequaltiy in the definition, we demand $x_1 \\neq x_2$ and $t\\in(0,1)$ then $f$ is said to be strictly convex. For a single variable function, convexity means that if you draw a straight line connecting $f(x_1)$ and $f(x_2)$, the value of the function on the interval $[x_1,x_2]$ is always below the line as illustrated below.\n",
    "\n",
    "## Conditions on convex functions\n",
    "\n",
    "In the following we state first and second-order conditions which\n",
    "ensures convexity of a function $f$. We write $D_f$ to denote the\n",
    "domain of $f$, i.e the subset of $R^n$ where $f$ is defined. For more\n",
    "details and proofs we refer to: [S. Boyd and L. Vandenberghe. Convex Optimization. Cambridge University Press](http://stanford.edu/boyd/cvxbook/, 2004).\n",
    "\n",
    "**First order condition.**\n",
    "\n",
    "Suppose $f$ is differentiable (i.e $\\nabla f(x)$ is well defined for\n",
    "all $x$ in the domain of $f$). Then $f$ is convex if and only if $D_f$\n",
    "is a convex set and $$f(y) \\geq f(x) + \\nabla f(x)^T (y-x) $$ holds\n",
    "for all $x,y \\in D_f$. This condition means that for a convex function\n",
    "the first order Taylor expansion (right hand side above) at any point\n",
    "a global under estimator of the function. To convince yourself you can\n",
    "make a drawing of $f(x) = x^2+1$ and draw the tangent line to $f(x)$ and\n",
    "note that it is always below the graph.\n",
    "\n",
    "\n",
    "\n",
    "**Second order condition.**\n",
    "\n",
    "Assume that $f$ is twice\n",
    "differentiable, i.e the Hessian matrix exists at each point in\n",
    "$D_f$. Then $f$ is convex if and only if $D_f$ is a convex set and its\n",
    "Hessian is positive semi-definite for all $x\\in D_f$. For a\n",
    "single-variable function this reduces to $f''(x) \\geq 0$. Geometrically this means that $f$ has nonnegative curvature\n",
    "everywhere.\n",
    "\n",
    "\n",
    "\n",
    "This condition is particularly useful since it gives us an procedure for determining if the function under consideration is convex, apart from using the definition.\n",
    "\n",
    "## More on convex functions\n",
    "\n",
    "The next result is of great importance to us and the reason why we are\n",
    "going on about convex functions. In machine learning we frequently\n",
    "have to minimize a loss/cost function in order to find the best\n",
    "parameters for the model we are considering. \n",
    "\n",
    "Ideally we want the\n",
    "global minimum (for high-dimensional models it is hard to know\n",
    "if we have local or global minimum). However, if the cost/loss function\n",
    "is convex the following result provides invaluable information:\n",
    "\n",
    "**Any minimum is global for convex functions.**\n",
    "\n",
    "Consider the problem of finding $x \\in \\mathbb{R}^n$ such that $f(x)$\n",
    "is minimal, where $f$ is convex and differentiable. Then, any point\n",
    "$x^*$ that satisfies $\\nabla f(x^*) = 0$ is a global minimum.\n",
    "\n",
    "\n",
    "\n",
    "This result means that if we know that the cost/loss function is convex and we are able to find a minimum, we are guaranteed that it is a global minimum.\n",
    "\n",
    "## Some simple problems\n",
    "\n",
    "1. Show that $f(x)=x^2$ is convex for $x \\in \\mathbb{R}$ using the definition of convexity. Hint: If you re-write the definition, $f$ is convex if the following holds for all $x,y \\in D_f$ and any $\\lambda \\in [0,1]$ $\\lambda f(x)+(1-\\lambda)f(y)-f(\\lambda x + (1-\\lambda) y ) \\geq 0$.\n",
    "\n",
    "2. Using the second order condition show that the following functions are convex on the specified domain.\n",
    "\n",
    " * $f(x) = e^x$ is convex for $x \\in \\mathbb{R}$.\n",
    "\n",
    " * $g(x) = -\\ln(x)$ is convex for $x \\in (0,\\infty)$.\n",
    "\n",
    "\n",
    "3. Let $f(x) = x^2$ and $g(x) = e^x$. Show that $f(g(x))$ and $g(f(x))$ is convex for $x \\in \\mathbb{R}$. Also show that if $f(x)$ is any convex function than $h(x) = e^{f(x)}$ is convex.\n",
    "\n",
    "4. A norm is any function that satisfy the following properties\n",
    "\n",
    " * $f(\\alpha x) = |\\alpha| f(x)$ for all $\\alpha \\in \\mathbb{R}$.\n",
    "\n",
    " * $f(x+y) \\leq f(x) + f(y)$\n",
    "\n",
    " * $f(x) \\leq 0$ for all $x \\in \\mathbb{R}^n$ with equality if and only if $x = 0$\n",
    "\n",
    "\n",
    "Using the definition of convexity, try to show that a function satisfying the properties above is convex (the third condition is not needed to show this).\n",
    "\n",
    "## Standard steepest descent\n",
    "\n",
    "\n",
    "Before we proceed, we would like to discuss the approach called the\n",
    "**standard Steepest descent**, which again leads to us having to be able\n",
    "to compute a matrix. It belongs to the class of Conjugate Gradient methods (CG).\n",
    "\n",
    "[The success of the CG method](https://www.cs.cmu.edu/~quake-papers/painless-conjugate-gradient.pdf)\n",
    "for finding solutions of non-linear problems is based on the theory\n",
    "of conjugate gradients for linear systems of equations. It belongs to\n",
    "the class of iterative methods for solving problems from linear\n",
    "algebra of the type"
   ]
  },
  {
   "cell_type": "markdown",
   "metadata": {},
   "source": [
    "$$\n",
    "\\hat{A}\\hat{x} = \\hat{b}.\n",
    "$$"
   ]
  },
  {
   "cell_type": "markdown",
   "metadata": {},
   "source": [
    "In the iterative process we end up with a problem like"
   ]
  },
  {
   "cell_type": "markdown",
   "metadata": {},
   "source": [
    "$$\n",
    "\\hat{r}= \\hat{b}-\\hat{A}\\hat{x},\n",
    "$$"
   ]
  },
  {
   "cell_type": "markdown",
   "metadata": {},
   "source": [
    "where $\\hat{r}$ is the so-called residual or error in the iterative process.\n",
    "\n",
    "When we have found the exact solution, $\\hat{r}=0$.\n",
    "\n",
    "## Gradient method\n",
    "\n",
    "The residual is zero when we reach the minimum of the quadratic equation"
   ]
  },
  {
   "cell_type": "markdown",
   "metadata": {},
   "source": [
    "$$\n",
    "P(\\hat{x})=\\frac{1}{2}\\hat{x}^T\\hat{A}\\hat{x} - \\hat{x}^T\\hat{b},\n",
    "$$"
   ]
  },
  {
   "cell_type": "markdown",
   "metadata": {},
   "source": [
    "with the constraint that the matrix $\\hat{A}$ is positive definite and\n",
    "symmetric.  This defines also the Hessian and we want it to be  positive definite.  \n",
    "\n",
    "\n",
    "## Steepest descent  method\n",
    "\n",
    "We denote the initial guess for $\\hat{x}$ as $\\hat{x}_0$. \n",
    "We can assume without loss of generality that"
   ]
  },
  {
   "cell_type": "markdown",
   "metadata": {},
   "source": [
    "$$\n",
    "\\hat{x}_0=0,\n",
    "$$"
   ]
  },
  {
   "cell_type": "markdown",
   "metadata": {},
   "source": [
    "or consider the system"
   ]
  },
  {
   "cell_type": "markdown",
   "metadata": {},
   "source": [
    "$$\n",
    "\\hat{A}\\hat{z} = \\hat{b}-\\hat{A}\\hat{x}_0,\n",
    "$$"
   ]
  },
  {
   "cell_type": "markdown",
   "metadata": {},
   "source": [
    "instead.\n",
    "\n",
    "\n",
    "## Steepest descent  method\n",
    "One can show that the solution $\\hat{x}$ is also the unique minimizer of the quadratic form"
   ]
  },
  {
   "cell_type": "markdown",
   "metadata": {},
   "source": [
    "$$\n",
    "f(\\hat{x}) = \\frac{1}{2}\\hat{x}^T\\hat{A}\\hat{x} - \\hat{x}^T \\hat{x} , \\quad \\hat{x}\\in\\mathbf{R}^n.\n",
    "$$"
   ]
  },
  {
   "cell_type": "markdown",
   "metadata": {},
   "source": [
    "This suggests taking the first basis vector $\\hat{r}_1$ (see below for definition) \n",
    "to be the gradient of $f$ at $\\hat{x}=\\hat{x}_0$, \n",
    "which equals"
   ]
  },
  {
   "cell_type": "markdown",
   "metadata": {},
   "source": [
    "$$\n",
    "\\hat{A}\\hat{x}_0-\\hat{b},\n",
    "$$"
   ]
  },
  {
   "cell_type": "markdown",
   "metadata": {},
   "source": [
    "and \n",
    "$\\hat{x}_0=0$ it is equal $-\\hat{b}$.\n",
    "\n",
    "\n",
    "\n",
    "## Final expressions\n",
    "We can compute the residual iteratively as"
   ]
  },
  {
   "cell_type": "markdown",
   "metadata": {},
   "source": [
    "$$\n",
    "\\hat{r}_{k+1}=\\hat{b}-\\hat{A}\\hat{x}_{k+1},\n",
    "$$"
   ]
  },
  {
   "cell_type": "markdown",
   "metadata": {},
   "source": [
<<<<<<< HEAD
    "We can use the expression we computed for the gradient and let use a\n",
    "$\\beta_0$ be chosen randomly and let $\\gamma = 0.001$. Stop iterating\n",
    "when $||\\nabla_\\beta C(\\beta_k) || \\leq \\epsilon = 10^{-8}$. \n",
    "\n",
    "And finally we can compare our solution for $\\beta$ with the analytic result given by \n",
    "$\\beta= (X^TX)^{-1} X^T \\mathbf{y}$.\n",
    "\n",
    "## Gradient Descent Example\n",
    "\n",
    "Here our simple example"
   ]
  },
  {
   "cell_type": "code",
   "execution_count": 1,
   "metadata": {},
   "outputs": [
    {
     "name": "stdout",
     "output_type": "stream",
     "text": [
      "[[4.02790257]\n",
      " [2.84724773]]\n",
      "[[4.02790257]\n",
      " [2.84724773]]\n"
     ]
    },
    {
     "data": {
      "image/png": "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\n",
      "text/plain": [
       "<Figure size 432x288 with 1 Axes>"
      ]
     },
     "metadata": {
      "needs_background": "light"
     },
     "output_type": "display_data"
    }
   ],
   "source": [
    "%matplotlib inline\n",
    "\n",
    "\n",
    "# Importing various packages\n",
    "from random import random, seed\n",
    "import numpy as np\n",
    "import matplotlib.pyplot as plt\n",
    "from mpl_toolkits.mplot3d import Axes3D\n",
    "from matplotlib import cm\n",
    "from matplotlib.ticker import LinearLocator, FormatStrFormatter\n",
    "import sys\n",
    "\n",
    "# the number of datapoints\n",
    "m = 100\n",
    "x = 2*np.random.rand(m,1)\n",
    "y = 4+3*x+np.random.randn(m,1)\n",
    "\n",
    "xb = np.c_[np.ones((m,1)), x]\n",
    "beta_linreg = np.linalg.inv(xb.T.dot(xb)).dot(xb.T).dot(y)\n",
    "print(beta_linreg)\n",
    "beta = np.random.randn(2,1)\n",
    "\n",
    "eta = 0.1\n",
    "Niterations = 1000\n",
    "\n",
    "for iter in range(Niterations):\n",
    "    gradients = 2.0/m*xb.T.dot(xb.dot(beta)-y)\n",
    "    beta -= eta*gradients\n",
    "\n",
    "print(beta)\n",
    "xnew = np.array([[0],[2]])\n",
    "xbnew = np.c_[np.ones((2,1)), xnew]\n",
    "ypredict = xbnew.dot(beta)\n",
    "ypredict2 = xbnew.dot(beta_linreg)\n",
    "plt.plot(xnew, ypredict, \"r-\")\n",
    "plt.plot(xnew, ypredict2, \"b-\")\n",
    "plt.plot(x, y ,'ro')\n",
    "plt.axis([0,2.0,0, 15.0])\n",
    "plt.xlabel(r'$x$')\n",
    "plt.ylabel(r'$y$')\n",
    "plt.title(r'Gradient descent example')\n",
    "plt.show()"
=======
    "which equals"
>>>>>>> 6df59f6e6d187c38539aaa6410da06443f3dcfb0
   ]
  },
  {
   "cell_type": "markdown",
   "metadata": {},
   "source": [
<<<<<<< HEAD
    "## And a corresponding example using **scikit-learn**"
   ]
  },
  {
   "cell_type": "code",
   "execution_count": 3,
   "metadata": {},
   "outputs": [
    {
     "name": "stdout",
     "output_type": "stream",
     "text": [
      "[[4.19168536]\n",
      " [3.01306147]]\n",
      "[4.19872242] [3.05677935]\n"
     ]
    }
   ],
   "source": [
    "# Importing various packages\n",
    "from random import random, seed\n",
    "import numpy as np\n",
    "import matplotlib.pyplot as plt\n",
    "from sklearn.linear_model import SGDRegressor\n",
    "\n",
    "x = 2*np.random.rand(100,1)\n",
    "y = 4+3*x+np.random.randn(100,1)\n",
    "\n",
    "xb = np.c_[np.ones((100,1)), x]\n",
    "beta_linreg = np.linalg.inv(xb.T.dot(xb)).dot(xb.T).dot(y)\n",
    "print(beta_linreg)\n",
    "sgdreg = SGDRegressor(max_iter = 50, penalty=None, eta0=0.1)\n",
    "sgdreg.fit(x,y.ravel())\n",
    "print(sgdreg.intercept_, sgdreg.coef_)"
=======
    "$$\n",
    "\\hat{b}-\\hat{A}(\\hat{x}_k+\\alpha_k\\hat{r}_k),\n",
    "$$"
>>>>>>> 6df59f6e6d187c38539aaa6410da06443f3dcfb0
   ]
  },
  {
   "cell_type": "markdown",
   "metadata": {},
   "source": [
    "or"
   ]
  },
  {
   "cell_type": "markdown",
   "metadata": {},
   "source": [
    "$$\n",
    "(\\hat{b}-\\hat{A}\\hat{x}_k)-\\alpha_k\\hat{A}\\hat{r}_k,\n",
    "$$"
   ]
  },
  {
   "cell_type": "markdown",
   "metadata": {},
   "source": [
    "which gives"
   ]
  },
  {
   "cell_type": "markdown",
   "metadata": {},
   "source": [
    "$$\n",
    "\\alpha_k = \\frac{\\hat{r}_k^T\\hat{r}_k}{\\hat{r}_k^T\\hat{A}\\hat{r}_k}\n",
    "$$"
   ]
  },
  {
   "cell_type": "markdown",
   "metadata": {},
   "source": [
    "leading to the iterative scheme"
   ]
  },
  {
   "cell_type": "markdown",
   "metadata": {},
   "source": [
    "$$\n",
    "\\hat{x}_{k+1}=\\hat{x}_k-\\alpha_k\\hat{r}_{k},\n",
    "$$"
   ]
  },
  {
   "cell_type": "markdown",
   "metadata": {},
   "source": [
    "## Steepest descent example"
   ]
  },
  {
   "cell_type": "code",
<<<<<<< HEAD
   "execution_count": 4,
   "metadata": {},
   "outputs": [
    {
     "name": "stdout",
     "output_type": "stream",
     "text": [
      "[[4.12847874]\n",
      " [2.74077309]]\n",
      "[[4.03470853]\n",
      " [2.81716787]]\n"
     ]
    },
    {
     "data": {
      "image/png": "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\n",
      "text/plain": [
       "<Figure size 432x288 with 1 Axes>"
      ]
     },
     "metadata": {
      "needs_background": "light"
     },
     "output_type": "display_data"
    }
   ],
=======
   "execution_count": 1,
   "metadata": {
    "collapsed": false
   },
   "outputs": [],
>>>>>>> 6df59f6e6d187c38539aaa6410da06443f3dcfb0
   "source": [
    "%matplotlib inline\n",
    "\n",
    "import numpy as np\n",
    "import numpy.linalg as la\n",
    "\n",
    "import scipy.optimize as sopt\n",
    "\n",
    "import matplotlib.pyplot as pt\n",
    "from mpl_toolkits.mplot3d import axes3d\n",
    "\n",
    "def f(x):\n",
    "    return 0.5*x[0]**2 + 2.5*x[1]**2\n",
    "\n",
    "def df(x):\n",
    "    return np.array([x[0], 5*x[1]])\n",
    "\n",
    "fig = pt.figure()\n",
    "ax = fig.gca(projection=\"3d\")\n",
    "\n",
    "xmesh, ymesh = np.mgrid[-2:2:50j,-2:2:50j]\n",
    "fmesh = f(np.array([xmesh, ymesh]))\n",
    "ax.plot_surface(xmesh, ymesh, fmesh)"
   ]
  },
  {
   "cell_type": "markdown",
   "metadata": {},
   "source": [
    "And then as countor plot"
   ]
  },
  {
   "cell_type": "code",
   "execution_count": 2,
   "metadata": {
    "collapsed": false
   },
   "outputs": [],
   "source": [
    "pt.axis(\"equal\")\n",
    "pt.contour(xmesh, ymesh, fmesh)\n",
    "guesses = [np.array([2, 2./5])]"
   ]
  },
  {
   "cell_type": "markdown",
   "metadata": {},
   "source": [
    "Find guesses"
   ]
  },
  {
   "cell_type": "code",
   "execution_count": 3,
   "metadata": {
    "collapsed": false
   },
   "outputs": [],
   "source": [
    "x = guesses[-1]\n",
    "s = -df(x)"
   ]
  },
  {
   "cell_type": "markdown",
   "metadata": {},
   "source": [
    "Run it!"
   ]
  },
  {
   "cell_type": "code",
   "execution_count": 4,
   "metadata": {
    "collapsed": false
   },
   "outputs": [],
   "source": [
    "def f1d(alpha):\n",
    "    return f(x + alpha*s)\n",
    "\n",
    "alpha_opt = sopt.golden(f1d)\n",
    "next_guess = x + alpha_opt * s\n",
    "guesses.append(next_guess)\n",
    "print(next_guess)"
   ]
  },
  {
   "cell_type": "markdown",
   "metadata": {},
   "source": [
    "What happened?"
   ]
  },
  {
   "cell_type": "code",
   "execution_count": 5,
   "metadata": {
    "collapsed": false
   },
   "outputs": [],
   "source": [
    "pt.axis(\"equal\")\n",
    "pt.contour(xmesh, ymesh, fmesh, 50)\n",
    "it_array = np.array(guesses)\n",
    "pt.plot(it_array.T[0], it_array.T[1], \"x-\")"
   ]
  },
  {
   "cell_type": "markdown",
   "metadata": {},
   "source": [
    "## Conjugate gradient method\n",
    "In the CG method we define so-called conjugate directions and two vectors \n",
    "$\\hat{s}$ and $\\hat{t}$\n",
    "are said to be\n",
    "conjugate if"
   ]
  },
  {
   "cell_type": "markdown",
   "metadata": {},
   "source": [
    "$$\n",
    "\\hat{s}^T\\hat{A}\\hat{t}= 0.\n",
    "$$"
   ]
  },
  {
   "cell_type": "markdown",
   "metadata": {},
   "source": [
    "The philosophy of the CG method is to perform searches in various conjugate directions\n",
    "of our vectors $\\hat{x}_i$ obeying the above criterion, namely"
   ]
  },
  {
   "cell_type": "markdown",
   "metadata": {},
   "source": [
    "$$\n",
    "\\hat{x}_i^T\\hat{A}\\hat{x}_j= 0.\n",
    "$$"
   ]
  },
  {
   "cell_type": "markdown",
   "metadata": {},
   "source": [
    "Two vectors are conjugate if they are orthogonal with respect to \n",
    "this inner product. Being conjugate is a symmetric relation: if $\\hat{s}$ is conjugate to $\\hat{t}$, then $\\hat{t}$ is conjugate to $\\hat{s}$.\n",
    "\n",
    "\n",
    "\n",
    "## Conjugate gradient method\n",
    "An example is given by the eigenvectors of the matrix"
   ]
  },
  {
<<<<<<< HEAD
   "cell_type": "code",
   "execution_count": 4,
   "metadata": {},
   "outputs": [],
=======
   "cell_type": "markdown",
   "metadata": {},
>>>>>>> 6df59f6e6d187c38539aaa6410da06443f3dcfb0
   "source": [
    "$$\n",
    "\\hat{v}_i^T\\hat{A}\\hat{v}_j= \\lambda\\hat{v}_i^T\\hat{v}_j,\n",
    "$$"
   ]
  },
  {
   "cell_type": "markdown",
   "metadata": {},
   "source": [
    "which is zero unless $i=j$.\n",
    "\n",
    "\n",
    "\n",
    "\n",
    "## Conjugate gradient method\n",
    "Assume now that we have a symmetric positive-definite matrix $\\hat{A}$ of size\n",
    "$n\\times n$. At each iteration $i+1$ we obtain the conjugate direction of a vector"
   ]
  },
  {
<<<<<<< HEAD
   "cell_type": "code",
   "execution_count": 5,
   "metadata": {},
   "outputs": [],
=======
   "cell_type": "markdown",
   "metadata": {},
>>>>>>> 6df59f6e6d187c38539aaa6410da06443f3dcfb0
   "source": [
    "$$\n",
    "\\hat{x}_{i+1}=\\hat{x}_{i}+\\alpha_i\\hat{p}_{i}.\n",
    "$$"
   ]
  },
  {
   "cell_type": "markdown",
   "metadata": {},
   "source": [
    "We assume that $\\hat{p}_{i}$ is a sequence of $n$ mutually conjugate directions. \n",
    "Then the $\\hat{p}_{i}$  form a basis of $R^n$ and we can expand the solution \n",
    "$  \\hat{A}\\hat{x} = \\hat{b}$ in this basis, namely"
   ]
  },
  {
<<<<<<< HEAD
   "cell_type": "code",
   "execution_count": 6,
   "metadata": {},
   "outputs": [],
=======
   "cell_type": "markdown",
   "metadata": {},
>>>>>>> 6df59f6e6d187c38539aaa6410da06443f3dcfb0
   "source": [
    "$$\n",
    "\\hat{x}  = \\sum^{n}_{i=1} \\alpha_i \\hat{p}_i.\n",
    "$$"
   ]
  },
  {
   "cell_type": "markdown",
   "metadata": {},
   "source": [
    "## Conjugate gradient method\n",
    "The coefficients are given by"
   ]
  },
  {
   "cell_type": "markdown",
   "metadata": {},
   "source": [
    "$$\n",
    "\\mathbf{A}\\mathbf{x} = \\sum^{n}_{i=1} \\alpha_i \\mathbf{A} \\mathbf{p}_i = \\mathbf{b}.\n",
    "$$"
   ]
  },
  {
   "cell_type": "markdown",
   "metadata": {},
   "source": [
    "Multiplying with $\\hat{p}_k^T$  from the left gives"
   ]
  },
  {
   "cell_type": "markdown",
   "metadata": {},
   "source": [
    "$$\n",
    "\\hat{p}_k^T \\hat{A}\\hat{x} = \\sum^{n}_{i=1} \\alpha_i\\hat{p}_k^T \\hat{A}\\hat{p}_i= \\hat{p}_k^T \\hat{b},\n",
    "$$"
   ]
  },
  {
   "cell_type": "markdown",
   "metadata": {},
   "source": [
    "and we can define the coefficients $\\alpha_k$ as"
   ]
  },
  {
   "cell_type": "markdown",
   "metadata": {},
   "source": [
    "$$\n",
    "\\alpha_k = \\frac{\\hat{p}_k^T \\hat{b}}{\\hat{p}_k^T \\hat{A} \\hat{p}_k}\n",
    "$$"
   ]
  },
  {
   "cell_type": "markdown",
   "metadata": {},
   "source": [
    "## Conjugate gradient method and iterations\n",
    "\n",
    "If we choose the conjugate vectors $\\hat{p}_k$ carefully, \n",
    "then we may not need all of them to obtain a good approximation to the solution \n",
    "$\\hat{x}$. \n",
    "We want to regard the conjugate gradient method as an iterative method. \n",
    "This will us to solve systems where $n$ is so large that the direct \n",
    "method would take too much time.\n",
    "\n",
    "We denote the initial guess for $\\hat{x}$ as $\\hat{x}_0$. \n",
    "We can assume without loss of generality that"
   ]
  },
  {
   "cell_type": "markdown",
   "metadata": {},
   "source": [
    "$$\n",
    "\\hat{x}_0=0,\n",
    "$$"
   ]
  },
  {
   "cell_type": "markdown",
   "metadata": {},
   "source": [
    "or consider the system"
   ]
  },
  {
   "cell_type": "markdown",
   "metadata": {},
   "source": [
    "$$\n",
    "\\hat{A}\\hat{z} = \\hat{b}-\\hat{A}\\hat{x}_0,\n",
    "$$"
   ]
  },
  {
   "cell_type": "markdown",
   "metadata": {},
   "source": [
    "instead.\n",
    "\n",
    "\n",
    "\n",
    "\n",
    "## Conjugate gradient method\n",
    "One can show that the solution $\\hat{x}$ is also the unique minimizer of the quadratic form"
   ]
  },
  {
   "cell_type": "markdown",
   "metadata": {},
   "source": [
    "$$\n",
    "f(\\hat{x}) = \\frac{1}{2}\\hat{x}^T\\hat{A}\\hat{x} - \\hat{x}^T \\hat{x} , \\quad \\hat{x}\\in\\mathbf{R}^n.\n",
    "$$"
   ]
  },
  {
   "cell_type": "markdown",
   "metadata": {},
   "source": [
    "This suggests taking the first basis vector $\\hat{p}_1$ \n",
    "to be the gradient of $f$ at $\\hat{x}=\\hat{x}_0$, \n",
    "which equals"
   ]
  },
  {
   "cell_type": "markdown",
   "metadata": {},
   "source": [
    "$$\n",
    "\\hat{A}\\hat{x}_0-\\hat{b},\n",
    "$$"
   ]
  },
  {
   "cell_type": "markdown",
   "metadata": {},
   "source": [
    "and \n",
    "$\\hat{x}_0=0$ it is equal $-\\hat{b}$.\n",
    "The other vectors in the basis will be conjugate to the gradient, \n",
    "hence the name conjugate gradient method.\n",
    "\n",
    "\n",
    "\n",
    "\n",
    "## Conjugate gradient method\n",
    "Let  $\\hat{r}_k$ be the residual at the $k$-th step:"
   ]
  },
  {
   "cell_type": "markdown",
   "metadata": {},
   "source": [
    "$$\n",
    "\\hat{r}_k=\\hat{b}-\\hat{A}\\hat{x}_k.\n",
    "$$"
   ]
  },
  {
   "cell_type": "markdown",
   "metadata": {},
   "source": [
    "Note that $\\hat{r}_k$ is the negative gradient of $f$ at \n",
    "$\\hat{x}=\\hat{x}_k$, \n",
    "so the gradient descent method would be to move in the direction $\\hat{r}_k$. \n",
    "Here, we insist that the directions $\\hat{p}_k$ are conjugate to each other, \n",
    "so we take the direction closest to the gradient $\\hat{r}_k$  \n",
    "under the conjugacy constraint. \n",
    "This gives the following expression"
   ]
  },
  {
   "cell_type": "markdown",
   "metadata": {},
   "source": [
    "$$\n",
    "\\hat{p}_{k+1}=\\hat{r}_k-\\frac{\\hat{p}_k^T \\hat{A}\\hat{r}_k}{\\hat{p}_k^T\\hat{A}\\hat{p}_k} \\hat{p}_k.\n",
    "$$"
   ]
  },
  {
   "cell_type": "markdown",
   "metadata": {},
   "source": [
    "## Conjugate gradient method\n",
    "We can also  compute the residual iteratively as"
   ]
  },
  {
   "cell_type": "markdown",
   "metadata": {},
   "source": [
    "$$\n",
    "\\hat{r}_{k+1}=\\hat{b}-\\hat{A}\\hat{x}_{k+1},\n",
    "$$"
   ]
  },
  {
   "cell_type": "markdown",
   "metadata": {},
   "source": [
    "which equals"
   ]
  },
  {
   "cell_type": "markdown",
   "metadata": {},
   "source": [
    "$$\n",
    "\\hat{b}-\\hat{A}(\\hat{x}_k+\\alpha_k\\hat{p}_k),\n",
    "$$"
   ]
  },
  {
   "cell_type": "markdown",
   "metadata": {},
   "source": [
    "or"
   ]
  },
  {
   "cell_type": "markdown",
   "metadata": {},
   "source": [
    "$$\n",
    "(\\hat{b}-\\hat{A}\\hat{x}_k)-\\alpha_k\\hat{A}\\hat{p}_k,\n",
    "$$"
   ]
  },
  {
   "cell_type": "markdown",
   "metadata": {},
   "source": [
    "which gives"
   ]
  },
  {
   "cell_type": "markdown",
   "metadata": {},
   "source": [
    "$$\n",
    "\\hat{r}_{k+1}=\\hat{r}_k-\\hat{A}\\hat{p}_{k},\n",
    "$$"
   ]
  },
  {
   "cell_type": "markdown",
   "metadata": {},
   "source": [
    "<!-- !split  -->\n",
    "## Revisiting our first homework\n",
    "\n",
    "We will use linear regression as a case study for the gradient descent\n",
    "methods. Linear regression is a great test case for the gradient\n",
    "descent methods discussed in the lectures since it has several\n",
    "desirable properties such as:\n",
    "\n",
    "1. An analytical solution (recall homework set 1).\n",
    "\n",
    "2. The gradient can be computed analytically.\n",
    "\n",
    "3. The cost function is convex which guarantees that gradient descent converges for small enough learning rates\n",
    "\n",
    "We revisit the example from homework set 1 where we had"
   ]
  },
  {
   "cell_type": "markdown",
   "metadata": {},
   "source": [
    "$$\n",
    "y_i = 5x_i^2 + 0.1\\xi_i, \\ i=1,\\cdots,100\n",
    "$$"
   ]
  },
  {
   "cell_type": "markdown",
   "metadata": {},
   "source": [
    "with $x_i \\in [0,1] $ chosen randomly with a uniform distribution. Additionally $\\xi_i$ represents stochastic noise chosen according to a normal distribution $\\cal {N}(0,1)$. \n",
    "The linear regression model is given by"
   ]
  },
  {
   "cell_type": "markdown",
   "metadata": {},
   "source": [
    "$$\n",
    "h_\\beta(x) = \\hat{y} = \\beta_0 + \\beta_1 x,\n",
    "$$"
   ]
  },
  {
   "cell_type": "markdown",
   "metadata": {},
   "source": [
    "such that"
   ]
  },
  {
   "cell_type": "markdown",
   "metadata": {},
   "source": [
    "$$\n",
    "\\hat{y}_i = \\beta_0 + \\beta_1 x_i.\n",
    "$$"
   ]
  },
  {
   "cell_type": "markdown",
   "metadata": {},
   "source": [
    "<!-- !split  -->\n",
    "## Gradient descent example\n",
    "\n",
    "Let $\\mathbf{y} = (y_1,\\cdots,y_n)^T$, $\\mathbf{\\hat{y}} = (\\hat{y}_1,\\cdots,\\hat{y}_n)^T$ and $\\beta = (\\beta_0, \\beta_1)^T$\n",
    "\n",
    "It is convenient to write $\\mathbf{\\hat{y}} = X\\beta$ where $X \\in \\mathbb{R}^{100 \\times 2} $ is the design matrix given by"
   ]
  },
  {
   "cell_type": "markdown",
   "metadata": {},
   "source": [
    "$$\n",
    "X \\equiv \\begin{bmatrix}\n",
    "1 &; x_1  \\\\\n",
    "\\vdots &; \\vdots  \\\\\n",
    "1 &; x_{100} &;  \\\\\n",
    "\\end{bmatrix}.\n",
    "$$"
   ]
  },
  {
   "cell_type": "markdown",
   "metadata": {},
   "source": [
    "The loss function is given by"
   ]
  },
  {
   "cell_type": "markdown",
   "metadata": {},
   "source": [
    "$$\n",
    "C(\\beta) = ||X\\beta-\\mathbf{y}||^2 = ||X\\beta||^2 - 2 \\mathbf{y}^T X\\beta + ||\\mathbf{y}||^2 = \\sum_{i=1}^{100} (\\beta_0 + \\beta_1 x_i)^2 - 2 y_i (\\beta_0 + \\beta_1 x_i) + y_i^2\n",
    "$$"
   ]
  },
  {
   "cell_type": "markdown",
   "metadata": {},
   "source": [
<<<<<<< HEAD
    "Using **autograd** we have"
   ]
  },
  {
   "cell_type": "code",
   "execution_count": 7,
   "metadata": {},
   "outputs": [],
   "source": [
    "import autograd.numpy as np\n",
    "\n",
    "# To do elementwise differentiation:\n",
    "from autograd import elementwise_grad as egrad \n",
    "\n",
    "# To plot:\n",
    "import matplotlib.pyplot as plt \n",
    "\n",
    "\n",
    "def f(x):\n",
    "    return np.sin(2*np.pi*x + x**2)\n",
    "\n",
    "def f_grad_analytic(x):\n",
    "    return np.cos(2*np.pi*x + x**2)*(2*np.pi + 2*x)\n",
    "\n",
    "# Do the comparison:\n",
    "x = np.linspace(0,1,1000)\n",
    "\n",
    "f_grad = egrad(f)\n",
    "\n",
    "computed = f_grad(x)\n",
    "analytic = f_grad_analytic(x)\n",
    "\n",
    "plt.title('Derivative computed from Autograd compared with the analytical derivative')\n",
    "plt.plot(x,computed,label='autograd')\n",
    "plt.plot(x,analytic,label='analytic')\n",
    "\n",
    "plt.xlabel('x')\n",
    "plt.ylabel('y')\n",
    "plt.legend()\n",
    "\n",
    "plt.show()\n",
    "\n",
    "print(\"The max absolute difference is: %g\"%(np.max(np.abs(computed - analytic))))"
   ]
  },
  {
   "cell_type": "markdown",
   "metadata": {},
   "source": [
    "<!-- !split  -->\n",
    "## Using autograd\n",
    "\n",
    "Here we\n",
    "experiment with what kind of functions Autograd is capable\n",
    "of finding the gradient of. The following Python functions are just\n",
    "meant to illustrate what Autograd can do, but please feel free to\n",
    "experiment with other, possibly more complicated, functions as well."
   ]
  },
  {
   "cell_type": "code",
   "execution_count": 8,
   "metadata": {},
   "outputs": [],
   "source": [
    "import autograd.numpy as np\n",
    "from autograd import grad\n",
    "\n",
    "def f1(x):\n",
    "    return x**3 + 1\n",
    "\n",
    "f1_grad = grad(f1)\n",
    "\n",
    "# Remember to send in float as argument to the computed gradient from Autograd!\n",
    "a = 1.0\n",
    "\n",
    "# See the evaluated gradient at a using autograd:\n",
    "print(\"The gradient of f1 evaluated at a = %g using autograd is: %g\"%(a,f1_grad(a)))\n",
    "\n",
    "# Compare with the analytical derivative, that is f1'(x) = 3*x**2 \n",
    "grad_analytical = 3*a**2\n",
    "print(\"The gradient of f1 evaluated at a = %g by finding the analytic expression is: %g\"%(a,grad_analytical))"
   ]
  },
  {
   "cell_type": "markdown",
   "metadata": {},
   "source": [
    "## Autograd with more complicated functions\n",
    "\n",
    "To differentiate with respect to two (or more) arguments of a Python\n",
    "function, Autograd need to know at which variable the function if\n",
    "being differentiated with respect to."
   ]
  },
  {
   "cell_type": "code",
   "execution_count": 9,
   "metadata": {},
   "outputs": [],
   "source": [
    "import autograd.numpy as np\n",
    "from autograd import grad\n",
    "def f2(x1,x2):\n",
    "    return 3*x1**3 + x2*(x1 - 5) + 1\n",
    "\n",
    "# By sending the argument 0, Autograd will compute the derivative w.r.t the first variable, in this case x1\n",
    "f2_grad_x1 = grad(f2,0)\n",
    "\n",
    "# ... and differentiate w.r.t x2 by sending 1 as an additional arugment to grad\n",
    "f2_grad_x2 = grad(f2,1)\n",
    "\n",
    "x1 = 1.0\n",
    "x2 = 3.0 \n",
    "\n",
    "print(\"Evaluating at x1 = %g, x2 = %g\"%(x1,x2))\n",
    "print(\"-\"*30)\n",
    "\n",
    "# Compare with the analytical derivatives:\n",
    "\n",
    "# Derivative of f2 w.r.t x1 is: 9*x1**2 + x2:\n",
    "f2_grad_x1_analytical = 9*x1**2 + x2\n",
    "\n",
    "# Derivative of f2 w.r.t x2 is: x1 - 5:\n",
    "f2_grad_x2_analytical = x1 - 5\n",
    "\n",
    "# See the evaluated derivations:\n",
    "print(\"The derivative of f2 w.r.t x1: %g\"%( f2_grad_x1(x1,x2) ))\n",
    "print(\"The analytical derivative of f2 w.r.t x1: %g\"%( f2_grad_x1(x1,x2) ))\n",
    "\n",
    "print()\n",
    "\n",
    "print(\"The derivative of f2 w.r.t x2: %g\"%( f2_grad_x2(x1,x2) ))\n",
    "print(\"The analytical derivative of f2 w.r.t x2: %g\"%( f2_grad_x2(x1,x2) ))"
   ]
  },
  {
   "cell_type": "markdown",
   "metadata": {},
   "source": [
    "Note that the grad function will not produce the true gradient of the function. The true gradient of a function with two or more variables will produce a vector, where each element is the function differentiated w.r.t a variable.\n",
    "\n",
    "\n",
    "## More complicated functions using the elements of their arguments directly"
   ]
  },
  {
   "cell_type": "code",
   "execution_count": 10,
   "metadata": {},
   "outputs": [],
   "source": [
    "import autograd.numpy as np\n",
    "from autograd import grad\n",
    "def f3(x): # Assumes x is an array of length 5 or higher\n",
    "    return 2*x[0] + 3*x[1] + 5*x[2] + 7*x[3] + 11*x[4]**2\n",
    "\n",
    "f3_grad = grad(f3)\n",
    "\n",
    "x = np.linspace(0,4,5)\n",
    "\n",
    "# Print the computed gradient:\n",
    "print(\"The computed gradient of f3 is: \", f3_grad(x))\n",
    "\n",
    "# The analytical gradient is: (2, 3, 5, 7, 22*x[4])\n",
    "f3_grad_analytical = np.array([2, 3, 5, 7, 22*x[4]])\n",
    "\n",
    "# Print the analytical gradient:\n",
    "print(\"The analytical gradient of f3 is: \", f3_grad_analytical)"
   ]
  },
  {
   "cell_type": "markdown",
   "metadata": {},
   "source": [
    "Note that in this case, when sending an array as input argument, the\n",
    "output from Autograd is another array. This is the true gradient of\n",
    "the function, as opposed to the function in the previous example. By\n",
    "using arrays to represent the variables, the output from Autograd\n",
    "might be easier to work with, as the output is closer to what one\n",
    "could expect form a gradient-evaluting function.\n",
    "\n",
    "<!-- !split  -->\n",
    "## Functions using mathematical functions from Numpy"
   ]
  },
  {
   "cell_type": "code",
   "execution_count": 11,
   "metadata": {},
   "outputs": [],
   "source": [
    "import autograd.numpy as np\n",
    "from autograd import grad\n",
    "def f4(x):\n",
    "    return np.sqrt(1+x**2) + np.exp(x) + np.sin(2*np.pi*x)\n",
    "\n",
    "f4_grad = grad(f4)\n",
    "\n",
    "x = 2.7\n",
    "\n",
    "# Print the computed derivative:\n",
    "print(\"The computed derivative of f4 at x = %g is: %g\"%(x,f4_grad(x)))\n",
    "\n",
    "# The analytical derivative is: x/sqrt(1 + x**2) + exp(x) + cos(2*pi*x)*2*pi\n",
    "f4_grad_analytical = x/np.sqrt(1 + x**2) + np.exp(x) + np.cos(2*np.pi*x)*2*np.pi\n",
    "\n",
    "# Print the analytical gradient:\n",
    "print(\"The analytical gradient of f4 at x = %g is: %g\"%(x,f4_grad_analytical))"
   ]
  },
  {
   "cell_type": "markdown",
   "metadata": {},
   "source": [
    "## More autograd"
   ]
  },
  {
   "cell_type": "code",
   "execution_count": 12,
   "metadata": {},
   "outputs": [],
   "source": [
    "import autograd.numpy as np\n",
    "from autograd import grad\n",
    "def f5(x):\n",
    "    if x >= 0:\n",
    "        return x**2\n",
    "    else:\n",
    "        return -3*x + 1\n",
    "\n",
    "f5_grad = grad(f5)\n",
=======
    "and we want to find $\\beta$ such that $C(\\beta)$ is minimized.\n",
>>>>>>> 6df59f6e6d187c38539aaa6410da06443f3dcfb0
    "\n",
    "## The derivative of the cost/loss function\n",
    "\n",
    "Computing $\\partial C(\\beta) / \\partial \\beta_0$ and $\\partial C(\\beta) / \\partial \\beta_1$ we can show  that the gradient can be written as"
   ]
  },
  {
   "cell_type": "markdown",
   "metadata": {},
   "source": [
    "$$\n",
    "\\nabla_{\\beta} C(\\beta) = (\\partial C(\\beta) / \\partial \\beta_0, \\partial C(\\beta) / \\partial \\beta_1)^T = 2\\begin{bmatrix} \\sum_{i=1}^{100} \\left(\\beta_0+\\beta_1x_i-y_i\\right) \\\\\n",
    "\\sum_{i=1}^{100}\\left( x_i (\\beta_0+\\beta_1x_i)-y_ix_i\\right) \\\\\n",
    "\\end{bmatrix} = 2X^T(X\\beta - \\mathbf{y}),\n",
    "$$"
   ]
  },
  {
   "cell_type": "markdown",
   "metadata": {},
   "source": [
<<<<<<< HEAD
    "1\n",
    "2\n",
    " \n",
    "<\n",
    "<\n",
    "<\n",
    "!\n",
    "!\n",
    "C\n",
    "O\n",
    "D\n",
    "E\n",
    "_\n",
    "B\n",
    "L\n",
    "O\n",
    "C\n",
    "K\n",
    " \n",
    " \n",
    "p\n",
    "y\n",
    "c\n",
    "o\n",
    "d"
   ]
  },
  {
   "cell_type": "code",
   "execution_count": 13,
   "metadata": {},
   "outputs": [],
   "source": [
    "import autograd.numpy as np\n",
    "from autograd import grad\n",
    "# Both of the functions are implementation of the sum: sum(x**i) for i = 0, ..., 9\n",
    "# The analytical derivative is: sum(i*x**(i-1)) \n",
    "f6_grad_analytical = 0\n",
    "for i in range(10):\n",
    "    f6_grad_analytical += i*x**(i-1)\n",
=======
    "where $X$ is the design matrix defined above.\n",
>>>>>>> 6df59f6e6d187c38539aaa6410da06443f3dcfb0
    "\n",
    "## The Hessian matrix\n",
    "The Hessian matrix of $C(\\beta)$ is given by"
   ]
  },
  {
   "cell_type": "markdown",
   "metadata": {},
   "source": [
<<<<<<< HEAD
    "## Using recursion"
   ]
  },
  {
   "cell_type": "code",
   "execution_count": 14,
   "metadata": {},
   "outputs": [],
   "source": [
    "import autograd.numpy as np\n",
    "from autograd import grad\n",
    "\n",
    "def f7(n): # Assume that n is an integer\n",
    "    if n == 1 or n == 0:\n",
    "        return 1\n",
    "    else:\n",
    "        return n*f7(n-1)\n",
    "\n",
    "f7_grad = grad(f7)\n",
    "\n",
    "n = 2.0\n",
    "\n",
    "print(\"The computed derivative of f7 at n = %d is: %g\"%(n,f7_grad(n)))\n",
    "\n",
    "# The function f7 is an implementation of the factorial of n.\n",
    "# By using the product rule, one can find that the derivative is:\n",
    "\n",
    "f7_grad_analytical = 0\n",
    "for i in range(int(n)-1):\n",
    "    tmp = 1\n",
    "    for k in range(int(n)-1):\n",
    "        if k != i:\n",
    "            tmp *= (n - k)\n",
    "    f7_grad_analytical += tmp\n",
    "\n",
    "print(\"The analytical derivative of f7 at n = %d is: %g\"%(n,f7_grad_analytical))"
=======
    "$$\n",
    "\\hat{H} \\equiv \\begin{bmatrix}\n",
    "\\frac{\\partial^2 C(\\beta)}{\\partial \\beta_0^2} &; \\frac{\\partial^2 C(\\beta)}{\\partial \\beta_0 \\partial \\beta_1}  \\\\\n",
    "\\frac{\\partial^2 C(\\beta)}{\\partial \\beta_0 \\partial \\beta_1} &; \\frac{\\partial^2 C(\\beta)}{\\partial \\beta_1^2} &;  \\\\\n",
    "\\end{bmatrix} = 2X^T X.\n",
    "$$"
>>>>>>> 6df59f6e6d187c38539aaa6410da06443f3dcfb0
   ]
  },
  {
   "cell_type": "markdown",
   "metadata": {},
   "source": [
    "This result implies that $C(\\beta)$ is a convex function since the matrix $X^T X$ always is positive semi-definite.\n",
    "\n",
    "\n",
    "\n",
    "\n",
    "## Simple program\n",
    "\n",
    "We can now write a program that minimizes $C(\\beta)$ using the gradient descent method with a constant learning rate $\\gamma$ according to"
   ]
  },
  {
<<<<<<< HEAD
   "cell_type": "code",
   "execution_count": 15,
   "metadata": {},
   "outputs": [],
=======
   "cell_type": "markdown",
   "metadata": {},
>>>>>>> 6df59f6e6d187c38539aaa6410da06443f3dcfb0
   "source": [
    "$$\n",
    "\\beta_{k+1} = \\beta_k - \\gamma \\nabla_\\beta C(\\beta_k), \\ k=0,1,\\cdots\n",
    "$$"
   ]
  },
  {
   "cell_type": "markdown",
   "metadata": {},
   "source": [
    "We can use the expression we computed for the gradient and let use a\n",
    "$\\beta_0$ be chosen randomly and let $\\gamma = 0.001$. Stop iterating\n",
    "when $||\\nabla_\\beta C(\\beta_k) || \\leq \\epsilon = 10^{-8}$. \n",
    "\n",
    "And finally we can compare our solution for $\\beta$ with the analytic result given by \n",
    "$\\beta= (X^TX)^{-1} X^T \\mathbf{y}$.\n",
    "\n",
    "## Gradient Descent Example\n",
    "\n",
    "Here our simple example"
   ]
  },
  {
   "cell_type": "code",
<<<<<<< HEAD
   "execution_count": 16,
   "metadata": {},
=======
   "execution_count": 6,
   "metadata": {
    "collapsed": false
   },
>>>>>>> 6df59f6e6d187c38539aaa6410da06443f3dcfb0
   "outputs": [],
   "source": [
    "\n",
    "# Importing various packages\n",
    "from random import random, seed\n",
    "import numpy as np\n",
    "import matplotlib.pyplot as plt\n",
    "from mpl_toolkits.mplot3d import Axes3D\n",
    "from matplotlib import cm\n",
    "from matplotlib.ticker import LinearLocator, FormatStrFormatter\n",
    "import sys\n",
    "\n",
    "# the number of datapoints\n",
    "m = 100\n",
    "x = 2*np.random.rand(m,1)\n",
    "y = 4+3*x+np.random.randn(m,1)\n",
    "\n",
    "xb = np.c_[np.ones((m,1)), x]\n",
    "beta_linreg = np.linalg.inv(xb.T.dot(xb)).dot(xb.T).dot(y)\n",
    "print(beta_linreg)\n",
    "beta = np.random.randn(2,1)\n",
    "\n",
    "eta = 0.1\n",
    "Niterations = 1000\n",
    "\n",
    "for iter in range(Niterations):\n",
    "    gradients = 2.0/m*xb.T.dot(xb.dot(beta)-y)\n",
    "    beta -= eta*gradients\n",
    "\n",
    "print(beta)\n",
    "xnew = np.array([[0],[2]])\n",
    "xbnew = np.c_[np.ones((2,1)), xnew]\n",
    "ypredict = xbnew.dot(beta)\n",
    "ypredict2 = xbnew.dot(beta_linreg)\n",
    "plt.plot(xnew, ypredict, \"r-\")\n",
    "plt.plot(xnew, ypredict2, \"b-\")\n",
    "plt.plot(x, y ,'ro')\n",
    "plt.axis([0,2.0,0, 15.0])\n",
    "plt.xlabel(r'$x$')\n",
    "plt.ylabel(r'$y$')\n",
    "plt.title(r'Gradient descent example')\n",
    "plt.show()"
   ]
  },
  {
   "cell_type": "markdown",
   "metadata": {},
   "source": [
    "## And a corresponding example using **scikit-learn**"
   ]
  },
  {
   "cell_type": "code",
<<<<<<< HEAD
   "execution_count": 17,
   "metadata": {},
=======
   "execution_count": 7,
   "metadata": {
    "collapsed": false
   },
>>>>>>> 6df59f6e6d187c38539aaa6410da06443f3dcfb0
   "outputs": [],
   "source": [
    "# Importing various packages\n",
    "from random import random, seed\n",
    "import numpy as np\n",
    "import matplotlib.pyplot as plt\n",
    "from sklearn.linear_model import SGDRegressor\n",
    "\n",
    "x = 2*np.random.rand(100,1)\n",
    "y = 4+3*x+np.random.randn(100,1)\n",
    "\n",
    "xb = np.c_[np.ones((100,1)), x]\n",
    "beta_linreg = np.linalg.inv(xb.T.dot(xb)).dot(xb.T).dot(y)\n",
    "print(beta_linreg)\n",
    "sgdreg = SGDRegressor(max_iter = 50, penalty=None, eta0=0.1)\n",
    "sgdreg.fit(x,y.ravel())\n",
    "print(sgdreg.intercept_, sgdreg.coef_)"
   ]
  },
  {
   "cell_type": "markdown",
   "metadata": {},
   "source": [
    "<!-- !split  -->\n",
    "## Gradient descent and Ridge\n",
    "\n",
    "We have also discussed Ridge regression where the loss function contains a regularized term given by the $L_2$ norm of $\\beta$,"
   ]
  },
  {
<<<<<<< HEAD
   "cell_type": "code",
   "execution_count": 18,
   "metadata": {},
   "outputs": [],
=======
   "cell_type": "markdown",
   "metadata": {},
>>>>>>> 6df59f6e6d187c38539aaa6410da06443f3dcfb0
   "source": [
    "$$\n",
    "C_{\\text{ridge}}(\\beta) = ||X\\beta -\\mathbf{y}||^2 + \\lambda ||\\beta||^2, \\ \\lambda \\geq 0.\n",
    "$$"
   ]
  },
  {
   "cell_type": "markdown",
   "metadata": {},
   "source": [
    "In order to minimize $C_{\\text{ridge}}(\\beta)$ using GD we only have adjust the gradient as follows"
   ]
  },
  {
   "cell_type": "markdown",
   "metadata": {},
   "source": [
    "$$\n",
    "\\nabla_\\beta C_{\\text{ridge}}(\\beta)  = 2\\begin{bmatrix} \\sum_{i=1}^{100} \\left(\\beta_0+\\beta_1x_i-y_i\\right) \\\\\n",
    "\\sum_{i=1}^{100}\\left( x_i (\\beta_0+\\beta_1x_i)-y_ix_i\\right) \\\\\n",
    "\\end{bmatrix} + 2\\lambda\\begin{bmatrix} \\beta_0 \\\\ \\beta_1\\end{bmatrix} = 2 (X^T(X\\beta - \\mathbf{y})+\\lambda \\beta).\n",
    "$$"
   ]
  },
  {
   "cell_type": "markdown",
   "metadata": {},
   "source": [
    "We can easily extend our program to minimize $C_{\\text{ridge}}(\\beta)$ using gradient descent and compare with the analytical solution given by"
   ]
  },
  {
   "cell_type": "markdown",
   "metadata": {},
   "source": [
    "$$\n",
    "\\beta_{\\text{ridge}} = \\left(X^T X + \\lambda I_{2 \\times 2} \\right)^{-1} X^T \\mathbf{y}.\n",
    "$$"
   ]
  },
  {
   "cell_type": "markdown",
   "metadata": {},
   "source": [
    "## Program example for gradient descent with Ridge Regression"
   ]
  },
  {
   "cell_type": "code",
   "execution_count": 8,
   "metadata": {
    "collapsed": false
   },
   "outputs": [],
   "source": [
    "from random import random, seed\n",
    "import numpy as np\n",
    "import matplotlib.pyplot as plt\n",
    "from mpl_toolkits.mplot3d import Axes3D\n",
    "from matplotlib import cm\n",
    "from matplotlib.ticker import LinearLocator, FormatStrFormatter\n",
    "import sys\n",
    "\n",
    "# the number of datapoints\n",
    "m = 100\n",
    "x = 2*np.random.rand(m,1)\n",
    "y = 4+3*x+np.random.randn(m,1)\n",
    "\n",
    "xb = np.c_[np.ones((m,1)), x]\n",
    "XT_X = xb.T @ xb\n",
    "\n",
    "#Ridge parameter lambda\n",
    "lmbda  = 0.001\n",
    "Id = lmbda* np.eye(XT_X.shape[0])\n",
    "\n",
    "beta_linreg = np.linalg.inv(XT_X+Id) @ xb.T @ y\n",
    "print(beta_linreg)\n",
    "# Start plain gradient descent\n",
    "beta = np.random.randn(2,1)\n",
    "\n",
    "eta = 0.1\n",
    "Niterations = 100\n",
    "\n",
    "for iter in range(Niterations):\n",
    "    gradients = 2.0/m*xb.T @ (xb @ (beta)-y)+2*lmbda*beta\n",
    "    beta -= eta*gradients\n",
    "\n",
    "print(beta)\n",
    "ypredict = xb @ beta\n",
    "ypredict2 = xb @ beta_linreg\n",
    "plt.plot(x, ypredict, \"r-\")\n",
    "plt.plot(x, ypredict2, \"b-\")\n",
    "plt.plot(x, y ,'ro')\n",
    "plt.axis([0,2.0,0, 15.0])\n",
    "plt.xlabel(r'$x$')\n",
    "plt.ylabel(r'$y$')\n",
    "plt.title(r'Gradient descent example for Ridge')\n",
    "plt.show()"
   ]
  },
  {
   "cell_type": "markdown",
   "metadata": {},
   "source": [
    "## Using gradient descent methods, limitations\n",
    "\n",
    "* **Gradient descent (GD) finds local minima of our function**. Since the GD algorithm is deterministic, if it converges, it will converge to a local minimum of our energy function. Because in ML we are often dealing with extremely rugged landscapes with many local minima, this can lead to poor performance.\n",
    "\n",
    "* **GD is sensitive to initial conditions**. One consequence of the local nature of GD is that initial conditions matter. Depending on where one starts, one will end up at a different local minima. Therefore, it is very important to think about how one initializes the training process. This is true for GD as well as more complicated variants of GD.\n",
    "\n",
    "* **Gradients are computationally expensive to calculate for large datasets**. In many cases in statistics and ML, the energy function is a sum of terms, with one term for each data point. For example, in linear regression, $E \\propto \\sum_{i=1}^n (y_i - \\mathbf{w}^T\\cdot\\mathbf{x}_i)^2$; for logistic regression, the square error is replaced by the cross entropy. To calculate the gradient we have to sum over *all* $n$ data points. Doing this at every GD step becomes extremely computationally expensive. An ingenious solution to this, is to calculate the gradients using small subsets of the data called \"mini batches\". This has the added benefit of introducing stochasticity into our algorithm.\n",
    "\n",
    "* **GD is very sensitive to choices of learning rates**. GD is extremely sensitive to the choice of learning rates. If the learning rate is very small, the training process take an extremely long time. For larger learning rates, GD can diverge and give poor results. Furthermore, depending on what the local landscape looks like, we have to modify the learning rates to ensure convergence. Ideally, we would *adaptively* choose the learning rates to match the landscape.\n",
    "\n",
    "* **GD treats all directions in parameter space uniformly.** Another major drawback of GD is that unlike Newton's method, the learning rate for GD is the same in all directions in parameter space. For this reason, the maximum learning rate is set by the behavior of the steepest direction and this can significantly slow down training. Ideally, we would like to take large steps in flat directions and small steps in steep directions. Since we are exploring rugged landscapes where curvatures change, this requires us to keep track of not only the gradient but second derivatives. The ideal scenario would be to calculate the Hessian but this proves to be too computationally expensive. \n",
    "\n",
    "* GD can take exponential time to escape saddle points, even with random initialization. As we mentioned, GD is extremely sensitive to initial condition since it determines the particular local minimum GD would eventually reach. However, even with a good initialization scheme, through the introduction of randomness, GD can still take exponential time to escape saddle points.\n",
    "\n",
    "## Friday September 25\n",
    "\n",
    "\n",
    "## Stochastic Gradient Descent\n",
    "\n",
    "Stochastic gradient descent (SGD) and variants thereof address some of\n",
    "the shortcomings of the Gradient descent method discussed above.\n",
    "\n",
    "The underlying idea of SGD comes from the observation that the cost\n",
    "function, which we want to minimize, can almost always be written as a\n",
    "sum over $n$ data points $\\{\\mathbf{x}_i\\}_{i=1}^n$,"
   ]
  },
  {
   "cell_type": "markdown",
   "metadata": {},
   "source": [
    "$$\n",
    "C(\\mathbf{\\beta}) = \\sum_{i=1}^n c_i(\\mathbf{x}_i,\n",
    "\\mathbf{\\beta}).\n",
    "$$"
   ]
  },
  {
   "cell_type": "markdown",
   "metadata": {},
   "source": [
    "## Computation of gradients\n",
    "\n",
    "This in turn means that the gradient can be\n",
    "computed as a sum over $i$-gradients"
   ]
  },
  {
   "cell_type": "markdown",
   "metadata": {},
   "source": [
    "$$\n",
    "\\nabla_\\beta C(\\mathbf{\\beta}) = \\sum_i^n \\nabla_\\beta c_i(\\mathbf{x}_i,\n",
    "\\mathbf{\\beta}).\n",
    "$$"
   ]
  },
  {
   "cell_type": "markdown",
   "metadata": {},
   "source": [
    "Stochasticity/randomness is introduced by only taking the\n",
    "gradient on a subset of the data called minibatches.  If there are $n$\n",
    "data points and the size of each minibatch is $M$, there will be $n/M$\n",
    "minibatches. We denote these minibatches by $B_k$ where\n",
    "$k=1,\\cdots,n/M$.\n",
    "\n",
    "## SGD example\n",
    "As an example, suppose we have $10$ data points $(\\mathbf{x}_1,\\cdots, \\mathbf{x}_{10})$ \n",
    "and we choose to have $M=5$ minibathces,\n",
    "then each minibatch contains two data points. In particular we have\n",
    "$B_1 = (\\mathbf{x}_1,\\mathbf{x}_2), \\cdots, B_5 =\n",
    "(\\mathbf{x}_9,\\mathbf{x}_{10})$. Note that if you choose $M=1$ you\n",
    "have only a single batch with all data points and on the other extreme,\n",
    "you may choose $M=n$ resulting in a minibatch for each datapoint, i.e\n",
    "$B_k = \\mathbf{x}_k$.\n",
    "\n",
    "The idea is now to approximate the gradient by replacing the sum over\n",
    "all data points with a sum over the data points in one the minibatches\n",
    "picked at random in each gradient descent step"
   ]
  },
  {
   "cell_type": "markdown",
   "metadata": {},
   "source": [
    "$$\n",
    "\\nabla_{\\beta}\n",
    "C(\\mathbf{\\beta}) = \\sum_{i=1}^n \\nabla_\\beta c_i(\\mathbf{x}_i,\n",
    "\\mathbf{\\beta}) \\rightarrow \\sum_{i \\in B_k}^n \\nabla_\\beta\n",
    "c_i(\\mathbf{x}_i, \\mathbf{\\beta}).\n",
    "$$"
   ]
  },
  {
   "cell_type": "markdown",
   "metadata": {},
   "source": [
    "## The gradient step\n",
    "\n",
    "Thus a gradient descent step now looks like"
   ]
  },
  {
   "cell_type": "markdown",
   "metadata": {},
   "source": [
    "$$\n",
    "\\beta_{j+1} = \\beta_j - \\gamma_j \\sum_{i \\in B_k}^n \\nabla_\\beta c_i(\\mathbf{x}_i,\n",
    "\\mathbf{\\beta})\n",
    "$$"
   ]
  },
  {
   "cell_type": "markdown",
   "metadata": {},
   "source": [
    "where $k$ is picked at random with equal\n",
    "probability from $[1,n/M]$. An iteration over the number of\n",
    "minibathces (n/M) is commonly referred to as an epoch. Thus it is\n",
    "typical to choose a number of epochs and for each epoch iterate over\n",
    "the number of minibatches, as exemplified in the code below.\n",
    "\n",
    "## Simple example code"
   ]
  },
  {
   "cell_type": "code",
   "execution_count": 9,
   "metadata": {
    "collapsed": false
   },
   "outputs": [],
   "source": [
    "import numpy as np \n",
    "\n",
    "n = 100 #100 datapoints \n",
    "M = 5   #size of each minibatch\n",
    "m = int(n/M) #number of minibatches\n",
    "n_epochs = 10 #number of epochs\n",
    "\n",
    "j = 0\n",
    "for epoch in range(1,n_epochs+1):\n",
    "    for i in range(m):\n",
    "        k = np.random.randint(m) #Pick the k-th minibatch at random\n",
    "        #Compute the gradient using the data in minibatch Bk\n",
    "        #Compute new suggestion for \n",
    "        j += 1"
   ]
  },
  {
   "cell_type": "markdown",
   "metadata": {},
   "source": [
    "Taking the gradient only on a subset of the data has two important\n",
    "benefits. First, it introduces randomness which decreases the chance\n",
    "that our opmization scheme gets stuck in a local minima. Second, if\n",
    "the size of the minibatches are small relative to the number of\n",
    "datapoints ($M <  n$), the computation of the gradient is much\n",
    "cheaper since we sum over the datapoints in the $k-th$ minibatch and not\n",
    "all $n$ datapoints.\n",
    "\n",
    "## When do we stop?\n",
    "\n",
    "A natural question is when do we stop the search for a new minimum?\n",
    "One possibility is to compute the full gradient after a given number\n",
    "of epochs and check if the norm of the gradient is smaller than some\n",
    "threshold and stop if true. However, the condition that the gradient\n",
    "is zero is valid also for local minima, so this would only tell us\n",
    "that we are close to a local/global minimum. However, we could also\n",
    "evaluate the cost function at this point, store the result and\n",
    "continue the search. If the test kicks in at a later stage we can\n",
    "compare the values of the cost function and keep the $\\beta$ that\n",
    "gave the lowest value.\n",
    "\n",
    "## Slightly different approach\n",
    "\n",
    "Another approach is to let the step length $\\gamma_j$ depend on the\n",
    "number of epochs in such a way that it becomes very small after a\n",
    "reasonable time such that we do not move at all.\n",
    "\n",
    "As an example, let $e = 0,1,2,3,\\cdots$ denote the current epoch and let $t_0, t_1 > 0$ be two fixed numbers. Furthermore, let $t = e \\cdot m + i$ where $m$ is the number of minibatches and $i=0,\\cdots,m-1$. Then the function $$\\gamma_j(t; t_0, t_1) = \\frac{t_0}{t+t_1} $$ goes to zero as the number of epochs gets large. I.e. we start with a step length $\\gamma_j (0; t_0, t_1) = t_0/t_1$ which decays in *time* $t$.\n",
    "\n",
    "In this way we can fix the number of epochs, compute $\\beta$ and\n",
    "evaluate the cost function at the end. Repeating the computation will\n",
    "give a different result since the scheme is random by design. Then we\n",
    "pick the final $\\beta$ that gives the lowest value of the cost\n",
    "function."
   ]
  },
  {
   "cell_type": "code",
   "execution_count": 10,
   "metadata": {
    "collapsed": false
   },
   "outputs": [],
   "source": [
    "import numpy as np \n",
    "\n",
    "def step_length(t,t0,t1):\n",
    "    return t0/(t+t1)\n",
    "\n",
    "n = 100 #100 datapoints \n",
    "M = 5   #size of each minibatch\n",
    "m = int(n/M) #number of minibatches\n",
    "n_epochs = 500 #number of epochs\n",
    "t0 = 1.0\n",
    "t1 = 10\n",
    "\n",
    "gamma_j = t0/t1\n",
    "j = 0\n",
    "for epoch in range(1,n_epochs+1):\n",
    "    for i in range(m):\n",
    "        k = np.random.randint(m) #Pick the k-th minibatch at random\n",
    "        #Compute the gradient using the data in minibatch Bk\n",
    "        #Compute new suggestion for beta\n",
    "        t = epoch*m+i\n",
    "        gamma_j = step_length(t,t0,t1)\n",
    "        j += 1\n",
    "\n",
    "print(\"gamma_j after %d epochs: %g\" % (n_epochs,gamma_j))"
   ]
  },
  {
   "cell_type": "markdown",
   "metadata": {},
   "source": [
    "## Program for stochastic gradient"
   ]
  },
  {
   "cell_type": "code",
   "execution_count": 11,
   "metadata": {
    "collapsed": false
   },
   "outputs": [],
   "source": [
    "# Importing various packages\n",
    "from math import exp, sqrt\n",
    "from random import random, seed\n",
    "import numpy as np\n",
    "import matplotlib.pyplot as plt\n",
    "from sklearn.linear_model import SGDRegressor\n",
    "\n",
    "m = 100\n",
    "x = 2*np.random.rand(m,1)\n",
    "y = 4+3*x+np.random.randn(m,1)\n",
    "\n",
    "xb = np.c_[np.ones((m,1)), x]\n",
    "theta_linreg = np.linalg.inv(xb.T.dot(xb)).dot(xb.T).dot(y)\n",
    "print(\"Own inversion\")\n",
    "print(theta_linreg)\n",
    "sgdreg = SGDRegressor(max_iter = 50, penalty=None, eta0=0.1)\n",
    "sgdreg.fit(x,y.ravel())\n",
    "print(\"sgdreg from scikit\")\n",
    "print(sgdreg.intercept_, sgdreg.coef_)\n",
    "\n",
    "\n",
    "theta = np.random.randn(2,1)\n",
    "eta = 0.1\n",
    "Niterations = 1000\n",
    "\n",
    "\n",
    "for iter in range(Niterations):\n",
    "    gradients = 2.0/m*xb.T @ ((xb @ theta)-y)\n",
    "    theta -= eta*gradients\n",
    "print(\"theta frm own gd\")\n",
    "print(theta)\n",
    "\n",
    "xnew = np.array([[0],[2]])\n",
    "xbnew = np.c_[np.ones((2,1)), xnew]\n",
    "ypredict = xbnew.dot(theta)\n",
    "ypredict2 = xbnew.dot(theta_linreg)\n",
    "\n",
    "\n",
    "n_epochs = 50\n",
    "t0, t1 = 5, 50\n",
    "def learning_schedule(t):\n",
    "    return t0/(t+t1)\n",
    "\n",
    "theta = np.random.randn(2,1)\n",
    "\n",
    "for epoch in range(n_epochs):\n",
    "    for i in range(m):\n",
    "        random_index = np.random.randint(m)\n",
    "        xi = xb[random_index:random_index+1]\n",
    "        yi = y[random_index:random_index+1]\n",
    "        gradients = 2 * xi.T @ ((xi @ theta)-yi)\n",
    "        eta = learning_schedule(epoch*m+i)\n",
    "        theta = theta - eta*gradients\n",
    "print(\"theta from own sdg\")\n",
    "print(theta)\n",
    "\n",
    "plt.plot(xnew, ypredict, \"r-\")\n",
    "plt.plot(xnew, ypredict2, \"b-\")\n",
    "plt.plot(x, y ,'ro')\n",
    "plt.axis([0,2.0,0, 15.0])\n",
    "plt.xlabel(r'$x$')\n",
    "plt.ylabel(r'$y$')\n",
    "plt.title(r'Random numbers ')\n",
    "plt.show()"
   ]
  },
  {
   "cell_type": "markdown",
   "metadata": {},
   "source": [
    "**Challenge**: try to write a similar code for a Logistic Regression case.\n",
    "\n",
    "\n",
    "## Momentum based GD\n",
    "\n",
    "The stochastic gradient descent (SGD) is almost always used with a\n",
    "*momentum* or inertia term that serves as a memory of the direction we\n",
    "are moving in parameter space.  This is typically implemented as\n",
    "follows"
   ]
  },
  {
   "cell_type": "markdown",
   "metadata": {},
   "source": [
    "$$\n",
    "\\mathbf{v}_{t}=\\gamma \\mathbf{v}_{t-1}+\\eta_{t}\\nabla_\\theta E(\\boldsymbol{\\theta}_t) \\nonumber\n",
    "$$"
   ]
  },
  {
   "cell_type": "markdown",
   "metadata": {},
   "source": [
    "<!-- Equation labels as ordinary links -->\n",
    "<div id=\"_auto1\"></div>\n",
    "\n",
    "$$\n",
    "\\begin{equation} \n",
    "\\boldsymbol{\\theta}_{t+1}= \\boldsymbol{\\theta}_t -\\mathbf{v}_{t},\n",
    "\\label{_auto1} \\tag{2}\n",
    "\\end{equation}\n",
    "$$"
   ]
  },
  {
   "cell_type": "markdown",
   "metadata": {},
   "source": [
    "where we have introduced a momentum parameter $\\gamma$, with\n",
    "$0\\le\\gamma\\le 1$, and for brevity we dropped the explicit notation to\n",
    "indicate the gradient is to be taken over a different mini-batch at\n",
    "each step. We call this algorithm gradient descent with momentum\n",
    "(GDM). From these equations, it is clear that $\\mathbf{v}_t$ is a\n",
    "running average of recently encountered gradients and\n",
    "$(1-\\gamma)^{-1}$ sets the characteristic time scale for the memory\n",
    "used in the averaging procedure. Consistent with this, when\n",
    "$\\gamma=0$, this just reduces down to ordinary SGD as discussed\n",
    "earlier. An equivalent way of writing the updates is"
   ]
  },
  {
   "cell_type": "markdown",
   "metadata": {},
   "source": [
    "$$\n",
    "\\Delta \\boldsymbol{\\theta}_{t+1} = \\gamma \\Delta \\boldsymbol{\\theta}_t -\\ \\eta_{t}\\nabla_\\theta E(\\boldsymbol{\\theta}_t),\n",
    "$$"
   ]
  },
  {
   "cell_type": "markdown",
   "metadata": {},
   "source": [
    "where we have defined $\\Delta \\boldsymbol{\\theta}_{t}= \\boldsymbol{\\theta}_t-\\boldsymbol{\\theta}_{t-1}$.\n",
    "\n",
    "## More on momentum based approaches\n",
    "\n",
    "Let us try to get more intuition from these equations. It is helpful\n",
    "to consider a simple physical analogy with a particle of mass $m$\n",
    "moving in a viscous medium with drag coefficient $\\mu$ and potential\n",
    "$E(\\mathbf{w})$. If we denote the particle's position by $\\mathbf{w}$,\n",
    "then its motion is described by"
   ]
  },
  {
   "cell_type": "markdown",
   "metadata": {},
   "source": [
    "$$\n",
    "m {d^2 \\mathbf{w} \\over dt^2} + \\mu {d \\mathbf{w} \\over dt }= -\\nabla_w E(\\mathbf{w}).\n",
    "$$"
   ]
  },
  {
   "cell_type": "markdown",
   "metadata": {},
   "source": [
    "We can discretize this equation in the usual way to get"
   ]
  },
  {
   "cell_type": "markdown",
   "metadata": {},
   "source": [
    "$$\n",
    "m { \\mathbf{w}_{t+\\Delta t}-2 \\mathbf{w}_{t} +\\mathbf{w}_{t-\\Delta t} \\over (\\Delta t)^2}+\\mu {\\mathbf{w}_{t+\\Delta t}- \\mathbf{w}_{t} \\over \\Delta t} = -\\nabla_w E(\\mathbf{w}).\n",
    "$$"
   ]
  },
  {
   "cell_type": "markdown",
   "metadata": {},
   "source": [
<<<<<<< HEAD
    "## Steepest descent example"
   ]
  },
  {
   "cell_type": "code",
   "execution_count": 5,
   "metadata": {},
   "outputs": [
    {
     "data": {
      "text/plain": [
       "<mpl_toolkits.mplot3d.art3d.Poly3DCollection at 0x7fcf70659c50>"
      ]
     },
     "execution_count": 5,
     "metadata": {},
     "output_type": "execute_result"
    },
    {
     "data": {
      "image/png": "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\n",
      "text/plain": [
       "<Figure size 432x288 with 1 Axes>"
      ]
     },
     "metadata": {
      "needs_background": "light"
     },
     "output_type": "display_data"
    }
   ],
   "source": [
    "import numpy as np\n",
    "import numpy.linalg as la\n",
    "\n",
    "import scipy.optimize as sopt\n",
    "\n",
    "import matplotlib.pyplot as pt\n",
    "from mpl_toolkits.mplot3d import axes3d\n",
    "\n",
    "def f(x):\n",
    "    return 0.5*x[0]**2 + 2.5*x[1]**2\n",
    "\n",
    "def df(x):\n",
    "    return np.array([x[0], 5*x[1]])\n",
    "\n",
    "fig = pt.figure()\n",
    "ax = fig.gca(projection=\"3d\")\n",
    "\n",
    "xmesh, ymesh = np.mgrid[-2:2:50j,-2:2:50j]\n",
    "fmesh = f(np.array([xmesh, ymesh]))\n",
    "ax.plot_surface(xmesh, ymesh, fmesh)"
=======
    "Rearranging this equation, we can rewrite this as"
>>>>>>> 6df59f6e6d187c38539aaa6410da06443f3dcfb0
   ]
  },
  {
   "cell_type": "markdown",
   "metadata": {},
   "source": [
<<<<<<< HEAD
    "And then as countor plot"
   ]
  },
  {
   "cell_type": "code",
   "execution_count": 6,
   "metadata": {},
   "outputs": [
    {
     "data": {
      "image/png": "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\n",
      "text/plain": [
       "<Figure size 432x288 with 1 Axes>"
      ]
     },
     "metadata": {
      "needs_background": "light"
     },
     "output_type": "display_data"
    }
   ],
   "source": [
    "pt.axis(\"equal\")\n",
    "pt.contour(xmesh, ymesh, fmesh)\n",
    "guesses = [np.array([2, 2./5])]"
=======
    "$$\n",
    "\\Delta \\mathbf{w}_{t +\\Delta t}= - { (\\Delta t)^2 \\over m +\\mu \\Delta t} \\nabla_w E(\\mathbf{w})+ {m \\over m +\\mu \\Delta t} \\Delta \\mathbf{w}_t.\n",
    "$$"
>>>>>>> 6df59f6e6d187c38539aaa6410da06443f3dcfb0
   ]
  },
  {
   "cell_type": "markdown",
   "metadata": {},
   "source": [
<<<<<<< HEAD
    "Find guesses"
   ]
  },
  {
   "cell_type": "code",
   "execution_count": 7,
   "metadata": {},
   "outputs": [],
   "source": [
    "x = guesses[-1]\n",
    "s = -df(x)"
=======
    "## Momentum parameter\n",
    "\n",
    "Notice that this equation is identical to previous one if we identify\n",
    "the position of the particle, $\\mathbf{w}$, with the parameters\n",
    "$\\boldsymbol{\\theta}$. This allows us to identify the momentum\n",
    "parameter and learning rate with the mass of the particle and the\n",
    "viscous drag as:"
>>>>>>> 6df59f6e6d187c38539aaa6410da06443f3dcfb0
   ]
  },
  {
   "cell_type": "markdown",
   "metadata": {},
   "source": [
<<<<<<< HEAD
    "Run it!"
   ]
  },
  {
   "cell_type": "code",
   "execution_count": 8,
   "metadata": {},
   "outputs": [
    {
     "name": "stdout",
     "output_type": "stream",
     "text": [
      "[ 1.33333333 -0.26666667]\n"
     ]
    }
   ],
   "source": [
    "def f1d(alpha):\n",
    "    return f(x + alpha*s)\n",
    "\n",
    "alpha_opt = sopt.golden(f1d)\n",
    "next_guess = x + alpha_opt * s\n",
    "guesses.append(next_guess)\n",
    "print(next_guess)"
=======
    "$$\n",
    "\\gamma= {m \\over m +\\mu \\Delta t }, \\qquad \\eta = {(\\Delta t)^2 \\over m +\\mu \\Delta t}.\n",
    "$$"
>>>>>>> 6df59f6e6d187c38539aaa6410da06443f3dcfb0
   ]
  },
  {
   "cell_type": "markdown",
   "metadata": {},
   "source": [
<<<<<<< HEAD
    "What happened?"
   ]
  },
  {
   "cell_type": "code",
   "execution_count": 9,
   "metadata": {},
   "outputs": [
    {
     "data": {
      "text/plain": [
       "[<matplotlib.lines.Line2D at 0x7fcf70c06e80>]"
      ]
     },
     "execution_count": 9,
     "metadata": {},
     "output_type": "execute_result"
    },
    {
     "data": {
      "image/png": "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\n",
      "text/plain": [
       "<Figure size 432x288 with 1 Axes>"
      ]
     },
     "metadata": {
      "needs_background": "light"
     },
     "output_type": "display_data"
    }
   ],
   "source": [
    "pt.axis(\"equal\")\n",
    "pt.contour(xmesh, ymesh, fmesh, 50)\n",
    "it_array = np.array(guesses)\n",
    "pt.plot(it_array.T[0], it_array.T[1], \"x-\")"
=======
    "Thus, as the name suggests, the momentum parameter is proportional to\n",
    "the mass of the particle and effectively provides inertia.\n",
    "Furthermore, in the large viscosity/small learning rate limit, our\n",
    "memory time scales as $(1-\\gamma)^{-1} \\approx m/(\\mu \\Delta t)$.\n",
    "\n",
    "Why is momentum useful? SGD momentum helps the gradient descent\n",
    "algorithm gain speed in directions with persistent but small gradients\n",
    "even in the presence of stochasticity, while suppressing oscillations\n",
    "in high-curvature directions. This becomes especially important in\n",
    "situations where the landscape is shallow and flat in some directions\n",
    "and narrow and steep in others. It has been argued that first-order\n",
    "methods (with appropriate initial conditions) can perform comparable\n",
    "to more expensive second order methods, especially in the context of\n",
    "complex deep learning models.\n",
    "\n",
    "These beneficial properties of momentum can sometimes become even more\n",
    "pronounced by using a slight modification of the classical momentum\n",
    "algorithm called Nesterov Accelerated Gradient (NAG).\n",
    "\n",
    "In the NAG algorithm, rather than calculating the gradient at the\n",
    "current parameters, $\\nabla_\\theta E(\\boldsymbol{\\theta}_t)$, one\n",
    "calculates the gradient at the expected value of the parameters given\n",
    "our current momentum, $\\nabla_\\theta E(\\boldsymbol{\\theta}_t +\\gamma\n",
    "\\mathbf{v}_{t-1})$. This yields the NAG update rule"
>>>>>>> 6df59f6e6d187c38539aaa6410da06443f3dcfb0
   ]
  },
  {
   "cell_type": "markdown",
   "metadata": {},
   "source": [
    "$$\n",
    "\\mathbf{v}_{t}=\\gamma \\mathbf{v}_{t-1}+\\eta_{t}\\nabla_\\theta E(\\boldsymbol{\\theta}_t +\\gamma \\mathbf{v}_{t-1}) \\nonumber\n",
    "$$"
   ]
  },
  {
   "cell_type": "markdown",
   "metadata": {},
   "source": [
    "<!-- Equation labels as ordinary links -->\n",
    "<div id=\"_auto2\"></div>\n",
    "\n",
    "$$\n",
    "\\begin{equation} \n",
    "\\boldsymbol{\\theta}_{t+1}= \\boldsymbol{\\theta}_t -\\mathbf{v}_{t}.\n",
    "\\label{_auto2} \\tag{3}\n",
    "\\end{equation}\n",
    "$$"
   ]
  },
  {
   "cell_type": "markdown",
   "metadata": {},
   "source": [
    "One of the major advantages of NAG is that it allows for the use of a larger learning rate than GDM for the same choice of $\\gamma$.\n",
    "\n",
    "\n",
    "## Second moment of the gradient\n",
    "\n",
    "\n",
    "In stochastic gradient descent, with and without momentum, we still\n",
    "have to specify a schedule for tuning the learning rates $\\eta_t$\n",
    "as a function of time.  As discussed in the context of Newton's\n",
    "method, this presents a number of dilemmas. The learning rate is\n",
    "limited by the steepest direction which can change depending on the\n",
    "current position in the landscape. To circumvent this problem, ideally\n",
    "our algorithm would keep track of curvature and take large steps in\n",
    "shallow, flat directions and small steps in steep, narrow directions.\n",
    "Second-order methods accomplish this by calculating or approximating\n",
    "the Hessian and normalizing the learning rate by the\n",
    "curvature. However, this is very computationally expensive for\n",
    "extremely large models. Ideally, we would like to be able to\n",
    "adaptively change the step size to match the landscape without paying\n",
    "the steep computational price of calculating or approximating\n",
    "Hessians.\n",
    "\n",
    "Recently, a number of methods have been introduced that accomplish\n",
    "this by tracking not only the gradient, but also the second moment of\n",
    "the gradient. These methods include AdaGrad, AdaDelta, RMS-Prop, and\n",
    "ADAM.\n",
    "\n",
    "## RMS prop\n",
    "\n",
    "In RMS prop, in addition to keeping a running average of the first\n",
    "moment of the gradient, we also keep track of the second moment\n",
    "denoted by $\\mathbf{s}_t=\\mathbb{E}[\\mathbf{g}_t^2]$. The update rule\n",
    "for RMS prop is given by"
   ]
  },
  {
   "cell_type": "markdown",
   "metadata": {},
   "source": [
    "<!-- Equation labels as ordinary links -->\n",
    "<div id=\"_auto3\"></div>\n",
    "\n",
    "$$\n",
    "\\begin{equation}\n",
    "\\mathbf{g}_t = \\nabla_\\theta E(\\boldsymbol{\\theta}) \n",
    "\\label{_auto3} \\tag{4}\n",
    "\\end{equation}\n",
    "$$"
   ]
  },
  {
   "cell_type": "markdown",
   "metadata": {},
   "source": [
    "$$\n",
    "\\mathbf{s}_t =\\beta \\mathbf{s}_{t-1} +(1-\\beta)\\mathbf{g}_t^2 \\nonumber\n",
    "$$"
   ]
  },
  {
   "cell_type": "markdown",
   "metadata": {},
   "source": [
    "$$\n",
    "\\boldsymbol{\\theta}_{t+1}=\\boldsymbol{\\theta}_t - \\eta_t { \\mathbf{g}_t \\over \\sqrt{\\mathbf{s}_t +\\epsilon}}, \\nonumber\n",
    "$$"
   ]
  },
  {
   "cell_type": "markdown",
   "metadata": {},
   "source": [
    "where $\\beta$ controls the averaging time of the second moment and is\n",
    "typically taken to be about $\\beta=0.9$, $\\eta_t$ is a learning rate\n",
    "typically chosen to be $10^{-3}$, and $\\epsilon\\sim 10^{-8} $ is a\n",
    "small regularization constant to prevent divergences. Multiplication\n",
    "and division by vectors is understood as an element-wise operation. It\n",
    "is clear from this formula that the learning rate is reduced in\n",
    "directions where the norm of the gradient is consistently large. This\n",
    "greatly speeds up the convergence by allowing us to use a larger\n",
    "learning rate for flat directions.\n",
    "\n",
    "\n",
    "## ADAM optimizer\n",
    "\n",
    "A related algorithm is the ADAM optimizer. In ADAM, we keep a running\n",
    "average of both the first and second moment of the gradient and use\n",
    "this information to adaptively change the learning rate for different\n",
    "parameters. In addition to keeping a running average of the first and\n",
    "second moments of the gradient\n",
    "(i.e. $\\mathbf{m}_t=\\mathbb{E}[\\mathbf{g}_t]$ and\n",
    "$\\mathbf{s}_t=\\mathbb{E}[\\mathbf{g}^2_t]$, respectively), ADAM\n",
    "performs an additional bias correction to account for the fact that we\n",
    "are estimating the first two moments of the gradient using a running\n",
    "average (denoted by the hats in the update rule below). The update\n",
    "rule for ADAM is given by (where multiplication and division are once\n",
    "again understood to be element-wise operations below)"
   ]
  },
  {
   "cell_type": "markdown",
   "metadata": {},
   "source": [
    "<!-- Equation labels as ordinary links -->\n",
    "<div id=\"_auto4\"></div>\n",
    "\n",
    "$$\n",
    "\\begin{equation}\n",
    "\\mathbf{g}_t = \\nabla_\\theta E(\\boldsymbol{\\theta}) \n",
    "\\label{_auto4} \\tag{5}\n",
    "\\end{equation}\n",
    "$$"
   ]
  },
  {
   "cell_type": "markdown",
   "metadata": {},
   "source": [
    "$$\n",
    "\\mathbf{m}_t = \\beta_1 \\mathbf{m}_{t-1} + (1-\\beta_1) \\mathbf{g}_t \\nonumber\n",
    "$$"
   ]
  },
  {
   "cell_type": "markdown",
   "metadata": {},
   "source": [
    "$$\n",
    "\\mathbf{s}_t =\\beta_2 \\mathbf{s}_{t-1} +(1-\\beta_2)\\mathbf{g}_t^2 \\nonumber\n",
    "$$"
   ]
  },
  {
   "cell_type": "markdown",
   "metadata": {},
   "source": [
    "$$\n",
    "\\hat{\\mathbf{m}}_t={\\mathbf{m}_t \\over 1-\\beta_1^t} \\nonumber\n",
    "$$"
   ]
  },
  {
   "cell_type": "markdown",
   "metadata": {},
   "source": [
    "$$\n",
    "\\hat{\\mathbf{s}}_t ={\\mathbf{s}_t \\over1-\\beta_2^t} \\nonumber\n",
    "$$"
   ]
  },
  {
   "cell_type": "markdown",
   "metadata": {},
   "source": [
    "$$\n",
    "\\boldsymbol{\\theta}_{t+1}=\\boldsymbol{\\theta}_t - \\eta_t { \\hat{\\mathbf{m}}_t \\over \\sqrt{\\hat{\\mathbf{s}}_t} +\\epsilon}, \\nonumber\n",
    "$$"
   ]
  },
  {
   "cell_type": "markdown",
   "metadata": {},
   "source": [
    "<!-- Equation labels as ordinary links -->\n",
    "<div id=\"_auto5\"></div>\n",
    "\n",
    "$$\n",
    "\\begin{equation} \n",
    "\\label{_auto5} \\tag{6}\n",
    "\\end{equation}\n",
    "$$"
   ]
  },
  {
   "cell_type": "markdown",
   "metadata": {},
   "source": [
    "where $\\beta_1$ and $\\beta_2$ set the memory lifetime of the first and\n",
    "second moment and are typically taken to be $0.9$ and $0.99$\n",
    "respectively, and $\\eta$ and $\\epsilon$ are identical to RMSprop.\n",
    "\n",
    "Like in RMSprop, the effective step size of a parameter depends on the\n",
    "magnitude of its gradient squared.  To understand this better, let us\n",
    "rewrite this expression in terms of the variance\n",
    "$\\boldsymbol{\\sigma}_t^2 = \\hat{\\mathbf{s}}_t -\n",
    "(\\hat{\\mathbf{m}}_t)^2$. Consider a single parameter $\\theta_t$. The\n",
    "update rule for this parameter is given by"
   ]
  },
  {
   "cell_type": "markdown",
   "metadata": {},
   "source": [
    "$$\n",
    "\\Delta \\theta_{t+1}= -\\eta_t { \\hat{m}_t \\over \\sqrt{\\sigma_t^2 +  m_t^2 }+\\epsilon}.\n",
    "$$"
   ]
  },
  {
   "cell_type": "markdown",
   "metadata": {},
   "source": [
    "## Practical tips\n",
    "\n",
    "* **Randomize the data when making mini-batches**. It is always important to randomly shuffle the data when forming mini-batches. Otherwise, the gradient descent method can fit spurious correlations resulting from the order in which data is presented.\n",
    "\n",
    "* **Transform your inputs**. Learning becomes difficult when our landscape has a mixture of steep and flat directions. One simple trick for minimizing these situations is to standardize the data by subtracting the mean and normalizing the variance of input variables. Whenever possible, also decorrelate the inputs. To understand why this is helpful, consider the case of linear regression. It is easy to show that for the squared error cost function, the Hessian of the energy matrix is just the correlation matrix between the inputs. Thus, by standardizing the inputs, we are ensuring that the landscape looks homogeneous in all directions in parameter space. Since most deep networks can be viewed as linear transformations followed by a non-linearity at each layer, we expect this intuition to hold beyond the linear case.\n",
    "\n",
    "* **Monitor the out-of-sample performance.** Always monitor the performance of your model on a validation set (a small portion of the training data that is held out of the training process to serve as a proxy for the test set. If the validation error starts increasing, then the model is beginning to overfit. Terminate the learning process. This *early stopping* significantly improves performance in many settings.\n",
    "\n",
    "* **Adaptive optimization methods don't always have good generalization.** Recent studies have shown that adaptive methods such as ADAM, RMSPorp, and AdaGrad tend to have poor generalization compared to SGD or SGD with momentum, particularly in the high-dimensional limit (i.e. the number of parameters exceeds the number of data points). Although it is not clear at this stage why these methods perform so well in training deep neural networks, simpler procedures like properly-tuned SGD may work as well or better in these applications.\n",
    "\n",
    "Geron's text, see chapter 11, has several interesting discussions.\n",
    "\n",
    "\n",
    "\n",
    "## Automatic differentiation\n",
    "\n",
    "[Automatic differentiation (AD)](https://en.wikipedia.org/wiki/Automatic_differentiation), \n",
    "also called algorithmic\n",
    "differentiation or computational differentiation,is a set of\n",
    "techniques to numerically evaluate the derivative of a function\n",
    "specified by a computer program. AD exploits the fact that every\n",
    "computer program, no matter how complicated, executes a sequence of\n",
    "elementary arithmetic operations (addition, subtraction,\n",
    "multiplication, division, etc.) and elementary functions (exp, log,\n",
    "sin, cos, etc.). By applying the chain rule repeatedly to these\n",
    "operations, derivatives of arbitrary order can be computed\n",
    "automatically, accurately to working precision, and using at most a\n",
    "small constant factor more arithmetic operations than the original\n",
    "program.\n",
    "\n",
    "Automatic differentiation is neither:\n",
    "\n",
    "* Symbolic differentiation, nor\n",
    "\n",
    "* Numerical differentiation (the method of finite differences).\n",
    "\n",
    "Symbolic differentiation can lead to inefficient code and faces the\n",
    "difficulty of converting a computer program into a single expression,\n",
    "while numerical differentiation can introduce round-off errors in the\n",
    "discretization process and cancellation\n",
    "\n",
    "\n",
    "\n",
    "Python has tools for so-called **automatic differentiation**.\n",
    "Consider the following example"
   ]
  },
  {
   "cell_type": "markdown",
   "metadata": {},
   "source": [
    "$$\n",
    "f(x) = \\sin\\left(2\\pi x + x^2\\right)\n",
    "$$"
   ]
  },
  {
   "cell_type": "markdown",
   "metadata": {},
   "source": [
    "which has the following derivative"
   ]
  },
  {
   "cell_type": "markdown",
   "metadata": {},
   "source": [
    "$$\n",
    "f'(x) = \\cos\\left(2\\pi x + x^2\\right)\\left(2\\pi + 2x\\right)\n",
    "$$"
   ]
  },
  {
   "cell_type": "markdown",
   "metadata": {},
   "source": [
    "Using **autograd** we have"
   ]
  },
  {
   "cell_type": "code",
   "execution_count": 12,
   "metadata": {
    "collapsed": false
   },
   "outputs": [],
   "source": [
    "import autograd.numpy as np\n",
    "\n",
    "# To do elementwise differentiation:\n",
    "from autograd import elementwise_grad as egrad \n",
    "\n",
    "# To plot:\n",
    "import matplotlib.pyplot as plt \n",
    "\n",
    "\n",
    "def f(x):\n",
    "    return np.sin(2*np.pi*x + x**2)\n",
    "\n",
    "def f_grad_analytic(x):\n",
    "    return np.cos(2*np.pi*x + x**2)*(2*np.pi + 2*x)\n",
    "\n",
    "# Do the comparison:\n",
    "x = np.linspace(0,1,1000)\n",
    "\n",
    "f_grad = egrad(f)\n",
    "\n",
    "computed = f_grad(x)\n",
    "analytic = f_grad_analytic(x)\n",
    "\n",
    "plt.title('Derivative computed from Autograd compared with the analytical derivative')\n",
    "plt.plot(x,computed,label='autograd')\n",
    "plt.plot(x,analytic,label='analytic')\n",
    "\n",
    "plt.xlabel('x')\n",
    "plt.ylabel('y')\n",
    "plt.legend()\n",
    "\n",
    "plt.show()\n",
    "\n",
    "print(\"The max absolute difference is: %g\"%(np.max(np.abs(computed - analytic))))"
   ]
  },
  {
   "cell_type": "markdown",
   "metadata": {},
   "source": [
    "<!-- !split  -->\n",
    "## Using autograd\n",
    "\n",
    "Here we\n",
    "experiment with what kind of functions Autograd is capable\n",
    "of finding the gradient of. The following Python functions are just\n",
    "meant to illustrate what Autograd can do, but please feel free to\n",
    "experiment with other, possibly more complicated, functions as well."
   ]
  },
  {
   "cell_type": "code",
   "execution_count": 13,
   "metadata": {
    "collapsed": false
   },
   "outputs": [],
   "source": [
    "import autograd.numpy as np\n",
    "from autograd import grad\n",
    "\n",
    "def f1(x):\n",
    "    return x**3 + 1\n",
    "\n",
    "f1_grad = grad(f1)\n",
    "\n",
    "# Remember to send in float as argument to the computed gradient from Autograd!\n",
    "a = 1.0\n",
    "\n",
    "# See the evaluated gradient at a using autograd:\n",
    "print(\"The gradient of f1 evaluated at a = %g using autograd is: %g\"%(a,f1_grad(a)))\n",
    "\n",
    "# Compare with the analytical derivative, that is f1'(x) = 3*x**2 \n",
    "grad_analytical = 3*a**2\n",
    "print(\"The gradient of f1 evaluated at a = %g by finding the analytic expression is: %g\"%(a,grad_analytical))"
   ]
  },
  {
   "cell_type": "markdown",
   "metadata": {},
   "source": [
    "## Autograd with more complicated functions\n",
    "\n",
    "To differentiate with respect to two (or more) arguments of a Python\n",
    "function, Autograd need to know at which variable the function if\n",
    "being differentiated with respect to."
   ]
  },
  {
   "cell_type": "code",
   "execution_count": 14,
   "metadata": {
    "collapsed": false
   },
   "outputs": [],
   "source": [
    "import autograd.numpy as np\n",
    "from autograd import grad\n",
    "def f2(x1,x2):\n",
    "    return 3*x1**3 + x2*(x1 - 5) + 1\n",
    "\n",
    "# By sending the argument 0, Autograd will compute the derivative w.r.t the first variable, in this case x1\n",
    "f2_grad_x1 = grad(f2,0)\n",
    "\n",
    "# ... and differentiate w.r.t x2 by sending 1 as an additional arugment to grad\n",
    "f2_grad_x2 = grad(f2,1)\n",
    "\n",
    "x1 = 1.0\n",
    "x2 = 3.0 \n",
    "\n",
    "print(\"Evaluating at x1 = %g, x2 = %g\"%(x1,x2))\n",
    "print(\"-\"*30)\n",
    "\n",
    "# Compare with the analytical derivatives:\n",
    "\n",
    "# Derivative of f2 w.r.t x1 is: 9*x1**2 + x2:\n",
    "f2_grad_x1_analytical = 9*x1**2 + x2\n",
    "\n",
    "# Derivative of f2 w.r.t x2 is: x1 - 5:\n",
    "f2_grad_x2_analytical = x1 - 5\n",
    "\n",
    "# See the evaluated derivations:\n",
    "print(\"The derivative of f2 w.r.t x1: %g\"%( f2_grad_x1(x1,x2) ))\n",
    "print(\"The analytical derivative of f2 w.r.t x1: %g\"%( f2_grad_x1(x1,x2) ))\n",
    "\n",
    "print()\n",
    "\n",
    "print(\"The derivative of f2 w.r.t x2: %g\"%( f2_grad_x2(x1,x2) ))\n",
    "print(\"The analytical derivative of f2 w.r.t x2: %g\"%( f2_grad_x2(x1,x2) ))"
   ]
  },
  {
   "cell_type": "markdown",
   "metadata": {},
   "source": [
    "Note that the grad function will not produce the true gradient of the function. The true gradient of a function with two or more variables will produce a vector, where each element is the function differentiated w.r.t a variable.\n",
    "\n",
    "\n",
    "## More complicated functions using the elements of their arguments directly"
   ]
  },
  {
   "cell_type": "code",
   "execution_count": 15,
   "metadata": {
    "collapsed": false
   },
   "outputs": [],
   "source": [
    "import autograd.numpy as np\n",
    "from autograd import grad\n",
    "def f3(x): # Assumes x is an array of length 5 or higher\n",
    "    return 2*x[0] + 3*x[1] + 5*x[2] + 7*x[3] + 11*x[4]**2\n",
    "\n",
    "f3_grad = grad(f3)\n",
    "\n",
    "x = np.linspace(0,4,5)\n",
    "\n",
    "# Print the computed gradient:\n",
    "print(\"The computed gradient of f3 is: \", f3_grad(x))\n",
    "\n",
    "# The analytical gradient is: (2, 3, 5, 7, 22*x[4])\n",
    "f3_grad_analytical = np.array([2, 3, 5, 7, 22*x[4]])\n",
    "\n",
    "# Print the analytical gradient:\n",
    "print(\"The analytical gradient of f3 is: \", f3_grad_analytical)"
   ]
  },
  {
   "cell_type": "markdown",
   "metadata": {},
   "source": [
    "Note that in this case, when sending an array as input argument, the\n",
    "output from Autograd is another array. This is the true gradient of\n",
    "the function, as opposed to the function in the previous example. By\n",
    "using arrays to represent the variables, the output from Autograd\n",
    "might be easier to work with, as the output is closer to what one\n",
    "could expect form a gradient-evaluting function.\n",
    "\n",
    "<!-- !split  -->\n",
    "## Functions using mathematical functions from Numpy"
   ]
  },
  {
   "cell_type": "code",
   "execution_count": 16,
   "metadata": {
    "collapsed": false
   },
   "outputs": [],
   "source": [
    "import autograd.numpy as np\n",
    "from autograd import grad\n",
    "def f4(x):\n",
    "    return np.sqrt(1+x**2) + np.exp(x) + np.sin(2*np.pi*x)\n",
    "\n",
    "f4_grad = grad(f4)\n",
    "\n",
    "x = 2.7\n",
    "\n",
    "# Print the computed derivative:\n",
    "print(\"The computed derivative of f4 at x = %g is: %g\"%(x,f4_grad(x)))\n",
    "\n",
    "# The analytical derivative is: x/sqrt(1 + x**2) + exp(x) + cos(2*pi*x)*2*pi\n",
    "f4_grad_analytical = x/np.sqrt(1 + x**2) + np.exp(x) + np.cos(2*np.pi*x)*2*np.pi\n",
    "\n",
    "# Print the analytical gradient:\n",
    "print(\"The analytical gradient of f4 at x = %g is: %g\"%(x,f4_grad_analytical))"
   ]
  },
  {
   "cell_type": "markdown",
   "metadata": {},
   "source": [
    "## More autograd"
   ]
  },
  {
   "cell_type": "code",
   "execution_count": 17,
   "metadata": {
    "collapsed": false
   },
   "outputs": [],
   "source": [
    "import autograd.numpy as np\n",
    "from autograd import grad\n",
    "def f5(x):\n",
    "    if x >= 0:\n",
    "        return x**2\n",
    "    else:\n",
    "        return -3*x + 1\n",
    "\n",
    "f5_grad = grad(f5)\n",
    "\n",
    "x = 2.7\n",
    "\n",
    "# Print the computed derivative:\n",
    "print(\"The computed derivative of f5 at x = %g is: %g\"%(x,f5_grad(x)))"
   ]
  },
  {
   "cell_type": "markdown",
   "metadata": {},
   "source": [
    "## And  with loops"
   ]
  },
  {
   "cell_type": "markdown",
   "metadata": {},
   "source": [
    "1\n",
    "7\n",
    " \n",
    "<\n",
    "<\n",
    "<\n",
    "!\n",
    "!\n",
    "C\n",
    "O\n",
    "D\n",
    "E\n",
    "_\n",
    "B\n",
    "L\n",
    "O\n",
    "C\n",
    "K\n",
    " \n",
    " \n",
    "p\n",
    "y\n",
    "c\n",
    "o\n",
    "d"
   ]
  },
  {
   "cell_type": "code",
   "execution_count": 18,
   "metadata": {
    "collapsed": false
   },
   "outputs": [],
   "source": [
    "import autograd.numpy as np\n",
    "from autograd import grad\n",
    "# Both of the functions are implementation of the sum: sum(x**i) for i = 0, ..., 9\n",
    "# The analytical derivative is: sum(i*x**(i-1)) \n",
    "f6_grad_analytical = 0\n",
    "for i in range(10):\n",
    "    f6_grad_analytical += i*x**(i-1)\n",
    "\n",
    "print(\"The analytical derivative of f6 at x = %g is: %g\"%(x,f6_grad_analytical))"
   ]
  },
  {
   "cell_type": "markdown",
   "metadata": {},
   "source": [
    "## Using recursion"
   ]
  },
  {
   "cell_type": "code",
   "execution_count": 19,
   "metadata": {
    "collapsed": false
   },
   "outputs": [],
   "source": [
    "import autograd.numpy as np\n",
    "from autograd import grad\n",
    "\n",
    "def f7(n): # Assume that n is an integer\n",
    "    if n == 1 or n == 0:\n",
    "        return 1\n",
    "    else:\n",
    "        return n*f7(n-1)\n",
    "\n",
    "f7_grad = grad(f7)\n",
    "\n",
    "n = 2.0\n",
    "\n",
    "print(\"The computed derivative of f7 at n = %d is: %g\"%(n,f7_grad(n)))\n",
    "\n",
    "# The function f7 is an implementation of the factorial of n.\n",
    "# By using the product rule, one can find that the derivative is:\n",
    "\n",
    "f7_grad_analytical = 0\n",
    "for i in range(int(n)-1):\n",
    "    tmp = 1\n",
    "    for k in range(int(n)-1):\n",
    "        if k != i:\n",
    "            tmp *= (n - k)\n",
    "    f7_grad_analytical += tmp\n",
    "\n",
    "print(\"The analytical derivative of f7 at n = %d is: %g\"%(n,f7_grad_analytical))"
   ]
  },
  {
   "cell_type": "markdown",
   "metadata": {},
   "source": [
    "Note that if n is equal to zero or one, Autograd will give an error message. This message appears when the output is independent on input.\n",
    "\n",
    "## Unsupported functions\n",
    "Autograd supports many features. However, there are some functions that is not supported (yet) by Autograd.\n",
    "\n",
    "Assigning a value to the variable being differentiated with respect to"
   ]
  },
  {
   "cell_type": "code",
   "execution_count": 20,
   "metadata": {
    "collapsed": false
   },
   "outputs": [],
   "source": [
    "import autograd.numpy as np\n",
    "from autograd import grad\n",
    "def f8(x): # Assume x is an array\n",
    "    x[2] = 3\n",
    "    return x*2\n",
    "\n",
    "f8_grad = grad(f8)\n",
    "\n",
    "x = 8.4\n",
    "\n",
    "print(\"The derivative of f8 is:\",f8_grad(x))"
   ]
  },
  {
   "cell_type": "markdown",
   "metadata": {},
   "source": [
    "Here, Autograd tells us that an 'ArrayBox' does not support item assignment. The item assignment is done when the program tries to assign x[2] to the value 3. However, Autograd has implemented the computation of the derivative such that this assignment is not possible.\n",
    "\n",
    "## The syntax a.dot(b) when finding the dot product"
   ]
  },
  {
   "cell_type": "code",
   "execution_count": 21,
   "metadata": {
    "collapsed": false
   },
   "outputs": [],
   "source": [
    "import autograd.numpy as np\n",
    "from autograd import grad\n",
    "def f9(a): # Assume a is an array with 2 elements\n",
    "    b = np.array([1.0,2.0])\n",
    "    return a.dot(b)\n",
    "\n",
    "f9_grad = grad(f9)\n",
    "\n",
    "x = np.array([1.0,0.0])\n",
    "\n",
    "print(\"The derivative of f9 is:\",f9_grad(x))"
   ]
  },
  {
   "cell_type": "markdown",
   "metadata": {},
   "source": [
    "Here we are told that the 'dot' function does not belong to Autograd's\n",
    "version of a Numpy array.  To overcome this, an alternative syntax\n",
    "which also computed the dot product can be used:"
   ]
  },
  {
   "cell_type": "code",
   "execution_count": 22,
   "metadata": {
    "collapsed": false
   },
   "outputs": [],
   "source": [
    "import autograd.numpy as np\n",
    "from autograd import grad\n",
    "def f9_alternative(x): # Assume a is an array with 2 elements\n",
    "    b = np.array([1.0,2.0])\n",
    "    return np.dot(x,b) # The same as x_1*b_1 + x_2*b_2\n",
    "\n",
    "f9_alternative_grad = grad(f9_alternative)\n",
    "\n",
    "x = np.array([3.0,0.0])\n",
    "\n",
    "print(\"The gradient of f9 is:\",f9_alternative_grad(x))\n",
    "\n",
    "# The analytical gradient of the dot product of vectors x and b with two elements (x_1,x_2) and (b_1, b_2) respectively\n",
    "# w.r.t x is (b_1, b_2)."
   ]
  },
  {
   "cell_type": "markdown",
   "metadata": {},
   "source": [
    "## Recommended to avoid\n",
    "The documentation recommends to avoid inplace operations such as"
   ]
  },
  {
   "cell_type": "code",
   "execution_count": 23,
   "metadata": {
    "collapsed": false
   },
   "outputs": [],
   "source": [
    "a += b\n",
    "a -= b\n",
    "a*= b\n",
    "a /=b"
   ]
  }
 ],
 "metadata": {
  "kernelspec": {
   "display_name": "Python 3",
   "language": "python",
   "name": "python3"
  },
  "language_info": {
   "codemirror_mode": {
    "name": "ipython",
    "version": 3
   },
   "file_extension": ".py",
   "mimetype": "text/x-python",
   "name": "python",
   "nbconvert_exporter": "python",
   "pygments_lexer": "ipython3",
   "version": "3.6.8"
  }
 },
 "nbformat": 4,
 "nbformat_minor": 4
}
