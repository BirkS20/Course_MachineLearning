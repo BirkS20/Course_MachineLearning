{
 "cells": [
  {
   "cell_type": "markdown",
   "id": "b8e048f2",
   "metadata": {},
   "source": [
    "<!-- HTML file automatically generated from DocOnce source (https://github.com/doconce/doconce/)\n",
    "doconce format html week45.do.txt --no_mako -->\n",
    "<!-- dom:TITLE: Week 45: Decisions Trees, Random Forests, Bagging  and Boosting -->"
   ]
  },
  {
   "cell_type": "markdown",
   "id": "3c558c51",
   "metadata": {},
   "source": [
    "# Week 45: Decisions Trees, Random Forests, Bagging  and Boosting\n",
    "**Morten Hjorth-Jensen**, Department of Physics, University of Oslo and Department of Physics and Astronomy and National Superconducting Cyclotron Laboratory, Michigan State University\n",
    "\n",
    "Date: **Nov 11, 2021**\n",
    "\n",
    "Copyright 1999-2021, Morten Hjorth-Jensen. Released under CC Attribution-NonCommercial 4.0 license"
   ]
  },
  {
   "cell_type": "markdown",
   "id": "707efc8a",
   "metadata": {},
   "source": [
    "## Overview of week 45\n",
    "\n",
    "* Thursday: Basics of Decision Trees, Bagging and Voting\n",
    "\n",
    "* Friday:  More on Bagging, Voting, Random Forests and start Boosting\n",
    "\n",
    "**Videos.**\n",
    "\n",
    "1. [Video on Decision trees](https://www.youtube.com/watch?v=RmajweUFKvM&ab_channel=Simplilearn)\n",
    "\n",
    "2. [Video on boosting methods by Hastie](https://www.youtube.com/watch?v=wPqtzj5VZus&ab_channel=H2O.ai).\n",
    "\n",
    "**Reading.**\n",
    "\n",
    "1. Decision Trees: Geron's chapter 6 covers decision trees while ensemble models, voting and bagging are discussed in chapter 7. See also lecture from [STK-IN4300, lecture 7](https://www.uio.no/studier/emner/matnat/math/STK-IN4300/h20/slides/lecture_7.pdf). Chapter 9.2 of Hastie et al contains also a good discussion."
   ]
  },
  {
   "cell_type": "markdown",
   "id": "07d278bf",
   "metadata": {},
   "source": [
    "## Decision trees, overarching aims\n",
    "\n",
    "We start here with the most basic algorithm, the so-called decision\n",
    "tree. With this basic algorithm we can in turn build more complex\n",
    "networks, spanning from homogeneous and heterogenous forests (bagging,\n",
    "random forests and more) to one of the most popular supervised\n",
    "algorithms nowadays, the extreme gradient boosting, or just\n",
    "XGBoost. But let us start with the simplest possible ingredient.\n",
    "\n",
    "Decision trees are supervised learning algorithms used for both,\n",
    "classification and regression tasks.\n",
    "\n",
    "The main idea of decision trees\n",
    "is to find those descriptive features which contain the most\n",
    "**information** regarding the target feature and then split the dataset\n",
    "along the values of these features such that the target feature values\n",
    "for the resulting underlying datasets are as pure as possible.\n",
    "\n",
    "The descriptive features which reproduce best the target/output features are normally  said\n",
    "to be the most informative ones. The process of finding the **most\n",
    "informative** feature is done until we accomplish a stopping criteria\n",
    "where we then finally end up in so called **leaf nodes**."
   ]
  },
  {
   "cell_type": "markdown",
   "id": "eec5673d",
   "metadata": {},
   "source": [
    "## Basics of a tree\n",
    "\n",
    "A decision tree is typically divided into a **root node**, the **interior nodes**,\n",
    "and the final **leaf nodes** or just **leaves**. These entities are then connected by so-called **branches**.\n",
    "\n",
    "The leaf nodes\n",
    "contain the predictions we will make for new query instances presented\n",
    "to our trained model. This is possible since the model has \n",
    "learned the underlying structure of the training data and hence can,\n",
    "given some assumptions, make predictions about the target feature value\n",
    "(class) of unseen query instances."
   ]
  },
  {
   "cell_type": "markdown",
   "id": "806a416a",
   "metadata": {},
   "source": [
    "## A Sketch of a Tree, Regression problem\n",
    "\n",
    "<!-- FIGURE: [DataFiles/Regsimpletree.png, width=600 frac=0.8] -->"
   ]
  },
  {
   "cell_type": "markdown",
   "id": "1ad01519",
   "metadata": {},
   "source": [
    "## A Sketch of a Tree, Classification  problem\n",
    "\n",
    "<!-- FIGURE: [DataFiles/Classimpletree.png, width=600 frac=0.8] -->"
   ]
  },
  {
   "cell_type": "markdown",
   "id": "f72002bc",
   "metadata": {},
   "source": [
    "## A typical Decision Tree with its pertinent Jargon, Classification Problem\n",
    "\n",
    "<!-- dom:FIGURE: [DataFiles/cancer.png, width=600 frac=0.8] -->\n",
    "<!-- begin figure -->\n",
    "\n",
    "<img src=\"DataFiles/cancer.png\" width=\"600\"><p style=\"font-size: 0.9em\"><i>Figure 1: </i></p>\n",
    "<!-- end figure -->\n",
    "\n",
    "This tree was produced using the Wisconsin cancer data (discussed here as well, see code examples below) using **Scikit-Learn**'s decision tree classifier. Here we have used the so-called **gini** index (see below) to split the various branches."
   ]
  },
  {
   "cell_type": "markdown",
   "id": "efa8d295",
   "metadata": {},
   "source": [
    "## General Features\n",
    "\n",
    "The overarching approach to decision trees is a top-down approach.\n",
    "\n",
    "* A leaf provides the classification of a given instance.\n",
    "\n",
    "* A node specifies a test of some attribute of the instance.\n",
    "\n",
    "* A branch corresponds to a possible values of an attribute.\n",
    "\n",
    "* An instance is classified by starting at the root node of the tree, testing the attribute specified by this node, then moving down the tree branch corresponding to the value of the attribute in the given example.\n",
    "\n",
    "This process is then repeated for the subtree rooted at the new\n",
    "node."
   ]
  },
  {
   "cell_type": "markdown",
   "id": "cc015b03",
   "metadata": {},
   "source": [
    "## How do we set it up?\n",
    "\n",
    "In simplified terms, the process of training a decision tree and\n",
    "predicting the target features of query instances is as follows:\n",
    "\n",
    "1. Present a dataset containing of a number of training instances characterized by a number of descriptive features and a target feature\n",
    "\n",
    "2. Train the decision tree model by continuously splitting the target feature along the values of the descriptive features using a measure of information gain during the training process\n",
    "\n",
    "3. Grow the tree until we accomplish a stopping criteria create leaf nodes which represent the *predictions* we want to make for new query instances\n",
    "\n",
    "4. Show query instances to the tree and run down the tree until we arrive at leaf nodes\n",
    "\n",
    "Then we are essentially done!"
   ]
  },
  {
   "cell_type": "markdown",
   "id": "49378ea8",
   "metadata": {},
   "source": [
    "## Decision trees and Regression"
   ]
  },
  {
   "cell_type": "code",
   "execution_count": 1,
   "id": "a6761f89",
   "metadata": {},
   "outputs": [],
   "source": [
    "%matplotlib inline\n",
    "\n",
    "import numpy as np\n",
    "import matplotlib.pyplot as plt\n",
    "from sklearn.preprocessing import PolynomialFeatures\n",
    "from sklearn.linear_model import LinearRegression\n",
    "\n",
    "steps=250\n",
    "\n",
    "distance=0\n",
    "x=0\n",
    "distance_list=[]\n",
    "steps_list=[]\n",
    "while x<steps:\n",
    "    distance+=np.random.randint(-1,2)\n",
    "    distance_list.append(distance)\n",
    "    x+=1\n",
    "    steps_list.append(x)\n",
    "plt.plot(steps_list,distance_list, color='green', label=\"Random Walk Data\")\n",
    "\n",
    "steps_list=np.asarray(steps_list)\n",
    "distance_list=np.asarray(distance_list)\n",
    "\n",
    "X=steps_list[:,np.newaxis]\n",
    "\n",
    "#Polynomial fits\n",
    "\n",
    "#Degree 2\n",
    "poly_features=PolynomialFeatures(degree=2, include_bias=False)\n",
    "X_poly=poly_features.fit_transform(X)\n",
    "\n",
    "lin_reg=LinearRegression()\n",
    "poly_fit=lin_reg.fit(X_poly,distance_list)\n",
    "b=lin_reg.coef_\n",
    "c=lin_reg.intercept_\n",
    "print (\"2nd degree coefficients:\")\n",
    "print (\"zero power: \",c)\n",
    "print (\"first power: \", b[0])\n",
    "print (\"second power: \",b[1])\n",
    "\n",
    "z = np.arange(0, steps, .01)\n",
    "z_mod=b[1]*z**2+b[0]*z+c\n",
    "\n",
    "fit_mod=b[1]*X**2+b[0]*X+c\n",
    "plt.plot(z, z_mod, color='r', label=\"2nd Degree Fit\")\n",
    "plt.title(\"Polynomial Regression\")\n",
    "\n",
    "plt.xlabel(\"Steps\")\n",
    "plt.ylabel(\"Distance\")\n",
    "\n",
    "#Degree 10\n",
    "poly_features10=PolynomialFeatures(degree=10, include_bias=False)\n",
    "X_poly10=poly_features10.fit_transform(X)\n",
    "\n",
    "poly_fit10=lin_reg.fit(X_poly10,distance_list)\n",
    "\n",
    "y_plot=poly_fit10.predict(X_poly10)\n",
    "plt.plot(X, y_plot, color='black', label=\"10th Degree Fit\")\n",
    "\n",
    "plt.legend()\n",
    "plt.show()\n",
    "\n",
    "\n",
    "#Decision Tree Regression\n",
    "from sklearn.tree import DecisionTreeRegressor\n",
    "regr_1=DecisionTreeRegressor(max_depth=2)\n",
    "regr_2=DecisionTreeRegressor(max_depth=5)\n",
    "regr_3=DecisionTreeRegressor(max_depth=7)\n",
    "regr_1.fit(X, distance_list)\n",
    "regr_2.fit(X, distance_list)\n",
    "regr_3.fit(X, distance_list)\n",
    "\n",
    "X_test = np.arange(0.0, steps, 0.01)[:, np.newaxis]\n",
    "y_1 = regr_1.predict(X_test)\n",
    "y_2 = regr_2.predict(X_test)\n",
    "y_3=regr_3.predict(X_test)\n",
    "\n",
    "# Plot the results\n",
    "plt.figure()\n",
    "plt.scatter(X, distance_list, s=2.5, c=\"black\", label=\"data\")\n",
    "plt.plot(X_test, y_1, color=\"red\",\n",
    "         label=\"max_depth=2\", linewidth=2)\n",
    "plt.plot(X_test, y_2, color=\"green\", label=\"max_depth=5\", linewidth=2)\n",
    "plt.plot(X_test, y_3, color=\"m\", label=\"max_depth=7\", linewidth=2)\n",
    "\n",
    "plt.xlabel(\"Data\")\n",
    "plt.ylabel(\"Darget\")\n",
    "plt.title(\"Decision Tree Regression\")\n",
    "plt.legend()\n",
    "plt.show()"
   ]
  },
  {
   "cell_type": "markdown",
   "id": "a752c6b0",
   "metadata": {},
   "source": [
    "## Building a tree, regression\n",
    "\n",
    "There are mainly two steps\n",
    "1. We split the predictor space (the set of possible values $x_1,x_2,\\dots, x_p$) into $J$ distinct and non-non-overlapping regions, $R_1,R_2,\\dots,R_J$.  \n",
    "\n",
    "2. For every observation that falls into the region $R_j$ , we make the same prediction, which is simply the mean of the response values for the training observations in $R_j$.\n",
    "\n",
    "How do we construct the regions $R_1,\\dots,R_J$?  In theory, the\n",
    "regions could have any shape. However, we choose to divide the\n",
    "predictor space into high-dimensional rectangles, or boxes, for\n",
    "simplicity and for ease of interpretation of the resulting predictive\n",
    "model. The goal is to find boxes $R_1,\\dots,R_J$ that minimize the\n",
    "MSE, given by"
   ]
  },
  {
   "cell_type": "markdown",
   "id": "bc72fac7",
   "metadata": {},
   "source": [
    "$$\n",
    "\\sum_{j=1}^J\\sum_{i\\in R_j}(y_i-\\overline{y}_{R_j})^2,\n",
    "$$"
   ]
  },
  {
   "cell_type": "markdown",
   "id": "00b480b3",
   "metadata": {},
   "source": [
    "where $\\overline{y}_{R_j}$  is the mean response for the training observations \n",
    "within box $j$."
   ]
  },
  {
   "cell_type": "markdown",
   "id": "7e9a3ebf",
   "metadata": {},
   "source": [
    "## A top-down approach, recursive binary splitting\n",
    "\n",
    "Unfortunately, it is computationally infeasible to consider every\n",
    "possible partition of the feature space into $J$ boxes.  The common\n",
    "strategy is to take a top-down approach\n",
    "\n",
    "The approach is top-down because it begins at the top of the tree (all\n",
    "observations belong to a single region) and then successively splits\n",
    "the predictor space; each split is indicated via two new branches\n",
    "further down on the tree. It is greedy because at each step of the\n",
    "tree-building process, the best split is made at that particular step,\n",
    "rather than looking ahead and picking a split that will lead to a\n",
    "better tree in some future step."
   ]
  },
  {
   "cell_type": "markdown",
   "id": "d8419201",
   "metadata": {},
   "source": [
    "## Making a tree\n",
    "\n",
    "In order to implement the recursive binary splitting we start by selecting\n",
    "the predictor $x_j$ and a cutpoint $s$ that splits the predictor space into two regions $R_1$ and $R_2$"
   ]
  },
  {
   "cell_type": "markdown",
   "id": "19b9a14f",
   "metadata": {},
   "source": [
    "$$\n",
    "\\left\\{X\\vert x_j < s\\right\\},\n",
    "$$"
   ]
  },
  {
   "cell_type": "markdown",
   "id": "2b1e0deb",
   "metadata": {},
   "source": [
    "and"
   ]
  },
  {
   "cell_type": "markdown",
   "id": "95925ab2",
   "metadata": {},
   "source": [
    "$$\n",
    "\\left\\{X\\vert x_j \\geq s\\right\\},\n",
    "$$"
   ]
  },
  {
   "cell_type": "markdown",
   "id": "6fcb38ed",
   "metadata": {},
   "source": [
    "so that we obtain the lowest MSE, that is"
   ]
  },
  {
   "cell_type": "markdown",
   "id": "5bcfa0ee",
   "metadata": {},
   "source": [
    "$$\n",
    "\\sum_{i:x_i\\in R_j}(y_i-\\overline{y}_{R_1})^2+\\sum_{i:x_i\\in R_2}(y_i-\\overline{y}_{R_2})^2,\n",
    "$$"
   ]
  },
  {
   "cell_type": "markdown",
   "id": "3fb296e7",
   "metadata": {},
   "source": [
    "which we want to minimize by considering all predictors\n",
    "$x_1,x_2,\\dots,x_p$.  We consider also all possible values of $s$ for\n",
    "each predictor. These values could be determined by randomly assigned\n",
    "numbers or by starting at the midpoint and then proceed till we find\n",
    "an optimal value.\n",
    "\n",
    "For any $j$ and $s$, we define the pair of half-planes where\n",
    "$\\overline{y}_{R_1}$ is the mean response for the training\n",
    "observations in $R_1(j,s)$, and $\\overline{y}_{R_2}$ is the mean\n",
    "response for the training observations in $R_2(j,s)$.\n",
    "\n",
    "Finding the values of $j$ and $s$ that minimize the above equation can be\n",
    "done quite quickly, especially when the number of features $p$ is not\n",
    "too large.\n",
    "\n",
    "Next, we repeat the process, looking\n",
    "for the best predictor and best cutpoint in order to split the data\n",
    "further so as to minimize the MSE within each of the resulting\n",
    "regions. However, this time, instead of splitting the entire predictor\n",
    "space, we split one of the two previously identified regions. We now\n",
    "have three regions. Again, we look to split one of these three regions\n",
    "further, so as to minimize the MSE. The process continues until a\n",
    "stopping criterion is reached; for instance, we may continue until no\n",
    "region contains more than five observations."
   ]
  },
  {
   "cell_type": "markdown",
   "id": "ccb98b4b",
   "metadata": {},
   "source": [
    "## Pruning the tree\n",
    "\n",
    "The above procedure is rather straightforward, but leads often to\n",
    "overfitting and unnecessarily large and complicated trees. The basic\n",
    "idea is to grow a large tree $T_0$ and then prune it back in order to\n",
    "obtain a subtree. A smaller tree with fewer splits (fewer regions) can\n",
    "lead to smaller variance and better interpretation at the cost of a\n",
    "little more bias.\n",
    "\n",
    "The so-called Cost complexity pruning algorithm gives us a\n",
    "way to do just this. Rather than considering every possible subtree,\n",
    "we consider a sequence of trees indexed by a nonnegative tuning\n",
    "parameter $\\alpha$.\n",
    "\n",
    "Read more at the following [Scikit-Learn link on pruning](https://scikit-learn.org/stable/auto_examples/tree/plot_cost_complexity_pruning.html#sphx-glr-auto-examples-tree-plot-cost-complexity-pruning-py)."
   ]
  },
  {
   "cell_type": "markdown",
   "id": "bc3bb5b7",
   "metadata": {},
   "source": [
    "## Cost complexity pruning\n",
    "\n",
    "For each value of $\\alpha$  there corresponds a subtree $T \\in T_0$ such that"
   ]
  },
  {
   "cell_type": "markdown",
   "id": "bd9fcc00",
   "metadata": {},
   "source": [
    "$$\n",
    "\\sum_{m=1}^{\\overline{T}}\\sum_{i:x_i\\in R_m}(y_i-\\overline{y}_{R_m})^2+\\alpha\\overline{T},\n",
    "$$"
   ]
  },
  {
   "cell_type": "markdown",
   "id": "5e883366",
   "metadata": {},
   "source": [
    "is as small as possible. Here $\\overline{T}$ is \n",
    "the number of terminal nodes of the tree $T$ , $R_m$ is the\n",
    "rectangle (i.e. the subset of predictor space)  corresponding to the $m$-th terminal node.\n",
    "\n",
    "The tuning parameter $\\alpha$ controls a trade-off between the subtree’s\n",
    "complexity and its fit to the training data. When $\\alpha = 0$, then the\n",
    "subtree $T$ will simply equal $T_0$, \n",
    "because then the above equation just measures the\n",
    "training error. \n",
    "However, as $\\alpha$ increases, there is a price to pay for\n",
    "having a tree with many terminal nodes. The above equation will\n",
    "tend to be minimized for a smaller subtree. \n",
    "\n",
    "It turns out that as we increase $\\alpha$ from zero\n",
    "branches get pruned from the tree in a nested and predictable fashion,\n",
    "so obtaining the whole sequence of subtrees as a function of $\\alpha$ is\n",
    "easy. We can select a value of $\\alpha$ using a validation set or using\n",
    "cross-validation. We then return to the full data set and obtain the\n",
    "subtree corresponding to $\\alpha$."
   ]
  },
  {
   "cell_type": "markdown",
   "id": "66cfce67",
   "metadata": {},
   "source": [
    "## Schematic Regression Procedure\n",
    "\n",
    "**Building a Regression Tree.**\n",
    "\n",
    "1. Use recursive binary splitting to grow a large tree on the training data, stopping only when each terminal node has fewer than some minimum number of observations.\n",
    "\n",
    "2. Apply cost complexity pruning to the large tree in order to obtain a sequence of best subtrees, as a function of $\\alpha$.\n",
    "\n",
    "3. Use for example $K$-fold cross-validation to choose $\\alpha$. Divide the training observations into $K$ folds. For each $k=1,2,\\dots,K$ we: \n",
    "\n",
    "  * repeat steps 1 and 2 on all but the $k$-th fold of the training data. \n",
    "\n",
    "  * Then we valuate the mean squared prediction error on the data in the left-out $k$-th fold, as a function of $\\alpha$.\n",
    "\n",
    "  * Finally  we average the results for each value of $\\alpha$, and pick $\\alpha$ to minimize the average error.\n",
    "\n",
    "4. Return the subtree from Step 2 that corresponds to the chosen value of $\\alpha$."
   ]
  },
  {
   "cell_type": "markdown",
   "id": "a1cf3867",
   "metadata": {},
   "source": [
    "## A Classification Tree\n",
    "\n",
    "A classification tree is very similar to a regression tree, except\n",
    "that it is used to predict a qualitative response rather than a\n",
    "quantitative one. Recall that for a regression tree, the predicted\n",
    "response for an observation is given by the mean response of the\n",
    "training observations that belong to the same terminal node. In\n",
    "contrast, for a classification tree, we predict that each observation\n",
    "belongs to the most commonly occurring class of training observations\n",
    "in the region to which it belongs. In interpreting the results of a\n",
    "classification tree, we are often interested not only in the class\n",
    "prediction corresponding to a particular terminal node region, but\n",
    "also in the class proportions among the training observations that\n",
    "fall into that region."
   ]
  },
  {
   "cell_type": "markdown",
   "id": "8a52f83d",
   "metadata": {},
   "source": [
    "## Growing a classification tree\n",
    "\n",
    "The task of growing a\n",
    "classification tree is quite similar to the task of growing a\n",
    "regression tree. Just as in the regression setting, we use recursive\n",
    "binary splitting to grow a classification tree. However, in the\n",
    "classification setting, the MSE cannot be used as a criterion for making\n",
    "the binary splits.  A natural alternative to MSE is the **classification\n",
    "error rate**. Since we plan to assign an observation in a given region\n",
    "to the most commonly occurring error rate class of training\n",
    "observations in that region, the classification error rate is simply\n",
    "the fraction of the training observations in that region that do not\n",
    "belong to the most common class. \n",
    "\n",
    "When building a classification tree, either the Gini index or the\n",
    "entropy are typically used to evaluate the quality of a particular\n",
    "split, since these two approaches are more sensitive to node purity\n",
    "than is the classification error rate."
   ]
  },
  {
   "cell_type": "markdown",
   "id": "19292eb1",
   "metadata": {},
   "source": [
    "## Classification tree, how to split nodes\n",
    "\n",
    "If our targets are the outcome of a classification process that takes\n",
    "for example $k=1,2,\\dots,K$ values, the only thing we need to think of\n",
    "is to set up the splitting criteria for each node.\n",
    "\n",
    "We define a PDF $p_{mk}$ that represents the number of observations of\n",
    "a class $k$ in a region $R_m$ with $N_m$ observations. We represent\n",
    "this likelihood function in terms of the proportion $I(y_i=k)$ of\n",
    "observations of this class in the region $R_m$ as"
   ]
  },
  {
   "cell_type": "markdown",
   "id": "660b87c0",
   "metadata": {},
   "source": [
    "$$\n",
    "p_{mk} = \\frac{1}{N_m}\\sum_{i\\in R_m}I(y_i=k).\n",
    "$$"
   ]
  },
  {
   "cell_type": "markdown",
   "id": "b863c773",
   "metadata": {},
   "source": [
    "We let $p_{mk}$ represent the majority class of observations in region\n",
    "$m$. The three most common ways of splitting a node are given by\n",
    "\n",
    "* Misclassification error"
   ]
  },
  {
   "cell_type": "markdown",
   "id": "3adb78ea",
   "metadata": {},
   "source": [
    "$$\n",
    "\\frac{1}{N_m}\\sum_{i\\in R_m}I(y_i\\ne k) = 1-p_{mk}.\n",
    "$$"
   ]
  },
  {
   "cell_type": "markdown",
   "id": "da8cf302",
   "metadata": {},
   "source": [
    "* Gini index $g$"
   ]
  },
  {
   "cell_type": "markdown",
   "id": "8bdfa9d3",
   "metadata": {},
   "source": [
    "$$\n",
    "g = \\sum_{k\\ne k'} p_{mk}p_{mk'}=\\sum_{k=1}^K p_{mk}(1-p_{mk}).\n",
    "$$"
   ]
  },
  {
   "cell_type": "markdown",
   "id": "7c208942",
   "metadata": {},
   "source": [
    "* Information entropy or just entropy $s$"
   ]
  },
  {
   "cell_type": "markdown",
   "id": "ba063690",
   "metadata": {},
   "source": [
    "$$\n",
    "s = -\\sum_{k=1}^K p_{mk}\\log{p_{mk}}.\n",
    "$$"
   ]
  },
  {
   "cell_type": "markdown",
   "id": "d927c5b7",
   "metadata": {},
   "source": [
    "## Gini Index (or Coefficient or Impurity)\n",
    "\n",
    "The Gini index $g$ gives us the degree of probability of a specific\n",
    "variable that is wrongly classified.\n",
    "\n",
    "It takes values $g \\in [0,1]$, \n",
    "1. $g=0$ means a *pure* case where all elements belong to one class only.\n",
    "\n",
    "2. A value $g=1$ means that all elements are randomly distributed across various classes.\n",
    "\n",
    "3. A  value $g=0.5$ means that the elements in a node are uniformly distributed across classes. \n",
    "\n",
    "It favors binary splitting."
   ]
  },
  {
   "cell_type": "markdown",
   "id": "ed21cc0a",
   "metadata": {},
   "source": [
    "## Why binary splits?\n",
    "\n",
    "It is custom to split to a tree uising binary splits. The reason is\n",
    "that multiway splits fragment the data too quickly, leaving\n",
    "insufficient data at the next level down.  Multiway splits can be\n",
    "achieved by a series of binary split and this is normally preferred."
   ]
  },
  {
   "cell_type": "markdown",
   "id": "8b2fc38e",
   "metadata": {},
   "source": [
    "## Computing a Tree using the Gini Index\n",
    "\n",
    "Consider the following example with attributes/features and two\n",
    "possible outcomes (classes)  for each attribute.  Assume we wish to find some\n",
    "correlations between the average grade of a student as function of the\n",
    "number of hours studied and hours slept. We want also to correlate the\n",
    "grade in a given course with the general trend, whether the students\n",
    "recently has gotten grades below average or above.\n",
    "\n",
    "We have three features/attributes\n",
    "1. Trend of average grades before present course, classified as either below  or above  the average grade of the whole class  \n",
    "\n",
    "2. The number of hours studies, classified again as either higher (more than 3 hours per day) or lower . Here we have used a standard for one $ECTS$ which is scaled to 25-30 hours of work for a semester which lasts 18 weeks, with 15 weeks of lectures and 3 weeks for exams, assuming a total of 30 ECTS per semester. \n",
    "\n",
    "3. The number of hours slept as high for more than $8$ hours and below  for less than 8 hours of sleep, classified again as either high or low\n",
    "\n",
    "4. The final grade whether it is above or below average"
   ]
  },
  {
   "cell_type": "markdown",
   "id": "d2023b2a",
   "metadata": {},
   "source": [
    "## The Table\n",
    "\n",
    "<table class=\"dotable\" border=\"1\">\n",
    "<thead>\n",
    "<tr><th align=\"center\">Grade Trend</th> <th align=\"center\">Hours slept</th> <th align=\"center\">Hours Studied</th> <th align=\"center\">Grade</th> </tr>\n",
    "</thead>\n",
    "<tbody>\n",
    "<tr><td align=\"center\">   Above          </td> <td align=\"center\">   Low            </td> <td align=\"center\">   High             </td> <td align=\"center\">   Above    </td> </tr>\n",
    "<tr><td align=\"center\">   Below          </td> <td align=\"center\">   High           </td> <td align=\"center\">   Low              </td> <td align=\"center\">   Below    </td> </tr>\n",
    "<tr><td align=\"center\">   Above          </td> <td align=\"center\">   Low            </td> <td align=\"center\">   High             </td> <td align=\"center\">   Above    </td> </tr>\n",
    "<tr><td align=\"center\">   Above          </td> <td align=\"center\">   High           </td> <td align=\"center\">   High             </td> <td align=\"center\">   Above    </td> </tr>\n",
    "<tr><td align=\"center\">   Below          </td> <td align=\"center\">   Low            </td> <td align=\"center\">   High             </td> <td align=\"center\">   Below    </td> </tr>\n",
    "<tr><td align=\"center\">   Above          </td> <td align=\"center\">   Low            </td> <td align=\"center\">   Low              </td> <td align=\"center\">   Below    </td> </tr>\n",
    "<tr><td align=\"center\">   Below          </td> <td align=\"center\">   High           </td> <td align=\"center\">   High             </td> <td align=\"center\">   Below    </td> </tr>\n",
    "<tr><td align=\"center\">   Below          </td> <td align=\"center\">   Low            </td> <td align=\"center\">   High             </td> <td align=\"center\">   Below    </td> </tr>\n",
    "<tr><td align=\"center\">   Above          </td> <td align=\"center\">   Low            </td> <td align=\"center\">   Low              </td> <td align=\"center\">   Below    </td> </tr>\n",
    "<tr><td align=\"center\">   Above          </td> <td align=\"center\">   High           </td> <td align=\"center\">   High             </td> <td align=\"center\">   Above    </td> </tr>\n",
    "</tbody>\n",
    "</table>"
   ]
  },
  {
   "cell_type": "markdown",
   "id": "05e3ff24",
   "metadata": {},
   "source": [
    "## Computing the various Gini Indices\n",
    "\n",
    "In computations we will translate all classes into numbers. Being\n",
    "these binary classes, they can easily be split into ones and zeros.\n",
    "\n",
    "**Gini index for Average trend.**\n",
    "\n",
    "See handwritten notes for Thursday November 11"
   ]
  },
  {
   "cell_type": "markdown",
   "id": "94ec28db",
   "metadata": {},
   "source": [
    "## Computing the various Gini Indices, Hours slept\n",
    "\n",
    "**Gini index for hour slept.**\n",
    "\n",
    "See handwritten notes for Thursday November 11"
   ]
  },
  {
   "cell_type": "markdown",
   "id": "e659cbfb",
   "metadata": {},
   "source": [
    "## Computing the various Gini Indices, Hours studied\n",
    "\n",
    "**Gini index for hour studied.**\n",
    "\n",
    "See handwritten notes for Thursday November 11\n",
    "\n",
    "For final tree, see the above handwritten notes"
   ]
  },
  {
   "cell_type": "markdown",
   "id": "12d49e54",
   "metadata": {},
   "source": [
    "## Visualizing the Tree, Classification"
   ]
  },
  {
   "cell_type": "code",
   "execution_count": 1,
   "id": "7ff4578a",
   "metadata": {},
   "outputs": [
    {
     "ename": "ModuleNotFoundError",
     "evalue": "No module named 'pydot'",
     "output_type": "error",
     "traceback": [
      "\u001b[0;31m---------------------------------------------------------------------------\u001b[0m",
      "\u001b[0;31mModuleNotFoundError\u001b[0m                       Traceback (most recent call last)",
      "\u001b[0;32m<ipython-input-1-7c394b1e8b71>\u001b[0m in \u001b[0;36m<module>\u001b[0;34m\u001b[0m\n\u001b[1;32m      7\u001b[0m \u001b[0;34m\u001b[0m\u001b[0m\n\u001b[1;32m      8\u001b[0m \u001b[0;32mfrom\u001b[0m \u001b[0mIPython\u001b[0m\u001b[0;34m.\u001b[0m\u001b[0mdisplay\u001b[0m \u001b[0;32mimport\u001b[0m \u001b[0mImage\u001b[0m\u001b[0;34m\u001b[0m\u001b[0;34m\u001b[0m\u001b[0m\n\u001b[0;32m----> 9\u001b[0;31m \u001b[0;32mfrom\u001b[0m \u001b[0mpydot\u001b[0m \u001b[0;32mimport\u001b[0m \u001b[0mgraph_from_dot_data\u001b[0m\u001b[0;34m\u001b[0m\u001b[0;34m\u001b[0m\u001b[0m\n\u001b[0m\u001b[1;32m     10\u001b[0m \u001b[0;32mimport\u001b[0m \u001b[0mpandas\u001b[0m \u001b[0;32mas\u001b[0m \u001b[0mpd\u001b[0m\u001b[0;34m\u001b[0m\u001b[0;34m\u001b[0m\u001b[0m\n\u001b[1;32m     11\u001b[0m \u001b[0;32mimport\u001b[0m \u001b[0mnumpy\u001b[0m \u001b[0;32mas\u001b[0m \u001b[0mnp\u001b[0m\u001b[0;34m\u001b[0m\u001b[0;34m\u001b[0m\u001b[0m\n",
      "\u001b[0;31mModuleNotFoundError\u001b[0m: No module named 'pydot'"
     ]
    }
   ],
   "source": [
    "import os\n",
    "from sklearn.datasets import load_breast_cancer\n",
    "from sklearn.tree import DecisionTreeClassifier\n",
    "from sklearn.model_selection import train_test_split\n",
    "from sklearn.metrics import confusion_matrix\n",
    "from sklearn.tree import export_graphviz\n",
    "\n",
    "from IPython.display import Image \n",
    "from pydot import graph_from_dot_data\n",
    "import pandas as pd\n",
    "import numpy as np\n",
    "\n",
    "\n",
    "cancer = load_breast_cancer()\n",
    "X = pd.DataFrame(cancer.data, columns=cancer.feature_names)\n",
    "print(X)\n",
    "y = pd.Categorical.from_codes(cancer.target, cancer.target_names)\n",
    "y = pd.get_dummies(y)\n",
    "print(y)\n",
    "X_train, X_test, y_train, y_test = train_test_split(X, y, random_state=1)\n",
    "tree_clf = DecisionTreeClassifier(max_depth=5)\n",
    "tree_clf.fit(X_train, y_train)\n",
    "\n",
    "export_graphviz(\n",
    "    tree_clf,\n",
    "    out_file=\"DataFiles/cancer.dot\",\n",
    "    feature_names=cancer.feature_names,\n",
    "    class_names=cancer.target_names,\n",
    "    rounded=True,\n",
    "    filled=True\n",
    ")\n",
    "cmd = 'dot -Tpng DataFiles/cancer.dot -o DataFiles/cancer.png'\n",
    "os.system(cmd)"
   ]
  },
  {
   "cell_type": "markdown",
   "id": "487e62c8",
   "metadata": {},
   "source": [
    "## Visualizing the Tree, The Moons"
   ]
  },
  {
   "cell_type": "code",
   "execution_count": 2,
   "id": "f357d60c",
   "metadata": {},
   "outputs": [
    {
     "ename": "ModuleNotFoundError",
     "evalue": "No module named 'pydot'",
     "output_type": "error",
     "traceback": [
      "\u001b[0;31m---------------------------------------------------------------------------\u001b[0m",
      "\u001b[0;31mModuleNotFoundError\u001b[0m                       Traceback (most recent call last)",
      "\u001b[0;32m<ipython-input-2-597bd38b1152>\u001b[0m in \u001b[0;36m<module>\u001b[0;34m\u001b[0m\n\u001b[1;32m      5\u001b[0m \u001b[0;32mfrom\u001b[0m \u001b[0msklearn\u001b[0m\u001b[0;34m.\u001b[0m\u001b[0mdatasets\u001b[0m \u001b[0;32mimport\u001b[0m \u001b[0mmake_moons\u001b[0m\u001b[0;34m\u001b[0m\u001b[0;34m\u001b[0m\u001b[0m\n\u001b[1;32m      6\u001b[0m \u001b[0;32mfrom\u001b[0m \u001b[0msklearn\u001b[0m\u001b[0;34m.\u001b[0m\u001b[0mtree\u001b[0m \u001b[0;32mimport\u001b[0m \u001b[0mexport_graphviz\u001b[0m\u001b[0;34m\u001b[0m\u001b[0;34m\u001b[0m\u001b[0m\n\u001b[0;32m----> 7\u001b[0;31m \u001b[0;32mfrom\u001b[0m \u001b[0mpydot\u001b[0m \u001b[0;32mimport\u001b[0m \u001b[0mgraph_from_dot_data\u001b[0m\u001b[0;34m\u001b[0m\u001b[0;34m\u001b[0m\u001b[0m\n\u001b[0m\u001b[1;32m      8\u001b[0m \u001b[0;32mimport\u001b[0m \u001b[0mpandas\u001b[0m \u001b[0;32mas\u001b[0m \u001b[0mpd\u001b[0m\u001b[0;34m\u001b[0m\u001b[0;34m\u001b[0m\u001b[0m\n\u001b[1;32m      9\u001b[0m \u001b[0;32mimport\u001b[0m \u001b[0mos\u001b[0m\u001b[0;34m\u001b[0m\u001b[0;34m\u001b[0m\u001b[0m\n",
      "\u001b[0;31mModuleNotFoundError\u001b[0m: No module named 'pydot'"
     ]
    }
   ],
   "source": [
    "# Common imports\n",
    "import numpy as np\n",
    "from sklearn.model_selection import  train_test_split \n",
    "from sklearn.tree import DecisionTreeClassifier\n",
    "from sklearn.datasets import make_moons\n",
    "from sklearn.tree import export_graphviz\n",
    "from pydot import graph_from_dot_data\n",
    "import pandas as pd\n",
    "import os\n",
    "\n",
    "np.random.seed(42)\n",
    "X, y = make_moons(n_samples=100, noise=0.25, random_state=53)\n",
    "X_train, X_test, y_train, y_test = train_test_split(X,y,random_state=0)\n",
    "tree_clf = DecisionTreeClassifier(max_depth=5)\n",
    "tree_clf.fit(X_train, y_train)\n",
    "\n",
    "export_graphviz(\n",
    "    tree_clf,\n",
    "    out_file=\"DataFiles/moons.dot\",\n",
    "    rounded=True,\n",
    "    filled=True\n",
    ")\n",
    "cmd = 'dot -Tpng DataFiles/moons.dot -o DataFiles/moons.png'\n",
    "os.system(cmd)"
   ]
  },
  {
   "cell_type": "markdown",
   "id": "2a9c254b",
   "metadata": {},
   "source": [
    "## Other ways of visualizing the trees\n",
    "\n",
    "**Scikit-Learn** has also another way to visualize the trees which is very useful, here with the Iris data."
   ]
  },
  {
   "cell_type": "code",
   "execution_count": 3,
   "id": "524b405e",
   "metadata": {},
   "outputs": [
    {
     "data": {
      "text/plain": [
       "[Text(167.4, 199.32, 'X[2] <= 2.45\\ngini = 0.667\\nsamples = 150\\nvalue = [50, 50, 50]'),\n",
       " Text(141.64615384615385, 163.07999999999998, 'gini = 0.0\\nsamples = 50\\nvalue = [50, 0, 0]'),\n",
       " Text(193.15384615384616, 163.07999999999998, 'X[3] <= 1.75\\ngini = 0.5\\nsamples = 100\\nvalue = [0, 50, 50]'),\n",
       " Text(103.01538461538462, 126.83999999999999, 'X[2] <= 4.95\\ngini = 0.168\\nsamples = 54\\nvalue = [0, 49, 5]'),\n",
       " Text(51.50769230769231, 90.6, 'X[3] <= 1.65\\ngini = 0.041\\nsamples = 48\\nvalue = [0, 47, 1]'),\n",
       " Text(25.753846153846155, 54.359999999999985, 'gini = 0.0\\nsamples = 47\\nvalue = [0, 47, 0]'),\n",
       " Text(77.26153846153846, 54.359999999999985, 'gini = 0.0\\nsamples = 1\\nvalue = [0, 0, 1]'),\n",
       " Text(154.52307692307693, 90.6, 'X[3] <= 1.55\\ngini = 0.444\\nsamples = 6\\nvalue = [0, 2, 4]'),\n",
       " Text(128.76923076923077, 54.359999999999985, 'gini = 0.0\\nsamples = 3\\nvalue = [0, 0, 3]'),\n",
       " Text(180.27692307692308, 54.359999999999985, 'X[0] <= 6.95\\ngini = 0.444\\nsamples = 3\\nvalue = [0, 2, 1]'),\n",
       " Text(154.52307692307693, 18.119999999999976, 'gini = 0.0\\nsamples = 2\\nvalue = [0, 2, 0]'),\n",
       " Text(206.03076923076924, 18.119999999999976, 'gini = 0.0\\nsamples = 1\\nvalue = [0, 0, 1]'),\n",
       " Text(283.2923076923077, 126.83999999999999, 'X[2] <= 4.85\\ngini = 0.043\\nsamples = 46\\nvalue = [0, 1, 45]'),\n",
       " Text(257.53846153846155, 90.6, 'X[0] <= 5.95\\ngini = 0.444\\nsamples = 3\\nvalue = [0, 1, 2]'),\n",
       " Text(231.7846153846154, 54.359999999999985, 'gini = 0.0\\nsamples = 1\\nvalue = [0, 1, 0]'),\n",
       " Text(283.2923076923077, 54.359999999999985, 'gini = 0.0\\nsamples = 2\\nvalue = [0, 0, 2]'),\n",
       " Text(309.04615384615386, 90.6, 'gini = 0.0\\nsamples = 43\\nvalue = [0, 0, 43]')]"
      ]
     },
     "execution_count": 3,
     "metadata": {},
     "output_type": "execute_result"
    },
    {
     "data": {
      "image/png": "[encoded data removed]",
      "text/plain": [
       "<Figure size 432x288 with 1 Axes>"
      ]
     },
     "metadata": {
      "needs_background": "light"
     },
     "output_type": "display_data"
    }
   ],
   "source": [
    "from sklearn.datasets import load_iris\n",
    "from sklearn import tree\n",
    "X, y = load_iris(return_X_y=True)\n",
    "tree_clf = tree.DecisionTreeClassifier()\n",
    "tree_clf = tree_clf.fit(X, y)\n",
    "# and then plot the tree\n",
    "tree.plot_tree(tree_clf)"
   ]
  },
  {
   "cell_type": "markdown",
   "id": "fa90608a",
   "metadata": {},
   "source": [
    "## Printing out as text\n",
    "\n",
    "Alternatively, the tree can also be exported in textual format with the function exporttext.\n",
    "This method doesn’t require the installation of external libraries and is more compact:"
   ]
  },
  {
   "cell_type": "code",
   "execution_count": 4,
   "id": "f068897d",
   "metadata": {},
   "outputs": [
    {
     "name": "stdout",
     "output_type": "stream",
     "text": [
      "|--- petal width (cm) <= 0.80\n",
      "|   |--- class: 0\n",
      "|--- petal width (cm) >  0.80\n",
      "|   |--- petal width (cm) <= 1.75\n",
      "|   |   |--- class: 1\n",
      "|   |--- petal width (cm) >  1.75\n",
      "|   |   |--- class: 2\n",
      "\n"
     ]
    }
   ],
   "source": [
    "from sklearn.datasets import load_iris\n",
    "from sklearn.tree import DecisionTreeClassifier\n",
    "from sklearn.tree import export_text\n",
    "iris = load_iris()\n",
    "decision_tree = DecisionTreeClassifier(random_state=0, max_depth=2)\n",
    "decision_tree = decision_tree.fit(iris.data, iris.target)\n",
    "r = export_text(decision_tree, feature_names=iris['feature_names'])\n",
    "print(r)"
   ]
  },
  {
   "cell_type": "markdown",
   "id": "9bc4d551",
   "metadata": {},
   "source": [
    "## Algorithms for Setting up Decision Trees\n",
    "\n",
    "Two algorithms stand out in the set up of decision trees:\n",
    "1. The CART (Classification And Regression Tree) algorithm for both classification and regression\n",
    "\n",
    "2. The ID3 algorithm based on the computation of the information gain for classification\n",
    "\n",
    "We discuss both algorithms with applications here. The popular library\n",
    "**Scikit-Learn** uses the CART algorithm. For classification problems\n",
    "you can use either the **gini** index or the **entropy** to split a tree\n",
    "in two branches."
   ]
  },
  {
   "cell_type": "markdown",
   "id": "7d6044cb",
   "metadata": {},
   "source": [
    "## The CART algorithm for Classification\n",
    "\n",
    "For classification, the CART algorithm splits the data set in two subsets using a single feature $k$ and a threshold $t_k$.\n",
    "This could be for example a threshold set by a number below a certain circumference of a malign tumor.\n",
    "\n",
    "How do we find these two quantities?\n",
    "We search for the pair $(k,t_k)$ that produces the purest subset using for example the **gini** factor $G$.\n",
    "The cost function it tries to minimize is then"
   ]
  },
  {
   "cell_type": "markdown",
   "id": "cbd5b927",
   "metadata": {},
   "source": [
    "$$\n",
    "C(k,t_k) = \\frac{m_{\\mathrm{left}}}{m}G_{\\mathrm{left}}+ \\frac{m_{\\mathrm{right}}}{m}G_{\\mathrm{right}},\n",
    "$$"
   ]
  },
  {
   "cell_type": "markdown",
   "id": "c7fb3bc7",
   "metadata": {},
   "source": [
    "where $G_{\\mathrm{left/right}}$ measures the impurity of the left/right subset  and $m_{\\mathrm{left/right}}$\n",
    " is the number of instances in the left/right subset\n",
    "\n",
    "Once it has successfully split the training set in two, it splits the subsets using the same logic, then the subsubsets\n",
    "and so on, recursively. It stops recursing once it reaches the maximum depth (defined by the\n",
    "$max\\_depth$ hyperparameter), or if it cannot find a split that will reduce impurity. A few other\n",
    "hyperparameters control additional stopping conditions such as the $min\\_samples\\_split$,\n",
    "$min\\_samples\\_leaf$, $min\\_weight\\_fraction\\_leaf$, and $max\\_leaf\\_nodes$."
   ]
  },
  {
   "cell_type": "markdown",
   "id": "a21c1456",
   "metadata": {},
   "source": [
    "## The CART algorithm for Regression\n",
    "\n",
    "The CART algorithm for regression works is similar to the one for classification except that instead of trying to split the\n",
    "training set in a way that minimizes say the **gini** or **entropy** impurity, it now tries to split the training set in a way that minimizes our well-known mean-squared error (MSE). The cost function is now"
   ]
  },
  {
   "cell_type": "markdown",
   "id": "f1e7036a",
   "metadata": {},
   "source": [
    "$$\n",
    "C(k,t_k) = \\frac{m_{\\mathrm{left}}}{m}\\mathrm{MSE}_{\\mathrm{left}}+ \\frac{m_{\\mathrm{right}}}{m}\\mathrm{MSE}_{\\mathrm{right}}.\n",
    "$$"
   ]
  },
  {
   "cell_type": "markdown",
   "id": "5b6d39e7",
   "metadata": {},
   "source": [
    "Here the MSE for a specific node is defined as"
   ]
  },
  {
   "cell_type": "markdown",
   "id": "ebe4bf16",
   "metadata": {},
   "source": [
    "$$\n",
    "\\mathrm{MSE}_{\\mathrm{node}}=\\frac{1}{m_\\mathrm{node}}\\sum_{i\\in \\mathrm{node}}(\\overline{y}_{\\mathrm{node}}-y_i)^2,\n",
    "$$"
   ]
  },
  {
   "cell_type": "markdown",
   "id": "565c4e66",
   "metadata": {},
   "source": [
    "with"
   ]
  },
  {
   "cell_type": "markdown",
   "id": "9247bcd6",
   "metadata": {},
   "source": [
    "$$\n",
    "\\overline{y}_{\\mathrm{node}}=\\frac{1}{m_\\mathrm{node}}\\sum_{i\\in \\mathrm{node}}y_i,\n",
    "$$"
   ]
  },
  {
   "cell_type": "markdown",
   "id": "7dd29ac2",
   "metadata": {},
   "source": [
    "the mean value of all observations in a specific node.\n",
    "\n",
    "Without any regularization, the regression task for decision trees, \n",
    "just like for classification tasks, is  prone to overfitting."
   ]
  },
  {
   "cell_type": "markdown",
   "id": "48fe2503",
   "metadata": {},
   "source": [
    "## Computing the Gini index\n",
    "\n",
    "The example we will look at is a classical one in many Machine\n",
    "Learning applications. Based on various meteorological features, we\n",
    "have several so-called attributes which decide whether we at the end\n",
    "will do some outdoor activity like skiing, going for a bike ride etc\n",
    "etc.  The table here contains the feautures **outlook**, **temperature**,\n",
    "**humidity** and **wind**.  The target or output is whether we ride\n",
    "(True=1) or whether we do something else that day (False=0). The\n",
    "attributes for each feature are then sunny, overcast and rain for the\n",
    "outlook, hot, cold and mild for temperature, high and normal for\n",
    "humidity and weak and strong for wind.\n",
    "\n",
    "The table here summarizes the various attributes and\n",
    "<table class=\"dotable\" border=\"1\">\n",
    "<thead>\n",
    "<tr><th align=\"center\">Day</th> <th align=\"center\">Outlook </th> <th align=\"center\">Temperature</th> <th align=\"center\">Humidity</th> <th align=\"center\"> Wind </th> <th align=\"center\">Ride</th> </tr>\n",
    "</thead>\n",
    "<tbody>\n",
    "<tr><td align=\"center\">   1      </td> <td align=\"center\">   Sunny       </td> <td align=\"center\">   Hot            </td> <td align=\"center\">   High        </td> <td align=\"center\">   Weak      </td> <td align=\"center\">   0       </td> </tr>\n",
    "<tr><td align=\"center\">   2      </td> <td align=\"center\">   Sunny       </td> <td align=\"center\">   Hot            </td> <td align=\"center\">   High        </td> <td align=\"center\">   Strong    </td> <td align=\"center\">   1       </td> </tr>\n",
    "<tr><td align=\"center\">   3      </td> <td align=\"center\">   Overcast    </td> <td align=\"center\">   Hot            </td> <td align=\"center\">   High        </td> <td align=\"center\">   Weak      </td> <td align=\"center\">   1       </td> </tr>\n",
    "<tr><td align=\"center\">   4      </td> <td align=\"center\">   Rain        </td> <td align=\"center\">   Mild           </td> <td align=\"center\">   High        </td> <td align=\"center\">   Weak      </td> <td align=\"center\">   1       </td> </tr>\n",
    "<tr><td align=\"center\">   5      </td> <td align=\"center\">   Rain        </td> <td align=\"center\">   Cool           </td> <td align=\"center\">   Normal      </td> <td align=\"center\">   Weak      </td> <td align=\"center\">   1       </td> </tr>\n",
    "<tr><td align=\"center\">   6      </td> <td align=\"center\">   Rain        </td> <td align=\"center\">   Cool           </td> <td align=\"center\">   Normal      </td> <td align=\"center\">   Strong    </td> <td align=\"center\">   0       </td> </tr>\n",
    "<tr><td align=\"center\">   7      </td> <td align=\"center\">   Overcast    </td> <td align=\"center\">   Cool           </td> <td align=\"center\">   Normal      </td> <td align=\"center\">   Strong    </td> <td align=\"center\">   1       </td> </tr>\n",
    "<tr><td align=\"center\">   8      </td> <td align=\"center\">   Sunny       </td> <td align=\"center\">   Mild           </td> <td align=\"center\">   High        </td> <td align=\"center\">   Weak      </td> <td align=\"center\">   0       </td> </tr>\n",
    "<tr><td align=\"center\">   9      </td> <td align=\"center\">   Sunny       </td> <td align=\"center\">   Cool           </td> <td align=\"center\">   Normal      </td> <td align=\"center\">   Weak      </td> <td align=\"center\">   1       </td> </tr>\n",
    "<tr><td align=\"center\">   10     </td> <td align=\"center\">   Rain        </td> <td align=\"center\">   Mild           </td> <td align=\"center\">   Normal      </td> <td align=\"center\">   Weak      </td> <td align=\"center\">   1       </td> </tr>\n",
    "<tr><td align=\"center\">   11     </td> <td align=\"center\">   Sunny       </td> <td align=\"center\">   Mild           </td> <td align=\"center\">   Normal      </td> <td align=\"center\">   Strong    </td> <td align=\"center\">   1       </td> </tr>\n",
    "<tr><td align=\"center\">   12     </td> <td align=\"center\">   Overcast    </td> <td align=\"center\">   Mild           </td> <td align=\"center\">   High        </td> <td align=\"center\">   Strong    </td> <td align=\"center\">   1       </td> </tr>\n",
    "<tr><td align=\"center\">   13     </td> <td align=\"center\">   Overcast    </td> <td align=\"center\">   Hot            </td> <td align=\"center\">   Normal      </td> <td align=\"center\">   Weak      </td> <td align=\"center\">   1       </td> </tr>\n",
    "<tr><td align=\"center\">   14     </td> <td align=\"center\">   Rain        </td> <td align=\"center\">   Mild           </td> <td align=\"center\">   High        </td> <td align=\"center\">   Strong    </td> <td align=\"center\">   0       </td> </tr>\n",
    "</tbody>\n",
    "</table>"
   ]
  },
  {
   "cell_type": "markdown",
   "id": "ae3d09bc",
   "metadata": {},
   "source": [
    "## Simple Python Code to read in Data and perform Classification"
   ]
  },
  {
   "cell_type": "code",
   "execution_count": 5,
   "id": "1c14742e",
   "metadata": {},
   "outputs": [
    {
     "ename": "ModuleNotFoundError",
     "evalue": "No module named 'pydot'",
     "output_type": "error",
     "traceback": [
      "\u001b[0;31m---------------------------------------------------------------------------\u001b[0m",
      "\u001b[0;31mModuleNotFoundError\u001b[0m                       Traceback (most recent call last)",
      "\u001b[0;32m<ipython-input-5-c812b18cba65>\u001b[0m in \u001b[0;36m<module>\u001b[0;34m\u001b[0m\n\u001b[1;32m      9\u001b[0m \u001b[0;32mfrom\u001b[0m \u001b[0msklearn\u001b[0m\u001b[0;34m.\u001b[0m\u001b[0mcompose\u001b[0m \u001b[0;32mimport\u001b[0m \u001b[0mColumnTransformer\u001b[0m\u001b[0;34m\u001b[0m\u001b[0;34m\u001b[0m\u001b[0m\n\u001b[1;32m     10\u001b[0m \u001b[0;32mfrom\u001b[0m \u001b[0mIPython\u001b[0m\u001b[0;34m.\u001b[0m\u001b[0mdisplay\u001b[0m \u001b[0;32mimport\u001b[0m \u001b[0mImage\u001b[0m\u001b[0;34m\u001b[0m\u001b[0;34m\u001b[0m\u001b[0m\n\u001b[0;32m---> 11\u001b[0;31m \u001b[0;32mfrom\u001b[0m \u001b[0mpydot\u001b[0m \u001b[0;32mimport\u001b[0m \u001b[0mgraph_from_dot_data\u001b[0m\u001b[0;34m\u001b[0m\u001b[0;34m\u001b[0m\u001b[0m\n\u001b[0m\u001b[1;32m     12\u001b[0m \u001b[0;32mimport\u001b[0m \u001b[0mos\u001b[0m\u001b[0;34m\u001b[0m\u001b[0;34m\u001b[0m\u001b[0m\n\u001b[1;32m     13\u001b[0m \u001b[0;34m\u001b[0m\u001b[0m\n",
      "\u001b[0;31mModuleNotFoundError\u001b[0m: No module named 'pydot'"
     ]
    }
   ],
   "source": [
    "# Common imports\n",
    "import numpy as np\n",
    "import pandas as pd\n",
    "import matplotlib.pyplot as plt\n",
    "from sklearn.tree import DecisionTreeClassifier\n",
    "from sklearn.model_selection import train_test_split\n",
    "from sklearn.tree import export_graphviz\n",
    "from sklearn.preprocessing import StandardScaler, OneHotEncoder\n",
    "from sklearn.compose import ColumnTransformer\n",
    "from IPython.display import Image \n",
    "from pydot import graph_from_dot_data\n",
    "import os\n",
    "\n",
    "# Where to save the figures and data files\n",
    "PROJECT_ROOT_DIR = \"Results\"\n",
    "FIGURE_ID = \"Results/FigureFiles\"\n",
    "DATA_ID = \"DataFiles/\"\n",
    "\n",
    "if not os.path.exists(PROJECT_ROOT_DIR):\n",
    "    os.mkdir(PROJECT_ROOT_DIR)\n",
    "\n",
    "if not os.path.exists(FIGURE_ID):\n",
    "    os.makedirs(FIGURE_ID)\n",
    "\n",
    "if not os.path.exists(DATA_ID):\n",
    "    os.makedirs(DATA_ID)\n",
    "\n",
    "def image_path(fig_id):\n",
    "    return os.path.join(FIGURE_ID, fig_id)\n",
    "\n",
    "def data_path(dat_id):\n",
    "    return os.path.join(DATA_ID, dat_id)\n",
    "\n",
    "def save_fig(fig_id):\n",
    "    plt.savefig(image_path(fig_id) + \".png\", format='png')\n",
    "\n",
    "infile = open(data_path(\"rideclass.csv\"),'r')\n",
    "\n",
    "# Read the experimental data with Pandas\n",
    "from IPython.display import display\n",
    "ridedata = pd.read_csv(infile,names = ('Outlook','Temperature','Humidity','Wind','Ride'))\n",
    "ridedata = pd.DataFrame(ridedata)\n",
    "\n",
    "# Features and targets\n",
    "X = ridedata.loc[:, ridedata.columns != 'Ride'].values\n",
    "y = ridedata.loc[:, ridedata.columns == 'Ride'].values\n",
    "\n",
    "# Create the encoder.\n",
    "encoder = OneHotEncoder(handle_unknown=\"ignore\")\n",
    "# Assume for simplicity all features are categorical.\n",
    "encoder.fit(X)    \n",
    "# Apply the encoder.\n",
    "X = encoder.transform(X)\n",
    "print(X)\n",
    "# Then do a Classification tree\n",
    "tree_clf = DecisionTreeClassifier(max_depth=2)\n",
    "tree_clf.fit(X, y)\n",
    "print(\"Train set accuracy with Decision Tree: {:.2f}\".format(tree_clf.score(X,y)))\n",
    "#transfer to a decision tree graph\n",
    "export_graphviz(\n",
    "    tree_clf,\n",
    "    out_file=\"DataFiles/ride.dot\",\n",
    "    rounded=True,\n",
    "    filled=True\n",
    ")\n",
    "cmd = 'dot -Tpng DataFiles/cancer.dot -o DataFiles/cancer.png'\n",
    "os.system(cmd)"
   ]
  },
  {
   "cell_type": "markdown",
   "id": "f68b19c5",
   "metadata": {},
   "source": [
    "## Computing the Gini Factor\n",
    "\n",
    "The above functions (gini, entropy and misclassification error) are\n",
    "important components of the so-called CART algorithm. We will discuss\n",
    "this algorithm below after we have discussed the information gain\n",
    "algorithm ID3.\n",
    "\n",
    "In the example here we have converted all our attributes into numerical values $0,1,2$ etc."
   ]
  },
  {
   "cell_type": "code",
   "execution_count": 6,
   "id": "38fb3318",
   "metadata": {},
   "outputs": [
    {
     "name": "stdout",
     "output_type": "stream",
     "text": [
      "X1 < 0.000 Gini=0.408\n",
      "X1 < 0.000 Gini=0.408\n",
      "X1 < 1.000 Gini=0.394\n",
      "X1 < 2.000 Gini=0.394\n",
      "X1 < 2.000 Gini=0.394\n",
      "X1 < 2.000 Gini=0.394\n",
      "X1 < 1.000 Gini=0.394\n",
      "X1 < 0.000 Gini=0.408\n",
      "X1 < 0.000 Gini=0.408\n",
      "X1 < 2.000 Gini=0.394\n",
      "X1 < 0.000 Gini=0.408\n",
      "X1 < 1.000 Gini=0.394\n",
      "X1 < 1.000 Gini=0.394\n",
      "X1 < 2.000 Gini=0.394\n",
      "X2 < 0.000 Gini=0.408\n",
      "X2 < 0.000 Gini=0.408\n",
      "X2 < 0.000 Gini=0.408\n",
      "X2 < 1.000 Gini=0.407\n",
      "X2 < 2.000 Gini=0.407\n",
      "X2 < 2.000 Gini=0.407\n",
      "X2 < 2.000 Gini=0.407\n",
      "X2 < 1.000 Gini=0.407\n",
      "X2 < 2.000 Gini=0.407\n",
      "X2 < 1.000 Gini=0.407\n",
      "X2 < 1.000 Gini=0.407\n",
      "X2 < 1.000 Gini=0.407\n",
      "X2 < 0.000 Gini=0.408\n",
      "X2 < 1.000 Gini=0.407\n",
      "X3 < 0.000 Gini=0.408\n",
      "X3 < 0.000 Gini=0.408\n",
      "X3 < 0.000 Gini=0.408\n",
      "X3 < 0.000 Gini=0.408\n",
      "X3 < 1.000 Gini=0.367\n",
      "X3 < 1.000 Gini=0.367\n",
      "X3 < 1.000 Gini=0.367\n",
      "X3 < 0.000 Gini=0.408\n",
      "X3 < 1.000 Gini=0.367\n",
      "X3 < 1.000 Gini=0.367\n",
      "X3 < 1.000 Gini=0.367\n",
      "X3 < 0.000 Gini=0.408\n",
      "X3 < 1.000 Gini=0.367\n",
      "X3 < 0.000 Gini=0.408\n",
      "X4 < 0.000 Gini=0.408\n",
      "X4 < 1.000 Gini=0.405\n",
      "X4 < 0.000 Gini=0.408\n",
      "X4 < 0.000 Gini=0.408\n",
      "X4 < 0.000 Gini=0.408\n",
      "X4 < 1.000 Gini=0.405\n",
      "X4 < 1.000 Gini=0.405\n",
      "X4 < 0.000 Gini=0.408\n",
      "X4 < 0.000 Gini=0.408\n",
      "X4 < 0.000 Gini=0.408\n",
      "X4 < 1.000 Gini=0.405\n",
      "X4 < 1.000 Gini=0.405\n",
      "X4 < 0.000 Gini=0.408\n",
      "X4 < 1.000 Gini=0.405\n",
      "Split: [X3 < 1.000]\n"
     ]
    }
   ],
   "source": [
    "# Split a dataset based on an attribute and an attribute value\n",
    "def test_split(index, value, dataset):\n",
    "\tleft, right = list(), list()\n",
    "\tfor row in dataset:\n",
    "\t\tif row[index] < value:\n",
    "\t\t\tleft.append(row)\n",
    "\t\telse:\n",
    "\t\t\tright.append(row)\n",
    "\treturn left, right\n",
    " \n",
    "# Calculate the Gini index for a split dataset\n",
    "def gini_index(groups, classes):\n",
    "\t# count all samples at split point\n",
    "\tn_instances = float(sum([len(group) for group in groups]))\n",
    "\t# sum weighted Gini index for each group\n",
    "\tgini = 0.0\n",
    "\tfor group in groups:\n",
    "\t\tsize = float(len(group))\n",
    "\t\t# avoid divide by zero\n",
    "\t\tif size == 0:\n",
    "\t\t\tcontinue\n",
    "\t\tscore = 0.0\n",
    "\t\t# score the group based on the score for each class\n",
    "\t\tfor class_val in classes:\n",
    "\t\t\tp = [row[-1] for row in group].count(class_val) / size\n",
    "\t\t\tscore += p * p\n",
    "\t\t# weight the group score by its relative size\n",
    "\t\tgini += (1.0 - score) * (size / n_instances)\n",
    "\treturn gini\n",
    "\n",
    "# Select the best split point for a dataset\n",
    "def get_split(dataset):\n",
    "\tclass_values = list(set(row[-1] for row in dataset))\n",
    "\tb_index, b_value, b_score, b_groups = 999, 999, 999, None\n",
    "\tfor index in range(len(dataset[0])-1):\n",
    "\t\tfor row in dataset:\n",
    "\t\t\tgroups = test_split(index, row[index], dataset)\n",
    "\t\t\tgini = gini_index(groups, class_values)\n",
    "\t\t\tprint('X%d < %.3f Gini=%.3f' % ((index+1), row[index], gini))\n",
    "\t\t\tif gini < b_score:\n",
    "\t\t\t\tb_index, b_value, b_score, b_groups = index, row[index], gini, groups\n",
    "\treturn {'index':b_index, 'value':b_value, 'groups':b_groups}\n",
    " \n",
    "dataset = [[0,0,0,0,0],\n",
    "            [0,0,0,1,1],\n",
    "            [1,0,0,0,1],\n",
    "            [2,1,0,0,1],\n",
    "            [2,2,1,0,1],\n",
    "            [2,2,1,1,0],\n",
    "            [1,2,1,1,1],\n",
    "            [0,1,0,0,0],\n",
    "            [0,2,1,0,1],\n",
    "            [2,1,1,0,1],\n",
    "            [0,1,1,1,1],\n",
    "            [1,1,0,1,1],\n",
    "            [1,0,1,0,1],\n",
    "            [2,1,0,1,0]]\n",
    "\n",
    "split = get_split(dataset)\n",
    "print('Split: [X%d < %.3f]' % ((split['index']+1), split['value']))"
   ]
  },
  {
   "cell_type": "markdown",
   "id": "8e2e38be",
   "metadata": {},
   "source": [
    "## Entropy and the ID3 algorithm\n",
    "\n",
    "The ID3 algorithm  learns decision trees by constructing\n",
    "them in a top down way, beginning with the question **which attribute should be tested at the root of the tree**?\n",
    "\n",
    "1. Each instance attribute is evaluated using a statistical test to determine how well it alone classifies the training examples.\n",
    "\n",
    "2. The best attribute is selected and used as the test at the root node of the tree.\n",
    "\n",
    "3. A descendant of the root node is then created for each possible value of this attribute.\n",
    "\n",
    "4. Training examples are sorted to the appropriate descendant node.\n",
    "\n",
    "5. The entire process is then repeated using the training examples associated with each descendant node to select the best attribute to test at that point in the tree.\n",
    "\n",
    "6. This forms a greedy search for an acceptable decision tree, in which the algorithm never backtracks to reconsider earlier choices. \n",
    "\n",
    "The ID3 algorithm selects which attribute to test at each node in the\n",
    "tree.\n",
    "\n",
    "We would like to select the attribute that is most useful for classifying\n",
    "examples.\n",
    "\n",
    "What is a good quantitative measure of the worth of an attribute?\n",
    "\n",
    "Information gain measures how well a given attribute separates the\n",
    "training examples according to their target classification.\n",
    "\n",
    "The ID3 algorithm uses this information gain measure to select among the candidate\n",
    "attributes at each step while growing the tree."
   ]
  },
  {
   "cell_type": "markdown",
   "id": "f4316cf5",
   "metadata": {},
   "source": [
    "## Cancer Data again now with Decision Trees and other Methods"
   ]
  },
  {
   "cell_type": "code",
   "execution_count": 8,
   "id": "64a04a67",
   "metadata": {},
   "outputs": [
    {
     "name": "stdout",
     "output_type": "stream",
     "text": [
      "(426, 30)\n",
      "(143, 30)\n",
      "Test set accuracy with Logistic Regression: 0.94\n",
      "Test set accuracy with SVM: 0.63\n",
      "Test set accuracy with Decision Trees: 0.89\n",
      "Test set accuracy Logistic Regression with scaled data: 0.96\n",
      "Test set accuracy SVM with scaled data: 0.96\n",
      "Test set accuracy with Decision Trees and scaled data: 0.92\n"
     ]
    },
    {
     "name": "stderr",
     "output_type": "stream",
     "text": [
      "/Users/mhjensen/Software/anaconda3/lib/python3.8/site-packages/sklearn/linear_model/_logistic.py:763: ConvergenceWarning: lbfgs failed to converge (status=1):\n",
      "STOP: TOTAL NO. of ITERATIONS REACHED LIMIT.\n",
      "\n",
      "Increase the number of iterations (max_iter) or scale the data as shown in:\n",
      "    https://scikit-learn.org/stable/modules/preprocessing.html\n",
      "Please also refer to the documentation for alternative solver options:\n",
      "    https://scikit-learn.org/stable/modules/linear_model.html#logistic-regression\n",
      "  n_iter_i = _check_optimize_result(\n"
     ]
    }
   ],
   "source": [
    "import matplotlib.pyplot as plt\n",
    "import numpy as np\n",
    "from sklearn.model_selection import  train_test_split \n",
    "from sklearn.datasets import load_breast_cancer\n",
    "from sklearn.svm import SVC\n",
    "from sklearn.linear_model import LogisticRegression\n",
    "from sklearn.tree import DecisionTreeClassifier\n",
    "\n",
    "# Load the data\n",
    "cancer = load_breast_cancer()\n",
    "\n",
    "X_train, X_test, y_train, y_test = train_test_split(cancer.data,cancer.target,random_state=0)\n",
    "print(X_train.shape)\n",
    "print(X_test.shape)\n",
    "# Logistic Regression\n",
    "logreg = LogisticRegression(solver='lbfgs')\n",
    "logreg.fit(X_train, y_train)\n",
    "print(\"Test set accuracy with Logistic Regression: {:.2f}\".format(logreg.score(X_test,y_test)))\n",
    "# Support vector machine\n",
    "svm = SVC(gamma='auto', C=100)\n",
    "svm.fit(X_train, y_train)\n",
    "print(\"Test set accuracy with SVM: {:.2f}\".format(svm.score(X_test,y_test)))\n",
    "# Decision Trees\n",
    "deep_tree_clf = DecisionTreeClassifier(max_depth=None)\n",
    "deep_tree_clf.fit(X_train, y_train)\n",
    "print(\"Test set accuracy with Decision Trees: {:.2f}\".format(deep_tree_clf.score(X_test,y_test)))\n",
    "#now scale the data\n",
    "from sklearn.preprocessing import StandardScaler\n",
    "scaler = StandardScaler()\n",
    "scaler.fit(X_train)\n",
    "X_train_scaled = scaler.transform(X_train)\n",
    "X_test_scaled = scaler.transform(X_test)\n",
    "# Logistic Regression\n",
    "logreg.fit(X_train_scaled, y_train)\n",
    "print(\"Test set accuracy Logistic Regression with scaled data: {:.2f}\".format(logreg.score(X_test_scaled,y_test)))\n",
    "# Support Vector Machine\n",
    "svm.fit(X_train_scaled, y_train)\n",
    "print(\"Test set accuracy SVM with scaled data: {:.2f}\".format(logreg.score(X_test_scaled,y_test)))\n",
    "# Decision Trees\n",
    "deep_tree_clf.fit(X_train_scaled, y_train)\n",
    "print(\"Test set accuracy with Decision Trees and scaled data: {:.2f}\".format(deep_tree_clf.score(X_test_scaled,y_test)))"
   ]
  },
  {
   "cell_type": "markdown",
   "id": "e8bf2b9c",
   "metadata": {},
   "source": [
    "## Another example, the moons again"
   ]
  },
  {
   "cell_type": "code",
   "execution_count": 9,
   "id": "e52d3d63",
   "metadata": {},
   "outputs": [
    {
     "data": {
      "image/png": "[encoded data removed]",
      "text/plain": [
       "<Figure size 792x288 with 2 Axes>"
      ]
     },
     "metadata": {
      "needs_background": "light"
     },
     "output_type": "display_data"
    }
   ],
   "source": [
    "from __future__ import division, print_function, unicode_literals\n",
    "\n",
    "# Common imports\n",
    "import numpy as np\n",
    "import os\n",
    "\n",
    "# to make this notebook's output stable across runs\n",
    "np.random.seed(42)\n",
    "\n",
    "# To plot pretty figures\n",
    "import matplotlib\n",
    "import matplotlib.pyplot as plt\n",
    "from matplotlib.colors import ListedColormap\n",
    "plt.rcParams['axes.labelsize'] = 14\n",
    "plt.rcParams['xtick.labelsize'] = 12\n",
    "plt.rcParams['ytick.labelsize'] = 12\n",
    "\n",
    "\n",
    "from sklearn.svm import SVC\n",
    "from sklearn import datasets\n",
    "from sklearn.tree import DecisionTreeClassifier\n",
    "from sklearn.datasets import make_moons\n",
    "from sklearn.tree import export_graphviz\n",
    "\n",
    "Xm, ym = make_moons(n_samples=100, noise=0.25, random_state=53)\n",
    "\n",
    "deep_tree_clf1 = DecisionTreeClassifier(random_state=42)\n",
    "deep_tree_clf2 = DecisionTreeClassifier(min_samples_leaf=4, random_state=42)\n",
    "deep_tree_clf1.fit(Xm, ym)\n",
    "deep_tree_clf2.fit(Xm, ym)\n",
    "\n",
    "\n",
    "def plot_decision_boundary(clf, X, y, axes=[0, 7.5, 0, 3], iris=True, legend=False, plot_training=True):\n",
    "    x1s = np.linspace(axes[0], axes[1], 100)\n",
    "    x2s = np.linspace(axes[2], axes[3], 100)\n",
    "    x1, x2 = np.meshgrid(x1s, x2s)\n",
    "    X_new = np.c_[x1.ravel(), x2.ravel()]\n",
    "    y_pred = clf.predict(X_new).reshape(x1.shape)\n",
    "    custom_cmap = ListedColormap(['#fafab0','#9898ff','#a0faa0'])\n",
    "    plt.contourf(x1, x2, y_pred, alpha=0.3, cmap=custom_cmap)\n",
    "    if not iris:\n",
    "        custom_cmap2 = ListedColormap(['#7d7d58','#4c4c7f','#507d50'])\n",
    "        plt.contour(x1, x2, y_pred, cmap=custom_cmap2, alpha=0.8)\n",
    "    if plot_training:\n",
    "        plt.plot(X[:, 0][y==0], X[:, 1][y==0], \"yo\", label=\"Iris-Setosa\")\n",
    "        plt.plot(X[:, 0][y==1], X[:, 1][y==1], \"bs\", label=\"Iris-Versicolor\")\n",
    "        plt.plot(X[:, 0][y==2], X[:, 1][y==2], \"g^\", label=\"Iris-Virginica\")\n",
    "        plt.axis(axes)\n",
    "    if iris:\n",
    "        plt.xlabel(\"Petal length\", fontsize=14)\n",
    "        plt.ylabel(\"Petal width\", fontsize=14)\n",
    "    else:\n",
    "        plt.xlabel(r\"$x_1$\", fontsize=18)\n",
    "        plt.ylabel(r\"$x_2$\", fontsize=18, rotation=0)\n",
    "    if legend:\n",
    "        plt.legend(loc=\"lower right\", fontsize=14)\n",
    "plt.figure(figsize=(11, 4))\n",
    "plt.subplot(121)\n",
    "plot_decision_boundary(deep_tree_clf1, Xm, ym, axes=[-1.5, 2.5, -1, 1.5], iris=False)\n",
    "plt.title(\"No restrictions\", fontsize=16)\n",
    "plt.subplot(122)\n",
    "plot_decision_boundary(deep_tree_clf2, Xm, ym, axes=[-1.5, 2.5, -1, 1.5], iris=False)\n",
    "plt.title(\"min_samples_leaf = {}\".format(deep_tree_clf2.min_samples_leaf), fontsize=14)\n",
    "plt.show()"
   ]
  },
  {
   "cell_type": "markdown",
   "id": "909c35c6",
   "metadata": {},
   "source": [
    "## Playing around with regions"
   ]
  },
  {
   "cell_type": "code",
   "execution_count": 10,
   "id": "3a5b5fca",
   "metadata": {},
   "outputs": [
    {
     "data": {
      "image/png": "[encoded data removed]",
      "text/plain": [
       "<Figure size 792x288 with 2 Axes>"
      ]
     },
     "metadata": {
      "needs_background": "light"
     },
     "output_type": "display_data"
    }
   ],
   "source": [
    "np.random.seed(6)\n",
    "Xs = np.random.rand(100, 2) - 0.5\n",
    "ys = (Xs[:, 0] > 0).astype(np.float32) * 2\n",
    "\n",
    "angle = np.pi/4\n",
    "rotation_matrix = np.array([[np.cos(angle), -np.sin(angle)], [np.sin(angle), np.cos(angle)]])\n",
    "Xsr = Xs.dot(rotation_matrix)\n",
    "\n",
    "tree_clf_s = DecisionTreeClassifier(random_state=42)\n",
    "tree_clf_s.fit(Xs, ys)\n",
    "tree_clf_sr = DecisionTreeClassifier(random_state=42)\n",
    "tree_clf_sr.fit(Xsr, ys)\n",
    "\n",
    "plt.figure(figsize=(11, 4))\n",
    "plt.subplot(121)\n",
    "plot_decision_boundary(tree_clf_s, Xs, ys, axes=[-0.7, 0.7, -0.7, 0.7], iris=False)\n",
    "plt.subplot(122)\n",
    "plot_decision_boundary(tree_clf_sr, Xsr, ys, axes=[-0.7, 0.7, -0.7, 0.7], iris=False)\n",
    "\n",
    "plt.show()"
   ]
  },
  {
   "cell_type": "markdown",
   "id": "607883cb",
   "metadata": {},
   "source": [
    "## Regression trees"
   ]
  },
  {
   "cell_type": "code",
   "execution_count": 11,
   "id": "a917a8a7",
   "metadata": {},
   "outputs": [],
   "source": [
    "# Quadratic training set + noise\n",
    "np.random.seed(42)\n",
    "m = 200\n",
    "X = np.random.rand(m, 1)\n",
    "y = 4 * (X - 0.5) ** 2\n",
    "y = y + np.random.randn(m, 1) / 10"
   ]
  },
  {
   "cell_type": "code",
   "execution_count": 12,
   "id": "a2329a82",
   "metadata": {},
   "outputs": [
    {
     "data": {
      "text/plain": [
       "DecisionTreeRegressor(max_depth=2, random_state=42)"
      ]
     },
     "execution_count": 12,
     "metadata": {},
     "output_type": "execute_result"
    }
   ],
   "source": [
    "from sklearn.tree import DecisionTreeRegressor\n",
    "\n",
    "tree_reg = DecisionTreeRegressor(max_depth=2, random_state=42)\n",
    "tree_reg.fit(X, y)"
   ]
  },
  {
   "cell_type": "markdown",
   "id": "9920ac6a",
   "metadata": {},
   "source": [
    "## Final regressor code"
   ]
  },
  {
   "cell_type": "code",
   "execution_count": 13,
   "id": "3b569d53",
   "metadata": {},
   "outputs": [
    {
     "data": {
      "image/png": "[encoded data removed]",
      "text/plain": [
       "<Figure size 792x288 with 2 Axes>"
      ]
     },
     "metadata": {
      "needs_background": "light"
     },
     "output_type": "display_data"
    }
   ],
   "source": [
    "from sklearn.tree import DecisionTreeRegressor\n",
    "\n",
    "tree_reg1 = DecisionTreeRegressor(random_state=42, max_depth=2)\n",
    "tree_reg2 = DecisionTreeRegressor(random_state=42, max_depth=3)\n",
    "tree_reg1.fit(X, y)\n",
    "tree_reg2.fit(X, y)\n",
    "\n",
    "def plot_regression_predictions(tree_reg, X, y, axes=[0, 1, -0.2, 1], ylabel=\"$y$\"):\n",
    "    x1 = np.linspace(axes[0], axes[1], 500).reshape(-1, 1)\n",
    "    y_pred = tree_reg.predict(x1)\n",
    "    plt.axis(axes)\n",
    "    plt.xlabel(\"$x_1$\", fontsize=18)\n",
    "    if ylabel:\n",
    "        plt.ylabel(ylabel, fontsize=18, rotation=0)\n",
    "    plt.plot(X, y, \"b.\")\n",
    "    plt.plot(x1, y_pred, \"r.-\", linewidth=2, label=r\"$\\hat{y}$\")\n",
    "\n",
    "plt.figure(figsize=(11, 4))\n",
    "plt.subplot(121)\n",
    "plot_regression_predictions(tree_reg1, X, y)\n",
    "for split, style in ((0.1973, \"k-\"), (0.0917, \"k--\"), (0.7718, \"k--\")):\n",
    "    plt.plot([split, split], [-0.2, 1], style, linewidth=2)\n",
    "plt.text(0.21, 0.65, \"Depth=0\", fontsize=15)\n",
    "plt.text(0.01, 0.2, \"Depth=1\", fontsize=13)\n",
    "plt.text(0.65, 0.8, \"Depth=1\", fontsize=13)\n",
    "plt.legend(loc=\"upper center\", fontsize=18)\n",
    "plt.title(\"max_depth=2\", fontsize=14)\n",
    "\n",
    "plt.subplot(122)\n",
    "plot_regression_predictions(tree_reg2, X, y, ylabel=None)\n",
    "for split, style in ((0.1973, \"k-\"), (0.0917, \"k--\"), (0.7718, \"k--\")):\n",
    "    plt.plot([split, split], [-0.2, 1], style, linewidth=2)\n",
    "for split in (0.0458, 0.1298, 0.2873, 0.9040):\n",
    "    plt.plot([split, split], [-0.2, 1], \"k:\", linewidth=1)\n",
    "plt.text(0.3, 0.5, \"Depth=2\", fontsize=13)\n",
    "plt.title(\"max_depth=3\", fontsize=14)\n",
    "\n",
    "plt.show()"
   ]
  },
  {
   "cell_type": "code",
   "execution_count": 14,
   "id": "67740201",
   "metadata": {},
   "outputs": [
    {
     "data": {
      "image/png": "[encoded data removed]",
      "text/plain": [
       "<Figure size 792x288 with 2 Axes>"
      ]
     },
     "metadata": {
      "needs_background": "light"
     },
     "output_type": "display_data"
    }
   ],
   "source": [
    "tree_reg1 = DecisionTreeRegressor(random_state=42)\n",
    "tree_reg2 = DecisionTreeRegressor(random_state=42, min_samples_leaf=10)\n",
    "tree_reg1.fit(X, y)\n",
    "tree_reg2.fit(X, y)\n",
    "\n",
    "x1 = np.linspace(0, 1, 500).reshape(-1, 1)\n",
    "y_pred1 = tree_reg1.predict(x1)\n",
    "y_pred2 = tree_reg2.predict(x1)\n",
    "\n",
    "plt.figure(figsize=(11, 4))\n",
    "\n",
    "plt.subplot(121)\n",
    "plt.plot(X, y, \"b.\")\n",
    "plt.plot(x1, y_pred1, \"r.-\", linewidth=2, label=r\"$\\hat{y}$\")\n",
    "plt.axis([0, 1, -0.2, 1.1])\n",
    "plt.xlabel(\"$x_1$\", fontsize=18)\n",
    "plt.ylabel(\"$y$\", fontsize=18, rotation=0)\n",
    "plt.legend(loc=\"upper center\", fontsize=18)\n",
    "plt.title(\"No restrictions\", fontsize=14)\n",
    "\n",
    "plt.subplot(122)\n",
    "plt.plot(X, y, \"b.\")\n",
    "plt.plot(x1, y_pred2, \"r.-\", linewidth=2, label=r\"$\\hat{y}$\")\n",
    "plt.axis([0, 1, -0.2, 1.1])\n",
    "plt.xlabel(\"$x_1$\", fontsize=18)\n",
    "plt.title(\"min_samples_leaf={}\".format(tree_reg2.min_samples_leaf), fontsize=14)\n",
    "\n",
    "plt.show()"
   ]
  },
  {
   "cell_type": "markdown",
   "id": "37b7856b",
   "metadata": {},
   "source": [
    "## Pros and cons of trees, pros\n",
    "\n",
    "* White box, easy to interpret model. Some people believe that decision trees more closely mirror human decision-making than do the regression and classification approaches discussed earlier (think of support vector machines)\n",
    "\n",
    "* Trees are very easy to explain to people. In fact, they are even easier to explain than linear regression!\n",
    "\n",
    "* No feature normalization needed\n",
    "\n",
    "* Tree models can handle both continuous and categorical data (Classification and Regression Trees)\n",
    "\n",
    "* Can model nonlinear relationships\n",
    "\n",
    "* Can model interactions between the different descriptive features\n",
    "\n",
    "* Trees can be displayed graphically, and are easily interpreted even by a non-expert (especially if they are small)"
   ]
  },
  {
   "cell_type": "markdown",
   "id": "579d15a1",
   "metadata": {},
   "source": [
    "## Disadvantages\n",
    "\n",
    "* Unfortunately, trees generally do not have the same level of predictive accuracy as some of the other regression and classification approaches\n",
    "\n",
    "* If continuous features are used the tree may become quite large and hence less interpretable\n",
    "\n",
    "* Decision trees are prone to overfit the training data and hence do not well generalize the data if no stopping criteria or improvements like pruning, boosting or bagging are implemented\n",
    "\n",
    "* Small changes in the data may lead to a completely different tree. This issue can be addressed by using ensemble methods like bagging, boosting or random forests\n",
    "\n",
    "* Unbalanced datasets where some target feature values occur much more frequently than others may lead to biased trees since the frequently occurring feature values are preferred over the less frequently occurring ones. \n",
    "\n",
    "* If the number of features is relatively large (high dimensional) and the number of instances is relatively low, the tree might overfit the data\n",
    "\n",
    "* Features with many levels may be preferred over features with less levels since for them it is *more easy* to split the dataset such that the sub datasets only contain pure target feature values. This issue can be addressed by preferring for instance the information gain ratio as splitting criteria over information gain\n",
    "\n",
    "However, by aggregating many decision trees, using methods like\n",
    "bagging, random forests, and boosting, the predictive performance of\n",
    "trees can be substantially improved."
   ]
  },
  {
   "cell_type": "markdown",
   "id": "50e291e2",
   "metadata": {},
   "source": [
    "## Ensemble Methods: From a Single Tree to Many Trees and Extreme Boosting, Meet the Jungle of Methods\n",
    "\n",
    "As stated above and seen in many of the examples discussed here about\n",
    "a single decision tree, we often end up overfitting our training\n",
    "data. This normally means that we have a high variance. Can we reduce\n",
    "the variance of a statistical learning method?\n",
    "\n",
    "This leads us to a set of different methods that can combine different\n",
    "machine learning algorithms or just use one of them to construct\n",
    "forests and jungles of trees, homogeneous ones or heterogenous\n",
    "ones. These methods are recognized by different names which we will\n",
    "try to explain here. These are\n",
    "\n",
    "1. Voting classifiers\n",
    "\n",
    "2. Bagging and Pasting\n",
    "\n",
    "3. Random forests\n",
    "\n",
    "4. Boosting methods, from adaptive to Extreme Gradient Boosting (XGBoost)\n",
    "\n",
    "We discuss these methods here."
   ]
  },
  {
   "cell_type": "markdown",
   "id": "2a067ded",
   "metadata": {},
   "source": [
    "## An Overview of Ensemble Methods\n",
    "\n",
    "<!-- dom:FIGURE: [DataFiles/ensembleoverview.png, width=600 frac=0.8] -->\n",
    "<!-- begin figure -->\n",
    "\n",
    "<img src=\"DataFiles/ensembleoverview.png\" width=\"600\"><p style=\"font-size: 0.9em\"><i>Figure 1: </i></p>\n",
    "<!-- end figure -->"
   ]
  },
  {
   "cell_type": "markdown",
   "id": "92f0694a",
   "metadata": {},
   "source": [
    "## Bagging\n",
    "\n",
    "The **plain** decision trees suffer from high\n",
    "variance. This means that if we split the training data into two parts\n",
    "at random, and fit a decision tree to both halves, the results that we\n",
    "get could be quite different. In contrast, a procedure with low\n",
    "variance will yield similar results if applied repeatedly to distinct\n",
    "data sets; linear regression tends to have low variance, if the ratio\n",
    "of $n$ to $p$ is moderately large. \n",
    "\n",
    "**Bootstrap aggregation**, or just **bagging**, is a\n",
    "general-purpose procedure for reducing the variance of a statistical\n",
    "learning method."
   ]
  },
  {
   "cell_type": "markdown",
   "id": "35e5abc4",
   "metadata": {},
   "source": [
    "## More bagging\n",
    "\n",
    "Bagging typically results in improved accuracy\n",
    "over prediction using a single tree. Unfortunately, however, it can be\n",
    "difficult to interpret the resulting model. Recall that one of the\n",
    "advantages of decision trees is the attractive and easily interpreted\n",
    "diagram that results.\n",
    "\n",
    "However, when we bag a large number of trees, it is no longer\n",
    "possible to represent the resulting statistical learning procedure\n",
    "using a single tree, and it is no longer clear which variables are\n",
    "most important to the procedure. Thus, bagging improves prediction\n",
    "accuracy at the expense of interpretability.  Although the collection\n",
    "of bagged trees is much more difficult to interpret than a single\n",
    "tree, one can obtain an overall summary of the importance of each\n",
    "predictor using the MSE (for bagging regression trees) or the Gini\n",
    "index (for bagging classification trees). In the case of bagging\n",
    "regression trees, we can record the total amount that the MSE is\n",
    "decreased due to splits over a given predictor, averaged over all $B$ possible\n",
    "trees. A large value indicates an important predictor. Similarly, in\n",
    "the context of bagging classification trees, we can add up the total\n",
    "amount that the Gini index  is decreased by splits over a given\n",
    "predictor, averaged over all $B$ trees."
   ]
  },
  {
   "cell_type": "markdown",
   "id": "99530e36",
   "metadata": {},
   "source": [
    "## Making your own Bootstrap: Changing the Level of the Decision Tree\n",
    "\n",
    "Let us bring up our good old boostrap example from the linear regression lectures. We change the linerar regression algorithm with\n",
    "a decision tree wth different depths and perform a bootstrap aggregate (in this case we perform as many bootstraps as data points $n$)."
   ]
  },
  {
   "cell_type": "code",
   "execution_count": 21,
   "id": "77318608",
   "metadata": {},
   "outputs": [
    {
     "name": "stdout",
     "output_type": "stream",
     "text": [
      "Polynomial degree: 1\n",
      "Error: 0.050228534884996276\n",
      "Bias^2: 0.047424636658910696\n",
      "Var: 0.0028038982260855942\n",
      "0.050228534884996276 >= 0.047424636658910696 + 0.0028038982260855942 = 0.05022853488499629\n",
      "Polynomial degree: 2\n",
      "Error: 0.035938172137818414\n",
      "Bias^2: 0.03325162633373944\n",
      "Var: 0.0026865458040789747\n",
      "0.035938172137818414 >= 0.03325162633373944 + 0.0026865458040789747 = 0.035938172137818414\n",
      "Polynomial degree: 3\n",
      "Error: 0.019637742595026014\n",
      "Bias^2: 0.016076691813926115\n",
      "Var: 0.003561050781099899\n",
      "0.019637742595026014 >= 0.016076691813926115 + 0.003561050781099899 = 0.019637742595026014\n",
      "Polynomial degree: 4\n",
      "Error: 0.01462046252128244\n",
      "Bias^2: 0.011424636021768093\n",
      "Var: 0.003195826499514345\n",
      "0.01462046252128244 >= 0.011424636021768093 + 0.003195826499514345 = 0.014620462521282438\n",
      "Polynomial degree: 5\n",
      "Error: 0.012890642007324326\n",
      "Bias^2: 0.01063737085997277\n",
      "Var: 0.002253271147351561\n",
      "0.012890642007324326 >= 0.01063737085997277 + 0.002253271147351561 = 0.012890642007324331\n",
      "Polynomial degree: 6\n",
      "Error: 0.013587860152743086\n",
      "Bias^2: 0.011167722418296555\n",
      "Var: 0.0024201377344465307\n",
      "0.013587860152743086 >= 0.011167722418296555 + 0.0024201377344465307 = 0.013587860152743086\n",
      "Polynomial degree: 7\n",
      "Error: 0.014667745849181872\n",
      "Bias^2: 0.011665580298884004\n",
      "Var: 0.0030021655502978674\n",
      "0.014667745849181872 >= 0.011665580298884004 + 0.0030021655502978674 = 0.014667745849181872\n",
      "Polynomial degree: 8\n",
      "Error: 0.01576461886622324\n",
      "Bias^2: 0.012194276195040337\n",
      "Var: 0.0035703426711829076\n",
      "0.01576461886622324 >= 0.012194276195040337 + 0.0035703426711829076 = 0.015764618866223244\n",
      "Polynomial degree: 9\n",
      "Error: 0.01681890798652693\n",
      "Bias^2: 0.0127531179009464\n",
      "Var: 0.004065790085580534\n",
      "0.01681890798652693 >= 0.0127531179009464 + 0.004065790085580534 = 0.016818907986526934\n",
      "Polynomial degree: 10\n",
      "Error: 0.017662244936164105\n",
      "Bias^2: 0.01322098120809351\n",
      "Var: 0.004441263728070601\n",
      "0.017662244936164105 >= 0.01322098120809351 + 0.004441263728070601 = 0.017662244936164112\n",
      "Polynomial degree: 11\n",
      "Error: 0.01835866569618622\n",
      "Bias^2: 0.013658812846630355\n",
      "Var: 0.004699852849555868\n",
      "0.01835866569618622 >= 0.013658812846630355 + 0.004699852849555868 = 0.018358665696186223\n",
      "0.4792857906235924\n"
     ]
    },
    {
     "ename": "NameError",
     "evalue": "name 'save_fig' is not defined",
     "output_type": "error",
     "traceback": [
      "\u001b[0;31m---------------------------------------------------------------------------\u001b[0m",
      "\u001b[0;31mNameError\u001b[0m                                 Traceback (most recent call last)",
      "\u001b[0;32m<ipython-input-21-dce6a1daf90b>\u001b[0m in \u001b[0;36m<module>\u001b[0;34m\u001b[0m\n\u001b[1;32m     48\u001b[0m \u001b[0mplt\u001b[0m\u001b[0;34m.\u001b[0m\u001b[0mplot\u001b[0m\u001b[0;34m(\u001b[0m\u001b[0mpolydegree\u001b[0m\u001b[0;34m,\u001b[0m \u001b[0mvariance\u001b[0m\u001b[0;34m,\u001b[0m \u001b[0mlabel\u001b[0m\u001b[0;34m=\u001b[0m\u001b[0;34m'Variance'\u001b[0m\u001b[0;34m)\u001b[0m\u001b[0;34m\u001b[0m\u001b[0;34m\u001b[0m\u001b[0m\n\u001b[1;32m     49\u001b[0m \u001b[0mplt\u001b[0m\u001b[0;34m.\u001b[0m\u001b[0mlegend\u001b[0m\u001b[0;34m(\u001b[0m\u001b[0;34m)\u001b[0m\u001b[0;34m\u001b[0m\u001b[0;34m\u001b[0m\u001b[0m\n\u001b[0;32m---> 50\u001b[0;31m \u001b[0msave_fig\u001b[0m\u001b[0;34m(\u001b[0m\u001b[0;34m\"baggingboot\"\u001b[0m\u001b[0;34m)\u001b[0m\u001b[0;34m\u001b[0m\u001b[0;34m\u001b[0m\u001b[0m\n\u001b[0m\u001b[1;32m     51\u001b[0m \u001b[0mplt\u001b[0m\u001b[0;34m.\u001b[0m\u001b[0mshow\u001b[0m\u001b[0;34m(\u001b[0m\u001b[0;34m)\u001b[0m\u001b[0;34m\u001b[0m\u001b[0;34m\u001b[0m\u001b[0m\n",
      "\u001b[0;31mNameError\u001b[0m: name 'save_fig' is not defined"
     ]
    },
    {
     "data": {
      "image/png": "[encoded data removed]",
      "text/plain": [
       "<Figure size 432x288 with 1 Axes>"
      ]
     },
     "metadata": {
      "needs_background": "light"
     },
     "output_type": "display_data"
    }
   ],
   "source": [
    "\n",
    "import matplotlib.pyplot as plt\n",
    "import numpy as np\n",
    "from sklearn.model_selection import train_test_split\n",
    "from sklearn.pipeline import make_pipeline\n",
    "from sklearn.utils import resample\n",
    "from sklearn.tree import DecisionTreeRegressor\n",
    "\n",
    "n = 1000\n",
    "n_boostraps = 100\n",
    "maxdepth = 12\n",
    "\n",
    "# Make data set.\n",
    "x = np.linspace(-3, 3, n).reshape(-1, 1)\n",
    "y = np.exp(-x**2) + 1.5 * np.exp(-(x-2)**2)+ np.random.normal(0, 0.1, x.shape)\n",
    "error = np.zeros(maxdepth)\n",
    "bias = np.zeros(maxdepth)\n",
    "variance = np.zeros(maxdepth)\n",
    "polydegree = np.zeros(maxdepth)\n",
    "X_train, X_test, y_train, y_test = train_test_split(x, y, test_size=0.2)\n",
    "\n",
    "# we produce a simple tree first as benchmark, no scaling\n",
    "simpletree = DecisionTreeRegressor(max_depth=3) \n",
    "simpletree.fit(X_train, y_train)\n",
    "simpleprediction = simpletree.predict(X_test)\n",
    "for degree in range(1,maxdepth):\n",
    "    model = DecisionTreeRegressor(max_depth=degree) \n",
    "    y_pred = np.empty((y_test.shape[0], n_boostraps))\n",
    "    for i in range(n_boostraps):\n",
    "        x_, y_ = resample(X_train, y_train)\n",
    "        model.fit(x_, y_)\n",
    "        y_pred[:, i] = model.predict(X_test)#.ravel()\n",
    "\n",
    "    polydegree[degree] = degree\n",
    "    error[degree] = np.mean( np.mean((y_test - y_pred)**2, axis=1, keepdims=True) )\n",
    "    bias[degree] = np.mean( (y_test - np.mean(y_pred, axis=1, keepdims=True))**2 )\n",
    "    variance[degree] = np.mean( np.var(y_pred, axis=1, keepdims=True) )\n",
    "    print('Polynomial degree:', degree)\n",
    "    print('Error:', error[degree])\n",
    "    print('Bias^2:', bias[degree])\n",
    "    print('Var:', variance[degree])\n",
    "    print('{} >= {} + {} = {}'.format(error[degree], bias[degree], variance[degree], bias[degree]+variance[degree]))\n",
    " \n",
    "mse_simpletree= np.mean( np.mean((y_test - simpleprediction)**2))\n",
    "print(mse_simpletree)\n",
    "plt.xlim(1,maxdepth)\n",
    "plt.plot(polydegree, error, label='MSE')\n",
    "plt.plot(polydegree, bias, label='bias')\n",
    "plt.plot(polydegree, variance, label='Variance')\n",
    "plt.legend()\n",
    "save_fig(\"baggingboot\")\n",
    "plt.show()"
   ]
  },
  {
   "cell_type": "markdown",
   "id": "0db1989b",
   "metadata": {},
   "source": [
    "## Why Voting?\n",
    "\n",
    "The idea behind boosting, and voting as well can be phrased as follows:\n",
    "**Can a group of people somehow arrive at highly\n",
    "reasoned decisions, despite the weak judgement of the individual\n",
    "members?**\n",
    "\n",
    "The aim is to create a good classifier by combining several weak classifiers.\n",
    "**A weak classifier is a classifier which is able to produce results that are only slightly better than guessing at random.**\n",
    "\n",
    "The basic approach is to apply repeatedly (in boosting this is done in an iterative way) a weak classifier to modifications of the data.\n",
    "In voting we simply apply the law of large numbers while in boosting we give more weight to misclassified data in\n",
    "each iteration.  \n",
    "\n",
    "Decision trees play an important role as our weak classifier. They serve as the basic method."
   ]
  },
  {
   "cell_type": "markdown",
   "id": "db575915",
   "metadata": {},
   "source": [
    "## Tossing coins\n",
    "\n",
    "The simplest case is a so-called voting ensemble. To illustrate this,\n",
    "think of yourself tossing coins with a biased outcome of 51 per cent\n",
    "for heads and 49% for tails. With only few tosses,\n",
    "you may not clearly see this distribution for heads and tails. However, after some\n",
    "thousands of tosses, there will be a clear majority of heads.  With 2000 tosses\n",
    "you should see approximately 1020 heads and 980 tails.\n",
    "\n",
    "We can then state that the outcome is a clear majority of heads. If\n",
    "you do this ten thousand times, it is easy to see that there is a 97%\n",
    "likelihood of a majority of heads.\n",
    "\n",
    "Another example would be to collect all polls before an\n",
    "election. Different polls may show different likelihoods for a\n",
    "candidate winning with say a majority  of the popular vote. The majority vote\n",
    "would then consist in many polls indicating that this candidate will\n",
    "actually win.\n",
    "\n",
    "The example here shows how we can implement the coin tossing case,\n",
    "clealry demostrating that after some tosses we see the [law of large](https://en.wikipedia.org/wiki/Law_of_large_numbers)\n",
    "numbers kicking in."
   ]
  },
  {
   "cell_type": "markdown",
   "id": "e1b33601",
   "metadata": {},
   "source": [
    "## Standard imports first"
   ]
  },
  {
   "cell_type": "code",
   "execution_count": 16,
   "id": "2efc1afa",
   "metadata": {},
   "outputs": [
    {
     "ename": "ModuleNotFoundError",
     "evalue": "No module named 'pydot'",
     "output_type": "error",
     "traceback": [
      "\u001b[0;31m---------------------------------------------------------------------------\u001b[0m",
      "\u001b[0;31mModuleNotFoundError\u001b[0m                       Traceback (most recent call last)",
      "\u001b[0;32m<ipython-input-16-f32ca21bff0e>\u001b[0m in \u001b[0;36m<module>\u001b[0;34m\u001b[0m\n\u001b[1;32m      1\u001b[0m \u001b[0;31m# Common imports\u001b[0m\u001b[0;34m\u001b[0m\u001b[0;34m\u001b[0m\u001b[0;34m\u001b[0m\u001b[0m\n\u001b[1;32m      2\u001b[0m \u001b[0;32mfrom\u001b[0m \u001b[0mIPython\u001b[0m\u001b[0;34m.\u001b[0m\u001b[0mdisplay\u001b[0m \u001b[0;32mimport\u001b[0m \u001b[0mImage\u001b[0m\u001b[0;34m\u001b[0m\u001b[0;34m\u001b[0m\u001b[0m\n\u001b[0;32m----> 3\u001b[0;31m \u001b[0;32mfrom\u001b[0m \u001b[0mpydot\u001b[0m \u001b[0;32mimport\u001b[0m \u001b[0mgraph_from_dot_data\u001b[0m\u001b[0;34m\u001b[0m\u001b[0;34m\u001b[0m\u001b[0m\n\u001b[0m\u001b[1;32m      4\u001b[0m \u001b[0;32mimport\u001b[0m \u001b[0mpandas\u001b[0m \u001b[0;32mas\u001b[0m \u001b[0mpd\u001b[0m\u001b[0;34m\u001b[0m\u001b[0;34m\u001b[0m\u001b[0m\n\u001b[1;32m      5\u001b[0m \u001b[0;32mimport\u001b[0m \u001b[0mnumpy\u001b[0m \u001b[0;32mas\u001b[0m \u001b[0mnp\u001b[0m\u001b[0;34m\u001b[0m\u001b[0;34m\u001b[0m\u001b[0m\n",
      "\u001b[0;31mModuleNotFoundError\u001b[0m: No module named 'pydot'"
     ]
    }
   ],
   "source": [
    "# Common imports\n",
    "from IPython.display import Image \n",
    "from pydot import graph_from_dot_data\n",
    "import pandas as pd\n",
    "import numpy as np\n",
    "import matplotlib.pyplot as plt\n",
    "from sklearn.tree import DecisionTreeClassifier\n",
    "from sklearn.model_selection import train_test_split\n",
    "from sklearn.tree import export_graphviz\n",
    "from sklearn.preprocessing import StandardScaler, OneHotEncoder\n",
    "from sklearn.compose import ColumnTransformer\n",
    "from IPython.display import Image \n",
    "from pydot import graph_from_dot_data\n",
    "import os\n",
    "\n",
    "# Where to save the figures and data files\n",
    "PROJECT_ROOT_DIR = \"Results\"\n",
    "FIGURE_ID = \"Results/FigureFiles\"\n",
    "DATA_ID = \"DataFiles/\"\n",
    "\n",
    "if not os.path.exists(PROJECT_ROOT_DIR):\n",
    "    os.mkdir(PROJECT_ROOT_DIR)\n",
    "\n",
    "if not os.path.exists(FIGURE_ID):\n",
    "    os.makedirs(FIGURE_ID)\n",
    "\n",
    "if not os.path.exists(DATA_ID):\n",
    "    os.makedirs(DATA_ID)\n",
    "\n",
    "def image_path(fig_id):\n",
    "    return os.path.join(FIGURE_ID, fig_id)\n",
    "\n",
    "def data_path(dat_id):\n",
    "    return os.path.join(DATA_ID, dat_id)\n",
    "\n",
    "def save_fig(fig_id):\n",
    "    plt.savefig(image_path(fig_id) + \".png\", format='png')"
   ]
  },
  {
   "cell_type": "markdown",
   "id": "f3567d84",
   "metadata": {},
   "source": [
    "## Simple Voting Example, head or tail"
   ]
  },
  {
   "cell_type": "code",
   "execution_count": 17,
   "id": "8bfc7097",
   "metadata": {},
   "outputs": [
    {
     "ename": "NameError",
     "evalue": "name 'save_fig' is not defined",
     "output_type": "error",
     "traceback": [
      "\u001b[0;31m---------------------------------------------------------------------------\u001b[0m",
      "\u001b[0;31mNameError\u001b[0m                                 Traceback (most recent call last)",
      "\u001b[0;32m<ipython-input-17-c6e552eb0b4a>\u001b[0m in \u001b[0;36m<module>\u001b[0;34m\u001b[0m\n\u001b[1;32m     19\u001b[0m \u001b[0mplt\u001b[0m\u001b[0;34m.\u001b[0m\u001b[0mlegend\u001b[0m\u001b[0;34m(\u001b[0m\u001b[0mloc\u001b[0m\u001b[0;34m=\u001b[0m\u001b[0;34m\"lower right\"\u001b[0m\u001b[0;34m)\u001b[0m\u001b[0;34m\u001b[0m\u001b[0;34m\u001b[0m\u001b[0m\n\u001b[1;32m     20\u001b[0m \u001b[0mplt\u001b[0m\u001b[0;34m.\u001b[0m\u001b[0maxis\u001b[0m\u001b[0;34m(\u001b[0m\u001b[0;34m[\u001b[0m\u001b[0;36m0\u001b[0m\u001b[0;34m,\u001b[0m \u001b[0;36m10000\u001b[0m\u001b[0;34m,\u001b[0m \u001b[0;36m0.42\u001b[0m\u001b[0;34m,\u001b[0m \u001b[0;36m0.58\u001b[0m\u001b[0;34m]\u001b[0m\u001b[0;34m)\u001b[0m\u001b[0;34m\u001b[0m\u001b[0;34m\u001b[0m\u001b[0m\n\u001b[0;32m---> 21\u001b[0;31m \u001b[0msave_fig\u001b[0m\u001b[0;34m(\u001b[0m\u001b[0;34m\"votingsimple\"\u001b[0m\u001b[0;34m)\u001b[0m\u001b[0;34m\u001b[0m\u001b[0;34m\u001b[0m\u001b[0m\n\u001b[0m\u001b[1;32m     22\u001b[0m \u001b[0mplt\u001b[0m\u001b[0;34m.\u001b[0m\u001b[0mshow\u001b[0m\u001b[0;34m(\u001b[0m\u001b[0;34m)\u001b[0m\u001b[0;34m\u001b[0m\u001b[0;34m\u001b[0m\u001b[0m\n",
      "\u001b[0;31mNameError\u001b[0m: name 'save_fig' is not defined"
     ]
    },
    {
     "data": {
      "image/png": "[encoded data removed]",
      "text/plain": [
       "<Figure size 576x252 with 1 Axes>"
      ]
     },
     "metadata": {
      "needs_background": "light"
     },
     "output_type": "display_data"
    }
   ],
   "source": [
    "\n",
    "# Common imports\n",
    "import numpy as np\n",
    "import matplotlib\n",
    "import matplotlib.pyplot as plt\n",
    "from matplotlib.colors import ListedColormap\n",
    "plt.rcParams['axes.labelsize'] = 14\n",
    "plt.rcParams['xtick.labelsize'] = 12\n",
    "plt.rcParams['ytick.labelsize'] = 12\n",
    "\n",
    "heads_proba = 0.51\n",
    "coin_tosses = (np.random.rand(10000, 10) < heads_proba).astype(np.int32)\n",
    "cumulative_heads_ratio = np.cumsum(coin_tosses, axis=0) / np.arange(1, 10001).reshape(-1, 1)\n",
    "plt.figure(figsize=(8,3.5))\n",
    "plt.plot(cumulative_heads_ratio)\n",
    "plt.plot([0, 10000], [0.51, 0.51], \"k--\", linewidth=2, label=\"51%\")\n",
    "plt.plot([0, 10000], [0.5, 0.5], \"k-\", label=\"50%\")\n",
    "plt.xlabel(\"Number of coin tosses\")\n",
    "plt.ylabel(\"Heads ratio\")\n",
    "plt.legend(loc=\"lower right\")\n",
    "plt.axis([0, 10000, 0.42, 0.58])\n",
    "save_fig(\"votingsimple\")\n",
    "plt.show()"
   ]
  },
  {
   "cell_type": "markdown",
   "id": "394c30b2",
   "metadata": {},
   "source": [
    "## Using the Voting Classifier\n",
    "\n",
    "We can use the voting classifier on other data sets, here the exciting binary case of two distinct objects using the make moons functionality of **Scikit-Learn**."
   ]
  },
  {
   "cell_type": "code",
   "execution_count": 18,
   "id": "04d378b8",
   "metadata": {},
   "outputs": [
    {
     "name": "stdout",
     "output_type": "stream",
     "text": [
      "LogisticRegression 0.864\n",
      "RandomForestClassifier 0.872\n",
      "SVC 0.888\n",
      "VotingClassifier 0.896\n",
      "LogisticRegression 0.864\n",
      "RandomForestClassifier 0.872\n",
      "SVC 0.888\n",
      "VotingClassifier 0.912\n"
     ]
    }
   ],
   "source": [
    "from sklearn.model_selection import train_test_split\n",
    "from sklearn.datasets import make_moons\n",
    "\n",
    "X, y = make_moons(n_samples=500, noise=0.30, random_state=42)\n",
    "X_train, X_test, y_train, y_test = train_test_split(X, y, random_state=42)\n",
    "\n",
    "from sklearn.ensemble import RandomForestClassifier\n",
    "from sklearn.ensemble import VotingClassifier\n",
    "from sklearn.linear_model import LogisticRegression\n",
    "from sklearn.svm import SVC\n",
    "\n",
    "log_clf = LogisticRegression(solver=\"liblinear\", random_state=42)\n",
    "rnd_clf = RandomForestClassifier(n_estimators=10, random_state=42)\n",
    "svm_clf = SVC(gamma=\"auto\", random_state=42)\n",
    "\n",
    "voting_clf = VotingClassifier(\n",
    "    estimators=[('lr', log_clf), ('rf', rnd_clf), ('svc', svm_clf)],\n",
    "    voting='hard')\n",
    "\n",
    "voting_clf.fit(X_train, y_train)\n",
    "\n",
    "from sklearn.metrics import accuracy_score\n",
    "\n",
    "for clf in (log_clf, rnd_clf, svm_clf, voting_clf):\n",
    "    clf.fit(X_train, y_train)\n",
    "    y_pred = clf.predict(X_test)\n",
    "    print(clf.__class__.__name__, accuracy_score(y_test, y_pred))\n",
    "\n",
    "log_clf = LogisticRegression(solver=\"liblinear\", random_state=42)\n",
    "rnd_clf = RandomForestClassifier(n_estimators=10, random_state=42)\n",
    "svm_clf = SVC(gamma=\"auto\", probability=True, random_state=42)\n",
    "voting_clf = VotingClassifier(\n",
    "    estimators=[('lr', log_clf), ('rf', rnd_clf), ('svc', svm_clf)],\n",
    "    voting='soft')\n",
    "voting_clf.fit(X_train, y_train)\n",
    "\n",
    "from sklearn.metrics import accuracy_score\n",
    "\n",
    "for clf in (log_clf, rnd_clf, svm_clf, voting_clf):\n",
    "    clf.fit(X_train, y_train)\n",
    "    y_pred = clf.predict(X_test)\n",
    "    print(clf.__class__.__name__, accuracy_score(y_test, y_pred))"
   ]
  },
  {
   "cell_type": "markdown",
   "id": "2aa90ff1",
   "metadata": {},
   "source": [
    "## Voting and Bagging"
   ]
  },
  {
   "cell_type": "code",
   "execution_count": 19,
   "id": "d2b80cd4",
   "metadata": {},
   "outputs": [
    {
     "data": {
      "text/plain": [
       "VotingClassifier(estimators=[('lr', LogisticRegression(random_state=42)),\n",
       "                             ('rf', RandomForestClassifier(random_state=42)),\n",
       "                             ('svc', SVC(random_state=42))])"
      ]
     },
     "execution_count": 19,
     "metadata": {},
     "output_type": "execute_result"
    }
   ],
   "source": [
    "from sklearn.model_selection import train_test_split\n",
    "from sklearn.datasets import make_moons\n",
    "\n",
    "X, y = make_moons(n_samples=500, noise=0.30, random_state=42)\n",
    "X_train, X_test, y_train, y_test = train_test_split(X, y, random_state=42)\n",
    "from sklearn.ensemble import RandomForestClassifier\n",
    "from sklearn.ensemble import VotingClassifier\n",
    "from sklearn.linear_model import LogisticRegression\n",
    "from sklearn.svm import SVC\n",
    "\n",
    "log_clf = LogisticRegression(random_state=42)\n",
    "rnd_clf = RandomForestClassifier(random_state=42)\n",
    "svm_clf = SVC(random_state=42)\n",
    "\n",
    "voting_clf = VotingClassifier(\n",
    "    estimators=[('lr', log_clf), ('rf', rnd_clf), ('svc', svm_clf)],\n",
    "    voting='hard')\n",
    "voting_clf.fit(X_train, y_train)"
   ]
  },
  {
   "cell_type": "code",
   "execution_count": 20,
   "id": "86ba6caa",
   "metadata": {},
   "outputs": [],
   "source": [
    "from sklearn.metrics import accuracy_score\n",
    "\n",
    "for clf in (log_clf, rnd_clf, svm_clf, voting_clf):\n",
    "    clf.fit(X_train, y_train)\n",
    "    y_pred = clf.predict(X_test)\n",
    "    print(clf.__class__.__name__, accuracy_score(y_test, y_pred))"
   ]
  },
  {
   "cell_type": "code",
   "execution_count": 21,
   "id": "d009d0ef",
   "metadata": {},
   "outputs": [],
   "source": [
    "log_clf = LogisticRegression(random_state=42)\n",
    "rnd_clf = RandomForestClassifier(random_state=42)\n",
    "svm_clf = SVC(probability=True, random_state=42)\n",
    "\n",
    "voting_clf = VotingClassifier(\n",
    "    estimators=[('lr', log_clf), ('rf', rnd_clf), ('svc', svm_clf)],\n",
    "    voting='soft')\n",
    "voting_clf.fit(X_train, y_train)"
   ]
  },
  {
   "cell_type": "code",
   "execution_count": 22,
   "id": "6f87139d",
   "metadata": {},
   "outputs": [],
   "source": [
    "from sklearn.metrics import accuracy_score\n",
    "\n",
    "for clf in (log_clf, rnd_clf, svm_clf, voting_clf):\n",
    "    clf.fit(X_train, y_train)\n",
    "    y_pred = clf.predict(X_test)\n",
    "    print(clf.__class__.__name__, accuracy_score(y_test, y_pred))"
   ]
  },
  {
   "cell_type": "markdown",
   "id": "768b6c06",
   "metadata": {},
   "source": [
    "## Random forests\n",
    "\n",
    "Random forests provide an improvement over bagged trees by way of a\n",
    "small tweak that decorrelates the trees. \n",
    "\n",
    "As in bagging, we build a\n",
    "number of decision trees on bootstrapped training samples. But when\n",
    "building these decision trees, each time a split in a tree is\n",
    "considered, a random sample of $m$ predictors is chosen as split\n",
    "candidates from the full set of $p$ predictors. The split is allowed to\n",
    "use only one of those $m$ predictors. \n",
    "\n",
    "A fresh sample of $m$ predictors is\n",
    "taken at each split, and typically we choose"
   ]
  },
  {
   "cell_type": "markdown",
   "id": "5876341e",
   "metadata": {},
   "source": [
    "$$\n",
    "m\\approx \\sqrt{p}.\n",
    "$$"
   ]
  },
  {
   "cell_type": "markdown",
   "id": "b79d9382",
   "metadata": {},
   "source": [
    "In building a random forest, at\n",
    "each split in the tree, the algorithm is not even allowed to consider\n",
    "a majority of the available predictors. \n",
    "\n",
    "The reason for this is rather clever. Suppose that there is one very\n",
    "strong predictor in the data set, along with a number of other\n",
    "moderately strong predictors. Then in the collection of bagged\n",
    "variable importance random forest trees, most or all of the trees will\n",
    "use this strong predictor in the top split. Consequently, all of the\n",
    "bagged trees will look quite similar to each other. Hence the\n",
    "predictions from the bagged trees will be highly correlated.\n",
    "Unfortunately, averaging many highly correlated quantities does not\n",
    "lead to as large of a reduction in variance as averaging many\n",
    "uncorrelated quantities. In particular, this means that bagging will\n",
    "not lead to a substantial reduction in variance over a single tree in\n",
    "this setting."
   ]
  },
  {
   "cell_type": "markdown",
   "id": "b02fdfb7",
   "metadata": {},
   "source": [
    "## Random Forest Algorithm\n",
    "The algorithm described here can be applied to both classification and regression problems.\n",
    "\n",
    "We will grow of forest of say $B$ trees.\n",
    "1. For $b=1:B$\n",
    "\n",
    "  * Draw a bootstrap sample from the training data organized in our $\\boldsymbol{X}$ matrix.\n",
    "\n",
    "  * We grow then a random forest tree $T_b$ based on the bootstrapped data by repeating the steps outlined till we reach the maximum node size is reached\n",
    "\n",
    "1. we select $m \\le p$ variables at random from the $p$ predictors/features\n",
    "\n",
    "2. pick the best split point among the $m$ features using for example the CART algorithm and create a new node\n",
    "\n",
    "3. split the node into daughter nodes\n",
    "\n",
    "4. Output then the ensemble of trees $\\{T_b\\}_1^{B}$ and make predictions for either a regression type of problem or a classification type of problem."
   ]
  },
  {
   "cell_type": "markdown",
   "id": "56589894",
   "metadata": {},
   "source": [
    "## Random Forests Compared with other Methods on the Cancer Data"
   ]
  },
  {
   "cell_type": "code",
   "execution_count": 23,
   "id": "6d326205",
   "metadata": {},
   "outputs": [],
   "source": [
    "import matplotlib.pyplot as plt\n",
    "import numpy as np\n",
    "from sklearn.model_selection import  train_test_split \n",
    "from sklearn.datasets import load_breast_cancer\n",
    "from sklearn.svm import SVC\n",
    "from sklearn.linear_model import LogisticRegression\n",
    "from sklearn.tree import DecisionTreeClassifier\n",
    "from sklearn.ensemble import BaggingClassifier\n",
    "\n",
    "# Load the data\n",
    "cancer = load_breast_cancer()\n",
    "\n",
    "X_train, X_test, y_train, y_test = train_test_split(cancer.data,cancer.target,random_state=0)\n",
    "print(X_train.shape)\n",
    "print(X_test.shape)\n",
    "# Logistic Regression\n",
    "logreg = LogisticRegression(solver='lbfgs')\n",
    "logreg.fit(X_train, y_train)\n",
    "print(\"Test set accuracy with Logistic Regression: {:.2f}\".format(logreg.score(X_test,y_test)))\n",
    "# Support vector machine\n",
    "svm = SVC(gamma='auto', C=100)\n",
    "svm.fit(X_train, y_train)\n",
    "print(\"Test set accuracy with SVM: {:.2f}\".format(svm.score(X_test,y_test)))\n",
    "# Decision Trees\n",
    "deep_tree_clf = DecisionTreeClassifier(max_depth=None)\n",
    "deep_tree_clf.fit(X_train, y_train)\n",
    "print(\"Test set accuracy with Decision Trees: {:.2f}\".format(deep_tree_clf.score(X_test,y_test)))\n",
    "#now scale the data\n",
    "from sklearn.preprocessing import StandardScaler\n",
    "scaler = StandardScaler()\n",
    "scaler.fit(X_train)\n",
    "X_train_scaled = scaler.transform(X_train)\n",
    "X_test_scaled = scaler.transform(X_test)\n",
    "# Logistic Regression\n",
    "logreg.fit(X_train_scaled, y_train)\n",
    "print(\"Test set accuracy Logistic Regression with scaled data: {:.2f}\".format(logreg.score(X_test_scaled,y_test)))\n",
    "# Support Vector Machine\n",
    "svm.fit(X_train_scaled, y_train)\n",
    "print(\"Test set accuracy SVM with scaled data: {:.2f}\".format(logreg.score(X_test_scaled,y_test)))\n",
    "# Decision Trees\n",
    "deep_tree_clf.fit(X_train_scaled, y_train)\n",
    "print(\"Test set accuracy with Decision Trees and scaled data: {:.2f}\".format(deep_tree_clf.score(X_test_scaled,y_test)))\n",
    "\n",
    "\n",
    "from sklearn.ensemble import RandomForestClassifier\n",
    "from sklearn.preprocessing import LabelEncoder\n",
    "from sklearn.model_selection import cross_validate\n",
    "# Data set not specificied\n",
    "#Instantiate the model with 500 trees and entropy as splitting criteria\n",
    "Random_Forest_model = RandomForestClassifier(n_estimators=500,criterion=\"entropy\")\n",
    "Random_Forest_model.fit(X_train_scaled, y_train)\n",
    "#Cross validation\n",
    "accuracy = cross_validate(Random_Forest_model,X_test_scaled,y_test,cv=10)['test_score']\n",
    "print(accuracy)\n",
    "print(\"Test set accuracy with Random Forests and scaled data: {:.2f}\".format(Random_Forest_model.score(X_test_scaled,y_test)))\n",
    "\n",
    "\n",
    "import scikitplot as skplt\n",
    "y_pred = Random_Forest_model.predict(X_test_scaled)\n",
    "skplt.metrics.plot_confusion_matrix(y_test, y_pred, normalize=True)\n",
    "plt.show()\n",
    "y_probas = Random_Forest_model.predict_proba(X_test_scaled)\n",
    "skplt.metrics.plot_roc(y_test, y_probas)\n",
    "plt.show()\n",
    "skplt.metrics.plot_cumulative_gain(y_test, y_probas)\n",
    "plt.show()"
   ]
  },
  {
   "cell_type": "markdown",
   "id": "147dd974",
   "metadata": {},
   "source": [
    "Recall that the cumulative gains curve shows the percentage of the\n",
    "overall number of cases in a given category *gained* by targeting a\n",
    "percentage of the total number of cases.\n",
    "\n",
    "Similarly, the receiver operating characteristic curve, or ROC curve,\n",
    "displays the diagnostic ability of a binary classifier system as its\n",
    "discrimination threshold is varied. It plots the true positive rate against the false positive rate."
   ]
  },
  {
   "cell_type": "markdown",
   "id": "f9162cb5",
   "metadata": {},
   "source": [
    "## Compare  Bagging on Trees with Random Forests"
   ]
  },
  {
   "cell_type": "code",
   "execution_count": 24,
   "id": "3359897d",
   "metadata": {},
   "outputs": [],
   "source": [
    "bag_clf = BaggingClassifier(\n",
    "    DecisionTreeClassifier(splitter=\"random\", max_leaf_nodes=16, random_state=42),\n",
    "    n_estimators=500, max_samples=1.0, bootstrap=True, n_jobs=-1, random_state=42)"
   ]
  },
  {
   "cell_type": "code",
   "execution_count": 25,
   "id": "fac6da67",
   "metadata": {},
   "outputs": [],
   "source": [
    "bag_clf.fit(X_train, y_train)\n",
    "y_pred = bag_clf.predict(X_test)\n",
    "from sklearn.ensemble import RandomForestClassifier\n",
    "rnd_clf = RandomForestClassifier(n_estimators=500, max_leaf_nodes=16, n_jobs=-1, random_state=42)\n",
    "rnd_clf.fit(X_train, y_train)\n",
    "y_pred_rf = rnd_clf.predict(X_test)\n",
    "np.sum(y_pred == y_pred_rf) / len(y_pred)"
   ]
  },
  {
   "cell_type": "markdown",
   "id": "236ab1e3",
   "metadata": {},
   "source": [
    "## Boosting, a Bird's Eye View\n",
    "\n",
    "The basic idea is to combine weak classifiers in order to create a good\n",
    "classifier. With a weak classifier we often intend a classifier which\n",
    "produces results which are only slightly better than we would get by\n",
    "random guesses.\n",
    "\n",
    "This is done by applying in an iterative way a weak (or a standard\n",
    "classifier like decision trees) to modify the data. In each iteration\n",
    "we emphasize those observations which are misclassified by weighting\n",
    "them with a factor."
   ]
  },
  {
   "cell_type": "markdown",
   "id": "424e0843",
   "metadata": {},
   "source": [
    "## What is boosting? Additive Modelling/Iterative Fitting\n",
    "\n",
    "Boosting is a way of fitting an additive expansion in a set of\n",
    "elementary basis functions like for example some simple polynomials.\n",
    "Assume for example that we have a function"
   ]
  },
  {
   "cell_type": "markdown",
   "id": "5c2c6074",
   "metadata": {},
   "source": [
    "$$\n",
    "f_M(x) = \\sum_{i=1}^M \\beta_m b(x;\\gamma_m),\n",
    "$$"
   ]
  },
  {
   "cell_type": "markdown",
   "id": "f374a24b",
   "metadata": {},
   "source": [
    "where $\\beta_m$ are the expansion parameters to be determined in a\n",
    "minimization process and $b(x;\\gamma_m)$ are some simple functions of\n",
    "the multivariable parameter $x$ which is characterized by the\n",
    "parameters $\\gamma_m$.\n",
    "\n",
    "As an example, consider the Sigmoid function we used in logistic\n",
    "regression. In that case, we can translate the function\n",
    "$b(x;\\gamma_m)$ into the Sigmoid function"
   ]
  },
  {
   "cell_type": "markdown",
   "id": "ec77a4de",
   "metadata": {},
   "source": [
    "$$\n",
    "\\sigma(t) = \\frac{1}{1+\\exp{(-t)}},\n",
    "$$"
   ]
  },
  {
   "cell_type": "markdown",
   "id": "47aeac82",
   "metadata": {},
   "source": [
    "where $t=\\gamma_0+\\gamma_1 x$ and the parameters $\\gamma_0$ and\n",
    "$\\gamma_1$ were determined by the Logistic Regression fitting\n",
    "algorithm.\n",
    "\n",
    "As another example, consider the cost function we defined for linear regression"
   ]
  },
  {
   "cell_type": "markdown",
   "id": "71d7bac6",
   "metadata": {},
   "source": [
    "$$\n",
    "C(\\boldsymbol{y},\\boldsymbol{f}) = \\frac{1}{n} \\sum_{i=0}^{n-1}(y_i-f(x_i))^2.\n",
    "$$"
   ]
  },
  {
   "cell_type": "markdown",
   "id": "386ef484",
   "metadata": {},
   "source": [
    "In this case the function $f(x)$ was replaced by the design matrix\n",
    "$\\boldsymbol{X}$ and the unknown linear regression parameters $\\boldsymbol{\\beta}$,\n",
    "that is $\\boldsymbol{f}=\\boldsymbol{X}\\boldsymbol{\\beta}$. In linear regression we can \n",
    "simply invert a matrix and obtain the parameters $\\beta$ by"
   ]
  },
  {
   "cell_type": "markdown",
   "id": "e73f130e",
   "metadata": {},
   "source": [
    "$$\n",
    "\\boldsymbol{\\beta}=\\left(\\boldsymbol{X}^T\\boldsymbol{X}\\right)^{-1}\\boldsymbol{X}^T\\boldsymbol{y}.\n",
    "$$"
   ]
  },
  {
   "cell_type": "markdown",
   "id": "6bdf779b",
   "metadata": {},
   "source": [
    "In iterative fitting or additive modeling, we minimize the cost function with respect to the parameters $\\beta_m$ and $\\gamma_m$."
   ]
  },
  {
   "cell_type": "markdown",
   "id": "8d5acd31",
   "metadata": {},
   "source": [
    "## Iterative Fitting, Regression and Squared-error Cost Function\n",
    "\n",
    "The way we proceed is as follows (here we specialize to the squared-error cost function)\n",
    "\n",
    "1. Establish a cost function, here ${\\cal C}(\\boldsymbol{y},\\boldsymbol{f}) = \\frac{1}{n} \\sum_{i=0}^{n-1}(y_i-f_M(x_i))^2$ with $f_M(x) = \\sum_{i=1}^M \\beta_m b(x;\\gamma_m)$.\n",
    "\n",
    "2. Initialize with a guess $f_0(x)$. It could be one or even zero or some random numbers.\n",
    "\n",
    "3. For $m=1:M$\n",
    "\n",
    "a. minimize $\\sum_{i=0}^{n-1}(y_i-f_{m-1}(x_i)-\\beta b(x;\\gamma))^2$ wrt $\\gamma$ and $\\beta$\n",
    "\n",
    "b. This gives the optimal values $\\beta_m$ and $\\gamma_m$\n",
    "\n",
    "c. Determine then the new values $f_m(x)=f_{m-1}(x) +\\beta_m b(x;\\gamma_m)$\n",
    "\n",
    "We could use any of the algorithms we have discussed till now. If we\n",
    "use trees, $\\gamma$ parameterizes the split variables and split points\n",
    "at the internal nodes, and the predictions at the terminal nodes."
   ]
  },
  {
   "cell_type": "markdown",
   "id": "510fc0f7",
   "metadata": {},
   "source": [
    "## Squared-Error Example and Iterative Fitting\n",
    "\n",
    "To better understand what happens, let us develop the steps for the iterative fitting using the above squared error function.\n",
    "\n",
    "For simplicity we assume also that our functions $b(x;\\gamma)=1+\\gamma x$. \n",
    "\n",
    "This means that for every iteration $m$, we need to optimize"
   ]
  },
  {
   "cell_type": "markdown",
   "id": "40618652",
   "metadata": {},
   "source": [
    "$$\n",
    "(\\beta_m,\\gamma_m) = \\mathrm{argmin}_{\\beta,\\lambda}\\hspace{0.1cm} \\sum_{i=0}^{n-1}(y_i-f_{m-1}(x_i)-\\beta b(x;\\gamma))^2=\\sum_{i=0}^{n-1}(y_i-f_{m-1}(x_i)-\\beta(1+\\gamma x_i))^2.\n",
    "$$"
   ]
  },
  {
   "cell_type": "markdown",
   "id": "4a225c1e",
   "metadata": {},
   "source": [
    "We start our iteration by simply setting $f_0(x)=0$. \n",
    "Taking the derivatives  with respect to $\\beta$ and $\\gamma$ we obtain"
   ]
  },
  {
   "cell_type": "markdown",
   "id": "c57e04fd",
   "metadata": {},
   "source": [
    "$$\n",
    "\\frac{\\partial {\\cal C}}{\\partial \\beta} = -2\\sum_{i}(1+\\gamma x_i)(y_i-\\beta(1+\\gamma x_i))=0,\n",
    "$$"
   ]
  },
  {
   "cell_type": "markdown",
   "id": "51ece285",
   "metadata": {},
   "source": [
    "and"
   ]
  },
  {
   "cell_type": "markdown",
   "id": "027da958",
   "metadata": {},
   "source": [
    "$$\n",
    "\\frac{\\partial {\\cal C}}{\\partial \\gamma} =-2\\sum_{i}\\beta x_i(y_i-\\beta(1+\\gamma x_i))=0.\n",
    "$$"
   ]
  },
  {
   "cell_type": "markdown",
   "id": "edcf5852",
   "metadata": {},
   "source": [
    "We can then rewrite these equations as (defining $\\boldsymbol{w}=\\boldsymbol{e}+\\gamma \\boldsymbol{x})$ with $\\boldsymbol{e}$ being the unit vector)"
   ]
  },
  {
   "cell_type": "markdown",
   "id": "ac315a21",
   "metadata": {},
   "source": [
    "$$\n",
    "\\gamma \\boldsymbol{w}^T(\\boldsymbol{y}-\\beta\\gamma \\boldsymbol{w})=0,\n",
    "$$"
   ]
  },
  {
   "cell_type": "markdown",
   "id": "ecafd78c",
   "metadata": {},
   "source": [
    "which gives us $\\beta = \\boldsymbol{w}^T\\boldsymbol{y}/(\\boldsymbol{w}^T\\boldsymbol{w})$. Similarly we have"
   ]
  },
  {
   "cell_type": "markdown",
   "id": "3aa73aec",
   "metadata": {},
   "source": [
    "$$\n",
    "\\beta\\gamma \\boldsymbol{x}^T(\\boldsymbol{y}-\\beta(1+\\gamma \\boldsymbol{x}))=0,\n",
    "$$"
   ]
  },
  {
   "cell_type": "markdown",
   "id": "d100a2cc",
   "metadata": {},
   "source": [
    "which leads to $\\gamma =(\\boldsymbol{x}^T\\boldsymbol{y}-\\beta\\boldsymbol{x}^T\\boldsymbol{e})/(\\beta\\boldsymbol{x}^T\\boldsymbol{x})$.  Inserting\n",
    "for $\\beta$ gives us an equation for $\\gamma$. This is a non-linear equation in the unknown $\\gamma$ and has to be solved numerically. \n",
    "\n",
    "The solution to these two equations gives us in turn $\\beta_1$ and $\\gamma_1$ leading to the new expression for $f_1(x)$ as\n",
    "$f_1(x) = \\beta_1(1+\\gamma_1x)$. Doing this $M$ times results in our final estimate for the function $f$."
   ]
  },
  {
   "cell_type": "markdown",
   "id": "77d884ae",
   "metadata": {},
   "source": [
    "## Iterative Fitting, Classification and AdaBoost\n",
    "\n",
    "Let us consider a binary classification problem with two outcomes $y_i \\in \\{-1,1\\}$ and $i=0,1,2,\\dots,n-1$ as our set of\n",
    "observations. We define a classification function $G(x)$ which produces a prediction taking one or the other of the two values \n",
    "$\\{-1,1\\}$.\n",
    "\n",
    "The error rate of the training sample is then"
   ]
  },
  {
   "cell_type": "markdown",
   "id": "8ca1ea91",
   "metadata": {},
   "source": [
    "$$\n",
    "\\mathrm{\\overline{err}}=\\frac{1}{n} \\sum_{i=0}^{n-1} I(y_i\\ne G(x_i)).\n",
    "$$"
   ]
  },
  {
   "cell_type": "markdown",
   "id": "e9049241",
   "metadata": {},
   "source": [
    "The iterative procedure starts with defining a weak classifier whose\n",
    "error rate is barely better than random guessing.  The iterative\n",
    "procedure in boosting is to sequentially apply a  weak\n",
    "classification algorithm to repeatedly modified versions of the data\n",
    "producing a sequence of weak classifiers $G_m(x)$.\n",
    "\n",
    "Here we will express our  function $f(x)$ in terms of $G(x)$. That is"
   ]
  },
  {
   "cell_type": "markdown",
   "id": "df814eab",
   "metadata": {},
   "source": [
    "$$\n",
    "f_M(x) = \\sum_{i=1}^M \\beta_m b(x;\\gamma_m),\n",
    "$$"
   ]
  },
  {
   "cell_type": "markdown",
   "id": "afce22c9",
   "metadata": {},
   "source": [
    "will be a function of"
   ]
  },
  {
   "cell_type": "markdown",
   "id": "3eb3d253",
   "metadata": {},
   "source": [
    "$$\n",
    "G_M(x) = \\mathrm{sign} \\sum_{i=1}^M \\alpha_m G_m(x).\n",
    "$$"
   ]
  },
  {
   "cell_type": "markdown",
   "id": "db366472",
   "metadata": {},
   "source": [
    "## Adaptive Boosting, AdaBoost\n",
    "\n",
    "In our iterative procedure we define thus"
   ]
  },
  {
   "cell_type": "markdown",
   "id": "9c289506",
   "metadata": {},
   "source": [
    "$$\n",
    "f_m(x) = f_{m-1}(x)+\\beta_mG_m(x).\n",
    "$$"
   ]
  },
  {
   "cell_type": "markdown",
   "id": "b73caf81",
   "metadata": {},
   "source": [
    "The simplest possible cost function which leads (also simple from a computational point of view) to the AdaBoost algorithm is the\n",
    "exponential cost/loss function defined as"
   ]
  },
  {
   "cell_type": "markdown",
   "id": "e1497919",
   "metadata": {},
   "source": [
    "$$\n",
    "C(\\boldsymbol{y},\\boldsymbol{f}) = \\sum_{i=0}^{n-1}\\exp{(-y_i(f_{m-1}(x_i)+\\beta G(x_i))}.\n",
    "$$"
   ]
  },
  {
   "cell_type": "markdown",
   "id": "f61fe6a9",
   "metadata": {},
   "source": [
    "We optimize $\\beta$ and $G$ for each value of $m=1:M$ as we did in the regression case.\n",
    "This is normally done in two steps. Let us however first rewrite the cost function as"
   ]
  },
  {
   "cell_type": "markdown",
   "id": "4aef8601",
   "metadata": {},
   "source": [
    "$$\n",
    "C(\\boldsymbol{y},\\boldsymbol{f}) = \\sum_{i=0}^{n-1}w_i^{m}\\exp{(-y_i\\beta G(x_i))},\n",
    "$$"
   ]
  },
  {
   "cell_type": "markdown",
   "id": "c7165d54",
   "metadata": {},
   "source": [
    "where we have defined $w_i^m= \\exp{(-y_if_{m-1}(x_i))}$."
   ]
  },
  {
   "cell_type": "markdown",
   "id": "5cbade74",
   "metadata": {},
   "source": [
    "## Building up AdaBoost\n",
    "\n",
    "First, for any $\\beta > 0$, we optimize $G$ by setting"
   ]
  },
  {
   "cell_type": "markdown",
   "id": "a52cbd43",
   "metadata": {},
   "source": [
    "$$\n",
    "G_m(x) = \\mathrm{sign} \\sum_{i=0}^{n-1} w_i^m I(y_i \\ne G_(x_i)),\n",
    "$$"
   ]
  },
  {
   "cell_type": "markdown",
   "id": "3148496e",
   "metadata": {},
   "source": [
    "which is the classifier that minimizes the weighted error rate in predicting $y$.\n",
    "\n",
    "We can do this by rewriting"
   ]
  },
  {
   "cell_type": "markdown",
   "id": "9fda11b4",
   "metadata": {},
   "source": [
    "$$\n",
    "\\exp{-(\\beta)}\\sum_{y_i=G(x_i)}w_i^m+\\exp{(\\beta)}\\sum_{y_i\\ne G(x_i)}w_i^m,\n",
    "$$"
   ]
  },
  {
   "cell_type": "markdown",
   "id": "31ffcfd2",
   "metadata": {},
   "source": [
    "which can be rewritten as"
   ]
  },
  {
   "cell_type": "markdown",
   "id": "80616747",
   "metadata": {},
   "source": [
    "$$\n",
    "(\\exp{(\\beta)}-\\exp{-(\\beta)})\\sum_{i=0}^{n-1}w_i^mI(y_i\\ne G(x_i))+\\exp{(-\\beta)}\\sum_{i=0}^{n-1}w_i^m=0,\n",
    "$$"
   ]
  },
  {
   "cell_type": "markdown",
   "id": "8a9380dc",
   "metadata": {},
   "source": [
    "which leads to"
   ]
  },
  {
   "cell_type": "markdown",
   "id": "677ee319",
   "metadata": {},
   "source": [
    "$$\n",
    "\\beta_m = \\frac{1}{2}\\log{\\frac{1-\\mathrm{\\overline{err}}}{\\mathrm{\\overline{err}}}},\n",
    "$$"
   ]
  },
  {
   "cell_type": "markdown",
   "id": "6283c125",
   "metadata": {},
   "source": [
    "where we have redefined the error as"
   ]
  },
  {
   "cell_type": "markdown",
   "id": "0d7285ca",
   "metadata": {},
   "source": [
    "$$\n",
    "\\mathrm{\\overline{err}}_m=\\frac{1}{n}\\frac{\\sum_{i=0}^{n-1}w_i^mI(y_i\\ne G(x_i)}{\\sum_{i=0}^{n-1}w_i^m},\n",
    "$$"
   ]
  },
  {
   "cell_type": "markdown",
   "id": "bfce1bb9",
   "metadata": {},
   "source": [
    "which leads to an update of"
   ]
  },
  {
   "cell_type": "markdown",
   "id": "4a1d1f64",
   "metadata": {},
   "source": [
    "$$\n",
    "f_m(x) = f_{m-1}(x) +\\beta_m G_m(x).\n",
    "$$"
   ]
  },
  {
   "cell_type": "markdown",
   "id": "9a668f75",
   "metadata": {},
   "source": [
    "This leads to the new weights"
   ]
  },
  {
   "cell_type": "markdown",
   "id": "e2c4d42a",
   "metadata": {},
   "source": [
    "$$\n",
    "w_i^{m+1} = w_i^m \\exp{(-y_i\\beta_m G_m(x_i))}\n",
    "$$"
   ]
  },
  {
   "cell_type": "markdown",
   "id": "900679d9",
   "metadata": {},
   "source": [
    "## Adaptive boosting: AdaBoost, Basic Algorithm\n",
    "\n",
    "The algorithm here is rather straightforward. Assume that our weak\n",
    "classifier is a decision tree and we consider a binary set of outputs\n",
    "with $y_i \\in \\{-1,1\\}$ and $i=0,1,2,\\dots,n-1$ as our set of\n",
    "observations. Our design matrix is given in terms of the\n",
    "feature/predictor vectors\n",
    "$\\boldsymbol{X}=[\\boldsymbol{x}_0\\boldsymbol{x}_1\\dots\\boldsymbol{x}_{p-1}]$. Finally, we define also a\n",
    "classifier determined by our data via a function $G(x)$. This function tells us how well we are able to classify our outputs/targets $\\boldsymbol{y}$. \n",
    "\n",
    "We have already defined the misclassification error $\\mathrm{err}$ as"
   ]
  },
  {
   "cell_type": "markdown",
   "id": "a11f8c18",
   "metadata": {},
   "source": [
    "$$\n",
    "\\mathrm{err}=\\frac{1}{n}\\sum_{i=0}^{n-1}I(y_i\\ne G(x_i)),\n",
    "$$"
   ]
  },
  {
   "cell_type": "markdown",
   "id": "c9c47a57",
   "metadata": {},
   "source": [
    "where the function $I()$ is one if we misclassify and zero if we classify correctly."
   ]
  },
  {
   "cell_type": "markdown",
   "id": "7c9edb04",
   "metadata": {},
   "source": [
    "## Basic Steps of AdaBoost\n",
    "\n",
    "With the above definitions we are now ready to set up the algorithm for AdaBoost.\n",
    "The basic idea is to set up weights which will be used to scale the correctly classified and the misclassified cases.\n",
    "1. We start by initializing all weights to $w_i = 1/n$, with $i=0,1,2,\\dots n-1$. It is easy to see that we must have $\\sum_{i=0}^{n-1}w_i = 1$.\n",
    "\n",
    "2. We rewrite the misclassification error as"
   ]
  },
  {
   "cell_type": "markdown",
   "id": "7fdd3cbe",
   "metadata": {},
   "source": [
    "$$\n",
    "\\mathrm{\\overline{err}}_m=\\frac{\\sum_{i=0}^{n-1}w_i^m I(y_i\\ne G(x_i))}{\\sum_{i=0}^{n-1}w_i},\n",
    "$$"
   ]
  },
  {
   "cell_type": "markdown",
   "id": "8c5b40a7",
   "metadata": {},
   "source": [
    "1. Then we start looping over all attempts at classifying, namely we start an iterative process for $m=1:M$, where $M$ is the final number of classifications. Our given classifier could for example be a plain decision tree.\n",
    "\n",
    "a. Fit then a given classifier to the training set using the weights $w_i$.\n",
    "\n",
    "b. Compute then $\\mathrm{err}$ and figure out which events are classified properly and which are classified wrongly.\n",
    "\n",
    "c. Define a quantity $\\alpha_{m} = \\log{(1-\\mathrm{\\overline{err}}_m)/\\mathrm{\\overline{err}}_m}$\n",
    "\n",
    "d. Set the new weights to $w_i = w_i\\times \\exp{(\\alpha_m I(y_i\\ne G(x_i)}$.\n",
    "\n",
    "5. Compute the new classifier $G(x)= \\sum_{i=0}^{n-1}\\alpha_m I(y_i\\ne G(x_i)$.\n",
    "\n",
    "For the iterations with $m \\le 2$ the weights are modified\n",
    "individually at each steps. The observations which were misclassified\n",
    "at iteration $m-1$ have a weight which is larger than those which were\n",
    "classified properly. As this proceeds, the observations which were\n",
    "difficult to classifiy correctly are given a larger influence. Each\n",
    "new classification step $m$ is then forced to concentrate on those\n",
    "observations that are missed in the previous iterations."
   ]
  },
  {
   "cell_type": "markdown",
   "id": "f5a2468f",
   "metadata": {},
   "source": [
    "## AdaBoost Examples\n",
    "\n",
    "Using **Scikit-Learn** it is easy to apply the adaptive boosting algorithm, as done here."
   ]
  },
  {
   "cell_type": "code",
   "execution_count": 26,
   "id": "3c538b9c",
   "metadata": {},
   "outputs": [],
   "source": [
    "from sklearn.ensemble import AdaBoostClassifier\n",
    "\n",
    "ada_clf = AdaBoostClassifier(\n",
    "    DecisionTreeClassifier(max_depth=1), n_estimators=200,\n",
    "    algorithm=\"SAMME.R\", learning_rate=0.5, random_state=42)\n",
    "ada_clf.fit(X_train, y_train)\n",
    "\n",
    "from sklearn.ensemble import AdaBoostClassifier\n",
    "\n",
    "ada_clf = AdaBoostClassifier(\n",
    "    DecisionTreeClassifier(max_depth=1), n_estimators=200,\n",
    "    algorithm=\"SAMME.R\", learning_rate=0.5, random_state=42)\n",
    "ada_clf.fit(X_train_scaled, y_train)\n",
    "y_pred = ada_clf.predict(X_test_scaled)\n",
    "skplt.metrics.plot_confusion_matrix(y_test, y_pred, normalize=True)\n",
    "plt.show()\n",
    "y_probas = ada_clf.predict_proba(X_test_scaled)\n",
    "skplt.metrics.plot_roc(y_test, y_probas)\n",
    "plt.show()\n",
    "skplt.metrics.plot_cumulative_gain(y_test, y_probas)\n",
    "plt.show()"
   ]
  },
  {
   "cell_type": "markdown",
   "id": "944755d2",
   "metadata": {},
   "source": [
    "## Gradient boosting: Basics with Steepest Descent/Functional Gradient Descent\n",
    "\n",
    "Gradient boosting is again a similar technique to Adaptive boosting,\n",
    "it combines so-called weak classifiers or regressors into a strong\n",
    "method via a series of iterations.\n",
    "\n",
    "In order to understand the method, let us illustrate its basics by\n",
    "bringing back the essential steps in linear regression, where our cost\n",
    "function was the least squares function."
   ]
  },
  {
   "cell_type": "markdown",
   "id": "1db01624",
   "metadata": {},
   "source": [
    "## The Squared-Error again! Steepest Descent\n",
    "\n",
    "We start again with our cost function ${\\cal C}(\\boldsymbol{y}m\\boldsymbol{f})=\\sum_{i=0}^{n-1}{\\cal L}(y_i, f(x_i))$ where we want to minimize\n",
    "This means that for every iteration, we need to optimize"
   ]
  },
  {
   "cell_type": "markdown",
   "id": "9f1e977e",
   "metadata": {},
   "source": [
    "$$\n",
    "(\\hat{\\boldsymbol{f}}) = \\mathrm{argmin}_{\\boldsymbol{f}}\\hspace{0.1cm} \\sum_{i=0}^{n-1}(y_i-f(x_i))^2.\n",
    "$$"
   ]
  },
  {
   "cell_type": "markdown",
   "id": "ad07aa37",
   "metadata": {},
   "source": [
    "We define a real function $h_m(x)$ that defines our final function $f_M(x)$ as"
   ]
  },
  {
   "cell_type": "markdown",
   "id": "6c5e51f2",
   "metadata": {},
   "source": [
    "$$\n",
    "f_M(x) = \\sum_{m=0}^M h_m(x).\n",
    "$$"
   ]
  },
  {
   "cell_type": "markdown",
   "id": "ff8db114",
   "metadata": {},
   "source": [
    "In the steepest decent approach we approximate $h_m(x) = -\\rho_m g_m(x)$, where $\\rho_m$ is a scalar and $g_m(x)$ the gradient defined as"
   ]
  },
  {
   "cell_type": "markdown",
   "id": "57a1832e",
   "metadata": {},
   "source": [
    "$$\n",
    "g_m(x_i) = \\left[ \\frac{\\partial {\\cal L}(y_i, f(x_i))}{\\partial f(x_i)}\\right]_{f(x_i)=f_{m-1}(x_i)}.\n",
    "$$"
   ]
  },
  {
   "cell_type": "markdown",
   "id": "f2d02473",
   "metadata": {},
   "source": [
    "With the new gradient we can update $f_m(x) = f_{m-1}(x) -\\rho_m g_m(x)$. Using the above squared-error function we see that\n",
    "the gradient is $g_m(x_i) = -2(y_i-f(x_i))$.\n",
    "\n",
    "Choosing $f_0(x)=0$ we obtain $g_m(x) = -2y_i$ and inserting this into the minimization problem for the cost function we have"
   ]
  },
  {
   "cell_type": "markdown",
   "id": "69d68822",
   "metadata": {},
   "source": [
    "$$\n",
    "(\\rho_1) = \\mathrm{argmin}_{\\rho}\\hspace{0.1cm} \\sum_{i=0}^{n-1}(y_i+2\\rho y_i)^2.\n",
    "$$"
   ]
  },
  {
   "cell_type": "markdown",
   "id": "536cae62",
   "metadata": {},
   "source": [
    "## Steepest Descent Example\n",
    "\n",
    "Optimizing with respect to $\\rho$ we obtain (taking the derivative) that $\\rho_1 = -1/2$. We have then that"
   ]
  },
  {
   "cell_type": "markdown",
   "id": "7afeb185",
   "metadata": {},
   "source": [
    "$$\n",
    "f_1(x) = f_{0}(x) -\\rho_1 g_1(x)=-y_i.\n",
    "$$"
   ]
  },
  {
   "cell_type": "markdown",
   "id": "7b64caef",
   "metadata": {},
   "source": [
    "We can then proceed and compute"
   ]
  },
  {
   "cell_type": "markdown",
   "id": "ec411555",
   "metadata": {},
   "source": [
    "$$\n",
    "g_2(x_i) = \\left[ \\frac{\\partial {\\cal L}(y_i, f(x_i))}{\\partial f(x_i)}\\right]_{f(x_i)=f_{1}(x_i)=y_i}=-4y_i,\n",
    "$$"
   ]
  },
  {
   "cell_type": "markdown",
   "id": "df5d8340",
   "metadata": {},
   "source": [
    "and find a new value for $\\rho_2=-1/2$ and continue till we have reached $m=M$. We can modify the steepest descent method, or steepest boosting, by introducing what is called **gradient boosting**."
   ]
  },
  {
   "cell_type": "markdown",
   "id": "8148cb91",
   "metadata": {},
   "source": [
    "## Gradient Boosting, algorithm\n",
    "\n",
    "Steepest descent is however not much used, since it only optimizes $f$ at a fixed set of $n$ points,\n",
    "so we do not learn a function that can generalize. However, we can modify the algorithm by\n",
    "fitting a weak learner to approximate the negative gradient signal. \n",
    "\n",
    "Suppose we have a cost function $C(f)=\\sum_{i=0}^{n-1}L(y_i, f(x_i))$ where $y_i$ is our target and $f(x_i)$ the function which is meant to model $y_i$. The above cost function could be our standard  squared-error  function"
   ]
  },
  {
   "cell_type": "markdown",
   "id": "4559496b",
   "metadata": {},
   "source": [
    "$$\n",
    "C(\\boldsymbol{y},\\boldsymbol{f})=\\sum_{i=0}^{n-1}(y_i-f(x_i))^2.\n",
    "$$"
   ]
  },
  {
   "cell_type": "markdown",
   "id": "70dd086e",
   "metadata": {},
   "source": [
    "The way we proceed in an iterative fashion is to\n",
    "1. Initialize our estimate $f_0(x)$.\n",
    "\n",
    "2. For $m=1:M$, we\n",
    "\n",
    "a. compute the negative gradient vector $\\boldsymbol{u}_m = -\\partial C(\\boldsymbol{y},\\boldsymbol{f})/\\partial \\boldsymbol{f}(x)$ at $f(x) = f_{m-1}(x)$;\n",
    "\n",
    "b. fit the so-called base-learner to the negative gradient $h_m(u_m,x)$;\n",
    "\n",
    "c. update the estimate $f_m(x) = f_{m-1}(x)+h_m(u_m,x)$;\n",
    "\n",
    "4. The final estimate is then $f_M(x) = \\sum_{m=1}^M h_m(u_m,x)$."
   ]
  },
  {
   "cell_type": "markdown",
   "id": "d27d3ddf",
   "metadata": {},
   "source": [
    "## Gradient Boosting, Examples of Regression"
   ]
  },
  {
   "cell_type": "code",
   "execution_count": 27,
   "id": "40bb2103",
   "metadata": {},
   "outputs": [],
   "source": [
    "import matplotlib.pyplot as plt\n",
    "import numpy as np\n",
    "from sklearn.model_selection import train_test_split\n",
    "from sklearn.ensemble import GradientBoostingRegressor\n",
    "from sklearn.preprocessing import StandardScaler\n",
    "import scikitplot as skplt\n",
    "from sklearn.metrics import mean_squared_error\n",
    "\n",
    "n = 100\n",
    "maxdegree = 6\n",
    "\n",
    "# Make data set.\n",
    "x = np.linspace(-3, 3, n).reshape(-1, 1)\n",
    "y = np.exp(-x**2) + 1.5 * np.exp(-(x-2)**2)+ np.random.normal(0, 0.1, x.shape)\n",
    "\n",
    "error = np.zeros(maxdegree)\n",
    "bias = np.zeros(maxdegree)\n",
    "variance = np.zeros(maxdegree)\n",
    "polydegree = np.zeros(maxdegree)\n",
    "X_train, X_test, y_train, y_test = train_test_split(x, y, test_size=0.2)\n",
    "scaler = StandardScaler()\n",
    "scaler.fit(X_train)\n",
    "X_train_scaled = scaler.transform(X_train)\n",
    "X_test_scaled = scaler.transform(X_test)\n",
    "\n",
    "for degree in range(1,maxdegree):\n",
    "    model = GradientBoostingRegressor(max_depth=degree, n_estimators=100, learning_rate=1.0)  \n",
    "    model.fit(X_train_scaled,y_train)\n",
    "    y_pred = model.predict(X_test_scaled)\n",
    "    polydegree[degree] = degree\n",
    "    error[degree] = np.mean( np.mean((y_test - y_pred)**2) )\n",
    "    bias[degree] = np.mean( (y_test - np.mean(y_pred))**2 )\n",
    "    variance[degree] = np.mean( np.var(y_pred) )\n",
    "    print('Max depth:', degree)\n",
    "    print('Error:', error[degree])\n",
    "    print('Bias^2:', bias[degree])\n",
    "    print('Var:', variance[degree])\n",
    "    print('{} >= {} + {} = {}'.format(error[degree], bias[degree], variance[degree], bias[degree]+variance[degree]))\n",
    "\n",
    "plt.xlim(1,maxdegree-1)\n",
    "plt.plot(polydegree, error, label='Error')\n",
    "plt.plot(polydegree, bias, label='bias')\n",
    "plt.plot(polydegree, variance, label='Variance')\n",
    "plt.legend()\n",
    "save_fig(\"gdregression\")\n",
    "plt.show()"
   ]
  },
  {
   "cell_type": "markdown",
   "id": "570d4c86",
   "metadata": {},
   "source": [
    "## Gradient Boosting, Classification Example"
   ]
  },
  {
   "cell_type": "code",
   "execution_count": 28,
   "id": "2356e9e9",
   "metadata": {},
   "outputs": [],
   "source": [
    "import matplotlib.pyplot as plt\n",
    "import numpy as np\n",
    "from sklearn.model_selection import  train_test_split \n",
    "from sklearn.datasets import load_breast_cancer\n",
    "import scikitplot as skplt\n",
    "from sklearn.ensemble import GradientBoostingClassifier\n",
    "from sklearn.model_selection import cross_validate\n",
    "\n",
    "# Load the data\n",
    "cancer = load_breast_cancer()\n",
    "\n",
    "X_train, X_test, y_train, y_test = train_test_split(cancer.data,cancer.target,random_state=0)\n",
    "print(X_train.shape)\n",
    "print(X_test.shape)\n",
    "#now scale the data\n",
    "from sklearn.preprocessing import StandardScaler\n",
    "scaler = StandardScaler()\n",
    "scaler.fit(X_train)\n",
    "X_train_scaled = scaler.transform(X_train)\n",
    "X_test_scaled = scaler.transform(X_test)\n",
    "\n",
    "gd_clf = GradientBoostingClassifier(max_depth=3, n_estimators=100, learning_rate=1.0)  \n",
    "gd_clf.fit(X_train_scaled, y_train)\n",
    "#Cross validation\n",
    "accuracy = cross_validate(gd_clf,X_test_scaled,y_test,cv=10)['test_score']\n",
    "print(accuracy)\n",
    "print(\"Test set accuracy with Random Forests and scaled data: {:.2f}\".format(gd_clf.score(X_test_scaled,y_test)))\n",
    "\n",
    "import scikitplot as skplt\n",
    "y_pred = gd_clf.predict(X_test_scaled)\n",
    "skplt.metrics.plot_confusion_matrix(y_test, y_pred, normalize=True)\n",
    "save_fig(\"gdclassiffierconfusion\")\n",
    "plt.show()\n",
    "y_probas = gd_clf.predict_proba(X_test_scaled)\n",
    "skplt.metrics.plot_roc(y_test, y_probas)\n",
    "save_fig(\"gdclassiffierroc\")\n",
    "plt.show()\n",
    "skplt.metrics.plot_cumulative_gain(y_test, y_probas)\n",
    "save_fig(\"gdclassiffiercgain\")\n",
    "plt.show()"
   ]
  },
  {
   "cell_type": "markdown",
   "id": "eb735817",
   "metadata": {},
   "source": [
    "## XGBoost: Extreme Gradient Boosting\n",
    "\n",
    "[XGBoost](https://github.com/dmlc/xgboost) or Extreme Gradient\n",
    "Boosting, is an optimized distributed gradient boosting library\n",
    "designed to be highly efficient, flexible and portable. It implements\n",
    "machine learning algorithms under the Gradient Boosting\n",
    "framework. XGBoost provides a parallel tree boosting that solve many\n",
    "data science problems in a fast and accurate way. See the [article by Chen and Guestrin](https://arxiv.org/abs/1603.02754).\n",
    "\n",
    "The authors design and build a highly scalable end-to-end tree\n",
    "boosting system. It has  a theoretically justified weighted quantile\n",
    "sketch for efficient proposal calculation. It introduces a novel sparsity-aware algorithm for parallel tree learning and an effective cache-aware block structure for out-of-core tree learning.\n",
    "\n",
    "It is now the algorithm which wins essentially all ML competitions!!!"
   ]
  },
  {
   "cell_type": "markdown",
   "id": "5a6da2c1",
   "metadata": {},
   "source": [
    "## Regression Case"
   ]
  },
  {
   "cell_type": "code",
   "execution_count": 29,
   "id": "bfa7cf73",
   "metadata": {},
   "outputs": [],
   "source": [
    "import matplotlib.pyplot as plt\n",
    "import numpy as np\n",
    "from sklearn.model_selection import train_test_split\n",
    "import xgboost as xgb\n",
    "from sklearn.preprocessing import StandardScaler\n",
    "import scikitplot as skplt\n",
    "from sklearn.metrics import mean_squared_error\n",
    "\n",
    "n = 100\n",
    "maxdegree = 6\n",
    "\n",
    "# Make data set.\n",
    "x = np.linspace(-3, 3, n).reshape(-1, 1)\n",
    "y = np.exp(-x**2) + 1.5 * np.exp(-(x-2)**2)+ np.random.normal(0, 0.1, x.shape)\n",
    "\n",
    "error = np.zeros(maxdegree)\n",
    "bias = np.zeros(maxdegree)\n",
    "variance = np.zeros(maxdegree)\n",
    "polydegree = np.zeros(maxdegree)\n",
    "X_train, X_test, y_train, y_test = train_test_split(x, y, test_size=0.2)\n",
    "scaler = StandardScaler()\n",
    "scaler.fit(X_train)\n",
    "X_train_scaled = scaler.transform(X_train)\n",
    "X_test_scaled = scaler.transform(X_test)\n",
    "\n",
    "for degree in range(maxdegree):\n",
    "    model =  xgb.XGBRegressor(objective ='reg:squarederror', colsaobjective ='reg:squarederror', colsample_bytree = 0.3, learning_rate = 0.1,max_depth = degree, alpha = 10, n_estimators = 200)\n",
    "\n",
    "    model.fit(X_train_scaled,y_train)\n",
    "    y_pred = model.predict(X_test_scaled)\n",
    "    polydegree[degree] = degree\n",
    "    error[degree] = np.mean( np.mean((y_test - y_pred)**2) )\n",
    "    bias[degree] = np.mean( (y_test - np.mean(y_pred))**2 )\n",
    "    variance[degree] = np.mean( np.var(y_pred) )\n",
    "    print('Max depth:', degree)\n",
    "    print('Error:', error[degree])\n",
    "    print('Bias^2:', bias[degree])\n",
    "    print('Var:', variance[degree])\n",
    "    print('{} >= {} + {} = {}'.format(error[degree], bias[degree], variance[degree], bias[degree]+variance[degree]))\n",
    "\n",
    "plt.xlim(1,maxdegree-1)\n",
    "plt.plot(polydegree, error, label='Error')\n",
    "plt.plot(polydegree, bias, label='bias')\n",
    "plt.plot(polydegree, variance, label='Variance')\n",
    "plt.legend()\n",
    "plt.show()"
   ]
  },
  {
   "cell_type": "markdown",
   "id": "5ad2e9bc",
   "metadata": {},
   "source": [
    "## Xgboost on the Cancer Data\n",
    "\n",
    "As you will see from the confusion matrix below, XGBoots does an excellent job on the Wisconsin cancer data and outperforms essentially all agorithms we have discussed till now."
   ]
  },
  {
   "cell_type": "code",
   "execution_count": 30,
   "id": "df6c15d0",
   "metadata": {},
   "outputs": [],
   "source": [
    "\n",
    "import matplotlib.pyplot as plt\n",
    "import numpy as np\n",
    "from sklearn.model_selection import  train_test_split \n",
    "from sklearn.datasets import load_breast_cancer\n",
    "from sklearn.preprocessing import LabelEncoder\n",
    "from sklearn.model_selection import cross_validate\n",
    "import scikitplot as skplt\n",
    "import xgboost as xgb\n",
    "# Load the data\n",
    "cancer = load_breast_cancer()\n",
    "\n",
    "X_train, X_test, y_train, y_test = train_test_split(cancer.data,cancer.target,random_state=0)\n",
    "print(X_train.shape)\n",
    "print(X_test.shape)\n",
    "#now scale the data\n",
    "from sklearn.preprocessing import StandardScaler\n",
    "scaler = StandardScaler()\n",
    "scaler.fit(X_train)\n",
    "X_train_scaled = scaler.transform(X_train)\n",
    "X_test_scaled = scaler.transform(X_test)\n",
    "\n",
    "xg_clf = xgb.XGBClassifier()\n",
    "xg_clf.fit(X_train_scaled,y_train)\n",
    "\n",
    "y_test = xg_clf.predict(X_test_scaled)\n",
    "\n",
    "print(\"Test set accuracy with Random Forests and scaled data: {:.2f}\".format(xg_clf.score(X_test_scaled,y_test)))\n",
    "\n",
    "import scikitplot as skplt\n",
    "y_pred = xg_clf.predict(X_test_scaled)\n",
    "skplt.metrics.plot_confusion_matrix(y_test, y_pred, normalize=True)\n",
    "save_fig(\"xdclassiffierconfusion\")\n",
    "plt.show()\n",
    "y_probas = xg_clf.predict_proba(X_test_scaled)\n",
    "skplt.metrics.plot_roc(y_test, y_probas)\n",
    "save_fig(\"xdclassiffierroc\")\n",
    "plt.show()\n",
    "skplt.metrics.plot_cumulative_gain(y_test, y_probas)\n",
    "save_fig(\"gdclassiffiercgain\")\n",
    "plt.show()\n",
    "\n",
    "\n",
    "xgb.plot_tree(xg_clf,num_trees=0)\n",
    "plt.rcParams['figure.figsize'] = [50, 10]\n",
    "save_fig(\"xgtree\")\n",
    "plt.show()\n",
    "\n",
    "xgb.plot_importance(xg_clf)\n",
    "plt.rcParams['figure.figsize'] = [5, 5]\n",
    "save_fig(\"xgparams\")\n",
    "plt.show()"
   ]
  }
 ],
 "metadata": {
  "kernelspec": {
   "display_name": "Python 3",
   "language": "python",
   "name": "python3"
  },
  "language_info": {
   "codemirror_mode": {
    "name": "ipython",
    "version": 3
   },
   "file_extension": ".py",
   "mimetype": "text/x-python",
   "name": "python",
   "nbconvert_exporter": "python",
   "pygments_lexer": "ipython3",
   "version": "3.8.8"
  }
 },
 "nbformat": 4,
 "nbformat_minor": 5
}
