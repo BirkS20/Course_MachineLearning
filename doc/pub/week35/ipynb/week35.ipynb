{
 "cells": [
  {
   "cell_type": "markdown",
   "id": "82c2f725",
   "metadata": {
    "editable": true
   },
   "source": [
    "<!-- HTML file automatically generated from DocOnce source (https://github.com/doconce/doconce/)\n",
    "doconce format html week35.do.txt --no_mako -->\n",
    "<!-- dom:TITLE: Week 35: From Ordinary Linear Regression to Ridge and Lasso Regression -->"
   ]
  },
  {
   "cell_type": "markdown",
   "id": "d2fc786b",
   "metadata": {
    "editable": true
   },
   "source": [
    "# Week 35: From Ordinary Linear Regression to Ridge and Lasso Regression\n",
    "**Morten Hjorth-Jensen**, Department of Physics, University of Oslo\n",
    "\n",
    "Date: **August 25-29, 2025**"
   ]
  },
  {
   "cell_type": "markdown",
   "id": "77512f33",
   "metadata": {
    "editable": true
   },
   "source": [
    "## Plans for week 35\n",
    "\n",
    "The main topics are:\n",
    "\n",
    "1. Brief repetition from last week\n",
    "\n",
    "2. Discussions  of the equations for ordinary least squares (**OLS**)\n",
    "\n",
    "3. Discussion on how to prepare data and examples of applications of linear regression\n",
    "\n",
    "4. Mathematical interpretations of OLS\n",
    "\n",
    "5. Introduction of Ridge and Lasso regression"
   ]
  },
  {
   "cell_type": "markdown",
   "id": "41516757",
   "metadata": {
    "editable": true
   },
   "source": [
    "### Reading recommendations:\n",
    "\n",
    "1. These lecture notes\n",
    "<!-- o [Video of lecture](https://youtu.be/VKakN-e4aUA) -->\n",
    "<!-- o [Video for exercises week 35](https://youtu.be/yiY0OltU1s8) -->\n",
    "\n",
    "2. Goodfellow, Bengio and Courville, Deep Learning, chapter 2 on linear algebra\n",
    "\n",
    "3. Raschka et al on preprocessing of data, relevant for exercise 3 this week, see chapter 4.\n",
    "\n",
    "4. For exercise 1 of week 35, the book by A. Aldo Faisal, Cheng Soon Ong, and Marc Peter Deisenroth on the Mathematics of Machine Learning, may be very relevant. In particular chapter 5 at URL\"https://mml-book.github.io/\" (section 5.5 on derivatives) is very useful for exercise 1 this coming week."
   ]
  },
  {
   "cell_type": "markdown",
   "id": "d3703d2f",
   "metadata": {
    "editable": true
   },
   "source": [
    "## Reminder from last week\n",
    "\n",
    "We need first a reminder from last week about linear regression. We are going to fit a continuous function with linear parameterization in terms of the parameters  $\\boldsymbol{\\theta}$ and our first encounter is ordinary least squares.\n",
    "\n",
    "* It is the method of choice for fitting a continuous function\n",
    "\n",
    "* Gives an excellent introduction to central Machine Learning features with **understandable pedagogical** links to other methods like **Neural Networks**, **Support Vector Machines** etc\n",
    "\n",
    "* Analytical expression for the fitting parameters $\\boldsymbol{\\theta}$\n",
    "\n",
    "* Analytical expressions for statistical propertiers like mean values, variances, confidence intervals and more\n",
    "\n",
    "* Analytical relation with probabilistic interpretations \n",
    "\n",
    "* Easy to introduce basic concepts like bias-variance tradeoff, cross-validation, resampling and regularization techniques and many other ML topics\n",
    "\n",
    "* Easy to code! And links well with classification problems and logistic regression and neural networks\n",
    "\n",
    "* Allows for **easy** hands-on understanding of gradient descent methods\n",
    "\n",
    "* and many more features\n",
    "\n",
    "For more discussions of Ridge and Lasso regression, [Wessel van Wieringen's](https://arxiv.org/abs/1509.09169) article is highly recommended.\n",
    "Similarly, [Mehta et al's article](https://arxiv.org/abs/1803.08823) is also recommended."
   ]
  },
  {
   "cell_type": "markdown",
   "id": "f22b90af",
   "metadata": {
    "editable": true
   },
   "source": [
    "## The equations for ordinary least squares\n",
    "\n",
    "Our data which we want to apply a machine learning method on, consist\n",
    "of a set of inputs $\\boldsymbol{x}^T=[x_0,x_1,x_2,\\dots,x_{n-1}]$ and the\n",
    "outputs we want to model $\\boldsymbol{y}^T=[y_0,y_1,y_2,\\dots,y_{n-1}]$.\n",
    "We assume  that the output data can be represented (for a regression case) by a continuous function $f$\n",
    "through"
   ]
  },
  {
   "cell_type": "markdown",
   "id": "3fe305bb",
   "metadata": {
    "editable": true
   },
   "source": [
    "$$\n",
    "y_i=f(x_i)+\\epsilon_i,\n",
    "$$"
   ]
  },
  {
   "cell_type": "markdown",
   "id": "f2f38355",
   "metadata": {
    "editable": true
   },
   "source": [
    "or in general"
   ]
  },
  {
   "cell_type": "markdown",
   "id": "c3d9a4b6",
   "metadata": {
    "editable": true
   },
   "source": [
    "$$\n",
    "\\boldsymbol{y}=f(\\boldsymbol{x})+\\boldsymbol{\\epsilon},\n",
    "$$"
   ]
  },
  {
   "cell_type": "markdown",
   "id": "ff3ba043",
   "metadata": {
    "editable": true
   },
   "source": [
    "where $\\boldsymbol{\\epsilon}$ represents some noise which is normally assumed to\n",
    "be distributed via a normal probability distribution with zero mean\n",
    "value and a variance $\\sigma^2$.\n",
    "\n",
    "In linear regression we approximate the unknown function with another\n",
    "continuous function $\\tilde{\\boldsymbol{y}}(\\boldsymbol{x})$ which depends linearly on\n",
    "some unknown parameters\n",
    "$\\boldsymbol{\\theta}^T=[\\theta_0,\\theta_1,\\theta_2,\\dots,\\theta_{p-1}]$.\n",
    "\n",
    "Last week we introduced the so-called design matrix in order to define\n",
    "the approximation $\\boldsymbol{\\tilde{y}}$ via the unknown quantity\n",
    "$\\boldsymbol{\\theta}$ as"
   ]
  },
  {
   "cell_type": "markdown",
   "id": "5de294d5",
   "metadata": {
    "editable": true
   },
   "source": [
    "$$\n",
    "\\boldsymbol{\\tilde{y}}= \\boldsymbol{X}\\boldsymbol{\\theta},\n",
    "$$"
   ]
  },
  {
   "cell_type": "markdown",
   "id": "5721942a",
   "metadata": {
    "editable": true
   },
   "source": [
    "and in order to find the optimal parameters $\\theta_i$ we defined a function which\n",
    "gives a measure of the spread between the values $y_i$ (which\n",
    "represent the output values we want to reproduce) and the parametrized\n",
    "values $\\tilde{y}_i$, namely the so-called cost/loss function."
   ]
  },
  {
   "cell_type": "markdown",
   "id": "2b2aa843",
   "metadata": {
    "editable": true
   },
   "source": [
    "## The cost/loss function\n",
    "\n",
    "We used the mean squared error to define the way we measure the quality of our model"
   ]
  },
  {
   "cell_type": "markdown",
   "id": "2b12c06f",
   "metadata": {
    "editable": true
   },
   "source": [
    "$$\n",
    "C(\\boldsymbol{\\theta})=\\frac{1}{n}\\sum_{i=0}^{n-1}\\left(y_i-\\tilde{y}_i\\right)^2=\\frac{1}{n}\\left\\{\\left(\\boldsymbol{y}-\\boldsymbol{\\tilde{y}}\\right)^T\\left(\\boldsymbol{y}-\\boldsymbol{\\tilde{y}}\\right)\\right\\},\n",
    "$$"
   ]
  },
  {
   "cell_type": "markdown",
   "id": "276d4eba",
   "metadata": {
    "editable": true
   },
   "source": [
    "or using the matrix $\\boldsymbol{X}$ and in a more compact matrix-vector notation as"
   ]
  },
  {
   "cell_type": "markdown",
   "id": "4751c9b4",
   "metadata": {
    "editable": true
   },
   "source": [
    "$$\n",
    "C(\\boldsymbol{\\theta})=\\frac{1}{n}\\left\\{\\left(\\boldsymbol{y}-\\boldsymbol{X}\\boldsymbol{\\theta}\\right)^T\\left(\\boldsymbol{y}-\\boldsymbol{X}\\boldsymbol{\\theta}\\right)\\right\\}.\n",
    "$$"
   ]
  },
  {
   "cell_type": "markdown",
   "id": "dd00bf4b",
   "metadata": {
    "editable": true
   },
   "source": [
    "This function represents one of many possible ways to define the so-called cost function.\n",
    "\n",
    "It is also common to define\n",
    "the function $C$ as"
   ]
  },
  {
   "cell_type": "markdown",
   "id": "bc9028f0",
   "metadata": {
    "editable": true
   },
   "source": [
    "$$\n",
    "C(\\boldsymbol{\\theta})=\\frac{1}{2n}\\sum_{i=0}^{n-1}\\left(y_i-\\tilde{y}_i\\right)^2,\n",
    "$$"
   ]
  },
  {
   "cell_type": "markdown",
   "id": "d6a27e54",
   "metadata": {
    "editable": true
   },
   "source": [
    "since when taking the first derivative with respect to the unknown parameters $\\theta$, the factor of $2$ cancels out."
   ]
  },
  {
   "cell_type": "markdown",
   "id": "82f1494a",
   "metadata": {
    "editable": true
   },
   "source": [
    "## Interpretations and optimizing our parameters\n",
    "\n",
    "The function"
   ]
  },
  {
   "cell_type": "markdown",
   "id": "d6427a35",
   "metadata": {
    "editable": true
   },
   "source": [
    "$$\n",
    "C(\\boldsymbol{\\theta})=\\frac{1}{n}\\left\\{\\left(\\boldsymbol{y}-\\boldsymbol{X}\\boldsymbol{\\theta}\\right)^T\\left(\\boldsymbol{y}-\\boldsymbol{X}\\boldsymbol{\\theta}\\right)\\right\\},\n",
    "$$"
   ]
  },
  {
   "cell_type": "markdown",
   "id": "38c78421",
   "metadata": {
    "editable": true
   },
   "source": [
    "can be linked to the variance of the quantity $y_i$ if we interpret the latter as the mean value. \n",
    "When linking (see the discussions next week) with the maximum likelihood approach below, we will indeed interpret $y_i$ as a mean value"
   ]
  },
  {
   "cell_type": "markdown",
   "id": "f23ac12e",
   "metadata": {
    "editable": true
   },
   "source": [
    "$$\n",
    "y_{i}=\\langle y_i \\rangle = \\theta_0x_{i,0}+\\theta_1x_{i,1}+\\theta_2x_{i,2}+\\dots+\\theta_{n-1}x_{i,n-1}+\\epsilon_i,\n",
    "$$"
   ]
  },
  {
   "cell_type": "markdown",
   "id": "88fd9c03",
   "metadata": {
    "editable": true
   },
   "source": [
    "where $\\langle y_i \\rangle$ is the mean value. Keep in mind also that\n",
    "till now we have treated $y_i$ as the exact value. Normally, the\n",
    "output (response, target, dependent or outcome) variable $y_i$ is the outcome of a\n",
    "numerical experiment or another type of experiment and could thus be treated itself as an\n",
    "approximation to the true value. It is then always accompanied by an\n",
    "error estimate, often limited to a statistical error estimate given by\n",
    "the standard deviation discussed earlier. In the discussion here we\n",
    "will treat $y_i$ as our exact value for the output variable.\n",
    "\n",
    "In order to find the parameters $\\theta_i$ we will then minimize the spread of $C(\\boldsymbol{\\theta})$, that is we are going to solve the problem"
   ]
  },
  {
   "cell_type": "markdown",
   "id": "a953b1a3",
   "metadata": {
    "editable": true
   },
   "source": [
    "$$\n",
    "\\hat{\\boldsymbol{\\theta}}={\\displaystyle \\min_{\\boldsymbol{\\theta}\\in\n",
    "{\\mathbb{R}}^{p}}}\\frac{1}{n}\\left\\{\\left(\\boldsymbol{y}-\\boldsymbol{X}\\boldsymbol{\\theta}\\right)^T\\left(\\boldsymbol{y}-\\boldsymbol{X}\\boldsymbol{\\theta}\\right)\\right\\}.\n",
    "$$"
   ]
  },
  {
   "cell_type": "markdown",
   "id": "19eb0838",
   "metadata": {
    "editable": true
   },
   "source": [
    "In practical terms it means we will require"
   ]
  },
  {
   "cell_type": "markdown",
   "id": "a4f910a4",
   "metadata": {
    "editable": true
   },
   "source": [
    "$$\n",
    "\\frac{\\partial C(\\boldsymbol{\\theta})}{\\partial \\theta_j} = \\frac{\\partial }{\\partial \\theta_j}\\left[ \\frac{1}{n}\\sum_{i=0}^{n-1}\\left(y_i-\\theta_0x_{i,0}-\\theta_1x_{i,1}-\\theta_2x_{i,2}-\\dots-\\theta_{n-1}x_{i,n-1}\\right)^2\\right]=0,\n",
    "$$"
   ]
  },
  {
   "cell_type": "markdown",
   "id": "5060e089",
   "metadata": {
    "editable": true
   },
   "source": [
    "which results in"
   ]
  },
  {
   "cell_type": "markdown",
   "id": "8542c5a3",
   "metadata": {
    "editable": true
   },
   "source": [
    "$$\n",
    "\\frac{\\partial C(\\boldsymbol{\\theta})}{\\partial \\theta_j} = -\\frac{2}{n}\\left[ \\sum_{i=0}^{n-1}x_{ij}\\left(y_i-\\theta_0x_{i,0}-\\theta_1x_{i,1}-\\theta_2x_{i,2}-\\dots-\\theta_{n-1}x_{i,n-1}\\right)\\right]=0,\n",
    "$$"
   ]
  },
  {
   "cell_type": "markdown",
   "id": "475e1436",
   "metadata": {
    "editable": true
   },
   "source": [
    "or in a matrix-vector form as (multiplying away the factor $-2/n$, see derivation below)"
   ]
  },
  {
   "cell_type": "markdown",
   "id": "88abf4ad",
   "metadata": {
    "editable": true
   },
   "source": [
    "$$\n",
    "\\frac{\\partial C(\\boldsymbol{\\theta})}{\\partial \\boldsymbol{\\theta}^T} = 0 = \\boldsymbol{X}^T\\left( \\boldsymbol{y}-\\boldsymbol{X}\\boldsymbol{\\theta}\\right).\n",
    "$$"
   ]
  },
  {
   "cell_type": "markdown",
   "id": "62f558d9",
   "metadata": {
    "editable": true
   },
   "source": [
    "## Interpretations and optimizing our parameters\n",
    "We can rewrite, see the derivations below,"
   ]
  },
  {
   "cell_type": "markdown",
   "id": "99cc5104",
   "metadata": {
    "editable": true
   },
   "source": [
    "$$\n",
    "\\frac{\\partial C(\\boldsymbol{\\theta})}{\\partial \\boldsymbol{\\theta}^T} = 0 = \\boldsymbol{X}^T\\left( \\boldsymbol{y}-\\boldsymbol{X}\\boldsymbol{\\theta}\\right),\n",
    "$$"
   ]
  },
  {
   "cell_type": "markdown",
   "id": "29043759",
   "metadata": {
    "editable": true
   },
   "source": [
    "as"
   ]
  },
  {
   "cell_type": "markdown",
   "id": "e9d0f067",
   "metadata": {
    "editable": true
   },
   "source": [
    "$$\n",
    "\\boldsymbol{X}^T\\boldsymbol{y} = \\boldsymbol{X}^T\\boldsymbol{X}\\boldsymbol{\\theta},\n",
    "$$"
   ]
  },
  {
   "cell_type": "markdown",
   "id": "c34bfdd2",
   "metadata": {
    "editable": true
   },
   "source": [
    "and if the matrix $\\boldsymbol{X}^T\\boldsymbol{X}$ is invertible we have the solution"
   ]
  },
  {
   "cell_type": "markdown",
   "id": "3533f92e",
   "metadata": {
    "editable": true
   },
   "source": [
    "$$\n",
    "\\hat{\\boldsymbol{\\theta}} =\\left(\\boldsymbol{X}^T\\boldsymbol{X}\\right)^{-1}\\boldsymbol{X}^T\\boldsymbol{y}.\n",
    "$$"
   ]
  },
  {
   "cell_type": "markdown",
   "id": "135631d4",
   "metadata": {
    "editable": true
   },
   "source": [
    "We note also that since our design matrix is defined as $\\boldsymbol{X}\\in\n",
    "{\\mathbb{R}}^{n\\times p}$, the product $\\boldsymbol{X}^T\\boldsymbol{X} \\in\n",
    "{\\mathbb{R}}^{p\\times p}$.  In most cases we have that $p \\ll n$. In our example case below we have $p=5$ meaning. We end up with inverting a small\n",
    "$5\\times 5$ matrix. This is a rather common situation, in many cases we end up with low-dimensional\n",
    "matrices to invert. The methods discussed here and for many other\n",
    "supervised learning algorithms like classification with logistic\n",
    "regression or support vector machines, exhibit dimensionalities which\n",
    "allow for the usage of direct linear algebra methods such as **LU** decomposition or **Singular Value Decomposition** (SVD) for finding the inverse of the matrix\n",
    "$\\boldsymbol{X}^T\\boldsymbol{X}$.\n",
    "\n",
    "**Small question**: When inverting the matrix  $\\boldsymbol{X}^T\\boldsymbol{X}, what kind of problems can we expect?"
   ]
  },
  {
   "cell_type": "markdown",
   "id": "cf25f4a7",
   "metadata": {
    "editable": true
   },
   "source": [
    "## Some useful matrix and vector expressions\n",
    "\n",
    "The following matrix and vector relation will be useful here and for\n",
    "the rest of the course. Vectors are always written as boldfaced lower\n",
    "case letters and matrices as upper case boldfaced letters.  In the\n",
    "following we will discuss how to calculate derivatives of various\n",
    "matrices relevant for machine learning. We will often represent our\n",
    "data in terms of matrices and vectors.\n",
    "\n",
    "Let us introduce first some conventions. We assume that $\\boldsymbol{y}$ is a\n",
    "vector of length $m$, that is it has $m$ elements $y_0,y_1,\\dots,\n",
    "y_{m-1}$. By convention we start labeling vectors with the zeroth\n",
    "element, as are arrays in Python and C++/C, for example. Similarly, we\n",
    "have a vector $\\boldsymbol{x}$ of length $n$, that is\n",
    "$\\boldsymbol{x}^T=[x_0,x_1,\\dots, x_{n-1}]$.\n",
    "\n",
    "We assume also that $\\boldsymbol{y}$ is a function of $\\boldsymbol{x}$ through some\n",
    "given function $f$"
   ]
  },
  {
   "cell_type": "markdown",
   "id": "5d82400a",
   "metadata": {
    "editable": true
   },
   "source": [
    "$$\n",
    "\\boldsymbol{y}=f(\\boldsymbol{x}).\n",
    "$$"
   ]
  },
  {
   "cell_type": "markdown",
   "id": "00d8d123",
   "metadata": {
    "editable": true
   },
   "source": [
    "## The Jacobian\n",
    "\n",
    "We define the partial derivatives of the various components of $\\boldsymbol{y}$ as functions of $x_i$ in terms of the so-called [Jacobian matrix](https://en.wikipedia.org/wiki/Jacobian_matrix_and_determinant)"
   ]
  },
  {
   "cell_type": "markdown",
   "id": "cce17e14",
   "metadata": {
    "editable": true
   },
   "source": [
    "$$\n",
    "\\boldsymbol{J}=\\frac{\\partial \\boldsymbol{y}}{\\partial \\boldsymbol{x}}=\\begin{bmatrix} \\frac{\\partial y_0}{\\partial x_0} & \\frac{\\partial y_0}{\\partial x_1} & \\frac{\\partial y_0}{\\partial x_2} & \\dots & \\dots & \\frac{\\partial y_0}{\\partial x_{n-1}} \\\\ \\frac{\\partial y_1}{\\partial x_0} & \\frac{\\partial y_1}{\\partial x_1} & \\frac{\\partial y_1}{\\partial x_2} & \\dots & \\dots & \\frac{\\partial y_1}{\\partial x_{n-1}} \\\\\n",
    "\\frac{\\partial y_2}{\\partial x_0} & \\frac{\\partial y_2}{\\partial x_1} & \\frac{\\partial y_2}{\\partial x_2} & \\dots & \\dots & \\frac{\\partial y_2}{\\partial x_{n-1}} \\\\\n",
    "\\dots & \\dots & \\dots & \\dots & \\dots & \\dots \\\\\n",
    "\\dots & \\dots & \\dots & \\dots & \\dots & \\dots \\\\\n",
    "\\frac{\\partial y_{m-1}}{\\partial x_0} & \\frac{\\partial y_{m-1}}{\\partial x_1} & \\frac{\\partial y_{m-1}}{\\partial x_2} & \\dots & \\dots & \\frac{\\partial y_{m-1}}{\\partial x_{n-1}} \\end{bmatrix},\n",
    "$$"
   ]
  },
  {
   "cell_type": "markdown",
   "id": "65efb775",
   "metadata": {
    "editable": true
   },
   "source": [
    "which is an $m\\times n$ matrix. If $\\boldsymbol{x}$ is a scalar, then the\n",
    "Jacobian is only a single-column vector, or an $m\\times 1$ matrix. If\n",
    "on the other hand $\\boldsymbol{y}$ is a scalar, the Jacobian becomes a\n",
    "$1\\times n$ matrix.\n",
    "\n",
    "When this matrix is a square matrix $m=n$, its determinant is often referred to as the Jacobian\n",
    "determinant. Both the matrix and (if $m=n$) the determinant are\n",
    "often referred to simply as the Jacobian. The Jacobian matrix represents the differential of $\\boldsymbol{y}$ at every point where the\n",
    "vector is differentiable."
   ]
  },
  {
   "cell_type": "markdown",
   "id": "2df9efd6",
   "metadata": {
    "editable": true
   },
   "source": [
    "## Derivatives, example 1\n",
    "\n",
    "Let now $\\boldsymbol{y}=\\boldsymbol{A}\\boldsymbol{x}$, where $\\boldsymbol{A}$ is an $m\\times n$ matrix and the matrix does not depend on $\\boldsymbol{x}$. If we write out the vector $\\boldsymbol{y}$ compoment by component we have"
   ]
  },
  {
   "cell_type": "markdown",
   "id": "37b621d8",
   "metadata": {
    "editable": true
   },
   "source": [
    "$$\n",
    "y_i = \\sum_{j=0}^{n-1}a_{ij}x_j,\n",
    "$$"
   ]
  },
  {
   "cell_type": "markdown",
   "id": "297be9c9",
   "metadata": {
    "editable": true
   },
   "source": [
    "with $\\forall i=0,1,2,\\dots,m-1$. The individual matrix elements of $\\boldsymbol{A}$ are given by the symbol $a_{ij}$.\n",
    "It follows that the partial derivatives of $y_i$ with respect to $x_k$"
   ]
  },
  {
   "cell_type": "markdown",
   "id": "fe288c99",
   "metadata": {
    "editable": true
   },
   "source": [
    "$$\n",
    "\\frac{\\partial y_i }{\\partial x_k}= a_{ik} \\forall i=0,1,2,\\dots,m-1.\n",
    "$$"
   ]
  },
  {
   "cell_type": "markdown",
   "id": "d4333779",
   "metadata": {
    "editable": true
   },
   "source": [
    "From this we have, using the definition of the Jacobian"
   ]
  },
  {
   "cell_type": "markdown",
   "id": "f7e72c3d",
   "metadata": {
    "editable": true
   },
   "source": [
    "$$\n",
    "\\frac{\\partial \\boldsymbol{y} }{\\partial \\boldsymbol{x}}= \\boldsymbol{A}.\n",
    "$$"
   ]
  },
  {
   "cell_type": "markdown",
   "id": "3423b702",
   "metadata": {
    "editable": true
   },
   "source": [
    "## Example 2\n",
    "\n",
    "We define a scalar (our cost/loss functions are in general also scalars,\n",
    "just think of the mean squared error) as the result of some matrix vector\n",
    "multiplications"
   ]
  },
  {
   "cell_type": "markdown",
   "id": "fe66f713",
   "metadata": {
    "editable": true
   },
   "source": [
    "$$\n",
    "\\alpha = \\boldsymbol{y}^T\\boldsymbol{A}\\boldsymbol{x},\n",
    "$$"
   ]
  },
  {
   "cell_type": "markdown",
   "id": "43eed51b",
   "metadata": {
    "editable": true
   },
   "source": [
    "with $\\boldsymbol{y}$ a vector of length $m$, $\\boldsymbol{A}$ an $m\\times n$ matrix and $\\boldsymbol{x}$ a vector of length $n$. We assume also that $\\boldsymbol{A}$ does not depend on any of the two vectors.\n",
    "In order to find the derivative of $\\alpha$ with respect to the two vectors, we define an intermediate vector $\\boldsymbol{z}$. We define first\n",
    "$\\boldsymbol{z}^T=\\boldsymbol{y}^T\\boldsymbol{A}$, a vector of length $n$. We have then, using the definition of the Jacobian,"
   ]
  },
  {
   "cell_type": "markdown",
   "id": "6f943ccb",
   "metadata": {
    "editable": true
   },
   "source": [
    "$$\n",
    "\\alpha = \\boldsymbol{z}^T\\boldsymbol{x},\n",
    "$$"
   ]
  },
  {
   "cell_type": "markdown",
   "id": "5df09c55",
   "metadata": {
    "editable": true
   },
   "source": [
    "which means that (using our previous example and keeping track of our definition of the derivative of a scalar) we have"
   ]
  },
  {
   "cell_type": "markdown",
   "id": "b92d9f2a",
   "metadata": {
    "editable": true
   },
   "source": [
    "$$\n",
    "\\frac{\\partial \\alpha}{\\partial \\boldsymbol{x}} = \\frac{\\partial \\boldsymbol{z}^T\\boldsymbol{x}}{\\partial \\boldsymbol{x}}=\\boldsymbol{z}^T.\n",
    "$$"
   ]
  },
  {
   "cell_type": "markdown",
   "id": "c6cf49ab",
   "metadata": {
    "editable": true
   },
   "source": [
    "Note that the resulting vector elements are the same for $\\boldsymbol{z}^T$ and $\\boldsymbol{z}$, the only difference is that one is just the transpose of the other. We have the transposed here since we have used that the inner product of two vectors is a scalar.\n",
    "\n",
    "Since $\\alpha$ is a scalar we have $\\alpha =\\alpha^T=\\boldsymbol{x}^T\\boldsymbol{A}^T\\boldsymbol{y}$. Defining now $\\boldsymbol{z}^T=\\boldsymbol{x}^T\\boldsymbol{A}^T$ we find that"
   ]
  },
  {
   "cell_type": "markdown",
   "id": "3e000448",
   "metadata": {
    "editable": true
   },
   "source": [
    "$$\n",
    "\\frac{\\partial \\alpha}{\\partial \\boldsymbol{y}} = \\boldsymbol{z}^T=\\boldsymbol{x}^T\\boldsymbol{A}^T.\n",
    "$$"
   ]
  },
  {
   "cell_type": "markdown",
   "id": "fbaa984b",
   "metadata": {
    "editable": true
   },
   "source": [
    "## Example 3\n",
    "\n",
    "We start with a new scalar but where now the vector $\\boldsymbol{y}$ is\n",
    "replaced by a vector $\\boldsymbol{x}$ and the matrix $\\boldsymbol{A}$ is a square\n",
    "matrix with dimension $n\\times n$."
   ]
  },
  {
   "cell_type": "markdown",
   "id": "f4e444ea",
   "metadata": {
    "editable": true
   },
   "source": [
    "$$\n",
    "\\alpha = \\boldsymbol{x}^T\\boldsymbol{A}\\boldsymbol{x},\n",
    "$$"
   ]
  },
  {
   "cell_type": "markdown",
   "id": "454ba5ba",
   "metadata": {
    "editable": true
   },
   "source": [
    "with $\\boldsymbol{x}$ a vector of length $n$.\n",
    "\n",
    "We write out the specific sums involved in the calculation of $\\alpha$"
   ]
  },
  {
   "cell_type": "markdown",
   "id": "c0434cd9",
   "metadata": {
    "editable": true
   },
   "source": [
    "$$\n",
    "\\alpha = \\sum_{i=0}^{n-1}\\sum_{j=0}^{n-1}x_i a_{ij}x_j,\n",
    "$$"
   ]
  },
  {
   "cell_type": "markdown",
   "id": "f2bcda9d",
   "metadata": {
    "editable": true
   },
   "source": [
    "taking the derivative of $\\alpha$ with respect to a given component $x_k$ we get the two sums"
   ]
  },
  {
   "cell_type": "markdown",
   "id": "aea0ba73",
   "metadata": {
    "editable": true
   },
   "source": [
    "$$\n",
    "\\frac{\\partial \\alpha}{\\partial x_k}  = \\sum_{i=0}^{n-1}a_{ik}x_i+\\sum_{j=0}^{n-1}a_{kj}x_j,\n",
    "$$"
   ]
  },
  {
   "cell_type": "markdown",
   "id": "5a58d6e8",
   "metadata": {
    "editable": true
   },
   "source": [
    "for $\\forall k =0,1,2,\\dots,n-1$. We identify these sums as"
   ]
  },
  {
   "cell_type": "markdown",
   "id": "927428aa",
   "metadata": {
    "editable": true
   },
   "source": [
    "$$\n",
    "\\frac{\\partial \\alpha}{\\partial \\boldsymbol{x}}  = \\boldsymbol{x}^T\\left(\\boldsymbol{A}^T+\\boldsymbol{A}\\right).\n",
    "$$"
   ]
  },
  {
   "cell_type": "markdown",
   "id": "372ad443",
   "metadata": {
    "editable": true
   },
   "source": [
    "If the matrix $\\boldsymbol{A}$ is symmetric, that is $\\boldsymbol{A}=\\boldsymbol{A}^T$, we have"
   ]
  },
  {
   "cell_type": "markdown",
   "id": "37a99489",
   "metadata": {
    "editable": true
   },
   "source": [
    "$$\n",
    "\\frac{\\partial \\alpha}{\\partial \\boldsymbol{x}}  = 2\\boldsymbol{x}^T\\boldsymbol{A}.\n",
    "$$"
   ]
  },
  {
   "cell_type": "markdown",
   "id": "4872a1cd",
   "metadata": {
    "editable": true
   },
   "source": [
    "## Example 4\n",
    "\n",
    "We let the scalar $\\alpha$ be defined by"
   ]
  },
  {
   "cell_type": "markdown",
   "id": "b21e9cb2",
   "metadata": {
    "editable": true
   },
   "source": [
    "$$\n",
    "\\alpha = \\boldsymbol{y}^T\\boldsymbol{x},\n",
    "$$"
   ]
  },
  {
   "cell_type": "markdown",
   "id": "442375d1",
   "metadata": {
    "editable": true
   },
   "source": [
    "where both $\\boldsymbol{y}$ and $\\boldsymbol{x}$ have the same length $n$, or if we\n",
    "wish to think of them as column vectors, they have dimensions $n\\times\n",
    "1$. We assume that both $\\boldsymbol{y}$ and $\\boldsymbol{x}$ depend on a vector\n",
    "$\\boldsymbol{z}$ of the same length. To calculate the derivative of $\\alpha$\n",
    "with respect to a given component $z_k$ we need first to write out the\n",
    "inner product that defines $\\alpha$ as"
   ]
  },
  {
   "cell_type": "markdown",
   "id": "aabab237",
   "metadata": {
    "editable": true
   },
   "source": [
    "$$\n",
    "\\alpha  = \\sum_{i=0}^{n-1}y_ix_i,\n",
    "$$"
   ]
  },
  {
   "cell_type": "markdown",
   "id": "106f09df",
   "metadata": {
    "editable": true
   },
   "source": [
    "and the partial derivative"
   ]
  },
  {
   "cell_type": "markdown",
   "id": "73d8f824",
   "metadata": {
    "editable": true
   },
   "source": [
    "$$\n",
    "\\frac{\\partial \\alpha}{\\partial z_k}  = \\sum_{i=0}^{n-1}\\left(x_i\\frac{\\partial y_i}{\\partial z_k}+y_i\\frac{\\partial x_i}{\\partial z_k}\\right),\n",
    "$$"
   ]
  },
  {
   "cell_type": "markdown",
   "id": "f2626be7",
   "metadata": {
    "editable": true
   },
   "source": [
    "for $\\forall k =0,1,2,\\dots,n-1$. We can rewrite the partial derivative in a more compact form as"
   ]
  },
  {
   "cell_type": "markdown",
   "id": "81d89d86",
   "metadata": {
    "editable": true
   },
   "source": [
    "$$\n",
    "\\frac{\\partial \\alpha}{\\partial \\boldsymbol{z}}  = \\boldsymbol{x}^T\\frac{\\partial \\boldsymbol{y}}{\\partial \\boldsymbol{z}}+\\boldsymbol{y}^T\\frac{\\partial \\boldsymbol{x}}{\\partial \\boldsymbol{z}},\n",
    "$$"
   ]
  },
  {
   "cell_type": "markdown",
   "id": "59c2576a",
   "metadata": {
    "editable": true
   },
   "source": [
    "and if $\\boldsymbol{y}=\\boldsymbol{x}$ we have"
   ]
  },
  {
   "cell_type": "markdown",
   "id": "4b7bf3f9",
   "metadata": {
    "editable": true
   },
   "source": [
    "$$\n",
    "\\frac{\\partial \\alpha}{\\partial \\boldsymbol{z}}  = 2\\boldsymbol{x}^T\\frac{\\partial \\boldsymbol{x}}{\\partial \\boldsymbol{z}}.\n",
    "$$"
   ]
  },
  {
   "cell_type": "markdown",
   "id": "ea1e8943",
   "metadata": {
    "editable": true
   },
   "source": [
    "## The mean squared error and its derivative\n",
    "\n",
    "We defined earlier a possible cost function using the mean squared error"
   ]
  },
  {
   "cell_type": "markdown",
   "id": "d0425d72",
   "metadata": {
    "editable": true
   },
   "source": [
    "$$\n",
    "C(\\boldsymbol{\\theta})=\\frac{1}{n}\\sum_{i=0}^{n-1}\\left(y_i-\\tilde{y}_i\\right)^2=\\frac{1}{n}\\left\\{\\left(\\boldsymbol{y}-\\boldsymbol{\\tilde{y}}\\right)^T\\left(\\boldsymbol{y}-\\boldsymbol{\\tilde{y}}\\right)\\right\\},\n",
    "$$"
   ]
  },
  {
   "cell_type": "markdown",
   "id": "38386834",
   "metadata": {
    "editable": true
   },
   "source": [
    "or using the design/feature matrix $\\boldsymbol{X}$ we have the more compact matrix-vector"
   ]
  },
  {
   "cell_type": "markdown",
   "id": "bfbc4bd3",
   "metadata": {
    "editable": true
   },
   "source": [
    "$$\n",
    "C(\\boldsymbol{\\theta})=\\frac{1}{n}\\left\\{\\left(\\boldsymbol{y}-\\boldsymbol{X}\\boldsymbol{\\theta}\\right)^T\\left(\\boldsymbol{y}-\\boldsymbol{X}\\boldsymbol{\\theta}\\right)\\right\\}.\n",
    "$$"
   ]
  },
  {
   "cell_type": "markdown",
   "id": "3ced3cec",
   "metadata": {
    "editable": true
   },
   "source": [
    "We note that the design matrix $\\boldsymbol{X}$ does not depend on the unknown parameters defined by the vector $\\boldsymbol{\\theta}$.\n",
    "We are now interested in minimizing the cost function with respect to the unknown parameters $\\boldsymbol{\\theta}$.\n",
    "\n",
    "The mean squared error is a scalar and if we use the results from example three above, we can define a new vector"
   ]
  },
  {
   "cell_type": "markdown",
   "id": "fc6f1dec",
   "metadata": {
    "editable": true
   },
   "source": [
    "$$\n",
    "\\boldsymbol{w}=\\boldsymbol{y}-\\boldsymbol{X}\\boldsymbol{\\theta},\n",
    "$$"
   ]
  },
  {
   "cell_type": "markdown",
   "id": "699662d2",
   "metadata": {
    "editable": true
   },
   "source": [
    "which depends on $\\boldsymbol{\\theta}$. We rewrite the cost function as"
   ]
  },
  {
   "cell_type": "markdown",
   "id": "0991592c",
   "metadata": {
    "editable": true
   },
   "source": [
    "$$\n",
    "C(\\boldsymbol{\\theta})=\\frac{1}{n}\\boldsymbol{w}^T\\boldsymbol{w},\n",
    "$$"
   ]
  },
  {
   "cell_type": "markdown",
   "id": "450dd961",
   "metadata": {
    "editable": true
   },
   "source": [
    "with partial derivative"
   ]
  },
  {
   "cell_type": "markdown",
   "id": "a13de0fa",
   "metadata": {
    "editable": true
   },
   "source": [
    "$$\n",
    "\\frac{\\partial C(\\boldsymbol{\\theta})}{\\partial \\boldsymbol{\\theta}}=\\frac{2}{n}\\boldsymbol{w}^T\\frac{\\partial \\boldsymbol{w}}{\\partial \\boldsymbol{\\theta}},\n",
    "$$"
   ]
  },
  {
   "cell_type": "markdown",
   "id": "c64bc916",
   "metadata": {
    "editable": true
   },
   "source": [
    "and using that"
   ]
  },
  {
   "cell_type": "markdown",
   "id": "ab1e18bc",
   "metadata": {
    "editable": true
   },
   "source": [
    "$$\n",
    "\\frac{\\partial \\boldsymbol{w}}{\\partial \\boldsymbol{\\theta}}=-\\boldsymbol{X},\n",
    "$$"
   ]
  },
  {
   "cell_type": "markdown",
   "id": "f1e74f34",
   "metadata": {
    "editable": true
   },
   "source": [
    "where we used the result from example two above. Inserting the last expression we obtain"
   ]
  },
  {
   "cell_type": "markdown",
   "id": "1ad3ebd9",
   "metadata": {
    "editable": true
   },
   "source": [
    "$$\n",
    "\\frac{\\partial C(\\boldsymbol{\\theta})}{\\partial \\boldsymbol{\\theta}}=-\\frac{2}{n}\\left(\\boldsymbol{y}-\\boldsymbol{X}\\boldsymbol{\\theta}\\right)^T\\boldsymbol{X},\n",
    "$$"
   ]
  },
  {
   "cell_type": "markdown",
   "id": "37d1b4ca",
   "metadata": {
    "editable": true
   },
   "source": [
    "or as"
   ]
  },
  {
   "cell_type": "markdown",
   "id": "3d5fc67a",
   "metadata": {
    "editable": true
   },
   "source": [
    "$$\n",
    "\\frac{\\partial C(\\boldsymbol{\\theta})}{\\partial \\boldsymbol{\\theta}^T}=-\\frac{2}{n}\\boldsymbol{X}^T\\left(\\boldsymbol{y}-\\boldsymbol{X}\\boldsymbol{\\theta}\\right).\n",
    "$$"
   ]
  },
  {
   "cell_type": "markdown",
   "id": "d98472d9",
   "metadata": {
    "editable": true
   },
   "source": [
    "## Meet the Hessian Matrix\n",
    "\n",
    "A very important matrix we will meet again and again in machine\n",
    "learning is the Hessian.  It is given by the second derivative of the\n",
    "cost function with respect to the parameters $\\boldsymbol{\\theta}$. Using the above\n",
    "expression for derivatives of vectors and matrices, we find that the\n",
    "second derivative of the mean squared error as cost function is,"
   ]
  },
  {
   "cell_type": "markdown",
   "id": "5d859f20",
   "metadata": {
    "editable": true
   },
   "source": [
    "$$\n",
    "\\frac{\\partial}{\\partial \\boldsymbol{\\theta}}\\frac{\\partial C(\\boldsymbol{\\theta})}{\\partial \\boldsymbol{\\theta}^T} =\\frac{\\partial}{\\partial \\boldsymbol{\\theta}}\\left[-\\frac{2}{n}\\boldsymbol{X}^T\\left( \\boldsymbol{y}-\\boldsymbol{X}\\boldsymbol{\\theta}\\right)\\right]=\\frac{2}{n}\\boldsymbol{X}^T\\boldsymbol{X}.\n",
    "$$"
   ]
  },
  {
   "cell_type": "markdown",
   "id": "e7bb91ec",
   "metadata": {
    "editable": true
   },
   "source": [
    "The Hessian matrix plays an important role and is defined here as"
   ]
  },
  {
   "cell_type": "markdown",
   "id": "1553864b",
   "metadata": {
    "editable": true
   },
   "source": [
    "$$\n",
    "\\boldsymbol{H}=\\boldsymbol{X}^T\\boldsymbol{X}.\n",
    "$$"
   ]
  },
  {
   "cell_type": "markdown",
   "id": "f8cc9c71",
   "metadata": {
    "editable": true
   },
   "source": [
    "For ordinary least squares, it is inversely proportional (derivation\n",
    "next week) with the variance of the optimal parameters\n",
    "$\\hat{\\boldsymbol{\\theta}}$. Furthermore, we will see next week that it is\n",
    "(aside the factor $1/n$) equal to the covariance matrix. It plays also a very\n",
    "important role in optmization algorithms and Principal Component\n",
    "Analysis as a way to reduce the dimensionality of a machine learning/data analysis\n",
    "problem. We will discuss this in greater detail next week when we introduce gradient methods.\n",
    "\n",
    "**Linear algebra question:**  Can we use the Hessian matrix to say something about properties of the cost function (our optmization  problem)? (hint: think about convex or concave problems and how to relate these to a matrix!)."
   ]
  },
  {
   "cell_type": "markdown",
   "id": "f1f01477",
   "metadata": {
    "editable": true
   },
   "source": [
    "## Interpretations and optimizing our parameters\n",
    "\n",
    "The residuals $\\boldsymbol{\\epsilon}$ are in turn given by"
   ]
  },
  {
   "cell_type": "markdown",
   "id": "f2dea7e1",
   "metadata": {
    "editable": true
   },
   "source": [
    "$$\n",
    "\\boldsymbol{\\epsilon} = \\boldsymbol{y}-\\boldsymbol{\\tilde{y}} = \\boldsymbol{y}-\\boldsymbol{X}\\boldsymbol{\\theta},\n",
    "$$"
   ]
  },
  {
   "cell_type": "markdown",
   "id": "76b0f99e",
   "metadata": {
    "editable": true
   },
   "source": [
    "and with"
   ]
  },
  {
   "cell_type": "markdown",
   "id": "cfa3ca25",
   "metadata": {
    "editable": true
   },
   "source": [
    "$$\n",
    "\\boldsymbol{X}^T\\left( \\boldsymbol{y}-\\boldsymbol{X}\\boldsymbol{\\theta}\\right)= 0,\n",
    "$$"
   ]
  },
  {
   "cell_type": "markdown",
   "id": "9a9163d8",
   "metadata": {
    "editable": true
   },
   "source": [
    "we have"
   ]
  },
  {
   "cell_type": "markdown",
   "id": "c6b54a1e",
   "metadata": {
    "editable": true
   },
   "source": [
    "$$\n",
    "\\boldsymbol{X}^T\\boldsymbol{\\epsilon}=\\boldsymbol{X}^T\\left( \\boldsymbol{y}-\\boldsymbol{X}\\boldsymbol{\\theta}\\right)= 0,\n",
    "$$"
   ]
  },
  {
   "cell_type": "markdown",
   "id": "659c98d0",
   "metadata": {
    "editable": true
   },
   "source": [
    "meaning that the solution for $\\boldsymbol{\\theta}$ is the one which minimizes the residuals."
   ]
  },
  {
   "cell_type": "markdown",
   "id": "209b5b37",
   "metadata": {
    "editable": true
   },
   "source": [
    "## Example relevant for the exercises\n",
    "\n",
    "In order to understand the relation among the predictors $p$, the set of data $n$ and the target (outcome, output etc) $\\boldsymbol{y}$,\n",
    "we condiser a simple polynomial fit.\n",
    "We assume our data can represented by a fourth-order polynomial. For the $i$th component we have"
   ]
  },
  {
   "cell_type": "markdown",
   "id": "b325d0c3",
   "metadata": {
    "editable": true
   },
   "source": [
    "$$\n",
    "\\tilde{y}_i = \\theta_0+\\theta_1x_i+\\theta_2x_i^2+\\theta_3x_i^3+\\theta_4x_i^4.\n",
    "$$"
   ]
  },
  {
   "cell_type": "markdown",
   "id": "c49a2fcd",
   "metadata": {
    "editable": true
   },
   "source": [
    "we have five predictors/features. The first is the intercept $\\theta_0$. The other terms are $\\theta_i$ with $i=1,2,3,4$. Furthermore we have $n$ entries for each predictor. It means that our design matrix is an \n",
    "$n\\times p$ matrix $\\boldsymbol{X}$."
   ]
  },
  {
   "cell_type": "markdown",
   "id": "6978ef70",
   "metadata": {
    "editable": true
   },
   "source": [
    "## Own code for Ordinary Least Squares\n",
    "\n",
    "It is rather straightforward to implement the matrix inversion and obtain the parameters $\\boldsymbol{\\theta}$. After having defined the matrix $\\boldsymbol{X}$ and the outputs $\\boldsymbol{y}$ we have"
   ]
  },
  {
   "cell_type": "code",
   "execution_count": 1,
   "id": "01530c39",
   "metadata": {
    "collapsed": false,
    "editable": true,
    "jupyter": {
     "outputs_hidden": false
    }
   },
   "outputs": [],
   "source": [
    "# matrix inversion to find theta\n",
    "# First we set up the data\n",
    "import numpy as np\n",
    "x = np.random.rand(100)\n",
    "y = 2.0+5*x*x+0.1*np.random.randn(100)\n",
    "# and then the design matrix X including the intercept\n",
    "#  The design matrix now as function of a fourth-order polynomial\n",
    "X = np.zeros((len(x),5))\n",
    "X[:,0] = 1.0\n",
    "X[:,1] = x\n",
    "X[:,2] = x**2\n",
    "X[:,3] = x**3\n",
    "X[:,4] = x**4\n",
    "theta = (np.linalg.inv(X.T @ X) @ X.T ) @ y\n",
    "# and then make the prediction\n",
    "ytilde = X @ theta"
   ]
  },
  {
   "cell_type": "markdown",
   "id": "90ff28d4",
   "metadata": {
    "editable": true
   },
   "source": [
    "Alternatively, you can use the least squares functionality in **Numpy** as"
   ]
  },
  {
   "cell_type": "code",
   "execution_count": 2,
   "id": "1d052cbe",
   "metadata": {
    "collapsed": false,
    "editable": true,
    "jupyter": {
     "outputs_hidden": false
    }
   },
   "outputs": [],
   "source": [
    "fit = np.linalg.lstsq(X, y, rcond =None)[0]\n",
    "ytildenp = np.dot(fit,X.T)"
   ]
  },
  {
   "cell_type": "markdown",
   "id": "3362efd4",
   "metadata": {
    "editable": true
   },
   "source": [
    "## Adding error analysis and training set up\n",
    "\n",
    "We can easily test our fit by computing the $R2$ score that we discussed in connection with the functionality of **Scikit-Learn** in the introductory slides.\n",
    "Since we are not using **Scikit-Learn** here we can define our own $R2$ function as"
   ]
  },
  {
   "cell_type": "code",
   "execution_count": 3,
   "id": "3e9e681f",
   "metadata": {
    "collapsed": false,
    "editable": true,
    "jupyter": {
     "outputs_hidden": false
    }
   },
   "outputs": [],
   "source": [
    "def R2(y_data, y_model):\n",
    "    return 1 - np.sum((y_data - y_model) ** 2) / np.sum((y_data - np.mean(y_data)) ** 2)"
   ]
  },
  {
   "cell_type": "markdown",
   "id": "78e4427f",
   "metadata": {
    "editable": true
   },
   "source": [
    "and we would be using it as"
   ]
  },
  {
   "cell_type": "code",
   "execution_count": 4,
   "id": "20aab659",
   "metadata": {
    "collapsed": false,
    "editable": true,
    "jupyter": {
     "outputs_hidden": false
    }
   },
   "outputs": [],
   "source": [
    "print(R2(y,ytilde))"
   ]
  },
  {
   "cell_type": "markdown",
   "id": "326f641d",
   "metadata": {
    "editable": true
   },
   "source": [
    "We can easily add our **MSE** score as"
   ]
  },
  {
   "cell_type": "code",
   "execution_count": 5,
   "id": "c8e80cf1",
   "metadata": {
    "collapsed": false,
    "editable": true,
    "jupyter": {
     "outputs_hidden": false
    }
   },
   "outputs": [],
   "source": [
    "def MSE(y_data,y_model):\n",
    "    n = np.size(y_model)\n",
    "    return np.sum((y_data-y_model)**2)/n\n",
    "\n",
    "print(MSE(y,ytilde))"
   ]
  },
  {
   "cell_type": "markdown",
   "id": "aba7b289",
   "metadata": {
    "editable": true
   },
   "source": [
    "and finally the relative error as"
   ]
  },
  {
   "cell_type": "code",
   "execution_count": 6,
   "id": "7235bf1b",
   "metadata": {
    "collapsed": false,
    "editable": true,
    "jupyter": {
     "outputs_hidden": false
    }
   },
   "outputs": [],
   "source": [
    "def RelativeError(y_data,y_model):\n",
    "    return abs((y_data-y_model)/y_data)\n",
    "print(RelativeError(y, ytilde))"
   ]
  },
  {
   "cell_type": "markdown",
   "id": "3eaf5f8d",
   "metadata": {
    "editable": true
   },
   "source": [
    "## Splitting our Data in Training and Test data\n",
    "\n",
    "It is normal in essentially all Machine Learning studies to split the\n",
    "data in a training set and a test set (sometimes also an additional\n",
    "validation set).  **Scikit-Learn** has an own function for this. There\n",
    "is no explicit recipe for how much data should be included as training\n",
    "data and say test data.  An accepted rule of thumb is to use\n",
    "approximately $2/3$ to $4/5$ of the data as training data. We will\n",
    "postpone a discussion of this splitting to the end of these notes and\n",
    "our discussion of the so-called **bias-variance** tradeoff. Here we\n",
    "limit ourselves to repeat the above equation of state fitting example\n",
    "but now splitting the data into a training set and a test set."
   ]
  },
  {
   "cell_type": "markdown",
   "id": "6fc5dc26",
   "metadata": {
    "editable": true
   },
   "source": [
    "## The complete code with a simple data set"
   ]
  },
  {
   "cell_type": "code",
   "execution_count": 4,
   "id": "98ca5627",
   "metadata": {
    "collapsed": false,
    "editable": true,
    "jupyter": {
     "outputs_hidden": false
    }
   },
   "outputs": [
    {
     "name": "stdout",
     "output_type": "stream",
     "text": [
      "[ 2.00000015e+00 -1.33455722e-06  5.00000368e+00 -4.56206180e-06\n",
      "  3.29741124e-06 -1.41302735e-06  7.29192834e-07 -2.87627245e-07]\n",
      "Training R2\n",
      "0.9999999999999959\n",
      "Training MSE\n",
      "9.120225711002453e-15\n",
      "Test R2\n",
      "0.9999999999999963\n",
      "Test MSE\n",
      "6.3758192923440154e-15\n"
     ]
    }
   ],
   "source": [
    "%matplotlib inline\n",
    "\n",
    "import os\n",
    "import numpy as np\n",
    "import pandas as pd\n",
    "import matplotlib.pyplot as plt\n",
    "from sklearn.model_selection import train_test_split\n",
    "\n",
    "\n",
    "def R2(y_data, y_model):\n",
    "    return 1 - np.sum((y_data - y_model) ** 2) / np.sum((y_data - np.mean(y_data)) ** 2)\n",
    "def MSE(y_data,y_model):\n",
    "    n = np.size(y_model)\n",
    "    return np.sum((y_data-y_model)**2)/n\n",
    "\n",
    "x = np.random.rand(100)\n",
    "y = 2.0+5*x*x#+0.1*np.random.randn(100)\n",
    "\n",
    "\n",
    "#  The design matrix now as function of a fourth-order polynomial\n",
    "X = np.zeros((len(x),8))\n",
    "X[:,0] = 1.0\n",
    "X[:,1] = x\n",
    "X[:,2] = x**2\n",
    "X[:,3] = x**3\n",
    "X[:,4] = x**4\n",
    "X[:,5] = x**5\n",
    "X[:,6] = x**6\n",
    "X[:,7] = x**7\n",
    "# We split the data in test and training data\n",
    "X_train, X_test, y_train, y_test = train_test_split(X, y, test_size=0.2)\n",
    "# matrix inversion to find theta\n",
    "theta = np.linalg.inv(X_train.T @ X_train) @ X_train.T @ y_train\n",
    "print(theta)\n",
    "# and then make the prediction\n",
    "ytilde = X_train @ theta\n",
    "print(\"Training R2\")\n",
    "print(R2(y_train,ytilde))\n",
    "print(\"Training MSE\")\n",
    "print(MSE(y_train,ytilde))\n",
    "ypredict = X_test @ theta\n",
    "print(\"Test R2\")\n",
    "print(R2(y_test,ypredict))\n",
    "print(\"Test MSE\")\n",
    "print(MSE(y_test,ypredict))"
   ]
  },
  {
   "cell_type": "markdown",
   "id": "09f0c1c6",
   "metadata": {
    "editable": true
   },
   "source": [
    "## Making your own test-train splitting"
   ]
  },
  {
   "cell_type": "code",
   "execution_count": 8,
   "id": "02220d97",
   "metadata": {
    "collapsed": false,
    "editable": true,
    "jupyter": {
     "outputs_hidden": false
    }
   },
   "outputs": [],
   "source": [
    "# equivalently in numpy\n",
    "def train_test_split_numpy(inputs, labels, train_size, test_size):\n",
    "    n_inputs = len(inputs)\n",
    "    inputs_shuffled = inputs.copy()\n",
    "    labels_shuffled = labels.copy()\n",
    "\n",
    "    np.random.shuffle(inputs_shuffled)\n",
    "    np.random.shuffle(labels_shuffled)\n",
    "\n",
    "    train_end = int(n_inputs*train_size)\n",
    "    X_train, X_test = inputs_shuffled[:train_end], inputs_shuffled[train_end:]\n",
    "    Y_train, Y_test = labels_shuffled[:train_end], labels_shuffled[train_end:]\n",
    "\n",
    "    return X_train, X_test, Y_train, Y_test"
   ]
  },
  {
   "cell_type": "markdown",
   "id": "5494af4d",
   "metadata": {
    "editable": true
   },
   "source": [
    "But since **scikit-learn** has its own function for doing this and since\n",
    "it interfaces easily with **tensorflow** and other libraries, we\n",
    "normally recommend using the latter functionality."
   ]
  },
  {
   "cell_type": "markdown",
   "id": "048560ee",
   "metadata": {
    "editable": true
   },
   "source": [
    "## Reducing the number of degrees of freedom, overarching view\n",
    "\n",
    "Many Machine Learning problems involve thousands or even millions of\n",
    "features for each training instance. Not only does this make training\n",
    "extremely slow, it can also make it much harder to find a good\n",
    "solution, as we will see. This problem is often referred to as the\n",
    "curse of dimensionality.  Fortunately, in real-world problems, it is\n",
    "often possible to reduce the number of features considerably, turning\n",
    "an intractable problem into a tractable one.\n",
    "\n",
    "Later  we will discuss some of the most popular dimensionality reduction\n",
    "techniques: the principal component analysis (PCA), Kernel PCA, and\n",
    "Locally Linear Embedding (LLE).  \n",
    "\n",
    "Principal component analysis and its various variants deal with the\n",
    "problem of fitting a low-dimensional [affine\n",
    "subspace](https://en.wikipedia.org/wiki/Affine_space) to a set of of\n",
    "data points in a high-dimensional space. With its family of methods it\n",
    "is one of the most used tools in data modeling, compression and\n",
    "visualization."
   ]
  },
  {
   "cell_type": "markdown",
   "id": "85b56c79",
   "metadata": {
    "editable": true
   },
   "source": [
    "## Preprocessing our data\n",
    "\n",
    "Before we proceed however, we will discuss how to preprocess our\n",
    "data. Till now and in connection with our previous examples we have\n",
    "not met so many cases where we are too sensitive to the scaling of our\n",
    "data. Normally the data may need a rescaling and/or may be sensitive\n",
    "to extreme values. Scaling the data renders our inputs much more\n",
    "suitable for the algorithms we want to employ.\n",
    "\n",
    "For data sets gathered for real world applications, it is rather normal that\n",
    "different features have very different units and\n",
    "numerical scales. For example, a data set detailing health habits may include\n",
    "features such as **age** in the range $0-80$, and **caloric intake** of order $2000$.\n",
    "Many machine learning methods sensitive to the scales of the features and may perform poorly if they\n",
    "are very different scales. Therefore, it is typical to scale\n",
    "the features in a way to avoid such outlier values."
   ]
  },
  {
   "cell_type": "markdown",
   "id": "60937483",
   "metadata": {
    "editable": true
   },
   "source": [
    "## Functionality in Scikit-Learn\n",
    "\n",
    "**Scikit-Learn** has several functions which allow us to rescale the\n",
    "data, normally resulting in much better results in terms of various\n",
    "accuracy scores.  The **StandardScaler** function in **Scikit-Learn**\n",
    "ensures that for each feature/predictor we study the mean value is\n",
    "zero and the variance is one (every column in the design/feature\n",
    "matrix).  This scaling has the drawback that it does not ensure that\n",
    "we have a particular maximum or minimum in our data set. Another\n",
    "function included in **Scikit-Learn** is the **MinMaxScaler** which\n",
    "ensures that all features are exactly between $0$ and $1$. The"
   ]
  },
  {
   "cell_type": "markdown",
   "id": "5d0ea6a3",
   "metadata": {
    "editable": true
   },
   "source": [
    "## More preprocessing\n",
    "\n",
    "The **Normalizer** scales each data\n",
    "point such that the feature vector has a euclidean length of one. In other words, it\n",
    "projects a data point on the circle (or sphere in the case of higher dimensions) with a\n",
    "radius of 1. This means every data point is scaled by a different number (by the\n",
    "inverse of it’s length).\n",
    "This normalization is often used when only the direction (or angle) of the data matters,\n",
    "not the length of the feature vector.\n",
    "\n",
    "The **RobustScaler** works similarly to the StandardScaler in that it\n",
    "ensures statistical properties for each feature that guarantee that\n",
    "they are on the same scale. However, the RobustScaler uses the median\n",
    "and quartiles, instead of mean and variance. This makes the\n",
    "RobustScaler ignore data points that are very different from the rest\n",
    "(like measurement errors). These odd data points are also called\n",
    "outliers, and might often lead to trouble for other scaling\n",
    "techniques."
   ]
  },
  {
   "cell_type": "markdown",
   "id": "8f6fc4e6",
   "metadata": {
    "editable": true
   },
   "source": [
    "## Frequently used scaling functions\n",
    "\n",
    "Many features are often scaled using standardization to improve performance. In **Scikit-Learn** this is given by the **StandardScaler** function as discussed above. It is easy however to write your own. \n",
    "Mathematically, this involves subtracting the mean and divide by the standard deviation over the data set, for each feature:"
   ]
  },
  {
   "cell_type": "markdown",
   "id": "4bd392ed",
   "metadata": {
    "editable": true
   },
   "source": [
    "$$\n",
    "x_j^{(i)} \\rightarrow \\frac{x_j^{(i)} - \\overline{x}_j}{\\sigma(x_j)},\n",
    "$$"
   ]
  },
  {
   "cell_type": "markdown",
   "id": "4e33d3e3",
   "metadata": {
    "editable": true
   },
   "source": [
    "where $\\overline{x}_j$ and $\\sigma(x_j)$ are the mean and standard deviation, respectively,  of the feature $x_j$.\n",
    "This ensures that each feature has zero mean and unit standard deviation.  For data sets where  we do not have the standard deviation or don't wish to calculate it,  it is then common to simply set it to one."
   ]
  },
  {
   "cell_type": "markdown",
   "id": "7e1c73ac",
   "metadata": {
    "editable": true
   },
   "source": [
    "## Example of own Standard scaling\n",
    "\n",
    "Let us consider the following vanilla example where we use both\n",
    "**Scikit-Learn** and write our own function as well.  We produce a\n",
    "simple test design matrix with random numbers. Each column could then\n",
    "represent a specific feature whose mean value is subracted."
   ]
  },
  {
   "cell_type": "code",
   "execution_count": 6,
   "id": "2c315558",
   "metadata": {
    "collapsed": false,
    "editable": true,
    "jupyter": {
     "outputs_hidden": false
    }
   },
   "outputs": [
    {
     "data": {
      "text/html": [
       "<div>\n",
       "<style scoped>\n",
       "    .dataframe tbody tr th:only-of-type {\n",
       "        vertical-align: middle;\n",
       "    }\n",
       "\n",
       "    .dataframe tbody tr th {\n",
       "        vertical-align: top;\n",
       "    }\n",
       "\n",
       "    .dataframe thead th {\n",
       "        text-align: right;\n",
       "    }\n",
       "</style>\n",
       "<table border=\"1\" class=\"dataframe\">\n",
       "  <thead>\n",
       "    <tr style=\"text-align: right;\">\n",
       "      <th></th>\n",
       "      <th>0</th>\n",
       "      <th>1</th>\n",
       "      <th>2</th>\n",
       "      <th>3</th>\n",
       "      <th>4</th>\n",
       "    </tr>\n",
       "  </thead>\n",
       "  <tbody>\n",
       "    <tr>\n",
       "      <th>0</th>\n",
       "      <td>-1.749765</td>\n",
       "      <td>0.342680</td>\n",
       "      <td>1.153036</td>\n",
       "      <td>-0.252436</td>\n",
       "      <td>0.981321</td>\n",
       "    </tr>\n",
       "    <tr>\n",
       "      <th>1</th>\n",
       "      <td>0.514219</td>\n",
       "      <td>0.221180</td>\n",
       "      <td>-1.070043</td>\n",
       "      <td>-0.189496</td>\n",
       "      <td>0.255001</td>\n",
       "    </tr>\n",
       "    <tr>\n",
       "      <th>2</th>\n",
       "      <td>-0.458027</td>\n",
       "      <td>0.435163</td>\n",
       "      <td>-0.583595</td>\n",
       "      <td>0.816847</td>\n",
       "      <td>0.672721</td>\n",
       "    </tr>\n",
       "    <tr>\n",
       "      <th>3</th>\n",
       "      <td>-0.104411</td>\n",
       "      <td>-0.531280</td>\n",
       "      <td>1.029733</td>\n",
       "      <td>-0.438136</td>\n",
       "      <td>-1.118318</td>\n",
       "    </tr>\n",
       "    <tr>\n",
       "      <th>4</th>\n",
       "      <td>1.618982</td>\n",
       "      <td>1.541605</td>\n",
       "      <td>-0.251879</td>\n",
       "      <td>-0.842436</td>\n",
       "      <td>0.184519</td>\n",
       "    </tr>\n",
       "    <tr>\n",
       "      <th>5</th>\n",
       "      <td>0.937082</td>\n",
       "      <td>0.731000</td>\n",
       "      <td>1.361556</td>\n",
       "      <td>-0.326238</td>\n",
       "      <td>0.055676</td>\n",
       "    </tr>\n",
       "    <tr>\n",
       "      <th>6</th>\n",
       "      <td>0.222400</td>\n",
       "      <td>-1.443217</td>\n",
       "      <td>-0.756352</td>\n",
       "      <td>0.816454</td>\n",
       "      <td>0.750445</td>\n",
       "    </tr>\n",
       "    <tr>\n",
       "      <th>7</th>\n",
       "      <td>-0.455947</td>\n",
       "      <td>1.189622</td>\n",
       "      <td>-1.690617</td>\n",
       "      <td>-1.356399</td>\n",
       "      <td>-1.232435</td>\n",
       "    </tr>\n",
       "    <tr>\n",
       "      <th>8</th>\n",
       "      <td>-0.544439</td>\n",
       "      <td>-0.668172</td>\n",
       "      <td>0.007315</td>\n",
       "      <td>-0.612939</td>\n",
       "      <td>1.299748</td>\n",
       "    </tr>\n",
       "    <tr>\n",
       "      <th>9</th>\n",
       "      <td>-1.733096</td>\n",
       "      <td>-0.983310</td>\n",
       "      <td>0.357508</td>\n",
       "      <td>-1.613579</td>\n",
       "      <td>1.470714</td>\n",
       "    </tr>\n",
       "  </tbody>\n",
       "</table>\n",
       "</div>"
      ],
      "text/plain": [
       "          0         1         2         3         4\n",
       "0 -1.749765  0.342680  1.153036 -0.252436  0.981321\n",
       "1  0.514219  0.221180 -1.070043 -0.189496  0.255001\n",
       "2 -0.458027  0.435163 -0.583595  0.816847  0.672721\n",
       "3 -0.104411 -0.531280  1.029733 -0.438136 -1.118318\n",
       "4  1.618982  1.541605 -0.251879 -0.842436  0.184519\n",
       "5  0.937082  0.731000  1.361556 -0.326238  0.055676\n",
       "6  0.222400 -1.443217 -0.756352  0.816454  0.750445\n",
       "7 -0.455947  1.189622 -1.690617 -1.356399 -1.232435\n",
       "8 -0.544439 -0.668172  0.007315 -0.612939  1.299748\n",
       "9 -1.733096 -0.983310  0.357508 -1.613579  1.470714"
      ]
     },
     "metadata": {},
     "output_type": "display_data"
    },
    {
     "name": "stdout",
     "output_type": "stream",
     "text": [
      "0   -0.175300\n",
      "1    0.083527\n",
      "2   -0.044334\n",
      "3   -0.399836\n",
      "4    0.331939\n",
      "dtype: float64\n",
      "0    1.069584\n",
      "1    0.965548\n",
      "2    1.018232\n",
      "3    0.793167\n",
      "4    0.918992\n",
      "dtype: float64\n"
     ]
    },
    {
     "data": {
      "text/html": [
       "<div>\n",
       "<style scoped>\n",
       "    .dataframe tbody tr th:only-of-type {\n",
       "        vertical-align: middle;\n",
       "    }\n",
       "\n",
       "    .dataframe tbody tr th {\n",
       "        vertical-align: top;\n",
       "    }\n",
       "\n",
       "    .dataframe thead th {\n",
       "        text-align: right;\n",
       "    }\n",
       "</style>\n",
       "<table border=\"1\" class=\"dataframe\">\n",
       "  <thead>\n",
       "    <tr style=\"text-align: right;\">\n",
       "      <th></th>\n",
       "      <th>0</th>\n",
       "      <th>1</th>\n",
       "      <th>2</th>\n",
       "      <th>3</th>\n",
       "      <th>4</th>\n",
       "    </tr>\n",
       "  </thead>\n",
       "  <tbody>\n",
       "    <tr>\n",
       "      <th>0</th>\n",
       "      <td>-1.574465</td>\n",
       "      <td>0.259153</td>\n",
       "      <td>1.197370</td>\n",
       "      <td>0.147400</td>\n",
       "      <td>0.649382</td>\n",
       "    </tr>\n",
       "    <tr>\n",
       "      <th>1</th>\n",
       "      <td>0.689519</td>\n",
       "      <td>0.137652</td>\n",
       "      <td>-1.025709</td>\n",
       "      <td>0.210340</td>\n",
       "      <td>-0.076938</td>\n",
       "    </tr>\n",
       "    <tr>\n",
       "      <th>2</th>\n",
       "      <td>-0.282727</td>\n",
       "      <td>0.351636</td>\n",
       "      <td>-0.539261</td>\n",
       "      <td>1.216683</td>\n",
       "      <td>0.340782</td>\n",
       "    </tr>\n",
       "    <tr>\n",
       "      <th>3</th>\n",
       "      <td>0.070889</td>\n",
       "      <td>-0.614808</td>\n",
       "      <td>1.074067</td>\n",
       "      <td>-0.038300</td>\n",
       "      <td>-1.450257</td>\n",
       "    </tr>\n",
       "    <tr>\n",
       "      <th>4</th>\n",
       "      <td>1.794282</td>\n",
       "      <td>1.458078</td>\n",
       "      <td>-0.207545</td>\n",
       "      <td>-0.442600</td>\n",
       "      <td>-0.147420</td>\n",
       "    </tr>\n",
       "    <tr>\n",
       "      <th>5</th>\n",
       "      <td>1.112383</td>\n",
       "      <td>0.647473</td>\n",
       "      <td>1.405890</td>\n",
       "      <td>0.073598</td>\n",
       "      <td>-0.276263</td>\n",
       "    </tr>\n",
       "    <tr>\n",
       "      <th>6</th>\n",
       "      <td>0.397700</td>\n",
       "      <td>-1.526744</td>\n",
       "      <td>-0.712018</td>\n",
       "      <td>1.216290</td>\n",
       "      <td>0.418506</td>\n",
       "    </tr>\n",
       "    <tr>\n",
       "      <th>7</th>\n",
       "      <td>-0.280647</td>\n",
       "      <td>1.106095</td>\n",
       "      <td>-1.646283</td>\n",
       "      <td>-0.956563</td>\n",
       "      <td>-1.564374</td>\n",
       "    </tr>\n",
       "    <tr>\n",
       "      <th>8</th>\n",
       "      <td>-0.369139</td>\n",
       "      <td>-0.751699</td>\n",
       "      <td>0.051649</td>\n",
       "      <td>-0.213103</td>\n",
       "      <td>0.967809</td>\n",
       "    </tr>\n",
       "    <tr>\n",
       "      <th>9</th>\n",
       "      <td>-1.557795</td>\n",
       "      <td>-1.066837</td>\n",
       "      <td>0.401842</td>\n",
       "      <td>-1.213743</td>\n",
       "      <td>1.138775</td>\n",
       "    </tr>\n",
       "  </tbody>\n",
       "</table>\n",
       "</div>"
      ],
      "text/plain": [
       "          0         1         2         3         4\n",
       "0 -1.574465  0.259153  1.197370  0.147400  0.649382\n",
       "1  0.689519  0.137652 -1.025709  0.210340 -0.076938\n",
       "2 -0.282727  0.351636 -0.539261  1.216683  0.340782\n",
       "3  0.070889 -0.614808  1.074067 -0.038300 -1.450257\n",
       "4  1.794282  1.458078 -0.207545 -0.442600 -0.147420\n",
       "5  1.112383  0.647473  1.405890  0.073598 -0.276263\n",
       "6  0.397700 -1.526744 -0.712018  1.216290  0.418506\n",
       "7 -0.280647  1.106095 -1.646283 -0.956563 -1.564374\n",
       "8 -0.369139 -0.751699  0.051649 -0.213103  0.967809\n",
       "9 -1.557795 -1.066837  0.401842 -1.213743  1.138775"
      ]
     },
     "metadata": {},
     "output_type": "display_data"
    },
    {
     "data": {
      "text/html": [
       "<div>\n",
       "<style scoped>\n",
       "    .dataframe tbody tr th:only-of-type {\n",
       "        vertical-align: middle;\n",
       "    }\n",
       "\n",
       "    .dataframe tbody tr th {\n",
       "        vertical-align: top;\n",
       "    }\n",
       "\n",
       "    .dataframe thead th {\n",
       "        text-align: right;\n",
       "    }\n",
       "</style>\n",
       "<table border=\"1\" class=\"dataframe\">\n",
       "  <thead>\n",
       "    <tr style=\"text-align: right;\">\n",
       "      <th></th>\n",
       "      <th>0</th>\n",
       "      <th>1</th>\n",
       "      <th>2</th>\n",
       "      <th>3</th>\n",
       "      <th>4</th>\n",
       "    </tr>\n",
       "  </thead>\n",
       "  <tbody>\n",
       "    <tr>\n",
       "      <th>0</th>\n",
       "      <td>0.0</td>\n",
       "      <td>0.0</td>\n",
       "      <td>0.0</td>\n",
       "      <td>0.0</td>\n",
       "      <td>0.0</td>\n",
       "    </tr>\n",
       "    <tr>\n",
       "      <th>1</th>\n",
       "      <td>0.0</td>\n",
       "      <td>0.0</td>\n",
       "      <td>0.0</td>\n",
       "      <td>0.0</td>\n",
       "      <td>0.0</td>\n",
       "    </tr>\n",
       "    <tr>\n",
       "      <th>2</th>\n",
       "      <td>0.0</td>\n",
       "      <td>0.0</td>\n",
       "      <td>0.0</td>\n",
       "      <td>0.0</td>\n",
       "      <td>0.0</td>\n",
       "    </tr>\n",
       "    <tr>\n",
       "      <th>3</th>\n",
       "      <td>0.0</td>\n",
       "      <td>0.0</td>\n",
       "      <td>0.0</td>\n",
       "      <td>0.0</td>\n",
       "      <td>0.0</td>\n",
       "    </tr>\n",
       "    <tr>\n",
       "      <th>4</th>\n",
       "      <td>0.0</td>\n",
       "      <td>0.0</td>\n",
       "      <td>0.0</td>\n",
       "      <td>0.0</td>\n",
       "      <td>0.0</td>\n",
       "    </tr>\n",
       "    <tr>\n",
       "      <th>5</th>\n",
       "      <td>0.0</td>\n",
       "      <td>0.0</td>\n",
       "      <td>0.0</td>\n",
       "      <td>0.0</td>\n",
       "      <td>0.0</td>\n",
       "    </tr>\n",
       "    <tr>\n",
       "      <th>6</th>\n",
       "      <td>0.0</td>\n",
       "      <td>0.0</td>\n",
       "      <td>0.0</td>\n",
       "      <td>0.0</td>\n",
       "      <td>0.0</td>\n",
       "    </tr>\n",
       "    <tr>\n",
       "      <th>7</th>\n",
       "      <td>0.0</td>\n",
       "      <td>0.0</td>\n",
       "      <td>0.0</td>\n",
       "      <td>0.0</td>\n",
       "      <td>0.0</td>\n",
       "    </tr>\n",
       "    <tr>\n",
       "      <th>8</th>\n",
       "      <td>0.0</td>\n",
       "      <td>0.0</td>\n",
       "      <td>0.0</td>\n",
       "      <td>0.0</td>\n",
       "      <td>0.0</td>\n",
       "    </tr>\n",
       "    <tr>\n",
       "      <th>9</th>\n",
       "      <td>0.0</td>\n",
       "      <td>0.0</td>\n",
       "      <td>0.0</td>\n",
       "      <td>0.0</td>\n",
       "      <td>0.0</td>\n",
       "    </tr>\n",
       "  </tbody>\n",
       "</table>\n",
       "</div>"
      ],
      "text/plain": [
       "     0    1    2    3    4\n",
       "0  0.0  0.0  0.0  0.0  0.0\n",
       "1  0.0  0.0  0.0  0.0  0.0\n",
       "2  0.0  0.0  0.0  0.0  0.0\n",
       "3  0.0  0.0  0.0  0.0  0.0\n",
       "4  0.0  0.0  0.0  0.0  0.0\n",
       "5  0.0  0.0  0.0  0.0  0.0\n",
       "6  0.0  0.0  0.0  0.0  0.0\n",
       "7  0.0  0.0  0.0  0.0  0.0\n",
       "8  0.0  0.0  0.0  0.0  0.0\n",
       "9  0.0  0.0  0.0  0.0  0.0"
      ]
     },
     "metadata": {},
     "output_type": "display_data"
    }
   ],
   "source": [
    "import sklearn.linear_model as skl\n",
    "from sklearn.metrics import mean_squared_error\n",
    "from sklearn.model_selection import  train_test_split\n",
    "from sklearn.preprocessing import MinMaxScaler, StandardScaler, Normalizer\n",
    "import numpy as np\n",
    "import pandas as pd\n",
    "from IPython.display import display\n",
    "np.random.seed(100)\n",
    "# setting up a 10 x 5 matrix\n",
    "rows = 10\n",
    "cols = 5\n",
    "X = np.random.randn(rows,cols)\n",
    "XPandas = pd.DataFrame(X)\n",
    "display(XPandas)\n",
    "print(XPandas.mean())\n",
    "print(XPandas.std())\n",
    "XPandas = (XPandas -XPandas.mean())\n",
    "display(XPandas)\n",
    "#  This option does not include the standard deviation\n",
    "scaler = StandardScaler(with_std=False)\n",
    "scaler.fit(X)\n",
    "Xscaled = scaler.transform(X)\n",
    "display(XPandas-Xscaled)"
   ]
  },
  {
   "cell_type": "markdown",
   "id": "aaa58775",
   "metadata": {
    "editable": true
   },
   "source": [
    "Small exercise: perform the standard scaling by including the standard deviation and compare with what Scikit-Learn gives."
   ]
  },
  {
   "cell_type": "markdown",
   "id": "02b198ed",
   "metadata": {
    "editable": true
   },
   "source": [
    "## Min-Max Scaling\n",
    "\n",
    "Another commonly used scaling method is min-max scaling. This is very\n",
    "useful for when we want the features to lie in a certain interval. To\n",
    "scale the feature $x_j$ to the interval $[a, b]$, we can apply the\n",
    "transformation"
   ]
  },
  {
   "cell_type": "markdown",
   "id": "4cef197d",
   "metadata": {
    "editable": true
   },
   "source": [
    "$$\n",
    "x_j^{(i)} \\rightarrow (b-a)\\frac{x_j^{(i)} - \\min(x_j)}{\\max(x_j) - \\min(x_j)} - a\n",
    "$$"
   ]
  },
  {
   "cell_type": "markdown",
   "id": "23b34528",
   "metadata": {
    "editable": true
   },
   "source": [
    "where $\\min(x_j)$ and $\\max(x_j)$ return the minimum and maximum value of $x_j$ over the data set, respectively."
   ]
  },
  {
   "cell_type": "markdown",
   "id": "b2847956",
   "metadata": {
    "editable": true
   },
   "source": [
    "## Testing the Means Squared Error as function of Complexity\n",
    "\n",
    "One of \n",
    "the aims is to reproduce Figure 2.11 of [Hastie et al](https://github.com/CompPhysics/MLErasmus/blob/master/doc/Textbooks/elementsstat.pdf).\n",
    "\n",
    "Our data is defined by $x\\in [-3,3]$ with a total of for example $100$ data points."
   ]
  },
  {
   "cell_type": "code",
   "execution_count": 7,
   "id": "b8dacc33",
   "metadata": {
    "collapsed": false,
    "editable": true,
    "jupyter": {
     "outputs_hidden": false
    }
   },
   "outputs": [],
   "source": [
    "np.random.seed()\n",
    "n = 100\n",
    "maxdegree = 14\n",
    "# Make data set.\n",
    "x = np.linspace(-3, 3, n).reshape(-1, 1)\n",
    "y = np.exp(-x**2) + 1.5 * np.exp(-(x-2)**2)+ np.random.normal(0, 0.1, x.shape)"
   ]
  },
  {
   "cell_type": "markdown",
   "id": "cd89705f",
   "metadata": {
    "editable": true
   },
   "source": [
    "where $y$ is the function we want to fit with a given polynomial.\n",
    "\n",
    "Write a first code which sets up a design matrix $X$ defined by a fourth-order polynomial.  Scale your data and split it in training and test data."
   ]
  },
  {
   "cell_type": "code",
   "execution_count": 12,
   "id": "d35541fd",
   "metadata": {
    "collapsed": false,
    "editable": true,
    "jupyter": {
     "outputs_hidden": false
    }
   },
   "outputs": [
    {
     "data": {
      "image/png": "[encoded data removed]",
      "text/plain": [
       "<Figure size 640x480 with 1 Axes>"
      ]
     },
     "metadata": {},
     "output_type": "display_data"
    }
   ],
   "source": [
    "import matplotlib.pyplot as plt\n",
    "import numpy as np\n",
    "from sklearn.linear_model import LinearRegression\n",
    "from sklearn.preprocessing import PolynomialFeatures\n",
    "from sklearn.model_selection import train_test_split\n",
    "from sklearn.pipeline import make_pipeline\n",
    "\n",
    "\n",
    "np.random.seed(2018)\n",
    "n = 100\n",
    "maxdegree = 30\n",
    "# Make data set.\n",
    "x = np.linspace(-3, 3, n).reshape(-1, 1)\n",
    "y = np.exp(-x**2) + 1.5 * np.exp(-(x-2)**2)+ np.random.normal(0, 0.1, x.shape)\n",
    "TestError = np.zeros(maxdegree)\n",
    "TrainError = np.zeros(maxdegree)\n",
    "polydegree = np.zeros(maxdegree)\n",
    "x_train, x_test, y_train, y_test = train_test_split(x, y, test_size=0.2)\n",
    "scaler = StandardScaler()\n",
    "scaler.fit(x_train)\n",
    "x_train_scaled = scaler.transform(x_train)\n",
    "x_test_scaled = scaler.transform(x_test)\n",
    "\n",
    "for degree in range(maxdegree):\n",
    "    model = make_pipeline(PolynomialFeatures(degree=degree), LinearRegression(fit_intercept=False))\n",
    "    clf = model.fit(x_train_scaled,y_train)\n",
    "    y_fit = clf.predict(x_train_scaled)\n",
    "    y_pred = clf.predict(x_test_scaled) \n",
    "    polydegree[degree] = degree\n",
    "    TestError[degree] = np.mean( np.mean((y_test - y_pred)**2) )\n",
    "    TrainError[degree] = np.mean( np.mean((y_train - y_fit)**2) )\n",
    "\n",
    "plt.plot(polydegree, TestError, label='Test Error')\n",
    "plt.plot(polydegree, TrainError, label='Train Error')\n",
    "plt.legend()\n",
    "plt.show()"
   ]
  },
  {
   "cell_type": "markdown",
   "id": "36014ec9",
   "metadata": {
    "editable": true
   },
   "source": [
    "## Mathematical Interpretation of Ordinary Least Squares\n",
    "\n",
    "What is presented here is a mathematical analysis of various regression algorithms (ordinary least  squares, Ridge and Lasso Regression). The analysis is based on an important algorithm in linear algebra, the so-called Singular Value Decomposition (SVD). \n",
    "\n",
    "We have shown that in ordinary least squares the optimal parameters $\\theta$ are given by"
   ]
  },
  {
   "cell_type": "markdown",
   "id": "16fb5f8f",
   "metadata": {
    "editable": true
   },
   "source": [
    "$$\n",
    "\\hat{\\boldsymbol{\\theta}} = \\left(\\boldsymbol{X}^T\\boldsymbol{X}\\right)^{-1}\\boldsymbol{X}^T\\boldsymbol{y}.\n",
    "$$"
   ]
  },
  {
   "cell_type": "markdown",
   "id": "f1ec698e",
   "metadata": {
    "editable": true
   },
   "source": [
    "The **hat** over $\\boldsymbol{\\theta}$ means we have the optimal parameters after minimization of the cost function.\n",
    "\n",
    "This means that our best model is defined as"
   ]
  },
  {
   "cell_type": "markdown",
   "id": "787f58f5",
   "metadata": {
    "editable": true
   },
   "source": [
    "$$\n",
    "\\tilde{\\boldsymbol{y}}=\\boldsymbol{X}\\hat{\\boldsymbol{\\theta}} = \\boldsymbol{X}\\left(\\boldsymbol{X}^T\\boldsymbol{X}\\right)^{-1}\\boldsymbol{X}^T\\boldsymbol{y}.\n",
    "$$"
   ]
  },
  {
   "cell_type": "markdown",
   "id": "e23435fd",
   "metadata": {
    "editable": true
   },
   "source": [
    "We now define a matrix"
   ]
  },
  {
   "cell_type": "markdown",
   "id": "ccaad283",
   "metadata": {
    "editable": true
   },
   "source": [
    "$$\n",
    "\\boldsymbol{A}=\\boldsymbol{X}\\left(\\boldsymbol{X}^T\\boldsymbol{X}\\right)^{-1}\\boldsymbol{X}^T.\n",
    "$$"
   ]
  },
  {
   "cell_type": "markdown",
   "id": "be8092da",
   "metadata": {
    "editable": true
   },
   "source": [
    "We can rewrite"
   ]
  },
  {
   "cell_type": "markdown",
   "id": "6e055e08",
   "metadata": {
    "editable": true
   },
   "source": [
    "$$\n",
    "\\tilde{\\boldsymbol{y}}=\\boldsymbol{X}\\hat{\\boldsymbol{\\theta}} = \\boldsymbol{A}\\boldsymbol{y}.\n",
    "$$"
   ]
  },
  {
   "cell_type": "markdown",
   "id": "ff86c9bc",
   "metadata": {
    "editable": true
   },
   "source": [
    "The matrix $\\boldsymbol{A}$ has the important property that $\\boldsymbol{A}^2=\\boldsymbol{A}$. This is the definition of a projection matrix.\n",
    "We can then interpret our optimal model $\\tilde{\\boldsymbol{y}}$ as being represented  by an orthogonal  projection of $\\boldsymbol{y}$ onto a space defined by the column vectors of $\\boldsymbol{X}$.  In our case here the matrix $\\boldsymbol{A}$ is a square matrix. If it is a general rectangular matrix we have an oblique projection matrix."
   ]
  },
  {
   "cell_type": "markdown",
   "id": "b4f2e747",
   "metadata": {
    "editable": true
   },
   "source": [
    "## Residual Error\n",
    "\n",
    "We have defined the residual error as"
   ]
  },
  {
   "cell_type": "markdown",
   "id": "5a9a9f87",
   "metadata": {
    "editable": true
   },
   "source": [
    "$$\n",
    "\\boldsymbol{\\epsilon}=\\boldsymbol{y}-\\tilde{\\boldsymbol{y}}=\\left[\\boldsymbol{I}-\\boldsymbol{X}\\left(\\boldsymbol{X}^T\\boldsymbol{X}\\right)^{-1}\\boldsymbol{X}^T\\right]\\boldsymbol{y}.\n",
    "$$"
   ]
  },
  {
   "cell_type": "markdown",
   "id": "1232e11a",
   "metadata": {
    "editable": true
   },
   "source": [
    "The residual errors are then the projections of $\\boldsymbol{y}$ onto the orthogonal component of the space defined by the column vectors of $\\boldsymbol{X}$."
   ]
  },
  {
   "cell_type": "markdown",
   "id": "a807825b",
   "metadata": {
    "editable": true
   },
   "source": [
    "## Simple case\n",
    "\n",
    "If the matrix $\\boldsymbol{X}$ is an orthogonal (or unitary in case of complex values) matrix, we have"
   ]
  },
  {
   "cell_type": "markdown",
   "id": "4fa9855c",
   "metadata": {
    "editable": true
   },
   "source": [
    "$$\n",
    "\\boldsymbol{X}^T\\boldsymbol{X}=\\boldsymbol{X}\\boldsymbol{X}^T = \\boldsymbol{I}.\n",
    "$$"
   ]
  },
  {
   "cell_type": "markdown",
   "id": "dcffefcf",
   "metadata": {
    "editable": true
   },
   "source": [
    "In this case the matrix $\\boldsymbol{A}$ becomes"
   ]
  },
  {
   "cell_type": "markdown",
   "id": "3c08ff3a",
   "metadata": {
    "editable": true
   },
   "source": [
    "$$\n",
    "\\boldsymbol{A}=\\boldsymbol{X}\\left(\\boldsymbol{X}^T\\boldsymbol{X}\\right)^{-1}\\boldsymbol{X}^T)=\\boldsymbol{I},\n",
    "$$"
   ]
  },
  {
   "cell_type": "markdown",
   "id": "c2483a13",
   "metadata": {
    "editable": true
   },
   "source": [
    "and we have the obvious case"
   ]
  },
  {
   "cell_type": "markdown",
   "id": "9a82a8c5",
   "metadata": {
    "editable": true
   },
   "source": [
    "$$\n",
    "\\boldsymbol{\\epsilon}=\\boldsymbol{y}-\\tilde{\\boldsymbol{y}}=0.\n",
    "$$"
   ]
  },
  {
   "cell_type": "markdown",
   "id": "743f7309",
   "metadata": {
    "editable": true
   },
   "source": [
    "This serves also as a useful test of our codes."
   ]
  },
  {
   "cell_type": "markdown",
   "id": "e6d7b31a",
   "metadata": {
    "editable": true
   },
   "source": [
    "## The singular value decomposition\n",
    "\n",
    "The examples we have looked at so far are cases where we normally can\n",
    "invert the matrix $\\boldsymbol{X}^T\\boldsymbol{X}$. Using a polynomial expansion where we fit of various functions leads to\n",
    "row vectors of the design matrix which are essentially orthogonal due\n",
    "to the polynomial character of our model. Obtaining the inverse of the\n",
    "design matrix is then often done via a so-called LU, QR or Cholesky\n",
    "decomposition.\n",
    "\n",
    "As we will also see in the first project, \n",
    "this may\n",
    "however not the be case in general and a standard matrix inversion\n",
    "algorithm based on say LU, QR or Cholesky decomposition may lead to singularities. We will see examples of this below and in other examples.\n",
    "\n",
    "There is however a way to circumvent this problem and also\n",
    "gain some insights about the ordinary least squares approach, and\n",
    "later shrinkage methods like Ridge and Lasso regressions.\n",
    "\n",
    "This is given by the **Singular Value Decomposition** (SVD) algorithm,\n",
    "perhaps the most powerful linear algebra algorithm.  The SVD provides\n",
    "a numerically stable matrix decomposition that is used in a large\n",
    "swath oc applications and the decomposition is always stable\n",
    "numerically.\n",
    "\n",
    "In machine learning it plays a central role in dealing with for\n",
    "example design matrices that may be near singular or singular.\n",
    "Furthermore, as we will see here, the singular values can be related\n",
    "to the covariance matrix (and thereby the correlation matrix) and in\n",
    "turn the variance of a given quantity. It plays also an important role\n",
    "in the principal component analysis where high-dimensional data can be\n",
    "reduced to the statistically relevant features."
   ]
  },
  {
   "cell_type": "markdown",
   "id": "518d6bb4",
   "metadata": {
    "editable": true
   },
   "source": [
    "## Linear Regression Problems\n",
    "\n",
    "One of the typical problems we encounter with linear regression, in particular \n",
    "when the matrix $\\boldsymbol{X}$ (our so-called design matrix) is high-dimensional, \n",
    "are problems with near singular or singular matrices. The column vectors of $\\boldsymbol{X}$ \n",
    "may be linearly dependent, normally referred to as super-collinearity.  \n",
    "This means that the matrix may be rank deficient and it is basically impossible to \n",
    "to model the data using linear regression. As an example, consider the matrix"
   ]
  },
  {
   "cell_type": "markdown",
   "id": "056673c8",
   "metadata": {
    "editable": true
   },
   "source": [
    "$$\n",
    "\\begin{align*}\n",
    "\\mathbf{X} & =  \\left[\n",
    "\\begin{array}{rrr}\n",
    "1 & -1 & 2\n",
    "\\\\\n",
    "1 & 0 & 1\n",
    "\\\\\n",
    "1 & 2  & -1\n",
    "\\\\\n",
    "1 & 1  & 0\n",
    "\\end{array} \\right]\n",
    "\\end{align*}\n",
    "$$"
   ]
  },
  {
   "cell_type": "markdown",
   "id": "63daba59",
   "metadata": {
    "editable": true
   },
   "source": [
    "The columns of $\\boldsymbol{X}$ are linearly dependent. We see this easily since the \n",
    "the first column is the row-wise sum of the other two columns. The rank (more correct,\n",
    "the column rank) of a matrix is the dimension of the space spanned by the\n",
    "column vectors. Hence, the rank of $\\mathbf{X}$ is equal to the number\n",
    "of linearly independent columns. In this particular case the matrix has rank 2.\n",
    "\n",
    "Super-collinearity of an $(n \\times p)$-dimensional design matrix $\\mathbf{X}$ implies\n",
    "that the inverse of the matrix $\\boldsymbol{X}^T\\boldsymbol{X}$ (the matrix we need to invert to solve the linear regression equations) is non-invertible. If we have a square matrix that does not have an inverse, we say this matrix singular. The example here demonstrates this"
   ]
  },
  {
   "cell_type": "markdown",
   "id": "89b74667",
   "metadata": {
    "editable": true
   },
   "source": [
    "$$\n",
    "\\begin{align*}\n",
    "\\boldsymbol{X} & =  \\left[\n",
    "\\begin{array}{rr}\n",
    "1 & -1\n",
    "\\\\\n",
    "1 & -1\n",
    "\\end{array} \\right].\n",
    "\\end{align*}\n",
    "$$"
   ]
  },
  {
   "cell_type": "markdown",
   "id": "588dd662",
   "metadata": {
    "editable": true
   },
   "source": [
    "We see easily that  $\\mbox{det}(\\boldsymbol{X}) = x_{11} x_{22} - x_{12} x_{21} = 1 \\times (-1) - 1 \\times (-1) = 0$. Hence, $\\mathbf{X}$ is singular and its inverse is undefined.\n",
    "This is equivalent to saying that the matrix $\\boldsymbol{X}$ has at least an eigenvalue which is zero."
   ]
  },
  {
   "cell_type": "markdown",
   "id": "eb8348c6",
   "metadata": {
    "editable": true
   },
   "source": [
    "## Fixing the singularity\n",
    "\n",
    "If our design matrix $\\boldsymbol{X}$ which enters the linear regression problem"
   ]
  },
  {
   "cell_type": "markdown",
   "id": "62027bc1",
   "metadata": {
    "editable": true
   },
   "source": [
    "<!-- Equation labels as ordinary links -->\n",
    "<div id=\"_auto1\"></div>\n",
    "\n",
    "$$\n",
    "\\begin{equation}\n",
    "\\boldsymbol{\\theta}  =  (\\boldsymbol{X}^{T} \\boldsymbol{X})^{-1} \\boldsymbol{X}^{T} \\boldsymbol{y},\n",
    "\\label{_auto1} \\tag{1}\n",
    "\\end{equation}\n",
    "$$"
   ]
  },
  {
   "cell_type": "markdown",
   "id": "0c73c4b7",
   "metadata": {
    "editable": true
   },
   "source": [
    "has linearly dependent column vectors, we will not be able to compute the inverse\n",
    "of $\\boldsymbol{X}^T\\boldsymbol{X}$ and we cannot find the parameters (estimators) $\\theta_i$. \n",
    "The estimators are only well-defined if $(\\boldsymbol{X}^{T}\\boldsymbol{X})^{-1}$ exits. \n",
    "This is more likely to happen when the matrix $\\boldsymbol{X}$ is high-dimensional. In this case it is likely to encounter a situation where \n",
    "the regression parameters $\\theta_i$ cannot be estimated.\n",
    "\n",
    "A cheap  *ad hoc* approach is  simply to add a small diagonal component to the matrix to invert, that is we change"
   ]
  },
  {
   "cell_type": "markdown",
   "id": "a3a2d330",
   "metadata": {
    "editable": true
   },
   "source": [
    "$$\n",
    "\\boldsymbol{X}^{T} \\boldsymbol{X} \\rightarrow \\boldsymbol{X}^{T} \\boldsymbol{X}+\\lambda \\boldsymbol{I},\n",
    "$$"
   ]
  },
  {
   "cell_type": "markdown",
   "id": "374b88cc",
   "metadata": {
    "editable": true
   },
   "source": [
    "where $\\boldsymbol{I}$ is the identity matrix.  When we discuss **Ridge** regression this is actually what we end up evaluating. The parameter $\\lambda$ is called a hyperparameter. More about this later."
   ]
  },
  {
   "cell_type": "markdown",
   "id": "d5aa42e6",
   "metadata": {
    "editable": true
   },
   "source": [
    "## Ridge and LASSO Regression\n",
    "\n",
    "Let us remind ourselves about the expression for the standard Mean Squared Error (MSE) which we used to define our cost function and the equations for the ordinary least squares (OLS) method, that is \n",
    "our optimization problem is"
   ]
  },
  {
   "cell_type": "markdown",
   "id": "1c01a816",
   "metadata": {
    "editable": true
   },
   "source": [
    "$$\n",
    "{\\displaystyle \\min_{\\boldsymbol{\\theta}\\in {\\mathbb{R}}^{p}}}\\frac{1}{n}\\left\\{\\left(\\boldsymbol{y}-\\boldsymbol{X}\\boldsymbol{\\theta}\\right)^T\\left(\\boldsymbol{y}-\\boldsymbol{X}\\boldsymbol{\\theta}\\right)\\right\\}.\n",
    "$$"
   ]
  },
  {
   "cell_type": "markdown",
   "id": "f556eddc",
   "metadata": {
    "editable": true
   },
   "source": [
    "or we can state it as"
   ]
  },
  {
   "cell_type": "markdown",
   "id": "dcf14a16",
   "metadata": {
    "editable": true
   },
   "source": [
    "$$\n",
    "{\\displaystyle \\min_{\\boldsymbol{\\theta}\\in\n",
    "{\\mathbb{R}}^{p}}}\\frac{1}{n}\\sum_{i=0}^{n-1}\\left(y_i-\\tilde{y}_i\\right)^2=\\frac{1}{n}\\vert\\vert \\boldsymbol{y}-\\boldsymbol{X}\\boldsymbol{\\theta}\\vert\\vert_2^2,\n",
    "$$"
   ]
  },
  {
   "cell_type": "markdown",
   "id": "08c37095",
   "metadata": {
    "editable": true
   },
   "source": [
    "where we have used the definition of  a norm-2 vector, that is"
   ]
  },
  {
   "cell_type": "markdown",
   "id": "6815fa1b",
   "metadata": {
    "editable": true
   },
   "source": [
    "$$\n",
    "\\vert\\vert \\boldsymbol{x}\\vert\\vert_2 = \\sqrt{\\sum_i x_i^2}.\n",
    "$$"
   ]
  },
  {
   "cell_type": "markdown",
   "id": "daf50946",
   "metadata": {
    "editable": true
   },
   "source": [
    "By minimizing the above equation with respect to the parameters\n",
    "$\\boldsymbol{\\theta}$ we could then obtain an analytical expression for the\n",
    "parameters $\\boldsymbol{\\theta}$.  We can add a regularization parameter $\\lambda$ by\n",
    "defining a new cost function to be optimized, that is"
   ]
  },
  {
   "cell_type": "markdown",
   "id": "a7a60cb3",
   "metadata": {
    "editable": true
   },
   "source": [
    "$$\n",
    "{\\displaystyle \\min_{\\boldsymbol{\\theta}\\in\n",
    "{\\mathbb{R}}^{p}}}\\frac{1}{n}\\vert\\vert \\boldsymbol{y}-\\boldsymbol{X}\\boldsymbol{\\theta}\\vert\\vert_2^2+\\lambda\\vert\\vert \\boldsymbol{\\theta}\\vert\\vert_2^2\n",
    "$$"
   ]
  },
  {
   "cell_type": "markdown",
   "id": "38105bfd",
   "metadata": {
    "editable": true
   },
   "source": [
    "which leads to the Ridge regression minimization problem where we\n",
    "require that $\\vert\\vert \\boldsymbol{\\theta}\\vert\\vert_2^2\\le t$, where $t$ is\n",
    "a finite number larger than zero. By defining"
   ]
  },
  {
   "cell_type": "markdown",
   "id": "3d697464",
   "metadata": {
    "editable": true
   },
   "source": [
    "$$\n",
    "C(\\boldsymbol{X},\\boldsymbol{\\theta})=\\frac{1}{n}\\vert\\vert \\boldsymbol{y}-\\boldsymbol{X}\\boldsymbol{\\theta}\\vert\\vert_2^2+\\lambda\\vert\\vert \\boldsymbol{\\theta}\\vert\\vert_1,\n",
    "$$"
   ]
  },
  {
   "cell_type": "markdown",
   "id": "c298d7ba",
   "metadata": {
    "editable": true
   },
   "source": [
    "we have a new optimization equation"
   ]
  },
  {
   "cell_type": "markdown",
   "id": "45265b59",
   "metadata": {
    "editable": true
   },
   "source": [
    "$$\n",
    "{\\displaystyle \\min_{\\boldsymbol{\\theta}\\in\n",
    "{\\mathbb{R}}^{p}}}\\frac{1}{n}\\vert\\vert \\boldsymbol{y}-\\boldsymbol{X}\\boldsymbol{\\theta}\\vert\\vert_2^2+\\lambda\\vert\\vert \\boldsymbol{\\theta}\\vert\\vert_1\n",
    "$$"
   ]
  },
  {
   "cell_type": "markdown",
   "id": "ab6ce408",
   "metadata": {
    "editable": true
   },
   "source": [
    "which leads to Lasso regression. Lasso stands for least absolute shrinkage and selection operator. \n",
    "\n",
    "Here we have defined the norm-1 as"
   ]
  },
  {
   "cell_type": "markdown",
   "id": "ca0350a7",
   "metadata": {
    "editable": true
   },
   "source": [
    "$$\n",
    "\\vert\\vert \\boldsymbol{x}\\vert\\vert_1 = \\sum_i \\vert x_i\\vert.\n",
    "$$"
   ]
  },
  {
   "cell_type": "markdown",
   "id": "e8146e6f",
   "metadata": {
    "editable": true
   },
   "source": [
    "## Deriving the  Ridge Regression Equations\n",
    "\n",
    "Using the matrix-vector expression for Ridge regression and dropping the parameter $1/n$ in front of the standard means squared error equation, we have"
   ]
  },
  {
   "cell_type": "markdown",
   "id": "05d97a86",
   "metadata": {
    "editable": true
   },
   "source": [
    "$$\n",
    "C(\\boldsymbol{X},\\boldsymbol{\\theta})=\\left\\{(\\boldsymbol{y}-\\boldsymbol{X}\\boldsymbol{\\theta})^T(\\boldsymbol{y}-\\boldsymbol{X}\\boldsymbol{\\theta})\\right\\}+\\lambda\\boldsymbol{\\theta}^T\\boldsymbol{\\theta},\n",
    "$$"
   ]
  },
  {
   "cell_type": "markdown",
   "id": "f84e7118",
   "metadata": {
    "editable": true
   },
   "source": [
    "and \n",
    "taking the derivatives with respect to $\\boldsymbol{\\theta}$ we obtain then\n",
    "a slightly modified matrix inversion problem which for finite values\n",
    "of $\\lambda$ does not suffer from singularity problems. We obtain\n",
    "the optimal parameters"
   ]
  },
  {
   "cell_type": "markdown",
   "id": "28be9ec4",
   "metadata": {
    "editable": true
   },
   "source": [
    "$$\n",
    "\\hat{\\boldsymbol{\\theta}}_{\\mathrm{Ridge}} = \\left(\\boldsymbol{X}^T\\boldsymbol{X}+\\lambda\\boldsymbol{I}\\right)^{-1}\\boldsymbol{X}^T\\boldsymbol{y},\n",
    "$$"
   ]
  },
  {
   "cell_type": "markdown",
   "id": "b9f5a5d8",
   "metadata": {
    "editable": true
   },
   "source": [
    "with $\\boldsymbol{I}$ being a $p\\times p$ identity matrix with the constraint that"
   ]
  },
  {
   "cell_type": "markdown",
   "id": "86b43b21",
   "metadata": {
    "editable": true
   },
   "source": [
    "$$\n",
    "\\sum_{i=0}^{p-1} \\theta_i^2 \\leq t,\n",
    "$$"
   ]
  },
  {
   "cell_type": "markdown",
   "id": "58744172",
   "metadata": {
    "editable": true
   },
   "source": [
    "with $t$ a finite positive number. \n",
    "\n",
    "If we keep the $1/n$ factor, the equation for the optimal $\\theta$ changes to"
   ]
  },
  {
   "cell_type": "markdown",
   "id": "dd515e6f",
   "metadata": {
    "editable": true
   },
   "source": [
    "$$\n",
    "\\hat{\\boldsymbol{\\theta}}_{\\mathrm{Ridge}} = \\left(\\boldsymbol{X}^T\\boldsymbol{X}+n\\lambda\\boldsymbol{I}\\right)^{-1}\\boldsymbol{X}^T\\boldsymbol{y}.\n",
    "$$"
   ]
  },
  {
   "cell_type": "markdown",
   "id": "e8c98bfe",
   "metadata": {
    "editable": true
   },
   "source": [
    "In many textbooks the $1/n$ term is often omitted. Note that a library like **Scikit-Learn** does not include the $1/n$ factor in the setup of the cost function.\n",
    "\n",
    "When we compare this with the ordinary least squares result we have"
   ]
  },
  {
   "cell_type": "markdown",
   "id": "08cc9626",
   "metadata": {
    "editable": true
   },
   "source": [
    "$$\n",
    "\\hat{\\boldsymbol{\\theta}}_{\\mathrm{OLS}} = \\left(\\boldsymbol{X}^T\\boldsymbol{X}\\right)^{-1}\\boldsymbol{X}^T\\boldsymbol{y},\n",
    "$$"
   ]
  },
  {
   "cell_type": "markdown",
   "id": "725df93e",
   "metadata": {
    "editable": true
   },
   "source": [
    "which can lead to singular matrices. However, with the SVD, we can always compute the inverse of the matrix $\\boldsymbol{X}^T\\boldsymbol{X}$.\n",
    "\n",
    "We see that Ridge regression is nothing but the standard OLS with a\n",
    "modified diagonal term added to $\\boldsymbol{X}^T\\boldsymbol{X}$. The consequences, in\n",
    "particular for our discussion of the bias-variance tradeoff are rather\n",
    "interesting. We will see that for specific values of $\\lambda$, we may\n",
    "even reduce the variance of the optimal parameters $\\boldsymbol{\\theta}$. These topics and other related ones, will be discussed after the more linear algebra oriented analysis here.\n",
    "\n",
    "When we have discussed the singular value decomposition of the design\n",
    "matrix $\\boldsymbol{X}$, we will in turn perform a more rigorous mathematical\n",
    "discussion of Ridge regression.\n",
    "\n",
    "The code here is a simple demonstration of how to implement Ridge regression with our own code and compare this with scikit-learn."
   ]
  },
  {
   "cell_type": "code",
   "execution_count": 12,
   "id": "8d0397cd",
   "metadata": {
    "collapsed": false,
    "editable": true,
    "jupyter": {
     "outputs_hidden": false
    }
   },
   "outputs": [],
   "source": [
    "import numpy as np\n",
    "import pandas as pd\n",
    "import matplotlib.pyplot as plt\n",
    "from sklearn.model_selection import train_test_split\n",
    "from sklearn import linear_model\n",
    "\n",
    "def MSE(y_data,y_model):\n",
    "    n = np.size(y_model)\n",
    "    return np.sum((y_data-y_model)**2)/n\n",
    "\n",
    "\n",
    "# A seed just to ensure that the random numbers are the same for every run.\n",
    "# Useful for eventual debugging.\n",
    "np.random.seed(3155)\n",
    "\n",
    "n = 100\n",
    "x = np.random.rand(n)\n",
    "y = np.exp(-x**2) + 1.5 * np.exp(-(x-2)**2)\n",
    "\n",
    "Maxpolydegree = 20\n",
    "X = np.zeros((n,Maxpolydegree))\n",
    "#We include explicitely the intercept column\n",
    "for degree in range(Maxpolydegree):\n",
    "    X[:,degree] = x**degree\n",
    "# We split the data in test and training data\n",
    "X_train, X_test, y_train, y_test = train_test_split(X, y, test_size=0.2)\n",
    "\n",
    "p = Maxpolydegree\n",
    "I = np.eye(p,p)\n",
    "# Decide which values of lambda to use\n",
    "nlambdas = 6\n",
    "MSEOwnRidgePredict = np.zeros(nlambdas)\n",
    "MSERidgePredict = np.zeros(nlambdas)\n",
    "lambdas = np.logspace(-4, 2, nlambdas)\n",
    "for i in range(nlambdas):\n",
    "    lmb = lambdas[i]\n",
    "    OwnRidgeTheta = np.linalg.pinv(X_train.T @ X_train+lmb*I) @ X_train.T @ y_train\n",
    "    # Note: we include the intercept column and no scaling\n",
    "    RegRidge = linear_model.Ridge(lmb,fit_intercept=False)\n",
    "    RegRidge.fit(X_train,y_train)\n",
    "    # and then make the prediction\n",
    "    ytildeOwnRidge = X_train @ OwnRidgeTheta\n",
    "    ypredictOwnRidge = X_test @ OwnRidgeTheta\n",
    "    ytildeRidge = RegRidge.predict(X_train)\n",
    "    ypredictRidge = RegRidge.predict(X_test)\n",
    "    MSEOwnRidgePredict[i] = MSE(y_test,ypredictOwnRidge)\n",
    "    MSERidgePredict[i] = MSE(y_test,ypredictRidge)\n",
    "    print(\"Theta values for own Ridge implementation\")\n",
    "    print(OwnRidgeTheta)\n",
    "    print(\"Theta values for Scikit-Learn Ridge implementation\")\n",
    "    print(RegRidge.coef_)\n",
    "    print(\"MSE values for own Ridge implementation\")\n",
    "    print(MSEOwnRidgePredict[i])\n",
    "    print(\"MSE values for Scikit-Learn Ridge implementation\")\n",
    "    print(MSERidgePredict[i])\n",
    "\n",
    "# Now plot the results\n",
    "plt.figure()\n",
    "plt.plot(np.log10(lambdas), MSEOwnRidgePredict, 'r', label = 'MSE own Ridge Test')\n",
    "plt.plot(np.log10(lambdas), MSERidgePredict, 'g', label = 'MSE Ridge Test')\n",
    "\n",
    "plt.xlabel('log10(lambda)')\n",
    "plt.ylabel('MSE')\n",
    "plt.legend()\n",
    "plt.show()"
   ]
  },
  {
   "cell_type": "markdown",
   "id": "dbc56c2b",
   "metadata": {
    "editable": true
   },
   "source": [
    "The results here agree when we force **Scikit-Learn**'s Ridge function to include the first column in our design matrix.\n",
    "We see that the results agree very well. Here we have thus explicitely included the intercept column in the design matrix.\n",
    "What happens if we do not include the intercept in our fit? We will discuss this in more detail next week."
   ]
  },
  {
   "cell_type": "markdown",
   "id": "cfab477f",
   "metadata": {
    "editable": true
   },
   "source": [
    "## Basic math of the SVD\n",
    "\n",
    "From standard linear algebra we know that a square matrix $\\boldsymbol{X}$ can be diagonalized if and only if it is \n",
    "a so-called [normal matrix](https://en.wikipedia.org/wiki/Normal_matrix), that is if $\\boldsymbol{X}\\in {\\mathbb{R}}^{n\\times n}$\n",
    "we have $\\boldsymbol{X}\\boldsymbol{X}^T=\\boldsymbol{X}^T\\boldsymbol{X}$ or if $\\boldsymbol{X}\\in {\\mathbb{C}}^{n\\times n}$ we have $\\boldsymbol{X}\\boldsymbol{X}^{\\dagger}=\\boldsymbol{X}^{\\dagger}\\boldsymbol{X}$.\n",
    "The matrix has then a set of eigenpairs"
   ]
  },
  {
   "cell_type": "markdown",
   "id": "bc176ed4",
   "metadata": {
    "editable": true
   },
   "source": [
    "$$\n",
    "(\\lambda_1,\\boldsymbol{u}_1),\\dots, (\\lambda_n,\\boldsymbol{u}_n),\n",
    "$$"
   ]
  },
  {
   "cell_type": "markdown",
   "id": "a9eef8e3",
   "metadata": {
    "editable": true
   },
   "source": [
    "and the eigenvalues are given by the diagonal matrix"
   ]
  },
  {
   "cell_type": "markdown",
   "id": "c33552ec",
   "metadata": {
    "editable": true
   },
   "source": [
    "$$\n",
    "\\boldsymbol{\\Sigma}=\\mathrm{Diag}(\\lambda_1, \\dots,\\lambda_n).\n",
    "$$"
   ]
  },
  {
   "cell_type": "markdown",
   "id": "9465d4f6",
   "metadata": {
    "editable": true
   },
   "source": [
    "The matrix $\\boldsymbol{X}$ can be written in terms of an orthogonal/unitary transformation $\\boldsymbol{U}$"
   ]
  },
  {
   "cell_type": "markdown",
   "id": "3cd89a35",
   "metadata": {
    "editable": true
   },
   "source": [
    "$$\n",
    "\\boldsymbol{X} = \\boldsymbol{U}\\boldsymbol{\\Sigma}\\boldsymbol{V}^T,\n",
    "$$"
   ]
  },
  {
   "cell_type": "markdown",
   "id": "13a9f453",
   "metadata": {
    "editable": true
   },
   "source": [
    "with $\\boldsymbol{U}\\boldsymbol{U}^T=\\boldsymbol{I}$ or $\\boldsymbol{U}\\boldsymbol{U}^{\\dagger}=\\boldsymbol{I}$.\n",
    "\n",
    "Not all square matrices are diagonalizable. A matrix like the one discussed above"
   ]
  },
  {
   "cell_type": "markdown",
   "id": "6c909f72",
   "metadata": {
    "editable": true
   },
   "source": [
    "$$\n",
    "\\boldsymbol{X} = \\begin{bmatrix} \n",
    "1&  -1 \\\\\n",
    "1& -1\\\\\n",
    "\\end{bmatrix}\n",
    "$$"
   ]
  },
  {
   "cell_type": "markdown",
   "id": "b32ee709",
   "metadata": {
    "editable": true
   },
   "source": [
    "is not diagonalizable, it is a so-called [defective matrix](https://en.wikipedia.org/wiki/Defective_matrix). It is easy to see that the condition\n",
    "$\\boldsymbol{X}\\boldsymbol{X}^T=\\boldsymbol{X}^T\\boldsymbol{X}$ is not fulfilled."
   ]
  },
  {
   "cell_type": "markdown",
   "id": "e5d3f72c",
   "metadata": {
    "editable": true
   },
   "source": [
    "## The SVD, a Fantastic Algorithm\n",
    "\n",
    "However, and this is the strength of the SVD algorithm, any general\n",
    "matrix $\\boldsymbol{X}$ can be decomposed in terms of a diagonal matrix and\n",
    "two orthogonal/unitary matrices.  The [Singular Value Decompostion\n",
    "(SVD) theorem](https://en.wikipedia.org/wiki/Singular_value_decomposition)\n",
    "states that a general $m\\times n$ matrix $\\boldsymbol{X}$ can be written in\n",
    "terms of a diagonal matrix $\\boldsymbol{\\Sigma}$ of dimensionality $m\\times n$\n",
    "and two orthognal matrices $\\boldsymbol{U}$ and $\\boldsymbol{V}$, where the first has\n",
    "dimensionality $m \\times m$ and the last dimensionality $n\\times n$.\n",
    "We have then"
   ]
  },
  {
   "cell_type": "markdown",
   "id": "18f488f0",
   "metadata": {
    "editable": true
   },
   "source": [
    "$$\n",
    "\\boldsymbol{X} = \\boldsymbol{U}\\boldsymbol{\\Sigma}\\boldsymbol{V}^T\n",
    "$$"
   ]
  },
  {
   "cell_type": "markdown",
   "id": "93618783",
   "metadata": {
    "editable": true
   },
   "source": [
    "As an example, the above defective matrix can be decomposed as"
   ]
  },
  {
   "cell_type": "markdown",
   "id": "02f57528",
   "metadata": {
    "editable": true
   },
   "source": [
    "$$\n",
    "\\boldsymbol{X} = \\frac{1}{\\sqrt{2}}\\begin{bmatrix}  1&  1 \\\\ 1& -1\\\\ \\end{bmatrix} \\begin{bmatrix}  2&  0 \\\\ 0& 0\\\\ \\end{bmatrix}    \\frac{1}{\\sqrt{2}}\\begin{bmatrix}  1&  -1 \\\\ 1& 1\\\\ \\end{bmatrix}=\\boldsymbol{U}\\boldsymbol{\\Sigma}\\boldsymbol{V}^T,\n",
    "$$"
   ]
  },
  {
   "cell_type": "markdown",
   "id": "762833f4",
   "metadata": {
    "editable": true
   },
   "source": [
    "with eigenvalues $\\sigma_1=2$ and $\\sigma_2=0$. \n",
    "The SVD exits always! \n",
    "\n",
    "The SVD\n",
    "decomposition (singular values) gives eigenvalues \n",
    "$\\sigma_i\\geq\\sigma_{i+1}$ for all $i$ and for dimensions larger than $i=p$, the\n",
    "eigenvalues (singular values) are zero.\n",
    "\n",
    "In the general case, where our design matrix $\\boldsymbol{X}$ has dimension\n",
    "$n\\times p$, the matrix is thus decomposed into an $n\\times n$\n",
    "orthogonal matrix $\\boldsymbol{U}$, a $p\\times p$ orthogonal matrix $\\boldsymbol{V}$\n",
    "and a diagonal matrix $\\boldsymbol{\\Sigma}$ with $r=\\mathrm{min}(n,p)$\n",
    "singular values $\\sigma_i\\geq 0$ on the main diagonal and zeros filling\n",
    "the rest of the matrix.  There are at most $p$ singular values\n",
    "assuming that $n > p$. In our regression examples for the nuclear\n",
    "masses and the equation of state this is indeed the case, while for\n",
    "the Ising model we have $p > n$. These are often cases that lead to\n",
    "near singular or singular matrices.\n",
    "\n",
    "The columns of $\\boldsymbol{U}$ are called the left singular vectors while the columns of $\\boldsymbol{V}$ are the right singular vectors."
   ]
  },
  {
   "cell_type": "markdown",
   "id": "9ab8ec4f",
   "metadata": {
    "editable": true
   },
   "source": [
    "## Economy-size SVD\n",
    "\n",
    "If we assume that $n > p$, then our matrix $\\boldsymbol{U}$ has dimension $n\n",
    "\\times n$. The last $n-p$ columns of $\\boldsymbol{U}$ become however\n",
    "irrelevant in our calculations since they are multiplied with the\n",
    "zeros in $\\boldsymbol{\\Sigma}$.\n",
    "\n",
    "The economy-size decomposition removes extra rows or columns of zeros\n",
    "from the diagonal matrix of singular values, $\\boldsymbol{\\Sigma}$, along with the columns\n",
    "in either $\\boldsymbol{U}$ or $\\boldsymbol{V}$ that multiply those zeros in the expression. \n",
    "Removing these zeros and columns can improve execution time\n",
    "and reduce storage requirements without compromising the accuracy of\n",
    "the decomposition.\n",
    "\n",
    "If $n > p$, we keep only the first $p$ columns of $\\boldsymbol{U}$ and $\\boldsymbol{\\Sigma}$ has dimension $p\\times p$. \n",
    "If $p > n$, then only the first $n$ columns of $\\boldsymbol{V}$ are computed and $\\boldsymbol{\\Sigma}$ has dimension $n\\times n$.\n",
    "The $n=p$ case is obvious, we retain the full SVD. \n",
    "In general the economy-size SVD leads to less FLOPS and still conserving the desired accuracy."
   ]
  },
  {
   "cell_type": "markdown",
   "id": "3e526d1f",
   "metadata": {
    "editable": true
   },
   "source": [
    "## Codes for the SVD"
   ]
  },
  {
   "cell_type": "code",
   "execution_count": 13,
   "id": "f5d258ce",
   "metadata": {
    "collapsed": false,
    "editable": true,
    "jupyter": {
     "outputs_hidden": false
    }
   },
   "outputs": [],
   "source": [
    "import numpy as np\n",
    "# SVD inversion\n",
    "def SVD(A):\n",
    "    ''' Takes as input a numpy matrix A and returns inv(A) based on singular value decomposition (SVD).\n",
    "    SVD is numerically more stable than the inversion algorithms provided by\n",
    "    numpy and scipy.linalg at the cost of being slower.\n",
    "    '''\n",
    "    U, S, VT = np.linalg.svd(A,full_matrices=True)\n",
    "    print('test U')\n",
    "    print( (np.transpose(U) @ U - U @np.transpose(U)))\n",
    "    print('test VT')\n",
    "    print( (np.transpose(VT) @ VT - VT @np.transpose(VT)))\n",
    "    print(U)\n",
    "    print(S)\n",
    "    print(VT)\n",
    "\n",
    "    D = np.zeros((len(U),len(VT)))\n",
    "    for i in range(0,len(VT)):\n",
    "        D[i,i]=S[i]\n",
    "    return U @ D @ VT\n",
    "\n",
    "\n",
    "X = np.array([ [1.0,-1.0], [1.0,-1.0]])\n",
    "#X = np.array([[1, 2], [3, 4], [5, 6]])\n",
    "\n",
    "print(X)\n",
    "C = SVD(X)\n",
    "# Print the difference between the original matrix and the SVD one\n",
    "print(C-X)"
   ]
  },
  {
   "cell_type": "markdown",
   "id": "4e4bf198",
   "metadata": {
    "editable": true
   },
   "source": [
    "The matrix $\\boldsymbol{X}$ has columns that are linearly dependent. The first\n",
    "column is the row-wise sum of the other two columns. The rank of a\n",
    "matrix (the column rank) is the dimension of space spanned by the\n",
    "column vectors. The rank of the matrix is the number of linearly\n",
    "independent columns, in this case just $2$. We see this from the\n",
    "singular values when running the above code. Running the standard\n",
    "inversion algorithm for matrix inversion with $\\boldsymbol{X}^T\\boldsymbol{X}$ results\n",
    "in the program terminating due to a singular matrix."
   ]
  },
  {
   "cell_type": "markdown",
   "id": "33a42ac4",
   "metadata": {
    "editable": true
   },
   "source": [
    "## Note about SVD Calculations\n",
    "\n",
    "The $U$, $S$, and $V$ matrices returned from the **svd()** function\n",
    "cannot be multiplied directly.\n",
    "\n",
    "As you can see from the code, the $S$ vector must be converted into a\n",
    "diagonal matrix. This may cause a problem as the size of the matrices\n",
    "do not fit the rules of matrix multiplication, where the number of\n",
    "columns in a matrix must match the number of rows in the subsequent\n",
    "matrix.\n",
    "\n",
    "If you wish to include the zero singular values, you will need to\n",
    "resize the matrices and set up a diagonal matrix as done in the above\n",
    "example"
   ]
  },
  {
   "cell_type": "markdown",
   "id": "7b5d1bbb",
   "metadata": {
    "editable": true
   },
   "source": [
    "## Mathematics of the SVD and implications\n",
    "\n",
    "Let us take a closer look at the mathematics of the SVD and the various implications for machine learning studies.\n",
    "\n",
    "Our starting point is our design matrix $\\boldsymbol{X}$ of dimension $n\\times p$"
   ]
  },
  {
   "cell_type": "markdown",
   "id": "1fee5f54",
   "metadata": {
    "editable": true
   },
   "source": [
    "$$\n",
    "\\boldsymbol{X}=\\begin{bmatrix}\n",
    "x_{0,0} & x_{0,1} & x_{0,2}& \\dots & \\dots x_{0,p-1}\\\\\n",
    "x_{1,0} & x_{1,1} & x_{1,2}& \\dots & \\dots x_{1,p-1}\\\\\n",
    "x_{2,0} & x_{2,1} & x_{2,2}& \\dots & \\dots x_{2,p-1}\\\\\n",
    "\\dots & \\dots & \\dots & \\dots \\dots & \\dots \\\\\n",
    "x_{n-2,0} & x_{n-2,1} & x_{n-2,2}& \\dots & \\dots x_{n-2,p-1}\\\\\n",
    "x_{n-1,0} & x_{n-1,1} & x_{n-1,2}& \\dots & \\dots x_{n-1,p-1}\\\\\n",
    "\\end{bmatrix}.\n",
    "$$"
   ]
  },
  {
   "cell_type": "markdown",
   "id": "235f2975",
   "metadata": {
    "editable": true
   },
   "source": [
    "We can SVD decompose our matrix as"
   ]
  },
  {
   "cell_type": "markdown",
   "id": "fd7415b7",
   "metadata": {
    "editable": true
   },
   "source": [
    "$$\n",
    "\\boldsymbol{X}=\\boldsymbol{U}\\boldsymbol{\\Sigma}\\boldsymbol{V}^T,\n",
    "$$"
   ]
  },
  {
   "cell_type": "markdown",
   "id": "7c265b5d",
   "metadata": {
    "editable": true
   },
   "source": [
    "where $\\boldsymbol{U}$ is an orthogonal matrix of dimension $n\\times n$, meaning that $\\boldsymbol{U}\\boldsymbol{U}^T=\\boldsymbol{U}^T\\boldsymbol{U}=\\boldsymbol{I}_n$. Here $\\boldsymbol{I}_n$ is the unit matrix of dimension $n \\times n$.\n",
    "\n",
    "Similarly, $\\boldsymbol{V}$ is an orthogonal matrix of dimension $p\\times p$, meaning that $\\boldsymbol{V}\\boldsymbol{V}^T=\\boldsymbol{V}^T\\boldsymbol{V}=\\boldsymbol{I}_p$. Here $\\boldsymbol{I}_n$ is the unit matrix of dimension $p \\times p$.\n",
    "\n",
    "Finally $\\boldsymbol{\\Sigma}$ contains the singular values $\\sigma_i$. This matrix has dimension $n\\times p$ and the singular values $\\sigma_i$ are all positive. The non-zero values are ordered in descending order, that is"
   ]
  },
  {
   "cell_type": "markdown",
   "id": "976c31a2",
   "metadata": {
    "editable": true
   },
   "source": [
    "$$\n",
    "\\sigma_0 > \\sigma_1 > \\sigma_2 > \\dots > \\sigma_{p-1} > 0.\n",
    "$$"
   ]
  },
  {
   "cell_type": "markdown",
   "id": "8dc8acd7",
   "metadata": {
    "editable": true
   },
   "source": [
    "All values beyond $p-1$ are all zero."
   ]
  },
  {
   "cell_type": "markdown",
   "id": "a1dc8e8e",
   "metadata": {
    "editable": true
   },
   "source": [
    "## Example Matrix\n",
    "\n",
    "As an example, consider the following $3\\times 2$ example for the matrix $\\boldsymbol{\\Sigma}$"
   ]
  },
  {
   "cell_type": "markdown",
   "id": "eb688af0",
   "metadata": {
    "editable": true
   },
   "source": [
    "$$\n",
    "\\boldsymbol{\\Sigma}=\n",
    "\\begin{bmatrix}\n",
    "2& 0 \\\\\n",
    "0 & 1 \\\\\n",
    "0 & 0 \\\\\n",
    "\\end{bmatrix}\n",
    "$$"
   ]
  },
  {
   "cell_type": "markdown",
   "id": "eeadd85e",
   "metadata": {
    "editable": true
   },
   "source": [
    "The singular values are $\\sigma_0=2$ and $\\sigma_1=1$. It is common to rewrite the matrix $\\boldsymbol{\\Sigma}$ as"
   ]
  },
  {
   "cell_type": "markdown",
   "id": "e9375ad7",
   "metadata": {
    "editable": true
   },
   "source": [
    "$$\n",
    "\\boldsymbol{\\Sigma}=\n",
    "\\begin{bmatrix}\n",
    "\\boldsymbol{\\tilde{\\Sigma}}\\\\\n",
    "\\boldsymbol{0}\\\\\n",
    "\\end{bmatrix},\n",
    "$$"
   ]
  },
  {
   "cell_type": "markdown",
   "id": "025f1ca1",
   "metadata": {
    "editable": true
   },
   "source": [
    "where"
   ]
  },
  {
   "cell_type": "markdown",
   "id": "d44951a1",
   "metadata": {
    "editable": true
   },
   "source": [
    "$$\n",
    "\\boldsymbol{\\tilde{\\Sigma}}=\n",
    "\\begin{bmatrix}\n",
    "2& 0 \\\\\n",
    "0 & 1 \\\\\n",
    "\\end{bmatrix},\n",
    "$$"
   ]
  },
  {
   "cell_type": "markdown",
   "id": "ecc9216b",
   "metadata": {
    "editable": true
   },
   "source": [
    "contains only the singular values.   Note also (and we will use this below) that"
   ]
  },
  {
   "cell_type": "markdown",
   "id": "28e2ff44",
   "metadata": {
    "editable": true
   },
   "source": [
    "$$\n",
    "\\boldsymbol{\\Sigma}^T\\boldsymbol{\\Sigma}=\n",
    "\\begin{bmatrix}\n",
    "4& 0 \\\\\n",
    "0 & 1 \\\\\n",
    "\\end{bmatrix},\n",
    "$$"
   ]
  },
  {
   "cell_type": "markdown",
   "id": "935324af",
   "metadata": {
    "editable": true
   },
   "source": [
    "which is a $2\\times 2 $ matrix while"
   ]
  },
  {
   "cell_type": "markdown",
   "id": "a15e7526",
   "metadata": {
    "editable": true
   },
   "source": [
    "$$\n",
    "\\boldsymbol{\\Sigma}\\boldsymbol{\\Sigma}^T=\n",
    "\\begin{bmatrix}\n",
    "4& 0 & 0\\\\\n",
    "0 & 1 & 0\\\\\n",
    "0 & 0 & 0\\\\\n",
    "\\end{bmatrix},\n",
    "$$"
   ]
  },
  {
   "cell_type": "markdown",
   "id": "5d3cef55",
   "metadata": {
    "editable": true
   },
   "source": [
    "is a $3\\times 3 $ matrix. The last row and column of this last matrix\n",
    "contain only zeros. This will have important consequences for our SVD\n",
    "decomposition of the design matrix."
   ]
  },
  {
   "cell_type": "markdown",
   "id": "0fab1783",
   "metadata": {
    "editable": true
   },
   "source": [
    "## Setting up the Matrix to be inverted\n",
    "\n",
    "The matrix that may cause problems for us is $\\boldsymbol{X}^T\\boldsymbol{X}$. Using the SVD we can rewrite this matrix as"
   ]
  },
  {
   "cell_type": "markdown",
   "id": "f9a8450e",
   "metadata": {
    "editable": true
   },
   "source": [
    "$$\n",
    "\\boldsymbol{X}^T\\boldsymbol{X}=\\boldsymbol{V}\\boldsymbol{\\Sigma}^T\\boldsymbol{U}^T\\boldsymbol{U}\\boldsymbol{\\Sigma}\\boldsymbol{V}^T,\n",
    "$$"
   ]
  },
  {
   "cell_type": "markdown",
   "id": "485d1023",
   "metadata": {
    "editable": true
   },
   "source": [
    "and using the orthogonality of the matrix $\\boldsymbol{U}$ we have"
   ]
  },
  {
   "cell_type": "markdown",
   "id": "a2da5dbe",
   "metadata": {
    "editable": true
   },
   "source": [
    "$$\n",
    "\\boldsymbol{X}^T\\boldsymbol{X}=\\boldsymbol{V}\\boldsymbol{\\Sigma}^T\\boldsymbol{\\Sigma}\\boldsymbol{V}^T.\n",
    "$$"
   ]
  },
  {
   "cell_type": "markdown",
   "id": "13959099",
   "metadata": {
    "editable": true
   },
   "source": [
    "We define $\\boldsymbol{\\Sigma}^T\\boldsymbol{\\Sigma}=\\tilde{\\boldsymbol{\\Sigma}}^2$ which is  a diagonal matrix containing only the singular values squared. It has dimensionality $p \\times p$.\n",
    "\n",
    "We can now insert the result for the matrix $\\boldsymbol{X}^T\\boldsymbol{X}$ into our equation for ordinary least squares where"
   ]
  },
  {
   "cell_type": "markdown",
   "id": "23f0b903",
   "metadata": {
    "editable": true
   },
   "source": [
    "$$\n",
    "\\tilde{y}_{\\mathrm{OLS}}=\\boldsymbol{X}\\left(\\boldsymbol{X}^T\\boldsymbol{X}\\right)^{-1}\\boldsymbol{X}^T\\boldsymbol{y},\n",
    "$$"
   ]
  },
  {
   "cell_type": "markdown",
   "id": "1c344e77",
   "metadata": {
    "editable": true
   },
   "source": [
    "and using our SVD decomposition of $\\boldsymbol{X}$ we have"
   ]
  },
  {
   "cell_type": "markdown",
   "id": "d8064053",
   "metadata": {
    "editable": true
   },
   "source": [
    "$$\n",
    "\\tilde{y}_{\\mathrm{OLS}}=\\boldsymbol{U}\\boldsymbol{\\Sigma}\\boldsymbol{V}^T\\left(\\boldsymbol{V}\\tilde{\\boldsymbol{\\Sigma}}^{2}(\\boldsymbol{V}^T\\right)^{-1}\\boldsymbol{V}\\boldsymbol{\\Sigma}^T\\boldsymbol{U}^T\\boldsymbol{y},\n",
    "$$"
   ]
  },
  {
   "cell_type": "markdown",
   "id": "714ab01f",
   "metadata": {
    "editable": true
   },
   "source": [
    "which gives us, using the orthogonality of the matrix $\\boldsymbol{V}$,"
   ]
  },
  {
   "cell_type": "markdown",
   "id": "a3ff6988",
   "metadata": {
    "editable": true
   },
   "source": [
    "$$\n",
    "\\tilde{y}_{\\mathrm{OLS}}=\\boldsymbol{U}\\boldsymbol{U}^T\\boldsymbol{y}=\\sum_{i=0}^{p-1}\\boldsymbol{u}_i\\boldsymbol{u}^T_i\\boldsymbol{y},\n",
    "$$"
   ]
  },
  {
   "cell_type": "markdown",
   "id": "5c204f79",
   "metadata": {
    "editable": true
   },
   "source": [
    "It means that the ordinary least square model (with the optimal\n",
    "parameters) $\\boldsymbol{\\tilde{y}}$, corresponds to an orthogonal\n",
    "transformation of the output (or target) vector $\\boldsymbol{y}$ by the\n",
    "vectors of the matrix $\\boldsymbol{U}$. **Note that the summation ends at**\n",
    "$p-1$, that is $\\boldsymbol{\\tilde{y}}\\ne \\boldsymbol{y}$. We can thus not use the\n",
    "orthogonality relation for the matrix $\\boldsymbol{U}$. This can already be\n",
    "when we multiply the matrices $\\boldsymbol{\\Sigma}^T\\boldsymbol{U}^T$."
   ]
  },
  {
   "cell_type": "markdown",
   "id": "78c51f10",
   "metadata": {
    "editable": true
   },
   "source": [
    "## Further properties (important for our analyses later)\n",
    "\n",
    "Let us study again $\\boldsymbol{X}^T\\boldsymbol{X}$ in terms of our SVD,"
   ]
  },
  {
   "cell_type": "markdown",
   "id": "2c432ed4",
   "metadata": {
    "editable": true
   },
   "source": [
    "$$\n",
    "\\boldsymbol{X}^T\\boldsymbol{X}=\\boldsymbol{V}\\boldsymbol{\\Sigma}^T\\boldsymbol{U}^T\\boldsymbol{U}\\boldsymbol{\\Sigma}\\boldsymbol{V}^T=\\boldsymbol{V}\\boldsymbol{\\Sigma}^T\\boldsymbol{\\Sigma}\\boldsymbol{V}^T.\n",
    "$$"
   ]
  },
  {
   "cell_type": "markdown",
   "id": "68a7b505",
   "metadata": {
    "editable": true
   },
   "source": [
    "If we now multiply from the right with $\\boldsymbol{V}$ (using the orthogonality of $\\boldsymbol{V}$) we get"
   ]
  },
  {
   "cell_type": "markdown",
   "id": "14268cd5",
   "metadata": {
    "editable": true
   },
   "source": [
    "$$\n",
    "\\left(\\boldsymbol{X}^T\\boldsymbol{X}\\right)\\boldsymbol{V}=\\boldsymbol{V}\\boldsymbol{\\Sigma}^T\\boldsymbol{\\Sigma}.\n",
    "$$"
   ]
  },
  {
   "cell_type": "markdown",
   "id": "f3207844",
   "metadata": {
    "editable": true
   },
   "source": [
    "This means the vectors $\\boldsymbol{v}_i$ of the orthogonal matrix $\\boldsymbol{V}$ are the eigenvectors of the matrix $\\boldsymbol{X}^T\\boldsymbol{X}$\n",
    "with eigenvalues given by the singular values squared, that is"
   ]
  },
  {
   "cell_type": "markdown",
   "id": "4c7f5556",
   "metadata": {
    "editable": true
   },
   "source": [
    "$$\n",
    "\\left(\\boldsymbol{X}^T\\boldsymbol{X}\\right)\\boldsymbol{v}_i=\\boldsymbol{v}_i\\sigma_i^2.\n",
    "$$"
   ]
  },
  {
   "cell_type": "markdown",
   "id": "01bd8826",
   "metadata": {
    "editable": true
   },
   "source": [
    "Similarly, if we use the SVD decomposition for the matrix $\\boldsymbol{X}\\boldsymbol{X}^T$, we have"
   ]
  },
  {
   "cell_type": "markdown",
   "id": "cb083248",
   "metadata": {
    "editable": true
   },
   "source": [
    "$$\n",
    "\\boldsymbol{X}\\boldsymbol{X}^T=\\boldsymbol{U}\\boldsymbol{\\Sigma}\\boldsymbol{V}^T\\boldsymbol{V}\\boldsymbol{\\Sigma}^T\\boldsymbol{U}^T=\\boldsymbol{U}\\boldsymbol{\\Sigma}\\boldsymbol{\\Sigma}^T\\boldsymbol{U}^T.\n",
    "$$"
   ]
  },
  {
   "cell_type": "markdown",
   "id": "66bd1ec9",
   "metadata": {
    "editable": true
   },
   "source": [
    "If we now multiply from the right with $\\boldsymbol{U}$ (using the orthogonality of $\\boldsymbol{U}$) we get"
   ]
  },
  {
   "cell_type": "markdown",
   "id": "b92a06bb",
   "metadata": {
    "editable": true
   },
   "source": [
    "$$\n",
    "\\left(\\boldsymbol{X}\\boldsymbol{X}^T\\right)\\boldsymbol{U}=\\boldsymbol{U}\\boldsymbol{\\Sigma}\\boldsymbol{\\Sigma}^T.\n",
    "$$"
   ]
  },
  {
   "cell_type": "markdown",
   "id": "dad0b409",
   "metadata": {
    "editable": true
   },
   "source": [
    "This means the vectors $\\boldsymbol{u}_i$ of the orthogonal matrix $\\boldsymbol{U}$ are the eigenvectors of the matrix $\\boldsymbol{X}\\boldsymbol{X}^T$\n",
    "with eigenvalues given by the singular values squared, that is"
   ]
  },
  {
   "cell_type": "markdown",
   "id": "75d85fa8",
   "metadata": {
    "editable": true
   },
   "source": [
    "$$\n",
    "\\left(\\boldsymbol{X}\\boldsymbol{X}^T\\right)\\boldsymbol{u}_i=\\boldsymbol{u}_i\\sigma_i^2.\n",
    "$$"
   ]
  },
  {
   "cell_type": "markdown",
   "id": "d0918773",
   "metadata": {
    "editable": true
   },
   "source": [
    "**Important note**: we have defined our design matrix $\\boldsymbol{X}$ to be an\n",
    "$n\\times p$ matrix. In most supervised learning cases we have that $n\n",
    "\\ge p$, and quite often we have $n >> p$. For linear algebra based methods like ordinary least squares or Ridge regression, this leads to a matrix $\\boldsymbol{X}^T\\boldsymbol{X}$ which is small and thereby easier to handle from a computational point of view (in terms of number of floating point operations).\n",
    "\n",
    "In our lectures, the number of columns will\n",
    "always refer to the number of features in our data set, while the\n",
    "number of rows represents the number of data inputs. Note that in\n",
    "other texts you may find the opposite notation. This has consequences\n",
    "for the definition of for example the covariance matrix and its relation to the SVD."
   ]
  },
  {
   "cell_type": "markdown",
   "id": "65592b3b",
   "metadata": {
    "editable": true
   },
   "source": [
    "## Meet the Covariance Matrix\n",
    "\n",
    "Before we move on to a discussion of Ridge and Lasso regression, we want to show an important example of the above.\n",
    "\n",
    "We have already noted that the matrix $\\boldsymbol{X}^T\\boldsymbol{X}$ in ordinary\n",
    "least squares is proportional to the second derivative of the cost\n",
    "function, that is we have"
   ]
  },
  {
   "cell_type": "markdown",
   "id": "442404b8",
   "metadata": {
    "editable": true
   },
   "source": [
    "$$\n",
    "\\frac{\\partial^2 C(\\boldsymbol{\\theta})}{\\partial \\boldsymbol{\\theta}\\partial \\boldsymbol{\\theta}^T} =\\frac{2}{n}\\boldsymbol{X}^T\\boldsymbol{X}.\n",
    "$$"
   ]
  },
  {
   "cell_type": "markdown",
   "id": "50eca816",
   "metadata": {
    "editable": true
   },
   "source": [
    "This quantity defines was what is called the Hessian matrix (the second derivative of a function we want to optimize).\n",
    "\n",
    "The Hessian matrix plays an important role and is defined in this course as"
   ]
  },
  {
   "cell_type": "markdown",
   "id": "a27e487e",
   "metadata": {
    "editable": true
   },
   "source": [
    "$$\n",
    "\\boldsymbol{H}=\\boldsymbol{X}^T\\boldsymbol{X}.\n",
    "$$"
   ]
  },
  {
   "cell_type": "markdown",
   "id": "49c74d48",
   "metadata": {
    "editable": true
   },
   "source": [
    "The Hessian matrix for ordinary least squares is also proportional to\n",
    "the covariance matrix. This means also that we can use the SVD to find\n",
    "the eigenvalues of the covariance matrix and the Hessian matrix in\n",
    "terms of the singular values.   Let us develop these arguments, as they will play an important role in our machine learning studies."
   ]
  },
  {
   "cell_type": "markdown",
   "id": "214feab7",
   "metadata": {
    "editable": true
   },
   "source": [
    "## Introducing the Covariance and Correlation functions\n",
    "\n",
    "Before we discuss the link between for example Ridge regression and the singular value decomposition, we need to remind ourselves about\n",
    "the definition of the covariance and the correlation function. These are quantities that play a central role in machine learning methods.\n",
    "\n",
    "Suppose we have defined two vectors\n",
    "$\\hat{x}$ and $\\hat{y}$ with $n$ elements each. The covariance matrix $\\boldsymbol{C}$ is defined as"
   ]
  },
  {
   "cell_type": "markdown",
   "id": "e61c0669",
   "metadata": {
    "editable": true
   },
   "source": [
    "$$\n",
    "\\boldsymbol{C}[\\boldsymbol{x},\\boldsymbol{y}] = \\begin{bmatrix} \\mathrm{cov}[\\boldsymbol{x},\\boldsymbol{x}] & \\mathrm{cov}[\\boldsymbol{x},\\boldsymbol{y}] \\\\\n",
    "                              \\mathrm{cov}[\\boldsymbol{y},\\boldsymbol{x}] & \\mathrm{cov}[\\boldsymbol{y},\\boldsymbol{y}] \\\\\n",
    "             \\end{bmatrix},\n",
    "$$"
   ]
  },
  {
   "cell_type": "markdown",
   "id": "9f3db006",
   "metadata": {
    "editable": true
   },
   "source": [
    "where for example"
   ]
  },
  {
   "cell_type": "markdown",
   "id": "6dfeb8ca",
   "metadata": {
    "editable": true
   },
   "source": [
    "$$\n",
    "\\mathrm{cov}[\\boldsymbol{x},\\boldsymbol{y}] =\\frac{1}{n} \\sum_{i=0}^{n-1}(x_i- \\overline{x})(y_i- \\overline{y}).\n",
    "$$"
   ]
  },
  {
   "cell_type": "markdown",
   "id": "da47505d",
   "metadata": {
    "editable": true
   },
   "source": [
    "With this definition and recalling that the variance is defined as"
   ]
  },
  {
   "cell_type": "markdown",
   "id": "87c1a756",
   "metadata": {
    "editable": true
   },
   "source": [
    "$$\n",
    "\\mathrm{var}[\\boldsymbol{x}]=\\frac{1}{n} \\sum_{i=0}^{n-1}(x_i- \\overline{x})^2,\n",
    "$$"
   ]
  },
  {
   "cell_type": "markdown",
   "id": "5028dae1",
   "metadata": {
    "editable": true
   },
   "source": [
    "we can rewrite the covariance matrix as"
   ]
  },
  {
   "cell_type": "markdown",
   "id": "98da161b",
   "metadata": {
    "editable": true
   },
   "source": [
    "$$\n",
    "\\boldsymbol{C}[\\boldsymbol{x},\\boldsymbol{y}] = \\begin{bmatrix} \\mathrm{var}[\\boldsymbol{x}] & \\mathrm{cov}[\\boldsymbol{x},\\boldsymbol{y}] \\\\\n",
    "                              \\mathrm{cov}[\\boldsymbol{x},\\boldsymbol{y}] & \\mathrm{var}[\\boldsymbol{y}] \\\\\n",
    "             \\end{bmatrix}.\n",
    "$$"
   ]
  },
  {
   "cell_type": "markdown",
   "id": "69065ef4",
   "metadata": {
    "editable": true
   },
   "source": [
    "**Note:** we have used $1/n$ in the above definitions of the *sample* variance and covariance. We assume then that we can calculate the exact mean value. \n",
    "What you will find in essentially all statistics texts are equations\n",
    "with a factor $1/(n-1)$. This is called [Bessel's correction](https://mathworld.wolfram.com/BesselsCorrection.html). This\n",
    "method corrects the bias in the estimation of the population variance\n",
    "and covariance. It also partially corrects the bias in the estimation\n",
    "of the population standard deviation. If you use a library like\n",
    "**Scikit-Learn** or **nunmpy's** function to calculate the covariance, this\n",
    "quantity will be computed with a factor $1/(n-1)$."
   ]
  },
  {
   "cell_type": "markdown",
   "id": "3455143e",
   "metadata": {
    "editable": true
   },
   "source": [
    "## Covariance and Correlation Matrix\n",
    "\n",
    "The covariance takes values between zero and infinity and may thus\n",
    "lead to problems with loss of numerical precision for particularly\n",
    "large values. It is common to scale the covariance matrix by\n",
    "introducing instead the correlation matrix defined via the so-called\n",
    "correlation function"
   ]
  },
  {
   "cell_type": "markdown",
   "id": "e322fdc8",
   "metadata": {
    "editable": true
   },
   "source": [
    "$$\n",
    "\\mathrm{corr}[\\boldsymbol{x},\\boldsymbol{y}]=\\frac{\\mathrm{cov}[\\boldsymbol{x},\\boldsymbol{y}]}{\\sqrt{\\mathrm{var}[\\boldsymbol{x}] \\mathrm{var}[\\boldsymbol{y}]}}.\n",
    "$$"
   ]
  },
  {
   "cell_type": "markdown",
   "id": "f50b583d",
   "metadata": {
    "editable": true
   },
   "source": [
    "The correlation function is then given by values $\\mathrm{corr}[\\boldsymbol{x},\\boldsymbol{y}]\n",
    "\\in [-1,1]$. This avoids eventual problems with too large values. We\n",
    "can then define the correlation matrix for the two vectors $\\boldsymbol{x}$\n",
    "and $\\boldsymbol{y}$ as"
   ]
  },
  {
   "cell_type": "markdown",
   "id": "b12b62dc",
   "metadata": {
    "editable": true
   },
   "source": [
    "$$\n",
    "\\boldsymbol{K}[\\boldsymbol{x},\\boldsymbol{y}] = \\begin{bmatrix} 1 & \\mathrm{corr}[\\boldsymbol{x},\\boldsymbol{y}] \\\\\n",
    "                              \\mathrm{corr}[\\boldsymbol{y},\\boldsymbol{x}] & 1 \\\\\n",
    "             \\end{bmatrix},\n",
    "$$"
   ]
  },
  {
   "cell_type": "markdown",
   "id": "40355c87",
   "metadata": {
    "editable": true
   },
   "source": [
    "In the above example this is the function we constructed using **pandas**."
   ]
  },
  {
   "cell_type": "markdown",
   "id": "ee70666b",
   "metadata": {
    "editable": true
   },
   "source": [
    "## Correlation Function and Design/Feature Matrix\n",
    "\n",
    "In our derivation of the various regression algorithms like **Ordinary Least Squares** or **Ridge regression**\n",
    "we defined the design/feature matrix $\\boldsymbol{X}$ as"
   ]
  },
  {
   "cell_type": "markdown",
   "id": "dc6d0cc7",
   "metadata": {
    "editable": true
   },
   "source": [
    "$$\n",
    "\\boldsymbol{X}=\\begin{bmatrix}\n",
    "x_{0,0} & x_{0,1} & x_{0,2}& \\dots & \\dots x_{0,p-1}\\\\\n",
    "x_{1,0} & x_{1,1} & x_{1,2}& \\dots & \\dots x_{1,p-1}\\\\\n",
    "x_{2,0} & x_{2,1} & x_{2,2}& \\dots & \\dots x_{2,p-1}\\\\\n",
    "\\dots & \\dots & \\dots & \\dots \\dots & \\dots \\\\\n",
    "x_{n-2,0} & x_{n-2,1} & x_{n-2,2}& \\dots & \\dots x_{n-2,p-1}\\\\\n",
    "x_{n-1,0} & x_{n-1,1} & x_{n-1,2}& \\dots & \\dots x_{n-1,p-1}\\\\\n",
    "\\end{bmatrix},\n",
    "$$"
   ]
  },
  {
   "cell_type": "markdown",
   "id": "d6b6f792",
   "metadata": {
    "editable": true
   },
   "source": [
    "with $\\boldsymbol{X}\\in {\\mathbb{R}}^{n\\times p}$, with the predictors/features $p$  refering to the column numbers and the\n",
    "entries $n$ being the row elements.\n",
    "We can rewrite the design/feature matrix in terms of its column vectors as"
   ]
  },
  {
   "cell_type": "markdown",
   "id": "39c76bf5",
   "metadata": {
    "editable": true
   },
   "source": [
    "$$\n",
    "\\boldsymbol{X}=\\begin{bmatrix} \\boldsymbol{x}_0 & \\boldsymbol{x}_1 & \\boldsymbol{x}_2 & \\dots & \\dots & \\boldsymbol{x}_{p-1}\\end{bmatrix},\n",
    "$$"
   ]
  },
  {
   "cell_type": "markdown",
   "id": "f2d754e5",
   "metadata": {
    "editable": true
   },
   "source": [
    "with a given vector"
   ]
  },
  {
   "cell_type": "markdown",
   "id": "77a984ab",
   "metadata": {
    "editable": true
   },
   "source": [
    "$$\n",
    "\\boldsymbol{x}_i^T = \\begin{bmatrix}x_{0,i} & x_{1,i} & x_{2,i}& \\dots & \\dots x_{n-1,i}\\end{bmatrix}.\n",
    "$$"
   ]
  },
  {
   "cell_type": "markdown",
   "id": "33060c1a",
   "metadata": {
    "editable": true
   },
   "source": [
    "With these definitions, we can now rewrite our $2\\times 2$\n",
    "correlation/covariance matrix in terms of a moe general design/feature\n",
    "matrix $\\boldsymbol{X}\\in {\\mathbb{R}}^{n\\times p}$. This leads to a $p\\times p$\n",
    "covariance matrix for the vectors $\\boldsymbol{x}_i$ with $i=0,1,\\dots,p-1$"
   ]
  },
  {
   "cell_type": "markdown",
   "id": "ed1e8279",
   "metadata": {
    "editable": true
   },
   "source": [
    "$$\n",
    "\\boldsymbol{C}[\\boldsymbol{x}] = \\begin{bmatrix}\n",
    "\\mathrm{var}[\\boldsymbol{x}_0] & \\mathrm{cov}[\\boldsymbol{x}_0,\\boldsymbol{x}_1]  & \\mathrm{cov}[\\boldsymbol{x}_0,\\boldsymbol{x}_2] & \\dots & \\dots & \\mathrm{cov}[\\boldsymbol{x}_0,\\boldsymbol{x}_{p-1}]\\\\\n",
    "\\mathrm{cov}[\\boldsymbol{x}_1,\\boldsymbol{x}_0] & \\mathrm{var}[\\boldsymbol{x}_1]  & \\mathrm{cov}[\\boldsymbol{x}_1,\\boldsymbol{x}_2] & \\dots & \\dots & \\mathrm{cov}[\\boldsymbol{x}_1,\\boldsymbol{x}_{p-1}]\\\\\n",
    "\\mathrm{cov}[\\boldsymbol{x}_2,\\boldsymbol{x}_0]   & \\mathrm{cov}[\\boldsymbol{x}_2,\\boldsymbol{x}_1] & \\mathrm{var}[\\boldsymbol{x}_2] & \\dots & \\dots & \\mathrm{cov}[\\boldsymbol{x}_2,\\boldsymbol{x}_{p-1}]\\\\\n",
    "\\dots & \\dots & \\dots & \\dots & \\dots & \\dots \\\\\n",
    "\\dots & \\dots & \\dots & \\dots & \\dots & \\dots \\\\\n",
    "\\mathrm{cov}[\\boldsymbol{x}_{p-1},\\boldsymbol{x}_0]   & \\mathrm{cov}[\\boldsymbol{x}_{p-1},\\boldsymbol{x}_1] & \\mathrm{cov}[\\boldsymbol{x}_{p-1},\\boldsymbol{x}_{2}]  & \\dots & \\dots  & \\mathrm{var}[\\boldsymbol{x}_{p-1}]\\\\\n",
    "\\end{bmatrix},\n",
    "$$"
   ]
  },
  {
   "cell_type": "markdown",
   "id": "22b40263",
   "metadata": {
    "editable": true
   },
   "source": [
    "and the correlation matrix"
   ]
  },
  {
   "cell_type": "markdown",
   "id": "1b02469c",
   "metadata": {
    "editable": true
   },
   "source": [
    "$$\n",
    "\\boldsymbol{K}[\\boldsymbol{x}] = \\begin{bmatrix}\n",
    "1 & \\mathrm{corr}[\\boldsymbol{x}_0,\\boldsymbol{x}_1]  & \\mathrm{corr}[\\boldsymbol{x}_0,\\boldsymbol{x}_2] & \\dots & \\dots & \\mathrm{corr}[\\boldsymbol{x}_0,\\boldsymbol{x}_{p-1}]\\\\\n",
    "\\mathrm{corr}[\\boldsymbol{x}_1,\\boldsymbol{x}_0] & 1  & \\mathrm{corr}[\\boldsymbol{x}_1,\\boldsymbol{x}_2] & \\dots & \\dots & \\mathrm{corr}[\\boldsymbol{x}_1,\\boldsymbol{x}_{p-1}]\\\\\n",
    "\\mathrm{corr}[\\boldsymbol{x}_2,\\boldsymbol{x}_0]   & \\mathrm{corr}[\\boldsymbol{x}_2,\\boldsymbol{x}_1] & 1 & \\dots & \\dots & \\mathrm{corr}[\\boldsymbol{x}_2,\\boldsymbol{x}_{p-1}]\\\\\n",
    "\\dots & \\dots & \\dots & \\dots & \\dots & \\dots \\\\\n",
    "\\dots & \\dots & \\dots & \\dots & \\dots & \\dots \\\\\n",
    "\\mathrm{corr}[\\boldsymbol{x}_{p-1},\\boldsymbol{x}_0]   & \\mathrm{corr}[\\boldsymbol{x}_{p-1},\\boldsymbol{x}_1] & \\mathrm{corr}[\\boldsymbol{x}_{p-1},\\boldsymbol{x}_{2}]  & \\dots & \\dots  & 1\\\\\n",
    "\\end{bmatrix},\n",
    "$$"
   ]
  },
  {
   "cell_type": "markdown",
   "id": "0660e456",
   "metadata": {
    "editable": true
   },
   "source": [
    "## Covariance Matrix Examples\n",
    "\n",
    "The Numpy function **np.cov** calculates the covariance elements using\n",
    "the factor $1/(n-1)$ instead of $1/n$ since it assumes we do not have\n",
    "the exact mean values.  The following simple function uses the\n",
    "**np.vstack** function which takes each vector of dimension $1\\times n$\n",
    "and produces a $2\\times n$ matrix $\\boldsymbol{W}$\n",
    "\n",
    "Note that this assumes you have the features as the rows, and the inputs as columns, that is"
   ]
  },
  {
   "cell_type": "markdown",
   "id": "0a40e5c0",
   "metadata": {
    "editable": true
   },
   "source": [
    "$$\n",
    "\\boldsymbol{W} = \\begin{bmatrix} x_0 & x_1 & x_2 & \\dots & x_{n-2} & x_{n-1} \\\\\n",
    "                     y_0 & y_1 & y_2 & \\dots & y_{n-2} & y_{n-1} \\\\\n",
    "             \\end{bmatrix},\n",
    "$$"
   ]
  },
  {
   "cell_type": "markdown",
   "id": "82d7e99d",
   "metadata": {
    "editable": true
   },
   "source": [
    "which in turn is converted into into the $2\\times 2$ covariance matrix\n",
    "$\\boldsymbol{C}$ via the Numpy function **np.cov()**. We note that we can also calculate\n",
    "the mean value of each set of samples $\\boldsymbol{x}$ etc using the Numpy\n",
    "function **np.mean(x)**. We can also extract the eigenvalues of the\n",
    "covariance matrix through the **np.linalg.eig()** function."
   ]
  },
  {
   "cell_type": "code",
   "execution_count": 14,
   "id": "6f4b429b",
   "metadata": {
    "collapsed": false,
    "editable": true,
    "jupyter": {
     "outputs_hidden": false
    }
   },
   "outputs": [],
   "source": [
    "# Importing various packages\n",
    "import numpy as np\n",
    "n = 100\n",
    "x = np.random.normal(size=n)\n",
    "print(np.mean(x))\n",
    "y = 4+3*x+np.random.normal(size=n)\n",
    "print(np.mean(y))\n",
    "W = np.vstack((x, y))\n",
    "C = np.cov(W)\n",
    "print(C)"
   ]
  },
  {
   "cell_type": "markdown",
   "id": "a38f8430",
   "metadata": {
    "editable": true
   },
   "source": [
    "## Correlation Matrix\n",
    "\n",
    "The previous example can be converted into the correlation matrix by\n",
    "simply scaling the matrix elements with the variances.  We should also\n",
    "subtract the mean values for each column. This leads to the following\n",
    "code which sets up the correlations matrix for the previous example in\n",
    "a more brute force way. Here we scale the mean values for each column of the design matrix, calculate the relevant mean values and variances and then finally set up the $2\\times 2$ correlation matrix (since we have only two vectors)."
   ]
  },
  {
   "cell_type": "code",
   "execution_count": 15,
   "id": "87d44fdf",
   "metadata": {
    "collapsed": false,
    "editable": true,
    "jupyter": {
     "outputs_hidden": false
    }
   },
   "outputs": [],
   "source": [
    "import numpy as np\n",
    "n = 100\n",
    "# define two vectors                                                                                           \n",
    "x = np.random.random(size=n)\n",
    "y = 4+3*x+np.random.normal(size=n)\n",
    "#scaling the x and y vectors                                                                                   \n",
    "x = x - np.mean(x)\n",
    "y = y - np.mean(y)\n",
    "variance_x = np.sum(x@x)/n\n",
    "variance_y = np.sum(y@y)/n\n",
    "print(variance_x)\n",
    "print(variance_y)\n",
    "cov_xy = np.sum(x@y)/n\n",
    "cov_xx = np.sum(x@x)/n\n",
    "cov_yy = np.sum(y@y)/n\n",
    "C = np.zeros((2,2))\n",
    "C[0,0]= cov_xx/variance_x\n",
    "C[1,1]= cov_yy/variance_y\n",
    "C[0,1]= cov_xy/np.sqrt(variance_y*variance_x)\n",
    "C[1,0]= C[0,1]\n",
    "print(C)"
   ]
  },
  {
   "cell_type": "markdown",
   "id": "5f08f4dc",
   "metadata": {
    "editable": true
   },
   "source": [
    "We see that the matrix elements along the diagonal are one as they\n",
    "should be and that the matrix is symmetric. Furthermore, diagonalizing\n",
    "this matrix we easily see that it is a positive definite matrix.\n",
    "\n",
    "The above procedure with **numpy** can be made more compact if we use **pandas**."
   ]
  },
  {
   "cell_type": "markdown",
   "id": "a25b356f",
   "metadata": {
    "editable": true
   },
   "source": [
    "## Correlation Matrix with Pandas\n",
    "\n",
    "We whow here how we can set up the correlation matrix using **pandas**, as done in this simple code"
   ]
  },
  {
   "cell_type": "code",
   "execution_count": 16,
   "id": "928ae649",
   "metadata": {
    "collapsed": false,
    "editable": true,
    "jupyter": {
     "outputs_hidden": false
    }
   },
   "outputs": [],
   "source": [
    "import numpy as np\n",
    "import pandas as pd\n",
    "n = 10\n",
    "x = np.random.normal(size=n)\n",
    "x = x - np.mean(x)\n",
    "y = 4+3*x+np.random.normal(size=n)\n",
    "y = y - np.mean(y)\n",
    "# Note that we transpose the matrix in order to stay with our ordering n x p\n",
    "X = (np.vstack((x, y))).T\n",
    "print(X)\n",
    "Xpd = pd.DataFrame(X)\n",
    "print(Xpd)\n",
    "correlation_matrix = Xpd.corr()\n",
    "print(correlation_matrix)"
   ]
  },
  {
   "cell_type": "markdown",
   "id": "cab70377",
   "metadata": {
    "editable": true
   },
   "source": [
    "## Rewriting the Covariance and/or Correlation Matrix\n",
    "\n",
    "We can rewrite the covariance matrix in a more compact form in terms of the design/feature matrix $\\boldsymbol{X}$ as"
   ]
  },
  {
   "cell_type": "markdown",
   "id": "22ac4a6d",
   "metadata": {
    "editable": true
   },
   "source": [
    "$$\n",
    "\\boldsymbol{C}[\\boldsymbol{x}] = \\frac{1}{n}\\boldsymbol{X}^T\\boldsymbol{X}= \\mathbb{E}[\\boldsymbol{X}^T\\boldsymbol{X}].\n",
    "$$"
   ]
  },
  {
   "cell_type": "markdown",
   "id": "cd0697a9",
   "metadata": {
    "editable": true
   },
   "source": [
    "To see this let us simply look at a design matrix $\\boldsymbol{X}\\in {\\mathbb{R}}^{2\\times 2}$"
   ]
  },
  {
   "cell_type": "markdown",
   "id": "b5043405",
   "metadata": {
    "editable": true
   },
   "source": [
    "$$\n",
    "\\boldsymbol{X}=\\begin{bmatrix}\n",
    "x_{00} & x_{01}\\\\\n",
    "x_{10} & x_{11}\\\\\n",
    "\\end{bmatrix}=\\begin{bmatrix}\n",
    "\\boldsymbol{x}_{0} & \\boldsymbol{x}_{1}\\\\\n",
    "\\end{bmatrix}.\n",
    "$$"
   ]
  },
  {
   "cell_type": "markdown",
   "id": "6a4edab6",
   "metadata": {
    "editable": true
   },
   "source": [
    "If we then compute the expectation value (note the $1/n$ factor instead of $1/(n-1)$)"
   ]
  },
  {
   "cell_type": "markdown",
   "id": "e1b67496",
   "metadata": {
    "editable": true
   },
   "source": [
    "$$\n",
    "\\mathbb{E}[\\boldsymbol{X}^T\\boldsymbol{X}] = \\frac{1}{n}\\boldsymbol{X}^T\\boldsymbol{X}=\\frac{1}{n}\\begin{bmatrix}\n",
    "x_{00}^2+x_{10}^2 & x_{00}x_{01}+x_{10}x_{11}\\\\\n",
    "x_{01}x_{00}+x_{11}x_{10} & x_{01}^2+x_{11}^2\\\\\n",
    "\\end{bmatrix},\n",
    "$$"
   ]
  },
  {
   "cell_type": "markdown",
   "id": "47a041cb",
   "metadata": {
    "editable": true
   },
   "source": [
    "which is just"
   ]
  },
  {
   "cell_type": "markdown",
   "id": "575264b7",
   "metadata": {
    "editable": true
   },
   "source": [
    "$$\n",
    "\\boldsymbol{C}[\\boldsymbol{x}_0,\\boldsymbol{x}_1] = \\boldsymbol{C}[\\boldsymbol{x}]=\\begin{bmatrix} \\mathrm{var}[\\boldsymbol{x}_0] & \\mathrm{cov}[\\boldsymbol{x}_0,\\boldsymbol{x}_1] \\\\\n",
    "                              \\mathrm{cov}[\\boldsymbol{x}_1,\\boldsymbol{x}_0] & \\mathrm{var}[\\boldsymbol{x}_1] \\\\\n",
    "             \\end{bmatrix},\n",
    "$$"
   ]
  },
  {
   "cell_type": "markdown",
   "id": "7b049c58",
   "metadata": {
    "editable": true
   },
   "source": [
    "where we wrote $$\\boldsymbol{C}[\\boldsymbol{x}_0,\\boldsymbol{x}_1] = \\boldsymbol{C}[\\boldsymbol{x}]$$ to indicate that this is the covariance of the vectors $\\boldsymbol{x}$ of the design/feature matrix $\\boldsymbol{X}$.\n",
    "\n",
    "It is easy to generalize this to a matrix $\\boldsymbol{X}\\in {\\mathbb{R}}^{n\\times p}$."
   ]
  },
  {
   "cell_type": "markdown",
   "id": "9780789f",
   "metadata": {
    "editable": true
   },
   "source": [
    "## Linking with the SVD\n",
    "\n",
    "We saw earlier that"
   ]
  },
  {
   "cell_type": "markdown",
   "id": "da396c4a",
   "metadata": {
    "editable": true
   },
   "source": [
    "$$\n",
    "\\boldsymbol{X}^T\\boldsymbol{X}=\\boldsymbol{V}\\boldsymbol{\\Sigma}^T\\boldsymbol{U}^T\\boldsymbol{U}\\boldsymbol{\\Sigma}\\boldsymbol{V}^T=\\boldsymbol{V}\\boldsymbol{\\Sigma}^T\\boldsymbol{\\Sigma}\\boldsymbol{V}^T.\n",
    "$$"
   ]
  },
  {
   "cell_type": "markdown",
   "id": "87a74417",
   "metadata": {
    "editable": true
   },
   "source": [
    "Since the matrices here have dimension $p\\times p$, with $p$ corresponding to the singular values, we defined earlier the matrix"
   ]
  },
  {
   "cell_type": "markdown",
   "id": "c5ca565a",
   "metadata": {
    "editable": true
   },
   "source": [
    "$$\n",
    "\\boldsymbol{\\Sigma}^T\\boldsymbol{\\Sigma} = \\begin{bmatrix} \\tilde{\\boldsymbol{\\Sigma}} & \\boldsymbol{0}\\\\ \\end{bmatrix}\\begin{bmatrix} \\tilde{\\boldsymbol{\\Sigma}} \\\\ \\boldsymbol{0}\\\\ \\end{bmatrix},\n",
    "$$"
   ]
  },
  {
   "cell_type": "markdown",
   "id": "10944fc5",
   "metadata": {
    "editable": true
   },
   "source": [
    "where the tilde-matrix $\\tilde{\\boldsymbol{\\Sigma}}$ is a matrix of dimension $p\\times p$ containing only the singular values $\\sigma_i$, that is"
   ]
  },
  {
   "cell_type": "markdown",
   "id": "7b985955",
   "metadata": {
    "editable": true
   },
   "source": [
    "$$\n",
    "\\tilde{\\boldsymbol{\\Sigma}}=\\begin{bmatrix} \\sigma_0 & 0 & 0 & \\dots & 0 & 0 \\\\\n",
    "                                    0 & \\sigma_1 & 0 & \\dots & 0 & 0 \\\\\n",
    "\t\t\t\t    0 & 0 & \\sigma_2 & \\dots & 0 & 0 \\\\\n",
    "\t\t\t\t    0 & 0 & 0 & \\dots & \\sigma_{p-2} & 0 \\\\\n",
    "\t\t\t\t    0 & 0 & 0 & \\dots & 0 & \\sigma_{p-1} \\\\\n",
    "\\end{bmatrix},\n",
    "$$"
   ]
  },
  {
   "cell_type": "markdown",
   "id": "1b748051",
   "metadata": {
    "editable": true
   },
   "source": [
    "meaning we can write"
   ]
  },
  {
   "cell_type": "markdown",
   "id": "40c1c1eb",
   "metadata": {
    "editable": true
   },
   "source": [
    "$$\n",
    "\\boldsymbol{X}^T\\boldsymbol{X}=\\boldsymbol{V}\\tilde{\\boldsymbol{\\Sigma}}^2\\boldsymbol{V}^T.\n",
    "$$"
   ]
  },
  {
   "cell_type": "markdown",
   "id": "e44c9e87",
   "metadata": {
    "editable": true
   },
   "source": [
    "Multiplying from the right with $\\boldsymbol{V}$ (using the orthogonality of $\\boldsymbol{V}$) we get"
   ]
  },
  {
   "cell_type": "markdown",
   "id": "28abe46c",
   "metadata": {
    "editable": true
   },
   "source": [
    "$$\n",
    "\\left(\\boldsymbol{X}^T\\boldsymbol{X}\\right)\\boldsymbol{V}=\\boldsymbol{V}\\tilde{\\boldsymbol{\\Sigma}}^2.\n",
    "$$"
   ]
  },
  {
   "cell_type": "markdown",
   "id": "178bc776",
   "metadata": {
    "editable": true
   },
   "source": [
    "## What does it mean?\n",
    "\n",
    "This means the vectors $\\boldsymbol{v}_i$ of the orthogonal matrix $\\boldsymbol{V}$\n",
    "are the eigenvectors of the matrix $\\boldsymbol{X}^T\\boldsymbol{X}$ with eigenvalues\n",
    "given by the singular values squared, that is"
   ]
  },
  {
   "cell_type": "markdown",
   "id": "1f0ead95",
   "metadata": {
    "editable": true
   },
   "source": [
    "$$\n",
    "\\left(\\boldsymbol{X}^T\\boldsymbol{X}\\right)\\boldsymbol{v}_i=\\boldsymbol{v}_i\\sigma_i^2.\n",
    "$$"
   ]
  },
  {
   "cell_type": "markdown",
   "id": "fcce3bb5",
   "metadata": {
    "editable": true
   },
   "source": [
    "In other words, each non-zero singular value of $\\boldsymbol{X}$ is a positive\n",
    "square root of an eigenvalue of $\\boldsymbol{X}^T\\boldsymbol{X}$.  It means also that\n",
    "the columns of $\\boldsymbol{V}$ are the eigenvectors of\n",
    "$\\boldsymbol{X}^T\\boldsymbol{X}$. Since we have ordered the singular values of\n",
    "$\\boldsymbol{X}$ in a descending order, it means that the column vectors\n",
    "$\\boldsymbol{v}_i$ are hierarchically ordered by how much correlation they\n",
    "encode from the columns of $\\boldsymbol{X}$. \n",
    "\n",
    "Note that these are also the eigenvectors and eigenvalues of the\n",
    "Hessian matrix. Note also that the Hessian matrix we are discussing here is from a cost function defined by the  mean squared error only.\n",
    "\n",
    "If we now recall the definition of the covariance matrix (not using\n",
    "Bessel's correction) we have"
   ]
  },
  {
   "cell_type": "markdown",
   "id": "5f9a7281",
   "metadata": {
    "editable": true
   },
   "source": [
    "$$\n",
    "\\boldsymbol{C}[\\boldsymbol{X}]=\\frac{1}{n}\\boldsymbol{X}^T\\boldsymbol{X},\n",
    "$$"
   ]
  },
  {
   "cell_type": "markdown",
   "id": "d3ea695c",
   "metadata": {
    "editable": true
   },
   "source": [
    "meaning that every squared non-singular value of $\\boldsymbol{X}$ divided by $n$ (\n",
    "the number of samples) are the eigenvalues of the covariance\n",
    "matrix. Every singular value of $\\boldsymbol{X}$ is thus a positive square\n",
    "root of an eigenvalue of $\\boldsymbol{X}^T\\boldsymbol{X}$. If the matrix $\\boldsymbol{X}$ is\n",
    "self-adjoint, the singular values of $\\boldsymbol{X}$ are equal to the\n",
    "absolute value of the eigenvalues of $\\boldsymbol{X}$."
   ]
  },
  {
   "cell_type": "markdown",
   "id": "edfff9e0",
   "metadata": {
    "editable": true
   },
   "source": [
    "## And finally  $\\boldsymbol{X}\\boldsymbol{X}^T$\n",
    "\n",
    "For $\\boldsymbol{X}\\boldsymbol{X}^T$ we found"
   ]
  },
  {
   "cell_type": "markdown",
   "id": "c3c83244",
   "metadata": {
    "editable": true
   },
   "source": [
    "$$\n",
    "\\boldsymbol{X}\\boldsymbol{X}^T=\\boldsymbol{U}\\boldsymbol{\\Sigma}\\boldsymbol{V}^T\\boldsymbol{V}\\boldsymbol{\\Sigma}^T\\boldsymbol{U}^T=\\boldsymbol{U}\\boldsymbol{\\Sigma}^T\\boldsymbol{\\Sigma}\\boldsymbol{U}^T.\n",
    "$$"
   ]
  },
  {
   "cell_type": "markdown",
   "id": "00df5ee5",
   "metadata": {
    "editable": true
   },
   "source": [
    "Since the matrices here have dimension $n\\times n$, we have"
   ]
  },
  {
   "cell_type": "markdown",
   "id": "4661cbd7",
   "metadata": {
    "editable": true
   },
   "source": [
    "$$\n",
    "\\boldsymbol{\\Sigma}\\boldsymbol{\\Sigma}^T = \\begin{bmatrix} \\tilde{\\boldsymbol{\\Sigma}} \\\\ \\boldsymbol{0}\\\\ \\end{bmatrix}\\begin{bmatrix} \\tilde{\\boldsymbol{\\Sigma}}  \\boldsymbol{0}\\\\ \\end{bmatrix}=\\begin{bmatrix} \\tilde{\\boldsymbol{\\Sigma}} & \\boldsymbol{0} \\\\ \\boldsymbol{0} & \\boldsymbol{0}\\\\ \\end{bmatrix},\n",
    "$$"
   ]
  },
  {
   "cell_type": "markdown",
   "id": "07b95265",
   "metadata": {
    "editable": true
   },
   "source": [
    "leading to"
   ]
  },
  {
   "cell_type": "markdown",
   "id": "8c9aeba4",
   "metadata": {
    "editable": true
   },
   "source": [
    "$$\n",
    "\\boldsymbol{X}\\boldsymbol{X}^T=\\boldsymbol{U}\\begin{bmatrix} \\tilde{\\boldsymbol{\\Sigma}} & \\boldsymbol{0} \\\\ \\boldsymbol{0} & \\boldsymbol{0}\\\\ \\end{bmatrix}\\boldsymbol{U}^T.\n",
    "$$"
   ]
  },
  {
   "cell_type": "markdown",
   "id": "03690a72",
   "metadata": {
    "editable": true
   },
   "source": [
    "Multiplying with $\\boldsymbol{U}$ from the right gives us the eigenvalue problem"
   ]
  },
  {
   "cell_type": "markdown",
   "id": "478e2a9d",
   "metadata": {
    "editable": true
   },
   "source": [
    "$$\n",
    "(\\boldsymbol{X}\\boldsymbol{X}^T)\\boldsymbol{U}=\\boldsymbol{U}\\begin{bmatrix} \\tilde{\\boldsymbol{\\Sigma}} & \\boldsymbol{0} \\\\ \\boldsymbol{0} & \\boldsymbol{0}\\\\ \\end{bmatrix}.\n",
    "$$"
   ]
  },
  {
   "cell_type": "markdown",
   "id": "e997196a",
   "metadata": {
    "editable": true
   },
   "source": [
    "It means that the eigenvalues of $\\boldsymbol{X}\\boldsymbol{X}^T$ are again given by\n",
    "the non-zero singular values plus now a series of zeros.  The column\n",
    "vectors of $\\boldsymbol{U}$ are the eigenvectors of $\\boldsymbol{X}\\boldsymbol{X}^T$ and\n",
    "measure how much correlations are contained in the rows of $\\boldsymbol{X}$.\n",
    "\n",
    "Since we will mainly be interested in the correlations among the features\n",
    "of our data (the columns of $\\boldsymbol{X}$, the quantity of interest for us are the non-zero singular\n",
    "values and the column vectors of $\\boldsymbol{V}$."
   ]
  },
  {
   "cell_type": "markdown",
   "id": "770e587e",
   "metadata": {
    "editable": true
   },
   "source": [
    "## Back to Ridge and LASSO Regression\n",
    "\n",
    "Let us remind ourselves about the expression for the standard Mean Squared Error (MSE) which we used to define our cost function and the equations for the ordinary least squares (OLS) method, that is \n",
    "our optimization problem is"
   ]
  },
  {
   "cell_type": "markdown",
   "id": "5cb701c2",
   "metadata": {
    "editable": true
   },
   "source": [
    "$$\n",
    "{\\displaystyle \\min_{\\boldsymbol{\\theta}\\in {\\mathbb{R}}^{p}}}\\frac{1}{n}\\left\\{\\left(\\boldsymbol{y}-\\boldsymbol{X}\\boldsymbol{\\theta}\\right)^T\\left(\\boldsymbol{y}-\\boldsymbol{X}\\boldsymbol{\\theta}\\right)\\right\\}.\n",
    "$$"
   ]
  },
  {
   "cell_type": "markdown",
   "id": "dee9d948",
   "metadata": {
    "editable": true
   },
   "source": [
    "or we can state it as"
   ]
  },
  {
   "cell_type": "markdown",
   "id": "121cd014",
   "metadata": {
    "editable": true
   },
   "source": [
    "$$\n",
    "{\\displaystyle \\min_{\\boldsymbol{\\theta}\\in\n",
    "{\\mathbb{R}}^{p}}}\\frac{1}{n}\\sum_{i=0}^{n-1}\\left(y_i-\\tilde{y}_i\\right)^2=\\frac{1}{n}\\vert\\vert \\boldsymbol{y}-\\boldsymbol{X}\\boldsymbol{\\theta}\\vert\\vert_2^2,\n",
    "$$"
   ]
  },
  {
   "cell_type": "markdown",
   "id": "2ee745b4",
   "metadata": {
    "editable": true
   },
   "source": [
    "where we have used the definition of  a norm-2 vector, that is"
   ]
  },
  {
   "cell_type": "markdown",
   "id": "94a15fb9",
   "metadata": {
    "editable": true
   },
   "source": [
    "$$\n",
    "\\vert\\vert \\boldsymbol{x}\\vert\\vert_2 = \\sqrt{\\sum_i x_i^2}.\n",
    "$$"
   ]
  },
  {
   "cell_type": "markdown",
   "id": "6341fe06",
   "metadata": {
    "editable": true
   },
   "source": [
    "By minimizing the above equation with respect to the parameters\n",
    "$\\boldsymbol{\\theta}$ we could then obtain an analytical expression for the\n",
    "parameters $\\boldsymbol{\\theta}$.  We can add a regularization parameter $\\lambda$ by\n",
    "defining a new cost function to be optimized, that is"
   ]
  },
  {
   "cell_type": "markdown",
   "id": "5bef6925",
   "metadata": {
    "editable": true
   },
   "source": [
    "$$\n",
    "{\\displaystyle \\min_{\\boldsymbol{\\theta}\\in\n",
    "{\\mathbb{R}}^{p}}}\\frac{1}{n}\\vert\\vert \\boldsymbol{y}-\\boldsymbol{X}\\boldsymbol{\\theta}\\vert\\vert_2^2+\\lambda\\vert\\vert \\boldsymbol{\\theta}\\vert\\vert_2^2\n",
    "$$"
   ]
  },
  {
   "cell_type": "markdown",
   "id": "4539e82b",
   "metadata": {
    "editable": true
   },
   "source": [
    "which leads to the Ridge regression minimization problem where we\n",
    "require that $\\vert\\vert \\boldsymbol{\\theta}\\vert\\vert_2^2\\le t$, where $t$ is\n",
    "a finite number larger than zero. By defining"
   ]
  },
  {
   "cell_type": "markdown",
   "id": "1f496d16",
   "metadata": {
    "editable": true
   },
   "source": [
    "$$\n",
    "C(\\boldsymbol{X},\\boldsymbol{\\theta})=\\frac{1}{n}\\vert\\vert \\boldsymbol{y}-\\boldsymbol{X}\\boldsymbol{\\theta}\\vert\\vert_2^2+\\lambda\\vert\\vert \\boldsymbol{\\theta}\\vert\\vert_1,\n",
    "$$"
   ]
  },
  {
   "cell_type": "markdown",
   "id": "ee78adfa",
   "metadata": {
    "editable": true
   },
   "source": [
    "we have a new optimization equation"
   ]
  },
  {
   "cell_type": "markdown",
   "id": "47a0c860",
   "metadata": {
    "editable": true
   },
   "source": [
    "$$\n",
    "{\\displaystyle \\min_{\\boldsymbol{\\theta}\\in\n",
    "{\\mathbb{R}}^{p}}}\\frac{1}{n}\\vert\\vert \\boldsymbol{y}-\\boldsymbol{X}\\boldsymbol{\\theta}\\vert\\vert_2^2+\\lambda\\vert\\vert \\boldsymbol{\\theta}\\vert\\vert_1\n",
    "$$"
   ]
  },
  {
   "cell_type": "markdown",
   "id": "6b452b5d",
   "metadata": {
    "editable": true
   },
   "source": [
    "which leads to Lasso regression. Lasso stands for least absolute shrinkage and selection operator. \n",
    "\n",
    "Here we have defined the norm-1 as"
   ]
  },
  {
   "cell_type": "markdown",
   "id": "a3331a79",
   "metadata": {
    "editable": true
   },
   "source": [
    "$$\n",
    "\\vert\\vert \\boldsymbol{x}\\vert\\vert_1 = \\sum_i \\vert x_i\\vert.\n",
    "$$"
   ]
  },
  {
   "cell_type": "markdown",
   "id": "9befd0e3",
   "metadata": {
    "editable": true
   },
   "source": [
    "Ridge regression, as discussed above,  is nothing but the standard OLS with a\n",
    "modified diagonal term added to $\\boldsymbol{X}^T\\boldsymbol{X}$. The consequences, in\n",
    "particular for our discussion of the bias-variance tradeoff are rather\n",
    "interesting. We will see that for specific values of $\\lambda$, we may\n",
    "even reduce the variance of the optimal parameters $\\boldsymbol{\\theta}$. These topics and other related ones, will be discussed after the more linear algebra oriented analysis here.\n",
    "\n",
    "Using our insights about the SVD of the design matrix $\\boldsymbol{X}$ \n",
    "We have already analyzed the OLS solutions in terms of the eigenvectors (the columns) of the right singular value matrix $\\boldsymbol{U}$ as"
   ]
  },
  {
   "cell_type": "markdown",
   "id": "9d8f2ba3",
   "metadata": {
    "editable": true
   },
   "source": [
    "$$\n",
    "\\tilde{\\boldsymbol{y}}_{\\mathrm{OLS}}=\\boldsymbol{X}\\boldsymbol{\\theta}  =\\boldsymbol{U}\\boldsymbol{U}^T\\boldsymbol{y}.\n",
    "$$"
   ]
  },
  {
   "cell_type": "markdown",
   "id": "da712e9d",
   "metadata": {
    "editable": true
   },
   "source": [
    "For Ridge regression this becomes"
   ]
  },
  {
   "cell_type": "markdown",
   "id": "d91cd5f7",
   "metadata": {
    "editable": true
   },
   "source": [
    "$$\n",
    "\\tilde{\\boldsymbol{y}}_{\\mathrm{Ridge}}=\\boldsymbol{X}\\boldsymbol{\\theta}_{\\mathrm{Ridge}} = \\boldsymbol{U\\Sigma V^T}\\left(\\boldsymbol{V}\\boldsymbol{\\Sigma}^2\\boldsymbol{V}^T+\\lambda\\boldsymbol{I} \\right)^{-1}(\\boldsymbol{U\\Sigma V^T})^T\\boldsymbol{y}=\\sum_{j=0}^{p-1}\\boldsymbol{u}_j\\boldsymbol{u}_j^T\\frac{\\sigma_j^2}{\\sigma_j^2+\\lambda}\\boldsymbol{y},\n",
    "$$"
   ]
  },
  {
   "cell_type": "markdown",
   "id": "18940f72",
   "metadata": {
    "editable": true
   },
   "source": [
    "with the vectors $\\boldsymbol{u}_j$ being the columns of $\\boldsymbol{U}$ from the SVD of the matrix $\\boldsymbol{X}$."
   ]
  },
  {
   "cell_type": "markdown",
   "id": "51fe3527",
   "metadata": {
    "editable": true
   },
   "source": [
    "## Interpreting the Ridge results\n",
    "\n",
    "Since $\\lambda \\geq 0$, it means that compared to OLS, we have"
   ]
  },
  {
   "cell_type": "markdown",
   "id": "2e85d1eb",
   "metadata": {
    "editable": true
   },
   "source": [
    "$$\n",
    "\\frac{\\sigma_j^2}{\\sigma_j^2+\\lambda} \\leq 1.\n",
    "$$"
   ]
  },
  {
   "cell_type": "markdown",
   "id": "96c47485",
   "metadata": {
    "editable": true
   },
   "source": [
    "Ridge regression finds the coordinates of $\\boldsymbol{y}$ with respect to the\n",
    "orthonormal basis $\\boldsymbol{U}$, it then shrinks the coordinates by\n",
    "$\\frac{\\sigma_j^2}{\\sigma_j^2+\\lambda}$. Recall that the SVD has\n",
    "eigenvalues ordered in a descending way, that is $\\sigma_i \\geq\n",
    "\\sigma_{i+1}$.\n",
    "\n",
    "For small eigenvalues $\\sigma_i$ it means that their contributions become less important, a fact which can be used to reduce the number of degrees of freedom. More about this when we have covered the material on a statistical interpretation of various linear regression methods."
   ]
  },
  {
   "cell_type": "markdown",
   "id": "c1adcbbc",
   "metadata": {
    "editable": true
   },
   "source": [
    "## More interpretations\n",
    "\n",
    "For the sake of simplicity, let us assume that the design matrix is orthonormal, that is"
   ]
  },
  {
   "cell_type": "markdown",
   "id": "9693074c",
   "metadata": {
    "editable": true
   },
   "source": [
    "$$\n",
    "\\boldsymbol{X}^T\\boldsymbol{X}=(\\boldsymbol{X}^T\\boldsymbol{X})^{-1} =\\boldsymbol{I}.\n",
    "$$"
   ]
  },
  {
   "cell_type": "markdown",
   "id": "46b05531",
   "metadata": {
    "editable": true
   },
   "source": [
    "In this case the standard OLS results in"
   ]
  },
  {
   "cell_type": "markdown",
   "id": "2e4ce02b",
   "metadata": {
    "editable": true
   },
   "source": [
    "$$\n",
    "\\boldsymbol{\\theta}^{\\mathrm{OLS}} = \\boldsymbol{X}^T\\boldsymbol{y}=\\sum_{i=0}^{n-1}\\boldsymbol{u}_i\\boldsymbol{u}_i^T\\boldsymbol{y},\n",
    "$$"
   ]
  },
  {
   "cell_type": "markdown",
   "id": "dbd3f781",
   "metadata": {
    "editable": true
   },
   "source": [
    "and"
   ]
  },
  {
   "cell_type": "markdown",
   "id": "779e1ac5",
   "metadata": {
    "editable": true
   },
   "source": [
    "$$\n",
    "\\boldsymbol{\\theta}^{\\mathrm{Ridge}} = \\left(\\boldsymbol{I}+\\lambda\\boldsymbol{I}\\right)^{-1}\\boldsymbol{X}^T\\boldsymbol{y}=\\left(1+\\lambda\\right)^{-1}\\boldsymbol{\\theta}^{\\mathrm{OLS}},\n",
    "$$"
   ]
  },
  {
   "cell_type": "markdown",
   "id": "ef53f2a5",
   "metadata": {
    "editable": true
   },
   "source": [
    "that is the Ridge estimator scales the OLS estimator by the inverse of a factor $1+\\lambda$, and\n",
    "the Ridge estimator converges to zero when the hyperparameter goes to\n",
    "infinity.\n",
    "\n",
    "We will come back to more interpreations after we have gone through some of the statistical analysis part. \n",
    "\n",
    "For more discussions of Ridge and Lasso regression, [Wessel van Wieringen's](https://arxiv.org/abs/1509.09169) article is highly recommended.\n",
    "Similarly, [Mehta et al's article](https://arxiv.org/abs/1803.08823) is also recommended."
   ]
  },
  {
   "cell_type": "markdown",
   "id": "57adfaff",
   "metadata": {
    "editable": true
   },
   "source": [
    "## Deriving the  Lasso Regression Equations\n",
    "\n",
    "Using the matrix-vector expression for Lasso regression, we have the following **cost** function"
   ]
  },
  {
   "cell_type": "markdown",
   "id": "a8f94cba",
   "metadata": {
    "editable": true
   },
   "source": [
    "$$\n",
    "C(\\boldsymbol{X},\\boldsymbol{\\theta})=\\frac{1}{n}\\left\\{(\\boldsymbol{y}-\\boldsymbol{X}\\boldsymbol{\\theta})^T(\\boldsymbol{y}-\\boldsymbol{X}\\boldsymbol{\\theta})\\right\\}+\\lambda\\vert\\vert\\boldsymbol{\\theta}\\vert\\vert_1,\n",
    "$$"
   ]
  },
  {
   "cell_type": "markdown",
   "id": "d60431ff",
   "metadata": {
    "editable": true
   },
   "source": [
    "Taking the derivative with respect to $\\boldsymbol{\\theta}$ and recalling that the derivative of the absolute value is (we drop the boldfaced vector symbol for simplicty)"
   ]
  },
  {
   "cell_type": "markdown",
   "id": "f78d1dfd",
   "metadata": {
    "editable": true
   },
   "source": [
    "$$\n",
    "\\frac{d \\vert \\theta\\vert}{d \\theta}=\\mathrm{sgn}(\\theta)=\\left\\{\\begin{array}{cc} 1 & \\theta > 0 \\\\-1 & \\theta < 0, \\end{array}\\right.\n",
    "$$"
   ]
  },
  {
   "cell_type": "markdown",
   "id": "445800de",
   "metadata": {
    "editable": true
   },
   "source": [
    "we have that the derivative of the cost function is"
   ]
  },
  {
   "cell_type": "markdown",
   "id": "3c54c49c",
   "metadata": {
    "editable": true
   },
   "source": [
    "$$\n",
    "\\frac{\\partial C(\\boldsymbol{X},\\boldsymbol{\\theta})}{\\partial \\boldsymbol{\\theta}}=-\\frac{2}{n}\\boldsymbol{X}^T(\\boldsymbol{y}-\\boldsymbol{X}\\boldsymbol{\\theta})+\\lambda sgn(\\boldsymbol{\\theta})=0,\n",
    "$$"
   ]
  },
  {
   "cell_type": "markdown",
   "id": "11366dc1",
   "metadata": {
    "editable": true
   },
   "source": [
    "and reordering we have"
   ]
  },
  {
   "cell_type": "markdown",
   "id": "d68d3ac1",
   "metadata": {
    "editable": true
   },
   "source": [
    "$$\n",
    "\\boldsymbol{X}^T\\boldsymbol{X}\\boldsymbol{\\theta}+\\frac{n}{2}\\lambda sgn(\\boldsymbol{\\theta})=2\\boldsymbol{X}^T\\boldsymbol{y}.\n",
    "$$"
   ]
  },
  {
   "cell_type": "markdown",
   "id": "63fedbd6",
   "metadata": {
    "editable": true
   },
   "source": [
    "We can redefine $\\lambda$ to absorb the constant $n/2$ and we rewrite the last equation as"
   ]
  },
  {
   "cell_type": "markdown",
   "id": "470b20a8",
   "metadata": {
    "editable": true
   },
   "source": [
    "$$\n",
    "\\boldsymbol{X}^T\\boldsymbol{X}\\boldsymbol{\\theta}+\\lambda sgn(\\boldsymbol{\\theta})=2\\boldsymbol{X}^T\\boldsymbol{y}.\n",
    "$$"
   ]
  },
  {
   "cell_type": "markdown",
   "id": "f3277c65",
   "metadata": {
    "editable": true
   },
   "source": [
    "This equation does not lead to a nice analytical equation as in either Ridge regression or ordinary least squares. This equation can however be solved by using standard convex optimization algorithms using for example the Python package [CVXOPT](https://cvxopt.org/). We will discuss how to code LASSO regression next week, when we have introduced gradient methods."
   ]
  }
 ],
 "metadata": {
  "kernelspec": {
   "display_name": "Python 3 (ipykernel)",
   "language": "python",
   "name": "python3"
  },
  "language_info": {
   "codemirror_mode": {
    "name": "ipython",
    "version": 3
   },
   "file_extension": ".py",
   "mimetype": "text/x-python",
   "name": "python",
   "nbconvert_exporter": "python",
   "pygments_lexer": "ipython3",
   "version": "3.9.15"
  }
 },
 "nbformat": 4,
 "nbformat_minor": 5
}
