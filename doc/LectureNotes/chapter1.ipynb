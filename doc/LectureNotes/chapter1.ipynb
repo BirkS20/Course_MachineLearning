{
 "cells": [
  {
   "cell_type": "markdown",
   "id": "7d0d70d8",
   "metadata": {
    "editable": true
   },
   "source": [
    "<!-- HTML file automatically generated from DocOnce source (https://github.com/doconce/doconce/)\n",
    "doconce format html chapter1.do.txt  -->"
   ]
  },
  {
   "cell_type": "markdown",
   "id": "3399a55c",
   "metadata": {
    "editable": true
   },
   "source": [
    "# Linear Regression"
   ]
  },
  {
   "cell_type": "markdown",
   "id": "e7513472",
   "metadata": {
    "editable": true
   },
   "source": [
    "## Introduction\n",
    "\n",
    "Our emphasis throughout this series of lectures is on understanding\n",
    "the mathematical aspects of different algorithms used in the fields of\n",
    "data analysis and machine learning.\n",
    "\n",
    "However, where possible we will emphasize the importance of using\n",
    "available software. We start thus with a hands-on and top-down\n",
    "approach to machine learning. The aim is thus to start with relevant\n",
    "data or data we have produced and use these to introduce statistical\n",
    "data analysis concepts and machine learning algorithms before we delve\n",
    "into the algorithms themselves. The examples we will use in the\n",
    "beginning, start with simple polynomials with random noise added. We\n",
    "will use the Python software package\n",
    "[Scikit-Learn](http://scikit-learn.org/stable/) and introduce various\n",
    "machine learning algorithms to make fits of the data and\n",
    "predictions. We move thereafter to more interesting cases such as data\n",
    "from say experiments (below we will look at experimental nuclear\n",
    "binding energies as an example).  These are examples where we can\n",
    "easily set up the data and then use machine learning algorithms\n",
    "included in for example **Scikit-Learn**.\n",
    "\n",
    "These examples will serve us the purpose of getting\n",
    "started. Furthermore, they allow us to catch more than two birds with\n",
    "a stone. They will allow us to bring in some programming specific\n",
    "topics and tools as well as showing the power of various Python\n",
    "libraries for machine learning and statistical data analysis.\n",
    "\n",
    "Here, we will mainly focus on two specific Python packages for Machine\n",
    "Learning, Scikit-Learn and Tensorflow (see below for links etc).\n",
    "Moreover, the examples we introduce will serve as inputs to many of\n",
    "our discussions later, as well as allowing you to set up models and\n",
    "produce your own data and get started with programming."
   ]
  },
  {
   "cell_type": "markdown",
   "id": "17b7ba24",
   "metadata": {
    "editable": true
   },
   "source": [
    "## What is Machine Learning?\n",
    "\n",
    "Statistics, data science and machine learning form important fields of\n",
    "research in modern science.  They describe how to learn and make\n",
    "predictions from data, as well as allowing us to extract important\n",
    "correlations about physical process and the underlying laws of motion\n",
    "in large data sets. The latter, big data sets, appear frequently in\n",
    "essentially all disciplines, from the traditional Science, Technology,\n",
    "Mathematics and Engineering fields to Life Science, Law, education\n",
    "research, the Humanities and the Social Sciences. \n",
    "\n",
    "It has become more\n",
    "and more common to see research projects on big data in for example\n",
    "the Social Sciences where extracting patterns from complicated survey\n",
    "data is one of many research directions.  Having a solid grasp of data\n",
    "analysis and machine learning is thus becoming central to scientific\n",
    "computing in many fields, and competences and skills within the fields\n",
    "of machine learning and scientific computing are nowadays strongly\n",
    "requested by many potential employers. The latter cannot be\n",
    "overstated, familiarity with machine learning has almost become a\n",
    "prerequisite for many of the most exciting employment opportunities,\n",
    "whether they are in bioinformatics, life science, physics or finance,\n",
    "in the private or the public sector. This author has had several\n",
    "students or met students who have been hired recently based on their\n",
    "skills and competences in scientific computing and data science, often\n",
    "with marginal knowledge of machine learning.\n",
    "\n",
    "Machine learning is a subfield of computer science, and is closely\n",
    "related to computational statistics.  It evolved from the study of\n",
    "pattern recognition in artificial intelligence (AI) research, and has\n",
    "made contributions to AI tasks like computer vision, natural language\n",
    "processing and speech recognition. Many of the methods we will study are also \n",
    "strongly rooted in basic mathematics and physics research. \n",
    "\n",
    "Ideally, machine learning represents the science of giving computers\n",
    "the ability to learn without being explicitly programmed.  The idea is\n",
    "that there exist generic algorithms which can be used to find patterns\n",
    "in a broad class of data sets without having to write code\n",
    "specifically for each problem. The algorithm will build its own logic\n",
    "based on the data.  You should however always keep in mind that\n",
    "machines and algorithms are to a large extent developed by humans. The\n",
    "insights and knowledge we have about a specific system, play a central\n",
    "role when we develop a specific machine learning algorithm. \n",
    "\n",
    "Machine learning is an extremely rich field, in spite of its young\n",
    "age. The increases we have seen during the last three decades in\n",
    "computational capabilities have been followed by developments of\n",
    "methods and techniques for analyzing and handling large data sets,\n",
    "relying heavily on statistics, computer science and mathematics.  The\n",
    "field is rather new and developing rapidly. Popular software packages\n",
    "written in Python for machine learning like\n",
    "[Scikit-learn](http://scikit-learn.org/stable/),\n",
    "[Tensorflow](https://www.tensorflow.org/),\n",
    "[PyTorch](http://pytorch.org/) and [Keras](https://keras.io/), all\n",
    "freely available at their respective GitHub sites, encompass\n",
    "communities of developers in the thousands or more. And the number of\n",
    "code developers and contributors keeps increasing. Not all the\n",
    "algorithms and methods can be given a rigorous mathematical\n",
    "justification, opening up thereby large rooms for experimenting and\n",
    "trial and error and thereby exciting new developments.  However, a\n",
    "solid command of linear algebra, multivariate theory, probability\n",
    "theory, statistical data analysis, understanding errors and Monte\n",
    "Carlo methods are central elements in a proper understanding of many\n",
    "of algorithms and methods we will discuss.\n",
    "\n",
    "The approaches to machine learning are many, but are often split into\n",
    "two main categories.  In *supervised learning* we know the answer to a\n",
    "problem, and let the computer deduce the logic behind it. On the other\n",
    "hand, *unsupervised learning* is a method for finding patterns and\n",
    "relationship in data sets without any prior knowledge of the system.\n",
    "Some authors also operate with a third category, namely\n",
    "*reinforcement learning*. This is a paradigm of learning inspired by\n",
    "behavioral psychology, where learning is achieved by trial-and-error,\n",
    "solely from rewards and punishment.\n",
    "\n",
    "Another way to categorize machine learning tasks is to consider the\n",
    "desired output of a system.  Some of the most common tasks are:\n",
    "\n",
    "  * Classification: Outputs are divided into two or more classes. The goal is to   produce a model that assigns inputs into one of these classes. An example is to identify  digits based on pictures of hand-written ones. Classification is typically supervised learning.\n",
    "\n",
    "  * Regression: Finding a functional relationship between an input data set and a reference data set.   The goal is to construct a function that maps input data to continuous output values.\n",
    "\n",
    "  * Clustering: Data are divided into groups with certain common traits, without knowing the different groups beforehand.  It is thus a form of unsupervised learning.\n",
    "\n",
    "The methods we cover have three main topics in common, irrespective of\n",
    "whether we deal with supervised or unsupervised learning.\n",
    "* The first ingredient is normally our data set (which can be subdivided into training, validation  and test data). Many find the most difficult part of using Machine Learning to be the set up of your data in a meaningful way. \n",
    "\n",
    "* The second item is a model which is normally a function of some parameters.  The model reflects our knowledge of the system (or lack thereof). As an example, if we know that our data show a behavior similar to what would be predicted by a polynomial, fitting our data to a polynomial of some degree would then determin our model. \n",
    "\n",
    "* The last ingredient is a so-called **cost/loss** function (or error or risk function) which allows us to present an estimate on how good our model is in reproducing the data it is supposed to train.  \n",
    "\n",
    "At the heart of basically all Machine Learning algorithms we will encounter so-called minimization or optimization algorithms. A large family of such methods are so-called **gradient methods**."
   ]
  },
  {
   "cell_type": "markdown",
   "id": "23adffca",
   "metadata": {
    "editable": true
   },
   "source": [
    "### A Frequentist approach to data analysis\n",
    "\n",
    "When you hear phrases like **predictions and estimations** and\n",
    "**correlations and causations**, what do you think of?  May be you think\n",
    "of the difference between classifying new data points and generating\n",
    "new data points.\n",
    "Or perhaps you consider that correlations represent some kind of symmetric statements like\n",
    "if $A$ is correlated with $B$, then $B$ is correlated with\n",
    "$A$. Causation on the other hand is directional, that is if $A$ causes $B$, $B$ does not\n",
    "necessarily cause $A$.\n",
    "\n",
    "These concepts are in some sense the difference between machine\n",
    "learning and statistics. In machine learning and prediction based\n",
    "tasks, we are often interested in developing algorithms that are\n",
    "capable of learning patterns from given data in an automated fashion,\n",
    "and then using these learned patterns to make predictions or\n",
    "assessments of newly given data. In many cases, our primary concern\n",
    "is the quality of the predictions or assessments, and we are less\n",
    "concerned about the underlying patterns that were learned in order\n",
    "to make these predictions.\n",
    "\n",
    "In machine learning we normally use [a so-called frequentist approach](https://en.wikipedia.org/wiki/Frequentist_inference),\n",
    "where the aim is to make predictions and find correlations. We focus\n",
    "less on for example extracting a probability distribution function (PDF). The PDF can be\n",
    "used in turn to make estimations and find causations such as given $A$\n",
    "what is the likelihood of finding $B$."
   ]
  },
  {
   "cell_type": "markdown",
   "id": "1263a25e",
   "metadata": {
    "editable": true
   },
   "source": [
    "### What is a good model?\n",
    "\n",
    "In science and engineering we often end up in situations where we want to infer (or learn) a\n",
    "quantitative model $M$ for a given set of sample points $\\boldsymbol{X} \\in [x_1, x_2,\\dots x_N]$.\n",
    "\n",
    "As we will see repeatedly in these lectures, we could try to fit these data points to a model given by a\n",
    "straight line, or if we wish to be more sophisticated to a more complex\n",
    "function.\n",
    "\n",
    "The reason for inferring such a model is that it\n",
    "serves many useful purposes. On the one hand, the model can reveal information\n",
    "encoded in the data or underlying mechanisms from which the data were generated. For instance, we could discover important\n",
    "correlations that relate interesting physics interpretations.\n",
    "\n",
    "In addition, it can simplify the representation of the given data set and help\n",
    "us in making predictions about  future data samples.\n",
    "\n",
    "A first important consideration to keep in mind is that inferring the *correct* model\n",
    "for a given data set is an elusive, if not impossible, task. The fundamental difficulty\n",
    "is that if we are not specific about what we mean by a *correct* model, there\n",
    "could easily be many different models that fit the given data set *equally well*.\n",
    "\n",
    "The central question is this: what leads us to say that a model is correct or\n",
    "optimal for a given data set? To make the model inference problem well posed, i.e.,\n",
    "to guarantee that there is a unique optimal model for the given data, we need to\n",
    "impose additional assumptions or restrictions on the class of models considered. To\n",
    "this end, we should not be looking for just any model that can describe the data.\n",
    "Instead, we should look for a **model** $M$ that is the best among a restricted class\n",
    "of models. In addition, to make the model inference problem computationally\n",
    "tractable, we need to specify how restricted the class of models needs to be. A\n",
    "common strategy is to start \n",
    "with the simplest possible class of models that is just necessary to describe the data\n",
    "or solve the problem at hand. More precisely, the model class should be rich enough\n",
    "to contain at least one model that can fit the data to a desired accuracy and yet be\n",
    "restricted enough that it is relatively simple to find the best model for the given data.\n",
    "\n",
    "Thus, the most popular strategy is to start from the\n",
    "simplest class of models and increase the complexity of the models only when the\n",
    "simpler models become inadequate. For instance, if we work with a regression problem to fit a set of sample points, one\n",
    "may first try the simplest class of models, namely linear models, followed obviously by more complex models.\n",
    "\n",
    "How to evaluate which model fits best the data is something we will come back to over and over again in these sets of lectures."
   ]
  },
  {
   "cell_type": "markdown",
   "id": "e2ab4f0a",
   "metadata": {
    "editable": true
   },
   "source": [
    "## Simple linear regression model using **scikit-learn**\n",
    "\n",
    "We start with perhaps our simplest possible example, using\n",
    "**Scikit-Learn** to perform linear regression analysis on a data set\n",
    "produced by us.\n",
    "\n",
    "What follows is a simple Python code where we have defined a function\n",
    "$y$ in terms of the variable $x$. Both are defined as vectors with  $100$ entries. \n",
    "The numbers in the vector $\\boldsymbol{x}$ are given\n",
    "by random numbers generated with a uniform distribution with entries\n",
    "$x_i \\in [0,1]$ (more about probability distribution functions\n",
    "later). These values are then used to define a function $y(x)$\n",
    "(tabulated again as a vector) with a linear dependence on $x$ plus a\n",
    "random noise added via the normal distribution.\n",
    "\n",
    "The Numpy functions are imported used the **import numpy as np**\n",
    "statement and the random number generator for the uniform distribution\n",
    "is called using the function **np.random.rand()**, where we specificy\n",
    "that we want $100$ random variables.  Using Numpy we define\n",
    "automatically an array with the specified number of elements, $100$ in\n",
    "our case.  With the Numpy function **randn()** we can compute random\n",
    "numbers with the normal distribution (mean value $\\mu$ equal to zero and\n",
    "variance $\\sigma^2$ set to one) and produce the values of $y$ assuming a linear\n",
    "dependence as function of $x$"
   ]
  },
  {
   "cell_type": "markdown",
   "id": "23173385",
   "metadata": {
    "editable": true
   },
   "source": [
    "$$\n",
    "y = 2x+N(0,1),\n",
    "$$"
   ]
  },
  {
   "cell_type": "markdown",
   "id": "57b14c43",
   "metadata": {
    "editable": true
   },
   "source": [
    "where $N(0,1)$ represents random numbers generated by the normal\n",
    "distribution.  From **Scikit-Learn** we import then the\n",
    "**LinearRegression** functionality and make a prediction $\\tilde{y} =\n",
    "\\alpha + \\theta x$ using the function **fit(x,y)**. We call the set of\n",
    "data $(\\boldsymbol{x},\\boldsymbol{y})$ for our training data. The Python package\n",
    "**scikit-learn** has also a functionality which extracts the above\n",
    "fitting parameters $\\alpha$ and $\\theta$ (see below). Later we will\n",
    "distinguish between training data and test data.\n",
    "\n",
    "For plotting we use the Python package\n",
    "[matplotlib](https://matplotlib.org/) which produces publication\n",
    "quality figures. Feel free to explore the extensive\n",
    "[gallery](https://matplotlib.org/gallery/index.html) of examples. In\n",
    "this example we plot our original values of $x$ and $y$ as well as the\n",
    "prediction **ypredict** ($\\tilde{y}$), which attempts at fitting our\n",
    "data with a straight line.  Note also that **Scikit-Learn** requires a\n",
    "matrix as input for the input values $x$ and $y$. In the above code we\n",
    "have solved this by declaring $x$ and $y$ as arrays of dimension\n",
    "$n\\times 1$.\n",
    "\n",
    "In the code here we have also made a new array for $x\\in [0,1]$. Our\n",
    "prediction is computed for these values, meaning that they were not\n",
    "included in the data set used to *train* (or fit) the model.\n",
    "This is a recurrring theme in machine learning and data analysis. We would like to train a model on a specific given data set.\n",
    "Thereafter we wish to apply it to data which were not included in the training. Below we will encounter this again in the so-called *train-validate-test* spliting. We will typically split our data into different sets, oen for training, one for validation and finally, our data from the untouched test vault!\n",
    "\n",
    "The Python code follows here."
   ]
  },
  {
   "cell_type": "code",
   "execution_count": 1,
   "id": "f7d66caa",
   "metadata": {
    "collapsed": false,
    "editable": true
   },
   "outputs": [],
   "source": [
    "%matplotlib inline\n",
    "\n",
    "# Importing various packages\n",
    "import numpy as np\n",
    "import matplotlib.pyplot as plt\n",
    "from sklearn.linear_model import LinearRegression\n",
    "\n",
    "x = np.random.rand(100,1)\n",
    "y = 2*x+np.random.randn(100,1)\n",
    "linreg = LinearRegression()\n",
    "linreg.fit(x,y)\n",
    "# This is our new x-array to which we test our model\n",
    "xnew = np.array([[0],[1]])\n",
    "ypredict = linreg.predict(xnew)\n",
    "\n",
    "plt.plot(xnew, ypredict, \"r-\")\n",
    "plt.plot(x, y ,'ro')\n",
    "plt.axis([0,1.0,0, 5.0])\n",
    "plt.xlabel(r'$x$')\n",
    "plt.ylabel(r'$y$')\n",
    "plt.title(r'Simple Linear Regression')\n",
    "plt.show()"
   ]
  },
  {
   "cell_type": "markdown",
   "id": "504848dc",
   "metadata": {
    "editable": true
   },
   "source": [
    "This example serves several aims. It allows us to demonstrate several\n",
    "aspects of data analysis and later machine learning algorithms. The\n",
    "immediate visualization shows that our linear fit is not\n",
    "impressive. It goes through the data points, but there are many\n",
    "outliers which are not reproduced by our linear regression.  We could\n",
    "now play around with this small program and change for example the\n",
    "factor in front of $x$ and the normal distribution.  Try to change the\n",
    "function $y$ to"
   ]
  },
  {
   "cell_type": "markdown",
   "id": "bff268fb",
   "metadata": {
    "editable": true
   },
   "source": [
    "$$\n",
    "y = 10x+0.01 \\times N(0,1),\n",
    "$$"
   ]
  },
  {
   "cell_type": "markdown",
   "id": "53357604",
   "metadata": {
    "editable": true
   },
   "source": [
    "where $x$ is defined as before.  Does the fit look better? Indeed, by\n",
    "reducing the role of the noise given by the normal distribution we see immediately that\n",
    "our linear prediction seemingly reproduces better the training\n",
    "set. However, this testing 'by the eye' is obviously not satisfactory in the\n",
    "long run. Here we have only defined the training data and our model, and \n",
    "have not discussed a more rigorous approach to the **cost** function.\n",
    "\n",
    "We need more rigorous criteria in defining whether we have succeeded or\n",
    "not in modeling our training data.  You will be surprised to see that\n",
    "many scientists seldomly venture beyond this 'by the eye' approach. A\n",
    "standard approach for the *cost* function is the so-called $\\chi^2$\n",
    "function (a variant of the mean-squared error (MSE))"
   ]
  },
  {
   "cell_type": "markdown",
   "id": "4e5b1dad",
   "metadata": {
    "editable": true
   },
   "source": [
    "$$\n",
    "\\chi^2 = \\frac{1}{n}\n",
    "\\sum_{i=0}^{n-1}\\frac{(y_i-\\tilde{y}_i)^2}{\\sigma_i^2},\n",
    "$$"
   ]
  },
  {
   "cell_type": "markdown",
   "id": "b8e0f4c7",
   "metadata": {
    "editable": true
   },
   "source": [
    "where $\\sigma_i^2$ is the variance (to be defined later) of the entry\n",
    "$y_i$.  We may not know the explicit value of $\\sigma_i^2$, it serves\n",
    "however the aim of scaling the equations and make the cost function\n",
    "dimensionless.  \n",
    "\n",
    "Minimizing the cost function is a central aspect of\n",
    "our discussions to come. Finding its minima as function of the model\n",
    "parameters ($\\alpha$ and $\\theta$ in our case) will be a recurring\n",
    "theme in these series of lectures. Essentially all machine learning\n",
    "algorithms we will discuss center around the minimization of the\n",
    "chosen cost function. This depends in turn on our specific\n",
    "model for describing the data, a typical situation in supervised\n",
    "learning. Automatizing the search for the minima of the cost function is a\n",
    "central ingredient in all algorithms. Typical methods which are\n",
    "employed are various variants of **gradient** methods. These will be\n",
    "discussed in more detail later. Again, you'll be surprised to hear that\n",
    "many practitioners minimize the above function ''by the eye', popularly dubbed as \n",
    "'chi by the eye'. That is, change a parameter and see (visually and numerically) that \n",
    "the  $\\chi^2$ function becomes smaller. \n",
    "\n",
    "There are many ways to define the cost function. A simpler approach is to look at the relative difference between the training data and the predicted data, that is we define \n",
    "the relative error (why would we prefer the MSE instead of the relative error?) as"
   ]
  },
  {
   "cell_type": "markdown",
   "id": "c4e4b512",
   "metadata": {
    "editable": true
   },
   "source": [
    "$$\n",
    "\\epsilon_{\\mathrm{relative}}= \\frac{\\vert \\boldsymbol{y} -\\boldsymbol{\\tilde{y}}\\vert}{\\vert \\boldsymbol{y}\\vert}.\n",
    "$$"
   ]
  },
  {
   "cell_type": "markdown",
   "id": "71393ea9",
   "metadata": {
    "editable": true
   },
   "source": [
    "The squared cost function results in an arithmetic mean-unbiased\n",
    "estimator, and the absolute-value cost function results in a\n",
    "median-unbiased estimator (in the one-dimensional case, and a\n",
    "geometric median-unbiased estimator for the multi-dimensional\n",
    "case). The squared cost function has the disadvantage that it has the tendency\n",
    "to be dominated by outliers.\n",
    "\n",
    "We can modify easily the above Python code and plot the relative error instead"
   ]
  },
  {
   "cell_type": "code",
   "execution_count": 2,
   "id": "a6c77c37",
   "metadata": {
    "collapsed": false,
    "editable": true
   },
   "outputs": [],
   "source": [
    "import numpy as np\n",
    "import matplotlib.pyplot as plt\n",
    "from sklearn.linear_model import LinearRegression\n",
    "# Number of data points\n",
    "n = 100\n",
    "x = np.random.rand(100,1)\n",
    "y = 5*x+0.01*np.random.randn(100,1)\n",
    "linreg = LinearRegression()\n",
    "linreg.fit(x,y)\n",
    "ypredict = linreg.predict(x)\n",
    "\n",
    "plt.plot(x, np.abs(ypredict-y)/abs(y), \"ro\")\n",
    "plt.axis([0,1.0,0.0, 0.5])\n",
    "plt.xlabel(r'$x$')\n",
    "plt.ylabel(r'$\\epsilon_{\\mathrm{relative}}$')\n",
    "plt.title(r'Relative error')\n",
    "plt.show()"
   ]
  },
  {
   "cell_type": "markdown",
   "id": "bc21adc2",
   "metadata": {
    "editable": true
   },
   "source": [
    "Depending on the parameter in front of the normal distribution, we may\n",
    "have a small or larger relative error. Try to play around with\n",
    "different training data sets and study (graphically) the value of the\n",
    "relative error.\n",
    "\n",
    "As mentioned above, **Scikit-Learn** has an impressive functionality.\n",
    "We can for example extract the values of $\\alpha$ and $\\theta$ and\n",
    "their error estimates, or the variance and standard deviation and many\n",
    "other properties from the statistical data analysis. \n",
    "\n",
    "Here we show an\n",
    "example of the functionality of **Scikit-Learn**."
   ]
  },
  {
   "cell_type": "code",
   "execution_count": 3,
   "id": "febc49fc",
   "metadata": {
    "collapsed": false,
    "editable": true
   },
   "outputs": [],
   "source": [
    "import numpy as np \n",
    "import matplotlib.pyplot as plt \n",
    "from sklearn.linear_model import LinearRegression \n",
    "from sklearn.metrics import mean_squared_error, r2_score, mean_squared_log_error, mean_absolute_error\n",
    "\n",
    "x = np.random.rand(100,1)\n",
    "y = 2.0+ 5*x+0.5*np.random.randn(100,1)\n",
    "linreg = LinearRegression()\n",
    "linreg.fit(x,y)\n",
    "ypredict = linreg.predict(x)\n",
    "print('The intercept alpha: \\n', linreg.intercept_)\n",
    "print('Coefficient theta : \\n', linreg.coef_)\n",
    "# The mean squared error                               \n",
    "print(\"Mean squared error: %.2f\" % mean_squared_error(y, ypredict))\n",
    "# Explained variance score: 1 is perfect prediction                                 \n",
    "print('Variance score: %.2f' % r2_score(y, ypredict))\n",
    "# Mean squared log error                                                        \n",
    "print('Mean squared log error: %.2f' % mean_squared_log_error(y, ypredict) )\n",
    "# Mean absolute error                                                           \n",
    "print('Mean absolute error: %.2f' % mean_absolute_error(y, ypredict))\n",
    "plt.plot(x, ypredict, \"r-\")\n",
    "plt.plot(x, y ,'ro')\n",
    "plt.axis([0.0,1.0,1.5, 7.0])\n",
    "plt.xlabel(r'$x$')\n",
    "plt.ylabel(r'$y$')\n",
    "plt.title(r'Linear Regression fit ')\n",
    "plt.show()"
   ]
  },
  {
   "cell_type": "markdown",
   "id": "3f1c6408",
   "metadata": {
    "editable": true
   },
   "source": [
    "The function **coef** gives us the parameter $\\theta$ of our fit while **intercept** yields \n",
    "$\\alpha$. Depending on the constant in front of the normal distribution, we get values near or far from $alpha =2$ and $\\theta =5$. Try to play around with different parameters in front of the normal distribution. The function **meansquarederror** gives us the mean square error, a risk metric corresponding to the expected value of the squared (quadratic) error or loss defined as"
   ]
  },
  {
   "cell_type": "markdown",
   "id": "b4e26d20",
   "metadata": {
    "editable": true
   },
   "source": [
    "$$\n",
    "MSE(\\boldsymbol{y},\\boldsymbol{\\tilde{y}}) = \\frac{1}{n}\n",
    "\\sum_{i=0}^{n-1}(y_i-\\tilde{y}_i)^2,\n",
    "$$"
   ]
  },
  {
   "cell_type": "markdown",
   "id": "8137fd70",
   "metadata": {
    "editable": true
   },
   "source": [
    "The smaller the value, the better the fit. Ideally we would like to\n",
    "have an MSE equal zero.  The attentive reader has probably recognized\n",
    "this function as being similar to the $\\chi^2$ function defined above.\n",
    "\n",
    "The **r2score** function computes $R^2$, the coefficient of\n",
    "determination. It provides a measure of how well future samples are\n",
    "likely to be predicted by the model. Best possible score is 1.0 and it\n",
    "can be negative (because the model can be arbitrarily worse). A\n",
    "constant model that always predicts the expected value of $\\boldsymbol{y}$,\n",
    "disregarding the input features, would get a $R^2$ score of $0.0$.\n",
    "\n",
    "If $\\tilde{\\boldsymbol{y}}_i$ is the predicted value of the $i-th$ sample and $y_i$ is the corresponding true value, then the score $R^2$ is defined as"
   ]
  },
  {
   "cell_type": "markdown",
   "id": "3f40e79c",
   "metadata": {
    "editable": true
   },
   "source": [
    "$$\n",
    "R^2(\\boldsymbol{y}, \\tilde{\\boldsymbol{y}}) = 1 - \\frac{\\sum_{i=0}^{n - 1} (y_i - \\tilde{y}_i)^2}{\\sum_{i=0}^{n - 1} (y_i - \\bar{y})^2},\n",
    "$$"
   ]
  },
  {
   "cell_type": "markdown",
   "id": "6a8eb368",
   "metadata": {
    "editable": true
   },
   "source": [
    "where we have defined the mean value  of $\\boldsymbol{y}$ as"
   ]
  },
  {
   "cell_type": "markdown",
   "id": "71d8af23",
   "metadata": {
    "editable": true
   },
   "source": [
    "$$\n",
    "\\bar{y} =  \\frac{1}{n} \\sum_{i=0}^{n - 1} y_i.\n",
    "$$"
   ]
  },
  {
   "cell_type": "markdown",
   "id": "aee25556",
   "metadata": {
    "editable": true
   },
   "source": [
    "Another quantity taht we will meet again in our discussions of regression analysis is \n",
    " the mean absolute error (MAE), a risk metric corresponding to the expected value of the absolute error loss or what we call the $l1$-norm loss. In our discussion above we presented the relative error.\n",
    "The MAE is defined as follows"
   ]
  },
  {
   "cell_type": "markdown",
   "id": "1bc1d5e2",
   "metadata": {
    "editable": true
   },
   "source": [
    "$$\n",
    "\\text{MAE}(\\boldsymbol{y}, \\boldsymbol{\\tilde{y}}) = \\frac{1}{n} \\sum_{i=0}^{n-1} \\left| y_i - \\tilde{y}_i \\right|.\n",
    "$$"
   ]
  },
  {
   "cell_type": "markdown",
   "id": "dfb80b0d",
   "metadata": {
    "editable": true
   },
   "source": [
    "We present the \n",
    "squared logarithmic (quadratic) error"
   ]
  },
  {
   "cell_type": "markdown",
   "id": "1ee8b15b",
   "metadata": {
    "editable": true
   },
   "source": [
    "$$\n",
    "\\text{MSLE}(\\boldsymbol{y}, \\boldsymbol{\\tilde{y}}) = \\frac{1}{n} \\sum_{i=0}^{n - 1} (\\log_e (1 + y_i) - \\log_e (1 + \\tilde{y}_i) )^2,\n",
    "$$"
   ]
  },
  {
   "cell_type": "markdown",
   "id": "9ec15fef",
   "metadata": {
    "editable": true
   },
   "source": [
    "where $\\log_e (x)$ stands for the natural logarithm of $x$. This error\n",
    "estimate is best to use when targets having exponential growth, such\n",
    "as population counts, average sales of a commodity over a span of\n",
    "years etc. \n",
    "\n",
    "Finally, another cost function is the Huber cost function used in robust regression.\n",
    "\n",
    "The rationale behind this possible cost function is its reduced\n",
    "sensitivity to outliers in the data set. In our discussions on\n",
    "dimensionality reduction and normalization of data we will meet other\n",
    "ways of dealing with outliers.\n",
    "\n",
    "The Huber cost function is defined as"
   ]
  },
  {
   "cell_type": "markdown",
   "id": "8e386295",
   "metadata": {
    "editable": true
   },
   "source": [
    "$$\n",
    "H_{\\delta}(\\boldsymbol{a})=\\left\\{\\begin{array}{cc}\\frac{1}{2} \\boldsymbol{a}^{2}& \\text{for }|\\boldsymbol{a}|\\leq \\delta\\\\ \\delta (|\\boldsymbol{a}|-\\frac{1}{2}\\delta ),&\\text{otherwise}.\\end{array}\\right.\n",
    "$$"
   ]
  },
  {
   "cell_type": "markdown",
   "id": "d8d8ad23",
   "metadata": {
    "editable": true
   },
   "source": [
    "Here $\\boldsymbol{a}=\\boldsymbol{y} - \\boldsymbol{\\tilde{y}}$.\n",
    "\n",
    "We will discuss in more\n",
    "detail these and other functions in the various lectures.  We conclude this part with another example. Instead of \n",
    "a linear $x$-dependence we study now a cubic polynomial and use the polynomial regression analysis tools of scikit-learn."
   ]
  },
  {
   "cell_type": "code",
   "execution_count": 4,
   "id": "0c9a0500",
   "metadata": {
    "collapsed": false,
    "editable": true
   },
   "outputs": [],
   "source": [
    "import matplotlib.pyplot as plt\n",
    "import numpy as np\n",
    "import random\n",
    "from sklearn.linear_model import Ridge\n",
    "from sklearn.preprocessing import PolynomialFeatures\n",
    "from sklearn.pipeline import make_pipeline\n",
    "from sklearn.linear_model import LinearRegression\n",
    "\n",
    "x=np.linspace(0.02,0.98,200)\n",
    "noise = np.asarray(random.sample((range(200)),200))\n",
    "y=x**3*noise\n",
    "yn=x**3*100\n",
    "poly3 = PolynomialFeatures(degree=3)\n",
    "X = poly3.fit_transform(x[:,np.newaxis])\n",
    "clf3 = LinearRegression()\n",
    "clf3.fit(X,y)\n",
    "\n",
    "Xplot=poly3.fit_transform(x[:,np.newaxis])\n",
    "poly3_plot=plt.plot(x, clf3.predict(Xplot), label='Cubic Fit')\n",
    "plt.plot(x,yn, color='red', label=\"True Cubic\")\n",
    "plt.scatter(x, y, label='Data', color='orange', s=15)\n",
    "plt.legend()\n",
    "plt.show()\n",
    "\n",
    "def error(a):\n",
    "    for i in y:\n",
    "        err=(y-yn)/yn\n",
    "    return abs(np.sum(err))/len(err)\n",
    "\n",
    "print (error(y))"
   ]
  },
  {
   "cell_type": "markdown",
   "id": "c7786c3b",
   "metadata": {
    "editable": true
   },
   "source": [
    "Let us now dive into  nuclear physics and remind ourselves briefly about some basic features about binding\n",
    "energies.  A basic quantity which can be measured for the ground\n",
    "states of nuclei is the atomic mass $M(N, Z)$ of the neutral atom with\n",
    "atomic mass number $A$ and charge $Z$. The number of neutrons is $N$. There are indeed several sophisticated experiments worldwide which allow us to measure this quantity to high precision (parts per million even). \n",
    "\n",
    "Atomic masses are usually tabulated in terms of the mass excess defined by"
   ]
  },
  {
   "cell_type": "markdown",
   "id": "83f5d1f7",
   "metadata": {
    "editable": true
   },
   "source": [
    "$$\n",
    "\\Delta M(N, Z) =  M(N, Z) - uA,\n",
    "$$"
   ]
  },
  {
   "cell_type": "markdown",
   "id": "36b41230",
   "metadata": {
    "editable": true
   },
   "source": [
    "where $u$ is the Atomic Mass Unit"
   ]
  },
  {
   "cell_type": "markdown",
   "id": "5476ceac",
   "metadata": {
    "editable": true
   },
   "source": [
    "$$\n",
    "u = M(^{12}\\mathrm{C})/12 = 931.4940954(57) \\hspace{0.1cm} \\mathrm{MeV}/c^2.\n",
    "$$"
   ]
  },
  {
   "cell_type": "markdown",
   "id": "a0252aa4",
   "metadata": {
    "editable": true
   },
   "source": [
    "The nucleon masses are"
   ]
  },
  {
   "cell_type": "markdown",
   "id": "993c3fe8",
   "metadata": {
    "editable": true
   },
   "source": [
    "$$\n",
    "m_p =  1.00727646693(9)u,\n",
    "$$"
   ]
  },
  {
   "cell_type": "markdown",
   "id": "699624c4",
   "metadata": {
    "editable": true
   },
   "source": [
    "and"
   ]
  },
  {
   "cell_type": "markdown",
   "id": "09e37178",
   "metadata": {
    "editable": true
   },
   "source": [
    "$$\n",
    "m_n = 939.56536(8)\\hspace{0.1cm} \\mathrm{MeV}/c^2 = 1.0086649156(6)u.\n",
    "$$"
   ]
  },
  {
   "cell_type": "markdown",
   "id": "5dca3cfd",
   "metadata": {
    "editable": true
   },
   "source": [
    "In the [2016 mass evaluation of by W.J.Huang, G.Audi, M.Wang, F.G.Kondev, S.Naimi and X.Xu](http://nuclearmasses.org/resources_folder/Wang_2017_Chinese_Phys_C_41_030003.pdf)\n",
    "there are data on masses and decays of 3437 nuclei.\n",
    "\n",
    "The nuclear binding energy is defined as the energy required to break\n",
    "up a given nucleus into its constituent parts of $N$ neutrons and $Z$\n",
    "protons. In terms of the atomic masses $M(N, Z)$ the binding energy is\n",
    "defined by"
   ]
  },
  {
   "cell_type": "markdown",
   "id": "6e758f39",
   "metadata": {
    "editable": true
   },
   "source": [
    "$$\n",
    "BE(N, Z) = ZM_H c^2 + Nm_n c^2 - M(N, Z)c^2 ,\n",
    "$$"
   ]
  },
  {
   "cell_type": "markdown",
   "id": "cd2a7727",
   "metadata": {
    "editable": true
   },
   "source": [
    "where $M_H$ is the mass of the hydrogen atom and $m_n$ is the mass of the neutron.\n",
    "In terms of the mass excess the binding energy is given by"
   ]
  },
  {
   "cell_type": "markdown",
   "id": "e8b8a9d8",
   "metadata": {
    "editable": true
   },
   "source": [
    "$$\n",
    "BE(N, Z) = Z\\Delta_H c^2 + N\\Delta_n c^2 -\\Delta(N, Z)c^2 ,\n",
    "$$"
   ]
  },
  {
   "cell_type": "markdown",
   "id": "b390292b",
   "metadata": {
    "editable": true
   },
   "source": [
    "where $\\Delta_H c^2 = 7.2890$ MeV and $\\Delta_n c^2 = 8.0713$ MeV.\n",
    "\n",
    "A popular and physically intuitive model which can be used to parametrize \n",
    "the experimental binding energies as function of $A$, is the so-called \n",
    "**liquid drop model**. The ansatz is based on the following expression"
   ]
  },
  {
   "cell_type": "markdown",
   "id": "cfdb1cf9",
   "metadata": {
    "editable": true
   },
   "source": [
    "$$\n",
    "BE(N,Z) = a_1A-a_2A^{2/3}-a_3\\frac{Z^2}{A^{1/3}}-a_4\\frac{(N-Z)^2}{A},\n",
    "$$"
   ]
  },
  {
   "cell_type": "markdown",
   "id": "10b030a0",
   "metadata": {
    "editable": true
   },
   "source": [
    "where $A$ stands for the number of nucleons and the $a_i$s are parameters which are determined by a fit \n",
    "to the experimental data.  \n",
    "\n",
    "To arrive at the above expression we have assumed that we can make the following assumptions:\n",
    "\n",
    " * There is a volume term $a_1A$ proportional with the number of nucleons (the energy is also an extensive quantity). When an assembly of nucleons of the same size is packed together into the smallest volume, each interior nucleon has a certain number of other nucleons in contact with it. This contribution is proportional to the volume.\n",
    "\n",
    " * There is a surface energy term $a_2A^{2/3}$. The assumption here is that a nucleon at the surface of a nucleus interacts with fewer other nucleons than one in the interior of the nucleus and hence its binding energy is less. This surface energy term takes that into account and is therefore negative and is proportional to the surface area.\n",
    "\n",
    " * There is a Coulomb energy term $a_3\\frac{Z^2}{A^{1/3}}$. The electric repulsion between each pair of protons in a nucleus yields less binding. \n",
    "\n",
    " * There is an asymmetry term $a_4\\frac{(N-Z)^2}{A}$. This term is associated with the Pauli exclusion principle and reflects the fact that the proton-neutron interaction is more attractive on the average than the neutron-neutron and proton-proton interactions.\n",
    "\n",
    "We could also add a so-called pairing term, which is a correction term that\n",
    "arises from the tendency of proton pairs and neutron pairs to\n",
    "occur. An even number of particles is more stable than an odd number."
   ]
  },
  {
   "cell_type": "markdown",
   "id": "cb289c64",
   "metadata": {
    "editable": true
   },
   "source": [
    "### Organizing our data\n",
    "\n",
    "Let us start with reading and organizing our data. \n",
    "We start with the compilation of masses and binding energies from 2016.\n",
    "After having downloaded this file to our own computer, we are now ready to read the file and start structuring our data.\n",
    "\n",
    "We start with preparing folders for storing our calculations and the data file over masses and binding energies. We import also various modules that we will find useful in order to present various Machine Learning methods. Here we focus mainly on the functionality of **scikit-learn**."
   ]
  },
  {
   "cell_type": "code",
   "execution_count": 5,
   "id": "cca06315",
   "metadata": {
    "collapsed": false,
    "editable": true
   },
   "outputs": [],
   "source": [
    "# Common imports\n",
    "import numpy as np\n",
    "import pandas as pd\n",
    "import matplotlib.pyplot as plt\n",
    "import sklearn.linear_model as skl\n",
    "from sklearn.model_selection import train_test_split\n",
    "from sklearn.metrics import mean_squared_error, r2_score, mean_absolute_error\n",
    "import os\n",
    "\n",
    "# Where to save the figures and data files\n",
    "PROJECT_ROOT_DIR = \"Results\"\n",
    "FIGURE_ID = \"Results/FigureFiles\"\n",
    "DATA_ID = \"DataFiles/\"\n",
    "\n",
    "if not os.path.exists(PROJECT_ROOT_DIR):\n",
    "    os.mkdir(PROJECT_ROOT_DIR)\n",
    "\n",
    "if not os.path.exists(FIGURE_ID):\n",
    "    os.makedirs(FIGURE_ID)\n",
    "\n",
    "if not os.path.exists(DATA_ID):\n",
    "    os.makedirs(DATA_ID)\n",
    "\n",
    "def image_path(fig_id):\n",
    "    return os.path.join(FIGURE_ID, fig_id)\n",
    "\n",
    "def data_path(dat_id):\n",
    "    return os.path.join(DATA_ID, dat_id)\n",
    "\n",
    "def save_fig(fig_id):\n",
    "    plt.savefig(image_path(fig_id) + \".png\", format='png')\n",
    "\n",
    "infile = open(data_path(\"MassEval2016.dat\"),'r')"
   ]
  },
  {
   "cell_type": "markdown",
   "id": "518d9d53",
   "metadata": {
    "editable": true
   },
   "source": [
    "Our next step is to read the data on experimental binding energies and\n",
    "reorganize them as functions of the mass number $A$, the number of\n",
    "protons $Z$ and neutrons $N$ using **pandas**.  Before we do this it is\n",
    "always useful (unless you have a binary file or other types of compressed\n",
    "data) to actually open the file and simply take a look at it!\n",
    "\n",
    "In particular, the program that outputs the final nuclear masses is written in Fortran with a specific format. It means that we need to figure out the format and which columns contain the data we are interested in. Pandas comes with a function that reads formatted output. After having admired the file, we are now ready to start massaging it with **pandas**. The file begins with some basic format information."
   ]
  },
  {
   "cell_type": "code",
   "execution_count": 6,
   "id": "38f65b25",
   "metadata": {
    "collapsed": false,
    "editable": true
   },
   "outputs": [],
   "source": [
    "\"\"\"                                                                                                                         \n",
    "This is taken from the data file of the mass 2016 evaluation.                                                               \n",
    "All files are 3436 lines long with 124 character per line.                                                                  \n",
    "       Headers are 39 lines long.                                                                                           \n",
    "   col 1     :  Fortran character control: 1 = page feed  0 = line feed                                                     \n",
    "   format    :  a1,i3,i5,i5,i5,1x,a3,a4,1x,f13.5,f11.5,f11.3,f9.3,1x,a2,f11.3,f9.3,1x,i3,1x,f12.5,f11.5                     \n",
    "   These formats are reflected in the pandas widths variable below, see the statement                                       \n",
    "   widths=(1,3,5,5,5,1,3,4,1,13,11,11,9,1,2,11,9,1,3,1,12,11,1),                                                            \n",
    "   Pandas has also a variable header, with length 39 in this case.                                                          \n",
    "\"\"\""
   ]
  },
  {
   "cell_type": "markdown",
   "id": "7df95f40",
   "metadata": {
    "editable": true
   },
   "source": [
    "The data we are interested in are in columns 2, 3, 4 and 11, giving us\n",
    "the number of neutrons, protons, mass numbers and binding energies,\n",
    "respectively. We add also for the sake of completeness the element name. The data are in fixed-width formatted lines and we will\n",
    "covert them into the **pandas** DataFrame structure."
   ]
  },
  {
   "cell_type": "code",
   "execution_count": 7,
   "id": "bdf76b5e",
   "metadata": {
    "collapsed": false,
    "editable": true
   },
   "outputs": [],
   "source": [
    "# Read the experimental data with Pandas\n",
    "Masses = pd.read_fwf(infile, usecols=(2,3,4,6,11),\n",
    "              names=('N', 'Z', 'A', 'Element', 'Ebinding'),\n",
    "              widths=(1,3,5,5,5,1,3,4,1,13,11,11,9,1,2,11,9,1,3,1,12,11,1),\n",
    "              header=39,\n",
    "              index_col=False)\n",
    "\n",
    "# Extrapolated values are indicated by '#' in place of the decimal place, so\n",
    "# the Ebinding column won't be numeric. Coerce to float and drop these entries.\n",
    "Masses['Ebinding'] = pd.to_numeric(Masses['Ebinding'], errors='coerce')\n",
    "Masses = Masses.dropna()\n",
    "# Convert from keV to MeV.\n",
    "Masses['Ebinding'] /= 1000\n",
    "\n",
    "# Group the DataFrame by nucleon number, A.\n",
    "Masses = Masses.groupby('A')\n",
    "# Find the rows of the grouped DataFrame with the maximum binding energy.\n",
    "Masses = Masses.apply(lambda t: t[t.Ebinding==t.Ebinding.max()])"
   ]
  },
  {
   "cell_type": "markdown",
   "id": "becf6238",
   "metadata": {
    "editable": true
   },
   "source": [
    "We have now read in the data, grouped them according to the variables we are interested in. \n",
    "We see how easy it is to reorganize the data using **pandas**. If we\n",
    "were to do these operations in C/C++ or Fortran, we would have had to\n",
    "write various functions/subroutines which perform the above\n",
    "reorganizations for us.  Having reorganized the data, we can now start\n",
    "to make some simple fits using both the functionalities in **numpy** and\n",
    "**Scikit-Learn** afterwards. \n",
    "\n",
    "Now we define five variables which contain\n",
    "the number of nucleons $A$, the number of protons $Z$ and the number of neutrons $N$, the element name and finally the energies themselves."
   ]
  },
  {
   "cell_type": "code",
   "execution_count": 8,
   "id": "280c0700",
   "metadata": {
    "collapsed": false,
    "editable": true
   },
   "outputs": [],
   "source": [
    "A = Masses['A']\n",
    "Z = Masses['Z']\n",
    "N = Masses['N']\n",
    "Element = Masses['Element']\n",
    "Energies = Masses['Ebinding']\n",
    "print(Masses)"
   ]
  },
  {
   "cell_type": "markdown",
   "id": "46814807",
   "metadata": {
    "editable": true
   },
   "source": [
    "The next step, and we will define this mathematically later, is to set up the so-called **design matrix**. We will throughout call this matrix $\\boldsymbol{X}$.\n",
    "It has dimensionality $n\\times p$, where $n$ is the number of data points and $p$ are the so-called predictors. In our case here they are given by the number of polynomials in $A$ we wish to include in the fit."
   ]
  },
  {
   "cell_type": "code",
   "execution_count": 9,
   "id": "0f758df8",
   "metadata": {
    "collapsed": false,
    "editable": true
   },
   "outputs": [],
   "source": [
    "# Now we set up the design matrix X\n",
    "X = np.zeros((len(A),5))\n",
    "X[:,0] = 1\n",
    "X[:,1] = A\n",
    "X[:,2] = A**(2.0/3.0)\n",
    "X[:,3] = A**(-1.0/3.0)\n",
    "X[:,4] = A**(-1.0)"
   ]
  },
  {
   "cell_type": "markdown",
   "id": "fda4c0ab",
   "metadata": {
    "editable": true
   },
   "source": [
    "Note well that we have made life simple here. We perform a fit in\n",
    "terms of the number of nucleons only.  A more sophisticated fit can be\n",
    "done by including an explicit dependence on the number of protons and\n",
    "neutrons in the asymmetry and Coulomb terms. We leave this as an exercise to you the reader.\n",
    "\n",
    "With **Scikit-Learn** we are now ready to use linear regression and fit our data."
   ]
  },
  {
   "cell_type": "code",
   "execution_count": 10,
   "id": "8b295d45",
   "metadata": {
    "collapsed": false,
    "editable": true
   },
   "outputs": [],
   "source": [
    "clf = skl.LinearRegression().fit(X, Energies)\n",
    "fity = clf.predict(X)"
   ]
  },
  {
   "cell_type": "markdown",
   "id": "d26a94a9",
   "metadata": {
    "editable": true
   },
   "source": [
    "Pretty simple!  \n",
    "Now we can print measures of how our fit is doing, the coefficients from the fits and plot the final fit together with our data."
   ]
  },
  {
   "cell_type": "code",
   "execution_count": 11,
   "id": "c346d782",
   "metadata": {
    "collapsed": false,
    "editable": true
   },
   "outputs": [],
   "source": [
    "# The mean squared error                               \n",
    "print(\"Mean squared error: %.2f\" % mean_squared_error(Energies, fity))\n",
    "# Explained variance score: 1 is perfect prediction                                 \n",
    "print('Variance score: %.2f' % r2_score(Energies, fity))\n",
    "# Mean absolute error                                                           \n",
    "print('Mean absolute error: %.2f' % mean_absolute_error(Energies, fity))\n",
    "\n",
    "Masses['Eapprox']  = fity\n",
    "# Generate a plot comparing the experimental with the fitted values values.\n",
    "fig, ax = plt.subplots()\n",
    "ax.set_xlabel(r'$A = N + Z$')\n",
    "ax.set_ylabel(r'$E_\\mathrm{bind}\\,/\\mathrm{MeV}$')\n",
    "ax.plot(Masses['A'], Masses['Ebinding'], alpha=0.7, lw=2,\n",
    "            label='Ame2016')\n",
    "ax.plot(Masses['A'], Masses['Eapprox'], alpha=0.7, lw=2, c='m',\n",
    "            label='Fit')\n",
    "ax.legend()\n",
    "save_fig(\"Masses2016\")\n",
    "plt.show()"
   ]
  },
  {
   "cell_type": "markdown",
   "id": "947211f8",
   "metadata": {
    "editable": true
   },
   "source": [
    "As a teaser, let us now see how we can do this with decision trees using **Scikit-Learn**. Later we will switch to so-called **random forests**!"
   ]
  },
  {
   "cell_type": "code",
   "execution_count": 12,
   "id": "3be55471",
   "metadata": {
    "collapsed": false,
    "editable": true
   },
   "outputs": [],
   "source": [
    "\n",
    "#Decision Tree Regression\n",
    "from sklearn.tree import DecisionTreeRegressor\n",
    "regr_1=DecisionTreeRegressor(max_depth=5)\n",
    "regr_2=DecisionTreeRegressor(max_depth=7)\n",
    "regr_3=DecisionTreeRegressor(max_depth=9)\n",
    "regr_1.fit(X, Energies)\n",
    "regr_2.fit(X, Energies)\n",
    "regr_3.fit(X, Energies)\n",
    "\n",
    "\n",
    "y_1 = regr_1.predict(X)\n",
    "y_2 = regr_2.predict(X)\n",
    "y_3=regr_3.predict(X)\n",
    "Masses['Eapprox'] = y_3\n",
    "# Plot the results\n",
    "plt.figure()\n",
    "plt.plot(A, Energies, color=\"blue\", label=\"Data\", linewidth=2)\n",
    "plt.plot(A, y_1, color=\"red\", label=\"max_depth=5\", linewidth=2)\n",
    "plt.plot(A, y_2, color=\"green\", label=\"max_depth=7\", linewidth=2)\n",
    "plt.plot(A, y_3, color=\"m\", label=\"max_depth=9\", linewidth=2)\n",
    "\n",
    "plt.xlabel(\"$A$\")\n",
    "plt.ylabel(\"$E$[MeV]\")\n",
    "plt.title(\"Decision Tree Regression\")\n",
    "plt.legend()\n",
    "save_fig(\"Masses2016Trees\")\n",
    "plt.show()\n",
    "print(Masses)\n",
    "print(np.mean( (Energies-y_1)**2))"
   ]
  },
  {
   "cell_type": "markdown",
   "id": "91b65208",
   "metadata": {
    "editable": true
   },
   "source": [
    "With a deeper and deeper tree level, we can almost reproduce every\n",
    "single data point by increasing the max depth of the tree.\n",
    "We can actually decide to make a decision tree which fits every single point.\n",
    "As we will\n",
    "see later, this has the benefit that we can really train a model which\n",
    "traverses every single data point. However, the price we pay is that\n",
    "we will easily overfit. That is, if we apply our model to unseen data,\n",
    "we will most likely fail miserably in our attempt at making\n",
    "predictions. As an exercise, try to make the tree level larger by adjusting the maximum depth variable. When printing out the predicition, you will note that the binding energy of every nucleus is accurately reproduced.\n",
    "\n",
    "The **seaborn** package allows us to visualize data in an efficient way. Note that we use **scikit-learn**'s multi-layer perceptron (or feed forward neural network) \n",
    "functionality."
   ]
  },
  {
   "cell_type": "code",
   "execution_count": 13,
   "id": "c80885e3",
   "metadata": {
    "collapsed": false,
    "editable": true
   },
   "outputs": [],
   "source": [
    "from sklearn.neural_network import MLPRegressor\n",
    "from sklearn.metrics import accuracy_score\n",
    "import seaborn as sns\n",
    "\n",
    "X_train = X\n",
    "Y_train = Energies\n",
    "n_hidden_neurons = 100\n",
    "epochs = 100\n",
    "# store models for later use\n",
    "eta_vals = np.logspace(-5, 1, 7)\n",
    "lmbd_vals = np.logspace(-5, 1, 7)\n",
    "# store the models for later use\n",
    "DNN_scikit = np.zeros((len(eta_vals), len(lmbd_vals)), dtype=object)\n",
    "train_accuracy = np.zeros((len(eta_vals), len(lmbd_vals)))\n",
    "sns.set()\n",
    "for i, eta in enumerate(eta_vals):\n",
    "    for j, lmbd in enumerate(lmbd_vals):\n",
    "        dnn = MLPRegressor(hidden_layer_sizes=(n_hidden_neurons), activation='logistic',\n",
    "                            alpha=lmbd, learning_rate_init=eta, max_iter=epochs)\n",
    "        dnn.fit(X_train, Y_train)\n",
    "        DNN_scikit[i][j] = dnn\n",
    "        train_accuracy[i][j] = dnn.score(X_train, Y_train)\n",
    "\n",
    "fig, ax = plt.subplots(figsize = (10, 10))\n",
    "sns.heatmap(train_accuracy, annot=True, ax=ax, cmap=\"viridis\")\n",
    "ax.set_title(\"Training Accuracy\")\n",
    "ax.set_ylabel(\"$\\eta$\")\n",
    "ax.set_xlabel(\"$\\lambda$\")\n",
    "plt.show()"
   ]
  },
  {
   "cell_type": "markdown",
   "id": "df0689a5",
   "metadata": {
    "editable": true
   },
   "source": [
    "## Linear Regression, basic elements\n",
    "\n",
    "[Video of Lecture](https://www.uio.no/studier/emner/matnat/fys/FYS-STK4155/h20/forelesningsvideoer/LectureAug27.mp4?vrtx=view-as-webpage).\n",
    "\n",
    "Fitting a continuous function with linear parameterization in terms of the parameters  $\\boldsymbol{\\theta}$.\n",
    "* Method of choice for fitting a continuous function!\n",
    "\n",
    "* Gives an excellent introduction to central Machine Learning features with **understandable pedagogical** links to other methods like **Neural Networks**, **Support Vector Machines** etc\n",
    "\n",
    "* Analytical expression for the fitting parameters $\\boldsymbol{\\theta}$\n",
    "\n",
    "* Analytical expressions for statistical propertiers like mean values, variances, confidence intervals and more\n",
    "\n",
    "* Analytical relation with probabilistic interpretations \n",
    "\n",
    "* Easy to introduce basic concepts like bias-variance tradeoff, cross-validation, resampling and regularization techniques and many other ML topics\n",
    "\n",
    "* Easy to code! And links well with classification problems and logistic regression and neural networks\n",
    "\n",
    "* Allows for **easy** hands-on understanding of gradient descent methods\n",
    "\n",
    "* and many more features\n",
    "\n",
    "For more discussions of Ridge and Lasso regression, [Wessel van Wieringen's](https://arxiv.org/abs/1509.09169) article is highly recommended.\n",
    "Similarly, [Mehta et al's article](https://arxiv.org/abs/1803.08823) is also recommended.\n",
    "\n",
    "Regression modeling deals with the description of  the sampling distribution of a given random variable $y$ and how it varies as function of another variable or a set of such variables $\\boldsymbol{x} =[x_0, x_1,\\dots, x_{n-1}]^T$. \n",
    "The first variable is called the **dependent**, the **outcome** or the **response** or just the output variable while the set of variables $\\boldsymbol{x}$ is called the independent variable, or the predictor variable or the explanatory variable, or just the input variable. We will hereafter call $\\boldsymbol{y}$ and $\\boldsymbol{x}x$ for the output and input variables, respectively. \n",
    "\n",
    "A regression model aims at finding a likelihood function $p(\\boldsymbol{y}\\vert \\boldsymbol{x})$ (or just a function $f(\\boldsymbol{x}$) , that is the conditional distribution for $\\boldsymbol{y}$ with a given $\\boldsymbol{x}$. The estimation of  $p(\\boldsymbol{y}\\vert \\boldsymbol{x})$ is made using a data set with \n",
    "* $n$ cases $i = 0, 1, 2, \\dots, n-1$ \n",
    "\n",
    "* Response/output (target, dependent or outcome) variable $y_i$ with $i = 0, 1, 2, \\dots, n-1$ \n",
    "\n",
    "* $p$ so-called explanatory/input (independent or predictor) variables $\\boldsymbol{x}_i=[x_{i0}, x_{i1}, \\dots, x_{ip-1}]$ with $i = 0, 1, 2, \\dots, n-1$ and explanatory variables running from $0$ to $p-1$. See below for more explicit examples.   \n",
    "\n",
    " The goal of the regression analysis is to extract/exploit relationship between $\\boldsymbol{y}$ and $\\boldsymbol{x}$ in or to infer causal dependencies, approximations to the likelihood functions, functional relationships and to make predictions, making fits and many other things.\n",
    "\n",
    "Consider an experiment in which $p$ characteristics of $n$ samples are\n",
    "measured. The data from this experiment, for various explanatory variables $p$ are normally represented by a matrix  \n",
    "$\\mathbf{X}$.\n",
    "\n",
    "The matrix $\\mathbf{X}$ is called the *design\n",
    "matrix*. Additional information of the samples is available in the\n",
    "form of $\\boldsymbol{y}$ (also as above). The variable $\\boldsymbol{y}$ is\n",
    "generally referred to as the *response variable*. The aim of\n",
    "regression analysis is to explain $\\boldsymbol{y}$ in terms of\n",
    "$\\boldsymbol{X}$ through a functional relationship like $y_i =\n",
    "f(\\mathbf{X}_{i,\\ast})$. When no prior knowledge on the form of\n",
    "$f(\\cdot)$ is available, it is common to assume a linear relationship\n",
    "between $\\boldsymbol{X}$ and $\\boldsymbol{y}$. This assumption gives rise to\n",
    "the *linear regression model* where $\\boldsymbol{\\theta} = [\\theta_0, \\ldots,\n",
    "\\theta_{p-1}]^{T}$ are the *regression parameters*. \n",
    "\n",
    "Linear regression gives us a set of analytical equations for the parameters $\\theta_j$.\n",
    "\n",
    "In order to understand the relation among the predictors $p$, the set of data $n$ and the target (outcome, output etc) $\\boldsymbol{y}$,\n",
    "consider the model we discussed for describing nuclear binding energies. \n",
    "\n",
    "There we assumed that we could parametrize the data using a polynomial approximation based on the liquid drop model.\n",
    "Assuming"
   ]
  },
  {
   "cell_type": "markdown",
   "id": "49bf1460",
   "metadata": {
    "editable": true
   },
   "source": [
    "$$\n",
    "BE(A) = a_0+a_1A+a_2A^{2/3}+a_3A^{-1/3}+a_4A^{-1},\n",
    "$$"
   ]
  },
  {
   "cell_type": "markdown",
   "id": "1881006d",
   "metadata": {
    "editable": true
   },
   "source": [
    "we have five predictors, that is the intercept, the $A$ dependent term, the $A^{2/3}$ term and the $A^{-1/3}$ and $A^{-1}$ terms.\n",
    "This gives $p=0,1,2,3,4$. Furthermore we have $n$ entries for each predictor. It means that our design matrix is a \n",
    "$p\\times n$ matrix $\\boldsymbol{X}$.\n",
    "\n",
    "Here the predictors are based on a model we have made. A popular data set which is widely encountered in ML applications is the\n",
    "so-called [credit card default data from Taiwan](https://www.sciencedirect.com/science/article/pii/S0957417407006719?via%3Dihub). The data set contains data on $n=30000$ credit card holders with predictors like gender, marital status, age, profession, education, etc. In total there are $24$ such predictors or attributes leading to a design matrix of dimensionality $24 \\times 30000$. This is however a classification problem and we will come back to it when we discuss Logistic Regression. \n",
    "\n",
    "Before we proceed let us study a case from linear algebra where we aim at fitting a set of data $\\boldsymbol{y}=[y_0,y_1,\\dots,y_{n-1}]$. We could think of these data as a result of an experiment or a complicated numerical experiment. These data are functions of a series of variables $\\boldsymbol{x}=[x_0,x_1,\\dots,x_{n-1}]$, that is $y_i = y(x_i)$ with $i=0,1,2,\\dots,n-1$. The variables $x_i$ could represent physical quantities like time, temperature, position etc. We assume that $y(x)$ is a smooth function. \n",
    "\n",
    "Since obtaining these data points may not be trivial, we want to use these data to fit a function which can allow us to make predictions for values of $y$ which are not in the present set. The perhaps simplest approach is to assume we can parametrize our function in terms of a polynomial of degree $n-1$ with $n$ points, that is"
   ]
  },
  {
   "cell_type": "markdown",
   "id": "e34d3a6a",
   "metadata": {
    "editable": true
   },
   "source": [
    "$$\n",
    "y=y(x) \\rightarrow y(x_i)=\\tilde{y}_i+\\epsilon_i=\\sum_{j=0}^{n-1} \\theta_j x_i^j+\\epsilon_i,\n",
    "$$"
   ]
  },
  {
   "cell_type": "markdown",
   "id": "a45cb8e0",
   "metadata": {
    "editable": true
   },
   "source": [
    "where $\\epsilon_i$ is the error in our approximation. \n",
    "\n",
    "For every set of values $y_i,x_i$ we have thus the corresponding set of equations"
   ]
  },
  {
   "cell_type": "markdown",
   "id": "905abab9",
   "metadata": {
    "editable": true
   },
   "source": [
    "$$\n",
    "\\begin{align*}\n",
    "y_0&=\\theta_0+\\theta_1x_0^1+\\theta_2x_0^2+\\dots+\\theta_{n-1}x_0^{n-1}+\\epsilon_0\\\\\n",
    "y_1&=\\theta_0+\\theta_1x_1^1+\\theta_2x_1^2+\\dots+\\theta_{n-1}x_1^{n-1}+\\epsilon_1\\\\\n",
    "y_2&=\\theta_0+\\theta_1x_2^1+\\theta_2x_2^2+\\dots+\\theta_{n-1}x_2^{n-1}+\\epsilon_2\\\\\n",
    "\\dots & \\dots \\\\\n",
    "y_{n-1}&=\\theta_0+\\theta_1x_{n-1}^1+\\theta_2x_{n-1}^2+\\dots+\\theta_{n-1}x_{n-1}^{n-1}+\\epsilon_{n-1}.\\\\\n",
    "\\end{align*}\n",
    "$$"
   ]
  },
  {
   "cell_type": "markdown",
   "id": "6a1f7209",
   "metadata": {
    "editable": true
   },
   "source": [
    "Defining the vectors"
   ]
  },
  {
   "cell_type": "markdown",
   "id": "a90bc55b",
   "metadata": {
    "editable": true
   },
   "source": [
    "$$\n",
    "\\boldsymbol{y} = [y_0,y_1, y_2,\\dots, y_{n-1}]^T,\n",
    "$$"
   ]
  },
  {
   "cell_type": "markdown",
   "id": "e91b18ae",
   "metadata": {
    "editable": true
   },
   "source": [
    "and"
   ]
  },
  {
   "cell_type": "markdown",
   "id": "8afcf3ab",
   "metadata": {
    "editable": true
   },
   "source": [
    "$$\n",
    "\\boldsymbol{\\theta} = [\\theta_0,\\theta_1, \\theta_2,\\dots, \\theta_{n-1}]^T,\n",
    "$$"
   ]
  },
  {
   "cell_type": "markdown",
   "id": "7bf8b155",
   "metadata": {
    "editable": true
   },
   "source": [
    "and"
   ]
  },
  {
   "cell_type": "markdown",
   "id": "09e4774d",
   "metadata": {
    "editable": true
   },
   "source": [
    "$$\n",
    "\\boldsymbol{\\epsilon} = [\\epsilon_0,\\epsilon_1, \\epsilon_2,\\dots, \\epsilon_{n-1}]^T,\n",
    "$$"
   ]
  },
  {
   "cell_type": "markdown",
   "id": "adcffacb",
   "metadata": {
    "editable": true
   },
   "source": [
    "and the design matrix"
   ]
  },
  {
   "cell_type": "markdown",
   "id": "31ef2d69",
   "metadata": {
    "editable": true
   },
   "source": [
    "$$\n",
    "\\boldsymbol{X}=\n",
    "\\begin{bmatrix} \n",
    "1& x_{0}^1 &x_{0}^2& \\dots & \\dots &x_{0}^{n-1}\\\\\n",
    "1& x_{1}^1 &x_{1}^2& \\dots & \\dots &x_{1}^{n-1}\\\\\n",
    "1& x_{2}^1 &x_{2}^2& \\dots & \\dots &x_{2}^{n-1}\\\\                      \n",
    "\\dots& \\dots &\\dots& \\dots & \\dots &\\dots\\\\\n",
    "1& x_{n-1}^1 &x_{n-1}^2& \\dots & \\dots &x_{n-1}^{n-1}\\\\\n",
    "\\end{bmatrix}\n",
    "$$"
   ]
  },
  {
   "cell_type": "markdown",
   "id": "3f74f04e",
   "metadata": {
    "editable": true
   },
   "source": [
    "we can rewrite our equations as"
   ]
  },
  {
   "cell_type": "markdown",
   "id": "641f1a69",
   "metadata": {
    "editable": true
   },
   "source": [
    "$$\n",
    "\\boldsymbol{y} = \\boldsymbol{X}\\boldsymbol{\\theta}+\\boldsymbol{\\epsilon}.\n",
    "$$"
   ]
  },
  {
   "cell_type": "markdown",
   "id": "d3c3656a",
   "metadata": {
    "editable": true
   },
   "source": [
    "The above design matrix is called a [Vandermonde matrix](https://en.wikipedia.org/wiki/Vandermonde_matrix).\n",
    "\n",
    "We are obviously not limited to the above polynomial expansions.  We\n",
    "could replace the various powers of $x$ with elements of Fourier\n",
    "series or instead of $x_i^j$ we could have $\\cos{(j x_i)}$ or $\\sin{(j\n",
    "x_i)}$, or time series or other orthogonal functions.  For every set\n",
    "of values $y_i,x_i$ we can then generalize the equations to"
   ]
  },
  {
   "cell_type": "markdown",
   "id": "5ff9ce6b",
   "metadata": {
    "editable": true
   },
   "source": [
    "$$\n",
    "\\begin{align*}\n",
    "y_0&=\\theta_0x_{00}+\\theta_1x_{01}+\\theta_2x_{02}+\\dots+\\theta_{n-1}x_{0n-1}+\\epsilon_0\\\\\n",
    "y_1&=\\theta_0x_{10}+\\theta_1x_{11}+\\theta_2x_{12}+\\dots+\\theta_{n-1}x_{1n-1}+\\epsilon_1\\\\\n",
    "y_2&=\\theta_0x_{20}+\\theta_1x_{21}+\\theta_2x_{22}+\\dots+\\theta_{n-1}x_{2n-1}+\\epsilon_2\\\\\n",
    "\\dots & \\dots \\\\\n",
    "y_{i}&=\\theta_0x_{i0}+\\theta_1x_{i1}+\\theta_2x_{i2}+\\dots+\\theta_{n-1}x_{in-1}+\\epsilon_i\\\\\n",
    "\\dots & \\dots \\\\\n",
    "y_{n-1}&=\\theta_0x_{n-1,0}+\\theta_1x_{n-1,2}+\\theta_2x_{n-1,2}+\\dots+\\theta_{n-1}x_{n-1,n-1}+\\epsilon_{n-1}.\\\\\n",
    "\\end{align*}\n",
    "$$"
   ]
  },
  {
   "cell_type": "markdown",
   "id": "489081af",
   "metadata": {
    "editable": true
   },
   "source": [
    "**Note that we have $p=n$ here. The matrix is symmetric. This is generally not the case!**\n",
    "\n",
    "We redefine in turn the matrix $\\boldsymbol{X}$ as"
   ]
  },
  {
   "cell_type": "markdown",
   "id": "09adf537",
   "metadata": {
    "editable": true
   },
   "source": [
    "$$\n",
    "\\boldsymbol{X}=\n",
    "\\begin{bmatrix} \n",
    "x_{00}& x_{01} &x_{02}& \\dots & \\dots &x_{0,n-1}\\\\\n",
    "x_{10}& x_{11} &x_{12}& \\dots & \\dots &x_{1,n-1}\\\\\n",
    "x_{20}& x_{21} &x_{22}& \\dots & \\dots &x_{2,n-1}\\\\                      \n",
    "\\dots& \\dots &\\dots& \\dots & \\dots &\\dots\\\\\n",
    "x_{n-1,0}& x_{n-1,1} &x_{n-1,2}& \\dots & \\dots &x_{n-1,n-1}\\\\\n",
    "\\end{bmatrix}\n",
    "$$"
   ]
  },
  {
   "cell_type": "markdown",
   "id": "ad443b1c",
   "metadata": {
    "editable": true
   },
   "source": [
    "and without loss of generality we rewrite again  our equations as"
   ]
  },
  {
   "cell_type": "markdown",
   "id": "1d14f721",
   "metadata": {
    "editable": true
   },
   "source": [
    "$$\n",
    "\\boldsymbol{y} = \\boldsymbol{X}\\boldsymbol{\\theta}+\\boldsymbol{\\epsilon}.\n",
    "$$"
   ]
  },
  {
   "cell_type": "markdown",
   "id": "9c202983",
   "metadata": {
    "editable": true
   },
   "source": [
    "The left-hand side of this equation is kwown. Our error vector $\\boldsymbol{\\epsilon}$ and the parameter vector $\\boldsymbol{\\theta}$ are our unknow quantities. How can we obtain the optimal set of $\\theta_i$ values? \n",
    "\n",
    "We have defined the matrix $\\boldsymbol{X}$ via the equations"
   ]
  },
  {
   "cell_type": "markdown",
   "id": "7b83a961",
   "metadata": {
    "editable": true
   },
   "source": [
    "$$\n",
    "\\begin{align*}\n",
    "y_0&=\\theta_0x_{00}+\\theta_1x_{01}+\\theta_2x_{02}+\\dots+\\theta_{n-1}x_{0n-1}+\\epsilon_0\\\\\n",
    "y_1&=\\theta_0x_{10}+\\theta_1x_{11}+\\theta_2x_{12}+\\dots+\\theta_{n-1}x_{1n-1}+\\epsilon_1\\\\\n",
    "y_2&=\\theta_0x_{20}+\\theta_1x_{21}+\\theta_2x_{22}+\\dots+\\theta_{n-1}x_{2n-1}+\\epsilon_1\\\\\n",
    "\\dots & \\dots \\\\\n",
    "y_{i}&=\\theta_0x_{i0}+\\theta_1x_{i1}+\\theta_2x_{i2}+\\dots+\\theta_{n-1}x_{in-1}+\\epsilon_1\\\\\n",
    "\\dots & \\dots \\\\\n",
    "y_{n-1}&=\\theta_0x_{n-1,0}+\\theta_1x_{n-1,2}+\\theta_2x_{n-1,2}+\\dots+\\theta_{n-1}x_{n-1,n-1}+\\epsilon_{n-1}.\\\\\n",
    "\\end{align*}\n",
    "$$"
   ]
  },
  {
   "cell_type": "markdown",
   "id": "6ba4ceac",
   "metadata": {
    "editable": true
   },
   "source": [
    "As we noted above, we stayed with a system with the design matrix \n",
    " $\\boldsymbol{X}\\in {\\mathbb{R}}^{n\\times n}$, that is we have $p=n$. For reasons to come later (algorithmic arguments) we will hereafter define \n",
    "our matrix as $\\boldsymbol{X}\\in {\\mathbb{R}}^{n\\times p}$, with the predictors refering to the column numbers and the entries $n$ being the row elements.\n",
    "\n",
    "In our [introductory notes](https://compphysics.github.io/MachineLearning/doc/pub/How2ReadData/html/How2ReadData.html) we looked at the so-called [liquid drop model](https://en.wikipedia.org/wiki/Semi-empirical_mass_formula). Let us remind ourselves about what we did by looking at the code.\n",
    "\n",
    "We restate the parts of the code we are most interested in."
   ]
  },
  {
   "cell_type": "code",
   "execution_count": 14,
   "id": "c6247298",
   "metadata": {
    "collapsed": false,
    "editable": true
   },
   "outputs": [],
   "source": [
    "# Common imports\n",
    "import numpy as np\n",
    "import pandas as pd\n",
    "import matplotlib.pyplot as plt\n",
    "from IPython.display import display\n",
    "import os\n",
    "\n",
    "# Where to save the figures and data files\n",
    "PROJECT_ROOT_DIR = \"Results\"\n",
    "FIGURE_ID = \"Results/FigureFiles\"\n",
    "DATA_ID = \"DataFiles/\"\n",
    "\n",
    "if not os.path.exists(PROJECT_ROOT_DIR):\n",
    "    os.mkdir(PROJECT_ROOT_DIR)\n",
    "\n",
    "if not os.path.exists(FIGURE_ID):\n",
    "    os.makedirs(FIGURE_ID)\n",
    "\n",
    "if not os.path.exists(DATA_ID):\n",
    "    os.makedirs(DATA_ID)\n",
    "\n",
    "def image_path(fig_id):\n",
    "    return os.path.join(FIGURE_ID, fig_id)\n",
    "\n",
    "def data_path(dat_id):\n",
    "    return os.path.join(DATA_ID, dat_id)\n",
    "\n",
    "def save_fig(fig_id):\n",
    "    plt.savefig(image_path(fig_id) + \".png\", format='png')\n",
    "\n",
    "infile = open(data_path(\"MassEval2016.dat\"),'r')\n",
    "\n",
    "\n",
    "# Read the experimental data with Pandas\n",
    "Masses = pd.read_fwf(infile, usecols=(2,3,4,6,11),\n",
    "              names=('N', 'Z', 'A', 'Element', 'Ebinding'),\n",
    "              widths=(1,3,5,5,5,1,3,4,1,13,11,11,9,1,2,11,9,1,3,1,12,11,1),\n",
    "              header=39,\n",
    "              index_col=False)\n",
    "\n",
    "# Extrapolated values are indicated by '#' in place of the decimal place, so\n",
    "# the Ebinding column won't be numeric. Coerce to float and drop these entries.\n",
    "Masses['Ebinding'] = pd.to_numeric(Masses['Ebinding'], errors='coerce')\n",
    "Masses = Masses.dropna()\n",
    "# Convert from keV to MeV.\n",
    "Masses['Ebinding'] /= 1000\n",
    "\n",
    "# Group the DataFrame by nucleon number, A.\n",
    "Masses = Masses.groupby('A')\n",
    "# Find the rows of the grouped DataFrame with the maximum binding energy.\n",
    "Masses = Masses.apply(lambda t: t[t.Ebinding==t.Ebinding.max()])\n",
    "A = Masses['A']\n",
    "Z = Masses['Z']\n",
    "N = Masses['N']\n",
    "Element = Masses['Element']\n",
    "Energies = Masses['Ebinding']\n",
    "\n",
    "# Now we set up the design matrix X\n",
    "X = np.zeros((len(A),5))\n",
    "X[:,0] = 1\n",
    "X[:,1] = A\n",
    "X[:,2] = A**(2.0/3.0)\n",
    "X[:,3] = A**(-1.0/3.0)\n",
    "X[:,4] = A**(-1.0)\n",
    "# Then nice printout using pandas\n",
    "DesignMatrix = pd.DataFrame(X)\n",
    "DesignMatrix.index = A\n",
    "DesignMatrix.columns = ['1', 'A', 'A^(2/3)', 'A^(-1/3)', '1/A']\n",
    "display(DesignMatrix)"
   ]
  },
  {
   "cell_type": "markdown",
   "id": "80fa67c7",
   "metadata": {
    "editable": true
   },
   "source": [
    "With $\\boldsymbol{\\theta}\\in {\\mathbb{R}}^{p\\times 1}$, it means that we will hereafter write our equations for the approximation as"
   ]
  },
  {
   "cell_type": "markdown",
   "id": "f0235c00",
   "metadata": {
    "editable": true
   },
   "source": [
    "$$\n",
    "\\boldsymbol{\\tilde{y}}= \\boldsymbol{X}\\boldsymbol{\\theta},\n",
    "$$"
   ]
  },
  {
   "cell_type": "markdown",
   "id": "27f3ed42",
   "metadata": {
    "editable": true
   },
   "source": [
    "throughout these lectures. \n",
    "\n",
    "With the above we use the design matrix to define the approximation $\\boldsymbol{\\tilde{y}}$ via the unknown quantity $\\boldsymbol{\\theta}$ as"
   ]
  },
  {
   "cell_type": "markdown",
   "id": "9283df88",
   "metadata": {
    "editable": true
   },
   "source": [
    "$$\n",
    "\\boldsymbol{\\tilde{y}}= \\boldsymbol{X}\\boldsymbol{\\theta},\n",
    "$$"
   ]
  },
  {
   "cell_type": "markdown",
   "id": "e3c659c0",
   "metadata": {
    "editable": true
   },
   "source": [
    "and in order to find the optimal parameters $\\theta_i$ instead of solving the above linear algebra problem, we define a function which gives a measure of the spread between the values $y_i$ (which represent hopefully the exact values) and the parameterized values $\\tilde{y}_i$, namely"
   ]
  },
  {
   "cell_type": "markdown",
   "id": "a5701a60",
   "metadata": {
    "editable": true
   },
   "source": [
    "$$\n",
    "C(\\boldsymbol{\\theta})=\\frac{1}{n}\\sum_{i=0}^{n-1}\\left(y_i-\\tilde{y}_i\\right)^2=\\frac{1}{n}\\left\\{\\left(\\boldsymbol{y}-\\boldsymbol{\\tilde{y}}\\right)^T\\left(\\boldsymbol{y}-\\boldsymbol{\\tilde{y}}\\right)\\right\\},\n",
    "$$"
   ]
  },
  {
   "cell_type": "markdown",
   "id": "7b04480d",
   "metadata": {
    "editable": true
   },
   "source": [
    "or using the matrix $\\boldsymbol{X}$ and in a more compact matrix-vector notation as"
   ]
  },
  {
   "cell_type": "markdown",
   "id": "13f43e44",
   "metadata": {
    "editable": true
   },
   "source": [
    "$$\n",
    "C(\\boldsymbol{\\theta})=\\frac{1}{n}\\left\\{\\left(\\boldsymbol{y}-\\boldsymbol{X}\\boldsymbol{\\theta}\\right)^T\\left(\\boldsymbol{y}-\\boldsymbol{X}\\boldsymbol{\\theta}\\right)\\right\\}.\n",
    "$$"
   ]
  },
  {
   "cell_type": "markdown",
   "id": "953031c1",
   "metadata": {
    "editable": true
   },
   "source": [
    "This function is one possible way to define the so-called cost function.\n",
    "\n",
    "It is also common to define\n",
    "the function $C$ as"
   ]
  },
  {
   "cell_type": "markdown",
   "id": "aafd8557",
   "metadata": {
    "editable": true
   },
   "source": [
    "$$\n",
    "C(\\boldsymbol{\\theta})=\\frac{1}{2n}\\sum_{i=0}^{n-1}\\left(y_i-\\tilde{y}_i\\right)^2,\n",
    "$$"
   ]
  },
  {
   "cell_type": "markdown",
   "id": "b45abbf0",
   "metadata": {
    "editable": true
   },
   "source": [
    "since when taking the first derivative with respect to the unknown parameters $\\theta$, the factor of $2$ cancels out. \n",
    "\n",
    "The function"
   ]
  },
  {
   "cell_type": "markdown",
   "id": "04332519",
   "metadata": {
    "editable": true
   },
   "source": [
    "$$\n",
    "C(\\boldsymbol{\\theta})=\\frac{1}{n}\\left\\{\\left(\\boldsymbol{y}-\\boldsymbol{X}\\boldsymbol{\\theta}\\right)^T\\left(\\boldsymbol{y}-\\boldsymbol{X}\\boldsymbol{\\theta}\\right)\\right\\},\n",
    "$$"
   ]
  },
  {
   "cell_type": "markdown",
   "id": "840e3282",
   "metadata": {
    "editable": true
   },
   "source": [
    "can be linked to the variance of the quantity $y_i$ if we interpret the latter as the mean value. \n",
    "When linking (see the discussion below) with the maximum likelihood approach below, we will indeed interpret $y_i$ as a mean value"
   ]
  },
  {
   "cell_type": "markdown",
   "id": "5081dc2f",
   "metadata": {
    "editable": true
   },
   "source": [
    "$$\n",
    "y_{i}=\\langle y_i \\rangle = \\theta_0x_{i,0}+\\theta_1x_{i,1}+\\theta_2x_{i,2}+\\dots+\\theta_{n-1}x_{i,n-1}+\\epsilon_i,\n",
    "$$"
   ]
  },
  {
   "cell_type": "markdown",
   "id": "7634b285",
   "metadata": {
    "editable": true
   },
   "source": [
    "where $\\langle y_i \\rangle$ is the mean value. Keep in mind also that\n",
    "till now we have treated $y_i$ as the exact value. Normally, the\n",
    "response (dependent or outcome) variable $y_i$ the outcome of a\n",
    "numerical experiment or another type of experiment and is thus only an\n",
    "approximation to the true value. It is then always accompanied by an\n",
    "error estimate, often limited to a statistical error estimate given by\n",
    "the standard deviation discussed earlier. In the discussion here we\n",
    "will treat $y_i$ as our exact value for the response variable.\n",
    "\n",
    "In order to find the parameters $\\theta_i$ we will then minimize the spread of $C(\\boldsymbol{\\theta})$, that is we are going to solve the problem"
   ]
  },
  {
   "cell_type": "markdown",
   "id": "4136f87c",
   "metadata": {
    "editable": true
   },
   "source": [
    "$$\n",
    "{\\displaystyle \\min_{\\boldsymbol{\\theta}\\in\n",
    "{\\mathbb{R}}^{p}}}\\frac{1}{n}\\left\\{\\left(\\boldsymbol{y}-\\boldsymbol{X}\\boldsymbol{\\theta}\\right)^T\\left(\\boldsymbol{y}-\\boldsymbol{X}\\boldsymbol{\\theta}\\right)\\right\\}.\n",
    "$$"
   ]
  },
  {
   "cell_type": "markdown",
   "id": "c818037d",
   "metadata": {
    "editable": true
   },
   "source": [
    "In practical terms it means we will require"
   ]
  },
  {
   "cell_type": "markdown",
   "id": "778d020d",
   "metadata": {
    "editable": true
   },
   "source": [
    "$$\n",
    "\\frac{\\partial C(\\boldsymbol{\\theta})}{\\partial \\theta_j} = \\frac{\\partial }{\\partial \\theta_j}\\left[ \\frac{1}{n}\\sum_{i=0}^{n-1}\\left(y_i-\\theta_0x_{i,0}-\\theta_1x_{i,1}-\\theta_2x_{i,2}-\\dots-\\theta_{n-1}x_{i,n-1}\\right)^2\\right]=0,\n",
    "$$"
   ]
  },
  {
   "cell_type": "markdown",
   "id": "268b9c69",
   "metadata": {
    "editable": true
   },
   "source": [
    "which results in"
   ]
  },
  {
   "cell_type": "markdown",
   "id": "fe5b5a7c",
   "metadata": {
    "editable": true
   },
   "source": [
    "$$\n",
    "\\frac{\\partial C(\\boldsymbol{\\theta})}{\\partial \\theta_j} = -\\frac{2}{n}\\left[ \\sum_{i=0}^{n-1}x_{ij}\\left(y_i-\\theta_0x_{i,0}-\\theta_1x_{i,1}-\\theta_2x_{i,2}-\\dots-\\theta_{n-1}x_{i,n-1}\\right)\\right]=0,\n",
    "$$"
   ]
  },
  {
   "cell_type": "markdown",
   "id": "101661bc",
   "metadata": {
    "editable": true
   },
   "source": [
    "or in a matrix-vector form as"
   ]
  },
  {
   "cell_type": "markdown",
   "id": "e48e24e7",
   "metadata": {
    "editable": true
   },
   "source": [
    "$$\n",
    "\\frac{\\partial C(\\boldsymbol{\\theta})}{\\partial \\boldsymbol{\\theta}} = 0 = \\boldsymbol{X}^T\\left( \\boldsymbol{y}-\\boldsymbol{X}\\boldsymbol{\\theta}\\right).\n",
    "$$"
   ]
  },
  {
   "cell_type": "markdown",
   "id": "dddb4f30",
   "metadata": {
    "editable": true
   },
   "source": [
    "We can rewrite"
   ]
  },
  {
   "cell_type": "markdown",
   "id": "0f07c545",
   "metadata": {
    "editable": true
   },
   "source": [
    "$$\n",
    "\\frac{\\partial C(\\boldsymbol{\\theta})}{\\partial \\boldsymbol{\\theta}} = 0 = \\boldsymbol{X}^T\\left( \\boldsymbol{y}-\\boldsymbol{X}\\boldsymbol{\\theta}\\right),\n",
    "$$"
   ]
  },
  {
   "cell_type": "markdown",
   "id": "574921d9",
   "metadata": {
    "editable": true
   },
   "source": [
    "as"
   ]
  },
  {
   "cell_type": "markdown",
   "id": "46c7c084",
   "metadata": {
    "editable": true
   },
   "source": [
    "$$\n",
    "\\boldsymbol{X}^T\\boldsymbol{y} = \\boldsymbol{X}^T\\boldsymbol{X}\\boldsymbol{\\theta},\n",
    "$$"
   ]
  },
  {
   "cell_type": "markdown",
   "id": "c168307a",
   "metadata": {
    "editable": true
   },
   "source": [
    "and if the matrix $\\boldsymbol{X}^T\\boldsymbol{X}$ is invertible we have the solution"
   ]
  },
  {
   "cell_type": "markdown",
   "id": "cdc6706a",
   "metadata": {
    "editable": true
   },
   "source": [
    "$$\n",
    "\\boldsymbol{\\theta} =\\left(\\boldsymbol{X}^T\\boldsymbol{X}\\right)^{-1}\\boldsymbol{X}^T\\boldsymbol{y}.\n",
    "$$"
   ]
  },
  {
   "cell_type": "markdown",
   "id": "c366d742",
   "metadata": {
    "editable": true
   },
   "source": [
    "We note also that since our design matrix is defined as $\\boldsymbol{X}\\in\n",
    "{\\mathbb{R}}^{n\\times p}$, the product $\\boldsymbol{X}^T\\boldsymbol{X} \\in\n",
    "{\\mathbb{R}}^{p\\times p}$.  In the above case we have that $p \\ll n$,\n",
    "in our case $p=5$ meaning that we end up with inverting a small\n",
    "$5\\times 5$ matrix. This is a rather common situation, in many cases we end up with low-dimensional\n",
    "matrices to invert. The methods discussed here and for many other\n",
    "supervised learning algorithms like classification with logistic\n",
    "regression or support vector machines, exhibit dimensionalities which\n",
    "allow for the usage of direct linear algebra methods such as **LU** decomposition or **Singular Value Decomposition** (SVD) for finding the inverse of the matrix\n",
    "$\\boldsymbol{X}^T\\boldsymbol{X}$. \n",
    "\n",
    "**Small question**: Do you think the example we have at hand here (the nuclear binding energies) can lead to problems in inverting the matrix  $\\boldsymbol{X}^T\\boldsymbol{X}$? What kind of problems can we expect? \n",
    "\n",
    "The following matrix and vector relation will be useful here and for the rest of the course. Vectors are always written as boldfaced lower case letters and \n",
    "matrices as upper case boldfaced letters."
   ]
  },
  {
   "cell_type": "markdown",
   "id": "e288affd",
   "metadata": {
    "editable": true
   },
   "source": [
    "$$\n",
    "\\frac{\\partial (\\boldsymbol{b}^T\\boldsymbol{a})}{\\partial \\boldsymbol{a}} = \\boldsymbol{b},\n",
    "$$"
   ]
  },
  {
   "cell_type": "markdown",
   "id": "472f4343",
   "metadata": {
    "editable": true
   },
   "source": [
    "and"
   ]
  },
  {
   "cell_type": "markdown",
   "id": "f1e0ea2b",
   "metadata": {
    "editable": true
   },
   "source": [
    "$$\n",
    "\\frac{\\partial (\\boldsymbol{a}^T\\boldsymbol{A}\\boldsymbol{a})}{\\partial \\boldsymbol{a}} = \\boldsymbol{a}^T(\\boldsymbol{A}+\\boldsymbol{A}^T),\n",
    "$$"
   ]
  },
  {
   "cell_type": "markdown",
   "id": "b0654fe2",
   "metadata": {
    "editable": true
   },
   "source": [
    "and"
   ]
  },
  {
   "cell_type": "markdown",
   "id": "10f4d1b3",
   "metadata": {
    "editable": true
   },
   "source": [
    "$$\n",
    "\\frac{\\partial \\left(\\boldsymbol{x}-\\boldsymbol{A}\\boldsymbol{s}\\right)^T\\left(\\boldsymbol{x}-\\boldsymbol{A}\\boldsymbol{s}\\right)}{\\partial \\boldsymbol{s}} = -2\\left(\\boldsymbol{x}-\\boldsymbol{A}\\boldsymbol{s}\\right)^T\\boldsymbol{A},\n",
    "$$"
   ]
  },
  {
   "cell_type": "markdown",
   "id": "6c9af0d6",
   "metadata": {
    "editable": true
   },
   "source": [
    "These and other relations are discussed in the exercises following this chapter (see the end of the chapter).\n",
    "The latter equation is similar to the equation for the mean-squared error function we have been discussing. \n",
    "We can then compute the second derivative of the cost function, which in our case is the second derivative\n",
    "of the means squared error. This leads to"
   ]
  },
  {
   "cell_type": "markdown",
   "id": "f22e8050",
   "metadata": {
    "editable": true
   },
   "source": [
    "$$\n",
    "\\frac{\\partial^2 C(\\boldsymbol{\\theta})}{\\partial \\boldsymbol{\\theta}^T\\partial \\boldsymbol{\\theta}} =\\frac{2}{n}\\boldsymbol{X}^T\\boldsymbol{X}.\n",
    "$$"
   ]
  },
  {
   "cell_type": "markdown",
   "id": "64620bac",
   "metadata": {
    "editable": true
   },
   "source": [
    "This quantity defines the so- called the Hessian matrix.\n",
    "\n",
    "The Hessian matrix plays an important role and is defined for the mean squared error  as"
   ]
  },
  {
   "cell_type": "markdown",
   "id": "7144c979",
   "metadata": {
    "editable": true
   },
   "source": [
    "$$\n",
    "\\boldsymbol{H}=\\boldsymbol{X}^T\\boldsymbol{X}.\n",
    "$$"
   ]
  },
  {
   "cell_type": "markdown",
   "id": "855c5dbf",
   "metadata": {
    "editable": true
   },
   "source": [
    "The Hessian matrix for ordinary least squares is also proportional to\n",
    "the covariance matrix. As we will see in the chapter on Ridge and Lasso regression, This means that we can use the Singular Value Decomposition of a matrix  to find\n",
    "the eigenvalues of the covariance matrix and the Hessian matrix in\n",
    "terms of the singular values.\n",
    "\n",
    "The residuals $\\boldsymbol{\\epsilon}$ are in turn given by"
   ]
  },
  {
   "cell_type": "markdown",
   "id": "da0d0c86",
   "metadata": {
    "editable": true
   },
   "source": [
    "$$\n",
    "\\boldsymbol{\\epsilon} = \\boldsymbol{y}-\\boldsymbol{\\tilde{y}} = \\boldsymbol{y}-\\boldsymbol{X}\\boldsymbol{\\theta},\n",
    "$$"
   ]
  },
  {
   "cell_type": "markdown",
   "id": "b10ab8c3",
   "metadata": {
    "editable": true
   },
   "source": [
    "and with"
   ]
  },
  {
   "cell_type": "markdown",
   "id": "8da59999",
   "metadata": {
    "editable": true
   },
   "source": [
    "$$\n",
    "\\boldsymbol{X}^T\\left( \\boldsymbol{y}-\\boldsymbol{X}\\boldsymbol{\\theta}\\right)= 0,\n",
    "$$"
   ]
  },
  {
   "cell_type": "markdown",
   "id": "e2e96a1f",
   "metadata": {
    "editable": true
   },
   "source": [
    "we have"
   ]
  },
  {
   "cell_type": "markdown",
   "id": "749dd48d",
   "metadata": {
    "editable": true
   },
   "source": [
    "$$\n",
    "\\boldsymbol{X}^T\\boldsymbol{\\epsilon}=\\boldsymbol{X}^T\\left( \\boldsymbol{y}-\\boldsymbol{X}\\boldsymbol{\\theta}\\right)= 0,\n",
    "$$"
   ]
  },
  {
   "cell_type": "markdown",
   "id": "33b27771",
   "metadata": {
    "editable": true
   },
   "source": [
    "meaning that the solution for $\\boldsymbol{\\theta}$ is the one which minimizes the residuals.  Later we will link this with the maximum likelihood approach.\n",
    "\n",
    "Let us now return to our nuclear binding energies and simply code the above equations. \n",
    "\n",
    "It is rather straightforward to implement the matrix inversion and obtain the parameters $\\boldsymbol{\\theta}$. After having defined the matrix $\\boldsymbol{X}$ we simply need to \n",
    "write"
   ]
  },
  {
   "cell_type": "code",
   "execution_count": 15,
   "id": "6f92f8a1",
   "metadata": {
    "collapsed": false,
    "editable": true
   },
   "outputs": [],
   "source": [
    "# matrix inversion to find theta\n",
    "theta = np.linalg.inv(X.T.dot(X)).dot(X.T).dot(Energies)\n",
    "# and then make the prediction\n",
    "ytilde = X @ theta"
   ]
  },
  {
   "cell_type": "markdown",
   "id": "5af74c42",
   "metadata": {
    "editable": true
   },
   "source": [
    "Alternatively, you can use the least squares functionality in **Numpy** as"
   ]
  },
  {
   "cell_type": "code",
   "execution_count": 16,
   "id": "9b2b2bca",
   "metadata": {
    "collapsed": false,
    "editable": true
   },
   "outputs": [],
   "source": [
    "fit = np.linalg.lstsq(X, Energies, rcond =None)[0]\n",
    "ytildenp = np.dot(fit,X.T)"
   ]
  },
  {
   "cell_type": "markdown",
   "id": "5a0ec6c1",
   "metadata": {
    "editable": true
   },
   "source": [
    "And finally we plot our fit with and compare with data"
   ]
  },
  {
   "cell_type": "code",
   "execution_count": 17,
   "id": "8288d475",
   "metadata": {
    "collapsed": false,
    "editable": true
   },
   "outputs": [],
   "source": [
    "Masses['Eapprox']  = ytilde\n",
    "# Generate a plot comparing the experimental with the fitted values values.\n",
    "fig, ax = plt.subplots()\n",
    "ax.set_xlabel(r'$A = N + Z$')\n",
    "ax.set_ylabel(r'$E_\\mathrm{bind}\\,/\\mathrm{MeV}$')\n",
    "ax.plot(Masses['A'], Masses['Ebinding'], alpha=0.7, lw=2,\n",
    "            label='Ame2016')\n",
    "ax.plot(Masses['A'], Masses['Eapprox'], alpha=0.7, lw=2, c='m',\n",
    "            label='Fit')\n",
    "ax.legend()\n",
    "save_fig(\"Masses2016OLS\")\n",
    "plt.show()"
   ]
  },
  {
   "cell_type": "markdown",
   "id": "fc0df152",
   "metadata": {
    "editable": true
   },
   "source": [
    "We can easily test our fit by computing the $R2$ score that we discussed in connection with the functionality of **Scikit-Learn** in the introductory slides.\n",
    "Since we are not using **Scikit-Learn** here we can define our own $R2$ function as"
   ]
  },
  {
   "cell_type": "code",
   "execution_count": 18,
   "id": "3fd4cdd4",
   "metadata": {
    "collapsed": false,
    "editable": true
   },
   "outputs": [],
   "source": [
    "def R2(y_data, y_model):\n",
    "    return 1 - np.sum((y_data - y_model) ** 2) / np.sum((y_data - np.mean(y_data)) ** 2)"
   ]
  },
  {
   "cell_type": "markdown",
   "id": "57ea9c93",
   "metadata": {
    "editable": true
   },
   "source": [
    "and we would be using it as"
   ]
  },
  {
   "cell_type": "code",
   "execution_count": 19,
   "id": "72be02b5",
   "metadata": {
    "collapsed": false,
    "editable": true
   },
   "outputs": [],
   "source": [
    "print(R2(Energies,ytilde))"
   ]
  },
  {
   "cell_type": "markdown",
   "id": "8fd19867",
   "metadata": {
    "editable": true
   },
   "source": [
    "We can easily add our **MSE** score as"
   ]
  },
  {
   "cell_type": "code",
   "execution_count": 20,
   "id": "0b515b39",
   "metadata": {
    "collapsed": false,
    "editable": true
   },
   "outputs": [],
   "source": [
    "def MSE(y_data,y_model):\n",
    "    n = np.size(y_model)\n",
    "    return np.sum((y_data-y_model)**2)/n\n",
    "\n",
    "print(MSE(Energies,ytilde))"
   ]
  },
  {
   "cell_type": "markdown",
   "id": "ea761466",
   "metadata": {
    "editable": true
   },
   "source": [
    "and finally the relative error as"
   ]
  },
  {
   "cell_type": "code",
   "execution_count": 21,
   "id": "e9878aab",
   "metadata": {
    "collapsed": false,
    "editable": true
   },
   "outputs": [],
   "source": [
    "def RelativeError(y_data,y_model):\n",
    "    return abs((y_data-y_model)/y_data)\n",
    "print(RelativeError(Energies, ytilde))"
   ]
  },
  {
   "cell_type": "markdown",
   "id": "322cd21b",
   "metadata": {
    "editable": true
   },
   "source": [
    "### The $\\chi^2$ function\n",
    "\n",
    "Normally, the response (dependent or outcome) variable $y_i$ is the\n",
    "outcome of a numerical experiment or another type of experiment and is\n",
    "thus only an approximation to the true value. It is then always\n",
    "accompanied by an error estimate, often limited to a statistical error\n",
    "estimate given by the standard deviation discussed earlier. In the\n",
    "discussion here we will treat $y_i$ as our exact value for the\n",
    "response variable.\n",
    "\n",
    "Introducing the standard deviation $\\sigma_i$ for each measurement\n",
    "$y_i$, we define now the $\\chi^2$ function (omitting the $1/n$ term)\n",
    "as"
   ]
  },
  {
   "cell_type": "markdown",
   "id": "393b58d0",
   "metadata": {
    "editable": true
   },
   "source": [
    "$$\n",
    "\\chi^2(\\boldsymbol{\\theta})=\\frac{1}{n}\\sum_{i=0}^{n-1}\\frac{\\left(y_i-\\tilde{y}_i\\right)^2}{\\sigma_i^2}=\\frac{1}{n}\\left\\{\\left(\\boldsymbol{y}-\\boldsymbol{\\tilde{y}}\\right)^T\\frac{1}{\\boldsymbol{\\Sigma^2}}\\left(\\boldsymbol{y}-\\boldsymbol{\\tilde{y}}\\right)\\right\\},\n",
    "$$"
   ]
  },
  {
   "cell_type": "markdown",
   "id": "1a06c6fc",
   "metadata": {
    "editable": true
   },
   "source": [
    "where the matrix $\\boldsymbol{\\Sigma}$ is a diagonal matrix with $\\sigma_i$ as matrix elements. \n",
    "\n",
    "In order to find the parameters $\\theta_i$ we will then minimize the spread of $\\chi^2(\\boldsymbol{\\theta})$ by requiring"
   ]
  },
  {
   "cell_type": "markdown",
   "id": "11d4dee7",
   "metadata": {
    "editable": true
   },
   "source": [
    "$$\n",
    "\\frac{\\partial \\chi^2(\\boldsymbol{\\theta})}{\\partial \\theta_j} = \\frac{\\partial }{\\partial \\theta_j}\\left[ \\frac{1}{n}\\sum_{i=0}^{n-1}\\left(\\frac{y_i-\\theta_0x_{i,0}-\\theta_1x_{i,1}-\\theta_2x_{i,2}-\\dots-\\theta_{n-1}x_{i,n-1}}{\\sigma_i}\\right)^2\\right]=0,\n",
    "$$"
   ]
  },
  {
   "cell_type": "markdown",
   "id": "368f7b21",
   "metadata": {
    "editable": true
   },
   "source": [
    "which results in"
   ]
  },
  {
   "cell_type": "markdown",
   "id": "93044d6e",
   "metadata": {
    "editable": true
   },
   "source": [
    "$$\n",
    "\\frac{\\partial \\chi^2(\\boldsymbol{\\theta})}{\\partial \\theta_j} = -\\frac{2}{n}\\left[ \\sum_{i=0}^{n-1}\\frac{x_{ij}}{\\sigma_i}\\left(\\frac{y_i-\\theta_0x_{i,0}-\\theta_1x_{i,1}-\\theta_2x_{i,2}-\\dots-\\theta_{n-1}x_{i,n-1}}{\\sigma_i}\\right)\\right]=0,\n",
    "$$"
   ]
  },
  {
   "cell_type": "markdown",
   "id": "131bfad3",
   "metadata": {
    "editable": true
   },
   "source": [
    "or in a matrix-vector form as"
   ]
  },
  {
   "cell_type": "markdown",
   "id": "beebd2ed",
   "metadata": {
    "editable": true
   },
   "source": [
    "$$\n",
    "\\frac{\\partial \\chi^2(\\boldsymbol{\\theta})}{\\partial \\boldsymbol{\\theta}} = 0 = \\boldsymbol{A}^T\\left( \\boldsymbol{b}-\\boldsymbol{A}\\boldsymbol{\\theta}\\right).\n",
    "$$"
   ]
  },
  {
   "cell_type": "markdown",
   "id": "6a999cb9",
   "metadata": {
    "editable": true
   },
   "source": [
    "where we have defined the matrix $\\boldsymbol{A} =\\boldsymbol{X}/\\boldsymbol{\\Sigma}$ with matrix elements $a_{ij} = x_{ij}/\\sigma_i$ and the vector $\\boldsymbol{b}$ with elements $b_i = y_i/\\sigma_i$.   \n",
    "\n",
    "We can rewrite"
   ]
  },
  {
   "cell_type": "markdown",
   "id": "2ddcdfba",
   "metadata": {
    "editable": true
   },
   "source": [
    "$$\n",
    "\\frac{\\partial \\chi^2(\\boldsymbol{\\theta})}{\\partial \\boldsymbol{\\theta}} = 0 = \\boldsymbol{A}^T\\left( \\boldsymbol{b}-\\boldsymbol{A}\\boldsymbol{\\theta}\\right),\n",
    "$$"
   ]
  },
  {
   "cell_type": "markdown",
   "id": "90577165",
   "metadata": {
    "editable": true
   },
   "source": [
    "as"
   ]
  },
  {
   "cell_type": "markdown",
   "id": "63d40588",
   "metadata": {
    "editable": true
   },
   "source": [
    "$$\n",
    "\\boldsymbol{A}^T\\boldsymbol{b} = \\boldsymbol{A}^T\\boldsymbol{A}\\boldsymbol{\\theta},\n",
    "$$"
   ]
  },
  {
   "cell_type": "markdown",
   "id": "8ac3d80a",
   "metadata": {
    "editable": true
   },
   "source": [
    "and if the matrix $\\boldsymbol{A}^T\\boldsymbol{A}$ is invertible we have the solution"
   ]
  },
  {
   "cell_type": "markdown",
   "id": "1f0efa4f",
   "metadata": {
    "editable": true
   },
   "source": [
    "$$\n",
    "\\boldsymbol{\\theta} =\\left(\\boldsymbol{A}^T\\boldsymbol{A}\\right)^{-1}\\boldsymbol{A}^T\\boldsymbol{b}.\n",
    "$$"
   ]
  },
  {
   "cell_type": "markdown",
   "id": "37a13bcf",
   "metadata": {
    "editable": true
   },
   "source": [
    "If we then introduce the matrix"
   ]
  },
  {
   "cell_type": "markdown",
   "id": "c2c1621c",
   "metadata": {
    "editable": true
   },
   "source": [
    "$$\n",
    "\\boldsymbol{H} =  \\left(\\boldsymbol{A}^T\\boldsymbol{A}\\right)^{-1},\n",
    "$$"
   ]
  },
  {
   "cell_type": "markdown",
   "id": "0c4b3684",
   "metadata": {
    "editable": true
   },
   "source": [
    "we have then the following expression for the parameters $\\theta_j$ (the matrix elements of $\\boldsymbol{H}$ are $h_{ij}$)"
   ]
  },
  {
   "cell_type": "markdown",
   "id": "91e11f8d",
   "metadata": {
    "editable": true
   },
   "source": [
    "$$\n",
    "\\theta_j = \\sum_{k=0}^{p-1}h_{jk}\\sum_{i=0}^{n-1}\\frac{y_i}{\\sigma_i}\\frac{x_{ik}}{\\sigma_i} = \\sum_{k=0}^{p-1}h_{jk}\\sum_{i=0}^{n-1}b_ia_{ik}\n",
    "$$"
   ]
  },
  {
   "cell_type": "markdown",
   "id": "3d1bf994",
   "metadata": {
    "editable": true
   },
   "source": [
    "We state without proof the expression for the uncertainty  in the parameters $\\theta_j$ as (we leave this as an exercise)"
   ]
  },
  {
   "cell_type": "markdown",
   "id": "f98818a7",
   "metadata": {
    "editable": true
   },
   "source": [
    "$$\n",
    "\\sigma^2(\\theta_j) = \\sum_{i=0}^{n-1}\\sigma_i^2\\left( \\frac{\\partial \\theta_j}{\\partial y_i}\\right)^2,\n",
    "$$"
   ]
  },
  {
   "cell_type": "markdown",
   "id": "2d2b2f06",
   "metadata": {
    "editable": true
   },
   "source": [
    "resulting in"
   ]
  },
  {
   "cell_type": "markdown",
   "id": "f452db13",
   "metadata": {
    "editable": true
   },
   "source": [
    "$$\n",
    "\\sigma^2(\\theta_j) = \\left(\\sum_{k=0}^{p-1}h_{jk}\\sum_{i=0}^{n-1}a_{ik}\\right)\\left(\\sum_{l=0}^{p-1}h_{jl}\\sum_{m=0}^{n-1}a_{ml}\\right) = h_{jj}!\n",
    "$$"
   ]
  },
  {
   "cell_type": "markdown",
   "id": "10f930c3",
   "metadata": {
    "editable": true
   },
   "source": [
    "The first step here is to approximate the function $y$ with a first-order polynomial, that is we write"
   ]
  },
  {
   "cell_type": "markdown",
   "id": "9e5bd8a6",
   "metadata": {
    "editable": true
   },
   "source": [
    "$$\n",
    "y=y(x) \\rightarrow y(x_i) \\approx \\theta_0+\\theta_1 x_i.\n",
    "$$"
   ]
  },
  {
   "cell_type": "markdown",
   "id": "fe7f99e3",
   "metadata": {
    "editable": true
   },
   "source": [
    "By computing the derivatives of $\\chi^2$ with respect to $\\theta_0$ and $\\theta_1$ show that these are given by"
   ]
  },
  {
   "cell_type": "markdown",
   "id": "9cb21aae",
   "metadata": {
    "editable": true
   },
   "source": [
    "$$\n",
    "\\frac{\\partial \\chi^2(\\boldsymbol{\\theta})}{\\partial \\theta_0} = -2\\left[ \\frac{1}{n}\\sum_{i=0}^{n-1}\\left(\\frac{y_i-\\theta_0-\\theta_1x_{i}}{\\sigma_i^2}\\right)\\right]=0,\n",
    "$$"
   ]
  },
  {
   "cell_type": "markdown",
   "id": "e4953c1b",
   "metadata": {
    "editable": true
   },
   "source": [
    "and"
   ]
  },
  {
   "cell_type": "markdown",
   "id": "d3f4ca47",
   "metadata": {
    "editable": true
   },
   "source": [
    "$$\n",
    "\\frac{\\partial \\chi^2(\\boldsymbol{\\theta})}{\\partial \\theta_1} = -\\frac{2}{n}\\left[ \\sum_{i=0}^{n-1}x_i\\left(\\frac{y_i-\\theta_0-\\theta_1x_{i}}{\\sigma_i^2}\\right)\\right]=0.\n",
    "$$"
   ]
  },
  {
   "cell_type": "markdown",
   "id": "2e91b201",
   "metadata": {
    "editable": true
   },
   "source": [
    "For a linear fit (a first-order polynomial) we don't need to invert a matrix!!  \n",
    "Defining"
   ]
  },
  {
   "cell_type": "markdown",
   "id": "17412942",
   "metadata": {
    "editable": true
   },
   "source": [
    "$$\n",
    "\\gamma =  \\sum_{i=0}^{n-1}\\frac{1}{\\sigma_i^2},\n",
    "$$"
   ]
  },
  {
   "cell_type": "markdown",
   "id": "cbdf2f6f",
   "metadata": {
    "editable": true
   },
   "source": [
    "$$\n",
    "\\gamma_x =  \\sum_{i=0}^{n-1}\\frac{x_{i}}{\\sigma_i^2},\n",
    "$$"
   ]
  },
  {
   "cell_type": "markdown",
   "id": "89e592b9",
   "metadata": {
    "editable": true
   },
   "source": [
    "$$\n",
    "\\gamma_y = \\sum_{i=0}^{n-1}\\left(\\frac{y_i}{\\sigma_i^2}\\right),\n",
    "$$"
   ]
  },
  {
   "cell_type": "markdown",
   "id": "0cd113ed",
   "metadata": {
    "editable": true
   },
   "source": [
    "$$\n",
    "\\gamma_{xx} =  \\sum_{i=0}^{n-1}\\frac{x_ix_{i}}{\\sigma_i^2},\n",
    "$$"
   ]
  },
  {
   "cell_type": "markdown",
   "id": "8767c120",
   "metadata": {
    "editable": true
   },
   "source": [
    "$$\n",
    "\\gamma_{xy} = \\sum_{i=0}^{n-1}\\frac{y_ix_{i}}{\\sigma_i^2},\n",
    "$$"
   ]
  },
  {
   "cell_type": "markdown",
   "id": "489b6e55",
   "metadata": {
    "editable": true
   },
   "source": [
    "we obtain"
   ]
  },
  {
   "cell_type": "markdown",
   "id": "2d983c3c",
   "metadata": {
    "editable": true
   },
   "source": [
    "$$\n",
    "\\theta_0 = \\frac{\\gamma_{xx}\\gamma_y-\\gamma_x\\gamma_y}{\\gamma\\gamma_{xx}-\\gamma_x^2},\n",
    "$$"
   ]
  },
  {
   "cell_type": "markdown",
   "id": "bea2c0ec",
   "metadata": {
    "editable": true
   },
   "source": [
    "$$\n",
    "\\theta_1 = \\frac{\\gamma_{xy}\\gamma-\\gamma_x\\gamma_y}{\\gamma\\gamma_{xx}-\\gamma_x^2}.\n",
    "$$"
   ]
  },
  {
   "cell_type": "markdown",
   "id": "db78d47f",
   "metadata": {
    "editable": true
   },
   "source": [
    "This approach (different linear and non-linear regression) suffers\n",
    "often from both being underdetermined and overdetermined in the\n",
    "unknown coefficients $\\theta_i$.  A better approach is to use the\n",
    "Singular Value Decomposition (SVD) method discussed below. Or using\n",
    "Lasso and Ridge regression. See below."
   ]
  },
  {
   "cell_type": "markdown",
   "id": "c75b9d59",
   "metadata": {
    "editable": true
   },
   "source": [
    "### Fitting an Equation of State for Dense Nuclear Matter\n",
    "\n",
    "Before we continue, let us introduce yet another example. We are going to fit the\n",
    "nuclear equation of state using results from many-body calculations.\n",
    "The equation of state we have made available here, as function of\n",
    "density, has been derived using modern nucleon-nucleon potentials with\n",
    "[the addition of three-body\n",
    "forces](https://www.sciencedirect.com/science/article/pii/S0370157399001106). This\n",
    "time the file is presented as a standard **csv** file.\n",
    "\n",
    "The beginning of the Python code here is similar to what you have seen\n",
    "before, with the same initializations and declarations. We use also\n",
    "**pandas** again, rather extensively in order to organize our data.\n",
    "\n",
    "The difference now is that we use **Scikit-Learn's** regression tools\n",
    "instead of our own matrix inversion implementation."
   ]
  },
  {
   "cell_type": "code",
   "execution_count": 22,
   "id": "d06bf2cc",
   "metadata": {
    "collapsed": false,
    "editable": true
   },
   "outputs": [],
   "source": [
    "# Common imports\n",
    "import os\n",
    "import numpy as np\n",
    "import pandas as pd\n",
    "import matplotlib.pyplot as plt\n",
    "import matplotlib.pyplot as plt\n",
    "import sklearn.linear_model as skl\n",
    "from sklearn.metrics import mean_squared_error, r2_score, mean_absolute_error\n",
    "\n",
    "# Where to save the figures and data files\n",
    "PROJECT_ROOT_DIR = \"Results\"\n",
    "FIGURE_ID = \"Results/FigureFiles\"\n",
    "DATA_ID = \"DataFiles/\"\n",
    "\n",
    "if not os.path.exists(PROJECT_ROOT_DIR):\n",
    "    os.mkdir(PROJECT_ROOT_DIR)\n",
    "\n",
    "if not os.path.exists(FIGURE_ID):\n",
    "    os.makedirs(FIGURE_ID)\n",
    "\n",
    "if not os.path.exists(DATA_ID):\n",
    "    os.makedirs(DATA_ID)\n",
    "\n",
    "def image_path(fig_id):\n",
    "    return os.path.join(FIGURE_ID, fig_id)\n",
    "\n",
    "def data_path(dat_id):\n",
    "    return os.path.join(DATA_ID, dat_id)\n",
    "\n",
    "def save_fig(fig_id):\n",
    "    plt.savefig(image_path(fig_id) + \".png\", format='png')\n",
    "\n",
    "infile = open(data_path(\"EoS.csv\"),'r')\n",
    "\n",
    "# Read the EoS data as  csv file and organize the data into two arrays with density and energies\n",
    "EoS = pd.read_csv(infile, names=('Density', 'Energy'))\n",
    "EoS['Energy'] = pd.to_numeric(EoS['Energy'], errors='coerce')\n",
    "EoS = EoS.dropna()\n",
    "Energies = EoS['Energy']\n",
    "Density = EoS['Density']\n",
    "#  The design matrix now as function of various polytrops\n",
    "X = np.zeros((len(Density),4))\n",
    "X[:,3] = Density**(4.0/3.0)\n",
    "X[:,2] = Density\n",
    "X[:,1] = Density**(2.0/3.0)\n",
    "X[:,0] = 1\n",
    "\n",
    "# We use now Scikit-Learn's linear regressor and ridge regressor\n",
    "# OLS part\n",
    "clf = skl.LinearRegression().fit(X, Energies)\n",
    "ytilde = clf.predict(X)\n",
    "EoS['Eols']  = ytilde\n",
    "# The mean squared error                               \n",
    "print(\"Mean squared error: %.2f\" % mean_squared_error(Energies, ytilde))\n",
    "# Explained variance score: 1 is perfect prediction                                 \n",
    "print('Variance score: %.2f' % r2_score(Energies, ytilde))\n",
    "# Mean absolute error                                                           \n",
    "print('Mean absolute error: %.2f' % mean_absolute_error(Energies, ytilde))\n",
    "print(clf.coef_, clf.intercept_)\n",
    "\n",
    "\n",
    "fig, ax = plt.subplots()\n",
    "ax.set_xlabel(r'$\\rho[\\mathrm{fm}^{-3}]$')\n",
    "ax.set_ylabel(r'Energy per particle')\n",
    "ax.plot(EoS['Density'], EoS['Energy'], alpha=0.7, lw=2,\n",
    "            label='Theoretical data')\n",
    "ax.plot(EoS['Density'], EoS['Eols'], alpha=0.7, lw=2, c='m',\n",
    "            label='OLS')\n",
    "ax.legend()\n",
    "save_fig(\"EoSfitting\")\n",
    "plt.show()"
   ]
  },
  {
   "cell_type": "markdown",
   "id": "5de4c8d1",
   "metadata": {
    "editable": true
   },
   "source": [
    "The above simple polynomial in density $\\rho$ gives an excellent fit\n",
    "to the data."
   ]
  },
  {
   "cell_type": "markdown",
   "id": "6e491525",
   "metadata": {
    "editable": true
   },
   "source": [
    "## Splitting our Data in Training and Test data\n",
    "\n",
    "It is normal in essentially all Machine Learning studies to split the\n",
    "data in a training set and a test set (sometimes also an additional\n",
    "validation set).  **Scikit-Learn** has an own function for this. There\n",
    "is no explicit recipe for how much data should be included as training\n",
    "data and say test data.  An accepted rule of thumb is to use\n",
    "approximately $2/3$ to $4/5$ of the data as training data. We will\n",
    "postpone a discussion of this splitting to the end of these notes and\n",
    "our discussion of the so-called **bias-variance** tradeoff. Here we\n",
    "limit ourselves to repeat the above equation of state fitting example\n",
    "but now splitting the data into a training set and a test set.\n",
    "\n",
    "Let us study some examples. The first code here takes a simple\n",
    "one-dimensional second-order polynomial and we fit it to a\n",
    "second-order polynomial. Depending on the strength of the added noise,\n",
    "the various measures like the $R2$ score or the mean-squared error,\n",
    "the fit becomes better or worse."
   ]
  },
  {
   "cell_type": "code",
   "execution_count": 23,
   "id": "ff20a1d4",
   "metadata": {
    "collapsed": false,
    "editable": true
   },
   "outputs": [],
   "source": [
    "import os\n",
    "import numpy as np\n",
    "import pandas as pd\n",
    "import matplotlib.pyplot as plt\n",
    "from sklearn.model_selection import train_test_split\n",
    "\n",
    "\n",
    "def R2(y_data, y_model):\n",
    "    return 1 - np.sum((y_data - y_model) ** 2) / np.sum((y_data - np.mean(y_data)) ** 2)\n",
    "def MSE(y_data,y_model):\n",
    "    n = np.size(y_model)\n",
    "    return np.sum((y_data-y_model)**2)/n\n",
    "\n",
    "x = np.random.rand(100)\n",
    "y = 2.0+5*x*x+0.1*np.random.randn(100)\n",
    "\n",
    "\n",
    "#  The design matrix now as function of a given polynomial\n",
    "X = np.zeros((len(x),3))\n",
    "X[:,0] = 1.0\n",
    "X[:,1] = x\n",
    "X[:,2] = x**2\n",
    "# We split the data in test and training data\n",
    "X_train, X_test, y_train, y_test = train_test_split(X, y, test_size=0.2)\n",
    "# matrix inversion to find theta\n",
    "theta = np.linalg.inv(X_train.T @ X_train) @ X_train.T @ y_train\n",
    "print(theta)\n",
    "# and then make the prediction\n",
    "ytilde = X_train @ theta\n",
    "print(\"Training R2\")\n",
    "print(R2(y_train,ytilde))\n",
    "print(\"Training MSE\")\n",
    "print(MSE(y_train,ytilde))\n",
    "ypredict = X_test @ theta\n",
    "print(\"Test R2\")\n",
    "print(R2(y_test,ypredict))\n",
    "print(\"Test MSE\")\n",
    "print(MSE(y_test,ypredict))"
   ]
  },
  {
   "cell_type": "markdown",
   "id": "ccadceb8",
   "metadata": {
    "editable": true
   },
   "source": [
    "Alternatively, you could write your own test-train splitting function as shown here."
   ]
  },
  {
   "cell_type": "code",
   "execution_count": 24,
   "id": "ab6ac068",
   "metadata": {
    "collapsed": false,
    "editable": true
   },
   "outputs": [],
   "source": [
    "# equivalently in numpy\n",
    "def train_test_split_numpy(inputs, labels, train_size, test_size):\n",
    "    n_inputs = len(inputs)\n",
    "    inputs_shuffled = inputs.copy()\n",
    "    labels_shuffled = labels.copy()\n",
    "\n",
    "    np.random.shuffle(inputs_shuffled)\n",
    "    np.random.shuffle(labels_shuffled)\n",
    "\n",
    "    train_end = int(n_inputs*train_size)\n",
    "    X_train, X_test = inputs_shuffled[:train_end], inputs_shuffled[train_end:]\n",
    "    Y_train, Y_test = labels_shuffled[:train_end], labels_shuffled[train_end:]\n",
    "\n",
    "    return X_train, X_test, Y_train, Y_test"
   ]
  },
  {
   "cell_type": "markdown",
   "id": "90d9e62f",
   "metadata": {
    "editable": true
   },
   "source": [
    "But since **scikit-learn** has its own function for doing this and since\n",
    "it interfaces easily with **tensorflow** and other libraries, we\n",
    "normally recommend using the latter functionality.\n",
    "\n",
    "As another example, we apply the training and testing split to \n",
    "to the above equation of state fitting example\n",
    "but now splitting the data into a training set and a test set."
   ]
  },
  {
   "cell_type": "code",
   "execution_count": 25,
   "id": "c8f97789",
   "metadata": {
    "collapsed": false,
    "editable": true
   },
   "outputs": [],
   "source": [
    "import os\n",
    "import numpy as np\n",
    "import pandas as pd\n",
    "import matplotlib.pyplot as plt\n",
    "from sklearn.model_selection import train_test_split\n",
    "# Where to save the figures and data files\n",
    "PROJECT_ROOT_DIR = \"Results\"\n",
    "FIGURE_ID = \"Results/FigureFiles\"\n",
    "DATA_ID = \"DataFiles/\"\n",
    "\n",
    "if not os.path.exists(PROJECT_ROOT_DIR):\n",
    "    os.mkdir(PROJECT_ROOT_DIR)\n",
    "\n",
    "if not os.path.exists(FIGURE_ID):\n",
    "    os.makedirs(FIGURE_ID)\n",
    "\n",
    "if not os.path.exists(DATA_ID):\n",
    "    os.makedirs(DATA_ID)\n",
    "\n",
    "def image_path(fig_id):\n",
    "    return os.path.join(FIGURE_ID, fig_id)\n",
    "\n",
    "def data_path(dat_id):\n",
    "    return os.path.join(DATA_ID, dat_id)\n",
    "\n",
    "def save_fig(fig_id):\n",
    "    plt.savefig(image_path(fig_id) + \".png\", format='png')\n",
    "\n",
    "def R2(y_data, y_model):\n",
    "    return 1 - np.sum((y_data - y_model) ** 2) / np.sum((y_data - np.mean(y_data)) ** 2)\n",
    "def MSE(y_data,y_model):\n",
    "    n = np.size(y_model)\n",
    "    return np.sum((y_data-y_model)**2)/n\n",
    "\n",
    "infile = open(data_path(\"EoS.csv\"),'r')\n",
    "\n",
    "# Read the EoS data as  csv file and organized into two arrays with density and energies\n",
    "EoS = pd.read_csv(infile, names=('Density', 'Energy'))\n",
    "EoS['Energy'] = pd.to_numeric(EoS['Energy'], errors='coerce')\n",
    "EoS = EoS.dropna()\n",
    "Energies = EoS['Energy']\n",
    "Density = EoS['Density']\n",
    "#  The design matrix now as function of various polytrops\n",
    "X = np.zeros((len(Density),5))\n",
    "X[:,0] = 1\n",
    "X[:,1] = Density**(2.0/3.0)\n",
    "X[:,2] = Density\n",
    "X[:,3] = Density**(4.0/3.0)\n",
    "X[:,4] = Density**(5.0/3.0)\n",
    "# We split the data in test and training data\n",
    "X_train, X_test, y_train, y_test = train_test_split(X, Energies, test_size=0.2)\n",
    "# matrix inversion to find theta\n",
    "theta = np.linalg.inv(X_train.T.dot(X_train)).dot(X_train.T).dot(y_train)\n",
    "# and then make the prediction\n",
    "ytilde = X_train @ theta\n",
    "print(\"Training R2\")\n",
    "print(R2(y_train,ytilde))\n",
    "print(\"Training MSE\")\n",
    "print(MSE(y_train,ytilde))\n",
    "ypredict = X_test @ theta\n",
    "print(\"Test R2\")\n",
    "print(R2(y_test,ypredict))\n",
    "print(\"Test MSE\")\n",
    "print(MSE(y_test,ypredict))"
   ]
  },
  {
   "cell_type": "markdown",
   "id": "44caf83f",
   "metadata": {
    "editable": true
   },
   "source": [
    "## Reducing the number of degrees of freedom, overarching view\n",
    "\n",
    "Many Machine Learning problems involve thousands or even millions of\n",
    "features for each training instance. Not only does this make training\n",
    "extremely slow, it can also make it much harder to find a good\n",
    "solution, as we will see. This problem is often referred to as the\n",
    "curse of dimensionality.  Fortunately, in real-world problems, it is\n",
    "often possible to reduce the number of features considerably, turning\n",
    "an intractable problem into a tractable one.\n",
    "\n",
    "Later  we will discuss some of the most popular dimensionality reduction\n",
    "techniques: the principal component analysis (PCA), Kernel PCA, and\n",
    "Locally Linear Embedding (LLE).  \n",
    "\n",
    "Principal component analysis and its various variants deal with the\n",
    "problem of fitting a low-dimensional [affine\n",
    "subspace](https://en.wikipedia.org/wiki/Affine_space) to a set of of\n",
    "data points in a high-dimensional space. With its family of methods it\n",
    "is one of the most used tools in data modeling, compression and\n",
    "visualization.\n",
    "\n",
    "Before we proceed however, we will discuss how to preprocess our\n",
    "data. Till now and in connection with our previous examples we have\n",
    "not met so many cases where we are too sensitive to the scaling of our\n",
    "data. Normally the data may need a rescaling and/or may be sensitive\n",
    "to extreme values. Scaling the data renders our inputs much more\n",
    "suitable for the algorithms we want to employ.\n",
    "\n",
    "For data sets gathered for real world applications, it is rather normal that\n",
    "different features have very different units and\n",
    "numerical scales. For example, a data set detailing health habits may include\n",
    "features such as **age** in the range $0-80$, and **caloric intake** of order $2000$.\n",
    "Many machine learning methods sensitive to the scales of the features and may perform poorly if they\n",
    "are very different scales. Therefore, it is typical to scale\n",
    "the features in a way to avoid such outlier values.\n",
    "\n",
    "**Scikit-Learn** has several functions which allow us to rescale the\n",
    "data, normally resulting in much better results in terms of various\n",
    "accuracy scores.  The **StandardScaler** function in **Scikit-Learn**\n",
    "ensures that for each feature/predictor we study the mean value is\n",
    "zero and the variance is one (every column in the design/feature\n",
    "matrix).  This scaling has the drawback that it does not ensure that\n",
    "we have a particular maximum or minimum in our data set. Another\n",
    "function included in **Scikit-Learn** is the **MinMaxScaler** which\n",
    "ensures that all features are exactly between $0$ and $1$. The\n",
    "\n",
    "The **Normalizer** scales each data\n",
    "point such that the feature vector has a euclidean length of one. In other words, it\n",
    "projects a data point on the circle (or sphere in the case of higher dimensions) with a\n",
    "radius of 1. This means every data point is scaled by a different number (by the\n",
    "inverse of it’s length).\n",
    "This normalization is often used when only the direction (or angle) of the data matters,\n",
    "not the length of the feature vector.\n",
    "\n",
    "The **RobustScaler** works similarly to the StandardScaler in that it\n",
    "ensures statistical properties for each feature that guarantee that\n",
    "they are on the same scale. However, the RobustScaler uses the median\n",
    "and quartiles, instead of mean and variance. This makes the\n",
    "RobustScaler ignore data points that are very different from the rest\n",
    "(like measurement errors). These odd data points are also called\n",
    "outliers, and might often lead to trouble for other scaling\n",
    "techniques.\n",
    "\n",
    "Many features are often scaled using standardization to improve\n",
    "performance. In **Scikit-Learn** this is given by the **StandardScaler**\n",
    "function as discussed above. It is easy however to write your own.\n",
    "Mathematically, this involves subtracting the mean and divide by the\n",
    "standard deviation over the data set, for each feature:"
   ]
  },
  {
   "cell_type": "markdown",
   "id": "fea67f0c",
   "metadata": {
    "editable": true
   },
   "source": [
    "$$\n",
    "x_j^{(i)} \\rightarrow \\frac{x_j^{(i)} - \\overline{x}_j}{\\sigma(x_j)},\n",
    "$$"
   ]
  },
  {
   "cell_type": "markdown",
   "id": "1af1f20c",
   "metadata": {
    "editable": true
   },
   "source": [
    "where $\\overline{x}_j$ and $\\sigma(x_j)$ are the mean and standard\n",
    "deviation, respectively, of the feature $x_j$.  This ensures that each\n",
    "feature has zero mean and unit standard deviation.  For data sets\n",
    "where we do not have the standard deviation or don't wish to calculate\n",
    "it, it is then common to simply set it to one.\n",
    "\n",
    "Let us consider the following vanilla example where we use both\n",
    "**Scikit-Learn** and write our own function as well.  We produce a\n",
    "simple test design matrix with random numbers. Each column could then\n",
    "represent a specific feature whose mean value is subracted."
   ]
  },
  {
   "cell_type": "code",
   "execution_count": 26,
   "id": "e9bcb7b1",
   "metadata": {
    "collapsed": false,
    "editable": true
   },
   "outputs": [],
   "source": [
    "import sklearn.linear_model as skl\n",
    "from sklearn.metrics import mean_squared_error\n",
    "from sklearn.model_selection import  train_test_split\n",
    "from sklearn.preprocessing import MinMaxScaler, StandardScaler, Normalizer\n",
    "import numpy as np\n",
    "import pandas as pd\n",
    "from IPython.display import display\n",
    "np.random.seed(100)\n",
    "# setting up a 10 x 5 matrix\n",
    "rows = 10\n",
    "cols = 5\n",
    "X = np.random.randn(rows,cols)\n",
    "XPandas = pd.DataFrame(X)\n",
    "display(XPandas)\n",
    "print(XPandas.mean())\n",
    "print(XPandas.std())\n",
    "XPandas = (XPandas -XPandas.mean())\n",
    "display(XPandas)\n",
    "#  This option does not include the standard deviation\n",
    "scaler = StandardScaler(with_std=False)\n",
    "scaler.fit(X)\n",
    "Xscaled = scaler.transform(X)\n",
    "display(XPandas-Xscaled)"
   ]
  },
  {
   "cell_type": "markdown",
   "id": "f3961700",
   "metadata": {
    "editable": true
   },
   "source": [
    "Small exercise: perform the standard scaling by including the standard deviation and compare with what Scikit-Learn gives.\n",
    "\n",
    "Another commonly used scaling method is min-max scaling. This is very\n",
    "useful for when we want the features to lie in a certain interval. To\n",
    "scale the feature $x_j$ to the interval $[a, b]$, we can apply the\n",
    "transformation"
   ]
  },
  {
   "cell_type": "markdown",
   "id": "a33d2ba3",
   "metadata": {
    "editable": true
   },
   "source": [
    "$$\n",
    "x_j^{(i)} \\rightarrow (b-a)\\frac{x_j^{(i)} - \\min(x_j)}{\\max(x_j) - \\min(x_j)} - a\n",
    "$$"
   ]
  },
  {
   "cell_type": "markdown",
   "id": "3bc979c2",
   "metadata": {
    "editable": true
   },
   "source": [
    "where $\\min(x_j)$ and $\\max(x_j)$ return the minimum and maximum value of $x_j$ over the data set, respectively."
   ]
  },
  {
   "cell_type": "markdown",
   "id": "c234f16e",
   "metadata": {
    "editable": true
   },
   "source": [
    "## Testing the Means Squared Error as function of Complexity\n",
    "\n",
    "Before we proceed with a more detailed analysis of the so-called\n",
    "Bias-Variance tradeoff, we present here an example of the relation\n",
    "between model complexity and the mean squared error for the triaining\n",
    "data and the test data.\n",
    "\n",
    "The results here tell us clearly that for the data not included in the\n",
    "training, there is an optimal model as function of the complexity of\n",
    "ourmodel (here in terms of the polynomial degree of the model).\n",
    "\n",
    "The results here will vary as function of model complexity and the amount od data used for training. \n",
    "\n",
    "Our data is defined by $x\\in [-3,3]$ with a total of for example $100$ data points."
   ]
  },
  {
   "cell_type": "code",
   "execution_count": 27,
   "id": "662bea3f",
   "metadata": {
    "collapsed": false,
    "editable": true
   },
   "outputs": [],
   "source": [
    "import matplotlib.pyplot as plt\n",
    "import numpy as np\n",
    "from sklearn.linear_model import LinearRegression, Ridge, Lasso\n",
    "from sklearn.preprocessing import PolynomialFeatures\n",
    "from sklearn.model_selection import train_test_split\n",
    "from sklearn.pipeline import make_pipeline\n",
    "\n",
    "\n",
    "np.random.seed(2018)\n",
    "n = 100\n",
    "maxdegree = 14\n",
    "# Make data set.\n",
    "x = np.linspace(-3, 3, n).reshape(-1, 1)\n",
    "y = np.exp(-x**2) + 1.5 * np.exp(-(x-2)**2)+ np.random.normal(0, 0.1, x.shape)\n",
    "TestError = np.zeros(maxdegree)\n",
    "TrainError = np.zeros(maxdegree)\n",
    "polydegree = np.zeros(maxdegree)\n",
    "x_train, x_test, y_train, y_test = train_test_split(x, y, test_size=0.2)\n",
    "\n",
    "\n",
    "for degree in range(maxdegree):\n",
    "    model = make_pipeline(PolynomialFeatures(degree=degree), LinearRegression(fit_intercept=False))\n",
    "    clf = model.fit(x_train,y_train)\n",
    "    y_fit = clf.predict(x_train)\n",
    "    y_pred = clf.predict(x_test) \n",
    "    polydegree[degree] = degree\n",
    "    TestError[degree] = np.mean( np.mean((y_test - y_pred)**2) )\n",
    "    TrainError[degree] = np.mean( np.mean((y_train - y_fit)**2) )\n",
    "\n",
    "plt.plot(polydegree, TestError, label='Test Error')\n",
    "plt.plot(polydegree, TrainError, label='Train Error')\n",
    "plt.legend()\n",
    "plt.show()"
   ]
  },
  {
   "cell_type": "markdown",
   "id": "05d214df",
   "metadata": {
    "editable": true
   },
   "source": [
    "## Exercises"
   ]
  },
  {
   "cell_type": "markdown",
   "id": "aa18093a",
   "metadata": {
    "editable": true
   },
   "source": [
    "## Exercise 1: Setting up various Python environments\n",
    "\n",
    "The first exercise here is of a mere technical art. We want you to have \n",
    "* git as a version control software and to establish a user account on a provider like GitHub. Other providers like GitLab etc are equally fine. You can also use the University of Oslo [GitHub facilities](https://www.uio.no/tjenester/it/maskin/filer/versjonskontroll/github.html). \n",
    "\n",
    "* Install various Python packages\n",
    "\n",
    "We will make extensive use of Python as programming language and its\n",
    "myriad of available libraries.  You will find\n",
    "IPython/Jupyter notebooks invaluable in your work.  You can run **R**\n",
    "codes in the Jupyter/IPython notebooks, with the immediate benefit of\n",
    "visualizing your data. You can also use compiled languages like C++,\n",
    "Rust, Fortran etc if you prefer. The focus in these lectures will be\n",
    "on Python.\n",
    "\n",
    "If you have Python installed (we recommend Python3) and you feel\n",
    "pretty familiar with installing different packages, we recommend that\n",
    "you install the following Python packages via **pip** as \n",
    "\n",
    "1. pip install numpy scipy matplotlib ipython scikit-learn sympy pandas pillow \n",
    "\n",
    "For **Tensorflow**, we recommend following the instructions in the text of \n",
    "[Aurelien Geron, Hands‑On Machine Learning with Scikit‑Learn and TensorFlow, O'Reilly](http://shop.oreilly.com/product/0636920052289.do)\n",
    "\n",
    "We will come back to **tensorflow** later. \n",
    "\n",
    "For Python3, replace **pip** with **pip3**.\n",
    "\n",
    "For OSX users we recommend, after having installed Xcode, to\n",
    "install **brew**. Brew allows for a seamless installation of additional\n",
    "software via for example \n",
    "\n",
    "1. brew install python3\n",
    "\n",
    "For Linux users, with its variety of distributions like for example the widely popular Ubuntu distribution,\n",
    "you can use **pip** as well and simply install Python as \n",
    "\n",
    "1. sudo apt-get install python3  (or python for Python2.7)\n",
    "\n",
    "If you don't want to perform these operations separately and venture\n",
    "into the hassle of exploring how to set up dependencies and paths, we\n",
    "recommend two widely used distrubutions which set up all relevant\n",
    "dependencies for Python, namely \n",
    "\n",
    "* [Anaconda](https://docs.anaconda.com/), \n",
    "\n",
    "which is an open source\n",
    "distribution of the Python and R programming languages for large-scale\n",
    "data processing, predictive analytics, and scientific computing, that\n",
    "aims to simplify package management and deployment. Package versions\n",
    "are managed by the package management system **conda**. \n",
    "\n",
    "* [Enthought canopy](https://www.enthought.com/product/canopy/) \n",
    "\n",
    "is a Python\n",
    "distribution for scientific and analytic computing distribution and\n",
    "analysis environment, available for free and under a commercial\n",
    "license.\n",
    "\n",
    "We recommend using **Anaconda** if you are not too familiar with setting paths in a terminal environment."
   ]
  },
  {
   "cell_type": "markdown",
   "id": "a8f251d6",
   "metadata": {
    "editable": true
   },
   "source": [
    "## Exercise 2: making your own data and exploring scikit-learn\n",
    "\n",
    "We will generate our own dataset for a function $y(x)$ where $x \\in [0,1]$ and defined by random numbers computed with the uniform distribution. The function $y$ is a quadratic polynomial in $x$ with added stochastic noise according to the normal distribution $\\cal {N}(0,1)$.\n",
    "The following simple Python instructions define our $x$ and $y$ values (with 100 data points)."
   ]
  },
  {
   "cell_type": "code",
   "execution_count": 28,
   "id": "48099cce",
   "metadata": {
    "collapsed": false,
    "editable": true
   },
   "outputs": [],
   "source": [
    "x = np.random.rand(100,1)\n",
    "y = 2.0+5*x*x+0.1*np.random.randn(100,1)"
   ]
  },
  {
   "cell_type": "markdown",
   "id": "1cf31ef1",
   "metadata": {
    "editable": true
   },
   "source": [
    "1. Write your own code (following the examples under the [regression notes](https://compphysics.github.io/MachineLearning/doc/LectureNotes/_build/html/chapter1.html)) for computing the parametrization of the data set fitting a second-order polynomial. \n",
    "\n",
    "2. Use thereafter **scikit-learn** (see again the examples in the regression slides) and compare with your own code.   When compairing with _scikit_learn_, make sure you set the option for the intercept to **FALSE**, see <https://scikit-learn.org/stable/modules/generated/sklearn.linear_model.LinearRegression.html>. This feature will be explained in more detail during the lectures of week 35 and week 36. You can find more in <https://compphysics.github.io/MachineLearning/doc/LectureNotes/_build/html/chapter3.html#more-on-rescaling-data>.\n",
    "\n",
    "3. Using scikit-learn, compute also the mean square error, a risk metric corresponding to the expected value of the squared (quadratic) error defined as"
   ]
  },
  {
   "cell_type": "markdown",
   "id": "dde166b5",
   "metadata": {
    "editable": true
   },
   "source": [
    "$$\n",
    "MSE(\\boldsymbol{y},\\boldsymbol{\\tilde{y}}) = \\frac{1}{n}\n",
    "\\sum_{i=0}^{n-1}(y_i-\\tilde{y}_i)^2,\n",
    "$$"
   ]
  },
  {
   "cell_type": "markdown",
   "id": "273b1e1d",
   "metadata": {
    "editable": true
   },
   "source": [
    "and the $R^2$ score function.\n",
    "If $\\tilde{\\boldsymbol{y}}_i$ is the predicted value of the $i-th$ sample and $y_i$ is the corresponding true value, then the score $R^2$ is defined as"
   ]
  },
  {
   "cell_type": "markdown",
   "id": "f7a4a3f1",
   "metadata": {
    "editable": true
   },
   "source": [
    "$$\n",
    "R^2(\\boldsymbol{y}, \\tilde{\\boldsymbol{y}}) = 1 - \\frac{\\sum_{i=0}^{n - 1} (y_i - \\tilde{y}_i)^2}{\\sum_{i=0}^{n - 1} (y_i - \\bar{y})^2},\n",
    "$$"
   ]
  },
  {
   "cell_type": "markdown",
   "id": "0b3e8071",
   "metadata": {
    "editable": true
   },
   "source": [
    "where we have defined the mean value  of $\\boldsymbol{y}$ as"
   ]
  },
  {
   "cell_type": "markdown",
   "id": "9f2d1bf3",
   "metadata": {
    "editable": true
   },
   "source": [
    "$$\n",
    "\\bar{y} =  \\frac{1}{n} \\sum_{i=0}^{n - 1} y_i.\n",
    "$$"
   ]
  },
  {
   "cell_type": "markdown",
   "id": "73c33ded",
   "metadata": {
    "editable": true
   },
   "source": [
    "You can use the functionality included in scikit-learn. If you feel for it, you can use your own program and define functions which compute the above two functions. \n",
    "Discuss the meaning of these results. Try also to vary the coefficient in front of the added stochastic noise term and discuss the quality of the fits.\n",
    "\n",
    "<!-- --- begin solution of exercise --- -->\n",
    "**Solution.**\n",
    "The code here is an example of where we define our own design matrix and fit parameters $\\theta$."
   ]
  },
  {
   "cell_type": "code",
   "execution_count": 29,
   "id": "c2fc4af7",
   "metadata": {
    "collapsed": false,
    "editable": true
   },
   "outputs": [],
   "source": [
    "import os\n",
    "import numpy as np\n",
    "import pandas as pd\n",
    "import matplotlib.pyplot as plt\n",
    "from sklearn.model_selection import train_test_split\n",
    "\n",
    "def save_fig(fig_id):\n",
    "    plt.savefig(image_path(fig_id) + \".png\", format='png')\n",
    "\n",
    "def R2(y_data, y_model):\n",
    "    return 1 - np.sum((y_data - y_model) ** 2) / np.sum((y_data - np.mean(y_data)) ** 2)\n",
    "def MSE(y_data,y_model):\n",
    "    n = np.size(y_model)\n",
    "    return np.sum((y_data-y_model)**2)/n\n",
    "\n",
    "x = np.random.rand(100)\n",
    "y = 2.0+5*x*x+0.1*np.random.randn(100)\n",
    "\n",
    "\n",
    "#  The design matrix now as function of a given polynomial\n",
    "X = np.zeros((len(x),3))\n",
    "X[:,0] = 1.0\n",
    "X[:,1] = x\n",
    "X[:,2] = x**2\n",
    "# We split the data in test and training data\n",
    "X_train, X_test, y_train, y_test = train_test_split(X, y, test_size=0.2)\n",
    "# matrix inversion to find theta\n",
    "theta = np.linalg.inv(X_train.T @ X_train) @ X_train.T @ y_train\n",
    "print(theta)\n",
    "# and then make the prediction\n",
    "ytilde = X_train @ theta\n",
    "print(\"Training R2\")\n",
    "print(R2(y_train,ytilde))\n",
    "print(\"Training MSE\")\n",
    "print(MSE(y_train,ytilde))\n",
    "ypredict = X_test @ theta\n",
    "print(\"Test R2\")\n",
    "print(R2(y_test,ypredict))\n",
    "print(\"Test MSE\")\n",
    "print(MSE(y_test,ypredict))"
   ]
  },
  {
   "cell_type": "markdown",
   "id": "a13aba09",
   "metadata": {
    "editable": true
   },
   "source": [
    "<!-- --- end solution of exercise --- -->"
   ]
  },
  {
   "cell_type": "markdown",
   "id": "dcf58060",
   "metadata": {
    "editable": true
   },
   "source": [
    "## Exercise 3: Normalizing our data\n",
    "\n",
    "A much used approach before starting to train the data is  to preprocess our\n",
    "data. Normally the data may need a rescaling and/or may be sensitive\n",
    "to extreme values. Scaling the data renders our inputs much more\n",
    "suitable for the algorithms we want to employ.\n",
    "\n",
    "**Scikit-Learn** has several functions which allow us to rescale the\n",
    "data, normally resulting in much better results in terms of various\n",
    "accuracy scores.  The **StandardScaler** function in **Scikit-Learn**\n",
    "ensures that for each feature/predictor we study the mean value is\n",
    "zero and the variance is one (every column in the design/feature\n",
    "matrix).  This scaling has the drawback that it does not ensure that\n",
    "we have a particular maximum or minimum in our data set. Another\n",
    "function included in **Scikit-Learn** is the **MinMaxScaler** which\n",
    "ensures that all features are exactly between $0$ and $1$. The\n",
    "\n",
    "The **Normalizer** scales each data\n",
    "point such that the feature vector has a euclidean length of one. In other words, it\n",
    "projects a data point on the circle (or sphere in the case of higher dimensions) with a\n",
    "radius of 1. This means every data point is scaled by a different number (by the\n",
    "inverse of it’s length).\n",
    "This normalization is often used when only the direction (or angle) of the data matters,\n",
    "not the length of the feature vector.\n",
    "\n",
    "The **RobustScaler** works similarly to the StandardScaler in that it\n",
    "ensures statistical properties for each feature that guarantee that\n",
    "they are on the same scale. However, the RobustScaler uses the median\n",
    "and quartiles, instead of mean and variance. This makes the\n",
    "RobustScaler ignore data points that are very different from the rest\n",
    "(like measurement errors). These odd data points are also called\n",
    "outliers, and might often lead to trouble for other scaling\n",
    "techniques.\n",
    "\n",
    "It also common to split the data in a **training** set and a **testing** set. A typical split is to use $80\\%$ of the data for training and the rest\n",
    "for testing. This can be done as follows with our design matrix $\\boldsymbol{X}$ and data $\\boldsymbol{y}$ (remember to import **scikit-learn**)"
   ]
  },
  {
   "cell_type": "code",
   "execution_count": 30,
   "id": "f1bd9543",
   "metadata": {
    "collapsed": false,
    "editable": true
   },
   "outputs": [],
   "source": [
    "# split in training and test data\n",
    "X_train, X_test, y_train, y_test = train_test_split(X,y,test_size=0.2)"
   ]
  },
  {
   "cell_type": "markdown",
   "id": "38030ca1",
   "metadata": {
    "editable": true
   },
   "source": [
    "Then we can use the standard scaler to scale our data as"
   ]
  },
  {
   "cell_type": "code",
   "execution_count": 31,
   "id": "e1d90b7a",
   "metadata": {
    "collapsed": false,
    "editable": true
   },
   "outputs": [],
   "source": [
    "scaler = StandardScaler()\n",
    "scaler.fit(X_train)\n",
    "X_train_scaled = scaler.transform(X_train)\n",
    "X_test_scaled = scaler.transform(X_test)"
   ]
  },
  {
   "cell_type": "markdown",
   "id": "4de86c60",
   "metadata": {
    "editable": true
   },
   "source": [
    "In this exercise we want you to to compute the MSE for the training\n",
    "data and the test data as function of the complexity of a polynomial,\n",
    "that is the degree of a given polynomial. We want you also to compute the $R2$ score as function of the complexity of the model for both training data and test data.  You should also run the calculation with and without scaling. \n",
    "\n",
    "One of \n",
    "the aims is to reproduce Figure 2.11 of [Hastie et al](https://github.com/CompPhysics/MLErasmus/blob/master/doc/Textbooks/elementsstat.pdf).\n",
    "\n",
    "Our data is defined by $x\\in [-3,3]$ with a total of for example $100$ data points."
   ]
  },
  {
   "cell_type": "code",
   "execution_count": 32,
   "id": "4aae540f",
   "metadata": {
    "collapsed": false,
    "editable": true
   },
   "outputs": [],
   "source": [
    "np.random.seed()\n",
    "n = 100\n",
    "maxdegree = 14\n",
    "# Make data set.\n",
    "x = np.linspace(-3, 3, n).reshape(-1, 1)\n",
    "y = np.exp(-x**2) + 1.5 * np.exp(-(x-2)**2)+ np.random.normal(0, 0.1, x.shape)"
   ]
  },
  {
   "cell_type": "markdown",
   "id": "966d110b",
   "metadata": {
    "editable": true
   },
   "source": [
    "where $y$ is the function we want to fit with a given polynomial.\n",
    "\n",
    "<!-- --- begin solution of exercise --- -->\n",
    "**Solution.**\n",
    "We present here the solution for the last exercise. All elements here can be used to solve exercises a) and b) as well.\n",
    "Note that in this example we have used the polynomial fitting functions of **scikit-learn**."
   ]
  },
  {
   "cell_type": "code",
   "execution_count": 33,
   "id": "011363cd",
   "metadata": {
    "collapsed": false,
    "editable": true
   },
   "outputs": [],
   "source": [
    "import matplotlib.pyplot as plt\n",
    "import numpy as np\n",
    "from sklearn.linear_model import LinearRegression, Ridge, Lasso\n",
    "from sklearn.preprocessing import PolynomialFeatures\n",
    "from sklearn.model_selection import train_test_split\n",
    "from sklearn.pipeline import make_pipeline\n",
    "\n",
    "\n",
    "np.random.seed(2018)\n",
    "n = 30\n",
    "maxdegree = 14\n",
    "# Make data set.\n",
    "x = np.linspace(-3, 3, n).reshape(-1, 1)\n",
    "y = np.exp(-x**2) + 1.5 * np.exp(-(x-2)**2)+ np.random.normal(0, 0.1, x.shape)\n",
    "TestError = np.zeros(maxdegree)\n",
    "TrainError = np.zeros(maxdegree)\n",
    "polydegree = np.zeros(maxdegree)\n",
    "x_train, x_test, y_train, y_test = train_test_split(x, y, test_size=0.2)\n",
    "\n",
    "\n",
    "for degree in range(maxdegree):\n",
    "    model = make_pipeline(PolynomialFeatures(degree=degree), LinearRegression(fit_intercept=False))\n",
    "    clf = model.fit(x_train,y_train)\n",
    "    y_fit = clf.predict(x_train)\n",
    "    y_pred = clf.predict(x_test) \n",
    "    polydegree[degree] = degree\n",
    "    TestError[degree] = np.mean( np.mean((y_test - y_pred)**2) )\n",
    "    TrainError[degree] = np.mean( np.mean((y_train - y_fit)**2) )\n",
    "\n",
    "plt.plot(polydegree, TestError, label='Test Error')\n",
    "plt.plot(polydegree, TrainError, label='Train Error')\n",
    "plt.legend()\n",
    "plt.show()"
   ]
  },
  {
   "cell_type": "markdown",
   "id": "cf8dd05c",
   "metadata": {
    "editable": true
   },
   "source": [
    "<!-- --- end solution of exercise --- -->"
   ]
  },
  {
   "cell_type": "markdown",
   "id": "d3c9b66f",
   "metadata": {
    "editable": true
   },
   "source": [
    "**a)**\n",
    "Write a first code which sets up a design matrix $X$ defined by a fifth-order polynomial.  Scale your data and split it in training and test data."
   ]
  },
  {
   "cell_type": "markdown",
   "id": "3363b9e6",
   "metadata": {
    "editable": true
   },
   "source": [
    "**b)**\n",
    "Perform an ordinary least squares and compute the means squared error and the $R2$ factor for the training data and the test data, with and without scaling."
   ]
  },
  {
   "cell_type": "markdown",
   "id": "33ac5d0b",
   "metadata": {
    "editable": true
   },
   "source": [
    "**c)**\n",
    "Add now a model which allows you to make polynomials up to degree $15$.  Perform a standard OLS fitting of the training data and compute the MSE and $R2$ for the training and test data and plot both test and training data MSE and $R2$ as functions of the polynomial degree. Compare what you see with Figure 2.11 of Hastie et al. Comment your results. For which polynomial degree do you find an optimal MSE (smallest value)?"
   ]
  },
  {
   "cell_type": "markdown",
   "id": "e80b75d3",
   "metadata": {
    "editable": true
   },
   "source": [
    "## Exercise 4: Adding Ridge Regression\n",
    "\n",
    "This exercise is a continuation of exercise 2. We will use the same function to\n",
    "generate our data set, still staying with a simple function $y(x)$\n",
    "which we want to fit using linear regression, but now extending the\n",
    "analysis to include the Ridge regression method.\n",
    "\n",
    "We will thus again generate our own dataset for a function $y(x)$ where \n",
    "$x \\in [0,1]$ and defined by random numbers computed with the uniform\n",
    "distribution. The function $y$ is a quadratic polynomial in $x$ with\n",
    "added stochastic noise according to the normal distribution $\\cal{N}(0,1)$.\n",
    "\n",
    "The following simple Python instructions define our $x$ and $y$ values (with 100 data points)."
   ]
  },
  {
   "cell_type": "code",
   "execution_count": 34,
   "id": "ba7cc092",
   "metadata": {
    "collapsed": false,
    "editable": true
   },
   "outputs": [],
   "source": [
    "x = np.random.rand(100)\n",
    "y = 2.0+5*x*x+0.1*np.random.randn(100)"
   ]
  },
  {
   "cell_type": "markdown",
   "id": "36b73ce3",
   "metadata": {
    "editable": true
   },
   "source": [
    "Write your own code for the Ridge method (see chapter 3.4 of Hastie *et al.*, equations (3.43) and (3.44)) and compute the parametrization for different values of $\\lambda$. Compare and analyze your results with those from exercise 3. Study the dependence on $\\lambda$ while also varying the strength of the noise in your expression for $y(x)$. \n",
    "\n",
    "Repeat the above but using the functionality of\n",
    "**Scikit-Learn**. Compare your code with the results from\n",
    "**Scikit-Learn**. Remember to run with the same random numbers for\n",
    "generating $x$ and $y$.  Observe also that when you compare with **Scikit-Learn**, you need to pay attention to how the intercept is dealt with.\n",
    "\n",
    "Finally, using **Scikit-Learn** or your own code, compute also the mean square error, a risk metric corresponding to the expected value of the squared (quadratic) error defined as"
   ]
  },
  {
   "cell_type": "markdown",
   "id": "9e7ac684",
   "metadata": {
    "editable": true
   },
   "source": [
    "$$\n",
    "MSE(\\hat{y},\\hat{\\tilde{y}}) = \\frac{1}{n}\n",
    "\\sum_{i=0}^{n-1}(y_i-\\tilde{y}_i)^2,\n",
    "$$"
   ]
  },
  {
   "cell_type": "markdown",
   "id": "b94b5ddd",
   "metadata": {
    "editable": true
   },
   "source": [
    "and the $R^2$ score function.\n",
    "If $\\tilde{\\hat{y}}_i$ is the predicted value of the $i-th$ sample and $y_i$ is the corresponding true value, then the score $R^2$ is defined as"
   ]
  },
  {
   "cell_type": "markdown",
   "id": "f8776c45",
   "metadata": {
    "editable": true
   },
   "source": [
    "$$\n",
    "R^2(\\hat{y}, \\tilde{\\hat{y}}) = 1 - \\frac{\\sum_{i=0}^{n - 1} (y_i - \\tilde{y}_i)^2}{\\sum_{i=0}^{n - 1} (y_i - \\bar{y})^2},\n",
    "$$"
   ]
  },
  {
   "cell_type": "markdown",
   "id": "40a07c84",
   "metadata": {
    "editable": true
   },
   "source": [
    "where we have defined the mean value  of $\\hat{y}$ as"
   ]
  },
  {
   "cell_type": "markdown",
   "id": "55a234b6",
   "metadata": {
    "editable": true
   },
   "source": [
    "$$\n",
    "\\bar{y} =  \\frac{1}{n} \\sum_{i=0}^{n - 1} y_i.\n",
    "$$"
   ]
  },
  {
   "cell_type": "markdown",
   "id": "59dc00fb",
   "metadata": {
    "editable": true
   },
   "source": [
    "Discuss these quantities as functions of the variable $\\lambda$ in Ridge regression.\n",
    "\n",
    "<!-- --- begin solution of exercise --- -->\n",
    "**Solution.**\n",
    "The code here allows you to perform your own Ridge calculation and\n",
    "perform calculations for various values of the regularization\n",
    "parameter $\\lambda$. This program can easily be extended upon."
   ]
  },
  {
   "cell_type": "code",
   "execution_count": 35,
   "id": "44a8d4ef",
   "metadata": {
    "collapsed": false,
    "editable": true
   },
   "outputs": [],
   "source": [
    "import os\n",
    "import numpy as np\n",
    "import pandas as pd\n",
    "import matplotlib.pyplot as plt\n",
    "from sklearn.model_selection import train_test_split\n",
    "from sklearn.preprocessing import StandardScaler\n",
    "from sklearn import linear_model\n",
    "\n",
    "def R2(y_data, y_model):\n",
    "    return 1 - np.sum((y_data - y_model) ** 2) / np.sum((y_data - np.mean(y_data)) ** 2)\n",
    "def MSE(y_data,y_model):\n",
    "    n = np.size(y_model)\n",
    "    return np.sum((y_data-y_model)**2)/n\n",
    "\n",
    "\n",
    "# A seed just to ensure that the random numbers are the same for every run.\n",
    "# Useful for eventual debugging.\n",
    "np.random.seed(3155)\n",
    "\n",
    "x = np.random.rand(100)\n",
    "y = 2.0+5*x*x+0.1*np.random.randn(100)\n",
    "\n",
    "# number of features p (here degree of polynomial\n",
    "p = 3\n",
    "#  The design matrix now as function of a given polynomial\n",
    "X = np.zeros((len(x),p))\n",
    "X[:,0] = 1.0\n",
    "X[:,1] = x\n",
    "X[:,2] = x*x\n",
    "# We split the data in test and training data\n",
    "X_train, X_test, y_train, y_test = train_test_split(X, y, test_size=0.2)\n",
    "\n",
    "# matrix inversion to find theta\n",
    "OLStheta = np.linalg.inv(X_train.T @ X_train) @ X_train.T @ y_train\n",
    "print(OLStheta)\n",
    "# and then make the prediction\n",
    "ytildeOLS = X_train @ OLStheta\n",
    "print(\"Training R2 for OLS\")\n",
    "print(R2(y_train,ytildeOLS))\n",
    "print(\"Training MSE for OLS\")\n",
    "print(MSE(y_train,ytildeOLS))\n",
    "ypredictOLS = X_test @ OLStheta\n",
    "print(\"Test R2 for OLS\")\n",
    "print(R2(y_test,ypredictOLS))\n",
    "print(\"Test MSE OLS\")\n",
    "print(MSE(y_test,ypredictOLS))\n",
    "\n",
    "\n",
    "# Repeat now for Ridge regression and various values of the regularization parameter\n",
    "I = np.eye(p,p)\n",
    "# Decide which values of lambda to use\n",
    "nlambdas = 20\n",
    "OwnMSEPredict = np.zeros(nlambdas)\n",
    "OwnMSETrain = np.zeros(nlambdas)\n",
    "MSERidgePredict =  np.zeros(nlambdas)\n",
    "lambdas = np.logspace(-4, 1, nlambdas)\n",
    "for i in range(nlambdas):\n",
    "    lmb = lambdas[i]\n",
    "    OwnRidgetheta = np.linalg.inv(X_train.T @ X_train+lmb*I) @ X_train.T @ y_train\n",
    "    # and then make the prediction\n",
    "    OwnytildeRidge = X_train @ OwnRidgetheta\n",
    "    OwnypredictRidge = X_test @ OwnRidgetheta\n",
    "    OwnMSEPredict[i] = MSE(y_test,OwnypredictRidge)\n",
    "    OwnMSETrain[i] = MSE(y_train,OwnytildeRidge)\n",
    "    # Make the fit using Ridge from Sklearn\n",
    "    RegRidge = linear_model.Ridge(lmb,fit_intercept=False)\n",
    "    RegRidge.fit(X_train,y_train)\n",
    "    # and then make the prediction\n",
    "    ypredictRidge = RegRidge.predict(X_test)\n",
    "    # Compute the MSE and print it\n",
    "    MSERidgePredict[i] = MSE(y_test,ypredictRidge)\n",
    "\n",
    "# Now plot the results\n",
    "plt.figure()\n",
    "plt.plot(np.log10(lambdas), OwnMSETrain, label = 'MSE Ridge train, Own code')\n",
    "plt.plot(np.log10(lambdas), OwnMSEPredict, 'r--', label = 'MSE Ridge Test, Own code')\n",
    "plt.plot(np.log10(lambdas), MSERidgePredict, 'g--', label = 'MSE Ridge Test, Sklearn code')\n",
    "plt.xlabel('log10(lambda)')\n",
    "plt.ylabel('MSE')\n",
    "plt.legend()\n",
    "plt.show()"
   ]
  },
  {
   "cell_type": "markdown",
   "id": "703ec310",
   "metadata": {
    "editable": true
   },
   "source": [
    "<!-- --- end solution of exercise --- -->"
   ]
  },
  {
   "cell_type": "markdown",
   "id": "980aceb3",
   "metadata": {
    "editable": true
   },
   "source": [
    "## Exercise 5: Analytical exercises\n",
    "\n",
    "In this exercise we derive the expressions for various derivatives of\n",
    "products of vectors and matrices. Such derivatives are central to the\n",
    "optimization of various cost functions. Although we will often use\n",
    "automatic differentiation in actual calculations, to be able to have\n",
    "analytical expressions is extremely helpful in case we have simpler\n",
    "derivatives as well as when we analyze various properties (like second\n",
    "derivatives) of the chosen cost functions.  Vectors are always written\n",
    "as boldfaced lower case letters and matrices as upper case boldfaced\n",
    "letters.\n",
    "\n",
    "Show that"
   ]
  },
  {
   "cell_type": "markdown",
   "id": "c2c4fafc",
   "metadata": {
    "editable": true
   },
   "source": [
    "$$\n",
    "\\frac{\\partial (\\boldsymbol{b}^T\\boldsymbol{a})}{\\partial \\boldsymbol{a}} = \\boldsymbol{b},\n",
    "$$"
   ]
  },
  {
   "cell_type": "markdown",
   "id": "84a561a2",
   "metadata": {
    "editable": true
   },
   "source": [
    "and"
   ]
  },
  {
   "cell_type": "markdown",
   "id": "bb9a9639",
   "metadata": {
    "editable": true
   },
   "source": [
    "$$\n",
    "\\frac{\\partial (\\boldsymbol{a}^T\\boldsymbol{A}\\boldsymbol{a})}{\\partial \\boldsymbol{a}} = \\boldsymbol{a}^T(\\boldsymbol{A}+\\boldsymbol{A}^T),\n",
    "$$"
   ]
  },
  {
   "cell_type": "markdown",
   "id": "8f1dd1a6",
   "metadata": {
    "editable": true
   },
   "source": [
    "and"
   ]
  },
  {
   "cell_type": "markdown",
   "id": "74dcf2c0",
   "metadata": {
    "editable": true
   },
   "source": [
    "$$\n",
    "\\frac{\\partial \\left(\\boldsymbol{x}-\\boldsymbol{A}\\boldsymbol{s}\\right)^T\\left(\\boldsymbol{x}-\\boldsymbol{A}\\boldsymbol{s}\\right)}{\\partial \\boldsymbol{s}} = -2\\left(\\boldsymbol{x}-\\boldsymbol{A}\\boldsymbol{s}\\right)^T\\boldsymbol{A},\n",
    "$$"
   ]
  },
  {
   "cell_type": "markdown",
   "id": "c530cce6",
   "metadata": {
    "editable": true
   },
   "source": [
    "and finally find the second derivative of this function with respect to the vector $\\boldsymbol{s}$.\n",
    "\n",
    "<!-- --- begin solution of exercise --- -->\n",
    "**Solution.**\n",
    "In these exercises it is always useful to write out with summation indices the various quantities.\n",
    "As an example, consider the function"
   ]
  },
  {
   "cell_type": "markdown",
   "id": "f337bf71",
   "metadata": {
    "editable": true
   },
   "source": [
    "$$\n",
    "f(\\boldsymbol{x}) =\\boldsymbol{A}\\boldsymbol{x},\n",
    "$$"
   ]
  },
  {
   "cell_type": "markdown",
   "id": "cfa053a1",
   "metadata": {
    "editable": true
   },
   "source": [
    "which reads for a specific component $f_i$ (we define the matrix $\\boldsymbol{A}$ to have dimension $n\\times n$ and the vector $\\boldsymbol{x}$ to have length $n$)"
   ]
  },
  {
   "cell_type": "markdown",
   "id": "e9035e0c",
   "metadata": {
    "editable": true
   },
   "source": [
    "$$\n",
    "f_i =\\sum_{j=0}^{n-1}a_{ij}x_j,\n",
    "$$"
   ]
  },
  {
   "cell_type": "markdown",
   "id": "1b198445",
   "metadata": {
    "editable": true
   },
   "source": [
    "which leads to"
   ]
  },
  {
   "cell_type": "markdown",
   "id": "e21f0cf0",
   "metadata": {
    "editable": true
   },
   "source": [
    "$$\n",
    "\\frac{\\partial f_i}{\\partial x_j}= a_{ij},\n",
    "$$"
   ]
  },
  {
   "cell_type": "markdown",
   "id": "8918cc8c",
   "metadata": {
    "editable": true
   },
   "source": [
    "and written out in terms of the vector $\\boldsymbol{x}$ we have"
   ]
  },
  {
   "cell_type": "markdown",
   "id": "bed599b9",
   "metadata": {
    "editable": true
   },
   "source": [
    "$$\n",
    "\\frac{\\partial f(\\boldsymbol{x})}{\\partial \\boldsymbol{x}}= \\boldsymbol{A}.\n",
    "$$"
   ]
  },
  {
   "cell_type": "markdown",
   "id": "4faf8bfa",
   "metadata": {
    "editable": true
   },
   "source": [
    "For the first derivative"
   ]
  },
  {
   "cell_type": "markdown",
   "id": "ebde5b6c",
   "metadata": {
    "editable": true
   },
   "source": [
    "$$\n",
    "\\frac{\\partial (\\boldsymbol{b}^T\\boldsymbol{a})}{\\partial \\boldsymbol{a}} = \\boldsymbol{b},\n",
    "$$"
   ]
  },
  {
   "cell_type": "markdown",
   "id": "5ef54737",
   "metadata": {
    "editable": true
   },
   "source": [
    "we can write out the inner product as (assuming all elements are real)"
   ]
  },
  {
   "cell_type": "markdown",
   "id": "6ef07a21",
   "metadata": {
    "editable": true
   },
   "source": [
    "$$\n",
    "\\boldsymbol{b}^T\\boldsymbol{a}=\\sum_i b_ia_i,\n",
    "$$"
   ]
  },
  {
   "cell_type": "markdown",
   "id": "7d5bcb91",
   "metadata": {
    "editable": true
   },
   "source": [
    "taking the derivative"
   ]
  },
  {
   "cell_type": "markdown",
   "id": "1d35a7b9",
   "metadata": {
    "editable": true
   },
   "source": [
    "$$\n",
    "\\frac{\\partial \\left( \\sum_i b_ia_i\\right)}{\\partial a_k}= b_k,\n",
    "$$"
   ]
  },
  {
   "cell_type": "markdown",
   "id": "90fcecec",
   "metadata": {
    "editable": true
   },
   "source": [
    "leading to"
   ]
  },
  {
   "cell_type": "markdown",
   "id": "4c2ab747",
   "metadata": {
    "editable": true
   },
   "source": [
    "$$\n",
    "\\frac{\\partial \\boldsymbol{b}^T\\boldsymbol{a}}{\\partial \\boldsymbol{a}}= \\begin{bmatrix} b_0 \\\\ b_1 \\\\ b_2 \\\\ \\dots \\\\ \\dots \\\\ b_{n-1}\\end{bmatrix} = \\boldsymbol{b}.\n",
    "$$"
   ]
  },
  {
   "cell_type": "markdown",
   "id": "ae1d9316",
   "metadata": {
    "editable": true
   },
   "source": [
    "For the second exercise we have"
   ]
  },
  {
   "cell_type": "markdown",
   "id": "aa76ae3d",
   "metadata": {
    "editable": true
   },
   "source": [
    "$$\n",
    "\\frac{\\partial (\\boldsymbol{a}^T\\boldsymbol{A}\\boldsymbol{a})}{\\partial \\boldsymbol{a}}.\n",
    "$$"
   ]
  },
  {
   "cell_type": "markdown",
   "id": "473eca6a",
   "metadata": {
    "editable": true
   },
   "source": [
    "Defining a vector $\\boldsymbol{f}=\\boldsymbol{A}\\boldsymbol{a}$ with components $f_i=\\sum_ja_{ij}a_i$  we have"
   ]
  },
  {
   "cell_type": "markdown",
   "id": "8476e871",
   "metadata": {
    "editable": true
   },
   "source": [
    "$$\n",
    "\\frac{\\partial (\\boldsymbol{a}^T\\boldsymbol{f})}{\\partial \\boldsymbol{a}}=\\boldsymbol{a}^T\\boldsymbol{A}+\\boldsymbol{f}^T=\\boldsymbol{a}^T\\left(\\boldsymbol{A}+\\boldsymbol{A}^T\\right),\n",
    "$$"
   ]
  },
  {
   "cell_type": "markdown",
   "id": "70fa4295",
   "metadata": {
    "editable": true
   },
   "source": [
    "since $f$ depends on $a$ and we have used the chain rule for derivatives on the derivative of $f$ with respect to $a$.\n",
    "\n",
    "<!-- --- end solution of exercise --- -->"
   ]
  }
 ],
 "metadata": {},
 "nbformat": 4,
 "nbformat_minor": 5
}
