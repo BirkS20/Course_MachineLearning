{
 "cells": [
  {
   "cell_type": "markdown",
   "id": "29616fbf",
   "metadata": {
    "editable": true
   },
   "source": [
    "<!-- HTML file automatically generated from DocOnce source (https://github.com/doconce/doconce/)\n",
    "doconce format html exercisesweek47.do.txt  -->\n",
    "<!-- dom:TITLE: Exercise week 47 -->"
   ]
  },
  {
   "cell_type": "markdown",
   "id": "e4f3fe3f",
   "metadata": {
    "editable": true
   },
   "source": [
    "# Exercise week 47\n",
    "**November 20-24, 2023**\n",
    "\n",
    "Date: **Deadline is Sunday November 26 at midnight**"
   ]
  },
  {
   "cell_type": "markdown",
   "id": "c1f597b7",
   "metadata": {
    "editable": true
   },
   "source": [
    "# Overarching aims of the exercises this week\n",
    "\n",
    "The exercise this week is a simple course survey and feedback.  This\n",
    "is important for us in order to improve our teaching material, the\n",
    "active learning format and anything else related to a succesful\n",
    "mastering of central machine learning methods and their applications."
   ]
  },
  {
   "cell_type": "markdown",
   "id": "7497591b",
   "metadata": {
    "editable": true
   },
   "source": [
    "### Why did you choose this course?"
   ]
  },
  {
   "cell_type": "markdown",
   "id": "1c08143f",
   "metadata": {
    "editable": true
   },
   "source": [
    "### What was your programming knowledge before you started?\n",
    "\n",
    "And do you feel this course added to your programming competences and skills?"
   ]
  },
  {
   "cell_type": "markdown",
   "id": "9783d8a7",
   "metadata": {
    "editable": true
   },
   "source": [
    "### How do you judge your own level of knowledge on machine learning before and after this course?\n",
    "\n",
    "Here you can discuss your level of skill/knowledge at start of course\n",
    "and at the end of the course and how these matched the level of\n",
    "skill/knowledge needed to complete the projects."
   ]
  },
  {
   "cell_type": "markdown",
   "id": "8b0d5c47",
   "metadata": {
    "editable": true
   },
   "source": [
    "### Did the projects and the teaching material allow you to deepen your insights about Machine Learning?\n",
    "\n",
    "Feel free to comment here."
   ]
  },
  {
   "cell_type": "markdown",
   "id": "1ead8d47",
   "metadata": {
    "editable": true
   },
   "source": [
    "### Project based teaching and active learning\n",
    "\n",
    "This is a project based course and we as teachers would like to keep\n",
    "it as it is since we see very clearly that people who attend this\n",
    "course have a very good learning outcome. Project based courses are\n",
    "however demanding (and expensive seen from the university admin) when\n",
    "it comes to proper feedback and evaluations. Feel free to discuss\n",
    "whether you found a project-based and active learning approach\n",
    "useful. Feel also free to comment upon things we can improve upon or\n",
    "alternative ways to assess whether the learning outcomes have been\n",
    "achieved. Would you for example prefer a standard 4 hours written exam\n",
    "be something you would prefer?  Or other alternatives to projects? We\n",
    "would very much value your thoughts here since projects are an\n",
    "essential part of this course."
   ]
  },
  {
   "cell_type": "markdown",
   "id": "746bd238",
   "metadata": {
    "editable": true
   },
   "source": [
    "### Usefulness of the weekly exercises\n",
    "\n",
    "Did the weekly exercises help in getting started with the projects?\n",
    "How relevant where they for solving the projects?  Feel free to\n",
    "elaborate"
   ]
  },
  {
   "cell_type": "markdown",
   "id": "2ce96822",
   "metadata": {
    "editable": true
   },
   "source": [
    "### Active learning/lab sessions and lectures\n",
    "\n",
    "Was there a good link between lectures and active learning sessions?\n",
    "Would you prefer an active learning environment only with no lectures\n",
    "or would you prefer a more lecture based format with lab sessions only\n",
    "(that is no discussion at the beginning of the lab sessions)? Feel\n",
    "free to comment."
   ]
  },
  {
   "cell_type": "markdown",
   "id": "5dc0637a",
   "metadata": {
    "editable": true
   },
   "source": [
    "### How would you improve this course?\n",
    "\n",
    "Are there topics which are missing, topics which could have been\n",
    "omitted and/or discussed in more depth? Feel free to add your comments\n",
    "here such as how to improve to teaching material and more."
   ]
  },
  {
   "cell_type": "markdown",
   "id": "a98adf6c",
   "metadata": {
    "editable": true
   },
   "source": [
    "## Then some basic questions"
   ]
  },
  {
   "cell_type": "markdown",
   "id": "3a935279",
   "metadata": {
    "editable": true
   },
   "source": [
    "### Which is your preferred information chanel, Canvas, Discord, mail or other?"
   ]
  },
  {
   "cell_type": "markdown",
   "id": "41592552",
   "metadata": {
    "editable": true
   },
   "source": [
    "### Was the weekly update with plans etc useful?"
   ]
  },
  {
   "cell_type": "markdown",
   "id": "e79a2360",
   "metadata": {
    "editable": true
   },
   "source": [
    "### Was it easy to access the course material?"
   ]
  },
  {
   "cell_type": "markdown",
   "id": "8bc4dfc9",
   "metadata": {
    "editable": true
   },
   "source": [
    "### Which resources and tools did you use? Jupyter-notebooks, GitHub, the various textbooks we have recommended, etc etc"
   ]
  },
  {
   "cell_type": "markdown",
   "id": "bf415075",
   "metadata": {
    "editable": true
   },
   "source": [
    "### If you did not attend the lectures or the active learning/lab sessions, which resources did you use?"
   ]
  },
  {
   "cell_type": "markdown",
   "id": "db3db20a",
   "metadata": {
    "editable": true
   },
   "source": [
    "### Any other topics, impressions, ideas etc you would like to share with us?"
   ]
  }
 ],
 "metadata": {},
 "nbformat": 4,
 "nbformat_minor": 5
}