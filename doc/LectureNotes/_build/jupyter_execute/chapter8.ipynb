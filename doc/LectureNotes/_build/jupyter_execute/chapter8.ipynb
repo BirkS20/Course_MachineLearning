{
 "cells": [
  {
   "cell_type": "markdown",
   "metadata": {},
   "source": [
    "# Basic ideas of the Principal Component Analysis (PCA)\n",
    "\n",
    "The principal component analysis deals with the problem of fitting a\n",
    "low-dimensional affine subspace $S$ of dimension $d$ much smaller than\n",
    "the total dimension $D$ of the problem at hand (our data\n",
    "set). Mathematically it can be formulated as a statistical problem or\n",
    "a geometric problem.  In our discussion of the theorem for the\n",
    "classical PCA, we will stay with a statistical approach. \n",
    "Historically, the PCA was first formulated in a statistical setting in order to estimate the principal component of a multivariate random variable.\n",
    "\n",
    "We have a data set defined by a design/feature matrix $\\boldsymbol{X}$ (see below for its definition) \n",
    "* Each data point is determined by $p$ extrinsic (measurement) variables\n",
    "\n",
    "* We may want to ask the following question: Are there fewer intrinsic variables (say $d << p$) that still approximately describe the data?\n",
    "\n",
    "* If so, these intrinsic variables may tell us something important and finding these intrinsic variables is what dimension reduction methods do. \n",
    "\n",
    "A good read is for example [Vidal, Ma and Sastry](https://www.springer.com/gp/book/9780387878102).\n",
    "\n",
    "\n",
    "\n",
    "## Introducing the Covariance and Correlation functions\n",
    "\n",
    "Before we discuss the PCA theorem, we need to remind ourselves about\n",
    "the definition of the covariance and the correlation function. These are quantities \n",
    "\n",
    "Suppose we have defined two vectors\n",
    "$\\hat{x}$ and $\\hat{y}$ with $n$ elements each. The covariance matrix $\\boldsymbol{C}$ is defined as"
   ]
  },
  {
   "cell_type": "markdown",
   "metadata": {},
   "source": [
    "$$\n",
    "\\boldsymbol{C}[\\boldsymbol{x},\\boldsymbol{y}] = \\begin{bmatrix} \\mathrm{cov}[\\boldsymbol{x},\\boldsymbol{x}] & \\mathrm{cov}[\\boldsymbol{x},\\boldsymbol{y}] \\\\\n",
    "                              \\mathrm{cov}[\\boldsymbol{y},\\boldsymbol{x}] & \\mathrm{cov}[\\boldsymbol{y},\\boldsymbol{y}] \\\\\n",
    "             \\end{bmatrix},\n",
    "$$"
   ]
  },
  {
   "cell_type": "markdown",
   "metadata": {},
   "source": [
    "where for example"
   ]
  },
  {
   "cell_type": "markdown",
   "metadata": {},
   "source": [
    "$$\n",
    "\\mathrm{cov}[\\boldsymbol{x},\\boldsymbol{y}] =\\frac{1}{n} \\sum_{i=0}^{n-1}(x_i- \\overline{x})(y_i- \\overline{y}).\n",
    "$$"
   ]
  },
  {
   "cell_type": "markdown",
   "metadata": {},
   "source": [
    "With this definition and recalling that the variance is defined as"
   ]
  },
  {
   "cell_type": "markdown",
   "metadata": {},
   "source": [
    "$$\n",
    "\\mathrm{var}[\\boldsymbol{x}]=\\frac{1}{n} \\sum_{i=0}^{n-1}(x_i- \\overline{x})^2,\n",
    "$$"
   ]
  },
  {
   "cell_type": "markdown",
   "metadata": {},
   "source": [
    "we can rewrite the covariance matrix as"
   ]
  },
  {
   "cell_type": "markdown",
   "metadata": {},
   "source": [
    "$$\n",
    "\\boldsymbol{C}[\\boldsymbol{x},\\boldsymbol{y}] = \\begin{bmatrix} \\mathrm{var}[\\boldsymbol{x}] & \\mathrm{cov}[\\boldsymbol{x},\\boldsymbol{y}] \\\\\n",
    "                              \\mathrm{cov}[\\boldsymbol{x},\\boldsymbol{y}] & \\mathrm{var}[\\boldsymbol{y}] \\\\\n",
    "             \\end{bmatrix}.\n",
    "$$"
   ]
  },
  {
   "cell_type": "markdown",
   "metadata": {},
   "source": [
    "The covariance takes values between zero and infinity and may thus\n",
    "lead to problems with loss of numerical precision for particularly\n",
    "large values. It is common to scale the covariance matrix by\n",
    "introducing instead the correlation matrix defined via the so-called\n",
    "correlation function"
   ]
  },
  {
   "cell_type": "markdown",
   "metadata": {},
   "source": [
    "$$\n",
    "\\mathrm{corr}[\\boldsymbol{x},\\boldsymbol{y}]=\\frac{\\mathrm{cov}[\\boldsymbol{x},\\boldsymbol{y}]}{\\sqrt{\\mathrm{var}[\\boldsymbol{x}] \\mathrm{var}[\\boldsymbol{y}]}}.\n",
    "$$"
   ]
  },
  {
   "cell_type": "markdown",
   "metadata": {},
   "source": [
    "The correlation function is then given by values $\\mathrm{corr}[\\boldsymbol{x},\\boldsymbol{y}]\n",
    "\\in [-1,1]$. This avoids eventual problems with too large values. We\n",
    "can then define the correlation matrix for the two vectors $\\boldsymbol{x}$\n",
    "and $\\boldsymbol{y}$ as"
   ]
  },
  {
   "cell_type": "markdown",
   "metadata": {},
   "source": [
    "$$\n",
    "\\boldsymbol{K}[\\boldsymbol{x},\\boldsymbol{y}] = \\begin{bmatrix} 1 & \\mathrm{corr}[\\boldsymbol{x},\\boldsymbol{y}] \\\\\n",
    "                              \\mathrm{corr}[\\boldsymbol{y},\\boldsymbol{x}] & 1 \\\\\n",
    "             \\end{bmatrix},\n",
    "$$"
   ]
  },
  {
   "cell_type": "markdown",
   "metadata": {},
   "source": [
    "In the above example this is the function we constructed using **pandas**.\n",
    "\n",
    "\n",
    "In our derivation of the various regression algorithms like **Ordinary Least Squares** or **Ridge regression**\n",
    "we defined the design/feature matrix $\\boldsymbol{X}$ as"
   ]
  },
  {
   "cell_type": "markdown",
   "metadata": {},
   "source": [
    "$$\n",
    "\\boldsymbol{X}=\\begin{bmatrix}\n",
    "x_{0,0} & x_{0,1} & x_{0,2}& \\dots & \\dots x_{0,p-1}\\\\\n",
    "x_{1,0} & x_{1,1} & x_{1,2}& \\dots & \\dots x_{1,p-1}\\\\\n",
    "x_{2,0} & x_{2,1} & x_{2,2}& \\dots & \\dots x_{2,p-1}\\\\\n",
    "\\dots & \\dots & \\dots & \\dots \\dots & \\dots \\\\\n",
    "x_{n-2,0} & x_{n-2,1} & x_{n-2,2}& \\dots & \\dots x_{n-2,p-1}\\\\\n",
    "x_{n-1,0} & x_{n-1,1} & x_{n-1,2}& \\dots & \\dots x_{n-1,p-1}\\\\\n",
    "\\end{bmatrix},\n",
    "$$"
   ]
  },
  {
   "cell_type": "markdown",
   "metadata": {},
   "source": [
    "with $\\boldsymbol{X}\\in {\\mathbb{R}}^{n\\times p}$, with the predictors/features $p$  refering to the column numbers and the\n",
    "entries $n$ being the row elements.\n",
    "We can rewrite the design/feature matrix in terms of its column vectors as"
   ]
  },
  {
   "cell_type": "markdown",
   "metadata": {},
   "source": [
    "$$\n",
    "\\boldsymbol{X}=\\begin{bmatrix} \\boldsymbol{x}_0 & \\boldsymbol{x}_1 & \\boldsymbol{x}_2 & \\dots & \\dots & \\boldsymbol{x}_{p-1}\\end{bmatrix},\n",
    "$$"
   ]
  },
  {
   "cell_type": "markdown",
   "metadata": {},
   "source": [
    "with a given vector"
   ]
  },
  {
   "cell_type": "markdown",
   "metadata": {},
   "source": [
    "$$\n",
    "\\boldsymbol{x}_i^T = \\begin{bmatrix}x_{0,i} & x_{1,i} & x_{2,i}& \\dots & \\dots x_{n-1,i}\\end{bmatrix}.\n",
    "$$"
   ]
  },
  {
   "cell_type": "markdown",
   "metadata": {},
   "source": [
    "With these definitions, we can now rewrite our $2\\times 2$\n",
    "correaltion/covariance matrix in terms of a moe general design/feature\n",
    "matrix $\\boldsymbol{X}\\in {\\mathbb{R}}^{n\\times p}$. This leads to a $p\\times p$\n",
    "covariance matrix for the vectors $\\boldsymbol{x}_i$ with $i=0,1,\\dots,p-1$"
   ]
  },
  {
   "cell_type": "markdown",
   "metadata": {},
   "source": [
    "$$\n",
    "\\boldsymbol{C}[\\boldsymbol{x}] = \\begin{bmatrix}\n",
    "\\mathrm{var}[\\boldsymbol{x}_0] & \\mathrm{cov}[\\boldsymbol{x}_0,\\boldsymbol{x}_1]  & \\mathrm{cov}[\\boldsymbol{x}_0,\\boldsymbol{x}_2] & \\dots & \\dots & \\mathrm{cov}[\\boldsymbol{x}_0,\\boldsymbol{x}_{p-1}]\\\\\n",
    "\\mathrm{cov}[\\boldsymbol{x}_1,\\boldsymbol{x}_0] & \\mathrm{var}[\\boldsymbol{x}_1]  & \\mathrm{cov}[\\boldsymbol{x}_1,\\boldsymbol{x}_2] & \\dots & \\dots & \\mathrm{cov}[\\boldsymbol{x}_1,\\boldsymbol{x}_{p-1}]\\\\\n",
    "\\mathrm{cov}[\\boldsymbol{x}_2,\\boldsymbol{x}_0]   & \\mathrm{cov}[\\boldsymbol{x}_2,\\boldsymbol{x}_1] & \\mathrm{var}[\\boldsymbol{x}_2] & \\dots & \\dots & \\mathrm{cov}[\\boldsymbol{x}_2,\\boldsymbol{x}_{p-1}]\\\\\n",
    "\\dots & \\dots & \\dots & \\dots & \\dots & \\dots \\\\\n",
    "\\dots & \\dots & \\dots & \\dots & \\dots & \\dots \\\\\n",
    "\\mathrm{cov}[\\boldsymbol{x}_{p-1},\\boldsymbol{x}_0]   & \\mathrm{cov}[\\boldsymbol{x}_{p-1},\\boldsymbol{x}_1] & \\mathrm{cov}[\\boldsymbol{x}_{p-1},\\boldsymbol{x}_{2}]  & \\dots & \\dots  & \\mathrm{var}[\\boldsymbol{x}_{p-1}]\\\\\n",
    "\\end{bmatrix},\n",
    "$$"
   ]
  },
  {
   "cell_type": "markdown",
   "metadata": {},
   "source": [
    "and the correlation matrix"
   ]
  },
  {
   "cell_type": "markdown",
   "metadata": {},
   "source": [
    "$$\n",
    "\\boldsymbol{K}[\\boldsymbol{x}] = \\begin{bmatrix}\n",
    "1 & \\mathrm{corr}[\\boldsymbol{x}_0,\\boldsymbol{x}_1]  & \\mathrm{corr}[\\boldsymbol{x}_0,\\boldsymbol{x}_2] & \\dots & \\dots & \\mathrm{corr}[\\boldsymbol{x}_0,\\boldsymbol{x}_{p-1}]\\\\\n",
    "\\mathrm{corr}[\\boldsymbol{x}_1,\\boldsymbol{x}_0] & 1  & \\mathrm{corr}[\\boldsymbol{x}_1,\\boldsymbol{x}_2] & \\dots & \\dots & \\mathrm{corr}[\\boldsymbol{x}_1,\\boldsymbol{x}_{p-1}]\\\\\n",
    "\\mathrm{corr}[\\boldsymbol{x}_2,\\boldsymbol{x}_0]   & \\mathrm{corr}[\\boldsymbol{x}_2,\\boldsymbol{x}_1] & 1 & \\dots & \\dots & \\mathrm{corr}[\\boldsymbol{x}_2,\\boldsymbol{x}_{p-1}]\\\\\n",
    "\\dots & \\dots & \\dots & \\dots & \\dots & \\dots \\\\\n",
    "\\dots & \\dots & \\dots & \\dots & \\dots & \\dots \\\\\n",
    "\\mathrm{corr}[\\boldsymbol{x}_{p-1},\\boldsymbol{x}_0]   & \\mathrm{corr}[\\boldsymbol{x}_{p-1},\\boldsymbol{x}_1] & \\mathrm{corr}[\\boldsymbol{x}_{p-1},\\boldsymbol{x}_{2}]  & \\dots & \\dots  & 1\\\\\n",
    "\\end{bmatrix},\n",
    "$$"
   ]
  },
  {
   "cell_type": "markdown",
   "metadata": {},
   "source": [
    "The Numpy function **np.cov** calculates the covariance elements using\n",
    "the factor $1/(n-1)$ instead of $1/n$ since it assumes we do not have\n",
    "the exact mean values.  The following simple function uses the\n",
    "**np.vstack** function which takes each vector of dimension $1\\times n$\n",
    "and produces a $2\\times n$ matrix $\\boldsymbol{W}$"
   ]
  },
  {
   "cell_type": "markdown",
   "metadata": {},
   "source": [
    "$$\n",
    "\\boldsymbol{W} = \\begin{bmatrix} x_0 & y_0 \\\\\n",
    "                          x_1 & y_1 \\\\\n",
    "                          x_2 & y_2\\\\\n",
    "                          \\dots & \\dots \\\\\n",
    "                          x_{n-2} & y_{n-2}\\\\\n",
    "                          x_{n-1} & y_{n-1} & \n",
    "             \\end{bmatrix},\n",
    "$$"
   ]
  },
  {
   "cell_type": "markdown",
   "metadata": {},
   "source": [
    "which in turn is converted into into the $2\\times 2$ covariance matrix\n",
    "$\\boldsymbol{C}$ via the Numpy function **np.cov()**. We note that we can also calculate\n",
    "the mean value of each set of samples $\\boldsymbol{x}$ etc using the Numpy\n",
    "function **np.mean(x)**. We can also extract the eigenvalues of the\n",
    "covariance matrix through the **np.linalg.eig()** function."
   ]
  },
  {
   "cell_type": "code",
   "execution_count": 1,
   "metadata": {
    "collapsed": false,
    "editable": true
   },
   "outputs": [
    {
     "name": "stdout",
     "output_type": "stream",
     "text": [
      "0.264540221699101\n",
      "4.673457751724773\n",
      "[[0.83632853 2.54078623]\n",
      " [2.54078623 8.44021223]]\n"
     ]
    }
   ],
   "source": [
    "# Importing various packages\n",
    "import numpy as np\n",
    "n = 100\n",
    "x = np.random.normal(size=n)\n",
    "print(np.mean(x))\n",
    "y = 4+3*x+np.random.normal(size=n)\n",
    "print(np.mean(y))\n",
    "W = np.vstack((x, y))\n",
    "C = np.cov(W)\n",
    "print(C)"
   ]
  },
  {
   "cell_type": "markdown",
   "metadata": {},
   "source": [
    "## Correlation Matrix\n",
    "\n",
    "The previous example can be converted into the correlation matrix by\n",
    "simply scaling the matrix elements with the variances.  We should also\n",
    "subtract the mean values for each column. This leads to the following\n",
    "code which sets up the correlations matrix for the previous example in\n",
    "a more brute force way. Here we scale the mean values for each column of the design matrix, calculate the relevant mean values and variances and then finally set up the $2\\times 2$ correlation matrix (since we have only two vectors)."
   ]
  },
  {
   "cell_type": "code",
   "execution_count": 2,
   "metadata": {
    "collapsed": false,
    "editable": true
   },
   "outputs": [
    {
     "name": "stdout",
     "output_type": "stream",
     "text": [
      "0.08374032367704139\n",
      "1.7696835316227453\n",
      "[[1.         0.66443521]\n",
      " [0.66443521 1.        ]]\n"
     ]
    }
   ],
   "source": [
    "import numpy as np\n",
    "n = 100\n",
    "# define two vectors                                                                                           \n",
    "x = np.random.random(size=n)\n",
    "y = 4+3*x+np.random.normal(size=n)\n",
    "#scaling the x and y vectors                                                                                   \n",
    "x = x - np.mean(x)\n",
    "y = y - np.mean(y)\n",
    "variance_x = np.sum(x@x)/n\n",
    "variance_y = np.sum(y@y)/n\n",
    "print(variance_x)\n",
    "print(variance_y)\n",
    "cov_xy = np.sum(x@y)/n\n",
    "cov_xx = np.sum(x@x)/n\n",
    "cov_yy = np.sum(y@y)/n\n",
    "C = np.zeros((2,2))\n",
    "C[0,0]= cov_xx/variance_x\n",
    "C[1,1]= cov_yy/variance_y\n",
    "C[0,1]= cov_xy/np.sqrt(variance_y*variance_x)\n",
    "C[1,0]= C[0,1]\n",
    "print(C)"
   ]
  },
  {
   "cell_type": "markdown",
   "metadata": {},
   "source": [
    "We see that the matrix elements along the diagonal are one as they\n",
    "should be and that the matrix is symmetric. Furthermore, diagonalizing\n",
    "this matrix we easily see that it is a positive definite matrix.\n",
    "\n",
    "The above procedure with **numpy** can be made more compact if we use **pandas**.\n",
    "\n",
    "\n",
    "We whow here how we can set up the correlation matrix using **pandas**, as done in this simple code"
   ]
  },
  {
   "cell_type": "code",
   "execution_count": 3,
   "metadata": {
    "collapsed": false,
    "editable": true
   },
   "outputs": [
    {
     "name": "stdout",
     "output_type": "stream",
     "text": [
      "[[ 1.20708879  4.33201844]\n",
      " [-0.3838783  -1.24125217]\n",
      " [ 0.74722409  1.60194224]\n",
      " [-0.04086326  0.37419664]\n",
      " [ 0.62422045  2.05587489]\n",
      " [ 1.75357263  5.63710438]\n",
      " [-2.53968309 -7.28219089]\n",
      " [-1.42054337 -4.90629812]\n",
      " [-0.13019959 -0.83320794]\n",
      " [ 0.18306165  0.26181254]]\n",
      "          0         1\n",
      "0  1.207089  4.332018\n",
      "1 -0.383878 -1.241252\n",
      "2  0.747224  1.601942\n",
      "3 -0.040863  0.374197\n",
      "4  0.624220  2.055875\n",
      "5  1.753573  5.637104\n",
      "6 -2.539683 -7.282191\n",
      "7 -1.420543 -4.906298\n",
      "8 -0.130200 -0.833208\n",
      "9  0.183062  0.261813\n",
      "          0         1\n",
      "0  1.000000  0.992504\n",
      "1  0.992504  1.000000\n"
     ]
    }
   ],
   "source": [
    "import numpy as np\n",
    "import pandas as pd\n",
    "n = 10\n",
    "x = np.random.normal(size=n)\n",
    "x = x - np.mean(x)\n",
    "y = 4+3*x+np.random.normal(size=n)\n",
    "y = y - np.mean(y)\n",
    "X = (np.vstack((x, y))).T\n",
    "print(X)\n",
    "Xpd = pd.DataFrame(X)\n",
    "print(Xpd)\n",
    "correlation_matrix = Xpd.corr()\n",
    "print(correlation_matrix)"
   ]
  },
  {
   "cell_type": "markdown",
   "metadata": {},
   "source": [
    "We expand this model to the Franke function discussed above."
   ]
  },
  {
   "cell_type": "code",
   "execution_count": 4,
   "metadata": {
    "collapsed": false,
    "editable": true
   },
   "outputs": [
    {
     "name": "stdout",
     "output_type": "stream",
     "text": [
      "     0         1         2         3         4         5         6         7   \\\n",
      "0   0.0  0.000000  0.000000  0.000000  0.000000  0.000000  0.000000  0.000000   \n",
      "1   0.0  0.092290  0.091376  0.091772  0.091659  0.091579  0.083691  0.083321   \n",
      "2   0.0  0.091376  0.091209  0.090620  0.090923  0.091266  0.082166  0.082105   \n",
      "3   0.0  0.091772  0.090620  0.098069  0.097435  0.096845  0.093556  0.092724   \n",
      "4   0.0  0.091659  0.090923  0.097435  0.097111  0.096833  0.092478  0.091896   \n",
      "5   0.0  0.091579  0.091266  0.096845  0.096833  0.096872  0.091445  0.091113   \n",
      "6   0.0  0.083691  0.082166  0.093556  0.092478  0.091445  0.092007  0.090828   \n",
      "7   0.0  0.083321  0.082105  0.092724  0.091896  0.091113  0.090828  0.089857   \n",
      "8   0.0  0.083051  0.082145  0.091996  0.091418  0.090888  0.089744  0.088982   \n",
      "9   0.0  0.082877  0.082285  0.091369  0.091044  0.090768  0.088754  0.088201   \n",
      "10  0.0  0.075829  0.073985  0.087419  0.086021  0.084663  0.087860  0.086440   \n",
      "11  0.0  0.075277  0.073684  0.086460  0.085272  0.084124  0.086624  0.085384   \n",
      "12  0.0  0.074819  0.073477  0.085603  0.084624  0.083685  0.085484  0.084422   \n",
      "13  0.0  0.074453  0.073363  0.084846  0.084076  0.083348  0.084438  0.083555   \n",
      "14  0.0  0.074180  0.073344  0.084187  0.083627  0.083111  0.083485  0.082779   \n",
      "\n",
      "          8         9         10        11        12        13        14  \n",
      "0   0.000000  0.000000  0.000000  0.000000  0.000000  0.000000  0.000000  \n",
      "1   0.083051  0.082877  0.075829  0.075277  0.074819  0.074453  0.074180  \n",
      "2   0.082145  0.082285  0.073985  0.073684  0.073477  0.073363  0.073344  \n",
      "3   0.091996  0.091369  0.087419  0.086460  0.085603  0.084846  0.084187  \n",
      "4   0.091418  0.091044  0.086021  0.085272  0.084624  0.084076  0.083627  \n",
      "5   0.090888  0.090768  0.084663  0.084124  0.083685  0.083348  0.083111  \n",
      "6   0.089744  0.088754  0.087860  0.086624  0.085484  0.084438  0.083485  \n",
      "7   0.088982  0.088201  0.086440  0.085384  0.084422  0.083555  0.082779  \n",
      "8   0.088317  0.087746  0.085108  0.084230  0.083446  0.082756  0.082158  \n",
      "9   0.087746  0.087386  0.083859  0.083159  0.082553  0.082040  0.081620  \n",
      "10  0.085108  0.083859  0.085252  0.083832  0.082501  0.081258  0.080098  \n",
      "11  0.084230  0.083159  0.083832  0.082569  0.081395  0.080305  0.079298  \n",
      "12  0.083446  0.082553  0.082501  0.081395  0.080374  0.079437  0.078582  \n",
      "13  0.082756  0.082040  0.081258  0.080305  0.079437  0.078652  0.077949  \n",
      "14  0.082158  0.081620  0.080098  0.079298  0.078582  0.077949  0.077397  \n"
     ]
    }
   ],
   "source": [
    "# Common imports\n",
    "import numpy as np\n",
    "import pandas as pd\n",
    "\n",
    "\n",
    "def FrankeFunction(x,y):\n",
    "\tterm1 = 0.75*np.exp(-(0.25*(9*x-2)**2) - 0.25*((9*y-2)**2))\n",
    "\tterm2 = 0.75*np.exp(-((9*x+1)**2)/49.0 - 0.1*(9*y+1))\n",
    "\tterm3 = 0.5*np.exp(-(9*x-7)**2/4.0 - 0.25*((9*y-3)**2))\n",
    "\tterm4 = -0.2*np.exp(-(9*x-4)**2 - (9*y-7)**2)\n",
    "\treturn term1 + term2 + term3 + term4\n",
    "\n",
    "\n",
    "def create_X(x, y, n ):\n",
    "\tif len(x.shape) > 1:\n",
    "\t\tx = np.ravel(x)\n",
    "\t\ty = np.ravel(y)\n",
    "\n",
    "\tN = len(x)\n",
    "\tl = int((n+1)*(n+2)/2)\t\t# Number of elements in beta\n",
    "\tX = np.ones((N,l))\n",
    "\n",
    "\tfor i in range(1,n+1):\n",
    "\t\tq = int((i)*(i+1)/2)\n",
    "\t\tfor k in range(i+1):\n",
    "\t\t\tX[:,q+k] = (x**(i-k))*(y**k)\n",
    "\n",
    "\treturn X\n",
    "\n",
    "\n",
    "# Making meshgrid of datapoints and compute Franke's function\n",
    "n = 4\n",
    "N = 100\n",
    "x = np.sort(np.random.uniform(0, 1, N))\n",
    "y = np.sort(np.random.uniform(0, 1, N))\n",
    "z = FrankeFunction(x, y)\n",
    "X = create_X(x, y, n=n)    \n",
    "\n",
    "Xpd = pd.DataFrame(X)\n",
    "# subtract the mean values and set up the covariance matrix\n",
    "Xpd = Xpd - Xpd.mean()\n",
    "covariance_matrix = Xpd.cov()\n",
    "print(covariance_matrix)"
   ]
  },
  {
   "cell_type": "markdown",
   "metadata": {},
   "source": [
    "We note here that the covariance is zero for the first rows and\n",
    "columns since all matrix elements in the design matrix were set to one\n",
    "(we are fitting the function in terms of a polynomial of degree $n$). We would however not include the intercept\n",
    "and wee can simply\n",
    "drop these elements and construct a correlation\n",
    "matrix without them. \n",
    "\n",
    "\n",
    "\n",
    "We can rewrite the covariance matrix in a more compact form in terms of the design/feature matrix $\\boldsymbol{X}$ as"
   ]
  },
  {
   "cell_type": "markdown",
   "metadata": {},
   "source": [
    "$$\n",
    "\\boldsymbol{C}[\\boldsymbol{x}] = \\frac{1}{n}\\boldsymbol{X}^T\\boldsymbol{X}= \\mathbb{E}[\\boldsymbol{X}^T\\boldsymbol{X}].\n",
    "$$"
   ]
  },
  {
   "cell_type": "markdown",
   "metadata": {},
   "source": [
    "To see this let us simply look at a design matrix $\\boldsymbol{X}\\in {\\mathbb{R}}^{2\\times 2}$"
   ]
  },
  {
   "cell_type": "markdown",
   "metadata": {},
   "source": [
    "$$\n",
    "\\boldsymbol{X}=\\begin{bmatrix}\n",
    "x_{00} & x_{01}\\\\\n",
    "x_{10} & x_{11}\\\\\n",
    "\\end{bmatrix}=\\begin{bmatrix}\n",
    "\\boldsymbol{x}_{0} & \\boldsymbol{x}_{1}\\\\\n",
    "\\end{bmatrix}.\n",
    "$$"
   ]
  },
  {
   "cell_type": "markdown",
   "metadata": {},
   "source": [
    "If we then compute the expectation value"
   ]
  },
  {
   "cell_type": "markdown",
   "metadata": {},
   "source": [
    "$$\n",
    "\\mathbb{E}[\\boldsymbol{X}^T\\boldsymbol{X}] = \\frac{1}{n}\\boldsymbol{X}^T\\boldsymbol{X}=\\begin{bmatrix}\n",
    "x_{00}^2+x_{01}^2 & x_{00}x_{10}+x_{01}x_{11}\\\\\n",
    "x_{10}x_{00}+x_{11}x_{01} & x_{10}^2+x_{11}^2\\\\\n",
    "\\end{bmatrix},\n",
    "$$"
   ]
  },
  {
   "cell_type": "markdown",
   "metadata": {},
   "source": [
    "which is just"
   ]
  },
  {
   "cell_type": "markdown",
   "metadata": {},
   "source": [
    "$$\n",
    "\\boldsymbol{C}[\\boldsymbol{x}_0,\\boldsymbol{x}_1] = \\boldsymbol{C}[\\boldsymbol{x}]=\\begin{bmatrix} \\mathrm{var}[\\boldsymbol{x}_0] & \\mathrm{cov}[\\boldsymbol{x}_0,\\boldsymbol{x}_1] \\\\\n",
    "                              \\mathrm{cov}[\\boldsymbol{x}_1,\\boldsymbol{x}_0] & \\mathrm{var}[\\boldsymbol{x}_1] \\\\\n",
    "             \\end{bmatrix},\n",
    "$$"
   ]
  },
  {
   "cell_type": "markdown",
   "metadata": {},
   "source": [
    "where we wrote $$\\boldsymbol{C}[\\boldsymbol{x}_0,\\boldsymbol{x}_1] = \\boldsymbol{C}[\\boldsymbol{x}]$$ to indicate that this the covariance of the vectors $\\boldsymbol{x}$ of the design/feature matrix $\\boldsymbol{X}$.\n",
    "\n",
    "It is easy to generalize this to a matrix $\\boldsymbol{X}\\in {\\mathbb{R}}^{n\\times p}$.\n",
    "\n",
    "\n",
    "\n",
    "## Towards the PCA theorem\n",
    "\n",
    "We have that the covariance matrix (the correlation matrix involves a simple rescaling) is given as"
   ]
  },
  {
   "cell_type": "markdown",
   "metadata": {},
   "source": [
    "$$\n",
    "\\boldsymbol{C}[\\boldsymbol{x}] = \\frac{1}{n}\\boldsymbol{X}^T\\boldsymbol{X}= \\mathbb{E}[\\boldsymbol{X}^T\\boldsymbol{X}].\n",
    "$$"
   ]
  },
  {
   "cell_type": "markdown",
   "metadata": {},
   "source": [
    "Let us now assume that we can perform a series of orthogonal transformations where we employ some orthogonal matrices $\\boldsymbol{S}$.\n",
    "These matrices are defined as $\\boldsymbol{S}\\in {\\mathbb{R}}^{p\\times p}$ and obey the orthogonality requirements $\\boldsymbol{S}\\boldsymbol{S}^T=\\boldsymbol{S}^T\\boldsymbol{S}=\\boldsymbol{I}$. The matrix can be written out in terms of the column vectors $\\boldsymbol{s}_i$ as $\\boldsymbol{S}=[\\boldsymbol{s}_0,\\boldsymbol{s}_1,\\dots,\\boldsymbol{s}_{p-1}]$ and $\\boldsymbol{s}_i \\in {\\mathbb{R}}^{p}$.\n",
    "\n",
    "Assume also that there is a transformation $\\boldsymbol{S}^T\\boldsymbol{C}[\\boldsymbol{x}]\\boldsymbol{S}=\\boldsymbol{C}[\\boldsymbol{y}]$ such that the new matrix $\\boldsymbol{C}[\\boldsymbol{y}]$ is diagonal with elements $[\\lambda_0,\\lambda_1,\\lambda_2,\\dots,\\lambda_{p-1}]$.  \n",
    "\n",
    "That is we have"
   ]
  },
  {
   "cell_type": "markdown",
   "metadata": {},
   "source": [
    "$$\n",
    "\\boldsymbol{C}[\\boldsymbol{y}] = \\mathbb{E}[\\boldsymbol{S}^T\\boldsymbol{X}^T\\boldsymbol{X}T\\boldsymbol{S}]=\\boldsymbol{S}^T\\boldsymbol{C}[\\boldsymbol{x}]\\boldsymbol{S},\n",
    "$$"
   ]
  },
  {
   "cell_type": "markdown",
   "metadata": {},
   "source": [
    "since the matrix $\\boldsymbol{S}$ is not a data dependent matrix.   Multiplying with $\\boldsymbol{S}$ from the left we have"
   ]
  },
  {
   "cell_type": "markdown",
   "metadata": {},
   "source": [
    "$$\n",
    "\\boldsymbol{S}\\boldsymbol{C}[\\boldsymbol{y}] = \\boldsymbol{C}[\\boldsymbol{x}]\\boldsymbol{S},\n",
    "$$"
   ]
  },
  {
   "cell_type": "markdown",
   "metadata": {},
   "source": [
    "and since $\\boldsymbol{C}[\\boldsymbol{y}]$ is diagonal we have for a given eigenvalue $i$ of the covariance matrix that"
   ]
  },
  {
   "cell_type": "markdown",
   "metadata": {},
   "source": [
    "$$\n",
    "\\boldsymbol{S}_i\\lambda_i = \\boldsymbol{C}[\\boldsymbol{x}]\\boldsymbol{S}_i.\n",
    "$$"
   ]
  },
  {
   "cell_type": "markdown",
   "metadata": {},
   "source": [
    "In the derivation of the PCA theorem we will assume that the eigenvalues are ordered in descending order, that is\n",
    "$\\lambda_0 > \\lambda_1 > \\dots > \\lambda_{p-1}$. \n",
    "\n",
    "\n",
    "The eigenvalues tell us then how much we need to stretch the\n",
    "corresponding eigenvectors. Dimensions with large eigenvalues have\n",
    "thus large variations (large variance) and define therefore useful\n",
    "dimensions. The data points are more spread out in the direction of\n",
    "these eigenvectors.  Smaller eigenvalues mean on the other hand that\n",
    "the corresponding eigenvectors are shrunk accordingly and the data\n",
    "points are tightly bunched together and there is not much variation in\n",
    "these specific directions. Hopefully then we could leave it out\n",
    "dimensions where the eigenvalues are very small. If $p$ is very large,\n",
    "we could then aim at reducing $p$ to $l << p$ and handle only $l$\n",
    "features/predictors.\n",
    "\n",
    "### The Algorithm before theorem\n",
    "\n",
    "Here's how we would proceed in setting up the algorithm for the PCA, see also discussion below here. \n",
    "* Set up the datapoints for the design/feature matrix $\\boldsymbol{X}$ with $\\boldsymbol{X}\\in {\\mathbb{R}}^{n\\times p}$, with the predictors/features $p$  referring to the column numbers and the entries $n$ being the row elements."
   ]
  },
  {
   "cell_type": "markdown",
   "metadata": {},
   "source": [
    "$$\n",
    "\\boldsymbol{X}=\\begin{bmatrix}\n",
    "x_{0,0} & x_{0,1} & x_{0,2}& \\dots & \\dots x_{0,p-1}\\\\\n",
    "x_{1,0} & x_{1,1} & x_{1,2}& \\dots & \\dots x_{1,p-1}\\\\\n",
    "x_{2,0} & x_{2,1} & x_{2,2}& \\dots & \\dots x_{2,p-1}\\\\\n",
    "\\dots & \\dots & \\dots & \\dots \\dots & \\dots \\\\\n",
    "x_{n-2,0} & x_{n-2,1} & x_{n-2,2}& \\dots & \\dots x_{n-2,p-1}\\\\\n",
    "x_{n-1,0} & x_{n-1,1} & x_{n-1,2}& \\dots & \\dots x_{n-1,p-1}\\\\\n",
    "\\end{bmatrix},\n",
    "$$"
   ]
  },
  {
   "cell_type": "markdown",
   "metadata": {},
   "source": [
    "* Center the data by subtracting the mean value for each column. This leads to a new matrix $\\boldsymbol{X}\\rightarrow \\overline{\\boldsymbol{X}}$.\n",
    "\n",
    "* Compute then the covariance/correlation matrix $\\mathbb{E}[\\overline{\\boldsymbol{X}}^T\\overline{\\boldsymbol{X}}]$.\n",
    "\n",
    "* Find the eigenpairs of $\\boldsymbol{C}$ with eigenvalues $[\\lambda_0,\\lambda_1,\\dots,\\lambda_{p-1}]$ and eigenvectors $[\\boldsymbol{s}_0,\\boldsymbol{s}_1,\\dots,\\boldsymbol{s}_{p-1}]$.\n",
    "\n",
    "* Order the eigenvalue (and the eigenvectors accordingly) in order of decreasing eigenvalues.\n",
    "\n",
    "* Keep only those $l$ eigenvalues larger than a selected threshold value, discarding thus $p-l$ features since we expect small variations in the data here.\n",
    "\n",
    "### Writing our own PCA code\n",
    "\n",
    "We will use a simple example first with two-dimensional data\n",
    "drawn from a multivariate normal distribution with the following mean and covariance matrix (we have fixed these quantities but will play around with them below):"
   ]
  },
  {
   "cell_type": "markdown",
   "metadata": {},
   "source": [
    "$$\n",
    "\\mu = (-1,2) \\qquad \\Sigma = \\begin{bmatrix} 4 & 2 \\\\\n",
    "2 & 2\n",
    "\\end{bmatrix}\n",
    "$$"
   ]
  },
  {
   "cell_type": "markdown",
   "metadata": {},
   "source": [
    "Note that the mean refers to each column of data. \n",
    "We will generate $n = 10000$ points $X = \\{ x_1, \\ldots, x_N \\}$ from\n",
    "this distribution, and store them in the $1000 \\times 2$ matrix $\\boldsymbol{X}$. This is our design matrix where we have forced the covariance and mean values to take specific values.\n",
    "\n",
    "The following Python code aids in setting up the data and writing out the design matrix.\n",
    "Note that the function **multivariate** returns also the covariance discussed above and that it is defined by dividing by $n-1$ instead of $n$."
   ]
  },
  {
   "cell_type": "code",
   "execution_count": 5,
   "metadata": {
    "collapsed": false,
    "editable": true
   },
   "outputs": [],
   "source": [
    "%matplotlib inline\n",
    "\n",
    "import numpy as np\n",
    "import pandas as pd\n",
    "import matplotlib.pyplot as plt\n",
    "from IPython.display import display\n",
    "n = 10000\n",
    "mean = (-1, 2)\n",
    "cov = [[4, 2], [2, 2]]\n",
    "X = np.random.multivariate_normal(mean, cov, n)"
   ]
  },
  {
   "cell_type": "markdown",
   "metadata": {},
   "source": [
    "Now we are going to implement the PCA algorithm. We will break it down into various substeps.\n",
    "\n",
    "\n",
    "The first step of PCA is to compute the sample mean of the data and use it to center the data. Recall that the sample mean is"
   ]
  },
  {
   "cell_type": "markdown",
   "metadata": {},
   "source": [
    "$$\n",
    "\\mu_n = \\frac{1}{n} \\sum_{i=1}^n x_i\n",
    "$$"
   ]
  },
  {
   "cell_type": "markdown",
   "metadata": {},
   "source": [
    "and the mean-centered data $\\bar{X} = \\{ \\bar{x}_1, \\ldots, \\bar{x}_n \\}$ takes the form"
   ]
  },
  {
   "cell_type": "markdown",
   "metadata": {},
   "source": [
    "$$\n",
    "\\bar{x}_i = x_i - \\mu_n.\n",
    "$$"
   ]
  },
  {
   "cell_type": "markdown",
   "metadata": {},
   "source": [
    "When you are done with these steps, print out $\\mu_n$ to verify it is\n",
    "close to $\\mu$ and plot your mean centered data to verify it is\n",
    "centered at the origin! \n",
    "The following code elements perform these operations using **pandas** or using our own functionality for doing so. The latter, using **numpy** is rather simple through the **mean()** function."
   ]
  },
  {
   "cell_type": "code",
   "execution_count": 6,
   "metadata": {
    "collapsed": false,
    "editable": true
   },
   "outputs": [],
   "source": [
    "df = pd.DataFrame(X)\n",
    "# Pandas does the centering for us\n",
    "df = df -df.mean()\n",
    "# we center it ourselves\n",
    "X_centered = X - X.mean(axis=0)"
   ]
  },
  {
   "cell_type": "markdown",
   "metadata": {},
   "source": [
    "Alternatively, we could use the functions we discussed\n",
    "earlier for scaling the data set.  That is, we could have used the\n",
    "**StandardScaler** function in **Scikit-Learn**, a function which ensures\n",
    "that for each feature/predictor we study the mean value is zero and\n",
    "the variance is one (every column in the design/feature matrix).  You\n",
    "would then not get the same results, since we divide by the\n",
    "variance. The diagonal covariance matrix elements will then be one,\n",
    "while the non-diagonal ones need to be divided by $2\\sqrt{2}$ for our\n",
    "specific case.\n",
    "\n",
    "\n",
    "Now we are going to use the mean centered data to compute the sample covariance of the data by using the following equation"
   ]
  },
  {
   "cell_type": "markdown",
   "metadata": {},
   "source": [
    "$$\n",
    "\\Sigma_n = \\frac{1}{n-1} \\sum_{i=1}^n \\bar{x}_i^T \\bar{x}_i = \\frac{1}{n-1} \\sum_{i=1}^n (x_i - \\mu_n)^T (x_i - \\mu_n)\n",
    "$$"
   ]
  },
  {
   "cell_type": "markdown",
   "metadata": {},
   "source": [
    "where the data points $x_i \\in \\mathbb{R}^p$ (here in this example $p = 2$) are column vectors and $x^T$ is the transpose of $x$.\n",
    "We can write our own code or simply use either the functionaly of **numpy** or that of **pandas**, as follows"
   ]
  },
  {
   "cell_type": "code",
   "execution_count": 7,
   "metadata": {
    "collapsed": false,
    "editable": true
   },
   "outputs": [
    {
     "name": "stdout",
     "output_type": "stream",
     "text": [
      "          0         1\n",
      "0  3.956454  1.972286\n",
      "1  1.972286  1.977089\n",
      "[[3.95645365 1.97228638]\n",
      " [1.97228638 1.97708897]]\n"
     ]
    }
   ],
   "source": [
    "print(df.cov())\n",
    "print(np.cov(X_centered.T))"
   ]
  },
  {
   "cell_type": "markdown",
   "metadata": {},
   "source": [
    "Note that the way we define the covariance matrix here has a factor $n-1$ instead of $n$. This is included in the **cov()** function by **numpy** and **pandas**. \n",
    "Our own code here is not very elegant and asks for obvious improvements. It is tailored to this specific $2\\times 2$ covariance matrix."
   ]
  },
  {
   "cell_type": "code",
   "execution_count": 8,
   "metadata": {
    "collapsed": false,
    "editable": true
   },
   "outputs": [
    {
     "name": "stdout",
     "output_type": "stream",
     "text": [
      "Centered covariance using own code\n",
      "[[3.95645365 1.97228638]\n",
      " [1.97228638 1.97708897]]\n"
     ]
    },
    {
     "data": {
      "image/png": "[encoded data removed]",
      "text/plain": [
       "<Figure size 640x480 with 1 Axes>"
      ]
     },
     "metadata": {
      "filenames": {
       "image/png": "/Users/mhjensen/Teaching/MachineLearning/doc/LectureNotes/_build/jupyter_execute/chapter8_65_1.png"
      }
     },
     "output_type": "display_data"
    }
   ],
   "source": [
    "# extract the relevant columns from the centered design matrix of dim n x 2\n",
    "x = X_centered[:,0]\n",
    "y = X_centered[:,1]\n",
    "Cov = np.zeros((2,2))\n",
    "Cov[0,1] = np.sum(x.T@y)/(n-1.0)\n",
    "Cov[0,0] = np.sum(x.T@x)/(n-1.0)\n",
    "Cov[1,1] = np.sum(y.T@y)/(n-1.0)\n",
    "Cov[1,0]= Cov[0,1]\n",
    "print(\"Centered covariance using own code\")\n",
    "print(Cov)\n",
    "plt.plot(x, y, 'x')\n",
    "plt.axis('equal')\n",
    "plt.show()"
   ]
  },
  {
   "cell_type": "markdown",
   "metadata": {},
   "source": [
    "Depending on the number of points $n$, we will get results that are close to the covariance values defined above.\n",
    "The plot shows how the data are clustered around a line with slope close to one. Is this expected?  Try to change the covariance and the mean values. For example, try to make the variance of the first element much larger than that of the second diagonal element. Try also to shrink the covariance  (the non-diagonal elements) and see how the data points are distributed. \n",
    "\n",
    "### Diagonalize the sample covariance matrix to obtain the principal components\n",
    "\n",
    "Now we are ready to solve for the principal components! To do so we\n",
    "diagonalize the sample covariance matrix $\\Sigma$. We can use the\n",
    "function **np.linalg.eig** to do so. It will return the eigenvalues and\n",
    "eigenvectors of $\\Sigma$. Once we have these we can perform the \n",
    "following tasks:\n",
    "\n",
    "* We compute the percentage of the total variance captured by the first principal component\n",
    "\n",
    "* We plot the mean centered data and lines along the first and second principal components\n",
    "\n",
    "* Then we project the mean centered data onto the first and second principal components, and plot the projected data. \n",
    "\n",
    "* Finally, we approximate the data as"
   ]
  },
  {
   "cell_type": "markdown",
   "metadata": {},
   "source": [
    "$$\n",
    "x_i \\approx \\tilde{x}_i = \\mu_n + \\langle x_i, v_0 \\rangle v_0\n",
    "$$"
   ]
  },
  {
   "cell_type": "markdown",
   "metadata": {},
   "source": [
    "where $v_0$ is the first principal component. \n",
    "\n",
    "Collecting all these steps we can write our own PCA function and\n",
    "compare this with the functionality included in **Scikit-Learn**.  \n",
    "\n",
    "The code here outlines some of the elements we could include in the\n",
    "analysis. Feel free to extend upon this in order to address the above\n",
    "questions."
   ]
  },
  {
   "cell_type": "code",
   "execution_count": 9,
   "metadata": {
    "collapsed": false,
    "editable": true
   },
   "outputs": [
    {
     "name": "stdout",
     "output_type": "stream",
     "text": [
      "Eigenvalues of Covariance matrix\n",
      "5.173439546289586\n",
      "0.7601030735620569\n",
      "First eigenvector\n",
      "[0.85102768 0.52512084]\n",
      "Second eigenvector\n",
      "[-0.52512084  0.85102768]\n"
     ]
    },
    {
     "name": "stdout",
     "output_type": "stream",
     "text": [
      "Eigenvector of largest eigenvalue\n",
      "[-0.85102768 -0.52512084]\n"
     ]
    }
   ],
   "source": [
    "# diagonalize and obtain eigenvalues, not necessarily sorted\n",
    "EigValues, EigVectors = np.linalg.eig(Cov)\n",
    "# sort eigenvectors and eigenvalues\n",
    "#permute = EigValues.argsort()\n",
    "#EigValues = EigValues[permute]\n",
    "#EigVectors = EigVectors[:,permute]\n",
    "print(\"Eigenvalues of Covariance matrix\")\n",
    "for i in range(2):\n",
    "    print(EigValues[i])\n",
    "FirstEigvector = EigVectors[:,0]\n",
    "SecondEigvector = EigVectors[:,1]\n",
    "print(\"First eigenvector\")\n",
    "print(FirstEigvector)\n",
    "print(\"Second eigenvector\")\n",
    "print(SecondEigvector)\n",
    "#thereafter we do a PCA with Scikit-learn\n",
    "from sklearn.decomposition import PCA\n",
    "pca = PCA(n_components = 2)\n",
    "X2Dsl = pca.fit_transform(X)\n",
    "print(\"Eigenvector of largest eigenvalue\")\n",
    "print(pca.components_.T[:, 0])"
   ]
  },
  {
   "cell_type": "markdown",
   "metadata": {},
   "source": [
    "This code does not contain all the above elements, but it shows how we can use **Scikit-Learn** to extract the eigenvector which corresponds to the largest eigenvalue. Try to address the questions we pose before the above code.  Try also to change the values of the covariance matrix by making one of the diagonal elements much larger than the other. What do you observe then? \n",
    "\n",
    "\n",
    "## Classical PCA Theorem\n",
    "\n",
    "We assume now that we have a design matrix $\\boldsymbol{X}$ which has been\n",
    "centered as discussed above. For the sake of simplicity we skip the\n",
    "overline symbol. The matrix is defined in terms of the various column\n",
    "vectors $[\\boldsymbol{x}_0,\\boldsymbol{x}_1,\\dots, \\boldsymbol{x}_{p-1}]$ each with dimension\n",
    "$\\boldsymbol{x}\\in {\\mathbb{R}}^{n}$.\n",
    "\n",
    "\n",
    "\n",
    "The PCA theorem states that minimizing the above reconstruction error\n",
    "corresponds to setting $\\boldsymbol{W}=\\boldsymbol{S}$, the orthogonal matrix which\n",
    "diagonalizes the empirical covariance(correlation) matrix. The optimal\n",
    "low-dimensional encoding of the data is then given by a set of vectors\n",
    "$\\boldsymbol{z}_i$ with at most $l$ vectors, with $l << p$, defined by the\n",
    "orthogonal projection of the data onto the columns spanned by the\n",
    "eigenvectors of the covariance(correlations matrix).\n",
    "\n",
    "\n",
    "\n",
    "\n",
    "To show the PCA theorem let us start with the assumption that there is one vector $\\boldsymbol{s}_0$ which corresponds to a solution which minimized the reconstruction error $J$. This is an orthogonal vector. It means that we now approximate the reconstruction error in terms of $\\boldsymbol{w}_0$ and $\\boldsymbol{z}_0$ as\n",
    "\n",
    "\n",
    "\n",
    "We are almost there, we have obtained a relation between minimizing\n",
    "the reconstruction error and the variance and the covariance\n",
    "matrix. Minimizing the error is equivalent to maximizing the variance\n",
    "of the projected data.\n",
    "\n",
    "\n",
    "We could trivially maximize the variance of the projection (and\n",
    "thereby minimize the error in the reconstruction function) by letting\n",
    "the norm-2 of $\\boldsymbol{w}_0$ go to infinity. However, this norm since we\n",
    "want the matrix $\\boldsymbol{W}$ to be an orthogonal matrix, is constrained by\n",
    "$\\vert\\vert \\boldsymbol{w}_0 \\vert\\vert_2^2=1$. Imposing this condition via a\n",
    "Lagrange multiplier we can then in turn maximize"
   ]
  },
  {
   "cell_type": "markdown",
   "metadata": {},
   "source": [
    "$$\n",
    "J(\\boldsymbol{w}_0)= \\boldsymbol{w}_0^T\\boldsymbol{C}[\\boldsymbol{x}]\\boldsymbol{w}_0+\\lambda_0(1-\\boldsymbol{w}_0^T\\boldsymbol{w}_0).\n",
    "$$"
   ]
  },
  {
   "cell_type": "markdown",
   "metadata": {},
   "source": [
    "Taking the derivative with respect to $\\boldsymbol{w}_0$ we obtain"
   ]
  },
  {
   "cell_type": "markdown",
   "metadata": {},
   "source": [
    "$$\n",
    "\\frac{\\partial J(\\boldsymbol{w}_0)}{\\partial \\boldsymbol{w}_0}= 2\\boldsymbol{C}[\\boldsymbol{x}]\\boldsymbol{w}_0-2\\lambda_0\\boldsymbol{w}_0=0,\n",
    "$$"
   ]
  },
  {
   "cell_type": "markdown",
   "metadata": {},
   "source": [
    "meaning that"
   ]
  },
  {
   "cell_type": "markdown",
   "metadata": {},
   "source": [
    "$$\n",
    "\\boldsymbol{C}[\\boldsymbol{x}]\\boldsymbol{w}_0=\\lambda_0\\boldsymbol{w}_0.\n",
    "$$"
   ]
  },
  {
   "cell_type": "markdown",
   "metadata": {},
   "source": [
    "**The direction that maximizes the variance (or minimizes the construction error) is an eigenvector of the covariance matrix**! If we left multiply with $\\boldsymbol{w}_0^T$ we have the variance of the projected data is"
   ]
  },
  {
   "cell_type": "markdown",
   "metadata": {},
   "source": [
    "$$\n",
    "\\boldsymbol{w}_0^T\\boldsymbol{C}[\\boldsymbol{x}]\\boldsymbol{w}_0=\\lambda_0.\n",
    "$$"
   ]
  },
  {
   "cell_type": "markdown",
   "metadata": {},
   "source": [
    "If we want to maximize the variance (minimize the construction error)\n",
    "we simply pick the eigenvector of the covariance matrix with the\n",
    "largest eigenvalue. This establishes the link between the minimization\n",
    "of the reconstruction function $J$ in terms of an orthogonal matrix\n",
    "and the maximization of the variance and thereby the covariance of our\n",
    "observations encoded in the design/feature matrix $\\boldsymbol{X}$.\n",
    "\n",
    "The proof\n",
    "for the other eigenvectors $\\boldsymbol{w}_1,\\boldsymbol{w}_2,\\dots$ can be\n",
    "established by applying the above arguments and using the fact that\n",
    "our basis of eigenvectors is orthogonal, see [Murphy chapter\n",
    "12.2](https://mitpress.mit.edu/books/machine-learning-1).  The\n",
    "discussion in chapter 12.2 of Murphy's text has also a nice link with\n",
    "the Singular Value Decomposition theorem. For categorical data, see\n",
    "chapter 12.4 and discussion therein.\n",
    "\n",
    "For more details, see for example [Vidal, Ma and Sastry, chapter 2](https://www.springer.com/gp/book/9780387878102).\n",
    "\n",
    "\n",
    "## Geometric Interpretation and link with Singular Value Decomposition\n",
    "\n",
    "For a detailed demonstration of the geometric interpretation, see [Vidal, Ma and Sastry, section 2.1.2](https://www.springer.com/gp/book/9780387878102).\n",
    "\n",
    "\n",
    "Principal Component Analysis (PCA) is by far the most popular dimensionality reduction algorithm.\n",
    "First it identifies the hyperplane that lies closest to the data, and then it projects the data onto it.\n",
    "\n",
    "The following Python code uses NumPy’s **svd()** function to obtain all the principal components of the\n",
    "training set, then extracts the first two principal components. First we center the data using either **pandas** or our own code"
   ]
  },
  {
   "cell_type": "code",
   "execution_count": 10,
   "metadata": {
    "collapsed": false,
    "editable": true
   },
   "outputs": [
    {
     "data": {
      "text/html": [
       "<div>\n",
       "<style scoped>\n",
       "    .dataframe tbody tr th:only-of-type {\n",
       "        vertical-align: middle;\n",
       "    }\n",
       "\n",
       "    .dataframe tbody tr th {\n",
       "        vertical-align: top;\n",
       "    }\n",
       "\n",
       "    .dataframe thead th {\n",
       "        text-align: right;\n",
       "    }\n",
       "</style>\n",
       "<table border=\"1\" class=\"dataframe\">\n",
       "  <thead>\n",
       "    <tr style=\"text-align: right;\">\n",
       "      <th></th>\n",
       "      <th>0</th>\n",
       "      <th>1</th>\n",
       "      <th>2</th>\n",
       "      <th>3</th>\n",
       "      <th>4</th>\n",
       "    </tr>\n",
       "  </thead>\n",
       "  <tbody>\n",
       "    <tr>\n",
       "      <th>0</th>\n",
       "      <td>-1.574465</td>\n",
       "      <td>0.259153</td>\n",
       "      <td>1.197370</td>\n",
       "      <td>0.147400</td>\n",
       "      <td>0.649382</td>\n",
       "    </tr>\n",
       "    <tr>\n",
       "      <th>1</th>\n",
       "      <td>0.689519</td>\n",
       "      <td>0.137652</td>\n",
       "      <td>-1.025709</td>\n",
       "      <td>0.210340</td>\n",
       "      <td>-0.076938</td>\n",
       "    </tr>\n",
       "    <tr>\n",
       "      <th>2</th>\n",
       "      <td>-0.282727</td>\n",
       "      <td>0.351636</td>\n",
       "      <td>-0.539261</td>\n",
       "      <td>1.216683</td>\n",
       "      <td>0.340782</td>\n",
       "    </tr>\n",
       "    <tr>\n",
       "      <th>3</th>\n",
       "      <td>0.070889</td>\n",
       "      <td>-0.614808</td>\n",
       "      <td>1.074067</td>\n",
       "      <td>-0.038300</td>\n",
       "      <td>-1.450257</td>\n",
       "    </tr>\n",
       "    <tr>\n",
       "      <th>4</th>\n",
       "      <td>1.794282</td>\n",
       "      <td>1.458078</td>\n",
       "      <td>-0.207545</td>\n",
       "      <td>-0.442600</td>\n",
       "      <td>-0.147420</td>\n",
       "    </tr>\n",
       "    <tr>\n",
       "      <th>5</th>\n",
       "      <td>1.112383</td>\n",
       "      <td>0.647473</td>\n",
       "      <td>1.405890</td>\n",
       "      <td>0.073598</td>\n",
       "      <td>-0.276263</td>\n",
       "    </tr>\n",
       "    <tr>\n",
       "      <th>6</th>\n",
       "      <td>0.397700</td>\n",
       "      <td>-1.526744</td>\n",
       "      <td>-0.712018</td>\n",
       "      <td>1.216290</td>\n",
       "      <td>0.418506</td>\n",
       "    </tr>\n",
       "    <tr>\n",
       "      <th>7</th>\n",
       "      <td>-0.280647</td>\n",
       "      <td>1.106095</td>\n",
       "      <td>-1.646283</td>\n",
       "      <td>-0.956563</td>\n",
       "      <td>-1.564374</td>\n",
       "    </tr>\n",
       "    <tr>\n",
       "      <th>8</th>\n",
       "      <td>-0.369139</td>\n",
       "      <td>-0.751699</td>\n",
       "      <td>0.051649</td>\n",
       "      <td>-0.213103</td>\n",
       "      <td>0.967809</td>\n",
       "    </tr>\n",
       "    <tr>\n",
       "      <th>9</th>\n",
       "      <td>-1.557795</td>\n",
       "      <td>-1.066837</td>\n",
       "      <td>0.401842</td>\n",
       "      <td>-1.213743</td>\n",
       "      <td>1.138775</td>\n",
       "    </tr>\n",
       "  </tbody>\n",
       "</table>\n",
       "</div>"
      ],
      "text/plain": [
       "          0         1         2         3         4\n",
       "0 -1.574465  0.259153  1.197370  0.147400  0.649382\n",
       "1  0.689519  0.137652 -1.025709  0.210340 -0.076938\n",
       "2 -0.282727  0.351636 -0.539261  1.216683  0.340782\n",
       "3  0.070889 -0.614808  1.074067 -0.038300 -1.450257\n",
       "4  1.794282  1.458078 -0.207545 -0.442600 -0.147420\n",
       "5  1.112383  0.647473  1.405890  0.073598 -0.276263\n",
       "6  0.397700 -1.526744 -0.712018  1.216290  0.418506\n",
       "7 -0.280647  1.106095 -1.646283 -0.956563 -1.564374\n",
       "8 -0.369139 -0.751699  0.051649 -0.213103  0.967809\n",
       "9 -1.557795 -1.066837  0.401842 -1.213743  1.138775"
      ]
     },
     "metadata": {},
     "output_type": "display_data"
    },
    {
     "name": "stdout",
     "output_type": "stream",
     "text": [
      "     0    1    2    3    4\n",
      "0  0.0  0.0  0.0  0.0  0.0\n",
      "1  0.0  0.0  0.0  0.0  0.0\n",
      "2  0.0  0.0  0.0  0.0  0.0\n",
      "3  0.0  0.0  0.0  0.0  0.0\n",
      "4  0.0  0.0  0.0  0.0  0.0\n",
      "5  0.0  0.0  0.0  0.0  0.0\n",
      "6  0.0  0.0  0.0  0.0  0.0\n",
      "7  0.0  0.0  0.0  0.0  0.0\n",
      "8  0.0  0.0  0.0  0.0  0.0\n",
      "9  0.0  0.0  0.0  0.0  0.0\n",
      "[[-1.5378811   0.94639099]\n",
      " [ 0.86145244 -0.89288636]\n",
      " [-0.00445655 -0.81633628]\n",
      " [ 0.07145103  1.00433417]\n",
      " [ 2.03707133  0.48476997]\n",
      " [ 0.72174172  1.4557763 ]\n",
      " [-0.55854694 -1.60673226]\n",
      " [ 1.6999536  -0.43766686]\n",
      " [-1.10405456 -0.31718909]\n",
      " [-2.18673098  0.17953942]]\n"
     ]
    }
   ],
   "source": [
    "import numpy as np\n",
    "import pandas as pd\n",
    "from IPython.display import display\n",
    "np.random.seed(100)\n",
    "# setting up a 10 x 5 vanilla matrix \n",
    "rows = 10\n",
    "cols = 5\n",
    "X = np.random.randn(rows,cols)\n",
    "df = pd.DataFrame(X)\n",
    "# Pandas does the centering for us\n",
    "df = df -df.mean()\n",
    "display(df)\n",
    "\n",
    "# we center it ourselves\n",
    "X_centered = X - X.mean(axis=0)\n",
    "# Then check the difference between pandas and our own set up\n",
    "print(X_centered-df)\n",
    "#Now we do an SVD\n",
    "U, s, V = np.linalg.svd(X_centered)\n",
    "c1 = V.T[:, 0]\n",
    "c2 = V.T[:, 1]\n",
    "W2 = V.T[:, :2]\n",
    "X2D = X_centered.dot(W2)\n",
    "print(X2D)"
   ]
  },
  {
   "cell_type": "markdown",
   "metadata": {},
   "source": [
    "PCA assumes that the dataset is centered around the origin. Scikit-Learn’s PCA classes take care of centering\n",
    "the data for you. However, if you implement PCA yourself (as in the preceding example), or if you use other libraries, don’t\n",
    "forget to center the data first.\n",
    "\n",
    "Once you have identified all the principal components, you can reduce the dimensionality of the dataset\n",
    "down to $d$ dimensions by projecting it onto the hyperplane defined by the first $d$ principal components.\n",
    "Selecting this hyperplane ensures that the projection will preserve as much variance as possible."
   ]
  },
  {
   "cell_type": "code",
   "execution_count": 11,
   "metadata": {
    "collapsed": false,
    "editable": true
   },
   "outputs": [],
   "source": [
    "W2 = V.T[:, :2]\n",
    "X2D = X_centered.dot(W2)"
   ]
  },
  {
   "cell_type": "markdown",
   "metadata": {},
   "source": [
    "## PCA and scikit-learn\n",
    "\n",
    "Scikit-Learn’s PCA class implements PCA using SVD decomposition just like we did before. The\n",
    "following code applies PCA to reduce the dimensionality of the dataset down to two dimensions (note\n",
    "that it automatically takes care of centering the data):"
   ]
  },
  {
   "cell_type": "code",
   "execution_count": 12,
   "metadata": {
    "collapsed": false,
    "editable": true
   },
   "outputs": [
    {
     "name": "stdout",
     "output_type": "stream",
     "text": [
      "[[ 1.5378811  -0.94639099]\n",
      " [-0.86145244  0.89288636]\n",
      " [ 0.00445655  0.81633628]\n",
      " [-0.07145103 -1.00433417]\n",
      " [-2.03707133 -0.48476997]\n",
      " [-0.72174172 -1.4557763 ]\n",
      " [ 0.55854694  1.60673226]\n",
      " [-1.6999536   0.43766686]\n",
      " [ 1.10405456  0.31718909]\n",
      " [ 2.18673098 -0.17953942]]\n"
     ]
    }
   ],
   "source": [
    "#thereafter we do a PCA with Scikit-learn\n",
    "from sklearn.decomposition import PCA\n",
    "pca = PCA(n_components = 2)\n",
    "X2D = pca.fit_transform(X)\n",
    "print(X2D)"
   ]
  },
  {
   "cell_type": "markdown",
   "metadata": {},
   "source": [
    "After fitting the PCA transformer to the dataset, you can access the principal components using the\n",
    "components variable (note that it contains the PCs as horizontal vectors, so, for example, the first\n",
    "principal component is equal to"
   ]
  },
  {
   "cell_type": "code",
   "execution_count": 13,
   "metadata": {
    "collapsed": false,
    "editable": true
   },
   "outputs": [
    {
     "data": {
      "text/plain": [
       "array([-0.62373464, -0.5303329 ,  0.317367  ,  0.01873344,  0.47815203])"
      ]
     },
     "execution_count": 13,
     "metadata": {},
     "output_type": "execute_result"
    }
   ],
   "source": [
    "pca.components_.T[:, 0]"
   ]
  },
  {
   "cell_type": "markdown",
   "metadata": {},
   "source": [
    "Another very useful piece of information is the explained variance ratio of each principal component,\n",
    "available via the $explained\\_variance\\_ratio$ variable. It indicates the proportion of the dataset’s\n",
    "variance that lies along the axis of each principal component. \n",
    "\n",
    "## Back to the Cancer Data\n",
    "We can now repeat the above but applied to real data, in this case our breast cancer data.\n",
    "Here we compute performance scores on the training data using logistic regression."
   ]
  },
  {
   "cell_type": "code",
   "execution_count": 14,
   "metadata": {
    "collapsed": false,
    "editable": true
   },
   "outputs": [
    {
     "name": "stdout",
     "output_type": "stream",
     "text": [
      "Train set accuracy from Logistic Regression: 0.95\n",
      "Train set accuracy scaled data: 0.99\n",
      "Train set accuracy scaled and PCA data: 0.96\n"
     ]
    },
    {
     "name": "stderr",
     "output_type": "stream",
     "text": [
      "/Users/mhjensen/miniforge3/envs/myenv/lib/python3.9/site-packages/sklearn/linear_model/_logistic.py:814: ConvergenceWarning: lbfgs failed to converge (status=1):\n",
      "STOP: TOTAL NO. of ITERATIONS REACHED LIMIT.\n",
      "\n",
      "Increase the number of iterations (max_iter) or scale the data as shown in:\n",
      "    https://scikit-learn.org/stable/modules/preprocessing.html\n",
      "Please also refer to the documentation for alternative solver options:\n",
      "    https://scikit-learn.org/stable/modules/linear_model.html#logistic-regression\n",
      "  n_iter_i = _check_optimize_result(\n"
     ]
    }
   ],
   "source": [
    "import matplotlib.pyplot as plt\n",
    "import numpy as np\n",
    "from sklearn.model_selection import  train_test_split \n",
    "from sklearn.datasets import load_breast_cancer\n",
    "from sklearn.linear_model import LogisticRegression\n",
    "cancer = load_breast_cancer()\n",
    "\n",
    "X_train, X_test, y_train, y_test = train_test_split(cancer.data,cancer.target,random_state=0)\n",
    "\n",
    "logreg = LogisticRegression()\n",
    "logreg.fit(X_train, y_train)\n",
    "print(\"Train set accuracy from Logistic Regression: {:.2f}\".format(logreg.score(X_train,y_train)))\n",
    "# We scale the data\n",
    "from sklearn.preprocessing import StandardScaler\n",
    "scaler = StandardScaler()\n",
    "scaler.fit(X_train)\n",
    "X_train_scaled = scaler.transform(X_train)\n",
    "X_test_scaled = scaler.transform(X_test)\n",
    "# Then perform again a log reg fit\n",
    "logreg.fit(X_train_scaled, y_train)\n",
    "print(\"Train set accuracy scaled data: {:.2f}\".format(logreg.score(X_train_scaled,y_train)))\n",
    "#thereafter we do a PCA with Scikit-learn\n",
    "from sklearn.decomposition import PCA\n",
    "pca = PCA(n_components = 2)\n",
    "X2D_train = pca.fit_transform(X_train_scaled)\n",
    "# and finally compute the log reg fit and the score on the training data\t\n",
    "logreg.fit(X2D_train,y_train)\n",
    "print(\"Train set accuracy scaled and PCA data: {:.2f}\".format(logreg.score(X2D_train,y_train)))"
   ]
  },
  {
   "cell_type": "markdown",
   "metadata": {},
   "source": [
    "We see that our training data after the PCA decomposition has a performance similar to the non-scaled data. \n",
    "\n",
    "\n",
    "Instead of arbitrarily choosing the number of dimensions to reduce down to, it is generally preferable to\n",
    "choose the number of dimensions that add up to a sufficiently large portion of the variance (e.g., 95%).\n",
    "Unless, of course, you are reducing dimensionality for data visualization — in that case you will\n",
    "generally want to reduce the dimensionality down to 2 or 3.\n",
    "The following code computes PCA without reducing dimensionality, then computes the minimum number\n",
    "of dimensions required to preserve 95% of the training set’s variance:"
   ]
  },
  {
   "cell_type": "code",
   "execution_count": 15,
   "metadata": {
    "collapsed": false,
    "editable": true
   },
   "outputs": [],
   "source": [
    "pca = PCA()\n",
    "pca.fit(X)\n",
    "cumsum = np.cumsum(pca.explained_variance_ratio_)\n",
    "d = np.argmax(cumsum >= 0.95) + 1"
   ]
  },
  {
   "cell_type": "markdown",
   "metadata": {},
   "source": [
    "You could then set $n\\_components=d$ and run PCA again. However, there is a much better option: instead\n",
    "of specifying the number of principal components you want to preserve, you can set $n\\_components$ to be\n",
    "a float between 0.0 and 1.0, indicating the ratio of variance you wish to preserve:"
   ]
  },
  {
   "cell_type": "code",
   "execution_count": 16,
   "metadata": {
    "collapsed": false,
    "editable": true
   },
   "outputs": [],
   "source": [
    "pca = PCA(n_components=0.95)\n",
    "X_reduced = pca.fit_transform(X)"
   ]
  },
  {
   "cell_type": "markdown",
   "metadata": {},
   "source": [
    "### Incremental PCA\n",
    "\n",
    "One problem with the preceding implementation of PCA is that it requires the whole training set to fit in\n",
    "memory in order for the SVD algorithm to run. Fortunately, Incremental PCA (IPCA) algorithms have\n",
    "been developed: you can split the training set into mini-batches and feed an IPCA algorithm one minibatch\n",
    "at a time. This is useful for large training sets, and also to apply PCA online (i.e., on the fly, as new\n",
    "instances arrive).\n",
    "\n",
    "\n",
    "### Randomized PCA\n",
    "\n",
    "Scikit-Learn offers yet another option to perform PCA, called Randomized PCA. This is a stochastic\n",
    "algorithm that quickly finds an approximation of the first d principal components. Its computational\n",
    "complexity is $O(m \\times d^2)+O(d^3)$, instead of $O(m \\times n^2) + O(n^3)$, so it is dramatically faster than the\n",
    "previous algorithms when $d$ is much smaller than $n$.\n",
    "\n",
    "\n",
    "### Kernel PCA\n",
    "\n",
    "The kernel trick is a mathematical technique that implicitly maps instances into a\n",
    "very high-dimensional space (called the feature space), enabling nonlinear classification and regression\n",
    "with Support Vector Machines. Recall that a linear decision boundary in the high-dimensional feature\n",
    "space corresponds to a complex nonlinear decision boundary in the original space.\n",
    "It turns out that the same trick can be applied to PCA, making it possible to perform complex nonlinear\n",
    "projections for dimensionality reduction. This is called Kernel PCA (kPCA). It is often good at\n",
    "preserving clusters of instances after projection, or sometimes even unrolling datasets that lie close to a\n",
    "twisted manifold.\n",
    "For example, the following code uses Scikit-Learn’s KernelPCA class to perform kPCA with an"
   ]
  },
  {
   "cell_type": "code",
   "execution_count": 17,
   "metadata": {
    "collapsed": false,
    "editable": true
   },
   "outputs": [],
   "source": [
    "from sklearn.decomposition import KernelPCA\n",
    "rbf_pca = KernelPCA(n_components = 2, kernel=\"rbf\", gamma=0.04)\n",
    "X_reduced = rbf_pca.fit_transform(X)"
   ]
  },
  {
   "cell_type": "markdown",
   "metadata": {},
   "source": [
    "## Other techniques\n",
    "\n",
    "\n",
    "There are many other dimensionality reduction techniques, several of which are available in Scikit-Learn.\n",
    "\n",
    "Here are some of the most popular:\n",
    "* **Multidimensional Scaling (MDS)** reduces dimensionality while trying to preserve the distances between the instances.\n",
    "\n",
    "* **Isomap** creates a graph by connecting each instance to its nearest neighbors, then reduces dimensionality while trying to preserve the geodesic distances between the instances.\n",
    "\n",
    "* **t-Distributed Stochastic Neighbor Embedding** (t-SNE) reduces dimensionality while trying to keep similar instances close and dissimilar instances apart. It is mostly used for visualization, in particular to visualize clusters of instances in high-dimensional space (e.g., to visualize the MNIST images in 2D).\n",
    "\n",
    "* Linear Discriminant Analysis (LDA) is actually a classification algorithm, but during training it learns the most discriminative axes between the classes, and these axes can then be used to define a hyperplane onto which to project the data. The benefit is that the projection will keep classes as far apart as possible, so LDA is a good technique to reduce dimensionality before running another classification algorithm such as a Support Vector Machine (SVM) classifier discussed in the SVM lectures."
   ]
  }
 ],
 "metadata": {
  "language_info": {
   "codemirror_mode": {
    "name": "ipython",
    "version": 3
   },
   "file_extension": ".py",
   "mimetype": "text/x-python",
   "name": "python",
   "nbconvert_exporter": "python",
   "pygments_lexer": "ipython3",
   "version": "3.9.10"
  }
 },
 "nbformat": 4,
 "nbformat_minor": 4
}